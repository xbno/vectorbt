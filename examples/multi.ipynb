{
 "cells": [
  {
   "cell_type": "code",
   "execution_count": 249,
   "metadata": {},
   "outputs": [],
   "source": [
    "import os\n",
    "import numpy as np\n",
    "import pandas as pd\n",
    "import yfinance as yf\n",
    "from datetime import datetime\n",
    "# os.environ['NUMBA_DISABLE_JIT'] = '1'  # uncomment this if you want to use pypfopt within simulation\n",
    "from numba import njit\n",
    "import re\n",
    "\n",
    "# from pypfopt.efficient_frontier import EfficientFrontier\n",
    "# from pypfopt import risk_models\n",
    "# from pypfopt import expected_returns\n",
    "# from pypfopt import base_optimizer\n",
    "\n",
    "import vectorbt as vbt\n",
    "from vectorbt.generic.nb import nanmean_nb\n",
    "from vectorbt.portfolio.nb import create_order_nb, auto_call_seq_ctx_nb\n",
    "from vectorbt.portfolio.enums import SizeType, Direction"
   ]
  },
  {
   "cell_type": "code",
   "execution_count": 423,
   "metadata": {},
   "outputs": [],
   "source": [
    "df = pd.read_csv('/Users/xbno/Downloads/leftjoin.csv')\n",
    "df['oc_hx_date'] = pd.to_datetime(df['oc_hx_date'])\n",
    "df['s_hx_date'] = pd.to_datetime(df['s_hx_date'])\n",
    "df.set_index([\"oc_hx_date\", \"oc_hx_contract_symbol\"], inplace=True)\n",
    "df = df.sort_index()"
   ]
  },
  {
   "cell_type": "code",
   "execution_count": 490,
   "metadata": {},
   "outputs": [
    {
     "data": {
      "text/html": [
       "<div>\n",
       "<style scoped>\n",
       "    .dataframe tbody tr th:only-of-type {\n",
       "        vertical-align: middle;\n",
       "    }\n",
       "\n",
       "    .dataframe tbody tr th {\n",
       "        vertical-align: top;\n",
       "    }\n",
       "\n",
       "    .dataframe thead th {\n",
       "        text-align: right;\n",
       "    }\n",
       "</style>\n",
       "<table border=\"1\" class=\"dataframe\">\n",
       "  <thead>\n",
       "    <tr style=\"text-align: right;\">\n",
       "      <th></th>\n",
       "      <th></th>\n",
       "      <th>oc_hx_symbol</th>\n",
       "      <th>oc_hx_hi</th>\n",
       "      <th>oc_hx_lo</th>\n",
       "      <th>oc_hx_open</th>\n",
       "      <th>oc_hx_close</th>\n",
       "      <th>s_hx_symbol</th>\n",
       "      <th>s_hx_hi</th>\n",
       "      <th>s_hx_lo</th>\n",
       "      <th>s_hx_open</th>\n",
       "      <th>s_hx_close</th>\n",
       "      <th>s_hx_date</th>\n",
       "    </tr>\n",
       "    <tr>\n",
       "      <th>oc_hx_date</th>\n",
       "      <th>oc_hx_contract_symbol</th>\n",
       "      <th></th>\n",
       "      <th></th>\n",
       "      <th></th>\n",
       "      <th></th>\n",
       "      <th></th>\n",
       "      <th></th>\n",
       "      <th></th>\n",
       "      <th></th>\n",
       "      <th></th>\n",
       "      <th></th>\n",
       "      <th></th>\n",
       "    </tr>\n",
       "  </thead>\n",
       "  <tbody>\n",
       "    <tr>\n",
       "      <th rowspan=\"2\" valign=\"top\">2019-01-02</th>\n",
       "      <th>FEYE210115C00015000</th>\n",
       "      <td>FEYE</td>\n",
       "      <td>4.80</td>\n",
       "      <td>4.80</td>\n",
       "      <td>4.80</td>\n",
       "      <td>4.80</td>\n",
       "      <td>FEYE</td>\n",
       "      <td>16.260</td>\n",
       "      <td>15.70</td>\n",
       "      <td>15.95</td>\n",
       "      <td>16.02</td>\n",
       "      <td>2019-01-02</td>\n",
       "    </tr>\n",
       "    <tr>\n",
       "      <th>FEYE210115C00017000</th>\n",
       "      <td>FEYE</td>\n",
       "      <td>3.90</td>\n",
       "      <td>3.90</td>\n",
       "      <td>3.90</td>\n",
       "      <td>3.90</td>\n",
       "      <td>FEYE</td>\n",
       "      <td>16.260</td>\n",
       "      <td>15.70</td>\n",
       "      <td>15.95</td>\n",
       "      <td>16.02</td>\n",
       "      <td>2019-01-02</td>\n",
       "    </tr>\n",
       "    <tr>\n",
       "      <th rowspan=\"2\" valign=\"top\">2019-01-04</th>\n",
       "      <th>FEYE210115C00015000</th>\n",
       "      <td>FEYE</td>\n",
       "      <td>5.10</td>\n",
       "      <td>5.09</td>\n",
       "      <td>5.10</td>\n",
       "      <td>5.10</td>\n",
       "      <td>FEYE</td>\n",
       "      <td>16.220</td>\n",
       "      <td>15.69</td>\n",
       "      <td>15.75</td>\n",
       "      <td>16.01</td>\n",
       "      <td>2019-01-04</td>\n",
       "    </tr>\n",
       "    <tr>\n",
       "      <th>FEYE210115C00017000</th>\n",
       "      <td>FEYE</td>\n",
       "      <td>4.31</td>\n",
       "      <td>3.83</td>\n",
       "      <td>4.20</td>\n",
       "      <td>4.20</td>\n",
       "      <td>FEYE</td>\n",
       "      <td>16.220</td>\n",
       "      <td>15.69</td>\n",
       "      <td>15.75</td>\n",
       "      <td>16.01</td>\n",
       "      <td>2019-01-04</td>\n",
       "    </tr>\n",
       "    <tr>\n",
       "      <th>2019-01-14</th>\n",
       "      <th>FEYE210115C00015000</th>\n",
       "      <td>FEYE</td>\n",
       "      <td>5.25</td>\n",
       "      <td>5.09</td>\n",
       "      <td>5.25</td>\n",
       "      <td>5.15</td>\n",
       "      <td>FEYE</td>\n",
       "      <td>16.640</td>\n",
       "      <td>16.27</td>\n",
       "      <td>16.64</td>\n",
       "      <td>16.41</td>\n",
       "      <td>2019-01-14</td>\n",
       "    </tr>\n",
       "    <tr>\n",
       "      <th>...</th>\n",
       "      <th>...</th>\n",
       "      <td>...</td>\n",
       "      <td>...</td>\n",
       "      <td>...</td>\n",
       "      <td>...</td>\n",
       "      <td>...</td>\n",
       "      <td>...</td>\n",
       "      <td>...</td>\n",
       "      <td>...</td>\n",
       "      <td>...</td>\n",
       "      <td>...</td>\n",
       "      <td>...</td>\n",
       "    </tr>\n",
       "    <tr>\n",
       "      <th rowspan=\"2\" valign=\"top\">2021-01-21</th>\n",
       "      <th>AMC210122C00003000</th>\n",
       "      <td>AMC</td>\n",
       "      <td>0.21</td>\n",
       "      <td>0.01</td>\n",
       "      <td>0.21</td>\n",
       "      <td>0.09</td>\n",
       "      <td>AMC</td>\n",
       "      <td>3.060</td>\n",
       "      <td>2.85</td>\n",
       "      <td>3.00</td>\n",
       "      <td>2.98</td>\n",
       "      <td>2021-01-21</td>\n",
       "    </tr>\n",
       "    <tr>\n",
       "      <th>BB210122C00007000</th>\n",
       "      <td>BB</td>\n",
       "      <td>5.85</td>\n",
       "      <td>5.10</td>\n",
       "      <td>5.75</td>\n",
       "      <td>5.80</td>\n",
       "      <td>BB</td>\n",
       "      <td>12.945</td>\n",
       "      <td>12.01</td>\n",
       "      <td>12.62</td>\n",
       "      <td>12.85</td>\n",
       "      <td>2021-01-21</td>\n",
       "    </tr>\n",
       "    <tr>\n",
       "      <th rowspan=\"3\" valign=\"top\">2021-01-22</th>\n",
       "      <th>AMC210122C00002500</th>\n",
       "      <td>AMC</td>\n",
       "      <td>1.24</td>\n",
       "      <td>0.31</td>\n",
       "      <td>0.41</td>\n",
       "      <td>1.00</td>\n",
       "      <td>AMC</td>\n",
       "      <td>3.740</td>\n",
       "      <td>2.81</td>\n",
       "      <td>2.91</td>\n",
       "      <td>3.51</td>\n",
       "      <td>2021-01-22</td>\n",
       "    </tr>\n",
       "    <tr>\n",
       "      <th>AMC210122C00003000</th>\n",
       "      <td>AMC</td>\n",
       "      <td>0.72</td>\n",
       "      <td>0.01</td>\n",
       "      <td>0.05</td>\n",
       "      <td>0.50</td>\n",
       "      <td>AMC</td>\n",
       "      <td>3.740</td>\n",
       "      <td>2.81</td>\n",
       "      <td>2.91</td>\n",
       "      <td>3.51</td>\n",
       "      <td>2021-01-22</td>\n",
       "    </tr>\n",
       "    <tr>\n",
       "      <th>BB210122C00007000</th>\n",
       "      <td>BB</td>\n",
       "      <td>7.20</td>\n",
       "      <td>5.20</td>\n",
       "      <td>5.25</td>\n",
       "      <td>7.00</td>\n",
       "      <td>BB</td>\n",
       "      <td>14.280</td>\n",
       "      <td>12.17</td>\n",
       "      <td>12.37</td>\n",
       "      <td>14.04</td>\n",
       "      <td>2021-01-22</td>\n",
       "    </tr>\n",
       "  </tbody>\n",
       "</table>\n",
       "<p>1099 rows × 11 columns</p>\n",
       "</div>"
      ],
      "text/plain": [
       "                                 oc_hx_symbol  oc_hx_hi  oc_hx_lo  oc_hx_open  \\\n",
       "oc_hx_date oc_hx_contract_symbol                                                \n",
       "2019-01-02 FEYE210115C00015000           FEYE      4.80      4.80        4.80   \n",
       "           FEYE210115C00017000           FEYE      3.90      3.90        3.90   \n",
       "2019-01-04 FEYE210115C00015000           FEYE      5.10      5.09        5.10   \n",
       "           FEYE210115C00017000           FEYE      4.31      3.83        4.20   \n",
       "2019-01-14 FEYE210115C00015000           FEYE      5.25      5.09        5.25   \n",
       "...                                       ...       ...       ...         ...   \n",
       "2021-01-21 AMC210122C00003000             AMC      0.21      0.01        0.21   \n",
       "           BB210122C00007000               BB      5.85      5.10        5.75   \n",
       "2021-01-22 AMC210122C00002500             AMC      1.24      0.31        0.41   \n",
       "           AMC210122C00003000             AMC      0.72      0.01        0.05   \n",
       "           BB210122C00007000               BB      7.20      5.20        5.25   \n",
       "\n",
       "                                  oc_hx_close s_hx_symbol  s_hx_hi  s_hx_lo  \\\n",
       "oc_hx_date oc_hx_contract_symbol                                              \n",
       "2019-01-02 FEYE210115C00015000           4.80        FEYE   16.260    15.70   \n",
       "           FEYE210115C00017000           3.90        FEYE   16.260    15.70   \n",
       "2019-01-04 FEYE210115C00015000           5.10        FEYE   16.220    15.69   \n",
       "           FEYE210115C00017000           4.20        FEYE   16.220    15.69   \n",
       "2019-01-14 FEYE210115C00015000           5.15        FEYE   16.640    16.27   \n",
       "...                                       ...         ...      ...      ...   \n",
       "2021-01-21 AMC210122C00003000            0.09         AMC    3.060     2.85   \n",
       "           BB210122C00007000             5.80          BB   12.945    12.01   \n",
       "2021-01-22 AMC210122C00002500            1.00         AMC    3.740     2.81   \n",
       "           AMC210122C00003000            0.50         AMC    3.740     2.81   \n",
       "           BB210122C00007000             7.00          BB   14.280    12.17   \n",
       "\n",
       "                                  s_hx_open  s_hx_close  s_hx_date  \n",
       "oc_hx_date oc_hx_contract_symbol                                    \n",
       "2019-01-02 FEYE210115C00015000        15.95       16.02 2019-01-02  \n",
       "           FEYE210115C00017000        15.95       16.02 2019-01-02  \n",
       "2019-01-04 FEYE210115C00015000        15.75       16.01 2019-01-04  \n",
       "           FEYE210115C00017000        15.75       16.01 2019-01-04  \n",
       "2019-01-14 FEYE210115C00015000        16.64       16.41 2019-01-14  \n",
       "...                                     ...         ...        ...  \n",
       "2021-01-21 AMC210122C00003000          3.00        2.98 2021-01-21  \n",
       "           BB210122C00007000          12.62       12.85 2021-01-21  \n",
       "2021-01-22 AMC210122C00002500          2.91        3.51 2021-01-22  \n",
       "           AMC210122C00003000          2.91        3.51 2021-01-22  \n",
       "           BB210122C00007000          12.37       14.04 2021-01-22  \n",
       "\n",
       "[1099 rows x 11 columns]"
      ]
     },
     "execution_count": 490,
     "metadata": {},
     "output_type": "execute_result"
    }
   ],
   "source": [
    "df.dropna(axis=1)"
   ]
  },
  {
   "cell_type": "markdown",
   "metadata": {},
   "source": [
    "### Random entry/exit from readme\n",
    "\n",
    "Creates random entry/exit pairs. Overwrite and buy at first peak. Used to figure out proper format and play with structure."
   ]
  },
  {
   "cell_type": "code",
   "execution_count": 428,
   "metadata": {},
   "outputs": [],
   "source": [
    "rand = vbt.RAND.run(n=[i for i in range(df_tmp.shape[1])], input_shape=(df_tmp.shape[0],), seed=22)\n",
    "entries = rand.entries\n",
    "exits = rand.exits\n",
    "\n",
    "entries.iloc[:,:] = False\n",
    "entries.iloc[0,:] = True\n",
    "exits.iloc[:,:] = False"
   ]
  },
  {
   "cell_type": "markdown",
   "metadata": {},
   "source": [
    "### Create entry/exit for vectorbt\n",
    "\n",
    "Same shape as option_contract price history. Need to shift these 1 position downward so to simulate buying the next day.\n",
    "\n",
    "These are the trades to copy:"
   ]
  },
  {
   "cell_type": "code",
   "execution_count": 440,
   "metadata": {},
   "outputs": [
    {
     "data": {
      "text/html": [
       "<div>\n",
       "<style scoped>\n",
       "    .dataframe tbody tr th:only-of-type {\n",
       "        vertical-align: middle;\n",
       "    }\n",
       "\n",
       "    .dataframe tbody tr th {\n",
       "        vertical-align: top;\n",
       "    }\n",
       "\n",
       "    .dataframe thead th {\n",
       "        text-align: right;\n",
       "    }\n",
       "</style>\n",
       "<table border=\"1\" class=\"dataframe\">\n",
       "  <thead>\n",
       "    <tr style=\"text-align: right;\">\n",
       "      <th></th>\n",
       "      <th></th>\n",
       "      <th>contract_symbol</th>\n",
       "      <th>y_pred</th>\n",
       "      <th>purch_date</th>\n",
       "      <th>purch_datetime</th>\n",
       "      <th>trade_price</th>\n",
       "      <th>win</th>\n",
       "      <th>loss</th>\n",
       "      <th>close_day_of_exp</th>\n",
       "      <th>exp_pct</th>\n",
       "      <th>future_intra_hi</th>\n",
       "      <th>...</th>\n",
       "      <th>oc_hx_hi</th>\n",
       "      <th>oc_hx_lo</th>\n",
       "      <th>oc_hx_open</th>\n",
       "      <th>oc_hx_close</th>\n",
       "      <th>s_hx_symbol</th>\n",
       "      <th>s_hx_hi</th>\n",
       "      <th>s_hx_lo</th>\n",
       "      <th>s_hx_open</th>\n",
       "      <th>s_hx_close</th>\n",
       "      <th>s_hx_date</th>\n",
       "    </tr>\n",
       "    <tr>\n",
       "      <th>oc_hx_date</th>\n",
       "      <th>oc_hx_contract_symbol</th>\n",
       "      <th></th>\n",
       "      <th></th>\n",
       "      <th></th>\n",
       "      <th></th>\n",
       "      <th></th>\n",
       "      <th></th>\n",
       "      <th></th>\n",
       "      <th></th>\n",
       "      <th></th>\n",
       "      <th></th>\n",
       "      <th></th>\n",
       "      <th></th>\n",
       "      <th></th>\n",
       "      <th></th>\n",
       "      <th></th>\n",
       "      <th></th>\n",
       "      <th></th>\n",
       "      <th></th>\n",
       "      <th></th>\n",
       "      <th></th>\n",
       "      <th></th>\n",
       "    </tr>\n",
       "  </thead>\n",
       "  <tbody>\n",
       "    <tr>\n",
       "      <th rowspan=\"3\" valign=\"top\">2020-12-08</th>\n",
       "      <th>FEYE201218C00016000</th>\n",
       "      <td>FEYE201218C00016000</td>\n",
       "      <td>1.745762</td>\n",
       "      <td>2020-12-08</td>\n",
       "      <td>2020-12-08 15:31:04.223</td>\n",
       "      <td>0.24</td>\n",
       "      <td>1.0</td>\n",
       "      <td>0.0</td>\n",
       "      <td>3.12</td>\n",
       "      <td>12.000000</td>\n",
       "      <td>3.76</td>\n",
       "      <td>...</td>\n",
       "      <td>0.29</td>\n",
       "      <td>0.20</td>\n",
       "      <td>0.20</td>\n",
       "      <td>0.24</td>\n",
       "      <td>FEYE</td>\n",
       "      <td>15.660</td>\n",
       "      <td>15.310</td>\n",
       "      <td>15.310</td>\n",
       "      <td>15.52</td>\n",
       "      <td>2020-12-08</td>\n",
       "    </tr>\n",
       "    <tr>\n",
       "      <th>FEYE210115C00016000</th>\n",
       "      <td>FEYE210115C00016000</td>\n",
       "      <td>1.227066</td>\n",
       "      <td>2020-12-08</td>\n",
       "      <td>2020-12-08 10:59:09.849</td>\n",
       "      <td>0.66</td>\n",
       "      <td>1.0</td>\n",
       "      <td>0.0</td>\n",
       "      <td>6.05</td>\n",
       "      <td>8.166667</td>\n",
       "      <td>9.53</td>\n",
       "      <td>...</td>\n",
       "      <td>0.69</td>\n",
       "      <td>0.63</td>\n",
       "      <td>0.65</td>\n",
       "      <td>0.65</td>\n",
       "      <td>FEYE</td>\n",
       "      <td>15.660</td>\n",
       "      <td>15.310</td>\n",
       "      <td>15.310</td>\n",
       "      <td>15.52</td>\n",
       "      <td>2020-12-08</td>\n",
       "    </tr>\n",
       "    <tr>\n",
       "      <th>FEYE210115C00017000</th>\n",
       "      <td>FEYE210115C00017000</td>\n",
       "      <td>2.011813</td>\n",
       "      <td>2020-12-08</td>\n",
       "      <td>2020-12-08 13:38:55.160</td>\n",
       "      <td>0.37</td>\n",
       "      <td>1.0</td>\n",
       "      <td>0.0</td>\n",
       "      <td>5.40</td>\n",
       "      <td>13.594595</td>\n",
       "      <td>8.50</td>\n",
       "      <td>...</td>\n",
       "      <td>0.39</td>\n",
       "      <td>0.35</td>\n",
       "      <td>0.36</td>\n",
       "      <td>0.37</td>\n",
       "      <td>FEYE</td>\n",
       "      <td>15.660</td>\n",
       "      <td>15.310</td>\n",
       "      <td>15.310</td>\n",
       "      <td>15.52</td>\n",
       "      <td>2020-12-08</td>\n",
       "    </tr>\n",
       "    <tr>\n",
       "      <th>2020-12-09</th>\n",
       "      <th>FEYE210115C00015000</th>\n",
       "      <td>FEYE210115C00015000</td>\n",
       "      <td>1.074493</td>\n",
       "      <td>2020-12-09</td>\n",
       "      <td>2020-12-09 12:14:45.025</td>\n",
       "      <td>0.55</td>\n",
       "      <td>1.0</td>\n",
       "      <td>0.0</td>\n",
       "      <td>7.00</td>\n",
       "      <td>11.727273</td>\n",
       "      <td>10.50</td>\n",
       "      <td>...</td>\n",
       "      <td>0.58</td>\n",
       "      <td>0.41</td>\n",
       "      <td>0.50</td>\n",
       "      <td>0.47</td>\n",
       "      <td>FEYE</td>\n",
       "      <td>14.240</td>\n",
       "      <td>13.450</td>\n",
       "      <td>14.080</td>\n",
       "      <td>13.49</td>\n",
       "      <td>2020-12-09</td>\n",
       "    </tr>\n",
       "    <tr>\n",
       "      <th>2020-12-14</th>\n",
       "      <th>FEYE201224C00014000</th>\n",
       "      <td>FEYE201224C00014000</td>\n",
       "      <td>1.710953</td>\n",
       "      <td>2020-12-14</td>\n",
       "      <td>2020-12-14 10:51:46.350</td>\n",
       "      <td>0.44</td>\n",
       "      <td>1.0</td>\n",
       "      <td>0.0</td>\n",
       "      <td>8.20</td>\n",
       "      <td>17.636364</td>\n",
       "      <td>10.80</td>\n",
       "      <td>...</td>\n",
       "      <td>0.50</td>\n",
       "      <td>0.23</td>\n",
       "      <td>0.47</td>\n",
       "      <td>0.32</td>\n",
       "      <td>FEYE</td>\n",
       "      <td>14.100</td>\n",
       "      <td>13.620</td>\n",
       "      <td>13.915</td>\n",
       "      <td>13.67</td>\n",
       "      <td>2020-12-14</td>\n",
       "    </tr>\n",
       "    <tr>\n",
       "      <th>2020-12-16</th>\n",
       "      <th>FEYE210115C00015000</th>\n",
       "      <td>FEYE210115C00015000</td>\n",
       "      <td>1.143350</td>\n",
       "      <td>2020-12-16</td>\n",
       "      <td>2020-12-16 12:29:08.128</td>\n",
       "      <td>0.68</td>\n",
       "      <td>1.0</td>\n",
       "      <td>0.0</td>\n",
       "      <td>7.00</td>\n",
       "      <td>9.294118</td>\n",
       "      <td>10.50</td>\n",
       "      <td>...</td>\n",
       "      <td>0.77</td>\n",
       "      <td>0.48</td>\n",
       "      <td>0.48</td>\n",
       "      <td>0.59</td>\n",
       "      <td>FEYE</td>\n",
       "      <td>14.795</td>\n",
       "      <td>14.200</td>\n",
       "      <td>14.250</td>\n",
       "      <td>14.49</td>\n",
       "      <td>2020-12-16</td>\n",
       "    </tr>\n",
       "    <tr>\n",
       "      <th>2020-12-29</th>\n",
       "      <th>BB210122C00007000</th>\n",
       "      <td>BB210122C00007000</td>\n",
       "      <td>1.148013</td>\n",
       "      <td>2020-12-29</td>\n",
       "      <td>2020-12-29 12:43:42.075</td>\n",
       "      <td>0.30</td>\n",
       "      <td>1.0</td>\n",
       "      <td>0.0</td>\n",
       "      <td>7.00</td>\n",
       "      <td>22.333333</td>\n",
       "      <td>7.20</td>\n",
       "      <td>...</td>\n",
       "      <td>0.33</td>\n",
       "      <td>0.29</td>\n",
       "      <td>0.33</td>\n",
       "      <td>0.31</td>\n",
       "      <td>BB</td>\n",
       "      <td>7.000</td>\n",
       "      <td>6.675</td>\n",
       "      <td>6.980</td>\n",
       "      <td>6.77</td>\n",
       "      <td>2020-12-29</td>\n",
       "    </tr>\n",
       "    <tr>\n",
       "      <th>2020-12-30</th>\n",
       "      <th>BB210108C00007000</th>\n",
       "      <td>BB210108C00007000</td>\n",
       "      <td>1.589424</td>\n",
       "      <td>2020-12-30</td>\n",
       "      <td>2020-12-30 11:26:28.730</td>\n",
       "      <td>0.12</td>\n",
       "      <td>1.0</td>\n",
       "      <td>0.0</td>\n",
       "      <td>0.55</td>\n",
       "      <td>3.583333</td>\n",
       "      <td>0.62</td>\n",
       "      <td>...</td>\n",
       "      <td>0.17</td>\n",
       "      <td>0.10</td>\n",
       "      <td>0.17</td>\n",
       "      <td>0.12</td>\n",
       "      <td>BB</td>\n",
       "      <td>6.810</td>\n",
       "      <td>6.600</td>\n",
       "      <td>6.790</td>\n",
       "      <td>6.67</td>\n",
       "      <td>2020-12-30</td>\n",
       "    </tr>\n",
       "    <tr>\n",
       "      <th>2021-01-06</th>\n",
       "      <th>BB210122C00007000</th>\n",
       "      <td>BB210122C00007000</td>\n",
       "      <td>1.433161</td>\n",
       "      <td>2021-01-06</td>\n",
       "      <td>2021-01-06 12:44:44.402</td>\n",
       "      <td>0.23</td>\n",
       "      <td>1.0</td>\n",
       "      <td>0.0</td>\n",
       "      <td>7.00</td>\n",
       "      <td>29.434783</td>\n",
       "      <td>7.20</td>\n",
       "      <td>...</td>\n",
       "      <td>0.27</td>\n",
       "      <td>0.19</td>\n",
       "      <td>0.19</td>\n",
       "      <td>0.20</td>\n",
       "      <td>BB</td>\n",
       "      <td>6.910</td>\n",
       "      <td>6.630</td>\n",
       "      <td>6.710</td>\n",
       "      <td>6.71</td>\n",
       "      <td>2021-01-06</td>\n",
       "    </tr>\n",
       "    <tr>\n",
       "      <th>2021-01-07</th>\n",
       "      <th>AMC210122C00003000</th>\n",
       "      <td>AMC210122C00003000</td>\n",
       "      <td>1.491769</td>\n",
       "      <td>2021-01-07</td>\n",
       "      <td>2021-01-07 09:40:02.642</td>\n",
       "      <td>0.07</td>\n",
       "      <td>1.0</td>\n",
       "      <td>0.0</td>\n",
       "      <td>0.50</td>\n",
       "      <td>6.142857</td>\n",
       "      <td>0.88</td>\n",
       "      <td>...</td>\n",
       "      <td>0.09</td>\n",
       "      <td>0.05</td>\n",
       "      <td>0.09</td>\n",
       "      <td>0.06</td>\n",
       "      <td>AMC</td>\n",
       "      <td>2.110</td>\n",
       "      <td>2.020</td>\n",
       "      <td>2.080</td>\n",
       "      <td>2.05</td>\n",
       "      <td>2021-01-07</td>\n",
       "    </tr>\n",
       "    <tr>\n",
       "      <th>2021-01-11</th>\n",
       "      <th>AMC210122C00002500</th>\n",
       "      <td>AMC210122C00002500</td>\n",
       "      <td>1.221654</td>\n",
       "      <td>2021-01-11</td>\n",
       "      <td>2021-01-11 15:05:46.023</td>\n",
       "      <td>0.16</td>\n",
       "      <td>1.0</td>\n",
       "      <td>0.0</td>\n",
       "      <td>1.00</td>\n",
       "      <td>5.250000</td>\n",
       "      <td>2.61</td>\n",
       "      <td>...</td>\n",
       "      <td>0.20</td>\n",
       "      <td>0.13</td>\n",
       "      <td>0.15</td>\n",
       "      <td>0.15</td>\n",
       "      <td>AMC</td>\n",
       "      <td>2.270</td>\n",
       "      <td>2.150</td>\n",
       "      <td>2.160</td>\n",
       "      <td>2.20</td>\n",
       "      <td>2021-01-11</td>\n",
       "    </tr>\n",
       "    <tr>\n",
       "      <th>2021-01-12</th>\n",
       "      <th>AMC210122C00002500</th>\n",
       "      <td>AMC210122C00002500</td>\n",
       "      <td>1.109983</td>\n",
       "      <td>2021-01-12</td>\n",
       "      <td>2021-01-12 11:49:20.641</td>\n",
       "      <td>0.19</td>\n",
       "      <td>1.0</td>\n",
       "      <td>0.0</td>\n",
       "      <td>1.00</td>\n",
       "      <td>4.263158</td>\n",
       "      <td>2.61</td>\n",
       "      <td>...</td>\n",
       "      <td>0.21</td>\n",
       "      <td>0.12</td>\n",
       "      <td>0.14</td>\n",
       "      <td>0.14</td>\n",
       "      <td>AMC</td>\n",
       "      <td>2.390</td>\n",
       "      <td>2.235</td>\n",
       "      <td>2.240</td>\n",
       "      <td>2.29</td>\n",
       "      <td>2021-01-12</td>\n",
       "    </tr>\n",
       "    <tr>\n",
       "      <th>2021-01-14</th>\n",
       "      <th>AMC210122C00003000</th>\n",
       "      <td>AMC210122C00003000</td>\n",
       "      <td>1.111632</td>\n",
       "      <td>2021-01-14</td>\n",
       "      <td>2021-01-14 15:07:05.802</td>\n",
       "      <td>0.05</td>\n",
       "      <td>1.0</td>\n",
       "      <td>0.0</td>\n",
       "      <td>0.50</td>\n",
       "      <td>9.000000</td>\n",
       "      <td>0.88</td>\n",
       "      <td>...</td>\n",
       "      <td>0.08</td>\n",
       "      <td>0.03</td>\n",
       "      <td>0.05</td>\n",
       "      <td>0.04</td>\n",
       "      <td>AMC</td>\n",
       "      <td>2.320</td>\n",
       "      <td>2.130</td>\n",
       "      <td>2.220</td>\n",
       "      <td>2.18</td>\n",
       "      <td>2021-01-14</td>\n",
       "    </tr>\n",
       "  </tbody>\n",
       "</table>\n",
       "<p>13 rows × 24 columns</p>\n",
       "</div>"
      ],
      "text/plain": [
       "                                      contract_symbol    y_pred  purch_date  \\\n",
       "oc_hx_date oc_hx_contract_symbol                                              \n",
       "2020-12-08 FEYE201218C00016000    FEYE201218C00016000  1.745762  2020-12-08   \n",
       "           FEYE210115C00016000    FEYE210115C00016000  1.227066  2020-12-08   \n",
       "           FEYE210115C00017000    FEYE210115C00017000  2.011813  2020-12-08   \n",
       "2020-12-09 FEYE210115C00015000    FEYE210115C00015000  1.074493  2020-12-09   \n",
       "2020-12-14 FEYE201224C00014000    FEYE201224C00014000  1.710953  2020-12-14   \n",
       "2020-12-16 FEYE210115C00015000    FEYE210115C00015000  1.143350  2020-12-16   \n",
       "2020-12-29 BB210122C00007000        BB210122C00007000  1.148013  2020-12-29   \n",
       "2020-12-30 BB210108C00007000        BB210108C00007000  1.589424  2020-12-30   \n",
       "2021-01-06 BB210122C00007000        BB210122C00007000  1.433161  2021-01-06   \n",
       "2021-01-07 AMC210122C00003000      AMC210122C00003000  1.491769  2021-01-07   \n",
       "2021-01-11 AMC210122C00002500      AMC210122C00002500  1.221654  2021-01-11   \n",
       "2021-01-12 AMC210122C00002500      AMC210122C00002500  1.109983  2021-01-12   \n",
       "2021-01-14 AMC210122C00003000      AMC210122C00003000  1.111632  2021-01-14   \n",
       "\n",
       "                                           purch_datetime  trade_price  win  \\\n",
       "oc_hx_date oc_hx_contract_symbol                                              \n",
       "2020-12-08 FEYE201218C00016000    2020-12-08 15:31:04.223         0.24  1.0   \n",
       "           FEYE210115C00016000    2020-12-08 10:59:09.849         0.66  1.0   \n",
       "           FEYE210115C00017000    2020-12-08 13:38:55.160         0.37  1.0   \n",
       "2020-12-09 FEYE210115C00015000    2020-12-09 12:14:45.025         0.55  1.0   \n",
       "2020-12-14 FEYE201224C00014000    2020-12-14 10:51:46.350         0.44  1.0   \n",
       "2020-12-16 FEYE210115C00015000    2020-12-16 12:29:08.128         0.68  1.0   \n",
       "2020-12-29 BB210122C00007000      2020-12-29 12:43:42.075         0.30  1.0   \n",
       "2020-12-30 BB210108C00007000      2020-12-30 11:26:28.730         0.12  1.0   \n",
       "2021-01-06 BB210122C00007000      2021-01-06 12:44:44.402         0.23  1.0   \n",
       "2021-01-07 AMC210122C00003000     2021-01-07 09:40:02.642         0.07  1.0   \n",
       "2021-01-11 AMC210122C00002500     2021-01-11 15:05:46.023         0.16  1.0   \n",
       "2021-01-12 AMC210122C00002500     2021-01-12 11:49:20.641         0.19  1.0   \n",
       "2021-01-14 AMC210122C00003000     2021-01-14 15:07:05.802         0.05  1.0   \n",
       "\n",
       "                                  loss  close_day_of_exp    exp_pct  \\\n",
       "oc_hx_date oc_hx_contract_symbol                                      \n",
       "2020-12-08 FEYE201218C00016000     0.0              3.12  12.000000   \n",
       "           FEYE210115C00016000     0.0              6.05   8.166667   \n",
       "           FEYE210115C00017000     0.0              5.40  13.594595   \n",
       "2020-12-09 FEYE210115C00015000     0.0              7.00  11.727273   \n",
       "2020-12-14 FEYE201224C00014000     0.0              8.20  17.636364   \n",
       "2020-12-16 FEYE210115C00015000     0.0              7.00   9.294118   \n",
       "2020-12-29 BB210122C00007000       0.0              7.00  22.333333   \n",
       "2020-12-30 BB210108C00007000       0.0              0.55   3.583333   \n",
       "2021-01-06 BB210122C00007000       0.0              7.00  29.434783   \n",
       "2021-01-07 AMC210122C00003000      0.0              0.50   6.142857   \n",
       "2021-01-11 AMC210122C00002500      0.0              1.00   5.250000   \n",
       "2021-01-12 AMC210122C00002500      0.0              1.00   4.263158   \n",
       "2021-01-14 AMC210122C00003000      0.0              0.50   9.000000   \n",
       "\n",
       "                                  future_intra_hi  ...  oc_hx_hi  oc_hx_lo  \\\n",
       "oc_hx_date oc_hx_contract_symbol                   ...                       \n",
       "2020-12-08 FEYE201218C00016000               3.76  ...      0.29      0.20   \n",
       "           FEYE210115C00016000               9.53  ...      0.69      0.63   \n",
       "           FEYE210115C00017000               8.50  ...      0.39      0.35   \n",
       "2020-12-09 FEYE210115C00015000              10.50  ...      0.58      0.41   \n",
       "2020-12-14 FEYE201224C00014000              10.80  ...      0.50      0.23   \n",
       "2020-12-16 FEYE210115C00015000              10.50  ...      0.77      0.48   \n",
       "2020-12-29 BB210122C00007000                 7.20  ...      0.33      0.29   \n",
       "2020-12-30 BB210108C00007000                 0.62  ...      0.17      0.10   \n",
       "2021-01-06 BB210122C00007000                 7.20  ...      0.27      0.19   \n",
       "2021-01-07 AMC210122C00003000                0.88  ...      0.09      0.05   \n",
       "2021-01-11 AMC210122C00002500                2.61  ...      0.20      0.13   \n",
       "2021-01-12 AMC210122C00002500                2.61  ...      0.21      0.12   \n",
       "2021-01-14 AMC210122C00003000                0.88  ...      0.08      0.03   \n",
       "\n",
       "                                  oc_hx_open oc_hx_close  s_hx_symbol  \\\n",
       "oc_hx_date oc_hx_contract_symbol                                        \n",
       "2020-12-08 FEYE201218C00016000          0.20        0.24         FEYE   \n",
       "           FEYE210115C00016000          0.65        0.65         FEYE   \n",
       "           FEYE210115C00017000          0.36        0.37         FEYE   \n",
       "2020-12-09 FEYE210115C00015000          0.50        0.47         FEYE   \n",
       "2020-12-14 FEYE201224C00014000          0.47        0.32         FEYE   \n",
       "2020-12-16 FEYE210115C00015000          0.48        0.59         FEYE   \n",
       "2020-12-29 BB210122C00007000            0.33        0.31           BB   \n",
       "2020-12-30 BB210108C00007000            0.17        0.12           BB   \n",
       "2021-01-06 BB210122C00007000            0.19        0.20           BB   \n",
       "2021-01-07 AMC210122C00003000           0.09        0.06          AMC   \n",
       "2021-01-11 AMC210122C00002500           0.15        0.15          AMC   \n",
       "2021-01-12 AMC210122C00002500           0.14        0.14          AMC   \n",
       "2021-01-14 AMC210122C00003000           0.05        0.04          AMC   \n",
       "\n",
       "                                  s_hx_hi  s_hx_lo  s_hx_open s_hx_close  \\\n",
       "oc_hx_date oc_hx_contract_symbol                                           \n",
       "2020-12-08 FEYE201218C00016000     15.660   15.310     15.310      15.52   \n",
       "           FEYE210115C00016000     15.660   15.310     15.310      15.52   \n",
       "           FEYE210115C00017000     15.660   15.310     15.310      15.52   \n",
       "2020-12-09 FEYE210115C00015000     14.240   13.450     14.080      13.49   \n",
       "2020-12-14 FEYE201224C00014000     14.100   13.620     13.915      13.67   \n",
       "2020-12-16 FEYE210115C00015000     14.795   14.200     14.250      14.49   \n",
       "2020-12-29 BB210122C00007000        7.000    6.675      6.980       6.77   \n",
       "2020-12-30 BB210108C00007000        6.810    6.600      6.790       6.67   \n",
       "2021-01-06 BB210122C00007000        6.910    6.630      6.710       6.71   \n",
       "2021-01-07 AMC210122C00003000       2.110    2.020      2.080       2.05   \n",
       "2021-01-11 AMC210122C00002500       2.270    2.150      2.160       2.20   \n",
       "2021-01-12 AMC210122C00002500       2.390    2.235      2.240       2.29   \n",
       "2021-01-14 AMC210122C00003000       2.320    2.130      2.220       2.18   \n",
       "\n",
       "                                  s_hx_date  \n",
       "oc_hx_date oc_hx_contract_symbol             \n",
       "2020-12-08 FEYE201218C00016000   2020-12-08  \n",
       "           FEYE210115C00016000   2020-12-08  \n",
       "           FEYE210115C00017000   2020-12-08  \n",
       "2020-12-09 FEYE210115C00015000   2020-12-09  \n",
       "2020-12-14 FEYE201224C00014000   2020-12-14  \n",
       "2020-12-16 FEYE210115C00015000   2020-12-16  \n",
       "2020-12-29 BB210122C00007000     2020-12-29  \n",
       "2020-12-30 BB210108C00007000     2020-12-30  \n",
       "2021-01-06 BB210122C00007000     2021-01-06  \n",
       "2021-01-07 AMC210122C00003000    2021-01-07  \n",
       "2021-01-11 AMC210122C00002500    2021-01-11  \n",
       "2021-01-12 AMC210122C00002500    2021-01-12  \n",
       "2021-01-14 AMC210122C00003000    2021-01-14  \n",
       "\n",
       "[13 rows x 24 columns]"
      ]
     },
     "execution_count": 440,
     "metadata": {},
     "output_type": "execute_result"
    }
   ],
   "source": [
    "df.dropna(subset=['contract_symbol'])"
   ]
  },
  {
   "cell_type": "code",
   "execution_count": 676,
   "metadata": {},
   "outputs": [],
   "source": [
    "entry_df = df.reset_index().groupby(['oc_hx_date','oc_hx_contract_symbol'])['contract_symbol'].last().unstack()\n",
    "entry_df = entry_df.shift(1)\n",
    "entry_df = entry_df.fillna(False)\n",
    "entry_df = entry_df.replace({c:True for c in entry_df.columns})"
   ]
  },
  {
   "cell_type": "code",
   "execution_count": 662,
   "metadata": {},
   "outputs": [],
   "source": [
    "assert entry_df.loc['2020-12-08'].all() == False  # original trade check\n",
    "assert entry_df.loc['2020-12-09'].sum() == 3  # shifted check\n",
    "assert (entry_df.loc['2020-12-09'][entry_df.loc['2020-12-09'] == True].index\n",
    "    == \n",
    "    ['FEYE201218C00016000', 'FEYE210115C00016000', 'FEYE210115C00017000']).all()  # shifted check"
   ]
  },
  {
   "cell_type": "code",
   "execution_count": 663,
   "metadata": {},
   "outputs": [],
   "source": [
    "def parse_contract_symbol(row):\n",
    "    \"expects contract symbol like 'WKHS200717C00002500' and returns formatted versions of gleenable info to add to df\"\n",
    "    cs = row['contract_symbol']\n",
    "    price_part = cs[-8:]\n",
    "    option_type = cs[-9]\n",
    "    date_part = cs[-15:-9]\n",
    "    root_part = cs[:-15]\n",
    "    symbol_part = re.match(\"[A-Z]*\", root_part).group()\n",
    "\n",
    "    price_part = int(price_part) / 1000\n",
    "    type_part = {\"C\": \"CALL\", \"P\": \"PUT\"}[option_type]\n",
    "    date_part = datetime.strptime(date_part, \"%y%m%d\").strftime(\"%Y-%m-%d\")\n",
    "\n",
    "    return {\n",
    "        \"option_expiration\": date_part,\n",
    "        \"symbol\": symbol_part,\n",
    "        \"root\": root_part,\n",
    "        \"strike\": price_part,\n",
    "        \"type\": type_part,\n",
    "    }"
   ]
  },
  {
   "cell_type": "code",
   "execution_count": 677,
   "metadata": {},
   "outputs": [
    {
     "name": "stderr",
     "output_type": "stream",
     "text": [
      "/Users/xbno/anaconda3/envs/fin/lib/python3.8/site-packages/pandas/core/frame.py:3069: SettingWithCopyWarning:\n",
      "\n",
      "\n",
      "A value is trying to be set on a copy of a slice from a DataFrame.\n",
      "Try using .loc[row_indexer,col_indexer] = value instead\n",
      "\n",
      "See the caveats in the documentation: https://pandas.pydata.org/pandas-docs/stable/user_guide/indexing.html#returning-a-view-versus-a-copy\n",
      "\n"
     ]
    }
   ],
   "source": [
    "exit_df = entry_df.copy()\n",
    "exit_df.iloc[:,:] = False\n",
    "\n",
    "entry_exit_df = df.dropna(subset=['contract_symbol'])\n",
    "entry_exit_df[['option_expiration','symbol','root','strike','type']] = entry_exit_df.apply(parse_contract_symbol,axis=1,result_type=\"expand\")\n",
    "# entry_exit_df.reset_index().groupby(['option_expiration','oc_hx_contract_symbol'])['contract_symbol'].last().unstack()\n",
    "entry_exit_df = entry_exit_df[['contract_symbol','option_expiration','purch_date']].drop_duplicates()\n",
    "\n",
    "for exit in entry_exit_df[['contract_symbol','option_expiration']].drop_duplicates().to_dict('records'):\n",
    "    exit_df.loc[exit['option_expiration'],exit['contract_symbol']] = True"
   ]
  },
  {
   "cell_type": "code",
   "execution_count": 793,
   "metadata": {},
   "outputs": [],
   "source": [
    "assert exit_df.sum().sum() == 9  # does this need to be 12?"
   ]
  },
  {
   "cell_type": "markdown",
   "metadata": {},
   "source": [
    "### Setup wide data for vectorbt\n",
    "\n",
    "One column per option_contract series"
   ]
  },
  {
   "cell_type": "code",
   "execution_count": 672,
   "metadata": {},
   "outputs": [],
   "source": [
    "df_tmp = df[[c for c in df.columns if 'oc_hx' in c]]\n",
    "df_tmp = df_tmp.reset_index().set_index('oc_hx_date') #.set_index('oc_hx_symbol')\n",
    "df_tmp = df_tmp.sort_index()\n",
    "df_tmp = df_tmp.groupby(['oc_hx_date','oc_hx_contract_symbol'])['oc_hx_close'].max().unstack().dropna(how='all')"
   ]
  },
  {
   "cell_type": "code",
   "execution_count": 673,
   "metadata": {},
   "outputs": [],
   "source": [
    "assert df_tmp.shape == entry_df.shape == exit_df.shape"
   ]
  },
  {
   "cell_type": "markdown",
   "metadata": {},
   "source": [
    "### Create vectorbt portfolio.from_orders()\n",
    "\n",
    "Join entry_df and exit_df that had been created for the signals version to create +/- values for orders"
   ]
  },
  {
   "cell_type": "code",
   "execution_count": 812,
   "metadata": {},
   "outputs": [],
   "source": [
    "# # https://github.com/polakowo/vectorbt/issues/89\n",
    "# price = pd.Series([1., 2., 3.])\n",
    "# entries = pd.Series([True, False, False])\n",
    "# exits = pd.Series([False, False, True])\n",
    "# size = entries.astype(int) - exits.astype(int)\n",
    "# size[entries] = 0.5\n",
    "# p = vbt.Portfolio.from_orders(price, size)#, size_type='targetpercent')\n",
    "# p.shares()"
   ]
  },
  {
   "cell_type": "code",
   "execution_count": 822,
   "metadata": {},
   "outputs": [],
   "source": [
    "entry_sz = entry_df.astype(int) * 10 * 100\n",
    "exit_sz = exit_df.astype(int) * entry_sz.sum()\n",
    "entry_exit_sz = entry_sz - exit_sz"
   ]
  },
  {
   "cell_type": "code",
   "execution_count": 823,
   "metadata": {},
   "outputs": [],
   "source": [
    "symbol_groups = pd.Index([re.match('[A-Z]*',c)[0] for c in df_tmp.columns], name='group')\n",
    "portfolio = vbt.Portfolio.from_orders(\n",
    "    df_tmp, \n",
    "    size=entry_exit_sz, \n",
    "    min_size=0,\n",
    "    max_size=10000, \n",
    "    group_by=symbol_groups, \n",
    "    log=True, \n",
    "    fees=0.001, \n",
    "    slippage=0.001,\n",
    "    init_cash=10000,\n",
    "#     cash_sharing=True, \n",
    "    freq='1D',\n",
    ")"
   ]
  },
  {
   "cell_type": "markdown",
   "metadata": {},
   "source": [
    "### Create vectorbt portfolio.from_signals()\n",
    "\n",
    "Use groups to group by symbol instead of contract_symbol"
   ]
  },
  {
   "cell_type": "code",
   "execution_count": 796,
   "metadata": {},
   "outputs": [],
   "source": [
    "# portfolio_kwargs = dict(size=np.inf, fees=0.001, freq='1D')\n",
    "symbol_groups = pd.Index([re.match('[A-Z]*',c)[0] for c in df_tmp.columns], name='group')\n",
    "portfolio = vbt.Portfolio.from_signals(\n",
    "    df_tmp, \n",
    "    entries=entry_df, \n",
    "    exits=exit_df, \n",
    "    min_size=5,\n",
    "    max_size=10, \n",
    "    group_by=symbol_groups, \n",
    "    log=True, \n",
    "    fees=0.001, \n",
    "    slippage=0.001,\n",
    "    \n",
    "    size=1, \n",
    "    size_type='percent',\n",
    "#     size=1, \n",
    "#     size_type='percent',  https://github.com/polakowo/vectorbt/issues/89\n",
    "    \n",
    "#     init_cash='autoalign', \n",
    "    init_cash=10000,\n",
    "    cash_sharing=True, \n",
    "    freq='1D',\n",
    "    accumulate=True,  # makes multiple orders stack\n",
    "    \n",
    "#     direction=[list(Direction) for _ in range(entry_df.shape[1])],\n",
    "#     broadcast_kwargs=dict(columns_from=Direction._fields)\n",
    "\n",
    ")"
   ]
  },
  {
   "cell_type": "markdown",
   "metadata": {},
   "source": [
    "### Examine portfolio methods"
   ]
  },
  {
   "cell_type": "code",
   "execution_count": 801,
   "metadata": {
    "scrolled": true
   },
   "outputs": [
    {
     "data": {
      "text/html": [
       "<div>\n",
       "<style scoped>\n",
       "    .dataframe tbody tr th:only-of-type {\n",
       "        vertical-align: middle;\n",
       "    }\n",
       "\n",
       "    .dataframe tbody tr th {\n",
       "        vertical-align: top;\n",
       "    }\n",
       "\n",
       "    .dataframe thead th {\n",
       "        text-align: right;\n",
       "    }\n",
       "</style>\n",
       "<table border=\"1\" class=\"dataframe\">\n",
       "  <thead>\n",
       "    <tr style=\"text-align: right;\">\n",
       "      <th>oc_hx_contract_symbol</th>\n",
       "      <th>AMC210122C00002500</th>\n",
       "      <th>AMC210122C00003000</th>\n",
       "      <th>BB210108C00007000</th>\n",
       "      <th>BB210122C00007000</th>\n",
       "      <th>FEYE201218C00016000</th>\n",
       "      <th>FEYE201224C00014000</th>\n",
       "      <th>FEYE210115C00015000</th>\n",
       "      <th>FEYE210115C00016000</th>\n",
       "      <th>FEYE210115C00017000</th>\n",
       "    </tr>\n",
       "    <tr>\n",
       "      <th>oc_hx_date</th>\n",
       "      <th></th>\n",
       "      <th></th>\n",
       "      <th></th>\n",
       "      <th></th>\n",
       "      <th></th>\n",
       "      <th></th>\n",
       "      <th></th>\n",
       "      <th></th>\n",
       "      <th></th>\n",
       "    </tr>\n",
       "  </thead>\n",
       "  <tbody>\n",
       "    <tr>\n",
       "      <th>2019-01-02</th>\n",
       "      <td>0.0</td>\n",
       "      <td>0.0</td>\n",
       "      <td>0.0</td>\n",
       "      <td>0.0</td>\n",
       "      <td>0.0</td>\n",
       "      <td>0.0</td>\n",
       "      <td>0.0</td>\n",
       "      <td>0.0</td>\n",
       "      <td>0.0</td>\n",
       "    </tr>\n",
       "    <tr>\n",
       "      <th>2019-01-04</th>\n",
       "      <td>0.0</td>\n",
       "      <td>0.0</td>\n",
       "      <td>0.0</td>\n",
       "      <td>0.0</td>\n",
       "      <td>0.0</td>\n",
       "      <td>0.0</td>\n",
       "      <td>0.0</td>\n",
       "      <td>0.0</td>\n",
       "      <td>0.0</td>\n",
       "    </tr>\n",
       "    <tr>\n",
       "      <th>2019-01-14</th>\n",
       "      <td>0.0</td>\n",
       "      <td>0.0</td>\n",
       "      <td>0.0</td>\n",
       "      <td>0.0</td>\n",
       "      <td>0.0</td>\n",
       "      <td>0.0</td>\n",
       "      <td>0.0</td>\n",
       "      <td>0.0</td>\n",
       "      <td>0.0</td>\n",
       "    </tr>\n",
       "    <tr>\n",
       "      <th>2019-01-15</th>\n",
       "      <td>0.0</td>\n",
       "      <td>0.0</td>\n",
       "      <td>0.0</td>\n",
       "      <td>0.0</td>\n",
       "      <td>0.0</td>\n",
       "      <td>0.0</td>\n",
       "      <td>0.0</td>\n",
       "      <td>0.0</td>\n",
       "      <td>0.0</td>\n",
       "    </tr>\n",
       "    <tr>\n",
       "      <th>2019-01-18</th>\n",
       "      <td>0.0</td>\n",
       "      <td>0.0</td>\n",
       "      <td>0.0</td>\n",
       "      <td>0.0</td>\n",
       "      <td>0.0</td>\n",
       "      <td>0.0</td>\n",
       "      <td>0.0</td>\n",
       "      <td>0.0</td>\n",
       "      <td>0.0</td>\n",
       "    </tr>\n",
       "    <tr>\n",
       "      <th>...</th>\n",
       "      <td>...</td>\n",
       "      <td>...</td>\n",
       "      <td>...</td>\n",
       "      <td>...</td>\n",
       "      <td>...</td>\n",
       "      <td>...</td>\n",
       "      <td>...</td>\n",
       "      <td>...</td>\n",
       "      <td>...</td>\n",
       "    </tr>\n",
       "    <tr>\n",
       "      <th>2021-01-15</th>\n",
       "      <td>20.0</td>\n",
       "      <td>20.0</td>\n",
       "      <td>0.0</td>\n",
       "      <td>20.0</td>\n",
       "      <td>0.0</td>\n",
       "      <td>0.0</td>\n",
       "      <td>0.0</td>\n",
       "      <td>0.0</td>\n",
       "      <td>0.0</td>\n",
       "    </tr>\n",
       "    <tr>\n",
       "      <th>2021-01-19</th>\n",
       "      <td>20.0</td>\n",
       "      <td>20.0</td>\n",
       "      <td>0.0</td>\n",
       "      <td>20.0</td>\n",
       "      <td>0.0</td>\n",
       "      <td>0.0</td>\n",
       "      <td>0.0</td>\n",
       "      <td>0.0</td>\n",
       "      <td>0.0</td>\n",
       "    </tr>\n",
       "    <tr>\n",
       "      <th>2021-01-20</th>\n",
       "      <td>20.0</td>\n",
       "      <td>20.0</td>\n",
       "      <td>0.0</td>\n",
       "      <td>20.0</td>\n",
       "      <td>0.0</td>\n",
       "      <td>0.0</td>\n",
       "      <td>0.0</td>\n",
       "      <td>0.0</td>\n",
       "      <td>0.0</td>\n",
       "    </tr>\n",
       "    <tr>\n",
       "      <th>2021-01-21</th>\n",
       "      <td>20.0</td>\n",
       "      <td>20.0</td>\n",
       "      <td>0.0</td>\n",
       "      <td>20.0</td>\n",
       "      <td>0.0</td>\n",
       "      <td>0.0</td>\n",
       "      <td>0.0</td>\n",
       "      <td>0.0</td>\n",
       "      <td>0.0</td>\n",
       "    </tr>\n",
       "    <tr>\n",
       "      <th>2021-01-22</th>\n",
       "      <td>0.0</td>\n",
       "      <td>0.0</td>\n",
       "      <td>0.0</td>\n",
       "      <td>0.0</td>\n",
       "      <td>0.0</td>\n",
       "      <td>0.0</td>\n",
       "      <td>0.0</td>\n",
       "      <td>0.0</td>\n",
       "      <td>0.0</td>\n",
       "    </tr>\n",
       "  </tbody>\n",
       "</table>\n",
       "<p>440 rows × 9 columns</p>\n",
       "</div>"
      ],
      "text/plain": [
       "oc_hx_contract_symbol  AMC210122C00002500  AMC210122C00003000  \\\n",
       "oc_hx_date                                                      \n",
       "2019-01-02                            0.0                 0.0   \n",
       "2019-01-04                            0.0                 0.0   \n",
       "2019-01-14                            0.0                 0.0   \n",
       "2019-01-15                            0.0                 0.0   \n",
       "2019-01-18                            0.0                 0.0   \n",
       "...                                   ...                 ...   \n",
       "2021-01-15                           20.0                20.0   \n",
       "2021-01-19                           20.0                20.0   \n",
       "2021-01-20                           20.0                20.0   \n",
       "2021-01-21                           20.0                20.0   \n",
       "2021-01-22                            0.0                 0.0   \n",
       "\n",
       "oc_hx_contract_symbol  BB210108C00007000  BB210122C00007000  \\\n",
       "oc_hx_date                                                    \n",
       "2019-01-02                           0.0                0.0   \n",
       "2019-01-04                           0.0                0.0   \n",
       "2019-01-14                           0.0                0.0   \n",
       "2019-01-15                           0.0                0.0   \n",
       "2019-01-18                           0.0                0.0   \n",
       "...                                  ...                ...   \n",
       "2021-01-15                           0.0               20.0   \n",
       "2021-01-19                           0.0               20.0   \n",
       "2021-01-20                           0.0               20.0   \n",
       "2021-01-21                           0.0               20.0   \n",
       "2021-01-22                           0.0                0.0   \n",
       "\n",
       "oc_hx_contract_symbol  FEYE201218C00016000  FEYE201224C00014000  \\\n",
       "oc_hx_date                                                        \n",
       "2019-01-02                             0.0                  0.0   \n",
       "2019-01-04                             0.0                  0.0   \n",
       "2019-01-14                             0.0                  0.0   \n",
       "2019-01-15                             0.0                  0.0   \n",
       "2019-01-18                             0.0                  0.0   \n",
       "...                                    ...                  ...   \n",
       "2021-01-15                             0.0                  0.0   \n",
       "2021-01-19                             0.0                  0.0   \n",
       "2021-01-20                             0.0                  0.0   \n",
       "2021-01-21                             0.0                  0.0   \n",
       "2021-01-22                             0.0                  0.0   \n",
       "\n",
       "oc_hx_contract_symbol  FEYE210115C00015000  FEYE210115C00016000  \\\n",
       "oc_hx_date                                                        \n",
       "2019-01-02                             0.0                  0.0   \n",
       "2019-01-04                             0.0                  0.0   \n",
       "2019-01-14                             0.0                  0.0   \n",
       "2019-01-15                             0.0                  0.0   \n",
       "2019-01-18                             0.0                  0.0   \n",
       "...                                    ...                  ...   \n",
       "2021-01-15                             0.0                  0.0   \n",
       "2021-01-19                             0.0                  0.0   \n",
       "2021-01-20                             0.0                  0.0   \n",
       "2021-01-21                             0.0                  0.0   \n",
       "2021-01-22                             0.0                  0.0   \n",
       "\n",
       "oc_hx_contract_symbol  FEYE210115C00017000  \n",
       "oc_hx_date                                  \n",
       "2019-01-02                             0.0  \n",
       "2019-01-04                             0.0  \n",
       "2019-01-14                             0.0  \n",
       "2019-01-15                             0.0  \n",
       "2019-01-18                             0.0  \n",
       "...                                    ...  \n",
       "2021-01-15                             0.0  \n",
       "2021-01-19                             0.0  \n",
       "2021-01-20                             0.0  \n",
       "2021-01-21                             0.0  \n",
       "2021-01-22                             0.0  \n",
       "\n",
       "[440 rows x 9 columns]"
      ]
     },
     "execution_count": 801,
     "metadata": {},
     "output_type": "execute_result"
    }
   ],
   "source": [
    "portfolio.share_flow()\n",
    "portfolio.shares()"
   ]
  },
  {
   "cell_type": "code",
   "execution_count": 808,
   "metadata": {},
   "outputs": [
    {
     "data": {
      "text/html": [
       "<div>\n",
       "<style scoped>\n",
       "    .dataframe tbody tr th:only-of-type {\n",
       "        vertical-align: middle;\n",
       "    }\n",
       "\n",
       "    .dataframe tbody tr th {\n",
       "        vertical-align: top;\n",
       "    }\n",
       "\n",
       "    .dataframe thead th {\n",
       "        text-align: right;\n",
       "    }\n",
       "</style>\n",
       "<table border=\"1\" class=\"dataframe\">\n",
       "  <thead>\n",
       "    <tr style=\"text-align: right;\">\n",
       "      <th>group</th>\n",
       "      <th>AMC</th>\n",
       "      <th>BB</th>\n",
       "      <th>FEYE</th>\n",
       "    </tr>\n",
       "    <tr>\n",
       "      <th>oc_hx_date</th>\n",
       "      <th></th>\n",
       "      <th></th>\n",
       "      <th></th>\n",
       "    </tr>\n",
       "  </thead>\n",
       "  <tbody>\n",
       "    <tr>\n",
       "      <th>2019-01-02</th>\n",
       "      <td>20000.000000</td>\n",
       "      <td>20000.000000</td>\n",
       "      <td>50000.000000</td>\n",
       "    </tr>\n",
       "    <tr>\n",
       "      <th>2019-01-04</th>\n",
       "      <td>20000.000000</td>\n",
       "      <td>20000.000000</td>\n",
       "      <td>50000.000000</td>\n",
       "    </tr>\n",
       "    <tr>\n",
       "      <th>2019-01-14</th>\n",
       "      <td>20000.000000</td>\n",
       "      <td>20000.000000</td>\n",
       "      <td>50000.000000</td>\n",
       "    </tr>\n",
       "    <tr>\n",
       "      <th>2019-01-15</th>\n",
       "      <td>20000.000000</td>\n",
       "      <td>20000.000000</td>\n",
       "      <td>50000.000000</td>\n",
       "    </tr>\n",
       "    <tr>\n",
       "      <th>2019-01-18</th>\n",
       "      <td>20000.000000</td>\n",
       "      <td>20000.000000</td>\n",
       "      <td>50000.000000</td>\n",
       "    </tr>\n",
       "    <tr>\n",
       "      <th>...</th>\n",
       "      <td>...</td>\n",
       "      <td>...</td>\n",
       "      <td>...</td>\n",
       "    </tr>\n",
       "    <tr>\n",
       "      <th>2021-01-15</th>\n",
       "      <td>19994.589195</td>\n",
       "      <td>19997.973998</td>\n",
       "      <td>50347.125348</td>\n",
       "    </tr>\n",
       "    <tr>\n",
       "      <th>2021-01-19</th>\n",
       "      <td>19994.589195</td>\n",
       "      <td>19997.973998</td>\n",
       "      <td>50347.125348</td>\n",
       "    </tr>\n",
       "    <tr>\n",
       "      <th>2021-01-20</th>\n",
       "      <td>19994.589195</td>\n",
       "      <td>19997.973998</td>\n",
       "      <td>50347.125348</td>\n",
       "    </tr>\n",
       "    <tr>\n",
       "      <th>2021-01-21</th>\n",
       "      <td>19994.589195</td>\n",
       "      <td>19997.973998</td>\n",
       "      <td>50347.125348</td>\n",
       "    </tr>\n",
       "    <tr>\n",
       "      <th>2021-01-22</th>\n",
       "      <td>20024.529225</td>\n",
       "      <td>20137.694138</td>\n",
       "      <td>50347.125348</td>\n",
       "    </tr>\n",
       "  </tbody>\n",
       "</table>\n",
       "<p>440 rows × 3 columns</p>\n",
       "</div>"
      ],
      "text/plain": [
       "group                AMC            BB          FEYE\n",
       "oc_hx_date                                          \n",
       "2019-01-02  20000.000000  20000.000000  50000.000000\n",
       "2019-01-04  20000.000000  20000.000000  50000.000000\n",
       "2019-01-14  20000.000000  20000.000000  50000.000000\n",
       "2019-01-15  20000.000000  20000.000000  50000.000000\n",
       "2019-01-18  20000.000000  20000.000000  50000.000000\n",
       "...                  ...           ...           ...\n",
       "2021-01-15  19994.589195  19997.973998  50347.125348\n",
       "2021-01-19  19994.589195  19997.973998  50347.125348\n",
       "2021-01-20  19994.589195  19997.973998  50347.125348\n",
       "2021-01-21  19994.589195  19997.973998  50347.125348\n",
       "2021-01-22  20024.529225  20137.694138  50347.125348\n",
       "\n",
       "[440 rows x 3 columns]"
      ]
     },
     "execution_count": 808,
     "metadata": {},
     "output_type": "execute_result"
    }
   ],
   "source": [
    "portfolio.cash_flow()\n",
    "portfolio.cash()"
   ]
  },
  {
   "cell_type": "code",
   "execution_count": 814,
   "metadata": {},
   "outputs": [
    {
     "data": {
      "text/html": [
       "<div>\n",
       "<style scoped>\n",
       "    .dataframe tbody tr th:only-of-type {\n",
       "        vertical-align: middle;\n",
       "    }\n",
       "\n",
       "    .dataframe tbody tr th {\n",
       "        vertical-align: top;\n",
       "    }\n",
       "\n",
       "    .dataframe thead th {\n",
       "        text-align: right;\n",
       "    }\n",
       "</style>\n",
       "<table border=\"1\" class=\"dataframe\">\n",
       "  <thead>\n",
       "    <tr style=\"text-align: right;\">\n",
       "      <th>group</th>\n",
       "      <th>AMC</th>\n",
       "      <th>BB</th>\n",
       "      <th>FEYE</th>\n",
       "    </tr>\n",
       "    <tr>\n",
       "      <th>oc_hx_date</th>\n",
       "      <th></th>\n",
       "      <th></th>\n",
       "      <th></th>\n",
       "    </tr>\n",
       "  </thead>\n",
       "  <tbody>\n",
       "    <tr>\n",
       "      <th>2019-01-02</th>\n",
       "      <td>0.000000</td>\n",
       "      <td>0.000000</td>\n",
       "      <td>0.000000</td>\n",
       "    </tr>\n",
       "    <tr>\n",
       "      <th>2019-01-04</th>\n",
       "      <td>0.000000</td>\n",
       "      <td>0.000000</td>\n",
       "      <td>0.000000</td>\n",
       "    </tr>\n",
       "    <tr>\n",
       "      <th>2019-01-14</th>\n",
       "      <td>0.000000</td>\n",
       "      <td>0.000000</td>\n",
       "      <td>0.000000</td>\n",
       "    </tr>\n",
       "    <tr>\n",
       "      <th>2019-01-15</th>\n",
       "      <td>0.000000</td>\n",
       "      <td>0.000000</td>\n",
       "      <td>0.000000</td>\n",
       "    </tr>\n",
       "    <tr>\n",
       "      <th>2019-01-18</th>\n",
       "      <td>0.000000</td>\n",
       "      <td>0.000000</td>\n",
       "      <td>0.000000</td>\n",
       "    </tr>\n",
       "    <tr>\n",
       "      <th>...</th>\n",
       "      <td>...</td>\n",
       "      <td>...</td>\n",
       "      <td>...</td>\n",
       "    </tr>\n",
       "    <tr>\n",
       "      <th>2021-01-15</th>\n",
       "      <td>0.000335</td>\n",
       "      <td>0.000689</td>\n",
       "      <td>-0.000183</td>\n",
       "    </tr>\n",
       "    <tr>\n",
       "      <th>2021-01-19</th>\n",
       "      <td>0.000390</td>\n",
       "      <td>0.002403</td>\n",
       "      <td>0.000000</td>\n",
       "    </tr>\n",
       "    <tr>\n",
       "      <th>2021-01-20</th>\n",
       "      <td>-0.000240</td>\n",
       "      <td>0.000398</td>\n",
       "      <td>0.000000</td>\n",
       "    </tr>\n",
       "    <tr>\n",
       "      <th>2021-01-21</th>\n",
       "      <td>-0.000160</td>\n",
       "      <td>0.000099</td>\n",
       "      <td>0.000000</td>\n",
       "    </tr>\n",
       "    <tr>\n",
       "      <th>2021-01-22</th>\n",
       "      <td>0.000937</td>\n",
       "      <td>0.001179</td>\n",
       "      <td>0.000000</td>\n",
       "    </tr>\n",
       "  </tbody>\n",
       "</table>\n",
       "<p>440 rows × 3 columns</p>\n",
       "</div>"
      ],
      "text/plain": [
       "group            AMC        BB      FEYE\n",
       "oc_hx_date                              \n",
       "2019-01-02  0.000000  0.000000  0.000000\n",
       "2019-01-04  0.000000  0.000000  0.000000\n",
       "2019-01-14  0.000000  0.000000  0.000000\n",
       "2019-01-15  0.000000  0.000000  0.000000\n",
       "2019-01-18  0.000000  0.000000  0.000000\n",
       "...              ...       ...       ...\n",
       "2021-01-15  0.000335  0.000689 -0.000183\n",
       "2021-01-19  0.000390  0.002403  0.000000\n",
       "2021-01-20 -0.000240  0.000398  0.000000\n",
       "2021-01-21 -0.000160  0.000099  0.000000\n",
       "2021-01-22  0.000937  0.001179  0.000000\n",
       "\n",
       "[440 rows x 3 columns]"
      ]
     },
     "execution_count": 814,
     "metadata": {},
     "output_type": "execute_result"
    }
   ],
   "source": [
    "portfolio.daily_returns(group_by=None)"
   ]
  },
  {
   "cell_type": "code",
   "execution_count": 824,
   "metadata": {},
   "outputs": [
    {
     "data": {
      "text/plain": [
       "<matplotlib.axes._subplots.AxesSubplot at 0x1751a1460>"
      ]
     },
     "execution_count": 824,
     "metadata": {},
     "output_type": "execute_result"
    },
    {
     "data": {
      "image/png": "[encoded data removed]",
      "text/plain": [
       "<Figure size 432x288 with 1 Axes>"
      ]
     },
     "metadata": {
      "needs_background": "light"
     },
     "output_type": "display_data"
    }
   ],
   "source": [
    "portfolio.market_returns().plot()"
   ]
  },
  {
   "cell_type": "code",
   "execution_count": 825,
   "metadata": {},
   "outputs": [
    {
     "data": {
      "text/plain": [
       "<matplotlib.axes._subplots.AxesSubplot at 0x17525f760>"
      ]
     },
     "execution_count": 825,
     "metadata": {},
     "output_type": "execute_result"
    },
    {
     "data": {
      "image/png": "[encoded data removed]",
      "text/plain": [
       "<Figure size 432x288 with 1 Axes>"
      ]
     },
     "metadata": {
      "needs_background": "light"
     },
     "output_type": "display_data"
    }
   ],
   "source": [
    "portfolio.active_returns().plot()"
   ]
  },
  {
   "cell_type": "code",
   "execution_count": 826,
   "metadata": {
    "scrolled": false
   },
   "outputs": [
    {
     "data": {
      "text/html": [
       "<div>\n",
       "<style scoped>\n",
       "    .dataframe tbody tr th:only-of-type {\n",
       "        vertical-align: middle;\n",
       "    }\n",
       "\n",
       "    .dataframe tbody tr th {\n",
       "        vertical-align: top;\n",
       "    }\n",
       "\n",
       "    .dataframe thead th {\n",
       "        text-align: right;\n",
       "    }\n",
       "</style>\n",
       "<table border=\"1\" class=\"dataframe\">\n",
       "  <thead>\n",
       "    <tr style=\"text-align: right;\">\n",
       "      <th>group</th>\n",
       "      <th>AMC</th>\n",
       "      <th>BB</th>\n",
       "      <th>FEYE</th>\n",
       "    </tr>\n",
       "    <tr>\n",
       "      <th>oc_hx_date</th>\n",
       "      <th></th>\n",
       "      <th></th>\n",
       "      <th></th>\n",
       "    </tr>\n",
       "  </thead>\n",
       "  <tbody>\n",
       "    <tr>\n",
       "      <th>2019-01-02</th>\n",
       "      <td>0.000000</td>\n",
       "      <td>0.000000</td>\n",
       "      <td>0.000000</td>\n",
       "    </tr>\n",
       "    <tr>\n",
       "      <th>2019-01-04</th>\n",
       "      <td>0.000000</td>\n",
       "      <td>0.000000</td>\n",
       "      <td>0.000000</td>\n",
       "    </tr>\n",
       "    <tr>\n",
       "      <th>2019-01-14</th>\n",
       "      <td>0.000000</td>\n",
       "      <td>0.000000</td>\n",
       "      <td>0.000000</td>\n",
       "    </tr>\n",
       "    <tr>\n",
       "      <th>2019-01-15</th>\n",
       "      <td>0.000000</td>\n",
       "      <td>0.000000</td>\n",
       "      <td>0.000000</td>\n",
       "    </tr>\n",
       "    <tr>\n",
       "      <th>2019-01-18</th>\n",
       "      <td>0.000000</td>\n",
       "      <td>0.000000</td>\n",
       "      <td>0.000000</td>\n",
       "    </tr>\n",
       "    <tr>\n",
       "      <th>...</th>\n",
       "      <td>...</td>\n",
       "      <td>...</td>\n",
       "      <td>...</td>\n",
       "    </tr>\n",
       "    <tr>\n",
       "      <th>2021-01-15</th>\n",
       "      <td>0.029946</td>\n",
       "      <td>0.278870</td>\n",
       "      <td>0.694251</td>\n",
       "    </tr>\n",
       "    <tr>\n",
       "      <th>2021-01-19</th>\n",
       "      <td>0.068946</td>\n",
       "      <td>0.519870</td>\n",
       "      <td>0.694251</td>\n",
       "    </tr>\n",
       "    <tr>\n",
       "      <th>2021-01-20</th>\n",
       "      <td>0.044946</td>\n",
       "      <td>0.559870</td>\n",
       "      <td>0.694251</td>\n",
       "    </tr>\n",
       "    <tr>\n",
       "      <th>2021-01-21</th>\n",
       "      <td>0.028946</td>\n",
       "      <td>0.569870</td>\n",
       "      <td>0.694251</td>\n",
       "    </tr>\n",
       "    <tr>\n",
       "      <th>2021-01-22</th>\n",
       "      <td>0.122646</td>\n",
       "      <td>0.688471</td>\n",
       "      <td>0.694251</td>\n",
       "    </tr>\n",
       "  </tbody>\n",
       "</table>\n",
       "<p>440 rows × 3 columns</p>\n",
       "</div>"
      ],
      "text/plain": [
       "group            AMC        BB      FEYE\n",
       "oc_hx_date                              \n",
       "2019-01-02  0.000000  0.000000  0.000000\n",
       "2019-01-04  0.000000  0.000000  0.000000\n",
       "2019-01-14  0.000000  0.000000  0.000000\n",
       "2019-01-15  0.000000  0.000000  0.000000\n",
       "2019-01-18  0.000000  0.000000  0.000000\n",
       "...              ...       ...       ...\n",
       "2021-01-15  0.029946  0.278870  0.694251\n",
       "2021-01-19  0.068946  0.519870  0.694251\n",
       "2021-01-20  0.044946  0.559870  0.694251\n",
       "2021-01-21  0.028946  0.569870  0.694251\n",
       "2021-01-22  0.122646  0.688471  0.694251\n",
       "\n",
       "[440 rows x 3 columns]"
      ]
     },
     "execution_count": 826,
     "metadata": {},
     "output_type": "execute_result"
    }
   ],
   "source": [
    "portfolio.cumulative_returns()"
   ]
  },
  {
   "cell_type": "code",
   "execution_count": 827,
   "metadata": {},
   "outputs": [
    {
     "data": {
      "text/plain": [
       "Start                    2019-01-02 00:00:00\n",
       "End                      2021-01-22 00:00:00\n",
       "Duration                   440 days 00:00:00\n",
       "Total Return [%]                     50.1789\n",
       "Benchmark Return [%]                  215.39\n",
       "Annual Return [%]                    25.6962\n",
       "Annual Volatility [%]                21.7004\n",
       "Sharpe Ratio                         1.13174\n",
       "Calmar Ratio                         7.71315\n",
       "Max. Drawdown [%]                   -6.31379\n",
       "Omega Ratio                          9.48925\n",
       "Sortino Ratio                        11.0617\n",
       "Skew                                 13.3404\n",
       "Kurtosis                             214.147\n",
       "Tail Ratio                               inf\n",
       "Common Sense Ratio                       inf\n",
       "Value at Risk                              0\n",
       "Alpha                               0.156024\n",
       "Beta                               0.0195026\n",
       "Name: <lambda>, dtype: object"
      ]
     },
     "execution_count": 827,
     "metadata": {},
     "output_type": "execute_result"
    }
   ],
   "source": [
    "portfolio.returns_stats()"
   ]
  },
  {
   "cell_type": "code",
   "execution_count": 828,
   "metadata": {},
   "outputs": [
    {
     "data": {
      "text/plain": [
       "group\n",
       "AMC     22452.92246\n",
       "BB      33769.41380\n",
       "FEYE    84712.53479\n",
       "dtype: float64"
      ]
     },
     "execution_count": 828,
     "metadata": {},
     "output_type": "execute_result"
    }
   ],
   "source": [
    "portfolio.final_value()"
   ]
  },
  {
   "cell_type": "code",
   "execution_count": 829,
   "metadata": {},
   "outputs": [
    {
     "data": {
      "text/plain": [
       "group\n",
       "AMC     0.0\n",
       "BB      0.0\n",
       "FEYE    0.0\n",
       "dtype: float64"
      ]
     },
     "execution_count": 829,
     "metadata": {},
     "output_type": "execute_result"
    }
   ],
   "source": [
    "portfolio.value_at_risk()"
   ]
  },
  {
   "cell_type": "code",
   "execution_count": 830,
   "metadata": {},
   "outputs": [
    {
     "data": {
      "text/plain": [
       "group\n",
       "AMC    -0.476869\n",
       "BB      3.764286\n",
       "FEYE    3.174293\n",
       "dtype: float64"
      ]
     },
     "execution_count": 830,
     "metadata": {},
     "output_type": "execute_result"
    }
   ],
   "source": [
    "portfolio.total_market_return()"
   ]
  },
  {
   "cell_type": "code",
   "execution_count": 831,
   "metadata": {},
   "outputs": [
    {
     "data": {
      "text/plain": [
       "group\n",
       "AMC      2452.92246\n",
       "BB      13769.41380\n",
       "FEYE    34712.53479\n",
       "dtype: float64"
      ]
     },
     "execution_count": 831,
     "metadata": {},
     "output_type": "execute_result"
    }
   ],
   "source": [
    "portfolio.total_profit()"
   ]
  },
  {
   "cell_type": "code",
   "execution_count": 832,
   "metadata": {},
   "outputs": [
    {
     "data": {
      "text/plain": [
       "group\n",
       "AMC      1.830632\n",
       "BB      18.663257\n",
       "FEYE     2.645566\n",
       "dtype: float64"
      ]
     },
     "execution_count": 832,
     "metadata": {},
     "output_type": "execute_result"
    }
   ],
   "source": [
    "portfolio.calmar_ratio()"
   ]
  },
  {
   "cell_type": "code",
   "execution_count": 833,
   "metadata": {},
   "outputs": [
    {
     "data": {
      "text/plain": [
       "oc_hx_contract_symbol\n",
       "AMC210122C00002500    -0.025502\n",
       "AMC210122C00003000    -0.050003\n",
       "BB210108C00007000     -0.005020\n",
       "BB210122C00007000     -0.036735\n",
       "FEYE201218C00016000   -0.005014\n",
       "FEYE201224C00014000   -0.097630\n",
       "FEYE210115C00015000   -0.202236\n",
       "FEYE210115C00016000   -0.143500\n",
       "FEYE210115C00017000   -0.152418\n",
       "dtype: float64"
      ]
     },
     "execution_count": 833,
     "metadata": {},
     "output_type": "execute_result"
    }
   ],
   "source": [
    "# portfolio.get_drawdowns()\n",
    "portfolio.max_drawdown(group_by=False)\n",
    "# portfolio.drawdown()"
   ]
  },
  {
   "cell_type": "code",
   "execution_count": 834,
   "metadata": {},
   "outputs": [
    {
     "data": {
      "application/vnd.jupyter.widget-view+json": {
       "model_id": "2bfbc35f5b1a4674bdfdb4046da4b4e5",
       "version_major": 2,
       "version_minor": 0
      },
      "text/plain": [
       "FigureWidget({\n",
       "    'data': [{'name': 'AMC210122C00002500',\n",
       "              'showlegend': True,\n",
       "              'ty…"
      ]
     },
     "metadata": {},
     "output_type": "display_data"
    }
   ],
   "source": [
    "portfolio.value(group_by=False).vbt.plot()"
   ]
  },
  {
   "cell_type": "code",
   "execution_count": 835,
   "metadata": {},
   "outputs": [
    {
     "data": {
      "application/vnd.jupyter.widget-view+json": {
       "model_id": "38d0656b86f6488698b679ad8b0fd960",
       "version_major": 2,
       "version_minor": 0
      },
      "text/plain": [
       "FigureWidget({\n",
       "    'data': [{'name': 'AMC',\n",
       "              'showlegend': True,\n",
       "              'type': 'scatter',…"
      ]
     },
     "metadata": {},
     "output_type": "display_data"
    }
   ],
   "source": [
    "portfolio.value().vbt.plot()"
   ]
  },
  {
   "cell_type": "code",
   "execution_count": 836,
   "metadata": {},
   "outputs": [
    {
     "data": {
      "text/plain": [
       "oc_hx_contract_symbol\n",
       "AMC210122C00002500     0.175552\n",
       "AMC210122C00003000     0.069740\n",
       "BB210108C00007000      0.044870\n",
       "BB210122C00007000      1.332071\n",
       "FEYE201218C00016000    0.304362\n",
       "FEYE201224C00014000    0.771267\n",
       "FEYE210115C00015000    1.306019\n",
       "FEYE210115C00016000    0.571727\n",
       "FEYE210115C00017000    0.517879\n",
       "dtype: float64"
      ]
     },
     "execution_count": 836,
     "metadata": {},
     "output_type": "execute_result"
    }
   ],
   "source": [
    "portfolio.total_return(group_by=False)"
   ]
  },
  {
   "cell_type": "code",
   "execution_count": 837,
   "metadata": {},
   "outputs": [
    {
     "data": {
      "text/plain": [
       "group\n",
       "AMC     0.122646\n",
       "BB      0.688471\n",
       "FEYE    0.694251\n",
       "dtype: float64"
      ]
     },
     "execution_count": 837,
     "metadata": {},
     "output_type": "execute_result"
    }
   ],
   "source": [
    "portfolio.total_return()"
   ]
  },
  {
   "cell_type": "markdown",
   "metadata": {},
   "source": [
    "### change t his to multiple entries per day"
   ]
  },
  {
   "cell_type": "code",
   "execution_count": 840,
   "metadata": {},
   "outputs": [],
   "source": [
    "trade_df = portfolio.logs.records"
   ]
  },
  {
   "cell_type": "code",
   "execution_count": 842,
   "metadata": {},
   "outputs": [
    {
     "data": {
      "text/html": [
       "<div>\n",
       "<style scoped>\n",
       "    .dataframe tbody tr th:only-of-type {\n",
       "        vertical-align: middle;\n",
       "    }\n",
       "\n",
       "    .dataframe tbody tr th {\n",
       "        vertical-align: top;\n",
       "    }\n",
       "\n",
       "    .dataframe thead th {\n",
       "        text-align: right;\n",
       "    }\n",
       "</style>\n",
       "<table border=\"1\" class=\"dataframe\">\n",
       "  <thead>\n",
       "    <tr style=\"text-align: right;\">\n",
       "      <th></th>\n",
       "      <th>id</th>\n",
       "      <th>idx</th>\n",
       "      <th>col</th>\n",
       "      <th>group</th>\n",
       "      <th>cash_now</th>\n",
       "      <th>shares_now</th>\n",
       "      <th>val_price_now</th>\n",
       "      <th>value_now</th>\n",
       "      <th>size</th>\n",
       "      <th>size_type</th>\n",
       "      <th>...</th>\n",
       "      <th>log</th>\n",
       "      <th>new_cash</th>\n",
       "      <th>new_shares</th>\n",
       "      <th>res_size</th>\n",
       "      <th>res_price</th>\n",
       "      <th>res_fees</th>\n",
       "      <th>res_side</th>\n",
       "      <th>res_status</th>\n",
       "      <th>res_status_info</th>\n",
       "      <th>order_id</th>\n",
       "    </tr>\n",
       "  </thead>\n",
       "  <tbody>\n",
       "    <tr>\n",
       "      <th>432</th>\n",
       "      <td>432</td>\n",
       "      <td>432</td>\n",
       "      <td>0</td>\n",
       "      <td>0</td>\n",
       "      <td>10000.00000</td>\n",
       "      <td>0.0</td>\n",
       "      <td>0.14</td>\n",
       "      <td>10000.00000</td>\n",
       "      <td>1000.0</td>\n",
       "      <td>0</td>\n",
       "      <td>...</td>\n",
       "      <td>True</td>\n",
       "      <td>9859.71986</td>\n",
       "      <td>1000.0</td>\n",
       "      <td>1000.0</td>\n",
       "      <td>0.14014</td>\n",
       "      <td>0.14014</td>\n",
       "      <td>0</td>\n",
       "      <td>0</td>\n",
       "      <td>-1</td>\n",
       "      <td>0</td>\n",
       "    </tr>\n",
       "    <tr>\n",
       "      <th>433</th>\n",
       "      <td>433</td>\n",
       "      <td>433</td>\n",
       "      <td>0</td>\n",
       "      <td>0</td>\n",
       "      <td>9859.71986</td>\n",
       "      <td>1000.0</td>\n",
       "      <td>0.10</td>\n",
       "      <td>9959.71986</td>\n",
       "      <td>1000.0</td>\n",
       "      <td>0</td>\n",
       "      <td>...</td>\n",
       "      <td>True</td>\n",
       "      <td>9759.51976</td>\n",
       "      <td>2000.0</td>\n",
       "      <td>1000.0</td>\n",
       "      <td>0.10010</td>\n",
       "      <td>0.10010</td>\n",
       "      <td>0</td>\n",
       "      <td>0</td>\n",
       "      <td>-1</td>\n",
       "      <td>1</td>\n",
       "    </tr>\n",
       "    <tr>\n",
       "      <th>439</th>\n",
       "      <td>439</td>\n",
       "      <td>439</td>\n",
       "      <td>0</td>\n",
       "      <td>0</td>\n",
       "      <td>9759.51976</td>\n",
       "      <td>2000.0</td>\n",
       "      <td>1.00</td>\n",
       "      <td>11759.51976</td>\n",
       "      <td>-2000.0</td>\n",
       "      <td>0</td>\n",
       "      <td>...</td>\n",
       "      <td>True</td>\n",
       "      <td>11755.52176</td>\n",
       "      <td>0.0</td>\n",
       "      <td>2000.0</td>\n",
       "      <td>0.99900</td>\n",
       "      <td>1.99800</td>\n",
       "      <td>1</td>\n",
       "      <td>0</td>\n",
       "      <td>-1</td>\n",
       "      <td>2</td>\n",
       "    </tr>\n",
       "    <tr>\n",
       "      <th>870</th>\n",
       "      <td>870</td>\n",
       "      <td>430</td>\n",
       "      <td>1</td>\n",
       "      <td>1</td>\n",
       "      <td>10000.00000</td>\n",
       "      <td>0.0</td>\n",
       "      <td>0.09</td>\n",
       "      <td>10000.00000</td>\n",
       "      <td>1000.0</td>\n",
       "      <td>0</td>\n",
       "      <td>...</td>\n",
       "      <td>True</td>\n",
       "      <td>9909.81991</td>\n",
       "      <td>1000.0</td>\n",
       "      <td>1000.0</td>\n",
       "      <td>0.09009</td>\n",
       "      <td>0.09009</td>\n",
       "      <td>0</td>\n",
       "      <td>0</td>\n",
       "      <td>-1</td>\n",
       "      <td>3</td>\n",
       "    </tr>\n",
       "    <tr>\n",
       "      <th>875</th>\n",
       "      <td>875</td>\n",
       "      <td>435</td>\n",
       "      <td>1</td>\n",
       "      <td>1</td>\n",
       "      <td>9909.81991</td>\n",
       "      <td>1000.0</td>\n",
       "      <td>0.21</td>\n",
       "      <td>10119.81991</td>\n",
       "      <td>1000.0</td>\n",
       "      <td>0</td>\n",
       "      <td>...</td>\n",
       "      <td>True</td>\n",
       "      <td>9699.39970</td>\n",
       "      <td>2000.0</td>\n",
       "      <td>1000.0</td>\n",
       "      <td>0.21021</td>\n",
       "      <td>0.21021</td>\n",
       "      <td>0</td>\n",
       "      <td>0</td>\n",
       "      <td>-1</td>\n",
       "      <td>4</td>\n",
       "    </tr>\n",
       "    <tr>\n",
       "      <th>879</th>\n",
       "      <td>879</td>\n",
       "      <td>439</td>\n",
       "      <td>1</td>\n",
       "      <td>1</td>\n",
       "      <td>9699.39970</td>\n",
       "      <td>2000.0</td>\n",
       "      <td>0.50</td>\n",
       "      <td>10699.39970</td>\n",
       "      <td>-2000.0</td>\n",
       "      <td>0</td>\n",
       "      <td>...</td>\n",
       "      <td>True</td>\n",
       "      <td>10697.40070</td>\n",
       "      <td>0.0</td>\n",
       "      <td>2000.0</td>\n",
       "      <td>0.49950</td>\n",
       "      <td>0.99900</td>\n",
       "      <td>1</td>\n",
       "      <td>0</td>\n",
       "      <td>-1</td>\n",
       "      <td>5</td>\n",
       "    </tr>\n",
       "    <tr>\n",
       "      <th>1305</th>\n",
       "      <td>1305</td>\n",
       "      <td>425</td>\n",
       "      <td>2</td>\n",
       "      <td>2</td>\n",
       "      <td>10000.00000</td>\n",
       "      <td>0.0</td>\n",
       "      <td>0.10</td>\n",
       "      <td>10000.00000</td>\n",
       "      <td>1000.0</td>\n",
       "      <td>0</td>\n",
       "      <td>...</td>\n",
       "      <td>True</td>\n",
       "      <td>9899.79990</td>\n",
       "      <td>1000.0</td>\n",
       "      <td>1000.0</td>\n",
       "      <td>0.10010</td>\n",
       "      <td>0.10010</td>\n",
       "      <td>0</td>\n",
       "      <td>0</td>\n",
       "      <td>-1</td>\n",
       "      <td>6</td>\n",
       "    </tr>\n",
       "    <tr>\n",
       "      <th>1310</th>\n",
       "      <td>1310</td>\n",
       "      <td>430</td>\n",
       "      <td>2</td>\n",
       "      <td>2</td>\n",
       "      <td>9899.79990</td>\n",
       "      <td>1000.0</td>\n",
       "      <td>0.55</td>\n",
       "      <td>10449.79990</td>\n",
       "      <td>-1000.0</td>\n",
       "      <td>0</td>\n",
       "      <td>...</td>\n",
       "      <td>True</td>\n",
       "      <td>10448.70045</td>\n",
       "      <td>0.0</td>\n",
       "      <td>1000.0</td>\n",
       "      <td>0.54945</td>\n",
       "      <td>0.54945</td>\n",
       "      <td>1</td>\n",
       "      <td>0</td>\n",
       "      <td>-1</td>\n",
       "      <td>7</td>\n",
       "    </tr>\n",
       "    <tr>\n",
       "      <th>1744</th>\n",
       "      <td>1744</td>\n",
       "      <td>424</td>\n",
       "      <td>3</td>\n",
       "      <td>3</td>\n",
       "      <td>10000.00000</td>\n",
       "      <td>0.0</td>\n",
       "      <td>0.27</td>\n",
       "      <td>10000.00000</td>\n",
       "      <td>1000.0</td>\n",
       "      <td>0</td>\n",
       "      <td>...</td>\n",
       "      <td>True</td>\n",
       "      <td>9729.45973</td>\n",
       "      <td>1000.0</td>\n",
       "      <td>1000.0</td>\n",
       "      <td>0.27027</td>\n",
       "      <td>0.27027</td>\n",
       "      <td>0</td>\n",
       "      <td>0</td>\n",
       "      <td>-1</td>\n",
       "      <td>8</td>\n",
       "    </tr>\n",
       "    <tr>\n",
       "      <th>1749</th>\n",
       "      <td>1749</td>\n",
       "      <td>429</td>\n",
       "      <td>3</td>\n",
       "      <td>3</td>\n",
       "      <td>9729.45973</td>\n",
       "      <td>1000.0</td>\n",
       "      <td>0.38</td>\n",
       "      <td>10109.45973</td>\n",
       "      <td>1000.0</td>\n",
       "      <td>0</td>\n",
       "      <td>...</td>\n",
       "      <td>True</td>\n",
       "      <td>9348.69935</td>\n",
       "      <td>2000.0</td>\n",
       "      <td>1000.0</td>\n",
       "      <td>0.38038</td>\n",
       "      <td>0.38038</td>\n",
       "      <td>0</td>\n",
       "      <td>0</td>\n",
       "      <td>-1</td>\n",
       "      <td>9</td>\n",
       "    </tr>\n",
       "    <tr>\n",
       "      <th>1759</th>\n",
       "      <td>1759</td>\n",
       "      <td>439</td>\n",
       "      <td>3</td>\n",
       "      <td>3</td>\n",
       "      <td>9348.69935</td>\n",
       "      <td>2000.0</td>\n",
       "      <td>7.00</td>\n",
       "      <td>23348.69935</td>\n",
       "      <td>-2000.0</td>\n",
       "      <td>0</td>\n",
       "      <td>...</td>\n",
       "      <td>True</td>\n",
       "      <td>23320.71335</td>\n",
       "      <td>0.0</td>\n",
       "      <td>2000.0</td>\n",
       "      <td>6.99300</td>\n",
       "      <td>13.98600</td>\n",
       "      <td>1</td>\n",
       "      <td>0</td>\n",
       "      <td>-1</td>\n",
       "      <td>10</td>\n",
       "    </tr>\n",
       "    <tr>\n",
       "      <th>2170</th>\n",
       "      <td>2170</td>\n",
       "      <td>410</td>\n",
       "      <td>4</td>\n",
       "      <td>4</td>\n",
       "      <td>10000.00000</td>\n",
       "      <td>0.0</td>\n",
       "      <td>0.07</td>\n",
       "      <td>10000.00000</td>\n",
       "      <td>1000.0</td>\n",
       "      <td>0</td>\n",
       "      <td>...</td>\n",
       "      <td>True</td>\n",
       "      <td>9929.85993</td>\n",
       "      <td>1000.0</td>\n",
       "      <td>1000.0</td>\n",
       "      <td>0.07007</td>\n",
       "      <td>0.07007</td>\n",
       "      <td>0</td>\n",
       "      <td>0</td>\n",
       "      <td>-1</td>\n",
       "      <td>11</td>\n",
       "    </tr>\n",
       "    <tr>\n",
       "      <th>2177</th>\n",
       "      <td>2177</td>\n",
       "      <td>417</td>\n",
       "      <td>4</td>\n",
       "      <td>4</td>\n",
       "      <td>9929.85993</td>\n",
       "      <td>1000.0</td>\n",
       "      <td>3.12</td>\n",
       "      <td>13049.85993</td>\n",
       "      <td>-1000.0</td>\n",
       "      <td>0</td>\n",
       "      <td>...</td>\n",
       "      <td>True</td>\n",
       "      <td>13043.62305</td>\n",
       "      <td>0.0</td>\n",
       "      <td>1000.0</td>\n",
       "      <td>3.11688</td>\n",
       "      <td>3.11688</td>\n",
       "      <td>1</td>\n",
       "      <td>0</td>\n",
       "      <td>-1</td>\n",
       "      <td>12</td>\n",
       "    </tr>\n",
       "    <tr>\n",
       "      <th>2614</th>\n",
       "      <td>2614</td>\n",
       "      <td>414</td>\n",
       "      <td>5</td>\n",
       "      <td>5</td>\n",
       "      <td>10000.00000</td>\n",
       "      <td>0.0</td>\n",
       "      <td>0.47</td>\n",
       "      <td>10000.00000</td>\n",
       "      <td>1000.0</td>\n",
       "      <td>0</td>\n",
       "      <td>...</td>\n",
       "      <td>True</td>\n",
       "      <td>9529.05953</td>\n",
       "      <td>1000.0</td>\n",
       "      <td>1000.0</td>\n",
       "      <td>0.47047</td>\n",
       "      <td>0.47047</td>\n",
       "      <td>0</td>\n",
       "      <td>0</td>\n",
       "      <td>-1</td>\n",
       "      <td>13</td>\n",
       "    </tr>\n",
       "    <tr>\n",
       "      <th>2621</th>\n",
       "      <td>2621</td>\n",
       "      <td>421</td>\n",
       "      <td>5</td>\n",
       "      <td>5</td>\n",
       "      <td>9529.05953</td>\n",
       "      <td>1000.0</td>\n",
       "      <td>8.20</td>\n",
       "      <td>17729.05953</td>\n",
       "      <td>-1000.0</td>\n",
       "      <td>0</td>\n",
       "      <td>...</td>\n",
       "      <td>True</td>\n",
       "      <td>17712.66773</td>\n",
       "      <td>0.0</td>\n",
       "      <td>1000.0</td>\n",
       "      <td>8.19180</td>\n",
       "      <td>8.19180</td>\n",
       "      <td>1</td>\n",
       "      <td>0</td>\n",
       "      <td>-1</td>\n",
       "      <td>14</td>\n",
       "    </tr>\n",
       "    <tr>\n",
       "      <th>3051</th>\n",
       "      <td>3051</td>\n",
       "      <td>411</td>\n",
       "      <td>6</td>\n",
       "      <td>6</td>\n",
       "      <td>10000.00000</td>\n",
       "      <td>0.0</td>\n",
       "      <td>0.41</td>\n",
       "      <td>10000.00000</td>\n",
       "      <td>1000.0</td>\n",
       "      <td>0</td>\n",
       "      <td>...</td>\n",
       "      <td>True</td>\n",
       "      <td>9589.17959</td>\n",
       "      <td>1000.0</td>\n",
       "      <td>1000.0</td>\n",
       "      <td>0.41041</td>\n",
       "      <td>0.41041</td>\n",
       "      <td>0</td>\n",
       "      <td>0</td>\n",
       "      <td>-1</td>\n",
       "      <td>15</td>\n",
       "    </tr>\n",
       "    <tr>\n",
       "      <th>3056</th>\n",
       "      <td>3056</td>\n",
       "      <td>416</td>\n",
       "      <td>6</td>\n",
       "      <td>6</td>\n",
       "      <td>9589.17959</td>\n",
       "      <td>1000.0</td>\n",
       "      <td>0.50</td>\n",
       "      <td>10089.17959</td>\n",
       "      <td>1000.0</td>\n",
       "      <td>0</td>\n",
       "      <td>...</td>\n",
       "      <td>True</td>\n",
       "      <td>9088.17909</td>\n",
       "      <td>2000.0</td>\n",
       "      <td>1000.0</td>\n",
       "      <td>0.50050</td>\n",
       "      <td>0.50050</td>\n",
       "      <td>0</td>\n",
       "      <td>0</td>\n",
       "      <td>-1</td>\n",
       "      <td>16</td>\n",
       "    </tr>\n",
       "    <tr>\n",
       "      <th>3075</th>\n",
       "      <td>3075</td>\n",
       "      <td>435</td>\n",
       "      <td>6</td>\n",
       "      <td>6</td>\n",
       "      <td>9088.17909</td>\n",
       "      <td>2000.0</td>\n",
       "      <td>7.00</td>\n",
       "      <td>23088.17909</td>\n",
       "      <td>-2000.0</td>\n",
       "      <td>0</td>\n",
       "      <td>...</td>\n",
       "      <td>True</td>\n",
       "      <td>23060.19309</td>\n",
       "      <td>0.0</td>\n",
       "      <td>2000.0</td>\n",
       "      <td>6.99300</td>\n",
       "      <td>13.98600</td>\n",
       "      <td>1</td>\n",
       "      <td>0</td>\n",
       "      <td>-1</td>\n",
       "      <td>17</td>\n",
       "    </tr>\n",
       "    <tr>\n",
       "      <th>3490</th>\n",
       "      <td>3490</td>\n",
       "      <td>410</td>\n",
       "      <td>7</td>\n",
       "      <td>7</td>\n",
       "      <td>10000.00000</td>\n",
       "      <td>0.0</td>\n",
       "      <td>0.32</td>\n",
       "      <td>10000.00000</td>\n",
       "      <td>1000.0</td>\n",
       "      <td>0</td>\n",
       "      <td>...</td>\n",
       "      <td>True</td>\n",
       "      <td>9679.35968</td>\n",
       "      <td>1000.0</td>\n",
       "      <td>1000.0</td>\n",
       "      <td>0.32032</td>\n",
       "      <td>0.32032</td>\n",
       "      <td>0</td>\n",
       "      <td>0</td>\n",
       "      <td>-1</td>\n",
       "      <td>18</td>\n",
       "    </tr>\n",
       "    <tr>\n",
       "      <th>3515</th>\n",
       "      <td>3515</td>\n",
       "      <td>435</td>\n",
       "      <td>7</td>\n",
       "      <td>7</td>\n",
       "      <td>9679.35968</td>\n",
       "      <td>1000.0</td>\n",
       "      <td>6.05</td>\n",
       "      <td>15729.35968</td>\n",
       "      <td>-1000.0</td>\n",
       "      <td>0</td>\n",
       "      <td>...</td>\n",
       "      <td>True</td>\n",
       "      <td>15717.26573</td>\n",
       "      <td>0.0</td>\n",
       "      <td>1000.0</td>\n",
       "      <td>6.04395</td>\n",
       "      <td>6.04395</td>\n",
       "      <td>1</td>\n",
       "      <td>0</td>\n",
       "      <td>-1</td>\n",
       "      <td>19</td>\n",
       "    </tr>\n",
       "    <tr>\n",
       "      <th>3930</th>\n",
       "      <td>3930</td>\n",
       "      <td>410</td>\n",
       "      <td>8</td>\n",
       "      <td>8</td>\n",
       "      <td>10000.00000</td>\n",
       "      <td>0.0</td>\n",
       "      <td>0.21</td>\n",
       "      <td>10000.00000</td>\n",
       "      <td>1000.0</td>\n",
       "      <td>0</td>\n",
       "      <td>...</td>\n",
       "      <td>True</td>\n",
       "      <td>9789.57979</td>\n",
       "      <td>1000.0</td>\n",
       "      <td>1000.0</td>\n",
       "      <td>0.21021</td>\n",
       "      <td>0.21021</td>\n",
       "      <td>0</td>\n",
       "      <td>0</td>\n",
       "      <td>-1</td>\n",
       "      <td>20</td>\n",
       "    </tr>\n",
       "    <tr>\n",
       "      <th>3955</th>\n",
       "      <td>3955</td>\n",
       "      <td>435</td>\n",
       "      <td>8</td>\n",
       "      <td>8</td>\n",
       "      <td>9789.57979</td>\n",
       "      <td>1000.0</td>\n",
       "      <td>5.40</td>\n",
       "      <td>15189.57979</td>\n",
       "      <td>-1000.0</td>\n",
       "      <td>0</td>\n",
       "      <td>...</td>\n",
       "      <td>True</td>\n",
       "      <td>15178.78519</td>\n",
       "      <td>0.0</td>\n",
       "      <td>1000.0</td>\n",
       "      <td>5.39460</td>\n",
       "      <td>5.39460</td>\n",
       "      <td>1</td>\n",
       "      <td>0</td>\n",
       "      <td>-1</td>\n",
       "      <td>21</td>\n",
       "    </tr>\n",
       "  </tbody>\n",
       "</table>\n",
       "<p>22 rows × 30 columns</p>\n",
       "</div>"
      ],
      "text/plain": [
       "        id  idx  col  group     cash_now  shares_now  val_price_now  \\\n",
       "432    432  432    0      0  10000.00000         0.0           0.14   \n",
       "433    433  433    0      0   9859.71986      1000.0           0.10   \n",
       "439    439  439    0      0   9759.51976      2000.0           1.00   \n",
       "870    870  430    1      1  10000.00000         0.0           0.09   \n",
       "875    875  435    1      1   9909.81991      1000.0           0.21   \n",
       "879    879  439    1      1   9699.39970      2000.0           0.50   \n",
       "1305  1305  425    2      2  10000.00000         0.0           0.10   \n",
       "1310  1310  430    2      2   9899.79990      1000.0           0.55   \n",
       "1744  1744  424    3      3  10000.00000         0.0           0.27   \n",
       "1749  1749  429    3      3   9729.45973      1000.0           0.38   \n",
       "1759  1759  439    3      3   9348.69935      2000.0           7.00   \n",
       "2170  2170  410    4      4  10000.00000         0.0           0.07   \n",
       "2177  2177  417    4      4   9929.85993      1000.0           3.12   \n",
       "2614  2614  414    5      5  10000.00000         0.0           0.47   \n",
       "2621  2621  421    5      5   9529.05953      1000.0           8.20   \n",
       "3051  3051  411    6      6  10000.00000         0.0           0.41   \n",
       "3056  3056  416    6      6   9589.17959      1000.0           0.50   \n",
       "3075  3075  435    6      6   9088.17909      2000.0           7.00   \n",
       "3490  3490  410    7      7  10000.00000         0.0           0.32   \n",
       "3515  3515  435    7      7   9679.35968      1000.0           6.05   \n",
       "3930  3930  410    8      8  10000.00000         0.0           0.21   \n",
       "3955  3955  435    8      8   9789.57979      1000.0           5.40   \n",
       "\n",
       "        value_now    size  size_type  ...   log     new_cash  new_shares  \\\n",
       "432   10000.00000  1000.0          0  ...  True   9859.71986      1000.0   \n",
       "433    9959.71986  1000.0          0  ...  True   9759.51976      2000.0   \n",
       "439   11759.51976 -2000.0          0  ...  True  11755.52176         0.0   \n",
       "870   10000.00000  1000.0          0  ...  True   9909.81991      1000.0   \n",
       "875   10119.81991  1000.0          0  ...  True   9699.39970      2000.0   \n",
       "879   10699.39970 -2000.0          0  ...  True  10697.40070         0.0   \n",
       "1305  10000.00000  1000.0          0  ...  True   9899.79990      1000.0   \n",
       "1310  10449.79990 -1000.0          0  ...  True  10448.70045         0.0   \n",
       "1744  10000.00000  1000.0          0  ...  True   9729.45973      1000.0   \n",
       "1749  10109.45973  1000.0          0  ...  True   9348.69935      2000.0   \n",
       "1759  23348.69935 -2000.0          0  ...  True  23320.71335         0.0   \n",
       "2170  10000.00000  1000.0          0  ...  True   9929.85993      1000.0   \n",
       "2177  13049.85993 -1000.0          0  ...  True  13043.62305         0.0   \n",
       "2614  10000.00000  1000.0          0  ...  True   9529.05953      1000.0   \n",
       "2621  17729.05953 -1000.0          0  ...  True  17712.66773         0.0   \n",
       "3051  10000.00000  1000.0          0  ...  True   9589.17959      1000.0   \n",
       "3056  10089.17959  1000.0          0  ...  True   9088.17909      2000.0   \n",
       "3075  23088.17909 -2000.0          0  ...  True  23060.19309         0.0   \n",
       "3490  10000.00000  1000.0          0  ...  True   9679.35968      1000.0   \n",
       "3515  15729.35968 -1000.0          0  ...  True  15717.26573         0.0   \n",
       "3930  10000.00000  1000.0          0  ...  True   9789.57979      1000.0   \n",
       "3955  15189.57979 -1000.0          0  ...  True  15178.78519         0.0   \n",
       "\n",
       "      res_size  res_price  res_fees  res_side  res_status  res_status_info  \\\n",
       "432     1000.0    0.14014   0.14014         0           0               -1   \n",
       "433     1000.0    0.10010   0.10010         0           0               -1   \n",
       "439     2000.0    0.99900   1.99800         1           0               -1   \n",
       "870     1000.0    0.09009   0.09009         0           0               -1   \n",
       "875     1000.0    0.21021   0.21021         0           0               -1   \n",
       "879     2000.0    0.49950   0.99900         1           0               -1   \n",
       "1305    1000.0    0.10010   0.10010         0           0               -1   \n",
       "1310    1000.0    0.54945   0.54945         1           0               -1   \n",
       "1744    1000.0    0.27027   0.27027         0           0               -1   \n",
       "1749    1000.0    0.38038   0.38038         0           0               -1   \n",
       "1759    2000.0    6.99300  13.98600         1           0               -1   \n",
       "2170    1000.0    0.07007   0.07007         0           0               -1   \n",
       "2177    1000.0    3.11688   3.11688         1           0               -1   \n",
       "2614    1000.0    0.47047   0.47047         0           0               -1   \n",
       "2621    1000.0    8.19180   8.19180         1           0               -1   \n",
       "3051    1000.0    0.41041   0.41041         0           0               -1   \n",
       "3056    1000.0    0.50050   0.50050         0           0               -1   \n",
       "3075    2000.0    6.99300  13.98600         1           0               -1   \n",
       "3490    1000.0    0.32032   0.32032         0           0               -1   \n",
       "3515    1000.0    6.04395   6.04395         1           0               -1   \n",
       "3930    1000.0    0.21021   0.21021         0           0               -1   \n",
       "3955    1000.0    5.39460   5.39460         1           0               -1   \n",
       "\n",
       "      order_id  \n",
       "432          0  \n",
       "433          1  \n",
       "439          2  \n",
       "870          3  \n",
       "875          4  \n",
       "879          5  \n",
       "1305         6  \n",
       "1310         7  \n",
       "1744         8  \n",
       "1749         9  \n",
       "1759        10  \n",
       "2170        11  \n",
       "2177        12  \n",
       "2614        13  \n",
       "2621        14  \n",
       "3051        15  \n",
       "3056        16  \n",
       "3075        17  \n",
       "3490        18  \n",
       "3515        19  \n",
       "3930        20  \n",
       "3955        21  \n",
       "\n",
       "[22 rows x 30 columns]"
      ]
     },
     "execution_count": 842,
     "metadata": {},
     "output_type": "execute_result"
    }
   ],
   "source": [
    "trade_df[trade_df['order_id'] != -1]"
   ]
  },
  {
   "cell_type": "code",
   "execution_count": 843,
   "metadata": {},
   "outputs": [
    {
     "data": {
      "text/html": [
       "<div>\n",
       "<style scoped>\n",
       "    .dataframe tbody tr th:only-of-type {\n",
       "        vertical-align: middle;\n",
       "    }\n",
       "\n",
       "    .dataframe tbody tr th {\n",
       "        vertical-align: top;\n",
       "    }\n",
       "\n",
       "    .dataframe thead th {\n",
       "        text-align: right;\n",
       "    }\n",
       "</style>\n",
       "<table border=\"1\" class=\"dataframe\">\n",
       "  <thead>\n",
       "    <tr style=\"text-align: right;\">\n",
       "      <th>group</th>\n",
       "      <th>AMC</th>\n",
       "      <th>BB</th>\n",
       "      <th>FEYE</th>\n",
       "    </tr>\n",
       "    <tr>\n",
       "      <th>oc_hx_date</th>\n",
       "      <th></th>\n",
       "      <th></th>\n",
       "      <th></th>\n",
       "    </tr>\n",
       "  </thead>\n",
       "  <tbody>\n",
       "    <tr>\n",
       "      <th>2019-01-02</th>\n",
       "      <td>20000.00000</td>\n",
       "      <td>20000.0000</td>\n",
       "      <td>50000.00000</td>\n",
       "    </tr>\n",
       "    <tr>\n",
       "      <th>2019-01-04</th>\n",
       "      <td>20000.00000</td>\n",
       "      <td>20000.0000</td>\n",
       "      <td>50000.00000</td>\n",
       "    </tr>\n",
       "    <tr>\n",
       "      <th>2019-01-14</th>\n",
       "      <td>20000.00000</td>\n",
       "      <td>20000.0000</td>\n",
       "      <td>50000.00000</td>\n",
       "    </tr>\n",
       "    <tr>\n",
       "      <th>2019-01-15</th>\n",
       "      <td>20000.00000</td>\n",
       "      <td>20000.0000</td>\n",
       "      <td>50000.00000</td>\n",
       "    </tr>\n",
       "    <tr>\n",
       "      <th>2019-01-18</th>\n",
       "      <td>20000.00000</td>\n",
       "      <td>20000.0000</td>\n",
       "      <td>50000.00000</td>\n",
       "    </tr>\n",
       "    <tr>\n",
       "      <th>...</th>\n",
       "      <td>...</td>\n",
       "      <td>...</td>\n",
       "      <td>...</td>\n",
       "    </tr>\n",
       "    <tr>\n",
       "      <th>2021-01-15</th>\n",
       "      <td>20598.91946</td>\n",
       "      <td>25577.3998</td>\n",
       "      <td>84712.53479</td>\n",
       "    </tr>\n",
       "    <tr>\n",
       "      <th>2021-01-19</th>\n",
       "      <td>21378.91946</td>\n",
       "      <td>30397.3998</td>\n",
       "      <td>84712.53479</td>\n",
       "    </tr>\n",
       "    <tr>\n",
       "      <th>2021-01-20</th>\n",
       "      <td>20898.91946</td>\n",
       "      <td>31197.3998</td>\n",
       "      <td>84712.53479</td>\n",
       "    </tr>\n",
       "    <tr>\n",
       "      <th>2021-01-21</th>\n",
       "      <td>20578.91946</td>\n",
       "      <td>31397.3998</td>\n",
       "      <td>84712.53479</td>\n",
       "    </tr>\n",
       "    <tr>\n",
       "      <th>2021-01-22</th>\n",
       "      <td>22452.92246</td>\n",
       "      <td>33769.4138</td>\n",
       "      <td>84712.53479</td>\n",
       "    </tr>\n",
       "  </tbody>\n",
       "</table>\n",
       "<p>440 rows × 3 columns</p>\n",
       "</div>"
      ],
      "text/plain": [
       "group               AMC          BB         FEYE\n",
       "oc_hx_date                                      \n",
       "2019-01-02  20000.00000  20000.0000  50000.00000\n",
       "2019-01-04  20000.00000  20000.0000  50000.00000\n",
       "2019-01-14  20000.00000  20000.0000  50000.00000\n",
       "2019-01-15  20000.00000  20000.0000  50000.00000\n",
       "2019-01-18  20000.00000  20000.0000  50000.00000\n",
       "...                 ...         ...          ...\n",
       "2021-01-15  20598.91946  25577.3998  84712.53479\n",
       "2021-01-19  21378.91946  30397.3998  84712.53479\n",
       "2021-01-20  20898.91946  31197.3998  84712.53479\n",
       "2021-01-21  20578.91946  31397.3998  84712.53479\n",
       "2021-01-22  22452.92246  33769.4138  84712.53479\n",
       "\n",
       "[440 rows x 3 columns]"
      ]
     },
     "execution_count": 843,
     "metadata": {},
     "output_type": "execute_result"
    }
   ],
   "source": [
    "portfolio.value()"
   ]
  },
  {
   "cell_type": "code",
   "execution_count": 485,
   "metadata": {},
   "outputs": [
    {
     "name": "stderr",
     "output_type": "stream",
     "text": [
      "/Users/xbno/anaconda3/envs/fin/lib/python3.8/site-packages/vectorbt/portfolio/trades.py:232: RuntimeWarning:\n",
      "\n",
      "invalid value encountered in true_divide\n",
      "\n"
     ]
    },
    {
     "data": {
      "text/plain": [
       "Start                     2019-01-02 00:00:00\n",
       "End                       2021-01-22 00:00:00\n",
       "Duration                    440 days 00:00:00\n",
       "Init. Cash                            30.3266\n",
       "Total Profit                          12.1492\n",
       "Total Return [%]                      40.0613\n",
       "Benchmark Return [%]                   215.39\n",
       "Position Coverage [%]                 9.90909\n",
       "Max. Drawdown [%]                     26.7313\n",
       "Avg. Drawdown [%]                     8.07786\n",
       "Max. Drawdown Duration      233 days 00:00:00\n",
       "Avg. Drawdown Duration       47 days 00:00:00\n",
       "Num. Trades                           5.33333\n",
       "Win Rate [%]                             37.5\n",
       "Best Trade [%]                        3734.53\n",
       "Worst Trade [%]                      -70.6028\n",
       "Avg. Trade [%]                        328.759\n",
       "Max. Trade Duration         123 days 00:00:00\n",
       "Avg. Trade Duration          40 days 21:00:00\n",
       "Expectancy                            2.27798\n",
       "SQN                                  0.821658\n",
       "Gross Exposure                       0.138182\n",
       "Sharpe Ratio                              inf\n",
       "Sortino Ratio                             inf\n",
       "Calmar Ratio                           0.5083\n",
       "Name: <lambda>, dtype: object"
      ]
     },
     "execution_count": 485,
     "metadata": {},
     "output_type": "execute_result"
    }
   ],
   "source": [
    "# portfolio.plot(column='BTC-USD')\n",
    "# portfolio.plot(index='BTC-USD')\n",
    "portfolio.stats()"
   ]
  },
  {
   "cell_type": "code",
   "execution_count": null,
   "metadata": {},
   "outputs": [],
   "source": []
  },
  {
   "cell_type": "code",
   "execution_count": 83,
   "metadata": {},
   "outputs": [
    {
     "data": {
      "application/vnd.plotly.v1+json": {
       "config": {
        "plotlyServerURL": "https://plot.ly"
       },
       "data": [
        {
         "colorbar": {
          "tickformat": "%",
          "title": {
           "text": "Total return"
          }
         },
         "colorscale": [
          [
           0,
           "#0d0887"
          ],
          [
           0.1111111111111111,
           "#46039f"
          ],
          [
           0.2222222222222222,
           "#7201a8"
          ],
          [
           0.3333333333333333,
           "#9c179e"
          ],
          [
           0.4444444444444444,
           "#bd3786"
          ],
          [
           0.5555555555555556,
           "#d8576b"
          ],
          [
           0.6666666666666666,
           "#ed7953"
          ],
          [
           0.7777777777777778,
           "#fb9f3a"
          ],
          [
           0.8888888888888888,
           "#fdca26"
          ],
          [
           1,
           "#f0f921"
          ]
         ],
         "hoverongaps": false,
         "hovertemplate": "fast_window: %{x}<br>slow_window: %{y}<br>value: %{z}<extra></extra>",
         "name": "BTC-USD",
         "type": "heatmap",
         "uid": "05390e2e-c824-4e30-b4c3-bc55e2842c09",
         "visible": true,
         "x": [
          2,
          3
         ],
         "y": [
          2,
          3
         ],
         "z": [
          [
           null,
           0.8102314465651355
          ],
          [
           0.8102314465651355,
           null
          ]
         ]
        },
        {
         "colorbar": {
          "tickformat": "%",
          "title": {
           "text": "Total return"
          }
         },
         "colorscale": [
          [
           0,
           "#0d0887"
          ],
          [
           0.1111111111111111,
           "#46039f"
          ],
          [
           0.2222222222222222,
           "#7201a8"
          ],
          [
           0.3333333333333333,
           "#9c179e"
          ],
          [
           0.4444444444444444,
           "#bd3786"
          ],
          [
           0.5555555555555556,
           "#d8576b"
          ],
          [
           0.6666666666666666,
           "#ed7953"
          ],
          [
           0.7777777777777778,
           "#fb9f3a"
          ],
          [
           0.8888888888888888,
           "#fdca26"
          ],
          [
           1,
           "#f0f921"
          ]
         ],
         "hoverongaps": false,
         "hovertemplate": "fast_window: %{x}<br>slow_window: %{y}<br>value: %{z}<extra></extra>",
         "name": "ETH-USD",
         "type": "heatmap",
         "uid": "629a2342-7a4b-447b-a474-c8e4ef77ea22",
         "visible": false,
         "x": [
          2,
          3
         ],
         "y": [
          2,
          3
         ],
         "z": [
          [
           null,
           0.7071218292663753
          ],
          [
           0.7071218292663753,
           null
          ]
         ]
        },
        {
         "colorbar": {
          "tickformat": "%",
          "title": {
           "text": "Total return"
          }
         },
         "colorscale": [
          [
           0,
           "#0d0887"
          ],
          [
           0.1111111111111111,
           "#46039f"
          ],
          [
           0.2222222222222222,
           "#7201a8"
          ],
          [
           0.3333333333333333,
           "#9c179e"
          ],
          [
           0.4444444444444444,
           "#bd3786"
          ],
          [
           0.5555555555555556,
           "#d8576b"
          ],
          [
           0.6666666666666666,
           "#ed7953"
          ],
          [
           0.7777777777777778,
           "#fb9f3a"
          ],
          [
           0.8888888888888888,
           "#fdca26"
          ],
          [
           1,
           "#f0f921"
          ]
         ],
         "hoverongaps": false,
         "hovertemplate": "fast_window: %{x}<br>slow_window: %{y}<br>value: %{z}<extra></extra>",
         "name": "LTC-USD",
         "type": "heatmap",
         "uid": "5d532a91-f211-4acf-9488-0c73db13ca63",
         "visible": false,
         "x": [
          2,
          3
         ],
         "y": [
          2,
          3
         ],
         "z": [
          [
           null,
           0.07623702570258971
          ],
          [
           0.07623702570258971,
           null
          ]
         ]
        }
       ],
       "layout": {
        "height": 555,
        "legend": {
         "orientation": "h",
         "traceorder": "normal",
         "x": 1,
         "xanchor": "right",
         "y": 1.02,
         "yanchor": "bottom"
        },
        "margin": {
         "b": 30,
         "l": 30,
         "r": 30,
         "t": 30
        },
        "sliders": [
         {
          "active": 0,
          "currentvalue": {
           "prefix": "symbol: "
          },
          "pad": {
           "t": 50
          },
          "steps": [
           {
            "args": [
             {
              "visible": [
               true,
               false,
               false
              ]
             },
             {}
            ],
            "label": "BTC-USD",
            "method": "update"
           },
           {
            "args": [
             {
              "visible": [
               false,
               true,
               false
              ]
             },
             {}
            ],
            "label": "ETH-USD",
            "method": "update"
           },
           {
            "args": [
             {
              "visible": [
               false,
               false,
               true
              ]
             },
             {}
            ],
            "label": "LTC-USD",
            "method": "update"
           }
          ]
         }
        ],
        "template": {
         "data": {
          "bar": [
           {
            "error_x": {
             "color": "#2a3f5f"
            },
            "error_y": {
             "color": "#2a3f5f"
            },
            "marker": {
             "line": {
              "color": "#E5ECF6",
              "width": 0.5
             }
            },
            "type": "bar"
           }
          ],
          "barpolar": [
           {
            "marker": {
             "line": {
              "color": "#E5ECF6",
              "width": 0.5
             }
            },
            "type": "barpolar"
           }
          ],
          "carpet": [
           {
            "aaxis": {
             "endlinecolor": "#2a3f5f",
             "gridcolor": "white",
             "linecolor": "white",
             "minorgridcolor": "white",
             "startlinecolor": "#2a3f5f"
            },
            "baxis": {
             "endlinecolor": "#2a3f5f",
             "gridcolor": "white",
             "linecolor": "white",
             "minorgridcolor": "white",
             "startlinecolor": "#2a3f5f"
            },
            "type": "carpet"
           }
          ],
          "choropleth": [
           {
            "colorbar": {
             "outlinewidth": 0,
             "ticks": ""
            },
            "type": "choropleth"
           }
          ],
          "contour": [
           {
            "colorbar": {
             "outlinewidth": 0,
             "ticks": ""
            },
            "colorscale": [
             [
              0,
              "#0d0887"
             ],
             [
              0.1111111111111111,
              "#46039f"
             ],
             [
              0.2222222222222222,
              "#7201a8"
             ],
             [
              0.3333333333333333,
              "#9c179e"
             ],
             [
              0.4444444444444444,
              "#bd3786"
             ],
             [
              0.5555555555555556,
              "#d8576b"
             ],
             [
              0.6666666666666666,
              "#ed7953"
             ],
             [
              0.7777777777777778,
              "#fb9f3a"
             ],
             [
              0.8888888888888888,
              "#fdca26"
             ],
             [
              1,
              "#f0f921"
             ]
            ],
            "type": "contour"
           }
          ],
          "contourcarpet": [
           {
            "colorbar": {
             "outlinewidth": 0,
             "ticks": ""
            },
            "type": "contourcarpet"
           }
          ],
          "heatmap": [
           {
            "colorbar": {
             "outlinewidth": 0,
             "ticks": ""
            },
            "colorscale": [
             [
              0,
              "#0d0887"
             ],
             [
              0.1111111111111111,
              "#46039f"
             ],
             [
              0.2222222222222222,
              "#7201a8"
             ],
             [
              0.3333333333333333,
              "#9c179e"
             ],
             [
              0.4444444444444444,
              "#bd3786"
             ],
             [
              0.5555555555555556,
              "#d8576b"
             ],
             [
              0.6666666666666666,
              "#ed7953"
             ],
             [
              0.7777777777777778,
              "#fb9f3a"
             ],
             [
              0.8888888888888888,
              "#fdca26"
             ],
             [
              1,
              "#f0f921"
             ]
            ],
            "type": "heatmap"
           }
          ],
          "heatmapgl": [
           {
            "colorbar": {
             "outlinewidth": 0,
             "ticks": ""
            },
            "colorscale": [
             [
              0,
              "#0d0887"
             ],
             [
              0.1111111111111111,
              "#46039f"
             ],
             [
              0.2222222222222222,
              "#7201a8"
             ],
             [
              0.3333333333333333,
              "#9c179e"
             ],
             [
              0.4444444444444444,
              "#bd3786"
             ],
             [
              0.5555555555555556,
              "#d8576b"
             ],
             [
              0.6666666666666666,
              "#ed7953"
             ],
             [
              0.7777777777777778,
              "#fb9f3a"
             ],
             [
              0.8888888888888888,
              "#fdca26"
             ],
             [
              1,
              "#f0f921"
             ]
            ],
            "type": "heatmapgl"
           }
          ],
          "histogram": [
           {
            "marker": {
             "colorbar": {
              "outlinewidth": 0,
              "ticks": ""
             }
            },
            "type": "histogram"
           }
          ],
          "histogram2d": [
           {
            "colorbar": {
             "outlinewidth": 0,
             "ticks": ""
            },
            "colorscale": [
             [
              0,
              "#0d0887"
             ],
             [
              0.1111111111111111,
              "#46039f"
             ],
             [
              0.2222222222222222,
              "#7201a8"
             ],
             [
              0.3333333333333333,
              "#9c179e"
             ],
             [
              0.4444444444444444,
              "#bd3786"
             ],
             [
              0.5555555555555556,
              "#d8576b"
             ],
             [
              0.6666666666666666,
              "#ed7953"
             ],
             [
              0.7777777777777778,
              "#fb9f3a"
             ],
             [
              0.8888888888888888,
              "#fdca26"
             ],
             [
              1,
              "#f0f921"
             ]
            ],
            "type": "histogram2d"
           }
          ],
          "histogram2dcontour": [
           {
            "colorbar": {
             "outlinewidth": 0,
             "ticks": ""
            },
            "colorscale": [
             [
              0,
              "#0d0887"
             ],
             [
              0.1111111111111111,
              "#46039f"
             ],
             [
              0.2222222222222222,
              "#7201a8"
             ],
             [
              0.3333333333333333,
              "#9c179e"
             ],
             [
              0.4444444444444444,
              "#bd3786"
             ],
             [
              0.5555555555555556,
              "#d8576b"
             ],
             [
              0.6666666666666666,
              "#ed7953"
             ],
             [
              0.7777777777777778,
              "#fb9f3a"
             ],
             [
              0.8888888888888888,
              "#fdca26"
             ],
             [
              1,
              "#f0f921"
             ]
            ],
            "type": "histogram2dcontour"
           }
          ],
          "mesh3d": [
           {
            "colorbar": {
             "outlinewidth": 0,
             "ticks": ""
            },
            "type": "mesh3d"
           }
          ],
          "parcoords": [
           {
            "line": {
             "colorbar": {
              "outlinewidth": 0,
              "ticks": ""
             }
            },
            "type": "parcoords"
           }
          ],
          "pie": [
           {
            "automargin": true,
            "type": "pie"
           }
          ],
          "scatter": [
           {
            "marker": {
             "colorbar": {
              "outlinewidth": 0,
              "ticks": ""
             }
            },
            "type": "scatter"
           }
          ],
          "scatter3d": [
           {
            "line": {
             "colorbar": {
              "outlinewidth": 0,
              "ticks": ""
             }
            },
            "marker": {
             "colorbar": {
              "outlinewidth": 0,
              "ticks": ""
             }
            },
            "type": "scatter3d"
           }
          ],
          "scattercarpet": [
           {
            "marker": {
             "colorbar": {
              "outlinewidth": 0,
              "ticks": ""
             }
            },
            "type": "scattercarpet"
           }
          ],
          "scattergeo": [
           {
            "marker": {
             "colorbar": {
              "outlinewidth": 0,
              "ticks": ""
             }
            },
            "type": "scattergeo"
           }
          ],
          "scattergl": [
           {
            "marker": {
             "colorbar": {
              "outlinewidth": 0,
              "ticks": ""
             }
            },
            "type": "scattergl"
           }
          ],
          "scattermapbox": [
           {
            "marker": {
             "colorbar": {
              "outlinewidth": 0,
              "ticks": ""
             }
            },
            "type": "scattermapbox"
           }
          ],
          "scatterpolar": [
           {
            "marker": {
             "colorbar": {
              "outlinewidth": 0,
              "ticks": ""
             }
            },
            "type": "scatterpolar"
           }
          ],
          "scatterpolargl": [
           {
            "marker": {
             "colorbar": {
              "outlinewidth": 0,
              "ticks": ""
             }
            },
            "type": "scatterpolargl"
           }
          ],
          "scatterternary": [
           {
            "marker": {
             "colorbar": {
              "outlinewidth": 0,
              "ticks": ""
             }
            },
            "type": "scatterternary"
           }
          ],
          "surface": [
           {
            "colorbar": {
             "outlinewidth": 0,
             "ticks": ""
            },
            "colorscale": [
             [
              0,
              "#0d0887"
             ],
             [
              0.1111111111111111,
              "#46039f"
             ],
             [
              0.2222222222222222,
              "#7201a8"
             ],
             [
              0.3333333333333333,
              "#9c179e"
             ],
             [
              0.4444444444444444,
              "#bd3786"
             ],
             [
              0.5555555555555556,
              "#d8576b"
             ],
             [
              0.6666666666666666,
              "#ed7953"
             ],
             [
              0.7777777777777778,
              "#fb9f3a"
             ],
             [
              0.8888888888888888,
              "#fdca26"
             ],
             [
              1,
              "#f0f921"
             ]
            ],
            "type": "surface"
           }
          ],
          "table": [
           {
            "cells": {
             "fill": {
              "color": "#EBF0F8"
             },
             "line": {
              "color": "white"
             }
            },
            "header": {
             "fill": {
              "color": "#C8D4E3"
             },
             "line": {
              "color": "white"
             }
            },
            "type": "table"
           }
          ]
         },
         "layout": {
          "annotationdefaults": {
           "arrowcolor": "#2a3f5f",
           "arrowhead": 0,
           "arrowwidth": 1
          },
          "autotypenumbers": "strict",
          "coloraxis": {
           "colorbar": {
            "outlinewidth": 0,
            "ticks": ""
           }
          },
          "colorscale": {
           "diverging": [
            [
             0,
             "#8e0152"
            ],
            [
             0.1,
             "#c51b7d"
            ],
            [
             0.2,
             "#de77ae"
            ],
            [
             0.3,
             "#f1b6da"
            ],
            [
             0.4,
             "#fde0ef"
            ],
            [
             0.5,
             "#f7f7f7"
            ],
            [
             0.6,
             "#e6f5d0"
            ],
            [
             0.7,
             "#b8e186"
            ],
            [
             0.8,
             "#7fbc41"
            ],
            [
             0.9,
             "#4d9221"
            ],
            [
             1,
             "#276419"
            ]
           ],
           "sequential": [
            [
             0,
             "#0d0887"
            ],
            [
             0.1111111111111111,
             "#46039f"
            ],
            [
             0.2222222222222222,
             "#7201a8"
            ],
            [
             0.3333333333333333,
             "#9c179e"
            ],
            [
             0.4444444444444444,
             "#bd3786"
            ],
            [
             0.5555555555555556,
             "#d8576b"
            ],
            [
             0.6666666666666666,
             "#ed7953"
            ],
            [
             0.7777777777777778,
             "#fb9f3a"
            ],
            [
             0.8888888888888888,
             "#fdca26"
            ],
            [
             1,
             "#f0f921"
            ]
           ],
           "sequentialminus": [
            [
             0,
             "#0d0887"
            ],
            [
             0.1111111111111111,
             "#46039f"
            ],
            [
             0.2222222222222222,
             "#7201a8"
            ],
            [
             0.3333333333333333,
             "#9c179e"
            ],
            [
             0.4444444444444444,
             "#bd3786"
            ],
            [
             0.5555555555555556,
             "#d8576b"
            ],
            [
             0.6666666666666666,
             "#ed7953"
            ],
            [
             0.7777777777777778,
             "#fb9f3a"
            ],
            [
             0.8888888888888888,
             "#fdca26"
            ],
            [
             1,
             "#f0f921"
            ]
           ]
          },
          "colorway": [
           "#1f77b4",
           "#ff7f0e",
           "#2ca02c",
           "#dc3912",
           "#9467bd",
           "#8c564b",
           "#e377c2",
           "#7f7f7f",
           "#bcbd22",
           "#17becf"
          ],
          "font": {
           "color": "#2a3f5f"
          },
          "geo": {
           "bgcolor": "white",
           "lakecolor": "white",
           "landcolor": "#E5ECF6",
           "showlakes": true,
           "showland": true,
           "subunitcolor": "white"
          },
          "hoverlabel": {
           "align": "left"
          },
          "hovermode": "closest",
          "mapbox": {
           "style": "light"
          },
          "paper_bgcolor": "white",
          "plot_bgcolor": "#E5ECF6",
          "polar": {
           "angularaxis": {
            "gridcolor": "white",
            "linecolor": "white",
            "ticks": ""
           },
           "bgcolor": "#E5ECF6",
           "radialaxis": {
            "gridcolor": "white",
            "linecolor": "white",
            "ticks": ""
           }
          },
          "scene": {
           "xaxis": {
            "backgroundcolor": "#E5ECF6",
            "gridcolor": "white",
            "gridwidth": 2,
            "linecolor": "white",
            "showbackground": true,
            "ticks": "",
            "zerolinecolor": "white"
           },
           "yaxis": {
            "backgroundcolor": "#E5ECF6",
            "gridcolor": "white",
            "gridwidth": 2,
            "linecolor": "white",
            "showbackground": true,
            "ticks": "",
            "zerolinecolor": "white"
           },
           "zaxis": {
            "backgroundcolor": "#E5ECF6",
            "gridcolor": "white",
            "gridwidth": 2,
            "linecolor": "white",
            "showbackground": true,
            "ticks": "",
            "zerolinecolor": "white"
           }
          },
          "shapedefaults": {
           "line": {
            "color": "#2a3f5f"
           }
          },
          "ternary": {
           "aaxis": {
            "gridcolor": "white",
            "linecolor": "white",
            "ticks": ""
           },
           "baxis": {
            "gridcolor": "white",
            "linecolor": "white",
            "ticks": ""
           },
           "bgcolor": "#E5ECF6",
           "caxis": {
            "gridcolor": "white",
            "linecolor": "white",
            "ticks": ""
           }
          },
          "title": {
           "x": 0.05
          },
          "xaxis": {
           "automargin": true,
           "gridcolor": "white",
           "linecolor": "white",
           "ticks": "",
           "title": {
            "standoff": 15
           },
           "zerolinecolor": "white",
           "zerolinewidth": 2
          },
          "yaxis": {
           "automargin": true,
           "gridcolor": "white",
           "linecolor": "white",
           "ticks": "",
           "title": {
            "standoff": 15
           },
           "zerolinecolor": "white",
           "zerolinewidth": 2
          }
         }
        },
        "width": 605,
        "xaxis": {
         "title": {
          "text": "fast_window"
         }
        },
        "yaxis": {
         "title": {
          "text": "slow_window"
         }
        }
       }
      },
      "text/html": [
       "<div>                            <div id=\"46541d77-923e-4fe1-acdc-373860a92fa5\" class=\"plotly-graph-div\" style=\"height:555px; width:605px;\"></div>            <script type=\"text/javascript\">                require([\"plotly\"], function(Plotly) {                    window.PLOTLYENV=window.PLOTLYENV || {};                                    if (document.getElementById(\"46541d77-923e-4fe1-acdc-373860a92fa5\")) {                    Plotly.newPlot(                        \"46541d77-923e-4fe1-acdc-373860a92fa5\",                        [{\"colorbar\": {\"tickformat\": \"%\", \"title\": {\"text\": \"Total return\"}}, \"colorscale\": [[0.0, \"#0d0887\"], [0.1111111111111111, \"#46039f\"], [0.2222222222222222, \"#7201a8\"], [0.3333333333333333, \"#9c179e\"], [0.4444444444444444, \"#bd3786\"], [0.5555555555555556, \"#d8576b\"], [0.6666666666666666, \"#ed7953\"], [0.7777777777777778, \"#fb9f3a\"], [0.8888888888888888, \"#fdca26\"], [1.0, \"#f0f921\"]], \"hoverongaps\": false, \"hovertemplate\": \"fast_window: %{x}<br>slow_window: %{y}<br>value: %{z}<extra></extra>\", \"name\": \"BTC-USD\", \"type\": \"heatmap\", \"uid\": \"05390e2e-c824-4e30-b4c3-bc55e2842c09\", \"visible\": true, \"x\": [2, 3], \"y\": [2, 3], \"z\": [[null, 0.8102314465651355], [0.8102314465651355, null]]}, {\"colorbar\": {\"tickformat\": \"%\", \"title\": {\"text\": \"Total return\"}}, \"colorscale\": [[0.0, \"#0d0887\"], [0.1111111111111111, \"#46039f\"], [0.2222222222222222, \"#7201a8\"], [0.3333333333333333, \"#9c179e\"], [0.4444444444444444, \"#bd3786\"], [0.5555555555555556, \"#d8576b\"], [0.6666666666666666, \"#ed7953\"], [0.7777777777777778, \"#fb9f3a\"], [0.8888888888888888, \"#fdca26\"], [1.0, \"#f0f921\"]], \"hoverongaps\": false, \"hovertemplate\": \"fast_window: %{x}<br>slow_window: %{y}<br>value: %{z}<extra></extra>\", \"name\": \"ETH-USD\", \"type\": \"heatmap\", \"uid\": \"629a2342-7a4b-447b-a474-c8e4ef77ea22\", \"visible\": false, \"x\": [2, 3], \"y\": [2, 3], \"z\": [[null, 0.7071218292663753], [0.7071218292663753, null]]}, {\"colorbar\": {\"tickformat\": \"%\", \"title\": {\"text\": \"Total return\"}}, \"colorscale\": [[0.0, \"#0d0887\"], [0.1111111111111111, \"#46039f\"], [0.2222222222222222, \"#7201a8\"], [0.3333333333333333, \"#9c179e\"], [0.4444444444444444, \"#bd3786\"], [0.5555555555555556, \"#d8576b\"], [0.6666666666666666, \"#ed7953\"], [0.7777777777777778, \"#fb9f3a\"], [0.8888888888888888, \"#fdca26\"], [1.0, \"#f0f921\"]], \"hoverongaps\": false, \"hovertemplate\": \"fast_window: %{x}<br>slow_window: %{y}<br>value: %{z}<extra></extra>\", \"name\": \"LTC-USD\", \"type\": \"heatmap\", \"uid\": \"5d532a91-f211-4acf-9488-0c73db13ca63\", \"visible\": false, \"x\": [2, 3], \"y\": [2, 3], \"z\": [[null, 0.07623702570258971], [0.07623702570258971, null]]}],                        {\"height\": 555, \"legend\": {\"orientation\": \"h\", \"traceorder\": \"normal\", \"x\": 1, \"xanchor\": \"right\", \"y\": 1.02, \"yanchor\": \"bottom\"}, \"margin\": {\"b\": 30, \"l\": 30, \"r\": 30, \"t\": 30}, \"sliders\": [{\"active\": 0, \"currentvalue\": {\"prefix\": \"symbol: \"}, \"pad\": {\"t\": 50}, \"steps\": [{\"args\": [{\"visible\": [true, false, false]}, {}], \"label\": \"BTC-USD\", \"method\": \"update\"}, {\"args\": [{\"visible\": [false, true, false]}, {}], \"label\": \"ETH-USD\", \"method\": \"update\"}, {\"args\": [{\"visible\": [false, false, true]}, {}], \"label\": \"LTC-USD\", \"method\": \"update\"}]}], \"template\": {\"data\": {\"bar\": [{\"error_x\": {\"color\": \"#2a3f5f\"}, \"error_y\": {\"color\": \"#2a3f5f\"}, \"marker\": {\"line\": {\"color\": \"#E5ECF6\", \"width\": 0.5}}, \"type\": \"bar\"}], \"barpolar\": [{\"marker\": {\"line\": {\"color\": \"#E5ECF6\", \"width\": 0.5}}, \"type\": \"barpolar\"}], \"carpet\": [{\"aaxis\": {\"endlinecolor\": \"#2a3f5f\", \"gridcolor\": \"white\", \"linecolor\": \"white\", \"minorgridcolor\": \"white\", \"startlinecolor\": \"#2a3f5f\"}, \"baxis\": {\"endlinecolor\": \"#2a3f5f\", \"gridcolor\": \"white\", \"linecolor\": \"white\", \"minorgridcolor\": \"white\", \"startlinecolor\": \"#2a3f5f\"}, \"type\": \"carpet\"}], \"choropleth\": [{\"colorbar\": {\"outlinewidth\": 0, \"ticks\": \"\"}, \"type\": \"choropleth\"}], \"contour\": [{\"colorbar\": {\"outlinewidth\": 0, \"ticks\": \"\"}, \"colorscale\": [[0.0, \"#0d0887\"], [0.1111111111111111, \"#46039f\"], [0.2222222222222222, \"#7201a8\"], [0.3333333333333333, \"#9c179e\"], [0.4444444444444444, \"#bd3786\"], [0.5555555555555556, \"#d8576b\"], [0.6666666666666666, \"#ed7953\"], [0.7777777777777778, \"#fb9f3a\"], [0.8888888888888888, \"#fdca26\"], [1.0, \"#f0f921\"]], \"type\": \"contour\"}], \"contourcarpet\": [{\"colorbar\": {\"outlinewidth\": 0, \"ticks\": \"\"}, \"type\": \"contourcarpet\"}], \"heatmap\": [{\"colorbar\": {\"outlinewidth\": 0, \"ticks\": \"\"}, \"colorscale\": [[0.0, \"#0d0887\"], [0.1111111111111111, \"#46039f\"], [0.2222222222222222, \"#7201a8\"], [0.3333333333333333, \"#9c179e\"], [0.4444444444444444, \"#bd3786\"], [0.5555555555555556, \"#d8576b\"], [0.6666666666666666, \"#ed7953\"], [0.7777777777777778, \"#fb9f3a\"], [0.8888888888888888, \"#fdca26\"], [1.0, \"#f0f921\"]], \"type\": \"heatmap\"}], \"heatmapgl\": [{\"colorbar\": {\"outlinewidth\": 0, \"ticks\": \"\"}, \"colorscale\": [[0.0, \"#0d0887\"], [0.1111111111111111, \"#46039f\"], [0.2222222222222222, \"#7201a8\"], [0.3333333333333333, \"#9c179e\"], [0.4444444444444444, \"#bd3786\"], [0.5555555555555556, \"#d8576b\"], [0.6666666666666666, \"#ed7953\"], [0.7777777777777778, \"#fb9f3a\"], [0.8888888888888888, \"#fdca26\"], [1.0, \"#f0f921\"]], \"type\": \"heatmapgl\"}], \"histogram\": [{\"marker\": {\"colorbar\": {\"outlinewidth\": 0, \"ticks\": \"\"}}, \"type\": \"histogram\"}], \"histogram2d\": [{\"colorbar\": {\"outlinewidth\": 0, \"ticks\": \"\"}, \"colorscale\": [[0.0, \"#0d0887\"], [0.1111111111111111, \"#46039f\"], [0.2222222222222222, \"#7201a8\"], [0.3333333333333333, \"#9c179e\"], [0.4444444444444444, \"#bd3786\"], [0.5555555555555556, \"#d8576b\"], [0.6666666666666666, \"#ed7953\"], [0.7777777777777778, \"#fb9f3a\"], [0.8888888888888888, \"#fdca26\"], [1.0, \"#f0f921\"]], \"type\": \"histogram2d\"}], \"histogram2dcontour\": [{\"colorbar\": {\"outlinewidth\": 0, \"ticks\": \"\"}, \"colorscale\": [[0.0, \"#0d0887\"], [0.1111111111111111, \"#46039f\"], [0.2222222222222222, \"#7201a8\"], [0.3333333333333333, \"#9c179e\"], [0.4444444444444444, \"#bd3786\"], [0.5555555555555556, \"#d8576b\"], [0.6666666666666666, \"#ed7953\"], [0.7777777777777778, \"#fb9f3a\"], [0.8888888888888888, \"#fdca26\"], [1.0, \"#f0f921\"]], \"type\": \"histogram2dcontour\"}], \"mesh3d\": [{\"colorbar\": {\"outlinewidth\": 0, \"ticks\": \"\"}, \"type\": \"mesh3d\"}], \"parcoords\": [{\"line\": {\"colorbar\": {\"outlinewidth\": 0, \"ticks\": \"\"}}, \"type\": \"parcoords\"}], \"pie\": [{\"automargin\": true, \"type\": \"pie\"}], \"scatter\": [{\"marker\": {\"colorbar\": {\"outlinewidth\": 0, \"ticks\": \"\"}}, \"type\": \"scatter\"}], \"scatter3d\": [{\"line\": {\"colorbar\": {\"outlinewidth\": 0, \"ticks\": \"\"}}, \"marker\": {\"colorbar\": {\"outlinewidth\": 0, \"ticks\": \"\"}}, \"type\": \"scatter3d\"}], \"scattercarpet\": [{\"marker\": {\"colorbar\": {\"outlinewidth\": 0, \"ticks\": \"\"}}, \"type\": \"scattercarpet\"}], \"scattergeo\": [{\"marker\": {\"colorbar\": {\"outlinewidth\": 0, \"ticks\": \"\"}}, \"type\": \"scattergeo\"}], \"scattergl\": [{\"marker\": {\"colorbar\": {\"outlinewidth\": 0, \"ticks\": \"\"}}, \"type\": \"scattergl\"}], \"scattermapbox\": [{\"marker\": {\"colorbar\": {\"outlinewidth\": 0, \"ticks\": \"\"}}, \"type\": \"scattermapbox\"}], \"scatterpolar\": [{\"marker\": {\"colorbar\": {\"outlinewidth\": 0, \"ticks\": \"\"}}, \"type\": \"scatterpolar\"}], \"scatterpolargl\": [{\"marker\": {\"colorbar\": {\"outlinewidth\": 0, \"ticks\": \"\"}}, \"type\": \"scatterpolargl\"}], \"scatterternary\": [{\"marker\": {\"colorbar\": {\"outlinewidth\": 0, \"ticks\": \"\"}}, \"type\": \"scatterternary\"}], \"surface\": [{\"colorbar\": {\"outlinewidth\": 0, \"ticks\": \"\"}, \"colorscale\": [[0.0, \"#0d0887\"], [0.1111111111111111, \"#46039f\"], [0.2222222222222222, \"#7201a8\"], [0.3333333333333333, \"#9c179e\"], [0.4444444444444444, \"#bd3786\"], [0.5555555555555556, \"#d8576b\"], [0.6666666666666666, \"#ed7953\"], [0.7777777777777778, \"#fb9f3a\"], [0.8888888888888888, \"#fdca26\"], [1.0, \"#f0f921\"]], \"type\": \"surface\"}], \"table\": [{\"cells\": {\"fill\": {\"color\": \"#EBF0F8\"}, \"line\": {\"color\": \"white\"}}, \"header\": {\"fill\": {\"color\": \"#C8D4E3\"}, \"line\": {\"color\": \"white\"}}, \"type\": \"table\"}]}, \"layout\": {\"annotationdefaults\": {\"arrowcolor\": \"#2a3f5f\", \"arrowhead\": 0, \"arrowwidth\": 1}, \"autotypenumbers\": \"strict\", \"coloraxis\": {\"colorbar\": {\"outlinewidth\": 0, \"ticks\": \"\"}}, \"colorscale\": {\"diverging\": [[0, \"#8e0152\"], [0.1, \"#c51b7d\"], [0.2, \"#de77ae\"], [0.3, \"#f1b6da\"], [0.4, \"#fde0ef\"], [0.5, \"#f7f7f7\"], [0.6, \"#e6f5d0\"], [0.7, \"#b8e186\"], [0.8, \"#7fbc41\"], [0.9, \"#4d9221\"], [1, \"#276419\"]], \"sequential\": [[0.0, \"#0d0887\"], [0.1111111111111111, \"#46039f\"], [0.2222222222222222, \"#7201a8\"], [0.3333333333333333, \"#9c179e\"], [0.4444444444444444, \"#bd3786\"], [0.5555555555555556, \"#d8576b\"], [0.6666666666666666, \"#ed7953\"], [0.7777777777777778, \"#fb9f3a\"], [0.8888888888888888, \"#fdca26\"], [1.0, \"#f0f921\"]], \"sequentialminus\": [[0.0, \"#0d0887\"], [0.1111111111111111, \"#46039f\"], [0.2222222222222222, \"#7201a8\"], [0.3333333333333333, \"#9c179e\"], [0.4444444444444444, \"#bd3786\"], [0.5555555555555556, \"#d8576b\"], [0.6666666666666666, \"#ed7953\"], [0.7777777777777778, \"#fb9f3a\"], [0.8888888888888888, \"#fdca26\"], [1.0, \"#f0f921\"]]}, \"colorway\": [\"#1f77b4\", \"#ff7f0e\", \"#2ca02c\", \"#dc3912\", \"#9467bd\", \"#8c564b\", \"#e377c2\", \"#7f7f7f\", \"#bcbd22\", \"#17becf\"], \"font\": {\"color\": \"#2a3f5f\"}, \"geo\": {\"bgcolor\": \"white\", \"lakecolor\": \"white\", \"landcolor\": \"#E5ECF6\", \"showlakes\": true, \"showland\": true, \"subunitcolor\": \"white\"}, \"hoverlabel\": {\"align\": \"left\"}, \"hovermode\": \"closest\", \"mapbox\": {\"style\": \"light\"}, \"paper_bgcolor\": \"white\", \"plot_bgcolor\": \"#E5ECF6\", \"polar\": {\"angularaxis\": {\"gridcolor\": \"white\", \"linecolor\": \"white\", \"ticks\": \"\"}, \"bgcolor\": \"#E5ECF6\", \"radialaxis\": {\"gridcolor\": \"white\", \"linecolor\": \"white\", \"ticks\": \"\"}}, \"scene\": {\"xaxis\": {\"backgroundcolor\": \"#E5ECF6\", \"gridcolor\": \"white\", \"gridwidth\": 2, \"linecolor\": \"white\", \"showbackground\": true, \"ticks\": \"\", \"zerolinecolor\": \"white\"}, \"yaxis\": {\"backgroundcolor\": \"#E5ECF6\", \"gridcolor\": \"white\", \"gridwidth\": 2, \"linecolor\": \"white\", \"showbackground\": true, \"ticks\": \"\", \"zerolinecolor\": \"white\"}, \"zaxis\": {\"backgroundcolor\": \"#E5ECF6\", \"gridcolor\": \"white\", \"gridwidth\": 2, \"linecolor\": \"white\", \"showbackground\": true, \"ticks\": \"\", \"zerolinecolor\": \"white\"}}, \"shapedefaults\": {\"line\": {\"color\": \"#2a3f5f\"}}, \"ternary\": {\"aaxis\": {\"gridcolor\": \"white\", \"linecolor\": \"white\", \"ticks\": \"\"}, \"baxis\": {\"gridcolor\": \"white\", \"linecolor\": \"white\", \"ticks\": \"\"}, \"bgcolor\": \"#E5ECF6\", \"caxis\": {\"gridcolor\": \"white\", \"linecolor\": \"white\", \"ticks\": \"\"}}, \"title\": {\"x\": 0.05}, \"xaxis\": {\"automargin\": true, \"gridcolor\": \"white\", \"linecolor\": \"white\", \"ticks\": \"\", \"title\": {\"standoff\": 15}, \"zerolinecolor\": \"white\", \"zerolinewidth\": 2}, \"yaxis\": {\"automargin\": true, \"gridcolor\": \"white\", \"linecolor\": \"white\", \"ticks\": \"\", \"title\": {\"standoff\": 15}, \"zerolinecolor\": \"white\", \"zerolinewidth\": 2}}}, \"width\": 605, \"xaxis\": {\"title\": {\"text\": \"fast_window\"}}, \"yaxis\": {\"title\": {\"text\": \"slow_window\"}}},                        {\"responsive\": true}                    ).then(function(){\n",
       "                            \n",
       "var gd = document.getElementById('46541d77-923e-4fe1-acdc-373860a92fa5');\n",
       "var x = new MutationObserver(function (mutations, observer) {{\n",
       "        var display = window.getComputedStyle(gd).display;\n",
       "        if (!display || display === 'none') {{\n",
       "            console.log([gd, 'removed!']);\n",
       "            Plotly.purge(gd);\n",
       "            observer.disconnect();\n",
       "        }}\n",
       "}});\n",
       "\n",
       "// Listen for the removal of the full notebook cells\n",
       "var notebookContainer = gd.closest('#notebook-container');\n",
       "if (notebookContainer) {{\n",
       "    x.observe(notebookContainer, {childList: true});\n",
       "}}\n",
       "\n",
       "// Listen for the clearing of the current output cell\n",
       "var outputEl = gd.closest('.output');\n",
       "if (outputEl) {{\n",
       "    x.observe(outputEl, {childList: true});\n",
       "}}\n",
       "\n",
       "                        })                };                });            </script>        </div>"
      ]
     },
     "metadata": {},
     "output_type": "display_data"
    }
   ],
   "source": [
    "symbols = [\"BTC-USD\", \"ETH-USD\", \"LTC-USD\"]\n",
    "price_by_symbol = vbt.utils.data.download(symbols, start=start_date, end=end_date, cols='Close')\n",
    "price = vbt.utils.data.concat_symbols(price_by_symbol, treat_missing='drop')\n",
    "\n",
    "# windows = np.arange(2, 4)\n",
    "# fast_ma, slow_ma = vbt.MA.run_combs(price, window=windows, r=2, short_names=['fast', 'slow'])\n",
    "# entries = fast_ma.ma_above(slow_ma, crossover=True)\n",
    "# exits = fast_ma.ma_below(slow_ma, crossover=True)\n",
    "\n",
    "portfolio_kwargs = dict(size=np.inf, fees=0.001, freq='1D')\n",
    "portfolio = vbt.Portfolio.from_signals(price, entries, exits, **portfolio_kwargs)\n",
    "\n",
    "fig = portfolio.total_return().vbt.heatmap(\n",
    "    x_level='fast_window', y_level='slow_window', slider_level='symbol', symmetric=True,\n",
    "    trace_kwargs=dict(colorbar=dict(title='Total return', tickformat='%')))\n",
    "fig.show()"
   ]
  },
  {
   "cell_type": "code",
   "execution_count": 369,
   "metadata": {},
   "outputs": [
    {
     "data": {
      "text/plain": [
       "rand_n  oc_hx_contract_symbol\n",
       "0       AMC210122C00002500        4.248499\n",
       "1       AMC210122C00003000        2.199400\n",
       "2       BB210108C00007000         2.148799\n",
       "3       BB210122C00007000        33.446898\n",
       "4       FEYE201218C00016000      14.397599\n",
       "5       FEYE201224C00014000      39.396798\n",
       "6       FEYE210115C00015000      32.645298\n",
       "7       FEYE210115C00016000      26.993497\n",
       "8       FEYE210115C00017000      25.146298\n",
       "dtype: float64"
      ]
     },
     "execution_count": 369,
     "metadata": {},
     "output_type": "execute_result"
    }
   ],
   "source": [
    "# portfolio[\"BTC-USD\"].total_profit()\n",
    "portfolio.total_profit(group_by=False)"
   ]
  },
  {
   "cell_type": "code",
   "execution_count": 370,
   "metadata": {},
   "outputs": [
    {
     "data": {
      "text/plain": [
       "(440, 9)"
      ]
     },
     "execution_count": 370,
     "metadata": {},
     "output_type": "execute_result"
    }
   ],
   "source": [
    "entries.shape"
   ]
  },
  {
   "cell_type": "code",
   "execution_count": 376,
   "metadata": {},
   "outputs": [
    {
     "data": {
      "text/plain": [
       "group\n",
       "AMC     2\n",
       "BB      2\n",
       "FEYE    5\n",
       "dtype: int64"
      ]
     },
     "execution_count": 376,
     "metadata": {},
     "output_type": "execute_result"
    }
   ],
   "source": [
    "portfolio.get_trades().count()"
   ]
  },
  {
   "cell_type": "code",
   "execution_count": 377,
   "metadata": {},
   "outputs": [
    {
     "data": {
      "text/plain": [
       "group\n",
       "AMC      3.223949\n",
       "BB      16.723449\n",
       "FEYE     0.000000\n",
       "dtype: float64"
      ]
     },
     "execution_count": 377,
     "metadata": {},
     "output_type": "execute_result"
    }
   ],
   "source": [
    "portfolio.trades.expectancy()"
   ]
  },
  {
   "cell_type": "code",
   "execution_count": 378,
   "metadata": {},
   "outputs": [
    {
     "data": {
      "text/plain": [
       "array([(0, 429, 1, 5., 0.06006, 0.0003003 , 0),\n",
       "       (1, 431, 0, 5., 0.15015, 0.00075075, 0),\n",
       "       (2, 423, 3, 5., 0.31031, 0.00155155, 0),\n",
       "       (3, 424, 2, 5., 0.12012, 0.0006006 , 0),\n",
       "       (4, 409, 4, 5., 0.24024, 0.0012012 , 0),\n",
       "       (5, 409, 7, 5., 0.65065, 0.00325325, 0),\n",
       "       (6, 409, 8, 5., 0.37037, 0.00185185, 0),\n",
       "       (7, 410, 6, 5., 0.47047, 0.00235235, 0),\n",
       "       (8, 413, 5, 5., 0.32032, 0.0016016 , 0)],\n",
       "      dtype={'names':['id','idx','col','size','price','fees','side'], 'formats':['<i8','<i8','<i8','<f8','<f8','<f8','<i8'], 'offsets':[0,8,16,24,32,40,48], 'itemsize':56, 'aligned':True})"
      ]
     },
     "execution_count": 378,
     "metadata": {},
     "output_type": "execute_result"
    }
   ],
   "source": [
    "portfolio.order_records"
   ]
  },
  {
   "cell_type": "code",
   "execution_count": 379,
   "metadata": {},
   "outputs": [
    {
     "data": {
      "text/plain": [
       "group\n",
       "AMC     2\n",
       "BB      2\n",
       "FEYE    5\n",
       "dtype: int64"
      ]
     },
     "execution_count": 379,
     "metadata": {},
     "output_type": "execute_result"
    }
   ],
   "source": [
    "portfolio.orders.buy.count()"
   ]
  },
  {
   "cell_type": "code",
   "execution_count": 380,
   "metadata": {},
   "outputs": [
    {
     "data": {
      "text/html": [
       "<div>\n",
       "<style scoped>\n",
       "    .dataframe tbody tr th:only-of-type {\n",
       "        vertical-align: middle;\n",
       "    }\n",
       "\n",
       "    .dataframe tbody tr th {\n",
       "        vertical-align: top;\n",
       "    }\n",
       "\n",
       "    .dataframe thead th {\n",
       "        text-align: right;\n",
       "    }\n",
       "</style>\n",
       "<table border=\"1\" class=\"dataframe\">\n",
       "  <thead>\n",
       "    <tr style=\"text-align: right;\">\n",
       "      <th>symbol</th>\n",
       "      <th>BTC-USD</th>\n",
       "      <th>ETH-USD</th>\n",
       "      <th>LTC-USD</th>\n",
       "    </tr>\n",
       "    <tr>\n",
       "      <th>Date</th>\n",
       "      <th></th>\n",
       "      <th></th>\n",
       "      <th></th>\n",
       "    </tr>\n",
       "  </thead>\n",
       "  <tbody>\n",
       "    <tr>\n",
       "      <th>2020-12-15</th>\n",
       "      <td>19417.076172</td>\n",
       "      <td>589.355591</td>\n",
       "      <td>81.400673</td>\n",
       "    </tr>\n",
       "    <tr>\n",
       "      <th>2020-12-16</th>\n",
       "      <td>21310.597656</td>\n",
       "      <td>636.181824</td>\n",
       "      <td>92.789688</td>\n",
       "    </tr>\n",
       "    <tr>\n",
       "      <th>2020-12-17</th>\n",
       "      <td>22805.162109</td>\n",
       "      <td>642.868958</td>\n",
       "      <td>100.959572</td>\n",
       "    </tr>\n",
       "    <tr>\n",
       "      <th>2020-12-18</th>\n",
       "      <td>23137.960938</td>\n",
       "      <td>654.811951</td>\n",
       "      <td>109.384506</td>\n",
       "    </tr>\n",
       "    <tr>\n",
       "      <th>2020-12-19</th>\n",
       "      <td>23869.832031</td>\n",
       "      <td>659.297913</td>\n",
       "      <td>120.558907</td>\n",
       "    </tr>\n",
       "  </tbody>\n",
       "</table>\n",
       "</div>"
      ],
      "text/plain": [
       "symbol           BTC-USD     ETH-USD     LTC-USD\n",
       "Date                                            \n",
       "2020-12-15  19417.076172  589.355591   81.400673\n",
       "2020-12-16  21310.597656  636.181824   92.789688\n",
       "2020-12-17  22805.162109  642.868958  100.959572\n",
       "2020-12-18  23137.960938  654.811951  109.384506\n",
       "2020-12-19  23869.832031  659.297913  120.558907"
      ]
     },
     "execution_count": 380,
     "metadata": {},
     "output_type": "execute_result"
    }
   ],
   "source": [
    "price.head()"
   ]
  },
  {
   "cell_type": "code",
   "execution_count": 381,
   "metadata": {
    "scrolled": true
   },
   "outputs": [
    {
     "data": {
      "application/vnd.jupyter.widget-view+json": {
       "model_id": "632585404eef4df589e27ab9dd25317d",
       "version_major": 2,
       "version_minor": 0
      },
      "text/plain": [
       "FigureWidget({\n",
       "    'data': [{'name': 'AMC',\n",
       "              'showlegend': True,\n",
       "              'type': 'scatter',…"
      ]
     },
     "metadata": {},
     "output_type": "display_data"
    }
   ],
   "source": [
    "portfolio.value().vbt.plot()"
   ]
  },
  {
   "cell_type": "code",
   "execution_count": 382,
   "metadata": {},
   "outputs": [
    {
     "data": {
      "text/plain": [
       "rand_n  oc_hx_contract_symbol\n",
       "0       AMC210122C00002500        4.248499\n",
       "1       AMC210122C00003000        2.199400\n",
       "2       BB210108C00007000         2.148799\n",
       "3       BB210122C00007000        33.446898\n",
       "4       FEYE201218C00016000      14.397599\n",
       "5       FEYE201224C00014000      39.396798\n",
       "6       FEYE210115C00015000      32.645298\n",
       "7       FEYE210115C00016000      26.993497\n",
       "8       FEYE210115C00017000      25.146298\n",
       "dtype: float64"
      ]
     },
     "execution_count": 382,
     "metadata": {},
     "output_type": "execute_result"
    }
   ],
   "source": [
    "portfolio.total_profit(group_by=False)"
   ]
  },
  {
   "cell_type": "markdown",
   "metadata": {},
   "source": [
    "## vectorbt: Random search"
   ]
  },
  {
   "cell_type": "markdown",
   "metadata": {},
   "source": [
    "### One-time allocation"
   ]
  },
  {
   "cell_type": "code",
   "execution_count": 14,
   "metadata": {},
   "outputs": [
    {
     "name": "stdout",
     "output_type": "stream",
     "text": [
      "2000\n"
     ]
    }
   ],
   "source": [
    "np.random.seed(42)\n",
    "\n",
    "# Generate random weights, n times\n",
    "weights = []\n",
    "for i in range(num_tests):\n",
    "    w = np.random.random_sample(len(symbols))\n",
    "    w = w / np.sum(w)\n",
    "    weights.append(w)\n",
    "\n",
    "print(len(weights))"
   ]
  },
  {
   "cell_type": "code",
   "execution_count": 15,
   "metadata": {},
   "outputs": [
    {
     "name": "stdout",
     "output_type": "stream",
     "text": [
      "MultiIndex([( 0.13319702814025883,    0,   'FB'),\n",
      "            ( 0.33810081711389406,    0, 'AMZN'),\n",
      "            ( 0.26031768763785473,    0, 'NFLX'),\n",
      "            (  0.2128998389048247,    0, 'GOOG'),\n",
      "            ( 0.05548462820316767,    0, 'AAPL'),\n",
      "            ( 0.06528491964469331,    1,   'FB'),\n",
      "            ( 0.02430844330237927,    1, 'AMZN'),\n",
      "            (  0.3625014516740258,    1, 'NFLX'),\n",
      "            (  0.2515713061862386,    1, 'GOOG'),\n",
      "            ( 0.29633387919266296,    1, 'AAPL'),\n",
      "            ...\n",
      "            (  0.2056564359049325, 1998,   'FB'),\n",
      "            ( 0.14846396871443943, 1998, 'AMZN'),\n",
      "            ( 0.21512097636364197, 1998, 'NFLX'),\n",
      "            (  0.3738566007394396, 1998, 'GOOG'),\n",
      "            (0.056902018277546554, 1998, 'AAPL'),\n",
      "            ( 0.25860265182212094, 1999,   'FB'),\n",
      "            (  0.2706191852849979, 1999, 'AMZN'),\n",
      "            (  0.2854538191129893, 1999, 'NFLX'),\n",
      "            ( 0.11985160754099378, 1999, 'GOOG'),\n",
      "            (  0.0654727362388982, 1999, 'AAPL')],\n",
      "           names=['weights', 'symbol_group', 'symbol'], length=10000)\n"
     ]
    }
   ],
   "source": [
    "# Build column hierarchy such that one weight corresponds to one price series\n",
    "_price = price.vbt.tile(num_tests, keys=pd.Index(np.arange(num_tests), name='symbol_group'))\n",
    "_price = _price.vbt.stack_index(pd.Index(np.concatenate(weights), name='weights'))\n",
    "\n",
    "print(_price.columns)"
   ]
  },
  {
   "cell_type": "code",
   "execution_count": 16,
   "metadata": {},
   "outputs": [
    {
     "name": "stdout",
     "output_type": "stream",
     "text": [
      "(37, 10000)\n"
     ]
    }
   ],
   "source": [
    "# Define order size\n",
    "size = np.full_like(_price, np.nan)\n",
    "size[0, :] = np.concatenate(weights)  # allocate at first timestamp, do nothing afterwards\n",
    "\n",
    "print(size.shape)"
   ]
  },
  {
   "cell_type": "markdown",
   "metadata": {},
   "source": [
    "**NOTE:** Do not attempt to run the following simulation with Numba disabled."
   ]
  },
  {
   "cell_type": "code",
   "execution_count": 17,
   "metadata": {},
   "outputs": [
    {
     "name": "stdout",
     "output_type": "stream",
     "text": [
      "10000\n",
      "CPU times: user 5.27 s, sys: 98.1 ms, total: 5.37 s\n",
      "Wall time: 5.65 s\n"
     ]
    }
   ],
   "source": [
    "%%time\n",
    "# Run simulation\n",
    "portfolio = vbt.Portfolio.from_orders(\n",
    "    close=_price,\n",
    "    size=size,\n",
    "    size_type='targetpercent',\n",
    "    group_by='symbol_group',\n",
    "    cash_sharing=True,\n",
    "    freq='D',\n",
    "    incl_unrealized=True\n",
    ") # all weights sum to 1, no shorting, and 100% investment in risky assets\n",
    "\n",
    "print(len(portfolio.orders))"
   ]
  },
  {
   "cell_type": "code",
   "execution_count": 18,
   "metadata": {},
   "outputs": [
    {
     "data": {
      "image/png": "[encoded data removed]"
     },
     "metadata": {},
     "output_type": "display_data"
    }
   ],
   "source": [
    "# Plot annualized return against volatility, color by sharpe ratio\n",
    "annualized_return = portfolio.annualized_return()\n",
    "annualized_return.index = portfolio.annualized_volatility()\n",
    "annualized_return.vbt.scatterplot(\n",
    "    trace_kwargs=dict(\n",
    "        mode='markers', \n",
    "        marker=dict(\n",
    "            color=portfolio.sharpe_ratio(),\n",
    "            colorbar=dict(\n",
    "                title='sharpe_ratio'\n",
    "            ),\n",
    "            size=5,\n",
    "            opacity=0.7\n",
    "        )\n",
    "    ),\n",
    "    xaxis_title='annualized_volatility',\n",
    "    yaxis_title='annualized_return'\n",
    ").show_png()"
   ]
  },
  {
   "cell_type": "code",
   "execution_count": 19,
   "metadata": {},
   "outputs": [
    {
     "name": "stdout",
     "output_type": "stream",
     "text": [
      "1636\n"
     ]
    }
   ],
   "source": [
    "# Get index of the best group according to the target metric\n",
    "best_symbol_group = portfolio.sharpe_ratio().idxmax()\n",
    "\n",
    "print(best_symbol_group)"
   ]
  },
  {
   "cell_type": "code",
   "execution_count": 20,
   "metadata": {},
   "outputs": [
    {
     "name": "stdout",
     "output_type": "stream",
     "text": [
      "[0.00448558 0.10106375 0.0455881  0.65801902 0.19084355]\n"
     ]
    }
   ],
   "source": [
    "# Print best weights\n",
    "print(weights[best_symbol_group])"
   ]
  },
  {
   "cell_type": "code",
   "execution_count": 21,
   "metadata": {},
   "outputs": [
    {
     "name": "stdout",
     "output_type": "stream",
     "text": [
      "Start                     2020-12-15 00:00:00\n",
      "End                       2021-02-08 00:00:00\n",
      "Duration                     37 days 00:00:00\n",
      "Init. Cash                                100\n",
      "Total Profit                           14.217\n",
      "Total Return [%]                       14.217\n",
      "Benchmark Return [%]                  6.55174\n",
      "Position Coverage [%]                     100\n",
      "Max. Drawdown [%]                     4.95296\n",
      "Avg. Drawdown [%]                     2.77898\n",
      "Max. Drawdown Duration        8 days 00:00:00\n",
      "Avg. Drawdown Duration        5 days 19:12:00\n",
      "Num. Trades                                 5\n",
      "Win Rate [%]                               80\n",
      "Best Trade [%]                        18.3927\n",
      "Worst Trade [%]                      -3.25531\n",
      "Avg. Trade [%]                        6.55174\n",
      "Max. Trade Duration          36 days 00:00:00\n",
      "Avg. Trade Duration          36 days 00:00:00\n",
      "Expectancy                             2.8434\n",
      "SQN                                    1.2221\n",
      "Gross Exposure                              1\n",
      "Sharpe Ratio                          3.35661\n",
      "Sortino Ratio                         6.41513\n",
      "Calmar Ratio                          29.7362\n",
      "Name: 1636, dtype: object\n"
     ]
    }
   ],
   "source": [
    "# Compute default stats\n",
    "print(portfolio.iloc[best_symbol_group].stats())"
   ]
  },
  {
   "cell_type": "markdown",
   "metadata": {},
   "source": [
    "### Rebalance monthly"
   ]
  },
  {
   "cell_type": "code",
   "execution_count": 22,
   "metadata": {},
   "outputs": [
    {
     "name": "stdout",
     "output_type": "stream",
     "text": [
      "3\n"
     ]
    }
   ],
   "source": [
    "# Select the first index of each month\n",
    "rb_mask = ~_price.index.to_period('m').duplicated()\n",
    "\n",
    "print(rb_mask.sum())"
   ]
  },
  {
   "cell_type": "code",
   "execution_count": 23,
   "metadata": {},
   "outputs": [
    {
     "name": "stdout",
     "output_type": "stream",
     "text": [
      "(37, 10000)\n"
     ]
    }
   ],
   "source": [
    "rb_size = np.full_like(_price, np.nan)\n",
    "rb_size[rb_mask, :] = np.concatenate(weights)  # allocate at mask\n",
    "\n",
    "print(rb_size.shape)"
   ]
  },
  {
   "cell_type": "markdown",
   "metadata": {},
   "source": [
    "**NOTE:** Do not attempt to run the following simulation with Numba disabled."
   ]
  },
  {
   "cell_type": "code",
   "execution_count": 21,
   "metadata": {},
   "outputs": [
    {
     "name": "stdout",
     "output_type": "stream",
     "text": [
      "499993\n",
      "CPU times: user 500 ms, sys: 40.3 ms, total: 541 ms\n",
      "Wall time: 544 ms\n"
     ]
    }
   ],
   "source": [
    "%%time\n",
    "\n",
    "# Run simulation, with rebalancing monthly\n",
    "rb_portfolio = vbt.Portfolio.from_orders(\n",
    "    close=_price,\n",
    "    size=rb_size,\n",
    "    size_type='targetpercent',\n",
    "    group_by='symbol_group',\n",
    "    cash_sharing=True,\n",
    "    call_seq='auto',  # important: sell before buy\n",
    "    freq='D',\n",
    "    incl_unrealized=True\n",
    ")\n",
    "\n",
    "print(len(rb_portfolio.orders))"
   ]
  },
  {
   "cell_type": "code",
   "execution_count": 22,
   "metadata": {},
   "outputs": [
    {
     "name": "stdout",
     "output_type": "stream",
     "text": [
      "1920\n"
     ]
    }
   ],
   "source": [
    "rb_best_symbol_group = portfolio.sharpe_ratio().idxmax()\n",
    "\n",
    "print(rb_best_symbol_group)"
   ]
  },
  {
   "cell_type": "code",
   "execution_count": 23,
   "metadata": {},
   "outputs": [
    {
     "name": "stdout",
     "output_type": "stream",
     "text": [
      "[0.01154842 0.46529877 0.10296527 0.02644507 0.39374246]\n"
     ]
    }
   ],
   "source": [
    "print(weights[rb_best_symbol_group])"
   ]
  },
  {
   "cell_type": "code",
   "execution_count": 24,
   "metadata": {},
   "outputs": [
    {
     "name": "stdout",
     "output_type": "stream",
     "text": [
      "Start                             2017-01-03 00:00:00\n",
      "End                               2021-02-05 00:00:00\n",
      "Duration                           1031 days 00:00:00\n",
      "Init. Cash                                        100\n",
      "Total Profit                                  376.316\n",
      "Total Return [%]                              376.316\n",
      "Benchmark Return [%]                          274.226\n",
      "Position Coverage [%]                             100\n",
      "Max. Drawdown [%]                             33.6883\n",
      "Avg. Drawdown [%]                             2.83032\n",
      "Max. Drawdown Duration              304 days 00:00:00\n",
      "Avg. Drawdown Duration     12 days 06:29:11.351351351\n",
      "Num. Trades                                       114\n",
      "Win Rate [%]                                  99.1228\n",
      "Best Trade [%]                                249.176\n",
      "Worst Trade [%]                              -7.13426\n",
      "Avg. Trade [%]                                65.8767\n",
      "Max. Trade Duration                1030 days 00:00:00\n",
      "Avg. Trade Duration       532 days 19:22:06.315789472\n",
      "Expectancy                                    3.30101\n",
      "SQN                                           2.03411\n",
      "Gross Exposure                                      1\n",
      "Sharpe Ratio                                  1.51308\n",
      "Sortino Ratio                                 2.22319\n",
      "Calmar Ratio                                  1.37885\n",
      "Name: 1920, dtype: object\n"
     ]
    }
   ],
   "source": [
    "print(rb_portfolio.iloc[rb_best_symbol_group].stats())"
   ]
  },
  {
   "cell_type": "code",
   "execution_count": 26,
   "metadata": {},
   "outputs": [],
   "source": [
    "def plot_allocation(rb_portfolio):\n",
    "    # Plot weights development of the portfolio\n",
    "    rb_holding_value = rb_portfolio.holding_value(group_by=False)\n",
    "    rb_value = rb_portfolio.value()\n",
    "    rb_idxs = np.flatnonzero((rb_portfolio.share_flow() != 0).any(axis=1))\n",
    "    (rb_holding_value.vbt / rb_value).vbt.plot(\n",
    "        trace_names=symbols,\n",
    "        trace_kwargs=dict(\n",
    "            stackgroup='one'\n",
    "        ),\n",
    "        shapes=[dict(\n",
    "            xref='x',\n",
    "            yref='paper',\n",
    "            x0=date,\n",
    "            x1=date,\n",
    "            y0=0,\n",
    "            y1=1,\n",
    "            line_color=vbt.settings.layout['template']['layout']['plot_bgcolor']\n",
    "        ) for date in price.index[rb_idxs]]\n",
    "    ).show_png()"
   ]
  },
  {
   "cell_type": "code",
   "execution_count": 26,
   "metadata": {},
   "outputs": [
    {
     "data": {
      "image/png": "[encoded data removed]"
     },
     "metadata": {},
     "output_type": "display_data"
    }
   ],
   "source": [
    "plot_allocation(rb_portfolio.iloc[rb_best_symbol_group])  # best group"
   ]
  },
  {
   "cell_type": "markdown",
   "metadata": {},
   "source": [
    "### Search and rebalance every 30 days"
   ]
  },
  {
   "cell_type": "markdown",
   "metadata": {},
   "source": [
    "Utilize low-level API to dynamically search for best Sharpe ratio and rebalance accordingly. Compared to previous method, we won't utilize stacking, but do search in a loop instead. We also will use days instead of months, as latter may contain a various number of trading days."
   ]
  },
  {
   "cell_type": "code",
   "execution_count": 20,
   "metadata": {},
   "outputs": [],
   "source": [
    "srb_sharpe = np.full(price.shape[0], np.nan)\n",
    "\n",
    "@njit\n",
    "def prep_func_nb(simc, every_nth):\n",
    "    # Define rebalancing days\n",
    "    simc.active_mask[:, :] = False\n",
    "    simc.active_mask[every_nth::every_nth, :] = True\n",
    "    return ()\n",
    "\n",
    "@njit\n",
    "def find_weights_nb(sc, price, num_tests):\n",
    "    # Find optimal weights based on best Sharpe ratio\n",
    "    returns = (price[1:] - price[:-1]) / price[:-1]\n",
    "    returns = returns[1:, :]  # cannot compute np.cov with NaN\n",
    "    mean = nanmean_nb(returns)\n",
    "    cov = np.cov(returns, rowvar=False)  # masked arrays not supported by Numba (yet)\n",
    "    best_sharpe_ratio = -np.inf\n",
    "    \n",
    "    for i in range(num_tests):\n",
    "        # Generate weights\n",
    "        w = np.random.random_sample(sc.group_len)\n",
    "        w = w / np.sum(w)\n",
    "        \n",
    "        # Compute annualized mean, covariance, and Sharpe ratio\n",
    "        p_return = np.sum(mean * w) * ann_factor\n",
    "        p_std = np.sqrt(np.dot(w.T, np.dot(cov, w))) * np.sqrt(ann_factor)\n",
    "        sharpe_ratio = p_return / p_std\n",
    "        if sharpe_ratio > best_sharpe_ratio:\n",
    "            best_sharpe_ratio = sharpe_ratio\n",
    "            weights = w\n",
    "            \n",
    "    return best_sharpe_ratio, weights\n",
    "\n",
    "@njit\n",
    "def segment_prep_func_nb(sc, find_weights_nb, history_len, ann_factor, num_tests, srb_sharpe):\n",
    "    if history_len == -1:\n",
    "        # Look back at the entire time period\n",
    "        close = sc.close[:sc.i, sc.from_col:sc.to_col]\n",
    "    else:\n",
    "        # Look back at a fixed time period\n",
    "        if sc.i - history_len <= 0:\n",
    "            return (np.full(sc.group_len, np.nan),)  # insufficient data\n",
    "        close = sc.close[sc.i - history_len:sc.i, sc.from_col:sc.to_col]\n",
    "    \n",
    "    # Find optimal weights\n",
    "    best_sharpe_ratio, weights = find_weights_nb(sc, close, num_tests)\n",
    "    srb_sharpe[sc.i] = best_sharpe_ratio\n",
    "        \n",
    "    # Update valuation price and reorder orders\n",
    "    size_type = np.full(sc.group_len, SizeType.TargetPercent)\n",
    "    direction = np.full(sc.group_len, Direction.LongOnly)\n",
    "    temp_float_arr = np.empty(sc.group_len, dtype=np.float_)\n",
    "    for k in range(sc.group_len):\n",
    "        col = sc.from_col + k\n",
    "        sc.last_val_price[col] = sc.close[sc.i, col]\n",
    "    auto_call_seq_ctx_nb(sc, weights, size_type, direction, temp_float_arr)\n",
    "    \n",
    "    return (weights,)\n",
    "\n",
    "@njit\n",
    "def order_func_nb(oc, weights):\n",
    "    col_i = oc.call_seq_now[oc.call_idx]\n",
    "    return create_order_nb(\n",
    "        size=weights[col_i], \n",
    "        size_type=SizeType.TargetPercent, \n",
    "        price=oc.close[oc.i, oc.col]\n",
    "    )"
   ]
  },
  {
   "cell_type": "code",
   "execution_count": 21,
   "metadata": {},
   "outputs": [],
   "source": [
    "ann_factor = returns.vbt.returns(freq='D').ann_factor"
   ]
  },
  {
   "cell_type": "code",
   "execution_count": 37,
   "metadata": {},
   "outputs": [
    {
     "name": "stdout",
     "output_type": "stream",
     "text": [
      "CPU times: user 85.6 ms, sys: 2.52 ms, total: 88.1 ms\n",
      "Wall time: 104 ms\n"
     ]
    }
   ],
   "source": [
    "%%time\n",
    "# Run simulation using a custom order function\n",
    "srb_portfolio = vbt.Portfolio.from_order_func(\n",
    "    price,\n",
    "    order_func_nb,\n",
    "    prep_func_nb=prep_func_nb,\n",
    "    prep_args=(30,),\n",
    "    segment_prep_func_nb=segment_prep_func_nb,\n",
    "    segment_prep_args=(find_weights_nb, -1, ann_factor, num_tests, srb_sharpe),\n",
    "    cash_sharing=True, \n",
    "    group_by=True,\n",
    "    freq='D',\n",
    "    incl_unrealized=True,\n",
    "    seed=42\n",
    ")"
   ]
  },
  {
   "cell_type": "code",
   "execution_count": 30,
   "metadata": {},
   "outputs": [
    {
     "data": {
      "image/png": "[encoded data removed]"
     },
     "metadata": {},
     "output_type": "display_data"
    }
   ],
   "source": [
    "# Plot best Sharpe ratio at each rebalancing day\n",
    "pd.Series(srb_sharpe, index=price.index).vbt.scatterplot(trace_kwargs=dict(mode='markers')).show_png()"
   ]
  },
  {
   "cell_type": "code",
   "execution_count": 31,
   "metadata": {},
   "outputs": [
    {
     "name": "stdout",
     "output_type": "stream",
     "text": [
      "Start                             2017-01-03 00:00:00\n",
      "End                               2021-02-05 00:00:00\n",
      "Duration                           1031 days 00:00:00\n",
      "Init. Cash                                        100\n",
      "Total Profit                                  213.654\n",
      "Total Return [%]                              213.654\n",
      "Benchmark Return [%]                          274.226\n",
      "Position Coverage [%]                         97.0902\n",
      "Max. Drawdown [%]                             34.3509\n",
      "Avg. Drawdown [%]                             3.30605\n",
      "Max. Drawdown Duration              311 days 00:00:00\n",
      "Avg. Drawdown Duration     15 days 04:19:40.327868852\n",
      "Num. Trades                                        91\n",
      "Win Rate [%]                                  80.2198\n",
      "Best Trade [%]                                77.0805\n",
      "Worst Trade [%]                              -23.7438\n",
      "Avg. Trade [%]                                14.2463\n",
      "Max. Trade Duration                1000 days 00:00:00\n",
      "Avg. Trade Duration       526 days 01:03:17.802197808\n",
      "Expectancy                                    2.34784\n",
      "SQN                                           3.16307\n",
      "Gross Exposure                               0.970902\n",
      "Sharpe Ratio                                  1.11702\n",
      "Sortino Ratio                                 1.60991\n",
      "Calmar Ratio                                 0.938381\n",
      "dtype: object\n"
     ]
    }
   ],
   "source": [
    "print(srb_portfolio.stats())"
   ]
  },
  {
   "cell_type": "code",
   "execution_count": 32,
   "metadata": {},
   "outputs": [
    {
     "data": {
      "image/png": "[encoded data removed]"
     },
     "metadata": {},
     "output_type": "display_data"
    }
   ],
   "source": [
    "plot_allocation(srb_portfolio)"
   ]
  },
  {
   "cell_type": "markdown",
   "metadata": {},
   "source": [
    "You can see how weights stabilize themselves with growing data."
   ]
  },
  {
   "cell_type": "code",
   "execution_count": 33,
   "metadata": {},
   "outputs": [
    {
     "name": "stdout",
     "output_type": "stream",
     "text": [
      "CPU times: user 51.4 ms, sys: 1.21 ms, total: 52.6 ms\n",
      "Wall time: 53.2 ms\n"
     ]
    }
   ],
   "source": [
    "%%time\n",
    "# Run simulation, but now consider only the last 252 days of data\n",
    "srb252_sharpe = np.full(price.shape[0], np.nan)\n",
    "\n",
    "srb252_portfolio = vbt.Portfolio.from_order_func(\n",
    "    price,\n",
    "    order_func_nb,\n",
    "    prep_func_nb=prep_func_nb,\n",
    "    prep_args=(30,),\n",
    "    segment_prep_func_nb=segment_prep_func_nb,\n",
    "    segment_prep_args=(find_weights_nb, 252, ann_factor, num_tests, srb252_sharpe),\n",
    "    cash_sharing=True, \n",
    "    group_by=True,\n",
    "    freq='D',\n",
    "    incl_unrealized=True,\n",
    "    seed=42\n",
    ")"
   ]
  },
  {
   "cell_type": "code",
   "execution_count": 34,
   "metadata": {},
   "outputs": [
    {
     "data": {
      "image/png": "[encoded data removed]"
     },
     "metadata": {},
     "output_type": "display_data"
    }
   ],
   "source": [
    "pd.Series(srb252_sharpe, index=price.index).vbt.scatterplot(trace_kwargs=dict(mode='markers')).show_png()"
   ]
  },
  {
   "cell_type": "code",
   "execution_count": 35,
   "metadata": {},
   "outputs": [
    {
     "name": "stdout",
     "output_type": "stream",
     "text": [
      "Start                             2017-01-03 00:00:00\n",
      "End                               2021-02-05 00:00:00\n",
      "Duration                           1031 days 00:00:00\n",
      "Init. Cash                                        100\n",
      "Total Profit                                  132.863\n",
      "Total Return [%]                              132.863\n",
      "Benchmark Return [%]                          274.226\n",
      "Position Coverage [%]                         73.8118\n",
      "Max. Drawdown [%]                              33.136\n",
      "Avg. Drawdown [%]                             4.22363\n",
      "Max. Drawdown Duration              193 days 00:00:00\n",
      "Avg. Drawdown Duration     16 days 07:38:10.909090909\n",
      "Num. Trades                                        61\n",
      "Win Rate [%]                                  72.1311\n",
      "Best Trade [%]                                89.0979\n",
      "Worst Trade [%]                              -15.5016\n",
      "Avg. Trade [%]                                11.4349\n",
      "Max. Trade Duration                 760 days 00:00:00\n",
      "Avg. Trade Duration       442 days 11:00:59.016393440\n",
      "Expectancy                                    2.17808\n",
      "SQN                                           3.80867\n",
      "Gross Exposure                               0.738118\n",
      "Sharpe Ratio                                 0.851478\n",
      "Sortino Ratio                                 1.24009\n",
      "Calmar Ratio                                 0.692593\n",
      "dtype: object\n"
     ]
    }
   ],
   "source": [
    "print(srb252_portfolio.stats())"
   ]
  },
  {
   "cell_type": "code",
   "execution_count": 36,
   "metadata": {},
   "outputs": [
    {
     "data": {
      "image/png": "[encoded data removed]"
     },
     "metadata": {},
     "output_type": "display_data"
    }
   ],
   "source": [
    "plot_allocation(srb252_portfolio)"
   ]
  },
  {
   "cell_type": "markdown",
   "metadata": {},
   "source": [
    "A much more volatile weight distribution."
   ]
  },
  {
   "cell_type": "markdown",
   "metadata": {},
   "source": [
    "## PyPortfolioOpt + vectorbt"
   ]
  },
  {
   "cell_type": "markdown",
   "metadata": {},
   "source": [
    "### One-time allocation"
   ]
  },
  {
   "cell_type": "code",
   "execution_count": 12,
   "metadata": {},
   "outputs": [
    {
     "name": "stdout",
     "output_type": "stream",
     "text": [
      "[0.      0.40827 0.04964 0.      0.54209]\n"
     ]
    }
   ],
   "source": [
    "# Calculate expected returns and sample covariance amtrix\n",
    "avg_returns = expected_returns.mean_historical_return(price)\n",
    "cov_mat = risk_models.sample_cov(price)\n",
    "\n",
    "# Get weights maximizing the Sharpe ratio\n",
    "ef = EfficientFrontier(avg_returns, cov_mat)\n",
    "weights = ef.max_sharpe()\n",
    "clean_weights = ef.clean_weights()\n",
    "pyopt_weights = np.array([clean_weights[symbol] for symbol in symbols])\n",
    "\n",
    "print(pyopt_weights)"
   ]
  },
  {
   "cell_type": "code",
   "execution_count": 13,
   "metadata": {},
   "outputs": [
    {
     "name": "stdout",
     "output_type": "stream",
     "text": [
      "(1031, 5)\n"
     ]
    }
   ],
   "source": [
    "pyopt_size = np.full_like(price, np.nan)\n",
    "pyopt_size[0, :] = pyopt_weights  # allocate at first timestamp, do nothing afterwards\n",
    "\n",
    "print(pyopt_size.shape)"
   ]
  },
  {
   "cell_type": "code",
   "execution_count": 14,
   "metadata": {},
   "outputs": [
    {
     "name": "stdout",
     "output_type": "stream",
     "text": [
      "3\n",
      "CPU times: user 154 ms, sys: 9.88 ms, total: 164 ms\n",
      "Wall time: 147 ms\n"
     ]
    }
   ],
   "source": [
    "%%time\n",
    "# Run simulation with weights from PyPortfolioOpt\n",
    "pyopt_portfolio = vbt.Portfolio.from_orders(\n",
    "    close=price,\n",
    "    size=pyopt_size,\n",
    "    size_type='targetpercent',\n",
    "    group_by=True,\n",
    "    cash_sharing=True,\n",
    "    freq='D',\n",
    "    incl_unrealized=True\n",
    ")\n",
    "\n",
    "print(len(pyopt_portfolio.orders))"
   ]
  },
  {
   "cell_type": "markdown",
   "metadata": {},
   "source": [
    "Faster than stacking solution, but doesn't let you compare weights."
   ]
  },
  {
   "cell_type": "code",
   "execution_count": 15,
   "metadata": {},
   "outputs": [
    {
     "name": "stdout",
     "output_type": "stream",
     "text": [
      "Start                     2017-01-03 00:00:00\n",
      "End                       2021-02-05 00:00:00\n",
      "Duration                   1031 days 00:00:00\n",
      "Init. Cash                                100\n",
      "Total Profit                          373.014\n",
      "Total Return [%]                      373.014\n",
      "Benchmark Return [%]                  274.226\n",
      "Position Coverage [%]                      60\n",
      "Max. Drawdown [%]                     34.8417\n",
      "Avg. Drawdown [%]                     2.64072\n",
      "Max. Drawdown Duration      294 days 00:00:00\n",
      "Avg. Drawdown Duration       11 days 12:00:00\n",
      "Num. Trades                                 3\n",
      "Win Rate [%]                              100\n",
      "Best Trade [%]                        398.035\n",
      "Worst Trade [%]                       332.026\n",
      "Avg. Trade [%]                        358.279\n",
      "Max. Trade Duration        1030 days 00:00:00\n",
      "Avg. Trade Duration        1030 days 00:00:00\n",
      "Expectancy                            124.338\n",
      "SQN                                    2.1396\n",
      "Gross Exposure                              1\n",
      "Sharpe Ratio                          1.48651\n",
      "Sortino Ratio                         2.18539\n",
      "Calmar Ratio                          1.32607\n",
      "dtype: object\n"
     ]
    }
   ],
   "source": [
    "print(pyopt_portfolio.stats())"
   ]
  },
  {
   "cell_type": "markdown",
   "metadata": {},
   "source": [
    "### Search and rebalance monthly"
   ]
  },
  {
   "cell_type": "markdown",
   "metadata": {},
   "source": [
    "**NOTE:** PyPortfolioOpt cannot run within Numba, so restart the notebook and disable Numba in the first cell."
   ]
  },
  {
   "cell_type": "code",
   "execution_count": 16,
   "metadata": {},
   "outputs": [],
   "source": [
    "def pyopt_find_weights(sc, price, num_tests):\n",
    "    # Calculate expected returns and sample covariance matrix\n",
    "    price = pd.DataFrame(price, columns=symbols)\n",
    "    avg_returns = expected_returns.mean_historical_return(price)\n",
    "    cov_mat = risk_models.sample_cov(price)\n",
    "\n",
    "    # Get weights maximizing the Sharpe ratio\n",
    "    ef = EfficientFrontier(avg_returns, cov_mat)\n",
    "    weights = ef.max_sharpe()\n",
    "    clean_weights = ef.clean_weights()\n",
    "    weights = np.array([clean_weights[symbol] for symbol in symbols])\n",
    "    best_sharpe_ratio = base_optimizer.portfolio_performance(weights, avg_returns, cov_mat)[2]\n",
    "            \n",
    "    return best_sharpe_ratio, weights"
   ]
  },
  {
   "cell_type": "code",
   "execution_count": 22,
   "metadata": {},
   "outputs": [
    {
     "name": "stdout",
     "output_type": "stream",
     "text": [
      "CPU times: user 716 ms, sys: 12.5 ms, total: 729 ms\n",
      "Wall time: 790 ms\n"
     ]
    }
   ],
   "source": [
    "%%time\n",
    "pyopt_srb_sharpe = np.full(price.shape[0], np.nan)\n",
    "\n",
    "# Run simulation with a custom order function (Numba should be disabled)\n",
    "pyopt_srb_portfolio = vbt.Portfolio.from_order_func(\n",
    "    price,\n",
    "    order_func_nb,\n",
    "    prep_func_nb=prep_func_nb,\n",
    "    prep_args=(30,),\n",
    "    segment_prep_func_nb=segment_prep_func_nb,\n",
    "    segment_prep_args=(pyopt_find_weights, -1, ann_factor, num_tests, pyopt_srb_sharpe),\n",
    "    cash_sharing=True, \n",
    "    group_by=True,\n",
    "    freq='D',\n",
    "    incl_unrealized=True,\n",
    "    seed=42\n",
    ")"
   ]
  },
  {
   "cell_type": "code",
   "execution_count": 23,
   "metadata": {},
   "outputs": [
    {
     "data": {
      "image/png": "[encoded data removed]"
     },
     "metadata": {},
     "output_type": "display_data"
    }
   ],
   "source": [
    "pd.Series(pyopt_srb_sharpe, index=price.index).vbt.scatterplot(trace_kwargs=dict(mode='markers')).show_png()"
   ]
  },
  {
   "cell_type": "code",
   "execution_count": 24,
   "metadata": {},
   "outputs": [
    {
     "name": "stdout",
     "output_type": "stream",
     "text": [
      "Start                             2017-01-03 00:00:00\n",
      "End                               2021-02-05 00:00:00\n",
      "Duration                           1031 days 00:00:00\n",
      "Init. Cash                                        100\n",
      "Total Profit                                  183.479\n",
      "Total Return [%]                              183.479\n",
      "Benchmark Return [%]                          274.226\n",
      "Position Coverage [%]                         57.6722\n",
      "Max. Drawdown [%]                             35.3639\n",
      "Avg. Drawdown [%]                             3.63738\n",
      "Max. Drawdown Duration              348 days 00:00:00\n",
      "Avg. Drawdown Duration     16 days 19:42:51.428571428\n",
      "Num. Trades                                        58\n",
      "Win Rate [%]                                  84.4828\n",
      "Best Trade [%]                                68.4189\n",
      "Worst Trade [%]                              -30.6354\n",
      "Avg. Trade [%]                                17.2885\n",
      "Max. Trade Duration                 790 days 00:00:00\n",
      "Avg. Trade Duration       248 days 19:02:04.137931036\n",
      "Expectancy                                    3.16343\n",
      "SQN                                           2.62638\n",
      "Gross Exposure                               0.970901\n",
      "Sharpe Ratio                                  1.00852\n",
      "Sortino Ratio                                 1.45656\n",
      "Calmar Ratio                                 0.820185\n",
      "dtype: object\n"
     ]
    }
   ],
   "source": [
    "print(pyopt_srb_portfolio.stats())"
   ]
  },
  {
   "cell_type": "code",
   "execution_count": 27,
   "metadata": {},
   "outputs": [
    {
     "data": {
      "image/png": "[encoded data removed]"
     },
     "metadata": {},
     "output_type": "display_data"
    }
   ],
   "source": [
    "plot_allocation(pyopt_srb_portfolio)"
   ]
  },
  {
   "cell_type": "code",
   "execution_count": null,
   "metadata": {},
   "outputs": [],
   "source": []
  }
 ],
 "metadata": {
  "kernelspec": {
   "display_name": "fin",
   "language": "python",
   "name": "fin"
  },
  "language_info": {
   "codemirror_mode": {
    "name": "ipython",
    "version": 3
   },
   "file_extension": ".py",
   "mimetype": "text/x-python",
   "name": "python",
   "nbconvert_exporter": "python",
   "pygments_lexer": "ipython3",
   "version": "3.8.3"
  },
  "widgets": {
   "application/vnd.jupyter.widget-state+json": {
    "state": {},
    "version_major": 2,
    "version_minor": 0
   }
  }
 },
 "nbformat": 4,
 "nbformat_minor": 4
}
