{
 "cells": [
  {
   "cell_type": "code",
   "execution_count": 1,
   "metadata": {},
   "outputs": [],
   "source": [
    "import os\n",
    "import numpy as np\n",
    "import pandas as pd\n",
    "idx = pd.IndexSlice\n",
    "pd.options.display.max_columns = 100\n",
    "\n",
    "import yfinance as yf\n",
    "from datetime import datetime\n",
    "# os.environ['NUMBA_DISABLE_JIT'] = '1'  # uncomment this if you want to use pypfopt within simulation\n",
    "from numba import njit\n",
    "from scipy.sparse import csr_matrix\n",
    "import re\n",
    "import matplotlib.pyplot as plt\n",
    "\n",
    "# from pypfopt.efficient_frontier import EfficientFrontier\n",
    "# from pypfopt import risk_models\n",
    "# from pypfopt import expected_returns\n",
    "# from pypfopt import base_optimizer\n",
    "\n",
    "import vectorbt as vbt\n",
    "from vectorbt.generic.nb import nanmean_nb\n",
    "from vectorbt.portfolio.nb import create_order_nb#, auto_call_seq_ctx_nb\n",
    "from vectorbt.portfolio.enums import SizeType, Direction"
   ]
  },
  {
   "cell_type": "markdown",
   "metadata": {},
   "source": [
    "### Read this again\n",
    "\n",
    "I need to take full advantage of the indexing before i start bulding stuff outside of it. Reread this to understand how he's doing a dict of multiple cols or whatev. Its multi asset. https://polakowo.medium.com/stop-loss-trailing-stop-or-take-profit-2-million-backtests-shed-light-dde23bda40be\n",
    "\n"
   ]
  },
  {
   "cell_type": "code",
   "execution_count": 85,
   "metadata": {},
   "outputs": [],
   "source": [
    "def reduce_pred_bt(df,size):\n",
    "    idx = pd.IndexSlice\n",
    "    rand_symbols = np.random.choice(df[~df['contract_symbol'].isnull()]['s_hx_symbol'].unique(),size=size,replace=False)\n",
    "    rand_contract_symbols = df[(~df['contract_symbol'].isnull())&(df['s_hx_symbol'].isin(rand_symbols))]['contract_symbol']\n",
    "    df = df.loc[idx[:,rand_contract_symbols],:]\n",
    "    print(f\"{df.shape}\")\n",
    "    return df\n",
    "\n",
    "# df = reduce_pred_bt(df,100)\n",
    "\n",
    "def parse_contract_symbol(cs):\n",
    "    \"expects contract symbol like 'WKHS200717C00002500' and returns formatted versions of gleenable info to add to df\"\n",
    "    if isinstance(cs,str):\n",
    "        cs = cs\n",
    "    else:\n",
    "        if isinstance(cs['contract_symbol'],str):\n",
    "            cs = cs['contract_symbol']\n",
    "        else:\n",
    "            return {\n",
    "                \"option_expiration\": np.nan,\n",
    "                \"symbol\": np.nan,\n",
    "                \"root\": np.nan,\n",
    "                \"strike\": np.nan,\n",
    "                \"type\": np.nan,\n",
    "            }            \n",
    "        \n",
    "    \n",
    "    price_part = cs[-8:]\n",
    "    option_type = cs[-9]\n",
    "    date_part = cs[-15:-9]\n",
    "    root_part = cs[:-15]\n",
    "    symbol_part = re.match(\"[A-Z]*\", root_part).group()\n",
    "\n",
    "    price_part = int(price_part) / 1000\n",
    "    type_part = {\"C\": \"CALL\", \"P\": \"PUT\"}[option_type]\n",
    "    date_part = datetime.strptime(date_part, \"%y%m%d\").strftime(\"%Y-%m-%d\")\n",
    "\n",
    "    return {\n",
    "        \"option_expiration\": date_part,\n",
    "        \"symbol\": symbol_part,\n",
    "        \"root\": root_part,\n",
    "        \"strike\": price_part,\n",
    "        \"type\": type_part,\n",
    "    }\n",
    "\n",
    "def reduce_to_placeable_trades(df,discount=1.0):\n",
    "    idx = pd.IndexSlice\n",
    "    rand_symbols = np.random.choice(df[~df['contract_symbol'].isnull()]['s_hx_symbol'].unique(),size=size,replace=False)\n",
    "    rand_contract_symbols = df[(~df['contract_symbol'].isnull())&(df['s_hx_symbol'].isin(rand_symbols))]['contract_symbol']\n",
    "    df = df.loc[idx[:,rand_contract_symbols],:]\n",
    "    print(f\"{df.shape}\")\n",
    "    return df"
   ]
  },
  {
   "cell_type": "code",
   "execution_count": 83,
   "metadata": {
    "scrolled": true
   },
   "outputs": [
    {
     "data": {
      "text/plain": [
       "(146963, 19)"
      ]
     },
     "execution_count": 83,
     "metadata": {},
     "output_type": "execute_result"
    }
   ],
   "source": [
    "# reduce_pred_bt(df,50).to_csv(\"/Users/xbno/Downloads/20210201_pred_bt_full_version_17_18_ex_sm.csv\")\n",
    "# df = reduce_pred_bt(df,250)\n",
    "# df.to_csv(\"/Users/xbno/Downloads/20210201_pred_bt_full_version_17_18_sm.csv\")\n",
    "\n",
    "# df = pd.read_csv('/Users/xbno/Downloads/20210101_pred_bt_full_version_64.csv')\n",
    "# df = pd.read_csv('/Users/xbno/Downloads/20210201_pred_bt_full_version_17_18.csv')\n",
    "# df = pd.read_csv('/Users/xbno/Downloads/20210201_pred_bt_full_version_17_18_sm.csv') # 250\n",
    "df = pd.read_csv('/Users/xbno/Downloads/20210201_pred_bt_full_version_17_18_ex_sm.csv') # 50\n",
    "df['oc_hx_date'] = pd.to_datetime(df['oc_hx_date'])\n",
    "df['s_hx_date'] = pd.to_datetime(df['s_hx_date'])\n",
    "df.set_index([\"oc_hx_date\", \"oc_hx_contract_symbol\"], inplace=True)\n",
    "df = df.sort_index()\n",
    "df.shape\n",
    "\n",
    "df = df.rename({'oc_hx_hi_bff': 'oc_hx_hi',\n",
    " 'oc_hx_lo_bff': 'oc_hx_lo',\n",
    " 'oc_hx_open_bff': 'oc_hx_open',\n",
    " 'oc_hx_close_bff': 'oc_hx_close',\n",
    " 'oc_hx_volume_bff': 'oc_hx_volume'},axis=1)\n",
    "\n",
    "df[['option_expiration','symbol','root','strike','type']] = df.apply(parse_contract_symbol,axis=1,result_type=\"expand\")"
   ]
  },
  {
   "cell_type": "markdown",
   "metadata": {},
   "source": [
    "### Create entry/exit for vectorbt - Working with reduced symbols\n",
    "\n",
    "Same shape as option_contract price history. Need to shift these 1 position downward so to simulate buying the next day.\n",
    "\n",
    "These are the trades to copy:"
   ]
  },
  {
   "cell_type": "code",
   "execution_count": 87,
   "metadata": {},
   "outputs": [
    {
     "data": {
      "text/plain": [
       "<matplotlib.axes._subplots.AxesSubplot at 0x14dcb7a00>"
      ]
     },
     "execution_count": 87,
     "metadata": {},
     "output_type": "execute_result"
    },
    {
     "data": {
      "image/png": "[encoded data removed]",
      "text/plain": [
       "<Figure size 432x288 with 1 Axes>"
      ]
     },
     "metadata": {
      "needs_background": "light"
     },
     "output_type": "display_data"
    }
   ],
   "source": [
    "df['y_pred'].hist(bins=50)"
   ]
  },
  {
   "cell_type": "code",
   "execution_count": 26,
   "metadata": {},
   "outputs": [],
   "source": [
    "# discount = 1.0\n",
    "# thresh=1.5\n",
    "# print(df[(df['trade_price']*discount >= df['lo_day_after_purch'])&(df['y_pred']>=thresh)].dropna(subset=['contract_symbol'])['win'].mean())\n",
    "# df[(df['trade_price']*discount >= df['lo_day_after_purch'])&(df['y_pred']>=thresh)].dropna(subset=['contract_symbol'])#['win'].mean()"
   ]
  },
  {
   "cell_type": "code",
   "execution_count": 27,
   "metadata": {},
   "outputs": [
    {
     "data": {
      "text/html": [
       "<div>\n",
       "<style scoped>\n",
       "    .dataframe tbody tr th:only-of-type {\n",
       "        vertical-align: middle;\n",
       "    }\n",
       "\n",
       "    .dataframe tbody tr th {\n",
       "        vertical-align: top;\n",
       "    }\n",
       "\n",
       "    .dataframe thead th {\n",
       "        text-align: right;\n",
       "    }\n",
       "</style>\n",
       "<table border=\"1\" class=\"dataframe\">\n",
       "  <thead>\n",
       "    <tr style=\"text-align: right;\">\n",
       "      <th>oc_hx_contract_symbol</th>\n",
       "      <th>AHC1210618C00005000</th>\n",
       "      <th>AHC210219C00002500</th>\n",
       "      <th>AHC210319C00002500</th>\n",
       "      <th>AHC210416C00002500</th>\n",
       "      <th>AHC210521C00002500</th>\n",
       "      <th>ARAY210219C00006000</th>\n",
       "      <th>ARAY210319C00006000</th>\n",
       "      <th>ARAY210319P00005000</th>\n",
       "      <th>ARAY210416C00006000</th>\n",
       "      <th>ARAY210416P00004000</th>\n",
       "      <th>ARAY210416P00005000</th>\n",
       "      <th>ARAY210521C00005000</th>\n",
       "      <th>ARAY210521P00005000</th>\n",
       "      <th>ARAY210618C00005000</th>\n",
       "      <th>ARAY210716C00005000</th>\n",
       "      <th>ARW210319C00115000</th>\n",
       "      <th>ARW210319P00090000</th>\n",
       "      <th>ARW210319P00095000</th>\n",
       "      <th>ARW210521C00115000</th>\n",
       "      <th>ARW210521C00125000</th>\n",
       "      <th>ARW210521P00115000</th>\n",
       "      <th>ARW210618C00125000</th>\n",
       "      <th>ARW210618P00115000</th>\n",
       "      <th>AXS210319C00055000</th>\n",
       "      <th>AXS210416C00055000</th>\n",
       "      <th>AXS210521C00055000</th>\n",
       "      <th>AXS210521C00060000</th>\n",
       "      <th>AXS210521P00050000</th>\n",
       "      <th>AXS210618C00055000</th>\n",
       "      <th>AXS210716C00055000</th>\n",
       "      <th>AXS210820P00045000</th>\n",
       "      <th>AXS210820P00050000</th>\n",
       "      <th>BBAR210319C00003000</th>\n",
       "      <th>BBAR210416C00005000</th>\n",
       "      <th>BBAR210716C00005000</th>\n",
       "      <th>BBAR210716P00003000</th>\n",
       "      <th>BBDC210319P00010000</th>\n",
       "      <th>BBDC210416C00010000</th>\n",
       "      <th>BGFV210219C00015000</th>\n",
       "      <th>BGFV210219C00017500</th>\n",
       "      <th>BGFV210219C00020000</th>\n",
       "      <th>BGFV210219C00022500</th>\n",
       "      <th>BGFV210219P00012500</th>\n",
       "      <th>BGFV210319C00015000</th>\n",
       "      <th>BGFV210319C00017500</th>\n",
       "      <th>BGFV210319C00020000</th>\n",
       "      <th>BGFV210319P00012500</th>\n",
       "      <th>BGFV210319P00015000</th>\n",
       "      <th>BGFV210416C00015000</th>\n",
       "      <th>BGFV210416C00017500</th>\n",
       "      <th>...</th>\n",
       "      <th>ZTO210319P00035000</th>\n",
       "      <th>ZTO210319P00036000</th>\n",
       "      <th>ZTO210319P00037000</th>\n",
       "      <th>ZTO210416C00028000</th>\n",
       "      <th>ZTO210416C00029000</th>\n",
       "      <th>ZTO210416C00030000</th>\n",
       "      <th>ZTO210416C00031000</th>\n",
       "      <th>ZTO210416C00032000</th>\n",
       "      <th>ZTO210416C00033000</th>\n",
       "      <th>ZTO210416C00035000</th>\n",
       "      <th>ZTO210416C00037000</th>\n",
       "      <th>ZTO210416C00039000</th>\n",
       "      <th>ZTO210416C00040000</th>\n",
       "      <th>ZTO210416C00045000</th>\n",
       "      <th>ZTO210416P00024000</th>\n",
       "      <th>ZTO210416P00025000</th>\n",
       "      <th>ZTO210416P00026000</th>\n",
       "      <th>ZTO210416P00027000</th>\n",
       "      <th>ZTO210416P00031000</th>\n",
       "      <th>ZTO210416P00033000</th>\n",
       "      <th>ZTO210416P00034000</th>\n",
       "      <th>ZTO210416P00036000</th>\n",
       "      <th>ZTO210416P00037000</th>\n",
       "      <th>ZTO210521C00028000</th>\n",
       "      <th>ZTO210521C00029760</th>\n",
       "      <th>ZTO210521C00030000</th>\n",
       "      <th>ZTO210521C00030760</th>\n",
       "      <th>ZTO210521C00031000</th>\n",
       "      <th>ZTO210521C00031760</th>\n",
       "      <th>ZTO210521C00032000</th>\n",
       "      <th>ZTO210521C00033760</th>\n",
       "      <th>ZTO210521C00034000</th>\n",
       "      <th>ZTO210521C00034760</th>\n",
       "      <th>ZTO210521C00035760</th>\n",
       "      <th>ZTO210521C00036760</th>\n",
       "      <th>ZTO210521P00023760</th>\n",
       "      <th>ZTO210521P00025000</th>\n",
       "      <th>ZTO210521P00026000</th>\n",
       "      <th>ZTO210521P00027000</th>\n",
       "      <th>ZTO210521P00027760</th>\n",
       "      <th>ZTO210521P00028760</th>\n",
       "      <th>ZTO210521P00029760</th>\n",
       "      <th>ZTO210521P00030760</th>\n",
       "      <th>ZTO210521P00031760</th>\n",
       "      <th>ZTO210618C00031000</th>\n",
       "      <th>ZTO210618C00032000</th>\n",
       "      <th>ZTO210618C00035000</th>\n",
       "      <th>ZTO210618C00036000</th>\n",
       "      <th>ZTO210618P00030000</th>\n",
       "      <th>ZTO210618P00032000</th>\n",
       "    </tr>\n",
       "    <tr>\n",
       "      <th>oc_hx_date</th>\n",
       "      <th></th>\n",
       "      <th></th>\n",
       "      <th></th>\n",
       "      <th></th>\n",
       "      <th></th>\n",
       "      <th></th>\n",
       "      <th></th>\n",
       "      <th></th>\n",
       "      <th></th>\n",
       "      <th></th>\n",
       "      <th></th>\n",
       "      <th></th>\n",
       "      <th></th>\n",
       "      <th></th>\n",
       "      <th></th>\n",
       "      <th></th>\n",
       "      <th></th>\n",
       "      <th></th>\n",
       "      <th></th>\n",
       "      <th></th>\n",
       "      <th></th>\n",
       "      <th></th>\n",
       "      <th></th>\n",
       "      <th></th>\n",
       "      <th></th>\n",
       "      <th></th>\n",
       "      <th></th>\n",
       "      <th></th>\n",
       "      <th></th>\n",
       "      <th></th>\n",
       "      <th></th>\n",
       "      <th></th>\n",
       "      <th></th>\n",
       "      <th></th>\n",
       "      <th></th>\n",
       "      <th></th>\n",
       "      <th></th>\n",
       "      <th></th>\n",
       "      <th></th>\n",
       "      <th></th>\n",
       "      <th></th>\n",
       "      <th></th>\n",
       "      <th></th>\n",
       "      <th></th>\n",
       "      <th></th>\n",
       "      <th></th>\n",
       "      <th></th>\n",
       "      <th></th>\n",
       "      <th></th>\n",
       "      <th></th>\n",
       "      <th></th>\n",
       "      <th></th>\n",
       "      <th></th>\n",
       "      <th></th>\n",
       "      <th></th>\n",
       "      <th></th>\n",
       "      <th></th>\n",
       "      <th></th>\n",
       "      <th></th>\n",
       "      <th></th>\n",
       "      <th></th>\n",
       "      <th></th>\n",
       "      <th></th>\n",
       "      <th></th>\n",
       "      <th></th>\n",
       "      <th></th>\n",
       "      <th></th>\n",
       "      <th></th>\n",
       "      <th></th>\n",
       "      <th></th>\n",
       "      <th></th>\n",
       "      <th></th>\n",
       "      <th></th>\n",
       "      <th></th>\n",
       "      <th></th>\n",
       "      <th></th>\n",
       "      <th></th>\n",
       "      <th></th>\n",
       "      <th></th>\n",
       "      <th></th>\n",
       "      <th></th>\n",
       "      <th></th>\n",
       "      <th></th>\n",
       "      <th></th>\n",
       "      <th></th>\n",
       "      <th></th>\n",
       "      <th></th>\n",
       "      <th></th>\n",
       "      <th></th>\n",
       "      <th></th>\n",
       "      <th></th>\n",
       "      <th></th>\n",
       "      <th></th>\n",
       "      <th></th>\n",
       "      <th></th>\n",
       "      <th></th>\n",
       "      <th></th>\n",
       "      <th></th>\n",
       "      <th></th>\n",
       "      <th></th>\n",
       "      <th></th>\n",
       "    </tr>\n",
       "  </thead>\n",
       "  <tbody>\n",
       "    <tr>\n",
       "      <th>2021-02-01</th>\n",
       "      <td>NaN</td>\n",
       "      <td>0.30</td>\n",
       "      <td>NaN</td>\n",
       "      <td>NaN</td>\n",
       "      <td>0.65</td>\n",
       "      <td>0.05</td>\n",
       "      <td>NaN</td>\n",
       "      <td>0.50</td>\n",
       "      <td>NaN</td>\n",
       "      <td>NaN</td>\n",
       "      <td>NaN</td>\n",
       "      <td>NaN</td>\n",
       "      <td>NaN</td>\n",
       "      <td>0.85</td>\n",
       "      <td>NaN</td>\n",
       "      <td>NaN</td>\n",
       "      <td>NaN</td>\n",
       "      <td>NaN</td>\n",
       "      <td>NaN</td>\n",
       "      <td>NaN</td>\n",
       "      <td>NaN</td>\n",
       "      <td>NaN</td>\n",
       "      <td>NaN</td>\n",
       "      <td>NaN</td>\n",
       "      <td>NaN</td>\n",
       "      <td>NaN</td>\n",
       "      <td>NaN</td>\n",
       "      <td>NaN</td>\n",
       "      <td>1.04</td>\n",
       "      <td>NaN</td>\n",
       "      <td>NaN</td>\n",
       "      <td>NaN</td>\n",
       "      <td>0.15</td>\n",
       "      <td>NaN</td>\n",
       "      <td>0.15</td>\n",
       "      <td>NaN</td>\n",
       "      <td>NaN</td>\n",
       "      <td>NaN</td>\n",
       "      <td>1.01</td>\n",
       "      <td>0.45</td>\n",
       "      <td>0.30</td>\n",
       "      <td>0.16</td>\n",
       "      <td>0.60</td>\n",
       "      <td>2.17</td>\n",
       "      <td>1.39</td>\n",
       "      <td>0.95</td>\n",
       "      <td>1.40</td>\n",
       "      <td>NaN</td>\n",
       "      <td>2.50</td>\n",
       "      <td>1.81</td>\n",
       "      <td>...</td>\n",
       "      <td>NaN</td>\n",
       "      <td>NaN</td>\n",
       "      <td>NaN</td>\n",
       "      <td>7.0</td>\n",
       "      <td>NaN</td>\n",
       "      <td>NaN</td>\n",
       "      <td>NaN</td>\n",
       "      <td>NaN</td>\n",
       "      <td>3.50</td>\n",
       "      <td>2.60</td>\n",
       "      <td>NaN</td>\n",
       "      <td>NaN</td>\n",
       "      <td>1.06</td>\n",
       "      <td>NaN</td>\n",
       "      <td>NaN</td>\n",
       "      <td>NaN</td>\n",
       "      <td>NaN</td>\n",
       "      <td>NaN</td>\n",
       "      <td>NaN</td>\n",
       "      <td>2.23</td>\n",
       "      <td>NaN</td>\n",
       "      <td>NaN</td>\n",
       "      <td>NaN</td>\n",
       "      <td>NaN</td>\n",
       "      <td>NaN</td>\n",
       "      <td>NaN</td>\n",
       "      <td>NaN</td>\n",
       "      <td>NaN</td>\n",
       "      <td>NaN</td>\n",
       "      <td>NaN</td>\n",
       "      <td>NaN</td>\n",
       "      <td>NaN</td>\n",
       "      <td>NaN</td>\n",
       "      <td>NaN</td>\n",
       "      <td>NaN</td>\n",
       "      <td>NaN</td>\n",
       "      <td>NaN</td>\n",
       "      <td>NaN</td>\n",
       "      <td>NaN</td>\n",
       "      <td>NaN</td>\n",
       "      <td>NaN</td>\n",
       "      <td>NaN</td>\n",
       "      <td>NaN</td>\n",
       "      <td>NaN</td>\n",
       "      <td>NaN</td>\n",
       "      <td>NaN</td>\n",
       "      <td>NaN</td>\n",
       "      <td>NaN</td>\n",
       "      <td>NaN</td>\n",
       "      <td>NaN</td>\n",
       "    </tr>\n",
       "    <tr>\n",
       "      <th>2021-02-02</th>\n",
       "      <td>NaN</td>\n",
       "      <td>0.33</td>\n",
       "      <td>0.46</td>\n",
       "      <td>NaN</td>\n",
       "      <td>0.65</td>\n",
       "      <td>0.05</td>\n",
       "      <td>0.20</td>\n",
       "      <td>0.48</td>\n",
       "      <td>NaN</td>\n",
       "      <td>NaN</td>\n",
       "      <td>NaN</td>\n",
       "      <td>NaN</td>\n",
       "      <td>NaN</td>\n",
       "      <td>0.80</td>\n",
       "      <td>NaN</td>\n",
       "      <td>NaN</td>\n",
       "      <td>NaN</td>\n",
       "      <td>NaN</td>\n",
       "      <td>NaN</td>\n",
       "      <td>NaN</td>\n",
       "      <td>NaN</td>\n",
       "      <td>NaN</td>\n",
       "      <td>NaN</td>\n",
       "      <td>0.45</td>\n",
       "      <td>NaN</td>\n",
       "      <td>NaN</td>\n",
       "      <td>NaN</td>\n",
       "      <td>NaN</td>\n",
       "      <td>1.00</td>\n",
       "      <td>NaN</td>\n",
       "      <td>NaN</td>\n",
       "      <td>NaN</td>\n",
       "      <td>0.25</td>\n",
       "      <td>0.05</td>\n",
       "      <td>0.12</td>\n",
       "      <td>0.75</td>\n",
       "      <td>NaN</td>\n",
       "      <td>NaN</td>\n",
       "      <td>0.90</td>\n",
       "      <td>0.33</td>\n",
       "      <td>0.15</td>\n",
       "      <td>0.10</td>\n",
       "      <td>0.57</td>\n",
       "      <td>1.99</td>\n",
       "      <td>1.45</td>\n",
       "      <td>0.85</td>\n",
       "      <td>1.53</td>\n",
       "      <td>NaN</td>\n",
       "      <td>2.35</td>\n",
       "      <td>1.60</td>\n",
       "      <td>...</td>\n",
       "      <td>NaN</td>\n",
       "      <td>NaN</td>\n",
       "      <td>NaN</td>\n",
       "      <td>7.0</td>\n",
       "      <td>7.0</td>\n",
       "      <td>6.30</td>\n",
       "      <td>NaN</td>\n",
       "      <td>4.37</td>\n",
       "      <td>4.00</td>\n",
       "      <td>3.05</td>\n",
       "      <td>NaN</td>\n",
       "      <td>1.55</td>\n",
       "      <td>1.10</td>\n",
       "      <td>NaN</td>\n",
       "      <td>NaN</td>\n",
       "      <td>NaN</td>\n",
       "      <td>NaN</td>\n",
       "      <td>NaN</td>\n",
       "      <td>NaN</td>\n",
       "      <td>1.13</td>\n",
       "      <td>NaN</td>\n",
       "      <td>NaN</td>\n",
       "      <td>NaN</td>\n",
       "      <td>NaN</td>\n",
       "      <td>NaN</td>\n",
       "      <td>NaN</td>\n",
       "      <td>NaN</td>\n",
       "      <td>NaN</td>\n",
       "      <td>NaN</td>\n",
       "      <td>NaN</td>\n",
       "      <td>NaN</td>\n",
       "      <td>NaN</td>\n",
       "      <td>NaN</td>\n",
       "      <td>NaN</td>\n",
       "      <td>NaN</td>\n",
       "      <td>NaN</td>\n",
       "      <td>NaN</td>\n",
       "      <td>NaN</td>\n",
       "      <td>NaN</td>\n",
       "      <td>NaN</td>\n",
       "      <td>NaN</td>\n",
       "      <td>NaN</td>\n",
       "      <td>NaN</td>\n",
       "      <td>NaN</td>\n",
       "      <td>NaN</td>\n",
       "      <td>NaN</td>\n",
       "      <td>NaN</td>\n",
       "      <td>NaN</td>\n",
       "      <td>NaN</td>\n",
       "      <td>NaN</td>\n",
       "    </tr>\n",
       "    <tr>\n",
       "      <th>2021-02-03</th>\n",
       "      <td>NaN</td>\n",
       "      <td>0.45</td>\n",
       "      <td>0.75</td>\n",
       "      <td>NaN</td>\n",
       "      <td>0.75</td>\n",
       "      <td>0.10</td>\n",
       "      <td>0.25</td>\n",
       "      <td>0.40</td>\n",
       "      <td>NaN</td>\n",
       "      <td>NaN</td>\n",
       "      <td>NaN</td>\n",
       "      <td>NaN</td>\n",
       "      <td>NaN</td>\n",
       "      <td>1.05</td>\n",
       "      <td>NaN</td>\n",
       "      <td>NaN</td>\n",
       "      <td>NaN</td>\n",
       "      <td>2.88</td>\n",
       "      <td>NaN</td>\n",
       "      <td>NaN</td>\n",
       "      <td>NaN</td>\n",
       "      <td>NaN</td>\n",
       "      <td>NaN</td>\n",
       "      <td>0.32</td>\n",
       "      <td>NaN</td>\n",
       "      <td>NaN</td>\n",
       "      <td>NaN</td>\n",
       "      <td>NaN</td>\n",
       "      <td>1.00</td>\n",
       "      <td>NaN</td>\n",
       "      <td>NaN</td>\n",
       "      <td>NaN</td>\n",
       "      <td>0.25</td>\n",
       "      <td>0.05</td>\n",
       "      <td>0.05</td>\n",
       "      <td>0.67</td>\n",
       "      <td>NaN</td>\n",
       "      <td>NaN</td>\n",
       "      <td>0.80</td>\n",
       "      <td>0.34</td>\n",
       "      <td>0.16</td>\n",
       "      <td>0.11</td>\n",
       "      <td>0.45</td>\n",
       "      <td>2.00</td>\n",
       "      <td>1.30</td>\n",
       "      <td>0.85</td>\n",
       "      <td>1.40</td>\n",
       "      <td>NaN</td>\n",
       "      <td>2.35</td>\n",
       "      <td>1.57</td>\n",
       "      <td>...</td>\n",
       "      <td>NaN</td>\n",
       "      <td>NaN</td>\n",
       "      <td>NaN</td>\n",
       "      <td>7.0</td>\n",
       "      <td>1.5</td>\n",
       "      <td>6.52</td>\n",
       "      <td>NaN</td>\n",
       "      <td>3.98</td>\n",
       "      <td>4.40</td>\n",
       "      <td>3.26</td>\n",
       "      <td>NaN</td>\n",
       "      <td>1.55</td>\n",
       "      <td>0.94</td>\n",
       "      <td>NaN</td>\n",
       "      <td>0.17</td>\n",
       "      <td>NaN</td>\n",
       "      <td>NaN</td>\n",
       "      <td>0.32</td>\n",
       "      <td>NaN</td>\n",
       "      <td>1.13</td>\n",
       "      <td>NaN</td>\n",
       "      <td>NaN</td>\n",
       "      <td>NaN</td>\n",
       "      <td>NaN</td>\n",
       "      <td>NaN</td>\n",
       "      <td>NaN</td>\n",
       "      <td>NaN</td>\n",
       "      <td>NaN</td>\n",
       "      <td>NaN</td>\n",
       "      <td>NaN</td>\n",
       "      <td>NaN</td>\n",
       "      <td>NaN</td>\n",
       "      <td>NaN</td>\n",
       "      <td>NaN</td>\n",
       "      <td>NaN</td>\n",
       "      <td>NaN</td>\n",
       "      <td>NaN</td>\n",
       "      <td>NaN</td>\n",
       "      <td>NaN</td>\n",
       "      <td>NaN</td>\n",
       "      <td>NaN</td>\n",
       "      <td>NaN</td>\n",
       "      <td>NaN</td>\n",
       "      <td>NaN</td>\n",
       "      <td>NaN</td>\n",
       "      <td>NaN</td>\n",
       "      <td>NaN</td>\n",
       "      <td>NaN</td>\n",
       "      <td>NaN</td>\n",
       "      <td>NaN</td>\n",
       "    </tr>\n",
       "    <tr>\n",
       "      <th>2021-02-04</th>\n",
       "      <td>NaN</td>\n",
       "      <td>0.38</td>\n",
       "      <td>0.55</td>\n",
       "      <td>NaN</td>\n",
       "      <td>0.70</td>\n",
       "      <td>0.10</td>\n",
       "      <td>0.21</td>\n",
       "      <td>0.35</td>\n",
       "      <td>NaN</td>\n",
       "      <td>NaN</td>\n",
       "      <td>NaN</td>\n",
       "      <td>NaN</td>\n",
       "      <td>NaN</td>\n",
       "      <td>0.90</td>\n",
       "      <td>NaN</td>\n",
       "      <td>NaN</td>\n",
       "      <td>NaN</td>\n",
       "      <td>1.30</td>\n",
       "      <td>NaN</td>\n",
       "      <td>NaN</td>\n",
       "      <td>NaN</td>\n",
       "      <td>NaN</td>\n",
       "      <td>NaN</td>\n",
       "      <td>0.43</td>\n",
       "      <td>NaN</td>\n",
       "      <td>NaN</td>\n",
       "      <td>NaN</td>\n",
       "      <td>NaN</td>\n",
       "      <td>1.00</td>\n",
       "      <td>NaN</td>\n",
       "      <td>NaN</td>\n",
       "      <td>NaN</td>\n",
       "      <td>0.25</td>\n",
       "      <td>0.05</td>\n",
       "      <td>0.05</td>\n",
       "      <td>0.67</td>\n",
       "      <td>NaN</td>\n",
       "      <td>NaN</td>\n",
       "      <td>1.04</td>\n",
       "      <td>0.32</td>\n",
       "      <td>0.10</td>\n",
       "      <td>0.10</td>\n",
       "      <td>0.35</td>\n",
       "      <td>2.29</td>\n",
       "      <td>1.45</td>\n",
       "      <td>0.85</td>\n",
       "      <td>1.30</td>\n",
       "      <td>2.50</td>\n",
       "      <td>2.70</td>\n",
       "      <td>1.80</td>\n",
       "      <td>...</td>\n",
       "      <td>NaN</td>\n",
       "      <td>NaN</td>\n",
       "      <td>NaN</td>\n",
       "      <td>7.0</td>\n",
       "      <td>1.5</td>\n",
       "      <td>6.52</td>\n",
       "      <td>NaN</td>\n",
       "      <td>3.98</td>\n",
       "      <td>3.38</td>\n",
       "      <td>2.50</td>\n",
       "      <td>NaN</td>\n",
       "      <td>1.55</td>\n",
       "      <td>0.94</td>\n",
       "      <td>0.4</td>\n",
       "      <td>0.17</td>\n",
       "      <td>NaN</td>\n",
       "      <td>NaN</td>\n",
       "      <td>0.25</td>\n",
       "      <td>NaN</td>\n",
       "      <td>1.13</td>\n",
       "      <td>NaN</td>\n",
       "      <td>NaN</td>\n",
       "      <td>NaN</td>\n",
       "      <td>NaN</td>\n",
       "      <td>NaN</td>\n",
       "      <td>NaN</td>\n",
       "      <td>NaN</td>\n",
       "      <td>NaN</td>\n",
       "      <td>NaN</td>\n",
       "      <td>NaN</td>\n",
       "      <td>NaN</td>\n",
       "      <td>NaN</td>\n",
       "      <td>NaN</td>\n",
       "      <td>NaN</td>\n",
       "      <td>NaN</td>\n",
       "      <td>NaN</td>\n",
       "      <td>NaN</td>\n",
       "      <td>NaN</td>\n",
       "      <td>NaN</td>\n",
       "      <td>NaN</td>\n",
       "      <td>NaN</td>\n",
       "      <td>NaN</td>\n",
       "      <td>NaN</td>\n",
       "      <td>NaN</td>\n",
       "      <td>NaN</td>\n",
       "      <td>NaN</td>\n",
       "      <td>NaN</td>\n",
       "      <td>NaN</td>\n",
       "      <td>NaN</td>\n",
       "      <td>NaN</td>\n",
       "    </tr>\n",
       "    <tr>\n",
       "      <th>2021-02-05</th>\n",
       "      <td>NaN</td>\n",
       "      <td>0.38</td>\n",
       "      <td>0.52</td>\n",
       "      <td>NaN</td>\n",
       "      <td>0.70</td>\n",
       "      <td>0.10</td>\n",
       "      <td>0.25</td>\n",
       "      <td>0.35</td>\n",
       "      <td>NaN</td>\n",
       "      <td>NaN</td>\n",
       "      <td>NaN</td>\n",
       "      <td>NaN</td>\n",
       "      <td>NaN</td>\n",
       "      <td>1.04</td>\n",
       "      <td>NaN</td>\n",
       "      <td>NaN</td>\n",
       "      <td>NaN</td>\n",
       "      <td>1.30</td>\n",
       "      <td>NaN</td>\n",
       "      <td>NaN</td>\n",
       "      <td>NaN</td>\n",
       "      <td>NaN</td>\n",
       "      <td>NaN</td>\n",
       "      <td>0.45</td>\n",
       "      <td>NaN</td>\n",
       "      <td>NaN</td>\n",
       "      <td>NaN</td>\n",
       "      <td>NaN</td>\n",
       "      <td>1.90</td>\n",
       "      <td>NaN</td>\n",
       "      <td>NaN</td>\n",
       "      <td>NaN</td>\n",
       "      <td>0.25</td>\n",
       "      <td>0.05</td>\n",
       "      <td>0.10</td>\n",
       "      <td>0.50</td>\n",
       "      <td>NaN</td>\n",
       "      <td>NaN</td>\n",
       "      <td>1.24</td>\n",
       "      <td>0.45</td>\n",
       "      <td>0.15</td>\n",
       "      <td>0.10</td>\n",
       "      <td>0.20</td>\n",
       "      <td>2.55</td>\n",
       "      <td>1.55</td>\n",
       "      <td>0.98</td>\n",
       "      <td>1.10</td>\n",
       "      <td>2.28</td>\n",
       "      <td>2.91</td>\n",
       "      <td>1.95</td>\n",
       "      <td>...</td>\n",
       "      <td>NaN</td>\n",
       "      <td>NaN</td>\n",
       "      <td>NaN</td>\n",
       "      <td>7.0</td>\n",
       "      <td>1.5</td>\n",
       "      <td>6.52</td>\n",
       "      <td>NaN</td>\n",
       "      <td>3.98</td>\n",
       "      <td>3.38</td>\n",
       "      <td>2.50</td>\n",
       "      <td>NaN</td>\n",
       "      <td>1.55</td>\n",
       "      <td>0.94</td>\n",
       "      <td>0.4</td>\n",
       "      <td>0.17</td>\n",
       "      <td>NaN</td>\n",
       "      <td>NaN</td>\n",
       "      <td>0.25</td>\n",
       "      <td>NaN</td>\n",
       "      <td>1.13</td>\n",
       "      <td>NaN</td>\n",
       "      <td>NaN</td>\n",
       "      <td>NaN</td>\n",
       "      <td>NaN</td>\n",
       "      <td>NaN</td>\n",
       "      <td>NaN</td>\n",
       "      <td>NaN</td>\n",
       "      <td>NaN</td>\n",
       "      <td>NaN</td>\n",
       "      <td>NaN</td>\n",
       "      <td>NaN</td>\n",
       "      <td>NaN</td>\n",
       "      <td>NaN</td>\n",
       "      <td>NaN</td>\n",
       "      <td>NaN</td>\n",
       "      <td>NaN</td>\n",
       "      <td>NaN</td>\n",
       "      <td>NaN</td>\n",
       "      <td>NaN</td>\n",
       "      <td>NaN</td>\n",
       "      <td>NaN</td>\n",
       "      <td>NaN</td>\n",
       "      <td>NaN</td>\n",
       "      <td>NaN</td>\n",
       "      <td>NaN</td>\n",
       "      <td>NaN</td>\n",
       "      <td>NaN</td>\n",
       "      <td>NaN</td>\n",
       "      <td>NaN</td>\n",
       "      <td>NaN</td>\n",
       "    </tr>\n",
       "    <tr>\n",
       "      <th>...</th>\n",
       "      <td>...</td>\n",
       "      <td>...</td>\n",
       "      <td>...</td>\n",
       "      <td>...</td>\n",
       "      <td>...</td>\n",
       "      <td>...</td>\n",
       "      <td>...</td>\n",
       "      <td>...</td>\n",
       "      <td>...</td>\n",
       "      <td>...</td>\n",
       "      <td>...</td>\n",
       "      <td>...</td>\n",
       "      <td>...</td>\n",
       "      <td>...</td>\n",
       "      <td>...</td>\n",
       "      <td>...</td>\n",
       "      <td>...</td>\n",
       "      <td>...</td>\n",
       "      <td>...</td>\n",
       "      <td>...</td>\n",
       "      <td>...</td>\n",
       "      <td>...</td>\n",
       "      <td>...</td>\n",
       "      <td>...</td>\n",
       "      <td>...</td>\n",
       "      <td>...</td>\n",
       "      <td>...</td>\n",
       "      <td>...</td>\n",
       "      <td>...</td>\n",
       "      <td>...</td>\n",
       "      <td>...</td>\n",
       "      <td>...</td>\n",
       "      <td>...</td>\n",
       "      <td>...</td>\n",
       "      <td>...</td>\n",
       "      <td>...</td>\n",
       "      <td>...</td>\n",
       "      <td>...</td>\n",
       "      <td>...</td>\n",
       "      <td>...</td>\n",
       "      <td>...</td>\n",
       "      <td>...</td>\n",
       "      <td>...</td>\n",
       "      <td>...</td>\n",
       "      <td>...</td>\n",
       "      <td>...</td>\n",
       "      <td>...</td>\n",
       "      <td>...</td>\n",
       "      <td>...</td>\n",
       "      <td>...</td>\n",
       "      <td>...</td>\n",
       "      <td>...</td>\n",
       "      <td>...</td>\n",
       "      <td>...</td>\n",
       "      <td>...</td>\n",
       "      <td>...</td>\n",
       "      <td>...</td>\n",
       "      <td>...</td>\n",
       "      <td>...</td>\n",
       "      <td>...</td>\n",
       "      <td>...</td>\n",
       "      <td>...</td>\n",
       "      <td>...</td>\n",
       "      <td>...</td>\n",
       "      <td>...</td>\n",
       "      <td>...</td>\n",
       "      <td>...</td>\n",
       "      <td>...</td>\n",
       "      <td>...</td>\n",
       "      <td>...</td>\n",
       "      <td>...</td>\n",
       "      <td>...</td>\n",
       "      <td>...</td>\n",
       "      <td>...</td>\n",
       "      <td>...</td>\n",
       "      <td>...</td>\n",
       "      <td>...</td>\n",
       "      <td>...</td>\n",
       "      <td>...</td>\n",
       "      <td>...</td>\n",
       "      <td>...</td>\n",
       "      <td>...</td>\n",
       "      <td>...</td>\n",
       "      <td>...</td>\n",
       "      <td>...</td>\n",
       "      <td>...</td>\n",
       "      <td>...</td>\n",
       "      <td>...</td>\n",
       "      <td>...</td>\n",
       "      <td>...</td>\n",
       "      <td>...</td>\n",
       "      <td>...</td>\n",
       "      <td>...</td>\n",
       "      <td>...</td>\n",
       "      <td>...</td>\n",
       "      <td>...</td>\n",
       "      <td>...</td>\n",
       "      <td>...</td>\n",
       "      <td>...</td>\n",
       "      <td>...</td>\n",
       "      <td>...</td>\n",
       "    </tr>\n",
       "    <tr>\n",
       "      <th>2021-06-23</th>\n",
       "      <td>NaN</td>\n",
       "      <td>NaN</td>\n",
       "      <td>NaN</td>\n",
       "      <td>NaN</td>\n",
       "      <td>NaN</td>\n",
       "      <td>NaN</td>\n",
       "      <td>NaN</td>\n",
       "      <td>NaN</td>\n",
       "      <td>NaN</td>\n",
       "      <td>NaN</td>\n",
       "      <td>NaN</td>\n",
       "      <td>NaN</td>\n",
       "      <td>NaN</td>\n",
       "      <td>NaN</td>\n",
       "      <td>0.10</td>\n",
       "      <td>NaN</td>\n",
       "      <td>NaN</td>\n",
       "      <td>NaN</td>\n",
       "      <td>NaN</td>\n",
       "      <td>NaN</td>\n",
       "      <td>NaN</td>\n",
       "      <td>NaN</td>\n",
       "      <td>NaN</td>\n",
       "      <td>NaN</td>\n",
       "      <td>NaN</td>\n",
       "      <td>NaN</td>\n",
       "      <td>NaN</td>\n",
       "      <td>NaN</td>\n",
       "      <td>NaN</td>\n",
       "      <td>0.07</td>\n",
       "      <td>0.70</td>\n",
       "      <td>2.80</td>\n",
       "      <td>NaN</td>\n",
       "      <td>NaN</td>\n",
       "      <td>0.05</td>\n",
       "      <td>0.05</td>\n",
       "      <td>NaN</td>\n",
       "      <td>NaN</td>\n",
       "      <td>NaN</td>\n",
       "      <td>NaN</td>\n",
       "      <td>NaN</td>\n",
       "      <td>NaN</td>\n",
       "      <td>NaN</td>\n",
       "      <td>NaN</td>\n",
       "      <td>NaN</td>\n",
       "      <td>NaN</td>\n",
       "      <td>NaN</td>\n",
       "      <td>NaN</td>\n",
       "      <td>NaN</td>\n",
       "      <td>NaN</td>\n",
       "      <td>...</td>\n",
       "      <td>NaN</td>\n",
       "      <td>NaN</td>\n",
       "      <td>NaN</td>\n",
       "      <td>NaN</td>\n",
       "      <td>NaN</td>\n",
       "      <td>NaN</td>\n",
       "      <td>NaN</td>\n",
       "      <td>NaN</td>\n",
       "      <td>NaN</td>\n",
       "      <td>NaN</td>\n",
       "      <td>NaN</td>\n",
       "      <td>NaN</td>\n",
       "      <td>NaN</td>\n",
       "      <td>NaN</td>\n",
       "      <td>NaN</td>\n",
       "      <td>NaN</td>\n",
       "      <td>NaN</td>\n",
       "      <td>NaN</td>\n",
       "      <td>NaN</td>\n",
       "      <td>NaN</td>\n",
       "      <td>NaN</td>\n",
       "      <td>NaN</td>\n",
       "      <td>NaN</td>\n",
       "      <td>NaN</td>\n",
       "      <td>NaN</td>\n",
       "      <td>NaN</td>\n",
       "      <td>NaN</td>\n",
       "      <td>NaN</td>\n",
       "      <td>NaN</td>\n",
       "      <td>NaN</td>\n",
       "      <td>NaN</td>\n",
       "      <td>NaN</td>\n",
       "      <td>NaN</td>\n",
       "      <td>NaN</td>\n",
       "      <td>NaN</td>\n",
       "      <td>NaN</td>\n",
       "      <td>NaN</td>\n",
       "      <td>NaN</td>\n",
       "      <td>NaN</td>\n",
       "      <td>NaN</td>\n",
       "      <td>NaN</td>\n",
       "      <td>NaN</td>\n",
       "      <td>NaN</td>\n",
       "      <td>NaN</td>\n",
       "      <td>NaN</td>\n",
       "      <td>NaN</td>\n",
       "      <td>NaN</td>\n",
       "      <td>NaN</td>\n",
       "      <td>NaN</td>\n",
       "      <td>NaN</td>\n",
       "    </tr>\n",
       "    <tr>\n",
       "      <th>2021-06-24</th>\n",
       "      <td>NaN</td>\n",
       "      <td>NaN</td>\n",
       "      <td>NaN</td>\n",
       "      <td>NaN</td>\n",
       "      <td>NaN</td>\n",
       "      <td>NaN</td>\n",
       "      <td>NaN</td>\n",
       "      <td>NaN</td>\n",
       "      <td>NaN</td>\n",
       "      <td>NaN</td>\n",
       "      <td>NaN</td>\n",
       "      <td>NaN</td>\n",
       "      <td>NaN</td>\n",
       "      <td>NaN</td>\n",
       "      <td>0.10</td>\n",
       "      <td>NaN</td>\n",
       "      <td>NaN</td>\n",
       "      <td>NaN</td>\n",
       "      <td>NaN</td>\n",
       "      <td>NaN</td>\n",
       "      <td>NaN</td>\n",
       "      <td>NaN</td>\n",
       "      <td>NaN</td>\n",
       "      <td>NaN</td>\n",
       "      <td>NaN</td>\n",
       "      <td>NaN</td>\n",
       "      <td>NaN</td>\n",
       "      <td>NaN</td>\n",
       "      <td>NaN</td>\n",
       "      <td>0.07</td>\n",
       "      <td>0.55</td>\n",
       "      <td>1.94</td>\n",
       "      <td>NaN</td>\n",
       "      <td>NaN</td>\n",
       "      <td>0.05</td>\n",
       "      <td>0.05</td>\n",
       "      <td>NaN</td>\n",
       "      <td>NaN</td>\n",
       "      <td>NaN</td>\n",
       "      <td>NaN</td>\n",
       "      <td>NaN</td>\n",
       "      <td>NaN</td>\n",
       "      <td>NaN</td>\n",
       "      <td>NaN</td>\n",
       "      <td>NaN</td>\n",
       "      <td>NaN</td>\n",
       "      <td>NaN</td>\n",
       "      <td>NaN</td>\n",
       "      <td>NaN</td>\n",
       "      <td>NaN</td>\n",
       "      <td>...</td>\n",
       "      <td>NaN</td>\n",
       "      <td>NaN</td>\n",
       "      <td>NaN</td>\n",
       "      <td>NaN</td>\n",
       "      <td>NaN</td>\n",
       "      <td>NaN</td>\n",
       "      <td>NaN</td>\n",
       "      <td>NaN</td>\n",
       "      <td>NaN</td>\n",
       "      <td>NaN</td>\n",
       "      <td>NaN</td>\n",
       "      <td>NaN</td>\n",
       "      <td>NaN</td>\n",
       "      <td>NaN</td>\n",
       "      <td>NaN</td>\n",
       "      <td>NaN</td>\n",
       "      <td>NaN</td>\n",
       "      <td>NaN</td>\n",
       "      <td>NaN</td>\n",
       "      <td>NaN</td>\n",
       "      <td>NaN</td>\n",
       "      <td>NaN</td>\n",
       "      <td>NaN</td>\n",
       "      <td>NaN</td>\n",
       "      <td>NaN</td>\n",
       "      <td>NaN</td>\n",
       "      <td>NaN</td>\n",
       "      <td>NaN</td>\n",
       "      <td>NaN</td>\n",
       "      <td>NaN</td>\n",
       "      <td>NaN</td>\n",
       "      <td>NaN</td>\n",
       "      <td>NaN</td>\n",
       "      <td>NaN</td>\n",
       "      <td>NaN</td>\n",
       "      <td>NaN</td>\n",
       "      <td>NaN</td>\n",
       "      <td>NaN</td>\n",
       "      <td>NaN</td>\n",
       "      <td>NaN</td>\n",
       "      <td>NaN</td>\n",
       "      <td>NaN</td>\n",
       "      <td>NaN</td>\n",
       "      <td>NaN</td>\n",
       "      <td>NaN</td>\n",
       "      <td>NaN</td>\n",
       "      <td>NaN</td>\n",
       "      <td>NaN</td>\n",
       "      <td>NaN</td>\n",
       "      <td>NaN</td>\n",
       "    </tr>\n",
       "    <tr>\n",
       "      <th>2021-06-25</th>\n",
       "      <td>NaN</td>\n",
       "      <td>NaN</td>\n",
       "      <td>NaN</td>\n",
       "      <td>NaN</td>\n",
       "      <td>NaN</td>\n",
       "      <td>NaN</td>\n",
       "      <td>NaN</td>\n",
       "      <td>NaN</td>\n",
       "      <td>NaN</td>\n",
       "      <td>NaN</td>\n",
       "      <td>NaN</td>\n",
       "      <td>NaN</td>\n",
       "      <td>NaN</td>\n",
       "      <td>NaN</td>\n",
       "      <td>0.05</td>\n",
       "      <td>NaN</td>\n",
       "      <td>NaN</td>\n",
       "      <td>NaN</td>\n",
       "      <td>NaN</td>\n",
       "      <td>NaN</td>\n",
       "      <td>NaN</td>\n",
       "      <td>NaN</td>\n",
       "      <td>NaN</td>\n",
       "      <td>NaN</td>\n",
       "      <td>NaN</td>\n",
       "      <td>NaN</td>\n",
       "      <td>NaN</td>\n",
       "      <td>NaN</td>\n",
       "      <td>NaN</td>\n",
       "      <td>0.15</td>\n",
       "      <td>0.55</td>\n",
       "      <td>1.94</td>\n",
       "      <td>NaN</td>\n",
       "      <td>NaN</td>\n",
       "      <td>0.05</td>\n",
       "      <td>0.05</td>\n",
       "      <td>NaN</td>\n",
       "      <td>NaN</td>\n",
       "      <td>NaN</td>\n",
       "      <td>NaN</td>\n",
       "      <td>NaN</td>\n",
       "      <td>NaN</td>\n",
       "      <td>NaN</td>\n",
       "      <td>NaN</td>\n",
       "      <td>NaN</td>\n",
       "      <td>NaN</td>\n",
       "      <td>NaN</td>\n",
       "      <td>NaN</td>\n",
       "      <td>NaN</td>\n",
       "      <td>NaN</td>\n",
       "      <td>...</td>\n",
       "      <td>NaN</td>\n",
       "      <td>NaN</td>\n",
       "      <td>NaN</td>\n",
       "      <td>NaN</td>\n",
       "      <td>NaN</td>\n",
       "      <td>NaN</td>\n",
       "      <td>NaN</td>\n",
       "      <td>NaN</td>\n",
       "      <td>NaN</td>\n",
       "      <td>NaN</td>\n",
       "      <td>NaN</td>\n",
       "      <td>NaN</td>\n",
       "      <td>NaN</td>\n",
       "      <td>NaN</td>\n",
       "      <td>NaN</td>\n",
       "      <td>NaN</td>\n",
       "      <td>NaN</td>\n",
       "      <td>NaN</td>\n",
       "      <td>NaN</td>\n",
       "      <td>NaN</td>\n",
       "      <td>NaN</td>\n",
       "      <td>NaN</td>\n",
       "      <td>NaN</td>\n",
       "      <td>NaN</td>\n",
       "      <td>NaN</td>\n",
       "      <td>NaN</td>\n",
       "      <td>NaN</td>\n",
       "      <td>NaN</td>\n",
       "      <td>NaN</td>\n",
       "      <td>NaN</td>\n",
       "      <td>NaN</td>\n",
       "      <td>NaN</td>\n",
       "      <td>NaN</td>\n",
       "      <td>NaN</td>\n",
       "      <td>NaN</td>\n",
       "      <td>NaN</td>\n",
       "      <td>NaN</td>\n",
       "      <td>NaN</td>\n",
       "      <td>NaN</td>\n",
       "      <td>NaN</td>\n",
       "      <td>NaN</td>\n",
       "      <td>NaN</td>\n",
       "      <td>NaN</td>\n",
       "      <td>NaN</td>\n",
       "      <td>NaN</td>\n",
       "      <td>NaN</td>\n",
       "      <td>NaN</td>\n",
       "      <td>NaN</td>\n",
       "      <td>NaN</td>\n",
       "      <td>NaN</td>\n",
       "    </tr>\n",
       "    <tr>\n",
       "      <th>2021-06-28</th>\n",
       "      <td>NaN</td>\n",
       "      <td>NaN</td>\n",
       "      <td>NaN</td>\n",
       "      <td>NaN</td>\n",
       "      <td>NaN</td>\n",
       "      <td>NaN</td>\n",
       "      <td>NaN</td>\n",
       "      <td>NaN</td>\n",
       "      <td>NaN</td>\n",
       "      <td>NaN</td>\n",
       "      <td>NaN</td>\n",
       "      <td>NaN</td>\n",
       "      <td>NaN</td>\n",
       "      <td>NaN</td>\n",
       "      <td>0.05</td>\n",
       "      <td>NaN</td>\n",
       "      <td>NaN</td>\n",
       "      <td>NaN</td>\n",
       "      <td>NaN</td>\n",
       "      <td>NaN</td>\n",
       "      <td>NaN</td>\n",
       "      <td>NaN</td>\n",
       "      <td>NaN</td>\n",
       "      <td>NaN</td>\n",
       "      <td>NaN</td>\n",
       "      <td>NaN</td>\n",
       "      <td>NaN</td>\n",
       "      <td>NaN</td>\n",
       "      <td>NaN</td>\n",
       "      <td>0.15</td>\n",
       "      <td>0.55</td>\n",
       "      <td>2.10</td>\n",
       "      <td>NaN</td>\n",
       "      <td>NaN</td>\n",
       "      <td>0.05</td>\n",
       "      <td>0.05</td>\n",
       "      <td>NaN</td>\n",
       "      <td>NaN</td>\n",
       "      <td>NaN</td>\n",
       "      <td>NaN</td>\n",
       "      <td>NaN</td>\n",
       "      <td>NaN</td>\n",
       "      <td>NaN</td>\n",
       "      <td>NaN</td>\n",
       "      <td>NaN</td>\n",
       "      <td>NaN</td>\n",
       "      <td>NaN</td>\n",
       "      <td>NaN</td>\n",
       "      <td>NaN</td>\n",
       "      <td>NaN</td>\n",
       "      <td>...</td>\n",
       "      <td>NaN</td>\n",
       "      <td>NaN</td>\n",
       "      <td>NaN</td>\n",
       "      <td>NaN</td>\n",
       "      <td>NaN</td>\n",
       "      <td>NaN</td>\n",
       "      <td>NaN</td>\n",
       "      <td>NaN</td>\n",
       "      <td>NaN</td>\n",
       "      <td>NaN</td>\n",
       "      <td>NaN</td>\n",
       "      <td>NaN</td>\n",
       "      <td>NaN</td>\n",
       "      <td>NaN</td>\n",
       "      <td>NaN</td>\n",
       "      <td>NaN</td>\n",
       "      <td>NaN</td>\n",
       "      <td>NaN</td>\n",
       "      <td>NaN</td>\n",
       "      <td>NaN</td>\n",
       "      <td>NaN</td>\n",
       "      <td>NaN</td>\n",
       "      <td>NaN</td>\n",
       "      <td>NaN</td>\n",
       "      <td>NaN</td>\n",
       "      <td>NaN</td>\n",
       "      <td>NaN</td>\n",
       "      <td>NaN</td>\n",
       "      <td>NaN</td>\n",
       "      <td>NaN</td>\n",
       "      <td>NaN</td>\n",
       "      <td>NaN</td>\n",
       "      <td>NaN</td>\n",
       "      <td>NaN</td>\n",
       "      <td>NaN</td>\n",
       "      <td>NaN</td>\n",
       "      <td>NaN</td>\n",
       "      <td>NaN</td>\n",
       "      <td>NaN</td>\n",
       "      <td>NaN</td>\n",
       "      <td>NaN</td>\n",
       "      <td>NaN</td>\n",
       "      <td>NaN</td>\n",
       "      <td>NaN</td>\n",
       "      <td>NaN</td>\n",
       "      <td>NaN</td>\n",
       "      <td>NaN</td>\n",
       "      <td>NaN</td>\n",
       "      <td>NaN</td>\n",
       "      <td>NaN</td>\n",
       "    </tr>\n",
       "    <tr>\n",
       "      <th>2021-06-29</th>\n",
       "      <td>NaN</td>\n",
       "      <td>NaN</td>\n",
       "      <td>NaN</td>\n",
       "      <td>NaN</td>\n",
       "      <td>NaN</td>\n",
       "      <td>NaN</td>\n",
       "      <td>NaN</td>\n",
       "      <td>NaN</td>\n",
       "      <td>NaN</td>\n",
       "      <td>NaN</td>\n",
       "      <td>NaN</td>\n",
       "      <td>NaN</td>\n",
       "      <td>NaN</td>\n",
       "      <td>NaN</td>\n",
       "      <td>0.05</td>\n",
       "      <td>NaN</td>\n",
       "      <td>NaN</td>\n",
       "      <td>NaN</td>\n",
       "      <td>NaN</td>\n",
       "      <td>NaN</td>\n",
       "      <td>NaN</td>\n",
       "      <td>NaN</td>\n",
       "      <td>NaN</td>\n",
       "      <td>NaN</td>\n",
       "      <td>NaN</td>\n",
       "      <td>NaN</td>\n",
       "      <td>NaN</td>\n",
       "      <td>NaN</td>\n",
       "      <td>NaN</td>\n",
       "      <td>0.15</td>\n",
       "      <td>0.55</td>\n",
       "      <td>2.10</td>\n",
       "      <td>NaN</td>\n",
       "      <td>NaN</td>\n",
       "      <td>0.05</td>\n",
       "      <td>0.09</td>\n",
       "      <td>NaN</td>\n",
       "      <td>NaN</td>\n",
       "      <td>NaN</td>\n",
       "      <td>NaN</td>\n",
       "      <td>NaN</td>\n",
       "      <td>NaN</td>\n",
       "      <td>NaN</td>\n",
       "      <td>NaN</td>\n",
       "      <td>NaN</td>\n",
       "      <td>NaN</td>\n",
       "      <td>NaN</td>\n",
       "      <td>NaN</td>\n",
       "      <td>NaN</td>\n",
       "      <td>NaN</td>\n",
       "      <td>...</td>\n",
       "      <td>NaN</td>\n",
       "      <td>NaN</td>\n",
       "      <td>NaN</td>\n",
       "      <td>NaN</td>\n",
       "      <td>NaN</td>\n",
       "      <td>NaN</td>\n",
       "      <td>NaN</td>\n",
       "      <td>NaN</td>\n",
       "      <td>NaN</td>\n",
       "      <td>NaN</td>\n",
       "      <td>NaN</td>\n",
       "      <td>NaN</td>\n",
       "      <td>NaN</td>\n",
       "      <td>NaN</td>\n",
       "      <td>NaN</td>\n",
       "      <td>NaN</td>\n",
       "      <td>NaN</td>\n",
       "      <td>NaN</td>\n",
       "      <td>NaN</td>\n",
       "      <td>NaN</td>\n",
       "      <td>NaN</td>\n",
       "      <td>NaN</td>\n",
       "      <td>NaN</td>\n",
       "      <td>NaN</td>\n",
       "      <td>NaN</td>\n",
       "      <td>NaN</td>\n",
       "      <td>NaN</td>\n",
       "      <td>NaN</td>\n",
       "      <td>NaN</td>\n",
       "      <td>NaN</td>\n",
       "      <td>NaN</td>\n",
       "      <td>NaN</td>\n",
       "      <td>NaN</td>\n",
       "      <td>NaN</td>\n",
       "      <td>NaN</td>\n",
       "      <td>NaN</td>\n",
       "      <td>NaN</td>\n",
       "      <td>NaN</td>\n",
       "      <td>NaN</td>\n",
       "      <td>NaN</td>\n",
       "      <td>NaN</td>\n",
       "      <td>NaN</td>\n",
       "      <td>NaN</td>\n",
       "      <td>NaN</td>\n",
       "      <td>NaN</td>\n",
       "      <td>NaN</td>\n",
       "      <td>NaN</td>\n",
       "      <td>NaN</td>\n",
       "      <td>NaN</td>\n",
       "      <td>NaN</td>\n",
       "    </tr>\n",
       "  </tbody>\n",
       "</table>\n",
       "<p>104 rows × 4825 columns</p>\n",
       "</div>"
      ],
      "text/plain": [
       "oc_hx_contract_symbol  AHC1210618C00005000  AHC210219C00002500  \\\n",
       "oc_hx_date                                                       \n",
       "2021-02-01                             NaN                0.30   \n",
       "2021-02-02                             NaN                0.33   \n",
       "2021-02-03                             NaN                0.45   \n",
       "2021-02-04                             NaN                0.38   \n",
       "2021-02-05                             NaN                0.38   \n",
       "...                                    ...                 ...   \n",
       "2021-06-23                             NaN                 NaN   \n",
       "2021-06-24                             NaN                 NaN   \n",
       "2021-06-25                             NaN                 NaN   \n",
       "2021-06-28                             NaN                 NaN   \n",
       "2021-06-29                             NaN                 NaN   \n",
       "\n",
       "oc_hx_contract_symbol  AHC210319C00002500  AHC210416C00002500  \\\n",
       "oc_hx_date                                                      \n",
       "2021-02-01                            NaN                 NaN   \n",
       "2021-02-02                           0.46                 NaN   \n",
       "2021-02-03                           0.75                 NaN   \n",
       "2021-02-04                           0.55                 NaN   \n",
       "2021-02-05                           0.52                 NaN   \n",
       "...                                   ...                 ...   \n",
       "2021-06-23                            NaN                 NaN   \n",
       "2021-06-24                            NaN                 NaN   \n",
       "2021-06-25                            NaN                 NaN   \n",
       "2021-06-28                            NaN                 NaN   \n",
       "2021-06-29                            NaN                 NaN   \n",
       "\n",
       "oc_hx_contract_symbol  AHC210521C00002500  ARAY210219C00006000  \\\n",
       "oc_hx_date                                                       \n",
       "2021-02-01                           0.65                 0.05   \n",
       "2021-02-02                           0.65                 0.05   \n",
       "2021-02-03                           0.75                 0.10   \n",
       "2021-02-04                           0.70                 0.10   \n",
       "2021-02-05                           0.70                 0.10   \n",
       "...                                   ...                  ...   \n",
       "2021-06-23                            NaN                  NaN   \n",
       "2021-06-24                            NaN                  NaN   \n",
       "2021-06-25                            NaN                  NaN   \n",
       "2021-06-28                            NaN                  NaN   \n",
       "2021-06-29                            NaN                  NaN   \n",
       "\n",
       "oc_hx_contract_symbol  ARAY210319C00006000  ARAY210319P00005000  \\\n",
       "oc_hx_date                                                        \n",
       "2021-02-01                             NaN                 0.50   \n",
       "2021-02-02                            0.20                 0.48   \n",
       "2021-02-03                            0.25                 0.40   \n",
       "2021-02-04                            0.21                 0.35   \n",
       "2021-02-05                            0.25                 0.35   \n",
       "...                                    ...                  ...   \n",
       "2021-06-23                             NaN                  NaN   \n",
       "2021-06-24                             NaN                  NaN   \n",
       "2021-06-25                             NaN                  NaN   \n",
       "2021-06-28                             NaN                  NaN   \n",
       "2021-06-29                             NaN                  NaN   \n",
       "\n",
       "oc_hx_contract_symbol  ARAY210416C00006000  ARAY210416P00004000  \\\n",
       "oc_hx_date                                                        \n",
       "2021-02-01                             NaN                  NaN   \n",
       "2021-02-02                             NaN                  NaN   \n",
       "2021-02-03                             NaN                  NaN   \n",
       "2021-02-04                             NaN                  NaN   \n",
       "2021-02-05                             NaN                  NaN   \n",
       "...                                    ...                  ...   \n",
       "2021-06-23                             NaN                  NaN   \n",
       "2021-06-24                             NaN                  NaN   \n",
       "2021-06-25                             NaN                  NaN   \n",
       "2021-06-28                             NaN                  NaN   \n",
       "2021-06-29                             NaN                  NaN   \n",
       "\n",
       "oc_hx_contract_symbol  ARAY210416P00005000  ARAY210521C00005000  \\\n",
       "oc_hx_date                                                        \n",
       "2021-02-01                             NaN                  NaN   \n",
       "2021-02-02                             NaN                  NaN   \n",
       "2021-02-03                             NaN                  NaN   \n",
       "2021-02-04                             NaN                  NaN   \n",
       "2021-02-05                             NaN                  NaN   \n",
       "...                                    ...                  ...   \n",
       "2021-06-23                             NaN                  NaN   \n",
       "2021-06-24                             NaN                  NaN   \n",
       "2021-06-25                             NaN                  NaN   \n",
       "2021-06-28                             NaN                  NaN   \n",
       "2021-06-29                             NaN                  NaN   \n",
       "\n",
       "oc_hx_contract_symbol  ARAY210521P00005000  ARAY210618C00005000  \\\n",
       "oc_hx_date                                                        \n",
       "2021-02-01                             NaN                 0.85   \n",
       "2021-02-02                             NaN                 0.80   \n",
       "2021-02-03                             NaN                 1.05   \n",
       "2021-02-04                             NaN                 0.90   \n",
       "2021-02-05                             NaN                 1.04   \n",
       "...                                    ...                  ...   \n",
       "2021-06-23                             NaN                  NaN   \n",
       "2021-06-24                             NaN                  NaN   \n",
       "2021-06-25                             NaN                  NaN   \n",
       "2021-06-28                             NaN                  NaN   \n",
       "2021-06-29                             NaN                  NaN   \n",
       "\n",
       "oc_hx_contract_symbol  ARAY210716C00005000  ARW210319C00115000  \\\n",
       "oc_hx_date                                                       \n",
       "2021-02-01                             NaN                 NaN   \n",
       "2021-02-02                             NaN                 NaN   \n",
       "2021-02-03                             NaN                 NaN   \n",
       "2021-02-04                             NaN                 NaN   \n",
       "2021-02-05                             NaN                 NaN   \n",
       "...                                    ...                 ...   \n",
       "2021-06-23                            0.10                 NaN   \n",
       "2021-06-24                            0.10                 NaN   \n",
       "2021-06-25                            0.05                 NaN   \n",
       "2021-06-28                            0.05                 NaN   \n",
       "2021-06-29                            0.05                 NaN   \n",
       "\n",
       "oc_hx_contract_symbol  ARW210319P00090000  ARW210319P00095000  \\\n",
       "oc_hx_date                                                      \n",
       "2021-02-01                            NaN                 NaN   \n",
       "2021-02-02                            NaN                 NaN   \n",
       "2021-02-03                            NaN                2.88   \n",
       "2021-02-04                            NaN                1.30   \n",
       "2021-02-05                            NaN                1.30   \n",
       "...                                   ...                 ...   \n",
       "2021-06-23                            NaN                 NaN   \n",
       "2021-06-24                            NaN                 NaN   \n",
       "2021-06-25                            NaN                 NaN   \n",
       "2021-06-28                            NaN                 NaN   \n",
       "2021-06-29                            NaN                 NaN   \n",
       "\n",
       "oc_hx_contract_symbol  ARW210521C00115000  ARW210521C00125000  \\\n",
       "oc_hx_date                                                      \n",
       "2021-02-01                            NaN                 NaN   \n",
       "2021-02-02                            NaN                 NaN   \n",
       "2021-02-03                            NaN                 NaN   \n",
       "2021-02-04                            NaN                 NaN   \n",
       "2021-02-05                            NaN                 NaN   \n",
       "...                                   ...                 ...   \n",
       "2021-06-23                            NaN                 NaN   \n",
       "2021-06-24                            NaN                 NaN   \n",
       "2021-06-25                            NaN                 NaN   \n",
       "2021-06-28                            NaN                 NaN   \n",
       "2021-06-29                            NaN                 NaN   \n",
       "\n",
       "oc_hx_contract_symbol  ARW210521P00115000  ARW210618C00125000  \\\n",
       "oc_hx_date                                                      \n",
       "2021-02-01                            NaN                 NaN   \n",
       "2021-02-02                            NaN                 NaN   \n",
       "2021-02-03                            NaN                 NaN   \n",
       "2021-02-04                            NaN                 NaN   \n",
       "2021-02-05                            NaN                 NaN   \n",
       "...                                   ...                 ...   \n",
       "2021-06-23                            NaN                 NaN   \n",
       "2021-06-24                            NaN                 NaN   \n",
       "2021-06-25                            NaN                 NaN   \n",
       "2021-06-28                            NaN                 NaN   \n",
       "2021-06-29                            NaN                 NaN   \n",
       "\n",
       "oc_hx_contract_symbol  ARW210618P00115000  AXS210319C00055000  \\\n",
       "oc_hx_date                                                      \n",
       "2021-02-01                            NaN                 NaN   \n",
       "2021-02-02                            NaN                0.45   \n",
       "2021-02-03                            NaN                0.32   \n",
       "2021-02-04                            NaN                0.43   \n",
       "2021-02-05                            NaN                0.45   \n",
       "...                                   ...                 ...   \n",
       "2021-06-23                            NaN                 NaN   \n",
       "2021-06-24                            NaN                 NaN   \n",
       "2021-06-25                            NaN                 NaN   \n",
       "2021-06-28                            NaN                 NaN   \n",
       "2021-06-29                            NaN                 NaN   \n",
       "\n",
       "oc_hx_contract_symbol  AXS210416C00055000  AXS210521C00055000  \\\n",
       "oc_hx_date                                                      \n",
       "2021-02-01                            NaN                 NaN   \n",
       "2021-02-02                            NaN                 NaN   \n",
       "2021-02-03                            NaN                 NaN   \n",
       "2021-02-04                            NaN                 NaN   \n",
       "2021-02-05                            NaN                 NaN   \n",
       "...                                   ...                 ...   \n",
       "2021-06-23                            NaN                 NaN   \n",
       "2021-06-24                            NaN                 NaN   \n",
       "2021-06-25                            NaN                 NaN   \n",
       "2021-06-28                            NaN                 NaN   \n",
       "2021-06-29                            NaN                 NaN   \n",
       "\n",
       "oc_hx_contract_symbol  AXS210521C00060000  AXS210521P00050000  \\\n",
       "oc_hx_date                                                      \n",
       "2021-02-01                            NaN                 NaN   \n",
       "2021-02-02                            NaN                 NaN   \n",
       "2021-02-03                            NaN                 NaN   \n",
       "2021-02-04                            NaN                 NaN   \n",
       "2021-02-05                            NaN                 NaN   \n",
       "...                                   ...                 ...   \n",
       "2021-06-23                            NaN                 NaN   \n",
       "2021-06-24                            NaN                 NaN   \n",
       "2021-06-25                            NaN                 NaN   \n",
       "2021-06-28                            NaN                 NaN   \n",
       "2021-06-29                            NaN                 NaN   \n",
       "\n",
       "oc_hx_contract_symbol  AXS210618C00055000  AXS210716C00055000  \\\n",
       "oc_hx_date                                                      \n",
       "2021-02-01                           1.04                 NaN   \n",
       "2021-02-02                           1.00                 NaN   \n",
       "2021-02-03                           1.00                 NaN   \n",
       "2021-02-04                           1.00                 NaN   \n",
       "2021-02-05                           1.90                 NaN   \n",
       "...                                   ...                 ...   \n",
       "2021-06-23                            NaN                0.07   \n",
       "2021-06-24                            NaN                0.07   \n",
       "2021-06-25                            NaN                0.15   \n",
       "2021-06-28                            NaN                0.15   \n",
       "2021-06-29                            NaN                0.15   \n",
       "\n",
       "oc_hx_contract_symbol  AXS210820P00045000  AXS210820P00050000  \\\n",
       "oc_hx_date                                                      \n",
       "2021-02-01                            NaN                 NaN   \n",
       "2021-02-02                            NaN                 NaN   \n",
       "2021-02-03                            NaN                 NaN   \n",
       "2021-02-04                            NaN                 NaN   \n",
       "2021-02-05                            NaN                 NaN   \n",
       "...                                   ...                 ...   \n",
       "2021-06-23                           0.70                2.80   \n",
       "2021-06-24                           0.55                1.94   \n",
       "2021-06-25                           0.55                1.94   \n",
       "2021-06-28                           0.55                2.10   \n",
       "2021-06-29                           0.55                2.10   \n",
       "\n",
       "oc_hx_contract_symbol  BBAR210319C00003000  BBAR210416C00005000  \\\n",
       "oc_hx_date                                                        \n",
       "2021-02-01                            0.15                  NaN   \n",
       "2021-02-02                            0.25                 0.05   \n",
       "2021-02-03                            0.25                 0.05   \n",
       "2021-02-04                            0.25                 0.05   \n",
       "2021-02-05                            0.25                 0.05   \n",
       "...                                    ...                  ...   \n",
       "2021-06-23                             NaN                  NaN   \n",
       "2021-06-24                             NaN                  NaN   \n",
       "2021-06-25                             NaN                  NaN   \n",
       "2021-06-28                             NaN                  NaN   \n",
       "2021-06-29                             NaN                  NaN   \n",
       "\n",
       "oc_hx_contract_symbol  BBAR210716C00005000  BBAR210716P00003000  \\\n",
       "oc_hx_date                                                        \n",
       "2021-02-01                            0.15                  NaN   \n",
       "2021-02-02                            0.12                 0.75   \n",
       "2021-02-03                            0.05                 0.67   \n",
       "2021-02-04                            0.05                 0.67   \n",
       "2021-02-05                            0.10                 0.50   \n",
       "...                                    ...                  ...   \n",
       "2021-06-23                            0.05                 0.05   \n",
       "2021-06-24                            0.05                 0.05   \n",
       "2021-06-25                            0.05                 0.05   \n",
       "2021-06-28                            0.05                 0.05   \n",
       "2021-06-29                            0.05                 0.09   \n",
       "\n",
       "oc_hx_contract_symbol  BBDC210319P00010000  BBDC210416C00010000  \\\n",
       "oc_hx_date                                                        \n",
       "2021-02-01                             NaN                  NaN   \n",
       "2021-02-02                             NaN                  NaN   \n",
       "2021-02-03                             NaN                  NaN   \n",
       "2021-02-04                             NaN                  NaN   \n",
       "2021-02-05                             NaN                  NaN   \n",
       "...                                    ...                  ...   \n",
       "2021-06-23                             NaN                  NaN   \n",
       "2021-06-24                             NaN                  NaN   \n",
       "2021-06-25                             NaN                  NaN   \n",
       "2021-06-28                             NaN                  NaN   \n",
       "2021-06-29                             NaN                  NaN   \n",
       "\n",
       "oc_hx_contract_symbol  BGFV210219C00015000  BGFV210219C00017500  \\\n",
       "oc_hx_date                                                        \n",
       "2021-02-01                            1.01                 0.45   \n",
       "2021-02-02                            0.90                 0.33   \n",
       "2021-02-03                            0.80                 0.34   \n",
       "2021-02-04                            1.04                 0.32   \n",
       "2021-02-05                            1.24                 0.45   \n",
       "...                                    ...                  ...   \n",
       "2021-06-23                             NaN                  NaN   \n",
       "2021-06-24                             NaN                  NaN   \n",
       "2021-06-25                             NaN                  NaN   \n",
       "2021-06-28                             NaN                  NaN   \n",
       "2021-06-29                             NaN                  NaN   \n",
       "\n",
       "oc_hx_contract_symbol  BGFV210219C00020000  BGFV210219C00022500  \\\n",
       "oc_hx_date                                                        \n",
       "2021-02-01                            0.30                 0.16   \n",
       "2021-02-02                            0.15                 0.10   \n",
       "2021-02-03                            0.16                 0.11   \n",
       "2021-02-04                            0.10                 0.10   \n",
       "2021-02-05                            0.15                 0.10   \n",
       "...                                    ...                  ...   \n",
       "2021-06-23                             NaN                  NaN   \n",
       "2021-06-24                             NaN                  NaN   \n",
       "2021-06-25                             NaN                  NaN   \n",
       "2021-06-28                             NaN                  NaN   \n",
       "2021-06-29                             NaN                  NaN   \n",
       "\n",
       "oc_hx_contract_symbol  BGFV210219P00012500  BGFV210319C00015000  \\\n",
       "oc_hx_date                                                        \n",
       "2021-02-01                            0.60                 2.17   \n",
       "2021-02-02                            0.57                 1.99   \n",
       "2021-02-03                            0.45                 2.00   \n",
       "2021-02-04                            0.35                 2.29   \n",
       "2021-02-05                            0.20                 2.55   \n",
       "...                                    ...                  ...   \n",
       "2021-06-23                             NaN                  NaN   \n",
       "2021-06-24                             NaN                  NaN   \n",
       "2021-06-25                             NaN                  NaN   \n",
       "2021-06-28                             NaN                  NaN   \n",
       "2021-06-29                             NaN                  NaN   \n",
       "\n",
       "oc_hx_contract_symbol  BGFV210319C00017500  BGFV210319C00020000  \\\n",
       "oc_hx_date                                                        \n",
       "2021-02-01                            1.39                 0.95   \n",
       "2021-02-02                            1.45                 0.85   \n",
       "2021-02-03                            1.30                 0.85   \n",
       "2021-02-04                            1.45                 0.85   \n",
       "2021-02-05                            1.55                 0.98   \n",
       "...                                    ...                  ...   \n",
       "2021-06-23                             NaN                  NaN   \n",
       "2021-06-24                             NaN                  NaN   \n",
       "2021-06-25                             NaN                  NaN   \n",
       "2021-06-28                             NaN                  NaN   \n",
       "2021-06-29                             NaN                  NaN   \n",
       "\n",
       "oc_hx_contract_symbol  BGFV210319P00012500  BGFV210319P00015000  \\\n",
       "oc_hx_date                                                        \n",
       "2021-02-01                            1.40                  NaN   \n",
       "2021-02-02                            1.53                  NaN   \n",
       "2021-02-03                            1.40                  NaN   \n",
       "2021-02-04                            1.30                 2.50   \n",
       "2021-02-05                            1.10                 2.28   \n",
       "...                                    ...                  ...   \n",
       "2021-06-23                             NaN                  NaN   \n",
       "2021-06-24                             NaN                  NaN   \n",
       "2021-06-25                             NaN                  NaN   \n",
       "2021-06-28                             NaN                  NaN   \n",
       "2021-06-29                             NaN                  NaN   \n",
       "\n",
       "oc_hx_contract_symbol  BGFV210416C00015000  BGFV210416C00017500  ...  \\\n",
       "oc_hx_date                                                       ...   \n",
       "2021-02-01                            2.50                 1.81  ...   \n",
       "2021-02-02                            2.35                 1.60  ...   \n",
       "2021-02-03                            2.35                 1.57  ...   \n",
       "2021-02-04                            2.70                 1.80  ...   \n",
       "2021-02-05                            2.91                 1.95  ...   \n",
       "...                                    ...                  ...  ...   \n",
       "2021-06-23                             NaN                  NaN  ...   \n",
       "2021-06-24                             NaN                  NaN  ...   \n",
       "2021-06-25                             NaN                  NaN  ...   \n",
       "2021-06-28                             NaN                  NaN  ...   \n",
       "2021-06-29                             NaN                  NaN  ...   \n",
       "\n",
       "oc_hx_contract_symbol  ZTO210319P00035000  ZTO210319P00036000  \\\n",
       "oc_hx_date                                                      \n",
       "2021-02-01                            NaN                 NaN   \n",
       "2021-02-02                            NaN                 NaN   \n",
       "2021-02-03                            NaN                 NaN   \n",
       "2021-02-04                            NaN                 NaN   \n",
       "2021-02-05                            NaN                 NaN   \n",
       "...                                   ...                 ...   \n",
       "2021-06-23                            NaN                 NaN   \n",
       "2021-06-24                            NaN                 NaN   \n",
       "2021-06-25                            NaN                 NaN   \n",
       "2021-06-28                            NaN                 NaN   \n",
       "2021-06-29                            NaN                 NaN   \n",
       "\n",
       "oc_hx_contract_symbol  ZTO210319P00037000  ZTO210416C00028000  \\\n",
       "oc_hx_date                                                      \n",
       "2021-02-01                            NaN                 7.0   \n",
       "2021-02-02                            NaN                 7.0   \n",
       "2021-02-03                            NaN                 7.0   \n",
       "2021-02-04                            NaN                 7.0   \n",
       "2021-02-05                            NaN                 7.0   \n",
       "...                                   ...                 ...   \n",
       "2021-06-23                            NaN                 NaN   \n",
       "2021-06-24                            NaN                 NaN   \n",
       "2021-06-25                            NaN                 NaN   \n",
       "2021-06-28                            NaN                 NaN   \n",
       "2021-06-29                            NaN                 NaN   \n",
       "\n",
       "oc_hx_contract_symbol  ZTO210416C00029000  ZTO210416C00030000  \\\n",
       "oc_hx_date                                                      \n",
       "2021-02-01                            NaN                 NaN   \n",
       "2021-02-02                            7.0                6.30   \n",
       "2021-02-03                            1.5                6.52   \n",
       "2021-02-04                            1.5                6.52   \n",
       "2021-02-05                            1.5                6.52   \n",
       "...                                   ...                 ...   \n",
       "2021-06-23                            NaN                 NaN   \n",
       "2021-06-24                            NaN                 NaN   \n",
       "2021-06-25                            NaN                 NaN   \n",
       "2021-06-28                            NaN                 NaN   \n",
       "2021-06-29                            NaN                 NaN   \n",
       "\n",
       "oc_hx_contract_symbol  ZTO210416C00031000  ZTO210416C00032000  \\\n",
       "oc_hx_date                                                      \n",
       "2021-02-01                            NaN                 NaN   \n",
       "2021-02-02                            NaN                4.37   \n",
       "2021-02-03                            NaN                3.98   \n",
       "2021-02-04                            NaN                3.98   \n",
       "2021-02-05                            NaN                3.98   \n",
       "...                                   ...                 ...   \n",
       "2021-06-23                            NaN                 NaN   \n",
       "2021-06-24                            NaN                 NaN   \n",
       "2021-06-25                            NaN                 NaN   \n",
       "2021-06-28                            NaN                 NaN   \n",
       "2021-06-29                            NaN                 NaN   \n",
       "\n",
       "oc_hx_contract_symbol  ZTO210416C00033000  ZTO210416C00035000  \\\n",
       "oc_hx_date                                                      \n",
       "2021-02-01                           3.50                2.60   \n",
       "2021-02-02                           4.00                3.05   \n",
       "2021-02-03                           4.40                3.26   \n",
       "2021-02-04                           3.38                2.50   \n",
       "2021-02-05                           3.38                2.50   \n",
       "...                                   ...                 ...   \n",
       "2021-06-23                            NaN                 NaN   \n",
       "2021-06-24                            NaN                 NaN   \n",
       "2021-06-25                            NaN                 NaN   \n",
       "2021-06-28                            NaN                 NaN   \n",
       "2021-06-29                            NaN                 NaN   \n",
       "\n",
       "oc_hx_contract_symbol  ZTO210416C00037000  ZTO210416C00039000  \\\n",
       "oc_hx_date                                                      \n",
       "2021-02-01                            NaN                 NaN   \n",
       "2021-02-02                            NaN                1.55   \n",
       "2021-02-03                            NaN                1.55   \n",
       "2021-02-04                            NaN                1.55   \n",
       "2021-02-05                            NaN                1.55   \n",
       "...                                   ...                 ...   \n",
       "2021-06-23                            NaN                 NaN   \n",
       "2021-06-24                            NaN                 NaN   \n",
       "2021-06-25                            NaN                 NaN   \n",
       "2021-06-28                            NaN                 NaN   \n",
       "2021-06-29                            NaN                 NaN   \n",
       "\n",
       "oc_hx_contract_symbol  ZTO210416C00040000  ZTO210416C00045000  \\\n",
       "oc_hx_date                                                      \n",
       "2021-02-01                           1.06                 NaN   \n",
       "2021-02-02                           1.10                 NaN   \n",
       "2021-02-03                           0.94                 NaN   \n",
       "2021-02-04                           0.94                 0.4   \n",
       "2021-02-05                           0.94                 0.4   \n",
       "...                                   ...                 ...   \n",
       "2021-06-23                            NaN                 NaN   \n",
       "2021-06-24                            NaN                 NaN   \n",
       "2021-06-25                            NaN                 NaN   \n",
       "2021-06-28                            NaN                 NaN   \n",
       "2021-06-29                            NaN                 NaN   \n",
       "\n",
       "oc_hx_contract_symbol  ZTO210416P00024000  ZTO210416P00025000  \\\n",
       "oc_hx_date                                                      \n",
       "2021-02-01                            NaN                 NaN   \n",
       "2021-02-02                            NaN                 NaN   \n",
       "2021-02-03                           0.17                 NaN   \n",
       "2021-02-04                           0.17                 NaN   \n",
       "2021-02-05                           0.17                 NaN   \n",
       "...                                   ...                 ...   \n",
       "2021-06-23                            NaN                 NaN   \n",
       "2021-06-24                            NaN                 NaN   \n",
       "2021-06-25                            NaN                 NaN   \n",
       "2021-06-28                            NaN                 NaN   \n",
       "2021-06-29                            NaN                 NaN   \n",
       "\n",
       "oc_hx_contract_symbol  ZTO210416P00026000  ZTO210416P00027000  \\\n",
       "oc_hx_date                                                      \n",
       "2021-02-01                            NaN                 NaN   \n",
       "2021-02-02                            NaN                 NaN   \n",
       "2021-02-03                            NaN                0.32   \n",
       "2021-02-04                            NaN                0.25   \n",
       "2021-02-05                            NaN                0.25   \n",
       "...                                   ...                 ...   \n",
       "2021-06-23                            NaN                 NaN   \n",
       "2021-06-24                            NaN                 NaN   \n",
       "2021-06-25                            NaN                 NaN   \n",
       "2021-06-28                            NaN                 NaN   \n",
       "2021-06-29                            NaN                 NaN   \n",
       "\n",
       "oc_hx_contract_symbol  ZTO210416P00031000  ZTO210416P00033000  \\\n",
       "oc_hx_date                                                      \n",
       "2021-02-01                            NaN                2.23   \n",
       "2021-02-02                            NaN                1.13   \n",
       "2021-02-03                            NaN                1.13   \n",
       "2021-02-04                            NaN                1.13   \n",
       "2021-02-05                            NaN                1.13   \n",
       "...                                   ...                 ...   \n",
       "2021-06-23                            NaN                 NaN   \n",
       "2021-06-24                            NaN                 NaN   \n",
       "2021-06-25                            NaN                 NaN   \n",
       "2021-06-28                            NaN                 NaN   \n",
       "2021-06-29                            NaN                 NaN   \n",
       "\n",
       "oc_hx_contract_symbol  ZTO210416P00034000  ZTO210416P00036000  \\\n",
       "oc_hx_date                                                      \n",
       "2021-02-01                            NaN                 NaN   \n",
       "2021-02-02                            NaN                 NaN   \n",
       "2021-02-03                            NaN                 NaN   \n",
       "2021-02-04                            NaN                 NaN   \n",
       "2021-02-05                            NaN                 NaN   \n",
       "...                                   ...                 ...   \n",
       "2021-06-23                            NaN                 NaN   \n",
       "2021-06-24                            NaN                 NaN   \n",
       "2021-06-25                            NaN                 NaN   \n",
       "2021-06-28                            NaN                 NaN   \n",
       "2021-06-29                            NaN                 NaN   \n",
       "\n",
       "oc_hx_contract_symbol  ZTO210416P00037000  ZTO210521C00028000  \\\n",
       "oc_hx_date                                                      \n",
       "2021-02-01                            NaN                 NaN   \n",
       "2021-02-02                            NaN                 NaN   \n",
       "2021-02-03                            NaN                 NaN   \n",
       "2021-02-04                            NaN                 NaN   \n",
       "2021-02-05                            NaN                 NaN   \n",
       "...                                   ...                 ...   \n",
       "2021-06-23                            NaN                 NaN   \n",
       "2021-06-24                            NaN                 NaN   \n",
       "2021-06-25                            NaN                 NaN   \n",
       "2021-06-28                            NaN                 NaN   \n",
       "2021-06-29                            NaN                 NaN   \n",
       "\n",
       "oc_hx_contract_symbol  ZTO210521C00029760  ZTO210521C00030000  \\\n",
       "oc_hx_date                                                      \n",
       "2021-02-01                            NaN                 NaN   \n",
       "2021-02-02                            NaN                 NaN   \n",
       "2021-02-03                            NaN                 NaN   \n",
       "2021-02-04                            NaN                 NaN   \n",
       "2021-02-05                            NaN                 NaN   \n",
       "...                                   ...                 ...   \n",
       "2021-06-23                            NaN                 NaN   \n",
       "2021-06-24                            NaN                 NaN   \n",
       "2021-06-25                            NaN                 NaN   \n",
       "2021-06-28                            NaN                 NaN   \n",
       "2021-06-29                            NaN                 NaN   \n",
       "\n",
       "oc_hx_contract_symbol  ZTO210521C00030760  ZTO210521C00031000  \\\n",
       "oc_hx_date                                                      \n",
       "2021-02-01                            NaN                 NaN   \n",
       "2021-02-02                            NaN                 NaN   \n",
       "2021-02-03                            NaN                 NaN   \n",
       "2021-02-04                            NaN                 NaN   \n",
       "2021-02-05                            NaN                 NaN   \n",
       "...                                   ...                 ...   \n",
       "2021-06-23                            NaN                 NaN   \n",
       "2021-06-24                            NaN                 NaN   \n",
       "2021-06-25                            NaN                 NaN   \n",
       "2021-06-28                            NaN                 NaN   \n",
       "2021-06-29                            NaN                 NaN   \n",
       "\n",
       "oc_hx_contract_symbol  ZTO210521C00031760  ZTO210521C00032000  \\\n",
       "oc_hx_date                                                      \n",
       "2021-02-01                            NaN                 NaN   \n",
       "2021-02-02                            NaN                 NaN   \n",
       "2021-02-03                            NaN                 NaN   \n",
       "2021-02-04                            NaN                 NaN   \n",
       "2021-02-05                            NaN                 NaN   \n",
       "...                                   ...                 ...   \n",
       "2021-06-23                            NaN                 NaN   \n",
       "2021-06-24                            NaN                 NaN   \n",
       "2021-06-25                            NaN                 NaN   \n",
       "2021-06-28                            NaN                 NaN   \n",
       "2021-06-29                            NaN                 NaN   \n",
       "\n",
       "oc_hx_contract_symbol  ZTO210521C00033760  ZTO210521C00034000  \\\n",
       "oc_hx_date                                                      \n",
       "2021-02-01                            NaN                 NaN   \n",
       "2021-02-02                            NaN                 NaN   \n",
       "2021-02-03                            NaN                 NaN   \n",
       "2021-02-04                            NaN                 NaN   \n",
       "2021-02-05                            NaN                 NaN   \n",
       "...                                   ...                 ...   \n",
       "2021-06-23                            NaN                 NaN   \n",
       "2021-06-24                            NaN                 NaN   \n",
       "2021-06-25                            NaN                 NaN   \n",
       "2021-06-28                            NaN                 NaN   \n",
       "2021-06-29                            NaN                 NaN   \n",
       "\n",
       "oc_hx_contract_symbol  ZTO210521C00034760  ZTO210521C00035760  \\\n",
       "oc_hx_date                                                      \n",
       "2021-02-01                            NaN                 NaN   \n",
       "2021-02-02                            NaN                 NaN   \n",
       "2021-02-03                            NaN                 NaN   \n",
       "2021-02-04                            NaN                 NaN   \n",
       "2021-02-05                            NaN                 NaN   \n",
       "...                                   ...                 ...   \n",
       "2021-06-23                            NaN                 NaN   \n",
       "2021-06-24                            NaN                 NaN   \n",
       "2021-06-25                            NaN                 NaN   \n",
       "2021-06-28                            NaN                 NaN   \n",
       "2021-06-29                            NaN                 NaN   \n",
       "\n",
       "oc_hx_contract_symbol  ZTO210521C00036760  ZTO210521P00023760  \\\n",
       "oc_hx_date                                                      \n",
       "2021-02-01                            NaN                 NaN   \n",
       "2021-02-02                            NaN                 NaN   \n",
       "2021-02-03                            NaN                 NaN   \n",
       "2021-02-04                            NaN                 NaN   \n",
       "2021-02-05                            NaN                 NaN   \n",
       "...                                   ...                 ...   \n",
       "2021-06-23                            NaN                 NaN   \n",
       "2021-06-24                            NaN                 NaN   \n",
       "2021-06-25                            NaN                 NaN   \n",
       "2021-06-28                            NaN                 NaN   \n",
       "2021-06-29                            NaN                 NaN   \n",
       "\n",
       "oc_hx_contract_symbol  ZTO210521P00025000  ZTO210521P00026000  \\\n",
       "oc_hx_date                                                      \n",
       "2021-02-01                            NaN                 NaN   \n",
       "2021-02-02                            NaN                 NaN   \n",
       "2021-02-03                            NaN                 NaN   \n",
       "2021-02-04                            NaN                 NaN   \n",
       "2021-02-05                            NaN                 NaN   \n",
       "...                                   ...                 ...   \n",
       "2021-06-23                            NaN                 NaN   \n",
       "2021-06-24                            NaN                 NaN   \n",
       "2021-06-25                            NaN                 NaN   \n",
       "2021-06-28                            NaN                 NaN   \n",
       "2021-06-29                            NaN                 NaN   \n",
       "\n",
       "oc_hx_contract_symbol  ZTO210521P00027000  ZTO210521P00027760  \\\n",
       "oc_hx_date                                                      \n",
       "2021-02-01                            NaN                 NaN   \n",
       "2021-02-02                            NaN                 NaN   \n",
       "2021-02-03                            NaN                 NaN   \n",
       "2021-02-04                            NaN                 NaN   \n",
       "2021-02-05                            NaN                 NaN   \n",
       "...                                   ...                 ...   \n",
       "2021-06-23                            NaN                 NaN   \n",
       "2021-06-24                            NaN                 NaN   \n",
       "2021-06-25                            NaN                 NaN   \n",
       "2021-06-28                            NaN                 NaN   \n",
       "2021-06-29                            NaN                 NaN   \n",
       "\n",
       "oc_hx_contract_symbol  ZTO210521P00028760  ZTO210521P00029760  \\\n",
       "oc_hx_date                                                      \n",
       "2021-02-01                            NaN                 NaN   \n",
       "2021-02-02                            NaN                 NaN   \n",
       "2021-02-03                            NaN                 NaN   \n",
       "2021-02-04                            NaN                 NaN   \n",
       "2021-02-05                            NaN                 NaN   \n",
       "...                                   ...                 ...   \n",
       "2021-06-23                            NaN                 NaN   \n",
       "2021-06-24                            NaN                 NaN   \n",
       "2021-06-25                            NaN                 NaN   \n",
       "2021-06-28                            NaN                 NaN   \n",
       "2021-06-29                            NaN                 NaN   \n",
       "\n",
       "oc_hx_contract_symbol  ZTO210521P00030760  ZTO210521P00031760  \\\n",
       "oc_hx_date                                                      \n",
       "2021-02-01                            NaN                 NaN   \n",
       "2021-02-02                            NaN                 NaN   \n",
       "2021-02-03                            NaN                 NaN   \n",
       "2021-02-04                            NaN                 NaN   \n",
       "2021-02-05                            NaN                 NaN   \n",
       "...                                   ...                 ...   \n",
       "2021-06-23                            NaN                 NaN   \n",
       "2021-06-24                            NaN                 NaN   \n",
       "2021-06-25                            NaN                 NaN   \n",
       "2021-06-28                            NaN                 NaN   \n",
       "2021-06-29                            NaN                 NaN   \n",
       "\n",
       "oc_hx_contract_symbol  ZTO210618C00031000  ZTO210618C00032000  \\\n",
       "oc_hx_date                                                      \n",
       "2021-02-01                            NaN                 NaN   \n",
       "2021-02-02                            NaN                 NaN   \n",
       "2021-02-03                            NaN                 NaN   \n",
       "2021-02-04                            NaN                 NaN   \n",
       "2021-02-05                            NaN                 NaN   \n",
       "...                                   ...                 ...   \n",
       "2021-06-23                            NaN                 NaN   \n",
       "2021-06-24                            NaN                 NaN   \n",
       "2021-06-25                            NaN                 NaN   \n",
       "2021-06-28                            NaN                 NaN   \n",
       "2021-06-29                            NaN                 NaN   \n",
       "\n",
       "oc_hx_contract_symbol  ZTO210618C00035000  ZTO210618C00036000  \\\n",
       "oc_hx_date                                                      \n",
       "2021-02-01                            NaN                 NaN   \n",
       "2021-02-02                            NaN                 NaN   \n",
       "2021-02-03                            NaN                 NaN   \n",
       "2021-02-04                            NaN                 NaN   \n",
       "2021-02-05                            NaN                 NaN   \n",
       "...                                   ...                 ...   \n",
       "2021-06-23                            NaN                 NaN   \n",
       "2021-06-24                            NaN                 NaN   \n",
       "2021-06-25                            NaN                 NaN   \n",
       "2021-06-28                            NaN                 NaN   \n",
       "2021-06-29                            NaN                 NaN   \n",
       "\n",
       "oc_hx_contract_symbol  ZTO210618P00030000  ZTO210618P00032000  \n",
       "oc_hx_date                                                     \n",
       "2021-02-01                            NaN                 NaN  \n",
       "2021-02-02                            NaN                 NaN  \n",
       "2021-02-03                            NaN                 NaN  \n",
       "2021-02-04                            NaN                 NaN  \n",
       "2021-02-05                            NaN                 NaN  \n",
       "...                                   ...                 ...  \n",
       "2021-06-23                            NaN                 NaN  \n",
       "2021-06-24                            NaN                 NaN  \n",
       "2021-06-25                            NaN                 NaN  \n",
       "2021-06-28                            NaN                 NaN  \n",
       "2021-06-29                            NaN                 NaN  \n",
       "\n",
       "[104 rows x 4825 columns]"
      ]
     },
     "execution_count": 27,
     "metadata": {},
     "output_type": "execute_result"
    }
   ],
   "source": [
    "a = df.reset_index().set_index('oc_hx_date') #.set_index('oc_hx_symbol')\n",
    "a = a.sort_index()\n",
    "# a = a.groupby(['oc_hx_date','oc_hx_contract_symbol'])['y_pred'].mean().unstack().dropna(how='all')\n",
    "a = a.groupby(['oc_hx_date','oc_hx_contract_symbol'])['oc_hx_close'].mean().unstack().dropna(how='all')\n",
    "a"
   ]
  },
  {
   "cell_type": "code",
   "execution_count": 29,
   "metadata": {},
   "outputs": [
    {
     "data": {
      "text/plain": [
       "oc_hx_date\n",
       "2021-06-15    0.20\n",
       "2021-06-16    0.05\n",
       "2021-06-17    0.05\n",
       "2021-06-18    0.05\n",
       "Name: AHC1210618C00005000, dtype: float64"
      ]
     },
     "execution_count": 29,
     "metadata": {},
     "output_type": "execute_result"
    }
   ],
   "source": [
    "a['AHC1210618C00005000'].dropna()"
   ]
  },
  {
   "cell_type": "code",
   "execution_count": 59,
   "metadata": {},
   "outputs": [
    {
     "data": {
      "text/plain": [
       "<matplotlib.axes._subplots.AxesSubplot at 0x122ba2ee0>"
      ]
     },
     "execution_count": 59,
     "metadata": {},
     "output_type": "execute_result"
    },
    {
     "data": {
      "image/png": "[encoded data removed]",
      "text/plain": [
       "<Figure size 432x288 with 1 Axes>"
      ]
     },
     "metadata": {
      "needs_background": "light"
     },
     "output_type": "display_data"
    }
   ],
   "source": [
    "# a.loc[:,idx['APRN','2021-05-21','CALL','oc_hx_open','APRN210521C00007000']]\n",
    "# df_tmp.loc[:,idx['APT']].plot()"
   ]
  },
  {
   "cell_type": "code",
   "execution_count": null,
   "metadata": {},
   "outputs": [],
   "source": [
    "ohlcv"
   ]
  },
  {
   "cell_type": "code",
   "execution_count": 164,
   "metadata": {},
   "outputs": [],
   "source": [
    "oc_cols = ['oc_hx_open','oc_hx_hi','oc_hx_lo','oc_hx_close']\n",
    "s_cols = [\"s_hx_close\"]\n",
    "\n",
    "\n",
    "df_tmp = df.reset_index().set_index('oc_hx_date') #.set_index('oc_hx_symbol')\n",
    "df_tmp = df_tmp.sort_index()\n",
    "df_tmp = df_tmp.groupby(['oc_hx_date','oc_hx_contract_symbol'])[cols].max().unstack().dropna(how='all')\n",
    "df_tmp.index.name = 'Date'\n",
    "df_tmp.columns.names = ['oc_hx','oc_hx_contract_symbol']\n",
    "df_tmp.columns = df_tmp.columns.swaplevel(0,1)\n",
    "\n",
    "df_close = df_tmp.copy()\n",
    "df_close.loc[:,:] = 1.0\n",
    "\n",
    "for option_duration in option_durations:\n",
    "    if option_duration[\"option_expiration\"] in df_close.index:\n",
    "        if option_duration[\"type\"] == \"CALL\":\n",
    "            if df_close.loc[option_duration['option_expiration'],idx[option_duration['contract_symbol'],\"s_hx_close\"]] > option_duration[\"strike\"]:\n",
    "                continue\n",
    "            else:\n",
    "                df_close.loc[option_duration['option_expiration'],idx[option_duration['contract_symbol'],oc_cols]] = 0.0\n",
    "        elif option_duration[\"type\"] == \"PUT\":\n",
    "            if df_close.loc[option_duration['option_expiration'],idx[option_duration['contract_symbol'],\"s_hx_close\"]] < option_duration[\"strike\"]:\n",
    "                continue\n",
    "            else:\n",
    "                df_close.loc[option_duration['option_expiration'],idx[option_duration['contract_symbol'],oc_cols]] = 0.0\n",
    "        \n",
    "# df_close.loc[:\"2021-03-19\",idx[:,\"AXS210319C00055000\"]]\n",
    "# df_tmp.loc[:\"2021-03-19\",idx[:,\"AXS210319C00055000\"]]\n",
    "        \n",
    "df_tmp = (df_tmp*df_close).replace({0.0:0.00001})"
   ]
  },
  {
   "cell_type": "code",
   "execution_count": 168,
   "metadata": {},
   "outputs": [],
   "source": [
    "multi_ind = list(zip(\n",
    "            [parse_contract_symbol(c)['symbol'] for c in df_tmp.columns.get_level_values('oc_hx_contract_symbol')],\n",
    "            [parse_contract_symbol(c)['option_expiration'] for c in df_tmp.columns.get_level_values('oc_hx_contract_symbol')],\n",
    "            [parse_contract_symbol(c)['type'] for c in df_tmp.columns.get_level_values('oc_hx_contract_symbol')]\n",
    "        ))\n",
    "df_tmp = df_tmp.vbt.stack_index(pd.MultiIndex.from_tuples(multi_ind, names=[\"symbol\", \"option_expiration\", \"option_type\"]))\n",
    "df_tmp"
   ]
  },
  {
   "cell_type": "code",
   "execution_count": 177,
   "metadata": {},
   "outputs": [
    {
     "data": {
      "text/html": [
       "<div>\n",
       "<style scoped>\n",
       "    .dataframe tbody tr th:only-of-type {\n",
       "        vertical-align: middle;\n",
       "    }\n",
       "\n",
       "    .dataframe tbody tr th {\n",
       "        vertical-align: top;\n",
       "    }\n",
       "\n",
       "    .dataframe thead th {\n",
       "        text-align: right;\n",
       "    }\n",
       "</style>\n",
       "<table border=\"1\" class=\"dataframe\">\n",
       "  <thead>\n",
       "    <tr style=\"text-align: right;\">\n",
       "      <th></th>\n",
       "      <th></th>\n",
       "      <th>contract_symbol</th>\n",
       "      <th>y_pred</th>\n",
       "      <th>purch_date</th>\n",
       "      <th>purch_datetime</th>\n",
       "      <th>trade_price</th>\n",
       "      <th>option_expiration</th>\n",
       "      <th>oc_hx_symbol</th>\n",
       "      <th>oc_hx_hi</th>\n",
       "      <th>oc_hx_lo</th>\n",
       "      <th>oc_hx_open</th>\n",
       "      <th>oc_hx_close</th>\n",
       "      <th>oc_hx_volume</th>\n",
       "      <th>s_hx_symbol</th>\n",
       "      <th>s_hx_hi</th>\n",
       "      <th>s_hx_lo</th>\n",
       "      <th>s_hx_open</th>\n",
       "      <th>s_hx_close</th>\n",
       "      <th>s_hx_volume</th>\n",
       "      <th>s_hx_date</th>\n",
       "      <th>symbol</th>\n",
       "      <th>root</th>\n",
       "      <th>strike</th>\n",
       "      <th>type</th>\n",
       "    </tr>\n",
       "    <tr>\n",
       "      <th>oc_hx_date</th>\n",
       "      <th>oc_hx_contract_symbol</th>\n",
       "      <th></th>\n",
       "      <th></th>\n",
       "      <th></th>\n",
       "      <th></th>\n",
       "      <th></th>\n",
       "      <th></th>\n",
       "      <th></th>\n",
       "      <th></th>\n",
       "      <th></th>\n",
       "      <th></th>\n",
       "      <th></th>\n",
       "      <th></th>\n",
       "      <th></th>\n",
       "      <th></th>\n",
       "      <th></th>\n",
       "      <th></th>\n",
       "      <th></th>\n",
       "      <th></th>\n",
       "      <th></th>\n",
       "      <th></th>\n",
       "      <th></th>\n",
       "      <th></th>\n",
       "      <th></th>\n",
       "    </tr>\n",
       "  </thead>\n",
       "  <tbody>\n",
       "    <tr>\n",
       "      <th rowspan=\"5\" valign=\"top\">2021-02-01</th>\n",
       "      <th>AHC210219C00002500</th>\n",
       "      <td>NaN</td>\n",
       "      <td>NaN</td>\n",
       "      <td>NaN</td>\n",
       "      <td>NaN</td>\n",
       "      <td>NaN</td>\n",
       "      <td>NaN</td>\n",
       "      <td>AHC</td>\n",
       "      <td>0.42</td>\n",
       "      <td>0.30</td>\n",
       "      <td>0.40</td>\n",
       "      <td>0.30</td>\n",
       "      <td>18</td>\n",
       "      <td>AHC</td>\n",
       "      <td>8.76</td>\n",
       "      <td>8.4800</td>\n",
       "      <td>8.60</td>\n",
       "      <td>8.68</td>\n",
       "      <td>21416.0</td>\n",
       "      <td>2021-02-01</td>\n",
       "      <td>NaN</td>\n",
       "      <td>NaN</td>\n",
       "      <td>NaN</td>\n",
       "      <td>NaN</td>\n",
       "    </tr>\n",
       "    <tr>\n",
       "      <th>AHC210521C00002500</th>\n",
       "      <td>NaN</td>\n",
       "      <td>NaN</td>\n",
       "      <td>NaN</td>\n",
       "      <td>NaN</td>\n",
       "      <td>NaN</td>\n",
       "      <td>NaN</td>\n",
       "      <td>AHC</td>\n",
       "      <td>0.65</td>\n",
       "      <td>0.60</td>\n",
       "      <td>0.60</td>\n",
       "      <td>0.65</td>\n",
       "      <td>3</td>\n",
       "      <td>AHC</td>\n",
       "      <td>8.76</td>\n",
       "      <td>8.4800</td>\n",
       "      <td>8.60</td>\n",
       "      <td>8.68</td>\n",
       "      <td>21416.0</td>\n",
       "      <td>2021-02-01</td>\n",
       "      <td>NaN</td>\n",
       "      <td>NaN</td>\n",
       "      <td>NaN</td>\n",
       "      <td>NaN</td>\n",
       "    </tr>\n",
       "    <tr>\n",
       "      <th>ARAY210219C00006000</th>\n",
       "      <td>NaN</td>\n",
       "      <td>NaN</td>\n",
       "      <td>NaN</td>\n",
       "      <td>NaN</td>\n",
       "      <td>NaN</td>\n",
       "      <td>NaN</td>\n",
       "      <td>ARAY</td>\n",
       "      <td>0.10</td>\n",
       "      <td>0.05</td>\n",
       "      <td>0.06</td>\n",
       "      <td>0.05</td>\n",
       "      <td>16</td>\n",
       "      <td>ARAY</td>\n",
       "      <td>5.05</td>\n",
       "      <td>4.8601</td>\n",
       "      <td>5.02</td>\n",
       "      <td>4.93</td>\n",
       "      <td>932985.0</td>\n",
       "      <td>2021-02-01</td>\n",
       "      <td>NaN</td>\n",
       "      <td>NaN</td>\n",
       "      <td>NaN</td>\n",
       "      <td>NaN</td>\n",
       "    </tr>\n",
       "    <tr>\n",
       "      <th>ARAY210319P00005000</th>\n",
       "      <td>NaN</td>\n",
       "      <td>NaN</td>\n",
       "      <td>NaN</td>\n",
       "      <td>NaN</td>\n",
       "      <td>NaN</td>\n",
       "      <td>NaN</td>\n",
       "      <td>ARAY</td>\n",
       "      <td>0.50</td>\n",
       "      <td>0.50</td>\n",
       "      <td>0.50</td>\n",
       "      <td>0.50</td>\n",
       "      <td>5</td>\n",
       "      <td>ARAY</td>\n",
       "      <td>5.05</td>\n",
       "      <td>4.8601</td>\n",
       "      <td>5.02</td>\n",
       "      <td>4.93</td>\n",
       "      <td>932985.0</td>\n",
       "      <td>2021-02-01</td>\n",
       "      <td>NaN</td>\n",
       "      <td>NaN</td>\n",
       "      <td>NaN</td>\n",
       "      <td>NaN</td>\n",
       "    </tr>\n",
       "    <tr>\n",
       "      <th>ARAY210618C00005000</th>\n",
       "      <td>NaN</td>\n",
       "      <td>NaN</td>\n",
       "      <td>NaN</td>\n",
       "      <td>NaN</td>\n",
       "      <td>NaN</td>\n",
       "      <td>NaN</td>\n",
       "      <td>ARAY</td>\n",
       "      <td>0.85</td>\n",
       "      <td>0.85</td>\n",
       "      <td>0.85</td>\n",
       "      <td>0.85</td>\n",
       "      <td>3</td>\n",
       "      <td>ARAY</td>\n",
       "      <td>5.05</td>\n",
       "      <td>4.8601</td>\n",
       "      <td>5.02</td>\n",
       "      <td>4.93</td>\n",
       "      <td>932985.0</td>\n",
       "      <td>2021-02-01</td>\n",
       "      <td>NaN</td>\n",
       "      <td>NaN</td>\n",
       "      <td>NaN</td>\n",
       "      <td>NaN</td>\n",
       "    </tr>\n",
       "  </tbody>\n",
       "</table>\n",
       "</div>"
      ],
      "text/plain": [
       "                                 contract_symbol  y_pred purch_date  \\\n",
       "oc_hx_date oc_hx_contract_symbol                                      \n",
       "2021-02-01 AHC210219C00002500                NaN     NaN        NaN   \n",
       "           AHC210521C00002500                NaN     NaN        NaN   \n",
       "           ARAY210219C00006000               NaN     NaN        NaN   \n",
       "           ARAY210319P00005000               NaN     NaN        NaN   \n",
       "           ARAY210618C00005000               NaN     NaN        NaN   \n",
       "\n",
       "                                 purch_datetime  trade_price  \\\n",
       "oc_hx_date oc_hx_contract_symbol                               \n",
       "2021-02-01 AHC210219C00002500               NaN          NaN   \n",
       "           AHC210521C00002500               NaN          NaN   \n",
       "           ARAY210219C00006000              NaN          NaN   \n",
       "           ARAY210319P00005000              NaN          NaN   \n",
       "           ARAY210618C00005000              NaN          NaN   \n",
       "\n",
       "                                 option_expiration oc_hx_symbol  oc_hx_hi  \\\n",
       "oc_hx_date oc_hx_contract_symbol                                            \n",
       "2021-02-01 AHC210219C00002500                  NaN          AHC      0.42   \n",
       "           AHC210521C00002500                  NaN          AHC      0.65   \n",
       "           ARAY210219C00006000                 NaN         ARAY      0.10   \n",
       "           ARAY210319P00005000                 NaN         ARAY      0.50   \n",
       "           ARAY210618C00005000                 NaN         ARAY      0.85   \n",
       "\n",
       "                                  oc_hx_lo  oc_hx_open  oc_hx_close  \\\n",
       "oc_hx_date oc_hx_contract_symbol                                      \n",
       "2021-02-01 AHC210219C00002500         0.30        0.40         0.30   \n",
       "           AHC210521C00002500         0.60        0.60         0.65   \n",
       "           ARAY210219C00006000        0.05        0.06         0.05   \n",
       "           ARAY210319P00005000        0.50        0.50         0.50   \n",
       "           ARAY210618C00005000        0.85        0.85         0.85   \n",
       "\n",
       "                                  oc_hx_volume s_hx_symbol  s_hx_hi  s_hx_lo  \\\n",
       "oc_hx_date oc_hx_contract_symbol                                               \n",
       "2021-02-01 AHC210219C00002500               18         AHC     8.76   8.4800   \n",
       "           AHC210521C00002500                3         AHC     8.76   8.4800   \n",
       "           ARAY210219C00006000              16        ARAY     5.05   4.8601   \n",
       "           ARAY210319P00005000               5        ARAY     5.05   4.8601   \n",
       "           ARAY210618C00005000               3        ARAY     5.05   4.8601   \n",
       "\n",
       "                                  s_hx_open  s_hx_close  s_hx_volume  \\\n",
       "oc_hx_date oc_hx_contract_symbol                                       \n",
       "2021-02-01 AHC210219C00002500          8.60        8.68      21416.0   \n",
       "           AHC210521C00002500          8.60        8.68      21416.0   \n",
       "           ARAY210219C00006000         5.02        4.93     932985.0   \n",
       "           ARAY210319P00005000         5.02        4.93     932985.0   \n",
       "           ARAY210618C00005000         5.02        4.93     932985.0   \n",
       "\n",
       "                                  s_hx_date symbol root  strike type  \n",
       "oc_hx_date oc_hx_contract_symbol                                      \n",
       "2021-02-01 AHC210219C00002500    2021-02-01    NaN  NaN     NaN  NaN  \n",
       "           AHC210521C00002500    2021-02-01    NaN  NaN     NaN  NaN  \n",
       "           ARAY210219C00006000   2021-02-01    NaN  NaN     NaN  NaN  \n",
       "           ARAY210319P00005000   2021-02-01    NaN  NaN     NaN  NaN  \n",
       "           ARAY210618C00005000   2021-02-01    NaN  NaN     NaN  NaN  "
      ]
     },
     "execution_count": 177,
     "metadata": {},
     "output_type": "execute_result"
    }
   ],
   "source": [
    "df.head()"
   ]
  },
  {
   "cell_type": "code",
   "execution_count": 180,
   "metadata": {},
   "outputs": [],
   "source": [
    "oc_pred_details = df[['contract_symbol','option_expiration',\"strike\",\"type\",\"y_pred\",\"purch_date\"]].drop_duplicates().dropna().to_dict('records')"
   ]
  },
  {
   "cell_type": "code",
   "execution_count": 181,
   "metadata": {},
   "outputs": [],
   "source": [
    "def convert_to_wide(df,oc_pred_details,oc_cols,s_cols,otm_exp_price=0.00001):\n",
    "    cols = oc_cols + s_cols\n",
    "    df_tmp = df.reset_index().set_index('oc_hx_date') #.set_index('oc_hx_symbol')\n",
    "    df_tmp = df_tmp.sort_index()\n",
    "    df_tmp = df_tmp.groupby(['oc_hx_date','oc_hx_contract_symbol'])[cols].max().unstack().dropna(how='all')\n",
    "    df_tmp.index.name = 'Date'\n",
    "    df_tmp.columns.names = ['oc_hx','oc_hx_contract_symbol']\n",
    "    df_tmp.columns = df_tmp.columns.swaplevel(0,1)\n",
    "    \n",
    "    df_close = df_tmp.copy()\n",
    "    df_close.loc[:,:] = 1.0\n",
    "#     option_durations = df[['contract_symbol','option_expiration',\"strike\",\"type\"]].drop_duplicates().dropna().to_dict('records')\n",
    "#     for option_duration in option_durations:\n",
    "    for option_duration in oc_pred_details:\n",
    "        if option_duration[\"option_expiration\"] in df_close.index:\n",
    "            if option_duration[\"type\"] == \"CALL\":\n",
    "                if df_close.loc[option_duration['option_expiration'],idx[option_duration['contract_symbol'],\"s_hx_close\"]] > option_duration[\"strike\"]:\n",
    "                    continue\n",
    "                else:\n",
    "                    df_close.loc[option_duration['option_expiration'],idx[option_duration['contract_symbol'],oc_cols]] = 0.0\n",
    "            elif option_duration[\"type\"] == \"PUT\":\n",
    "                if df_close.loc[option_duration['option_expiration'],idx[option_duration['contract_symbol'],\"s_hx_close\"]] < option_duration[\"strike\"]:\n",
    "                    continue\n",
    "                else:\n",
    "                    df_close.loc[option_duration['option_expiration'],idx[option_duration['contract_symbol'],oc_cols]] = 0.0\n",
    "\n",
    "    df_tmp = (df_tmp*df_close).replace({0.0:otm_exp_price})\n",
    "    \n",
    "    multi_ind = list(zip(\n",
    "            [parse_contract_symbol(c)['symbol'] for c in df_tmp.columns.get_level_values('oc_hx_contract_symbol')],\n",
    "            [parse_contract_symbol(c)['option_expiration'] for c in df_tmp.columns.get_level_values('oc_hx_contract_symbol')],\n",
    "            [parse_contract_symbol(c)['type'] for c in df_tmp.columns.get_level_values('oc_hx_contract_symbol')]\n",
    "        ))\n",
    "    df_tmp = df_tmp.vbt.stack_index(pd.MultiIndex.from_tuples(multi_ind, names=[\"symbol\", \"option_expiration\", \"option_type\"]))\n",
    "    return df_tmp"
   ]
  },
  {
   "cell_type": "code",
   "execution_count": 182,
   "metadata": {},
   "outputs": [],
   "source": [
    "df_tmp = convert_to_wide(df,oc_pred_details,oc_cols=['oc_hx_open','oc_hx_hi','oc_hx_lo','oc_hx_close'],s_cols=[\"s_hx_close\"])"
   ]
  },
  {
   "cell_type": "code",
   "execution_count": 184,
   "metadata": {},
   "outputs": [
    {
     "ename": "SyntaxError",
     "evalue": "invalid syntax (<ipython-input-184-f9fbdd2a1323>, line 9)",
     "output_type": "error",
     "traceback": [
      "\u001b[0;36m  File \u001b[0;32m\"<ipython-input-184-f9fbdd2a1323>\"\u001b[0;36m, line \u001b[0;32m9\u001b[0m\n\u001b[0;31m    else:\u001b[0m\n\u001b[0m    ^\u001b[0m\n\u001b[0;31mSyntaxError\u001b[0m\u001b[0;31m:\u001b[0m invalid syntax\n"
     ]
    }
   ],
   "source": [
    "def uniform_pred_thresh_entry(df_tmp,thresh=0,reduce=False):\n",
    "    entry_df = df_tmp.copy()\n",
    "    entry_df.loc[:,:] = 0.0\n",
    "    for option_duration in oc_pred_details:\n",
    "        if option_duration[\"option_expiration\"] in entry_df.index:\n",
    "            if option_duration[\"y_pred\"] >= thresh:\n",
    "                entry_df.loc[option_duration['option_expiration'],idx[option_duration['contract_symbol'],oc_cols]] = 0.0\n",
    "                continue\n",
    "                else:\n",
    "                    \n",
    "            elif option_duration[\"type\"] == \"PUT\":\n",
    "                if df_close.loc[option_duration['option_expiration'],idx[option_duration['contract_symbol'],\"s_hx_close\"]] < option_duration[\"strike\"]:\n",
    "                    continue\n",
    "                else:\n",
    "                    df_close.loc[option_duration['option_expiration'],idx[option_duration['contract_symbol'],oc_cols]] = 0.0"
   ]
  },
  {
   "cell_type": "markdown",
   "metadata": {},
   "source": [
    "I can optimize this by reducing the entry_df size down to only contract_symbols that have trades, since I'm only keeping thresholded trades.. would need to reduce df at the same time."
   ]
  },
  {
   "cell_type": "code",
   "execution_count": 173,
   "metadata": {},
   "outputs": [],
   "source": [
    "def uniform_pred_thresh_entry(df,thresh=0,reduce=False):\n",
    "    \"\"\"Create entries from simple y_pred >= thresh criteria\"\"\"\n",
    "    idx = pd.IndexSlice\n",
    "    if reduce == False:\n",
    "        entry_df = df.reset_index().groupby(['oc_hx_date','oc_hx_contract_symbol'])['y_pred'].last().unstack() > thresh\n",
    "        entry_df = entry_df.shift(1)\n",
    "        entry_df = entry_df.fillna(False)\n",
    "        print(f\"df:{df.shape}, entry_df:{entry_df.shape}\")\n",
    "        return df, entry_df\n",
    "    else:\n",
    "        entry_df = df.reset_index().groupby(['oc_hx_date','oc_hx_contract_symbol'])['y_pred'].last().unstack() > thresh\n",
    "        entry_df = entry_df.shift(1)\n",
    "        entry_df = entry_df.fillna(False)\n",
    "        entry_df = entry_df.loc[:,entry_df.astype(int).sum(axis=0)!=0]\n",
    "        df = df.loc[idx[:,entry_df.columns],:]\n",
    "        print(f\"df:{df.shape}, entry_df:{entry_df.shape}\")\n",
    "        return df, entry_df\n",
    "\n",
    "def expiration_exit(entry_df):\n",
    "    \"\"\"Create exits from simple exit on expiration\"\"\"\n",
    "    exp_exit_df = entry_df.copy()\n",
    "    exp_exit_df.iloc[:,:] = False\n",
    "\n",
    "    tmp_df = entry_df.sum()[entry_df.sum()!=0].reset_index()\n",
    "    tmp_df = tmp_df.rename(columns={'oc_hx_contract_symbol':'contract_symbol'})\n",
    "    tmp_df[['option_expiration','symbol','root','strike','type']] = tmp_df.apply(parse_contract_symbol,axis=1,result_type=\"expand\")\n",
    "    exits = tmp_df[['contract_symbol','option_expiration']].drop_duplicates().to_dict('records')\n",
    "\n",
    "    for exit in exits:\n",
    "        exp_exit_df.loc[exit['option_expiration'],exit['contract_symbol']] = True\n",
    "    return exp_exit_df"
   ]
  },
  {
   "cell_type": "code",
   "execution_count": 174,
   "metadata": {},
   "outputs": [
    {
     "name": "stdout",
     "output_type": "stream",
     "text": [
      "df:(146963, 23), entry_df:(104, 4825)\n"
     ]
    },
    {
     "data": {
      "text/html": [
       "<div>\n",
       "<style scoped>\n",
       "    .dataframe tbody tr th:only-of-type {\n",
       "        vertical-align: middle;\n",
       "    }\n",
       "\n",
       "    .dataframe tbody tr th {\n",
       "        vertical-align: top;\n",
       "    }\n",
       "\n",
       "    .dataframe thead th {\n",
       "        text-align: right;\n",
       "    }\n",
       "</style>\n",
       "<table border=\"1\" class=\"dataframe\">\n",
       "  <thead>\n",
       "    <tr style=\"text-align: right;\">\n",
       "      <th></th>\n",
       "      <th></th>\n",
       "      <th>contract_symbol</th>\n",
       "      <th>y_pred</th>\n",
       "      <th>purch_date</th>\n",
       "      <th>purch_datetime</th>\n",
       "      <th>trade_price</th>\n",
       "      <th>option_expiration</th>\n",
       "      <th>oc_hx_symbol</th>\n",
       "      <th>oc_hx_hi</th>\n",
       "      <th>oc_hx_lo</th>\n",
       "      <th>oc_hx_open</th>\n",
       "      <th>oc_hx_close</th>\n",
       "      <th>oc_hx_volume</th>\n",
       "      <th>s_hx_symbol</th>\n",
       "      <th>s_hx_hi</th>\n",
       "      <th>s_hx_lo</th>\n",
       "      <th>s_hx_open</th>\n",
       "      <th>s_hx_close</th>\n",
       "      <th>s_hx_volume</th>\n",
       "      <th>s_hx_date</th>\n",
       "      <th>symbol</th>\n",
       "      <th>root</th>\n",
       "      <th>strike</th>\n",
       "      <th>type</th>\n",
       "    </tr>\n",
       "    <tr>\n",
       "      <th>oc_hx_date</th>\n",
       "      <th>oc_hx_contract_symbol</th>\n",
       "      <th></th>\n",
       "      <th></th>\n",
       "      <th></th>\n",
       "      <th></th>\n",
       "      <th></th>\n",
       "      <th></th>\n",
       "      <th></th>\n",
       "      <th></th>\n",
       "      <th></th>\n",
       "      <th></th>\n",
       "      <th></th>\n",
       "      <th></th>\n",
       "      <th></th>\n",
       "      <th></th>\n",
       "      <th></th>\n",
       "      <th></th>\n",
       "      <th></th>\n",
       "      <th></th>\n",
       "      <th></th>\n",
       "      <th></th>\n",
       "      <th></th>\n",
       "      <th></th>\n",
       "      <th></th>\n",
       "    </tr>\n",
       "  </thead>\n",
       "  <tbody>\n",
       "    <tr>\n",
       "      <th rowspan=\"5\" valign=\"top\">2021-02-01</th>\n",
       "      <th>AHC210219C00002500</th>\n",
       "      <td>NaN</td>\n",
       "      <td>NaN</td>\n",
       "      <td>NaN</td>\n",
       "      <td>NaN</td>\n",
       "      <td>NaN</td>\n",
       "      <td>NaN</td>\n",
       "      <td>AHC</td>\n",
       "      <td>0.42</td>\n",
       "      <td>0.30</td>\n",
       "      <td>0.40</td>\n",
       "      <td>0.30</td>\n",
       "      <td>18</td>\n",
       "      <td>AHC</td>\n",
       "      <td>8.760</td>\n",
       "      <td>8.4800</td>\n",
       "      <td>8.60</td>\n",
       "      <td>8.68</td>\n",
       "      <td>21416.0</td>\n",
       "      <td>2021-02-01</td>\n",
       "      <td>NaN</td>\n",
       "      <td>NaN</td>\n",
       "      <td>NaN</td>\n",
       "      <td>NaN</td>\n",
       "    </tr>\n",
       "    <tr>\n",
       "      <th>AHC210521C00002500</th>\n",
       "      <td>NaN</td>\n",
       "      <td>NaN</td>\n",
       "      <td>NaN</td>\n",
       "      <td>NaN</td>\n",
       "      <td>NaN</td>\n",
       "      <td>NaN</td>\n",
       "      <td>AHC</td>\n",
       "      <td>0.65</td>\n",
       "      <td>0.60</td>\n",
       "      <td>0.60</td>\n",
       "      <td>0.65</td>\n",
       "      <td>3</td>\n",
       "      <td>AHC</td>\n",
       "      <td>8.760</td>\n",
       "      <td>8.4800</td>\n",
       "      <td>8.60</td>\n",
       "      <td>8.68</td>\n",
       "      <td>21416.0</td>\n",
       "      <td>2021-02-01</td>\n",
       "      <td>NaN</td>\n",
       "      <td>NaN</td>\n",
       "      <td>NaN</td>\n",
       "      <td>NaN</td>\n",
       "    </tr>\n",
       "    <tr>\n",
       "      <th>ARAY210219C00006000</th>\n",
       "      <td>NaN</td>\n",
       "      <td>NaN</td>\n",
       "      <td>NaN</td>\n",
       "      <td>NaN</td>\n",
       "      <td>NaN</td>\n",
       "      <td>NaN</td>\n",
       "      <td>ARAY</td>\n",
       "      <td>0.10</td>\n",
       "      <td>0.05</td>\n",
       "      <td>0.06</td>\n",
       "      <td>0.05</td>\n",
       "      <td>16</td>\n",
       "      <td>ARAY</td>\n",
       "      <td>5.050</td>\n",
       "      <td>4.8601</td>\n",
       "      <td>5.02</td>\n",
       "      <td>4.93</td>\n",
       "      <td>932985.0</td>\n",
       "      <td>2021-02-01</td>\n",
       "      <td>NaN</td>\n",
       "      <td>NaN</td>\n",
       "      <td>NaN</td>\n",
       "      <td>NaN</td>\n",
       "    </tr>\n",
       "    <tr>\n",
       "      <th>ARAY210319P00005000</th>\n",
       "      <td>NaN</td>\n",
       "      <td>NaN</td>\n",
       "      <td>NaN</td>\n",
       "      <td>NaN</td>\n",
       "      <td>NaN</td>\n",
       "      <td>NaN</td>\n",
       "      <td>ARAY</td>\n",
       "      <td>0.50</td>\n",
       "      <td>0.50</td>\n",
       "      <td>0.50</td>\n",
       "      <td>0.50</td>\n",
       "      <td>5</td>\n",
       "      <td>ARAY</td>\n",
       "      <td>5.050</td>\n",
       "      <td>4.8601</td>\n",
       "      <td>5.02</td>\n",
       "      <td>4.93</td>\n",
       "      <td>932985.0</td>\n",
       "      <td>2021-02-01</td>\n",
       "      <td>NaN</td>\n",
       "      <td>NaN</td>\n",
       "      <td>NaN</td>\n",
       "      <td>NaN</td>\n",
       "    </tr>\n",
       "    <tr>\n",
       "      <th>ARAY210618C00005000</th>\n",
       "      <td>NaN</td>\n",
       "      <td>NaN</td>\n",
       "      <td>NaN</td>\n",
       "      <td>NaN</td>\n",
       "      <td>NaN</td>\n",
       "      <td>NaN</td>\n",
       "      <td>ARAY</td>\n",
       "      <td>0.85</td>\n",
       "      <td>0.85</td>\n",
       "      <td>0.85</td>\n",
       "      <td>0.85</td>\n",
       "      <td>3</td>\n",
       "      <td>ARAY</td>\n",
       "      <td>5.050</td>\n",
       "      <td>4.8601</td>\n",
       "      <td>5.02</td>\n",
       "      <td>4.93</td>\n",
       "      <td>932985.0</td>\n",
       "      <td>2021-02-01</td>\n",
       "      <td>NaN</td>\n",
       "      <td>NaN</td>\n",
       "      <td>NaN</td>\n",
       "      <td>NaN</td>\n",
       "    </tr>\n",
       "    <tr>\n",
       "      <th>...</th>\n",
       "      <th>...</th>\n",
       "      <td>...</td>\n",
       "      <td>...</td>\n",
       "      <td>...</td>\n",
       "      <td>...</td>\n",
       "      <td>...</td>\n",
       "      <td>...</td>\n",
       "      <td>...</td>\n",
       "      <td>...</td>\n",
       "      <td>...</td>\n",
       "      <td>...</td>\n",
       "      <td>...</td>\n",
       "      <td>...</td>\n",
       "      <td>...</td>\n",
       "      <td>...</td>\n",
       "      <td>...</td>\n",
       "      <td>...</td>\n",
       "      <td>...</td>\n",
       "      <td>...</td>\n",
       "      <td>...</td>\n",
       "      <td>...</td>\n",
       "      <td>...</td>\n",
       "      <td>...</td>\n",
       "      <td>...</td>\n",
       "    </tr>\n",
       "    <tr>\n",
       "      <th rowspan=\"5\" valign=\"top\">2021-06-29</th>\n",
       "      <th>MARK210716C00003000</th>\n",
       "      <td>NaN</td>\n",
       "      <td>NaN</td>\n",
       "      <td>NaN</td>\n",
       "      <td>NaN</td>\n",
       "      <td>NaN</td>\n",
       "      <td>NaN</td>\n",
       "      <td>MARK</td>\n",
       "      <td>0.05</td>\n",
       "      <td>0.04</td>\n",
       "      <td>0.04</td>\n",
       "      <td>0.05</td>\n",
       "      <td>0</td>\n",
       "      <td>MARK</td>\n",
       "      <td>1.995</td>\n",
       "      <td>1.8600</td>\n",
       "      <td>1.94</td>\n",
       "      <td>1.87</td>\n",
       "      <td>1082440.0</td>\n",
       "      <td>2021-06-29</td>\n",
       "      <td>NaN</td>\n",
       "      <td>NaN</td>\n",
       "      <td>NaN</td>\n",
       "      <td>NaN</td>\n",
       "    </tr>\n",
       "    <tr>\n",
       "      <th>MARK210716C00003500</th>\n",
       "      <td>NaN</td>\n",
       "      <td>NaN</td>\n",
       "      <td>NaN</td>\n",
       "      <td>NaN</td>\n",
       "      <td>NaN</td>\n",
       "      <td>NaN</td>\n",
       "      <td>MARK</td>\n",
       "      <td>0.05</td>\n",
       "      <td>0.05</td>\n",
       "      <td>0.05</td>\n",
       "      <td>0.05</td>\n",
       "      <td>0</td>\n",
       "      <td>MARK</td>\n",
       "      <td>1.995</td>\n",
       "      <td>1.8600</td>\n",
       "      <td>1.94</td>\n",
       "      <td>1.87</td>\n",
       "      <td>1082440.0</td>\n",
       "      <td>2021-06-29</td>\n",
       "      <td>NaN</td>\n",
       "      <td>NaN</td>\n",
       "      <td>NaN</td>\n",
       "      <td>NaN</td>\n",
       "    </tr>\n",
       "    <tr>\n",
       "      <th>MARK210716P00001500</th>\n",
       "      <td>NaN</td>\n",
       "      <td>NaN</td>\n",
       "      <td>NaN</td>\n",
       "      <td>NaN</td>\n",
       "      <td>NaN</td>\n",
       "      <td>NaN</td>\n",
       "      <td>MARK</td>\n",
       "      <td>0.05</td>\n",
       "      <td>0.02</td>\n",
       "      <td>0.02</td>\n",
       "      <td>0.05</td>\n",
       "      <td>0</td>\n",
       "      <td>MARK</td>\n",
       "      <td>1.995</td>\n",
       "      <td>1.8600</td>\n",
       "      <td>1.94</td>\n",
       "      <td>1.87</td>\n",
       "      <td>1082440.0</td>\n",
       "      <td>2021-06-29</td>\n",
       "      <td>NaN</td>\n",
       "      <td>NaN</td>\n",
       "      <td>NaN</td>\n",
       "      <td>NaN</td>\n",
       "    </tr>\n",
       "    <tr>\n",
       "      <th>MARK210820C00002500</th>\n",
       "      <td>NaN</td>\n",
       "      <td>NaN</td>\n",
       "      <td>NaN</td>\n",
       "      <td>NaN</td>\n",
       "      <td>NaN</td>\n",
       "      <td>NaN</td>\n",
       "      <td>MARK</td>\n",
       "      <td>0.20</td>\n",
       "      <td>0.20</td>\n",
       "      <td>0.20</td>\n",
       "      <td>0.20</td>\n",
       "      <td>0</td>\n",
       "      <td>MARK</td>\n",
       "      <td>1.995</td>\n",
       "      <td>1.8600</td>\n",
       "      <td>1.94</td>\n",
       "      <td>1.87</td>\n",
       "      <td>1082440.0</td>\n",
       "      <td>2021-06-29</td>\n",
       "      <td>NaN</td>\n",
       "      <td>NaN</td>\n",
       "      <td>NaN</td>\n",
       "      <td>NaN</td>\n",
       "    </tr>\n",
       "    <tr>\n",
       "      <th>MARK210820C00004000</th>\n",
       "      <td>NaN</td>\n",
       "      <td>NaN</td>\n",
       "      <td>NaN</td>\n",
       "      <td>NaN</td>\n",
       "      <td>NaN</td>\n",
       "      <td>NaN</td>\n",
       "      <td>MARK</td>\n",
       "      <td>0.07</td>\n",
       "      <td>0.05</td>\n",
       "      <td>0.05</td>\n",
       "      <td>0.07</td>\n",
       "      <td>0</td>\n",
       "      <td>MARK</td>\n",
       "      <td>1.995</td>\n",
       "      <td>1.8600</td>\n",
       "      <td>1.94</td>\n",
       "      <td>1.87</td>\n",
       "      <td>1082440.0</td>\n",
       "      <td>2021-06-29</td>\n",
       "      <td>NaN</td>\n",
       "      <td>NaN</td>\n",
       "      <td>NaN</td>\n",
       "      <td>NaN</td>\n",
       "    </tr>\n",
       "  </tbody>\n",
       "</table>\n",
       "<p>146963 rows × 23 columns</p>\n",
       "</div>"
      ],
      "text/plain": [
       "                                 contract_symbol  y_pred purch_date  \\\n",
       "oc_hx_date oc_hx_contract_symbol                                      \n",
       "2021-02-01 AHC210219C00002500                NaN     NaN        NaN   \n",
       "           AHC210521C00002500                NaN     NaN        NaN   \n",
       "           ARAY210219C00006000               NaN     NaN        NaN   \n",
       "           ARAY210319P00005000               NaN     NaN        NaN   \n",
       "           ARAY210618C00005000               NaN     NaN        NaN   \n",
       "...                                          ...     ...        ...   \n",
       "2021-06-29 MARK210716C00003000               NaN     NaN        NaN   \n",
       "           MARK210716C00003500               NaN     NaN        NaN   \n",
       "           MARK210716P00001500               NaN     NaN        NaN   \n",
       "           MARK210820C00002500               NaN     NaN        NaN   \n",
       "           MARK210820C00004000               NaN     NaN        NaN   \n",
       "\n",
       "                                 purch_datetime  trade_price  \\\n",
       "oc_hx_date oc_hx_contract_symbol                               \n",
       "2021-02-01 AHC210219C00002500               NaN          NaN   \n",
       "           AHC210521C00002500               NaN          NaN   \n",
       "           ARAY210219C00006000              NaN          NaN   \n",
       "           ARAY210319P00005000              NaN          NaN   \n",
       "           ARAY210618C00005000              NaN          NaN   \n",
       "...                                         ...          ...   \n",
       "2021-06-29 MARK210716C00003000              NaN          NaN   \n",
       "           MARK210716C00003500              NaN          NaN   \n",
       "           MARK210716P00001500              NaN          NaN   \n",
       "           MARK210820C00002500              NaN          NaN   \n",
       "           MARK210820C00004000              NaN          NaN   \n",
       "\n",
       "                                 option_expiration oc_hx_symbol  oc_hx_hi  \\\n",
       "oc_hx_date oc_hx_contract_symbol                                            \n",
       "2021-02-01 AHC210219C00002500                  NaN          AHC      0.42   \n",
       "           AHC210521C00002500                  NaN          AHC      0.65   \n",
       "           ARAY210219C00006000                 NaN         ARAY      0.10   \n",
       "           ARAY210319P00005000                 NaN         ARAY      0.50   \n",
       "           ARAY210618C00005000                 NaN         ARAY      0.85   \n",
       "...                                            ...          ...       ...   \n",
       "2021-06-29 MARK210716C00003000                 NaN         MARK      0.05   \n",
       "           MARK210716C00003500                 NaN         MARK      0.05   \n",
       "           MARK210716P00001500                 NaN         MARK      0.05   \n",
       "           MARK210820C00002500                 NaN         MARK      0.20   \n",
       "           MARK210820C00004000                 NaN         MARK      0.07   \n",
       "\n",
       "                                  oc_hx_lo  oc_hx_open  oc_hx_close  \\\n",
       "oc_hx_date oc_hx_contract_symbol                                      \n",
       "2021-02-01 AHC210219C00002500         0.30        0.40         0.30   \n",
       "           AHC210521C00002500         0.60        0.60         0.65   \n",
       "           ARAY210219C00006000        0.05        0.06         0.05   \n",
       "           ARAY210319P00005000        0.50        0.50         0.50   \n",
       "           ARAY210618C00005000        0.85        0.85         0.85   \n",
       "...                                    ...         ...          ...   \n",
       "2021-06-29 MARK210716C00003000        0.04        0.04         0.05   \n",
       "           MARK210716C00003500        0.05        0.05         0.05   \n",
       "           MARK210716P00001500        0.02        0.02         0.05   \n",
       "           MARK210820C00002500        0.20        0.20         0.20   \n",
       "           MARK210820C00004000        0.05        0.05         0.07   \n",
       "\n",
       "                                  oc_hx_volume s_hx_symbol  s_hx_hi  s_hx_lo  \\\n",
       "oc_hx_date oc_hx_contract_symbol                                               \n",
       "2021-02-01 AHC210219C00002500               18         AHC    8.760   8.4800   \n",
       "           AHC210521C00002500                3         AHC    8.760   8.4800   \n",
       "           ARAY210219C00006000              16        ARAY    5.050   4.8601   \n",
       "           ARAY210319P00005000               5        ARAY    5.050   4.8601   \n",
       "           ARAY210618C00005000               3        ARAY    5.050   4.8601   \n",
       "...                                        ...         ...      ...      ...   \n",
       "2021-06-29 MARK210716C00003000               0        MARK    1.995   1.8600   \n",
       "           MARK210716C00003500               0        MARK    1.995   1.8600   \n",
       "           MARK210716P00001500               0        MARK    1.995   1.8600   \n",
       "           MARK210820C00002500               0        MARK    1.995   1.8600   \n",
       "           MARK210820C00004000               0        MARK    1.995   1.8600   \n",
       "\n",
       "                                  s_hx_open  s_hx_close  s_hx_volume  \\\n",
       "oc_hx_date oc_hx_contract_symbol                                       \n",
       "2021-02-01 AHC210219C00002500          8.60        8.68      21416.0   \n",
       "           AHC210521C00002500          8.60        8.68      21416.0   \n",
       "           ARAY210219C00006000         5.02        4.93     932985.0   \n",
       "           ARAY210319P00005000         5.02        4.93     932985.0   \n",
       "           ARAY210618C00005000         5.02        4.93     932985.0   \n",
       "...                                     ...         ...          ...   \n",
       "2021-06-29 MARK210716C00003000         1.94        1.87    1082440.0   \n",
       "           MARK210716C00003500         1.94        1.87    1082440.0   \n",
       "           MARK210716P00001500         1.94        1.87    1082440.0   \n",
       "           MARK210820C00002500         1.94        1.87    1082440.0   \n",
       "           MARK210820C00004000         1.94        1.87    1082440.0   \n",
       "\n",
       "                                  s_hx_date symbol root  strike type  \n",
       "oc_hx_date oc_hx_contract_symbol                                      \n",
       "2021-02-01 AHC210219C00002500    2021-02-01    NaN  NaN     NaN  NaN  \n",
       "           AHC210521C00002500    2021-02-01    NaN  NaN     NaN  NaN  \n",
       "           ARAY210219C00006000   2021-02-01    NaN  NaN     NaN  NaN  \n",
       "           ARAY210319P00005000   2021-02-01    NaN  NaN     NaN  NaN  \n",
       "           ARAY210618C00005000   2021-02-01    NaN  NaN     NaN  NaN  \n",
       "...                                     ...    ...  ...     ...  ...  \n",
       "2021-06-29 MARK210716C00003000   2021-06-29    NaN  NaN     NaN  NaN  \n",
       "           MARK210716C00003500   2021-06-29    NaN  NaN     NaN  NaN  \n",
       "           MARK210716P00001500   2021-06-29    NaN  NaN     NaN  NaN  \n",
       "           MARK210820C00002500   2021-06-29    NaN  NaN     NaN  NaN  \n",
       "           MARK210820C00004000   2021-06-29    NaN  NaN     NaN  NaN  \n",
       "\n",
       "[146963 rows x 23 columns]"
      ]
     },
     "execution_count": 174,
     "metadata": {},
     "output_type": "execute_result"
    }
   ],
   "source": [
    "uniform_pred_thresh_entry(df,thresh=1.5,reduce=False)[0]"
   ]
  },
  {
   "cell_type": "code",
   "execution_count": 69,
   "metadata": {},
   "outputs": [
    {
     "name": "stdout",
     "output_type": "stream",
     "text": [
      "df:(4236, 23), entry_df:(104, 77)\n"
     ]
    }
   ],
   "source": [
    "df_reduced, entry_df = uniform_pred_thresh_entry(df,thresh=1.5,reduce=True)\n",
    "option_durations = df_reduced[['contract_symbol','option_expiration',\"strike\",\"type\"]].drop_duplicates().dropna().to_dict('records')\n",
    "# df_tmp = convert_to_wide(df_reduced,'oc_hx_open')\n",
    "# exp_exit_df = expiration_exit(entry_df)"
   ]
  },
  {
   "cell_type": "code",
   "execution_count": 46,
   "metadata": {},
   "outputs": [
    {
     "data": {
      "text/html": [
       "<div>\n",
       "<style scoped>\n",
       "    .dataframe tbody tr th:only-of-type {\n",
       "        vertical-align: middle;\n",
       "    }\n",
       "\n",
       "    .dataframe tbody tr th {\n",
       "        vertical-align: top;\n",
       "    }\n",
       "\n",
       "    .dataframe thead th {\n",
       "        text-align: right;\n",
       "    }\n",
       "</style>\n",
       "<table border=\"1\" class=\"dataframe\">\n",
       "  <thead>\n",
       "    <tr style=\"text-align: right;\">\n",
       "      <th></th>\n",
       "      <th></th>\n",
       "      <th>contract_symbol</th>\n",
       "      <th>y_pred</th>\n",
       "      <th>purch_date</th>\n",
       "      <th>purch_datetime</th>\n",
       "      <th>trade_price</th>\n",
       "      <th>option_expiration</th>\n",
       "      <th>oc_hx_symbol</th>\n",
       "      <th>oc_hx_hi</th>\n",
       "      <th>oc_hx_lo</th>\n",
       "      <th>oc_hx_open</th>\n",
       "      <th>oc_hx_close</th>\n",
       "      <th>oc_hx_volume</th>\n",
       "      <th>s_hx_symbol</th>\n",
       "      <th>s_hx_hi</th>\n",
       "      <th>s_hx_lo</th>\n",
       "      <th>s_hx_open</th>\n",
       "      <th>s_hx_close</th>\n",
       "      <th>s_hx_volume</th>\n",
       "      <th>s_hx_date</th>\n",
       "      <th>symbol</th>\n",
       "      <th>root</th>\n",
       "      <th>strike</th>\n",
       "      <th>type</th>\n",
       "    </tr>\n",
       "    <tr>\n",
       "      <th>oc_hx_date</th>\n",
       "      <th>oc_hx_contract_symbol</th>\n",
       "      <th></th>\n",
       "      <th></th>\n",
       "      <th></th>\n",
       "      <th></th>\n",
       "      <th></th>\n",
       "      <th></th>\n",
       "      <th></th>\n",
       "      <th></th>\n",
       "      <th></th>\n",
       "      <th></th>\n",
       "      <th></th>\n",
       "      <th></th>\n",
       "      <th></th>\n",
       "      <th></th>\n",
       "      <th></th>\n",
       "      <th></th>\n",
       "      <th></th>\n",
       "      <th></th>\n",
       "      <th></th>\n",
       "      <th></th>\n",
       "      <th></th>\n",
       "      <th></th>\n",
       "      <th></th>\n",
       "    </tr>\n",
       "  </thead>\n",
       "  <tbody>\n",
       "  </tbody>\n",
       "</table>\n",
       "</div>"
      ],
      "text/plain": [
       "Empty DataFrame\n",
       "Columns: [contract_symbol, y_pred, purch_date, purch_datetime, trade_price, option_expiration, oc_hx_symbol, oc_hx_hi, oc_hx_lo, oc_hx_open, oc_hx_close, oc_hx_volume, s_hx_symbol, s_hx_hi, s_hx_lo, s_hx_open, s_hx_close, s_hx_volume, s_hx_date, symbol, root, strike, type]\n",
       "Index: []"
      ]
     },
     "execution_count": 46,
     "metadata": {},
     "output_type": "execute_result"
    }
   ],
   "source": [
    "# df_reduced\n",
    "df_reduced.loc[idx['2021-07-19',:]]"
   ]
  },
  {
   "cell_type": "code",
   "execution_count": 44,
   "metadata": {},
   "outputs": [
    {
     "ename": "KeyError",
     "evalue": "'2021-07-16'",
     "output_type": "error",
     "traceback": [
      "\u001b[0;31m---------------------------------------------------------------------------\u001b[0m",
      "\u001b[0;31mKeyError\u001b[0m                                  Traceback (most recent call last)",
      "\u001b[0;32mpandas/_libs/index.pyx\u001b[0m in \u001b[0;36mpandas._libs.index.DatetimeEngine.get_loc\u001b[0;34m()\u001b[0m\n",
      "\u001b[0;32mpandas/_libs/hashtable_class_helper.pxi\u001b[0m in \u001b[0;36mpandas._libs.hashtable.Int64HashTable.get_item\u001b[0;34m()\u001b[0m\n",
      "\u001b[0;32mpandas/_libs/hashtable_class_helper.pxi\u001b[0m in \u001b[0;36mpandas._libs.hashtable.Int64HashTable.get_item\u001b[0;34m()\u001b[0m\n",
      "\u001b[0;31mKeyError\u001b[0m: 1626393600000000000",
      "\nDuring handling of the above exception, another exception occurred:\n",
      "\u001b[0;31mKeyError\u001b[0m                                  Traceback (most recent call last)",
      "\u001b[0;32m~/anaconda3/envs/fin/lib/python3.8/site-packages/pandas/core/indexes/base.py\u001b[0m in \u001b[0;36mget_loc\u001b[0;34m(self, key, method, tolerance)\u001b[0m\n\u001b[1;32m   2897\u001b[0m             \u001b[0;32mtry\u001b[0m\u001b[0;34m:\u001b[0m\u001b[0;34m\u001b[0m\u001b[0;34m\u001b[0m\u001b[0m\n\u001b[0;32m-> 2898\u001b[0;31m                 \u001b[0;32mreturn\u001b[0m \u001b[0mself\u001b[0m\u001b[0;34m.\u001b[0m\u001b[0m_engine\u001b[0m\u001b[0;34m.\u001b[0m\u001b[0mget_loc\u001b[0m\u001b[0;34m(\u001b[0m\u001b[0mcasted_key\u001b[0m\u001b[0;34m)\u001b[0m\u001b[0;34m\u001b[0m\u001b[0;34m\u001b[0m\u001b[0m\n\u001b[0m\u001b[1;32m   2899\u001b[0m             \u001b[0;32mexcept\u001b[0m \u001b[0mKeyError\u001b[0m \u001b[0;32mas\u001b[0m \u001b[0merr\u001b[0m\u001b[0;34m:\u001b[0m\u001b[0;34m\u001b[0m\u001b[0;34m\u001b[0m\u001b[0m\n",
      "\u001b[0;32mpandas/_libs/index.pyx\u001b[0m in \u001b[0;36mpandas._libs.index.DatetimeEngine.get_loc\u001b[0;34m()\u001b[0m\n",
      "\u001b[0;32mpandas/_libs/index.pyx\u001b[0m in \u001b[0;36mpandas._libs.index.DatetimeEngine.get_loc\u001b[0;34m()\u001b[0m\n",
      "\u001b[0;31mKeyError\u001b[0m: Timestamp('2021-07-16 00:00:00')",
      "\nThe above exception was the direct cause of the following exception:\n",
      "\u001b[0;31mKeyError\u001b[0m                                  Traceback (most recent call last)",
      "\u001b[0;32m~/anaconda3/envs/fin/lib/python3.8/site-packages/pandas/core/indexes/datetimes.py\u001b[0m in \u001b[0;36mget_loc\u001b[0;34m(self, key, method, tolerance)\u001b[0m\n\u001b[1;32m    624\u001b[0m         \u001b[0;32mtry\u001b[0m\u001b[0;34m:\u001b[0m\u001b[0;34m\u001b[0m\u001b[0;34m\u001b[0m\u001b[0m\n\u001b[0;32m--> 625\u001b[0;31m             \u001b[0;32mreturn\u001b[0m \u001b[0mIndex\u001b[0m\u001b[0;34m.\u001b[0m\u001b[0mget_loc\u001b[0m\u001b[0;34m(\u001b[0m\u001b[0mself\u001b[0m\u001b[0;34m,\u001b[0m \u001b[0mkey\u001b[0m\u001b[0;34m,\u001b[0m \u001b[0mmethod\u001b[0m\u001b[0;34m,\u001b[0m \u001b[0mtolerance\u001b[0m\u001b[0;34m)\u001b[0m\u001b[0;34m\u001b[0m\u001b[0;34m\u001b[0m\u001b[0m\n\u001b[0m\u001b[1;32m    626\u001b[0m         \u001b[0;32mexcept\u001b[0m \u001b[0mKeyError\u001b[0m \u001b[0;32mas\u001b[0m \u001b[0merr\u001b[0m\u001b[0;34m:\u001b[0m\u001b[0;34m\u001b[0m\u001b[0;34m\u001b[0m\u001b[0m\n",
      "\u001b[0;32m~/anaconda3/envs/fin/lib/python3.8/site-packages/pandas/core/indexes/base.py\u001b[0m in \u001b[0;36mget_loc\u001b[0;34m(self, key, method, tolerance)\u001b[0m\n\u001b[1;32m   2899\u001b[0m             \u001b[0;32mexcept\u001b[0m \u001b[0mKeyError\u001b[0m \u001b[0;32mas\u001b[0m \u001b[0merr\u001b[0m\u001b[0;34m:\u001b[0m\u001b[0;34m\u001b[0m\u001b[0;34m\u001b[0m\u001b[0m\n\u001b[0;32m-> 2900\u001b[0;31m                 \u001b[0;32mraise\u001b[0m \u001b[0mKeyError\u001b[0m\u001b[0;34m(\u001b[0m\u001b[0mkey\u001b[0m\u001b[0;34m)\u001b[0m \u001b[0;32mfrom\u001b[0m \u001b[0merr\u001b[0m\u001b[0;34m\u001b[0m\u001b[0;34m\u001b[0m\u001b[0m\n\u001b[0m\u001b[1;32m   2901\u001b[0m \u001b[0;34m\u001b[0m\u001b[0m\n",
      "\u001b[0;31mKeyError\u001b[0m: Timestamp('2021-07-16 00:00:00')",
      "\nThe above exception was the direct cause of the following exception:\n",
      "\u001b[0;31mKeyError\u001b[0m                                  Traceback (most recent call last)",
      "\u001b[0;32m<ipython-input-44-f1333acace2b>\u001b[0m in \u001b[0;36m<module>\u001b[0;34m\u001b[0m\n\u001b[0;32m----> 1\u001b[0;31m \u001b[0mconvert_to_wide\u001b[0m\u001b[0;34m(\u001b[0m\u001b[0mdf_reduced\u001b[0m\u001b[0;34m,\u001b[0m\u001b[0;34m'oc_hx_open'\u001b[0m\u001b[0;34m,\u001b[0m\u001b[0moption_durations\u001b[0m\u001b[0;34m)\u001b[0m\u001b[0;34m\u001b[0m\u001b[0;34m\u001b[0m\u001b[0m\n\u001b[0m",
      "\u001b[0;32m<ipython-input-32-9d6429d97633>\u001b[0m in \u001b[0;36mconvert_to_wide\u001b[0;34m(df, cols, option_durations, exp_price)\u001b[0m\n\u001b[1;32m      9\u001b[0m         \u001b[0;32mfor\u001b[0m \u001b[0moption_duration\u001b[0m \u001b[0;32min\u001b[0m \u001b[0moption_durations\u001b[0m\u001b[0;34m:\u001b[0m\u001b[0;34m\u001b[0m\u001b[0;34m\u001b[0m\u001b[0m\n\u001b[1;32m     10\u001b[0m             \u001b[0mdf_tmp\u001b[0m\u001b[0;34m.\u001b[0m\u001b[0mloc\u001b[0m\u001b[0;34m[\u001b[0m\u001b[0;34m:\u001b[0m\u001b[0moption_duration\u001b[0m\u001b[0;34m[\u001b[0m\u001b[0;34m'option_expiration'\u001b[0m\u001b[0;34m]\u001b[0m\u001b[0;34m,\u001b[0m\u001b[0moption_duration\u001b[0m\u001b[0;34m[\u001b[0m\u001b[0;34m'contract_symbol'\u001b[0m\u001b[0;34m]\u001b[0m\u001b[0;34m]\u001b[0m \u001b[0;34m=\u001b[0m \u001b[0mdf_tmp\u001b[0m\u001b[0;34m.\u001b[0m\u001b[0mloc\u001b[0m\u001b[0;34m[\u001b[0m\u001b[0;34m:\u001b[0m\u001b[0moption_duration\u001b[0m\u001b[0;34m[\u001b[0m\u001b[0;34m'option_expiration'\u001b[0m\u001b[0;34m]\u001b[0m\u001b[0;34m,\u001b[0m\u001b[0moption_duration\u001b[0m\u001b[0;34m[\u001b[0m\u001b[0;34m'contract_symbol'\u001b[0m\u001b[0;34m]\u001b[0m\u001b[0;34m]\u001b[0m\u001b[0;34m.\u001b[0m\u001b[0mffill\u001b[0m\u001b[0;34m(\u001b[0m\u001b[0;34m)\u001b[0m\u001b[0;34m\u001b[0m\u001b[0;34m\u001b[0m\u001b[0m\n\u001b[0;32m---> 11\u001b[0;31m             \u001b[0;32mif\u001b[0m \u001b[0mdf_tmp\u001b[0m\u001b[0;34m.\u001b[0m\u001b[0mloc\u001b[0m\u001b[0;34m[\u001b[0m\u001b[0moption_duration\u001b[0m\u001b[0;34m[\u001b[0m\u001b[0;34m'option_expiration'\u001b[0m\u001b[0;34m]\u001b[0m\u001b[0;34m,\u001b[0m\u001b[0moption_duration\u001b[0m\u001b[0;34m[\u001b[0m\u001b[0;34m'contract_symbol'\u001b[0m\u001b[0;34m]\u001b[0m\u001b[0;34m]\u001b[0m \u001b[0;34m==\u001b[0m \u001b[0;36m0.01\u001b[0m\u001b[0;34m:\u001b[0m\u001b[0;34m\u001b[0m\u001b[0;34m\u001b[0m\u001b[0m\n\u001b[0m\u001b[1;32m     12\u001b[0m                 \u001b[0mdf_tmp\u001b[0m\u001b[0;34m.\u001b[0m\u001b[0mloc\u001b[0m\u001b[0;34m[\u001b[0m\u001b[0moption_duration\u001b[0m\u001b[0;34m[\u001b[0m\u001b[0;34m'option_expiration'\u001b[0m\u001b[0;34m]\u001b[0m\u001b[0;34m,\u001b[0m\u001b[0moption_duration\u001b[0m\u001b[0;34m[\u001b[0m\u001b[0;34m'contract_symbol'\u001b[0m\u001b[0;34m]\u001b[0m\u001b[0;34m]\u001b[0m \u001b[0;34m=\u001b[0m \u001b[0mexp_price\u001b[0m\u001b[0;34m\u001b[0m\u001b[0;34m\u001b[0m\u001b[0m\n\u001b[1;32m     13\u001b[0m \u001b[0;34m\u001b[0m\u001b[0m\n",
      "\u001b[0;32m~/anaconda3/envs/fin/lib/python3.8/site-packages/pandas/core/indexing.py\u001b[0m in \u001b[0;36m__getitem__\u001b[0;34m(self, key)\u001b[0m\n\u001b[1;32m    871\u001b[0m                     \u001b[0;31m# AttributeError for IntervalTree get_value\u001b[0m\u001b[0;34m\u001b[0m\u001b[0;34m\u001b[0m\u001b[0;34m\u001b[0m\u001b[0m\n\u001b[1;32m    872\u001b[0m                     \u001b[0;32mpass\u001b[0m\u001b[0;34m\u001b[0m\u001b[0;34m\u001b[0m\u001b[0m\n\u001b[0;32m--> 873\u001b[0;31m             \u001b[0;32mreturn\u001b[0m \u001b[0mself\u001b[0m\u001b[0;34m.\u001b[0m\u001b[0m_getitem_tuple\u001b[0m\u001b[0;34m(\u001b[0m\u001b[0mkey\u001b[0m\u001b[0;34m)\u001b[0m\u001b[0;34m\u001b[0m\u001b[0;34m\u001b[0m\u001b[0m\n\u001b[0m\u001b[1;32m    874\u001b[0m         \u001b[0;32melse\u001b[0m\u001b[0;34m:\u001b[0m\u001b[0;34m\u001b[0m\u001b[0;34m\u001b[0m\u001b[0m\n\u001b[1;32m    875\u001b[0m             \u001b[0;31m# we by definition only have the 0th axis\u001b[0m\u001b[0;34m\u001b[0m\u001b[0;34m\u001b[0m\u001b[0;34m\u001b[0m\u001b[0m\n",
      "\u001b[0;32m~/anaconda3/envs/fin/lib/python3.8/site-packages/pandas/core/indexing.py\u001b[0m in \u001b[0;36m_getitem_tuple\u001b[0;34m(self, tup)\u001b[0m\n\u001b[1;32m   1042\u001b[0m     \u001b[0;32mdef\u001b[0m \u001b[0m_getitem_tuple\u001b[0m\u001b[0;34m(\u001b[0m\u001b[0mself\u001b[0m\u001b[0;34m,\u001b[0m \u001b[0mtup\u001b[0m\u001b[0;34m:\u001b[0m \u001b[0mTuple\u001b[0m\u001b[0;34m)\u001b[0m\u001b[0;34m:\u001b[0m\u001b[0;34m\u001b[0m\u001b[0;34m\u001b[0m\u001b[0m\n\u001b[1;32m   1043\u001b[0m         \u001b[0;32mtry\u001b[0m\u001b[0;34m:\u001b[0m\u001b[0;34m\u001b[0m\u001b[0;34m\u001b[0m\u001b[0m\n\u001b[0;32m-> 1044\u001b[0;31m             \u001b[0;32mreturn\u001b[0m \u001b[0mself\u001b[0m\u001b[0;34m.\u001b[0m\u001b[0m_getitem_lowerdim\u001b[0m\u001b[0;34m(\u001b[0m\u001b[0mtup\u001b[0m\u001b[0;34m)\u001b[0m\u001b[0;34m\u001b[0m\u001b[0;34m\u001b[0m\u001b[0m\n\u001b[0m\u001b[1;32m   1045\u001b[0m         \u001b[0;32mexcept\u001b[0m \u001b[0mIndexingError\u001b[0m\u001b[0;34m:\u001b[0m\u001b[0;34m\u001b[0m\u001b[0;34m\u001b[0m\u001b[0m\n\u001b[1;32m   1046\u001b[0m             \u001b[0;32mpass\u001b[0m\u001b[0;34m\u001b[0m\u001b[0;34m\u001b[0m\u001b[0m\n",
      "\u001b[0;32m~/anaconda3/envs/fin/lib/python3.8/site-packages/pandas/core/indexing.py\u001b[0m in \u001b[0;36m_getitem_lowerdim\u001b[0;34m(self, tup)\u001b[0m\n\u001b[1;32m    784\u001b[0m                 \u001b[0;31m# We don't need to check for tuples here because those are\u001b[0m\u001b[0;34m\u001b[0m\u001b[0;34m\u001b[0m\u001b[0;34m\u001b[0m\u001b[0m\n\u001b[1;32m    785\u001b[0m                 \u001b[0;31m#  caught by the _is_nested_tuple_indexer check above.\u001b[0m\u001b[0;34m\u001b[0m\u001b[0;34m\u001b[0m\u001b[0;34m\u001b[0m\u001b[0m\n\u001b[0;32m--> 786\u001b[0;31m                 \u001b[0msection\u001b[0m \u001b[0;34m=\u001b[0m \u001b[0mself\u001b[0m\u001b[0;34m.\u001b[0m\u001b[0m_getitem_axis\u001b[0m\u001b[0;34m(\u001b[0m\u001b[0mkey\u001b[0m\u001b[0;34m,\u001b[0m \u001b[0maxis\u001b[0m\u001b[0;34m=\u001b[0m\u001b[0mi\u001b[0m\u001b[0;34m)\u001b[0m\u001b[0;34m\u001b[0m\u001b[0;34m\u001b[0m\u001b[0m\n\u001b[0m\u001b[1;32m    787\u001b[0m \u001b[0;34m\u001b[0m\u001b[0m\n\u001b[1;32m    788\u001b[0m                 \u001b[0;31m# We should never have a scalar section here, because\u001b[0m\u001b[0;34m\u001b[0m\u001b[0;34m\u001b[0m\u001b[0;34m\u001b[0m\u001b[0m\n",
      "\u001b[0;32m~/anaconda3/envs/fin/lib/python3.8/site-packages/pandas/core/indexing.py\u001b[0m in \u001b[0;36m_getitem_axis\u001b[0;34m(self, key, axis)\u001b[0m\n\u001b[1;32m   1108\u001b[0m         \u001b[0;31m# fall thru to straight lookup\u001b[0m\u001b[0;34m\u001b[0m\u001b[0;34m\u001b[0m\u001b[0;34m\u001b[0m\u001b[0m\n\u001b[1;32m   1109\u001b[0m         \u001b[0mself\u001b[0m\u001b[0;34m.\u001b[0m\u001b[0m_validate_key\u001b[0m\u001b[0;34m(\u001b[0m\u001b[0mkey\u001b[0m\u001b[0;34m,\u001b[0m \u001b[0maxis\u001b[0m\u001b[0;34m)\u001b[0m\u001b[0;34m\u001b[0m\u001b[0;34m\u001b[0m\u001b[0m\n\u001b[0;32m-> 1110\u001b[0;31m         \u001b[0;32mreturn\u001b[0m \u001b[0mself\u001b[0m\u001b[0;34m.\u001b[0m\u001b[0m_get_label\u001b[0m\u001b[0;34m(\u001b[0m\u001b[0mkey\u001b[0m\u001b[0;34m,\u001b[0m \u001b[0maxis\u001b[0m\u001b[0;34m=\u001b[0m\u001b[0maxis\u001b[0m\u001b[0;34m)\u001b[0m\u001b[0;34m\u001b[0m\u001b[0;34m\u001b[0m\u001b[0m\n\u001b[0m\u001b[1;32m   1111\u001b[0m \u001b[0;34m\u001b[0m\u001b[0m\n\u001b[1;32m   1112\u001b[0m     \u001b[0;32mdef\u001b[0m \u001b[0m_get_slice_axis\u001b[0m\u001b[0;34m(\u001b[0m\u001b[0mself\u001b[0m\u001b[0;34m,\u001b[0m \u001b[0mslice_obj\u001b[0m\u001b[0;34m:\u001b[0m \u001b[0mslice\u001b[0m\u001b[0;34m,\u001b[0m \u001b[0maxis\u001b[0m\u001b[0;34m:\u001b[0m \u001b[0mint\u001b[0m\u001b[0;34m)\u001b[0m\u001b[0;34m:\u001b[0m\u001b[0;34m\u001b[0m\u001b[0;34m\u001b[0m\u001b[0m\n",
      "\u001b[0;32m~/anaconda3/envs/fin/lib/python3.8/site-packages/pandas/core/indexing.py\u001b[0m in \u001b[0;36m_get_label\u001b[0;34m(self, label, axis)\u001b[0m\n\u001b[1;32m   1057\u001b[0m     \u001b[0;32mdef\u001b[0m \u001b[0m_get_label\u001b[0m\u001b[0;34m(\u001b[0m\u001b[0mself\u001b[0m\u001b[0;34m,\u001b[0m \u001b[0mlabel\u001b[0m\u001b[0;34m,\u001b[0m \u001b[0maxis\u001b[0m\u001b[0;34m:\u001b[0m \u001b[0mint\u001b[0m\u001b[0;34m)\u001b[0m\u001b[0;34m:\u001b[0m\u001b[0;34m\u001b[0m\u001b[0;34m\u001b[0m\u001b[0m\n\u001b[1;32m   1058\u001b[0m         \u001b[0;31m# GH#5667 this will fail if the label is not present in the axis.\u001b[0m\u001b[0;34m\u001b[0m\u001b[0;34m\u001b[0m\u001b[0;34m\u001b[0m\u001b[0m\n\u001b[0;32m-> 1059\u001b[0;31m         \u001b[0;32mreturn\u001b[0m \u001b[0mself\u001b[0m\u001b[0;34m.\u001b[0m\u001b[0mobj\u001b[0m\u001b[0;34m.\u001b[0m\u001b[0mxs\u001b[0m\u001b[0;34m(\u001b[0m\u001b[0mlabel\u001b[0m\u001b[0;34m,\u001b[0m \u001b[0maxis\u001b[0m\u001b[0;34m=\u001b[0m\u001b[0maxis\u001b[0m\u001b[0;34m)\u001b[0m\u001b[0;34m\u001b[0m\u001b[0;34m\u001b[0m\u001b[0m\n\u001b[0m\u001b[1;32m   1060\u001b[0m \u001b[0;34m\u001b[0m\u001b[0m\n\u001b[1;32m   1061\u001b[0m     \u001b[0;32mdef\u001b[0m \u001b[0m_handle_lowerdim_multi_index_axis0\u001b[0m\u001b[0;34m(\u001b[0m\u001b[0mself\u001b[0m\u001b[0;34m,\u001b[0m \u001b[0mtup\u001b[0m\u001b[0;34m:\u001b[0m \u001b[0mTuple\u001b[0m\u001b[0;34m)\u001b[0m\u001b[0;34m:\u001b[0m\u001b[0;34m\u001b[0m\u001b[0;34m\u001b[0m\u001b[0m\n",
      "\u001b[0;32m~/anaconda3/envs/fin/lib/python3.8/site-packages/pandas/core/generic.py\u001b[0m in \u001b[0;36mxs\u001b[0;34m(self, key, axis, level, drop_level)\u001b[0m\n\u001b[1;32m   3491\u001b[0m             \u001b[0mloc\u001b[0m\u001b[0;34m,\u001b[0m \u001b[0mnew_index\u001b[0m \u001b[0;34m=\u001b[0m \u001b[0mself\u001b[0m\u001b[0;34m.\u001b[0m\u001b[0mindex\u001b[0m\u001b[0;34m.\u001b[0m\u001b[0mget_loc_level\u001b[0m\u001b[0;34m(\u001b[0m\u001b[0mkey\u001b[0m\u001b[0;34m,\u001b[0m \u001b[0mdrop_level\u001b[0m\u001b[0;34m=\u001b[0m\u001b[0mdrop_level\u001b[0m\u001b[0;34m)\u001b[0m\u001b[0;34m\u001b[0m\u001b[0;34m\u001b[0m\u001b[0m\n\u001b[1;32m   3492\u001b[0m         \u001b[0;32melse\u001b[0m\u001b[0;34m:\u001b[0m\u001b[0;34m\u001b[0m\u001b[0;34m\u001b[0m\u001b[0m\n\u001b[0;32m-> 3493\u001b[0;31m             \u001b[0mloc\u001b[0m \u001b[0;34m=\u001b[0m \u001b[0mself\u001b[0m\u001b[0;34m.\u001b[0m\u001b[0mindex\u001b[0m\u001b[0;34m.\u001b[0m\u001b[0mget_loc\u001b[0m\u001b[0;34m(\u001b[0m\u001b[0mkey\u001b[0m\u001b[0;34m)\u001b[0m\u001b[0;34m\u001b[0m\u001b[0;34m\u001b[0m\u001b[0m\n\u001b[0m\u001b[1;32m   3494\u001b[0m \u001b[0;34m\u001b[0m\u001b[0m\n\u001b[1;32m   3495\u001b[0m             \u001b[0;32mif\u001b[0m \u001b[0misinstance\u001b[0m\u001b[0;34m(\u001b[0m\u001b[0mloc\u001b[0m\u001b[0;34m,\u001b[0m \u001b[0mnp\u001b[0m\u001b[0;34m.\u001b[0m\u001b[0mndarray\u001b[0m\u001b[0;34m)\u001b[0m\u001b[0;34m:\u001b[0m\u001b[0;34m\u001b[0m\u001b[0;34m\u001b[0m\u001b[0m\n",
      "\u001b[0;32m~/anaconda3/envs/fin/lib/python3.8/site-packages/pandas/core/indexes/datetimes.py\u001b[0m in \u001b[0;36mget_loc\u001b[0;34m(self, key, method, tolerance)\u001b[0m\n\u001b[1;32m    625\u001b[0m             \u001b[0;32mreturn\u001b[0m \u001b[0mIndex\u001b[0m\u001b[0;34m.\u001b[0m\u001b[0mget_loc\u001b[0m\u001b[0;34m(\u001b[0m\u001b[0mself\u001b[0m\u001b[0;34m,\u001b[0m \u001b[0mkey\u001b[0m\u001b[0;34m,\u001b[0m \u001b[0mmethod\u001b[0m\u001b[0;34m,\u001b[0m \u001b[0mtolerance\u001b[0m\u001b[0;34m)\u001b[0m\u001b[0;34m\u001b[0m\u001b[0;34m\u001b[0m\u001b[0m\n\u001b[1;32m    626\u001b[0m         \u001b[0;32mexcept\u001b[0m \u001b[0mKeyError\u001b[0m \u001b[0;32mas\u001b[0m \u001b[0merr\u001b[0m\u001b[0;34m:\u001b[0m\u001b[0;34m\u001b[0m\u001b[0;34m\u001b[0m\u001b[0m\n\u001b[0;32m--> 627\u001b[0;31m             \u001b[0;32mraise\u001b[0m \u001b[0mKeyError\u001b[0m\u001b[0;34m(\u001b[0m\u001b[0morig_key\u001b[0m\u001b[0;34m)\u001b[0m \u001b[0;32mfrom\u001b[0m \u001b[0merr\u001b[0m\u001b[0;34m\u001b[0m\u001b[0;34m\u001b[0m\u001b[0m\n\u001b[0m\u001b[1;32m    628\u001b[0m \u001b[0;34m\u001b[0m\u001b[0m\n\u001b[1;32m    629\u001b[0m     \u001b[0;32mdef\u001b[0m \u001b[0m_maybe_cast_for_get_loc\u001b[0m\u001b[0;34m(\u001b[0m\u001b[0mself\u001b[0m\u001b[0;34m,\u001b[0m \u001b[0mkey\u001b[0m\u001b[0;34m)\u001b[0m \u001b[0;34m->\u001b[0m \u001b[0mTimestamp\u001b[0m\u001b[0;34m:\u001b[0m\u001b[0;34m\u001b[0m\u001b[0;34m\u001b[0m\u001b[0m\n",
      "\u001b[0;31mKeyError\u001b[0m: '2021-07-16'"
     ]
    }
   ],
   "source": [
    "convert_to_wide(df_reduced,'oc_hx_open',option_durations)"
   ]
  },
  {
   "cell_type": "code",
   "execution_count": 52,
   "metadata": {},
   "outputs": [],
   "source": [
    "def pct_inc_exit(df_tmp,entry_df,thresh=1):\n",
    "    entry_price_df = (entry_df*df_tmp).replace(0,np.nan).ffill()\n",
    "    pct_inc_df = (df_tmp - entry_price_df) / entry_price_df\n",
    "    \n",
    "    "
   ]
  },
  {
   "cell_type": "code",
   "execution_count": 190,
   "metadata": {},
   "outputs": [],
   "source": [
    "def pct_inc_exit(df_tmp,entry_df,thresh=1):\n",
    "    pct_exit_df = entry_df.copy()\n",
    "    pct_exit_df.iloc[:,:] = False\n",
    "    \n",
    "    entry_price_df = (entry_df*df_tmp).replace(0,np.nan).ffill()\n",
    "    pct_inc_df = (df_tmp - entry_price_df) / entry_price_df\n",
    "    \n",
    "    r,c = np.where(pct_inc_df>thresh)\n",
    "    b = pd.DataFrame(np.column_stack((pct_inc_df.index[r],pct_inc_df.columns[c],pct_inc_df.values[r,c])))\n",
    "    b[0] = pd.to_datetime(b[0])\n",
    "    b = b.drop_duplicates(subset=[1],keep='first')\n",
    "    \n",
    "    for k,v in b.set_index(1)[0].to_dict().items():\n",
    "        pct_exit_df.loc[v,k] = True\n",
    "    return pct_exit_df"
   ]
  },
  {
   "cell_type": "code",
   "execution_count": 191,
   "metadata": {},
   "outputs": [],
   "source": [
    "pct_exit_df = pct_inc_exit(df_tmp,entry_df,thresh=0.5)"
   ]
  },
  {
   "cell_type": "markdown",
   "metadata": {},
   "source": [
    "**DO THIS** \n",
    "\n",
    "Work on setting up the exit stat where you exit everything when the value is gt X pct. should probably look into documentation since there were rolling window type things like this. i think he structured his frames completely differently, including all relevant info within the df_tmp itself to dynamically change on the fly instead of hardcoding the exit prior to running"
   ]
  },
  {
   "cell_type": "code",
   "execution_count": 192,
   "metadata": {},
   "outputs": [
    {
     "data": {
      "text/html": [
       "<div>\n",
       "<style scoped>\n",
       "    .dataframe tbody tr th:only-of-type {\n",
       "        vertical-align: middle;\n",
       "    }\n",
       "\n",
       "    .dataframe tbody tr th {\n",
       "        vertical-align: top;\n",
       "    }\n",
       "\n",
       "    .dataframe thead tr th {\n",
       "        text-align: left;\n",
       "    }\n",
       "\n",
       "    .dataframe thead tr:last-of-type th {\n",
       "        text-align: right;\n",
       "    }\n",
       "</style>\n",
       "<table border=\"1\" class=\"dataframe\">\n",
       "  <thead>\n",
       "    <tr>\n",
       "      <th>symbol</th>\n",
       "      <th>MVIS</th>\n",
       "    </tr>\n",
       "    <tr>\n",
       "      <th>option_expiration</th>\n",
       "      <th>2021-02-19</th>\n",
       "    </tr>\n",
       "    <tr>\n",
       "      <th>option_type</th>\n",
       "      <th>CALL</th>\n",
       "    </tr>\n",
       "    <tr>\n",
       "      <th>oc_hx_contract_symbol</th>\n",
       "      <th>MVIS210219C00016000</th>\n",
       "    </tr>\n",
       "    <tr>\n",
       "      <th>oc_hx_date</th>\n",
       "      <th></th>\n",
       "    </tr>\n",
       "  </thead>\n",
       "  <tbody>\n",
       "    <tr>\n",
       "      <th>2021-02-08</th>\n",
       "      <td>True</td>\n",
       "    </tr>\n",
       "  </tbody>\n",
       "</table>\n",
       "</div>"
      ],
      "text/plain": [
       "symbol                               MVIS\n",
       "option_expiration              2021-02-19\n",
       "option_type                          CALL\n",
       "oc_hx_contract_symbol MVIS210219C00016000\n",
       "oc_hx_date                               \n",
       "2021-02-08                           True"
      ]
     },
     "execution_count": 192,
     "metadata": {},
     "output_type": "execute_result"
    }
   ],
   "source": [
    "cs = 'MVIS210219C00016000'\n",
    "# entry_price_df.loc[:,idx[:,:,:,cs]].dropna()\n",
    "# df_tmp.loc[:,idx[:,:,:,cs]].dropna()\n",
    "# pct_inc_df.loc[:,idx[:,:,:,cs]].dropna()\n",
    "pct_exit_df.loc[:,idx[:,:,:,cs]].replace({False:np.nan}).dropna()"
   ]
  },
  {
   "cell_type": "markdown",
   "metadata": {},
   "source": [
    "### Setup wide data for vectorbt\n",
    "\n",
    "One column per option_contract series"
   ]
  },
  {
   "cell_type": "code",
   "execution_count": 43,
   "metadata": {
    "scrolled": true
   },
   "outputs": [],
   "source": [
    "# exp_exit_df = entry_df.copy()\n",
    "# exp_exit_df.iloc[:,:] = False\n",
    "\n",
    "# entry_exit_df = df.dropna(subset=['contract_symbol'])\n",
    "# entry_exit_df[['option_expiration','symbol','root','strike','type']] = entry_exit_df.apply(parse_contract_symbol,axis=1,result_type=\"expand\")\n",
    "# entry_exit_df = entry_exit_df[['contract_symbol','option_expiration','purch_date']].drop_duplicates()\n",
    "# exits = entry_exit_df[['contract_symbol','option_expiration']].drop_duplicates().to_dict('records')\n",
    "\n",
    "# for exit in exits:\n",
    "#     exp_exit_df.loc[exit['option_expiration'],exit['contract_symbol']] = True"
   ]
  },
  {
   "cell_type": "markdown",
   "metadata": {},
   "source": [
    "### Create multiple random exits\n",
    "\n",
    "Compare random exits to the exiting at expiration"
   ]
  },
  {
   "cell_type": "code",
   "execution_count": 193,
   "metadata": {},
   "outputs": [],
   "source": [
    "exit_df = exp_exit_df.copy()\n",
    "exit_df.columns = df_tmp.columns\n",
    "entry_df.columns = df_tmp.columns\n",
    "\n",
    "rand_exit_types = [f'rand_{i}' for i in range(10)]\n",
    "rand_exit_dfs = {}\n",
    "for rand_exit_type in rand_exit_types:\n",
    "    rand_exit_df = vbt.IRPROBEX.run(\n",
    "        entry_df, \n",
    "        df_tmp,\n",
    "    ).exits\n",
    "    rand_exit_df.columns = entry_df.columns\n",
    "    rand_exit_dfs[rand_exit_type] = rand_exit_df\n",
    "\n",
    "# for r in rand_exit_types:\n",
    "#     print(f\"rand_exit_dfs['{r}'],\")\n",
    "    \n",
    "exit_types = rand_exit_types + ['expiration'] + ['pct_inc']\n",
    "all_exit_df = pd.DataFrame.vbt.concat(\n",
    "    rand_exit_dfs['rand_0'],\n",
    "    rand_exit_dfs['rand_1'],\n",
    "    rand_exit_dfs['rand_2'],\n",
    "    rand_exit_dfs['rand_3'],\n",
    "    rand_exit_dfs['rand_4'],\n",
    "    rand_exit_dfs['rand_5'],\n",
    "    rand_exit_dfs['rand_6'],\n",
    "    rand_exit_dfs['rand_7'],\n",
    "    rand_exit_dfs['rand_8'],\n",
    "    rand_exit_dfs['rand_9'],\n",
    "    exp_exit_df,\n",
    "    pct_exit_df,\n",
    "    keys=pd.Index(exit_types, name='exit_type')\n",
    ")"
   ]
  },
  {
   "cell_type": "code",
   "execution_count": 194,
   "metadata": {},
   "outputs": [],
   "source": [
    "assert df_tmp.shape == entry_df.shape == exp_exit_df.shape\n",
    "# assert df_tmp.columns == entry_df.columns == exp_exit_df.columns"
   ]
  },
  {
   "cell_type": "markdown",
   "metadata": {},
   "source": [
    "### Show trades\n",
    "\n",
    "This is excellent! Potentially figure out how to add this to a dashboard with a selector. \n",
    "\n",
    "Inspiration also here: https://nbviewer.jupyter.org/github/polakowo/vectorbt/blob/master/examples/PortfolioOptimization.ipynb Looks like there could be a much better way of indexing these.\n",
    "\n",
    "\n",
    "### Dashboard inspiration\n",
    "Probably will need to create a dashboard using dash components: https://github.com/facultyai/dash-bootstrap-components like this: https://github.com/polakowo/vectorbt/tree/master/apps/candlestick-patterns.\n",
    "\n",
    "Example here: https://candlestick-patterns.herokuapp.com/"
   ]
  },
  {
   "cell_type": "code",
   "execution_count": 196,
   "metadata": {},
   "outputs": [
    {
     "data": {
      "application/vnd.plotly.v1+json": {
       "config": {
        "plotlyServerURL": "https://plot.ly"
       },
       "data": [
        {
         "name": "('XL', '2021-05-21', 'CALL', 'XL210521C00020000')",
         "showlegend": true,
         "type": "scatter",
         "uid": "099c76e1-c1c1-4b5e-ab1b-d3e8fbeec86e",
         "x": [
          "2021-01-04T00:00:00",
          "2021-01-05T00:00:00",
          "2021-01-06T00:00:00",
          "2021-01-07T00:00:00",
          "2021-01-08T00:00:00",
          "2021-01-11T00:00:00",
          "2021-01-12T00:00:00",
          "2021-01-13T00:00:00",
          "2021-01-14T00:00:00",
          "2021-01-15T00:00:00",
          "2021-01-19T00:00:00",
          "2021-01-20T00:00:00",
          "2021-01-21T00:00:00",
          "2021-01-22T00:00:00",
          "2021-01-25T00:00:00",
          "2021-01-26T00:00:00",
          "2021-01-27T00:00:00",
          "2021-01-28T00:00:00",
          "2021-01-29T00:00:00",
          "2021-02-01T00:00:00",
          "2021-02-02T00:00:00",
          "2021-02-03T00:00:00",
          "2021-02-04T00:00:00",
          "2021-02-05T00:00:00",
          "2021-02-08T00:00:00",
          "2021-02-09T00:00:00",
          "2021-02-10T00:00:00",
          "2021-02-11T00:00:00",
          "2021-02-12T00:00:00",
          "2021-02-16T00:00:00",
          "2021-02-17T00:00:00",
          "2021-02-18T00:00:00",
          "2021-02-19T00:00:00",
          "2021-02-22T00:00:00",
          "2021-02-23T00:00:00",
          "2021-02-24T00:00:00",
          "2021-02-25T00:00:00",
          "2021-02-26T00:00:00",
          "2021-03-01T00:00:00",
          "2021-03-02T00:00:00",
          "2021-03-03T00:00:00",
          "2021-03-04T00:00:00",
          "2021-03-05T00:00:00",
          "2021-03-08T00:00:00",
          "2021-03-09T00:00:00",
          "2021-03-10T00:00:00",
          "2021-03-11T00:00:00",
          "2021-03-12T00:00:00",
          "2021-03-15T00:00:00",
          "2021-03-16T00:00:00",
          "2021-03-17T00:00:00",
          "2021-03-18T00:00:00",
          "2021-03-19T00:00:00",
          "2021-03-22T00:00:00",
          "2021-03-23T00:00:00",
          "2021-03-24T00:00:00",
          "2021-03-25T00:00:00",
          "2021-03-26T00:00:00",
          "2021-03-29T00:00:00",
          "2021-03-30T00:00:00",
          "2021-03-31T00:00:00",
          "2021-04-01T00:00:00",
          "2021-04-05T00:00:00",
          "2021-04-06T00:00:00",
          "2021-04-07T00:00:00",
          "2021-04-08T00:00:00",
          "2021-04-09T00:00:00",
          "2021-04-12T00:00:00",
          "2021-04-13T00:00:00",
          "2021-04-14T00:00:00",
          "2021-04-15T00:00:00",
          "2021-04-16T00:00:00",
          "2021-04-19T00:00:00",
          "2021-04-20T00:00:00",
          "2021-04-21T00:00:00",
          "2021-04-22T00:00:00",
          "2021-04-23T00:00:00",
          "2021-04-26T00:00:00",
          "2021-04-27T00:00:00",
          "2021-04-28T00:00:00",
          "2021-04-29T00:00:00",
          "2021-04-30T00:00:00",
          "2021-05-03T00:00:00",
          "2021-05-04T00:00:00",
          "2021-05-05T00:00:00",
          "2021-05-06T00:00:00",
          "2021-05-07T00:00:00",
          "2021-05-10T00:00:00",
          "2021-05-11T00:00:00",
          "2021-05-12T00:00:00",
          "2021-05-13T00:00:00",
          "2021-05-14T00:00:00",
          "2021-05-17T00:00:00",
          "2021-05-18T00:00:00",
          "2021-05-19T00:00:00",
          "2021-05-20T00:00:00",
          "2021-05-21T00:00:00"
         ],
         "y": [
          7.6,
          5.7,
          6.5,
          6,
          6.59,
          5.99,
          6.1,
          5.9,
          6.9,
          6.6,
          6,
          5.3,
          4.9,
          5.7,
          5.9,
          6.06,
          5.78,
          5.6,
          5.7,
          5.02,
          6.55,
          6.3,
          6.6,
          6.3,
          6,
          6,
          6.7,
          6.3,
          5.8,
          6.41,
          5.8,
          5.65,
          4.6,
          3.7,
          2.6,
          2.25,
          2.65,
          2.1,
          2.38,
          2.45,
          2.95,
          1.25,
          1.25,
          1,
          0.9,
          1.25,
          1.25,
          1.25,
          1.45,
          1.4,
          1.15,
          1.15,
          0.9,
          0.8,
          0.5,
          0.4,
          0.25,
          0.3,
          0.25,
          0.2,
          0.16,
          0.15,
          0.15,
          0.09,
          0.2,
          0.25,
          0.35,
          0.15,
          0.1,
          0.15,
          0.08,
          0.05,
          0.05,
          0.03,
          0.05,
          0.05,
          0.05,
          0.03,
          0.05,
          0.01,
          0.01,
          0.05,
          0.01,
          0.01,
          0.01,
          0.05,
          0.04,
          0.04,
          0.02,
          0.02,
          0.03,
          0.03,
          0.03,
          0.03,
          0.03,
          0.03,
          0.02
         ]
        },
        {
         "marker": {
          "color": "#37B13F",
          "line": {
           "color": "rgb(38,123,44)",
           "width": 1
          },
          "size": 8,
          "symbol": "triangle-up"
         },
         "mode": "markers",
         "name": "Entry",
         "showlegend": true,
         "type": "scatter",
         "uid": "b094a2a7-c90b-4405-8708-1cd55c8a4809",
         "x": [
          "2021-03-23T00:00:00",
          "2021-03-24T00:00:00",
          "2021-03-25T00:00:00"
         ],
         "y": [
          0.5,
          0.4,
          0.25
         ]
        },
        {
         "marker": {
          "color": "#EA4335",
          "line": {
           "color": "rgb(181,31,18)",
           "width": 1
          },
          "size": 8,
          "symbol": "triangle-down"
         },
         "mode": "markers",
         "name": "Exit",
         "showlegend": true,
         "type": "scatter",
         "uid": "5784f44c-4492-47a8-8e2a-53618db07f83",
         "x": [
          "2021-05-21T00:00:00"
         ],
         "y": [
          0.02
         ]
        },
        {
         "name": "('NKLA', '2021-03-19', 'CALL', 'NKLA210319C00035000')",
         "showlegend": true,
         "type": "scatter",
         "uid": "ddd00c2b-8916-4374-9d00-af43b8b40ad1",
         "x": [
          "2021-01-14T00:00:00",
          "2021-01-15T00:00:00",
          "2021-01-19T00:00:00",
          "2021-01-20T00:00:00",
          "2021-01-21T00:00:00",
          "2021-01-22T00:00:00",
          "2021-01-25T00:00:00",
          "2021-01-26T00:00:00",
          "2021-01-27T00:00:00",
          "2021-01-28T00:00:00",
          "2021-01-29T00:00:00",
          "2021-02-01T00:00:00",
          "2021-02-02T00:00:00",
          "2021-02-03T00:00:00",
          "2021-02-04T00:00:00",
          "2021-02-05T00:00:00",
          "2021-02-08T00:00:00",
          "2021-02-09T00:00:00",
          "2021-02-10T00:00:00",
          "2021-02-11T00:00:00",
          "2021-02-12T00:00:00",
          "2021-02-16T00:00:00",
          "2021-02-17T00:00:00",
          "2021-02-18T00:00:00",
          "2021-02-19T00:00:00",
          "2021-02-22T00:00:00",
          "2021-02-23T00:00:00",
          "2021-02-24T00:00:00",
          "2021-02-25T00:00:00",
          "2021-02-26T00:00:00",
          "2021-03-01T00:00:00",
          "2021-03-02T00:00:00",
          "2021-03-03T00:00:00",
          "2021-03-04T00:00:00",
          "2021-03-05T00:00:00",
          "2021-03-08T00:00:00",
          "2021-03-09T00:00:00",
          "2021-03-10T00:00:00",
          "2021-03-11T00:00:00",
          "2021-03-12T00:00:00",
          "2021-03-15T00:00:00",
          "2021-03-16T00:00:00",
          "2021-03-17T00:00:00",
          "2021-03-18T00:00:00",
          "2021-03-19T00:00:00"
         ],
         "y": [
          1,
          1.11,
          0.68,
          0.43,
          0.51,
          0.55,
          0.62,
          1.08,
          2.53,
          3.75,
          2.56,
          2.24,
          1.85,
          1.31,
          1.6,
          1.77,
          1.4,
          1.04,
          1.1,
          1.05,
          0.74,
          0.73,
          0.55,
          0.38,
          0.39,
          0.27,
          0.15,
          0.23,
          0.27,
          0.15,
          0.17,
          0.06,
          0.05,
          0.06,
          0.03,
          0.01,
          0.03,
          0.04,
          0.02,
          0.02,
          0.01,
          0.04,
          0.04,
          0.02,
          1e-05
         ]
        },
        {
         "marker": {
          "color": "#37B13F",
          "line": {
           "color": "rgb(38,123,44)",
           "width": 1
          },
          "size": 8,
          "symbol": "triangle-up"
         },
         "mode": "markers",
         "name": "Entry",
         "showlegend": true,
         "type": "scatter",
         "uid": "cbf76019-cbe1-4910-ae9d-97097411467a",
         "x": [
          "2021-02-18T00:00:00"
         ],
         "y": [
          0.38
         ]
        },
        {
         "marker": {
          "color": "#EA4335",
          "line": {
           "color": "rgb(181,31,18)",
           "width": 1
          },
          "size": 8,
          "symbol": "triangle-down"
         },
         "mode": "markers",
         "name": "Exit",
         "showlegend": true,
         "type": "scatter",
         "uid": "87926534-86c4-42f6-ad28-3da5fcf8e48d",
         "x": [
          "2021-03-19T00:00:00"
         ],
         "y": [
          1e-05
         ]
        }
       ],
       "layout": {
        "height": 350,
        "legend": {
         "orientation": "h",
         "traceorder": "normal",
         "x": 1,
         "xanchor": "right",
         "y": 1.02,
         "yanchor": "bottom"
        },
        "margin": {
         "b": 30,
         "l": 30,
         "r": 30,
         "t": 30
        },
        "template": {
         "data": {
          "bar": [
           {
            "error_x": {
             "color": "#2a3f5f"
            },
            "error_y": {
             "color": "#2a3f5f"
            },
            "marker": {
             "line": {
              "color": "#E5ECF6",
              "width": 0.5
             }
            },
            "type": "bar"
           }
          ],
          "barpolar": [
           {
            "marker": {
             "line": {
              "color": "#E5ECF6",
              "width": 0.5
             }
            },
            "type": "barpolar"
           }
          ],
          "carpet": [
           {
            "aaxis": {
             "endlinecolor": "#2a3f5f",
             "gridcolor": "white",
             "linecolor": "white",
             "minorgridcolor": "white",
             "startlinecolor": "#2a3f5f"
            },
            "baxis": {
             "endlinecolor": "#2a3f5f",
             "gridcolor": "white",
             "linecolor": "white",
             "minorgridcolor": "white",
             "startlinecolor": "#2a3f5f"
            },
            "type": "carpet"
           }
          ],
          "choropleth": [
           {
            "colorbar": {
             "outlinewidth": 0,
             "ticks": ""
            },
            "type": "choropleth"
           }
          ],
          "contour": [
           {
            "colorbar": {
             "outlinewidth": 0,
             "ticks": ""
            },
            "colorscale": [
             [
              0,
              "#0d0887"
             ],
             [
              0.1111111111111111,
              "#46039f"
             ],
             [
              0.2222222222222222,
              "#7201a8"
             ],
             [
              0.3333333333333333,
              "#9c179e"
             ],
             [
              0.4444444444444444,
              "#bd3786"
             ],
             [
              0.5555555555555556,
              "#d8576b"
             ],
             [
              0.6666666666666666,
              "#ed7953"
             ],
             [
              0.7777777777777778,
              "#fb9f3a"
             ],
             [
              0.8888888888888888,
              "#fdca26"
             ],
             [
              1,
              "#f0f921"
             ]
            ],
            "type": "contour"
           }
          ],
          "contourcarpet": [
           {
            "colorbar": {
             "outlinewidth": 0,
             "ticks": ""
            },
            "type": "contourcarpet"
           }
          ],
          "heatmap": [
           {
            "colorbar": {
             "outlinewidth": 0,
             "ticks": ""
            },
            "colorscale": [
             [
              0,
              "#0d0887"
             ],
             [
              0.1111111111111111,
              "#46039f"
             ],
             [
              0.2222222222222222,
              "#7201a8"
             ],
             [
              0.3333333333333333,
              "#9c179e"
             ],
             [
              0.4444444444444444,
              "#bd3786"
             ],
             [
              0.5555555555555556,
              "#d8576b"
             ],
             [
              0.6666666666666666,
              "#ed7953"
             ],
             [
              0.7777777777777778,
              "#fb9f3a"
             ],
             [
              0.8888888888888888,
              "#fdca26"
             ],
             [
              1,
              "#f0f921"
             ]
            ],
            "type": "heatmap"
           }
          ],
          "heatmapgl": [
           {
            "colorbar": {
             "outlinewidth": 0,
             "ticks": ""
            },
            "colorscale": [
             [
              0,
              "#0d0887"
             ],
             [
              0.1111111111111111,
              "#46039f"
             ],
             [
              0.2222222222222222,
              "#7201a8"
             ],
             [
              0.3333333333333333,
              "#9c179e"
             ],
             [
              0.4444444444444444,
              "#bd3786"
             ],
             [
              0.5555555555555556,
              "#d8576b"
             ],
             [
              0.6666666666666666,
              "#ed7953"
             ],
             [
              0.7777777777777778,
              "#fb9f3a"
             ],
             [
              0.8888888888888888,
              "#fdca26"
             ],
             [
              1,
              "#f0f921"
             ]
            ],
            "type": "heatmapgl"
           }
          ],
          "histogram": [
           {
            "marker": {
             "colorbar": {
              "outlinewidth": 0,
              "ticks": ""
             }
            },
            "type": "histogram"
           }
          ],
          "histogram2d": [
           {
            "colorbar": {
             "outlinewidth": 0,
             "ticks": ""
            },
            "colorscale": [
             [
              0,
              "#0d0887"
             ],
             [
              0.1111111111111111,
              "#46039f"
             ],
             [
              0.2222222222222222,
              "#7201a8"
             ],
             [
              0.3333333333333333,
              "#9c179e"
             ],
             [
              0.4444444444444444,
              "#bd3786"
             ],
             [
              0.5555555555555556,
              "#d8576b"
             ],
             [
              0.6666666666666666,
              "#ed7953"
             ],
             [
              0.7777777777777778,
              "#fb9f3a"
             ],
             [
              0.8888888888888888,
              "#fdca26"
             ],
             [
              1,
              "#f0f921"
             ]
            ],
            "type": "histogram2d"
           }
          ],
          "histogram2dcontour": [
           {
            "colorbar": {
             "outlinewidth": 0,
             "ticks": ""
            },
            "colorscale": [
             [
              0,
              "#0d0887"
             ],
             [
              0.1111111111111111,
              "#46039f"
             ],
             [
              0.2222222222222222,
              "#7201a8"
             ],
             [
              0.3333333333333333,
              "#9c179e"
             ],
             [
              0.4444444444444444,
              "#bd3786"
             ],
             [
              0.5555555555555556,
              "#d8576b"
             ],
             [
              0.6666666666666666,
              "#ed7953"
             ],
             [
              0.7777777777777778,
              "#fb9f3a"
             ],
             [
              0.8888888888888888,
              "#fdca26"
             ],
             [
              1,
              "#f0f921"
             ]
            ],
            "type": "histogram2dcontour"
           }
          ],
          "mesh3d": [
           {
            "colorbar": {
             "outlinewidth": 0,
             "ticks": ""
            },
            "type": "mesh3d"
           }
          ],
          "parcoords": [
           {
            "line": {
             "colorbar": {
              "outlinewidth": 0,
              "ticks": ""
             }
            },
            "type": "parcoords"
           }
          ],
          "pie": [
           {
            "automargin": true,
            "type": "pie"
           }
          ],
          "scatter": [
           {
            "marker": {
             "colorbar": {
              "outlinewidth": 0,
              "ticks": ""
             }
            },
            "type": "scatter"
           }
          ],
          "scatter3d": [
           {
            "line": {
             "colorbar": {
              "outlinewidth": 0,
              "ticks": ""
             }
            },
            "marker": {
             "colorbar": {
              "outlinewidth": 0,
              "ticks": ""
             }
            },
            "type": "scatter3d"
           }
          ],
          "scattercarpet": [
           {
            "marker": {
             "colorbar": {
              "outlinewidth": 0,
              "ticks": ""
             }
            },
            "type": "scattercarpet"
           }
          ],
          "scattergeo": [
           {
            "marker": {
             "colorbar": {
              "outlinewidth": 0,
              "ticks": ""
             }
            },
            "type": "scattergeo"
           }
          ],
          "scattergl": [
           {
            "marker": {
             "colorbar": {
              "outlinewidth": 0,
              "ticks": ""
             }
            },
            "type": "scattergl"
           }
          ],
          "scattermapbox": [
           {
            "marker": {
             "colorbar": {
              "outlinewidth": 0,
              "ticks": ""
             }
            },
            "type": "scattermapbox"
           }
          ],
          "scatterpolar": [
           {
            "marker": {
             "colorbar": {
              "outlinewidth": 0,
              "ticks": ""
             }
            },
            "type": "scatterpolar"
           }
          ],
          "scatterpolargl": [
           {
            "marker": {
             "colorbar": {
              "outlinewidth": 0,
              "ticks": ""
             }
            },
            "type": "scatterpolargl"
           }
          ],
          "scatterternary": [
           {
            "marker": {
             "colorbar": {
              "outlinewidth": 0,
              "ticks": ""
             }
            },
            "type": "scatterternary"
           }
          ],
          "surface": [
           {
            "colorbar": {
             "outlinewidth": 0,
             "ticks": ""
            },
            "colorscale": [
             [
              0,
              "#0d0887"
             ],
             [
              0.1111111111111111,
              "#46039f"
             ],
             [
              0.2222222222222222,
              "#7201a8"
             ],
             [
              0.3333333333333333,
              "#9c179e"
             ],
             [
              0.4444444444444444,
              "#bd3786"
             ],
             [
              0.5555555555555556,
              "#d8576b"
             ],
             [
              0.6666666666666666,
              "#ed7953"
             ],
             [
              0.7777777777777778,
              "#fb9f3a"
             ],
             [
              0.8888888888888888,
              "#fdca26"
             ],
             [
              1,
              "#f0f921"
             ]
            ],
            "type": "surface"
           }
          ],
          "table": [
           {
            "cells": {
             "fill": {
              "color": "#EBF0F8"
             },
             "line": {
              "color": "white"
             }
            },
            "header": {
             "fill": {
              "color": "#C8D4E3"
             },
             "line": {
              "color": "white"
             }
            },
            "type": "table"
           }
          ]
         },
         "layout": {
          "annotationdefaults": {
           "arrowcolor": "#2a3f5f",
           "arrowhead": 0,
           "arrowwidth": 1
          },
          "coloraxis": {
           "colorbar": {
            "outlinewidth": 0,
            "ticks": ""
           }
          },
          "colorscale": {
           "diverging": [
            [
             0,
             "#8e0152"
            ],
            [
             0.1,
             "#c51b7d"
            ],
            [
             0.2,
             "#de77ae"
            ],
            [
             0.3,
             "#f1b6da"
            ],
            [
             0.4,
             "#fde0ef"
            ],
            [
             0.5,
             "#f7f7f7"
            ],
            [
             0.6,
             "#e6f5d0"
            ],
            [
             0.7,
             "#b8e186"
            ],
            [
             0.8,
             "#7fbc41"
            ],
            [
             0.9,
             "#4d9221"
            ],
            [
             1,
             "#276419"
            ]
           ],
           "sequential": [
            [
             0,
             "#0d0887"
            ],
            [
             0.1111111111111111,
             "#46039f"
            ],
            [
             0.2222222222222222,
             "#7201a8"
            ],
            [
             0.3333333333333333,
             "#9c179e"
            ],
            [
             0.4444444444444444,
             "#bd3786"
            ],
            [
             0.5555555555555556,
             "#d8576b"
            ],
            [
             0.6666666666666666,
             "#ed7953"
            ],
            [
             0.7777777777777778,
             "#fb9f3a"
            ],
            [
             0.8888888888888888,
             "#fdca26"
            ],
            [
             1,
             "#f0f921"
            ]
           ],
           "sequentialminus": [
            [
             0,
             "#0d0887"
            ],
            [
             0.1111111111111111,
             "#46039f"
            ],
            [
             0.2222222222222222,
             "#7201a8"
            ],
            [
             0.3333333333333333,
             "#9c179e"
            ],
            [
             0.4444444444444444,
             "#bd3786"
            ],
            [
             0.5555555555555556,
             "#d8576b"
            ],
            [
             0.6666666666666666,
             "#ed7953"
            ],
            [
             0.7777777777777778,
             "#fb9f3a"
            ],
            [
             0.8888888888888888,
             "#fdca26"
            ],
            [
             1,
             "#f0f921"
            ]
           ]
          },
          "colorway": [
           "#1f77b4",
           "#ff7f0e",
           "#2ca02c",
           "#dc3912",
           "#9467bd",
           "#8c564b",
           "#e377c2",
           "#7f7f7f",
           "#bcbd22",
           "#17becf"
          ],
          "font": {
           "color": "#2a3f5f"
          },
          "geo": {
           "bgcolor": "white",
           "lakecolor": "white",
           "landcolor": "#E5ECF6",
           "showlakes": true,
           "showland": true,
           "subunitcolor": "white"
          },
          "hoverlabel": {
           "align": "left"
          },
          "hovermode": "closest",
          "mapbox": {
           "style": "light"
          },
          "paper_bgcolor": "white",
          "plot_bgcolor": "#E5ECF6",
          "polar": {
           "angularaxis": {
            "gridcolor": "white",
            "linecolor": "white",
            "ticks": ""
           },
           "bgcolor": "#E5ECF6",
           "radialaxis": {
            "gridcolor": "white",
            "linecolor": "white",
            "ticks": ""
           }
          },
          "scene": {
           "xaxis": {
            "backgroundcolor": "#E5ECF6",
            "gridcolor": "white",
            "gridwidth": 2,
            "linecolor": "white",
            "showbackground": true,
            "ticks": "",
            "zerolinecolor": "white"
           },
           "yaxis": {
            "backgroundcolor": "#E5ECF6",
            "gridcolor": "white",
            "gridwidth": 2,
            "linecolor": "white",
            "showbackground": true,
            "ticks": "",
            "zerolinecolor": "white"
           },
           "zaxis": {
            "backgroundcolor": "#E5ECF6",
            "gridcolor": "white",
            "gridwidth": 2,
            "linecolor": "white",
            "showbackground": true,
            "ticks": "",
            "zerolinecolor": "white"
           }
          },
          "shapedefaults": {
           "line": {
            "color": "#2a3f5f"
           }
          },
          "ternary": {
           "aaxis": {
            "gridcolor": "white",
            "linecolor": "white",
            "ticks": ""
           },
           "baxis": {
            "gridcolor": "white",
            "linecolor": "white",
            "ticks": ""
           },
           "bgcolor": "#E5ECF6",
           "caxis": {
            "gridcolor": "white",
            "linecolor": "white",
            "ticks": ""
           }
          },
          "title": {
           "x": 0.05
          },
          "xaxis": {
           "automargin": true,
           "gridcolor": "white",
           "linecolor": "white",
           "ticks": "",
           "title": {
            "standoff": 15
           },
           "zerolinecolor": "white",
           "zerolinewidth": 2
          },
          "yaxis": {
           "automargin": true,
           "gridcolor": "white",
           "linecolor": "white",
           "ticks": "",
           "title": {
            "standoff": 15
           },
           "zerolinecolor": "white",
           "zerolinewidth": 2
          }
         }
        },
        "width": 700
       }
      },
      "text/html": [
       "<div>                            <div id=\"0b0ea001-2a49-4631-befb-53953bc60122\" class=\"plotly-graph-div\" style=\"height:350px; width:700px;\"></div>            <script type=\"text/javascript\">                require([\"plotly\"], function(Plotly) {                    window.PLOTLYENV=window.PLOTLYENV || {};                                    if (document.getElementById(\"0b0ea001-2a49-4631-befb-53953bc60122\")) {                    Plotly.newPlot(                        \"0b0ea001-2a49-4631-befb-53953bc60122\",                        [{\"name\": \"('XL', '2021-05-21', 'CALL', 'XL210521C00020000')\", \"showlegend\": true, \"type\": \"scatter\", \"uid\": \"099c76e1-c1c1-4b5e-ab1b-d3e8fbeec86e\", \"x\": [\"2021-01-04T00:00:00\", \"2021-01-05T00:00:00\", \"2021-01-06T00:00:00\", \"2021-01-07T00:00:00\", \"2021-01-08T00:00:00\", \"2021-01-11T00:00:00\", \"2021-01-12T00:00:00\", \"2021-01-13T00:00:00\", \"2021-01-14T00:00:00\", \"2021-01-15T00:00:00\", \"2021-01-19T00:00:00\", \"2021-01-20T00:00:00\", \"2021-01-21T00:00:00\", \"2021-01-22T00:00:00\", \"2021-01-25T00:00:00\", \"2021-01-26T00:00:00\", \"2021-01-27T00:00:00\", \"2021-01-28T00:00:00\", \"2021-01-29T00:00:00\", \"2021-02-01T00:00:00\", \"2021-02-02T00:00:00\", \"2021-02-03T00:00:00\", \"2021-02-04T00:00:00\", \"2021-02-05T00:00:00\", \"2021-02-08T00:00:00\", \"2021-02-09T00:00:00\", \"2021-02-10T00:00:00\", \"2021-02-11T00:00:00\", \"2021-02-12T00:00:00\", \"2021-02-16T00:00:00\", \"2021-02-17T00:00:00\", \"2021-02-18T00:00:00\", \"2021-02-19T00:00:00\", \"2021-02-22T00:00:00\", \"2021-02-23T00:00:00\", \"2021-02-24T00:00:00\", \"2021-02-25T00:00:00\", \"2021-02-26T00:00:00\", \"2021-03-01T00:00:00\", \"2021-03-02T00:00:00\", \"2021-03-03T00:00:00\", \"2021-03-04T00:00:00\", \"2021-03-05T00:00:00\", \"2021-03-08T00:00:00\", \"2021-03-09T00:00:00\", \"2021-03-10T00:00:00\", \"2021-03-11T00:00:00\", \"2021-03-12T00:00:00\", \"2021-03-15T00:00:00\", \"2021-03-16T00:00:00\", \"2021-03-17T00:00:00\", \"2021-03-18T00:00:00\", \"2021-03-19T00:00:00\", \"2021-03-22T00:00:00\", \"2021-03-23T00:00:00\", \"2021-03-24T00:00:00\", \"2021-03-25T00:00:00\", \"2021-03-26T00:00:00\", \"2021-03-29T00:00:00\", \"2021-03-30T00:00:00\", \"2021-03-31T00:00:00\", \"2021-04-01T00:00:00\", \"2021-04-05T00:00:00\", \"2021-04-06T00:00:00\", \"2021-04-07T00:00:00\", \"2021-04-08T00:00:00\", \"2021-04-09T00:00:00\", \"2021-04-12T00:00:00\", \"2021-04-13T00:00:00\", \"2021-04-14T00:00:00\", \"2021-04-15T00:00:00\", \"2021-04-16T00:00:00\", \"2021-04-19T00:00:00\", \"2021-04-20T00:00:00\", \"2021-04-21T00:00:00\", \"2021-04-22T00:00:00\", \"2021-04-23T00:00:00\", \"2021-04-26T00:00:00\", \"2021-04-27T00:00:00\", \"2021-04-28T00:00:00\", \"2021-04-29T00:00:00\", \"2021-04-30T00:00:00\", \"2021-05-03T00:00:00\", \"2021-05-04T00:00:00\", \"2021-05-05T00:00:00\", \"2021-05-06T00:00:00\", \"2021-05-07T00:00:00\", \"2021-05-10T00:00:00\", \"2021-05-11T00:00:00\", \"2021-05-12T00:00:00\", \"2021-05-13T00:00:00\", \"2021-05-14T00:00:00\", \"2021-05-17T00:00:00\", \"2021-05-18T00:00:00\", \"2021-05-19T00:00:00\", \"2021-05-20T00:00:00\", \"2021-05-21T00:00:00\"], \"y\": [7.6, 5.7, 6.5, 6.0, 6.59, 5.99, 6.1, 5.9, 6.9, 6.6, 6.0, 5.3, 4.9, 5.7, 5.9, 6.06, 5.78, 5.6, 5.7, 5.02, 6.55, 6.3, 6.6, 6.3, 6.0, 6.0, 6.7, 6.3, 5.8, 6.41, 5.8, 5.65, 4.6, 3.7, 2.6, 2.25, 2.65, 2.1, 2.38, 2.45, 2.95, 1.25, 1.25, 1.0, 0.9, 1.25, 1.25, 1.25, 1.45, 1.4, 1.15, 1.15, 0.9, 0.8, 0.5, 0.4, 0.25, 0.3, 0.25, 0.2, 0.16, 0.15, 0.15, 0.09, 0.2, 0.25, 0.35, 0.15, 0.1, 0.15, 0.08, 0.05, 0.05, 0.03, 0.05, 0.05, 0.05, 0.03, 0.05, 0.01, 0.01, 0.05, 0.01, 0.01, 0.01, 0.05, 0.04, 0.04, 0.02, 0.02, 0.03, 0.03, 0.03, 0.03, 0.03, 0.03, 0.02]}, {\"marker\": {\"color\": \"#37B13F\", \"line\": {\"color\": \"rgb(38,123,44)\", \"width\": 1}, \"size\": 8, \"symbol\": \"triangle-up\"}, \"mode\": \"markers\", \"name\": \"Entry\", \"showlegend\": true, \"type\": \"scatter\", \"uid\": \"b094a2a7-c90b-4405-8708-1cd55c8a4809\", \"x\": [\"2021-03-23T00:00:00\", \"2021-03-24T00:00:00\", \"2021-03-25T00:00:00\"], \"y\": [0.5, 0.4, 0.25]}, {\"marker\": {\"color\": \"#EA4335\", \"line\": {\"color\": \"rgb(181,31,18)\", \"width\": 1}, \"size\": 8, \"symbol\": \"triangle-down\"}, \"mode\": \"markers\", \"name\": \"Exit\", \"showlegend\": true, \"type\": \"scatter\", \"uid\": \"5784f44c-4492-47a8-8e2a-53618db07f83\", \"x\": [\"2021-05-21T00:00:00\"], \"y\": [0.02]}, {\"name\": \"('NKLA', '2021-03-19', 'CALL', 'NKLA210319C00035000')\", \"showlegend\": true, \"type\": \"scatter\", \"uid\": \"ddd00c2b-8916-4374-9d00-af43b8b40ad1\", \"x\": [\"2021-01-14T00:00:00\", \"2021-01-15T00:00:00\", \"2021-01-19T00:00:00\", \"2021-01-20T00:00:00\", \"2021-01-21T00:00:00\", \"2021-01-22T00:00:00\", \"2021-01-25T00:00:00\", \"2021-01-26T00:00:00\", \"2021-01-27T00:00:00\", \"2021-01-28T00:00:00\", \"2021-01-29T00:00:00\", \"2021-02-01T00:00:00\", \"2021-02-02T00:00:00\", \"2021-02-03T00:00:00\", \"2021-02-04T00:00:00\", \"2021-02-05T00:00:00\", \"2021-02-08T00:00:00\", \"2021-02-09T00:00:00\", \"2021-02-10T00:00:00\", \"2021-02-11T00:00:00\", \"2021-02-12T00:00:00\", \"2021-02-16T00:00:00\", \"2021-02-17T00:00:00\", \"2021-02-18T00:00:00\", \"2021-02-19T00:00:00\", \"2021-02-22T00:00:00\", \"2021-02-23T00:00:00\", \"2021-02-24T00:00:00\", \"2021-02-25T00:00:00\", \"2021-02-26T00:00:00\", \"2021-03-01T00:00:00\", \"2021-03-02T00:00:00\", \"2021-03-03T00:00:00\", \"2021-03-04T00:00:00\", \"2021-03-05T00:00:00\", \"2021-03-08T00:00:00\", \"2021-03-09T00:00:00\", \"2021-03-10T00:00:00\", \"2021-03-11T00:00:00\", \"2021-03-12T00:00:00\", \"2021-03-15T00:00:00\", \"2021-03-16T00:00:00\", \"2021-03-17T00:00:00\", \"2021-03-18T00:00:00\", \"2021-03-19T00:00:00\"], \"y\": [1.0, 1.11, 0.68, 0.43, 0.51, 0.55, 0.62, 1.08, 2.53, 3.75, 2.56, 2.24, 1.85, 1.31, 1.6, 1.77, 1.4, 1.04, 1.1, 1.05, 0.74, 0.73, 0.55, 0.38, 0.39, 0.27, 0.15, 0.23, 0.27, 0.15, 0.17, 0.06, 0.05, 0.06, 0.03, 0.01, 0.03, 0.04, 0.02, 0.02, 0.01, 0.04, 0.04, 0.02, 1e-05]}, {\"marker\": {\"color\": \"#37B13F\", \"line\": {\"color\": \"rgb(38,123,44)\", \"width\": 1}, \"size\": 8, \"symbol\": \"triangle-up\"}, \"mode\": \"markers\", \"name\": \"Entry\", \"showlegend\": true, \"type\": \"scatter\", \"uid\": \"cbf76019-cbe1-4910-ae9d-97097411467a\", \"x\": [\"2021-02-18T00:00:00\"], \"y\": [0.38]}, {\"marker\": {\"color\": \"#EA4335\", \"line\": {\"color\": \"rgb(181,31,18)\", \"width\": 1}, \"size\": 8, \"symbol\": \"triangle-down\"}, \"mode\": \"markers\", \"name\": \"Exit\", \"showlegend\": true, \"type\": \"scatter\", \"uid\": \"87926534-86c4-42f6-ad28-3da5fcf8e48d\", \"x\": [\"2021-03-19T00:00:00\"], \"y\": [1e-05]}],                        {\"height\": 350, \"legend\": {\"orientation\": \"h\", \"traceorder\": \"normal\", \"x\": 1, \"xanchor\": \"right\", \"y\": 1.02, \"yanchor\": \"bottom\"}, \"margin\": {\"b\": 30, \"l\": 30, \"r\": 30, \"t\": 30}, \"template\": {\"data\": {\"bar\": [{\"error_x\": {\"color\": \"#2a3f5f\"}, \"error_y\": {\"color\": \"#2a3f5f\"}, \"marker\": {\"line\": {\"color\": \"#E5ECF6\", \"width\": 0.5}}, \"type\": \"bar\"}], \"barpolar\": [{\"marker\": {\"line\": {\"color\": \"#E5ECF6\", \"width\": 0.5}}, \"type\": \"barpolar\"}], \"carpet\": [{\"aaxis\": {\"endlinecolor\": \"#2a3f5f\", \"gridcolor\": \"white\", \"linecolor\": \"white\", \"minorgridcolor\": \"white\", \"startlinecolor\": \"#2a3f5f\"}, \"baxis\": {\"endlinecolor\": \"#2a3f5f\", \"gridcolor\": \"white\", \"linecolor\": \"white\", \"minorgridcolor\": \"white\", \"startlinecolor\": \"#2a3f5f\"}, \"type\": \"carpet\"}], \"choropleth\": [{\"colorbar\": {\"outlinewidth\": 0, \"ticks\": \"\"}, \"type\": \"choropleth\"}], \"contour\": [{\"colorbar\": {\"outlinewidth\": 0, \"ticks\": \"\"}, \"colorscale\": [[0.0, \"#0d0887\"], [0.1111111111111111, \"#46039f\"], [0.2222222222222222, \"#7201a8\"], [0.3333333333333333, \"#9c179e\"], [0.4444444444444444, \"#bd3786\"], [0.5555555555555556, \"#d8576b\"], [0.6666666666666666, \"#ed7953\"], [0.7777777777777778, \"#fb9f3a\"], [0.8888888888888888, \"#fdca26\"], [1.0, \"#f0f921\"]], \"type\": \"contour\"}], \"contourcarpet\": [{\"colorbar\": {\"outlinewidth\": 0, \"ticks\": \"\"}, \"type\": \"contourcarpet\"}], \"heatmap\": [{\"colorbar\": {\"outlinewidth\": 0, \"ticks\": \"\"}, \"colorscale\": [[0.0, \"#0d0887\"], [0.1111111111111111, \"#46039f\"], [0.2222222222222222, \"#7201a8\"], [0.3333333333333333, \"#9c179e\"], [0.4444444444444444, \"#bd3786\"], [0.5555555555555556, \"#d8576b\"], [0.6666666666666666, \"#ed7953\"], [0.7777777777777778, \"#fb9f3a\"], [0.8888888888888888, \"#fdca26\"], [1.0, \"#f0f921\"]], \"type\": \"heatmap\"}], \"heatmapgl\": [{\"colorbar\": {\"outlinewidth\": 0, \"ticks\": \"\"}, \"colorscale\": [[0.0, \"#0d0887\"], [0.1111111111111111, \"#46039f\"], [0.2222222222222222, \"#7201a8\"], [0.3333333333333333, \"#9c179e\"], [0.4444444444444444, \"#bd3786\"], [0.5555555555555556, \"#d8576b\"], [0.6666666666666666, \"#ed7953\"], [0.7777777777777778, \"#fb9f3a\"], [0.8888888888888888, \"#fdca26\"], [1.0, \"#f0f921\"]], \"type\": \"heatmapgl\"}], \"histogram\": [{\"marker\": {\"colorbar\": {\"outlinewidth\": 0, \"ticks\": \"\"}}, \"type\": \"histogram\"}], \"histogram2d\": [{\"colorbar\": {\"outlinewidth\": 0, \"ticks\": \"\"}, \"colorscale\": [[0.0, \"#0d0887\"], [0.1111111111111111, \"#46039f\"], [0.2222222222222222, \"#7201a8\"], [0.3333333333333333, \"#9c179e\"], [0.4444444444444444, \"#bd3786\"], [0.5555555555555556, \"#d8576b\"], [0.6666666666666666, \"#ed7953\"], [0.7777777777777778, \"#fb9f3a\"], [0.8888888888888888, \"#fdca26\"], [1.0, \"#f0f921\"]], \"type\": \"histogram2d\"}], \"histogram2dcontour\": [{\"colorbar\": {\"outlinewidth\": 0, \"ticks\": \"\"}, \"colorscale\": [[0.0, \"#0d0887\"], [0.1111111111111111, \"#46039f\"], [0.2222222222222222, \"#7201a8\"], [0.3333333333333333, \"#9c179e\"], [0.4444444444444444, \"#bd3786\"], [0.5555555555555556, \"#d8576b\"], [0.6666666666666666, \"#ed7953\"], [0.7777777777777778, \"#fb9f3a\"], [0.8888888888888888, \"#fdca26\"], [1.0, \"#f0f921\"]], \"type\": \"histogram2dcontour\"}], \"mesh3d\": [{\"colorbar\": {\"outlinewidth\": 0, \"ticks\": \"\"}, \"type\": \"mesh3d\"}], \"parcoords\": [{\"line\": {\"colorbar\": {\"outlinewidth\": 0, \"ticks\": \"\"}}, \"type\": \"parcoords\"}], \"pie\": [{\"automargin\": true, \"type\": \"pie\"}], \"scatter\": [{\"marker\": {\"colorbar\": {\"outlinewidth\": 0, \"ticks\": \"\"}}, \"type\": \"scatter\"}], \"scatter3d\": [{\"line\": {\"colorbar\": {\"outlinewidth\": 0, \"ticks\": \"\"}}, \"marker\": {\"colorbar\": {\"outlinewidth\": 0, \"ticks\": \"\"}}, \"type\": \"scatter3d\"}], \"scattercarpet\": [{\"marker\": {\"colorbar\": {\"outlinewidth\": 0, \"ticks\": \"\"}}, \"type\": \"scattercarpet\"}], \"scattergeo\": [{\"marker\": {\"colorbar\": {\"outlinewidth\": 0, \"ticks\": \"\"}}, \"type\": \"scattergeo\"}], \"scattergl\": [{\"marker\": {\"colorbar\": {\"outlinewidth\": 0, \"ticks\": \"\"}}, \"type\": \"scattergl\"}], \"scattermapbox\": [{\"marker\": {\"colorbar\": {\"outlinewidth\": 0, \"ticks\": \"\"}}, \"type\": \"scattermapbox\"}], \"scatterpolar\": [{\"marker\": {\"colorbar\": {\"outlinewidth\": 0, \"ticks\": \"\"}}, \"type\": \"scatterpolar\"}], \"scatterpolargl\": [{\"marker\": {\"colorbar\": {\"outlinewidth\": 0, \"ticks\": \"\"}}, \"type\": \"scatterpolargl\"}], \"scatterternary\": [{\"marker\": {\"colorbar\": {\"outlinewidth\": 0, \"ticks\": \"\"}}, \"type\": \"scatterternary\"}], \"surface\": [{\"colorbar\": {\"outlinewidth\": 0, \"ticks\": \"\"}, \"colorscale\": [[0.0, \"#0d0887\"], [0.1111111111111111, \"#46039f\"], [0.2222222222222222, \"#7201a8\"], [0.3333333333333333, \"#9c179e\"], [0.4444444444444444, \"#bd3786\"], [0.5555555555555556, \"#d8576b\"], [0.6666666666666666, \"#ed7953\"], [0.7777777777777778, \"#fb9f3a\"], [0.8888888888888888, \"#fdca26\"], [1.0, \"#f0f921\"]], \"type\": \"surface\"}], \"table\": [{\"cells\": {\"fill\": {\"color\": \"#EBF0F8\"}, \"line\": {\"color\": \"white\"}}, \"header\": {\"fill\": {\"color\": \"#C8D4E3\"}, \"line\": {\"color\": \"white\"}}, \"type\": \"table\"}]}, \"layout\": {\"annotationdefaults\": {\"arrowcolor\": \"#2a3f5f\", \"arrowhead\": 0, \"arrowwidth\": 1}, \"coloraxis\": {\"colorbar\": {\"outlinewidth\": 0, \"ticks\": \"\"}}, \"colorscale\": {\"diverging\": [[0, \"#8e0152\"], [0.1, \"#c51b7d\"], [0.2, \"#de77ae\"], [0.3, \"#f1b6da\"], [0.4, \"#fde0ef\"], [0.5, \"#f7f7f7\"], [0.6, \"#e6f5d0\"], [0.7, \"#b8e186\"], [0.8, \"#7fbc41\"], [0.9, \"#4d9221\"], [1, \"#276419\"]], \"sequential\": [[0.0, \"#0d0887\"], [0.1111111111111111, \"#46039f\"], [0.2222222222222222, \"#7201a8\"], [0.3333333333333333, \"#9c179e\"], [0.4444444444444444, \"#bd3786\"], [0.5555555555555556, \"#d8576b\"], [0.6666666666666666, \"#ed7953\"], [0.7777777777777778, \"#fb9f3a\"], [0.8888888888888888, \"#fdca26\"], [1.0, \"#f0f921\"]], \"sequentialminus\": [[0.0, \"#0d0887\"], [0.1111111111111111, \"#46039f\"], [0.2222222222222222, \"#7201a8\"], [0.3333333333333333, \"#9c179e\"], [0.4444444444444444, \"#bd3786\"], [0.5555555555555556, \"#d8576b\"], [0.6666666666666666, \"#ed7953\"], [0.7777777777777778, \"#fb9f3a\"], [0.8888888888888888, \"#fdca26\"], [1.0, \"#f0f921\"]]}, \"colorway\": [\"#1f77b4\", \"#ff7f0e\", \"#2ca02c\", \"#dc3912\", \"#9467bd\", \"#8c564b\", \"#e377c2\", \"#7f7f7f\", \"#bcbd22\", \"#17becf\"], \"font\": {\"color\": \"#2a3f5f\"}, \"geo\": {\"bgcolor\": \"white\", \"lakecolor\": \"white\", \"landcolor\": \"#E5ECF6\", \"showlakes\": true, \"showland\": true, \"subunitcolor\": \"white\"}, \"hoverlabel\": {\"align\": \"left\"}, \"hovermode\": \"closest\", \"mapbox\": {\"style\": \"light\"}, \"paper_bgcolor\": \"white\", \"plot_bgcolor\": \"#E5ECF6\", \"polar\": {\"angularaxis\": {\"gridcolor\": \"white\", \"linecolor\": \"white\", \"ticks\": \"\"}, \"bgcolor\": \"#E5ECF6\", \"radialaxis\": {\"gridcolor\": \"white\", \"linecolor\": \"white\", \"ticks\": \"\"}}, \"scene\": {\"xaxis\": {\"backgroundcolor\": \"#E5ECF6\", \"gridcolor\": \"white\", \"gridwidth\": 2, \"linecolor\": \"white\", \"showbackground\": true, \"ticks\": \"\", \"zerolinecolor\": \"white\"}, \"yaxis\": {\"backgroundcolor\": \"#E5ECF6\", \"gridcolor\": \"white\", \"gridwidth\": 2, \"linecolor\": \"white\", \"showbackground\": true, \"ticks\": \"\", \"zerolinecolor\": \"white\"}, \"zaxis\": {\"backgroundcolor\": \"#E5ECF6\", \"gridcolor\": \"white\", \"gridwidth\": 2, \"linecolor\": \"white\", \"showbackground\": true, \"ticks\": \"\", \"zerolinecolor\": \"white\"}}, \"shapedefaults\": {\"line\": {\"color\": \"#2a3f5f\"}}, \"ternary\": {\"aaxis\": {\"gridcolor\": \"white\", \"linecolor\": \"white\", \"ticks\": \"\"}, \"baxis\": {\"gridcolor\": \"white\", \"linecolor\": \"white\", \"ticks\": \"\"}, \"bgcolor\": \"#E5ECF6\", \"caxis\": {\"gridcolor\": \"white\", \"linecolor\": \"white\", \"ticks\": \"\"}}, \"title\": {\"x\": 0.05}, \"xaxis\": {\"automargin\": true, \"gridcolor\": \"white\", \"linecolor\": \"white\", \"ticks\": \"\", \"title\": {\"standoff\": 15}, \"zerolinecolor\": \"white\", \"zerolinewidth\": 2}, \"yaxis\": {\"automargin\": true, \"gridcolor\": \"white\", \"linecolor\": \"white\", \"ticks\": \"\", \"title\": {\"standoff\": 15}, \"zerolinecolor\": \"white\", \"zerolinewidth\": 2}}}, \"width\": 700},                        {\"responsive\": true}                    ).then(function(){\n",
       "                            \n",
       "var gd = document.getElementById('0b0ea001-2a49-4631-befb-53953bc60122');\n",
       "var x = new MutationObserver(function (mutations, observer) {{\n",
       "        var display = window.getComputedStyle(gd).display;\n",
       "        if (!display || display === 'none') {{\n",
       "            console.log([gd, 'removed!']);\n",
       "            Plotly.purge(gd);\n",
       "            observer.disconnect();\n",
       "        }}\n",
       "}});\n",
       "\n",
       "// Listen for the removal of the full notebook cells\n",
       "var notebookContainer = gd.closest('#notebook-container');\n",
       "if (notebookContainer) {{\n",
       "    x.observe(notebookContainer, {childList: true});\n",
       "}}\n",
       "\n",
       "// Listen for the clearing of the current output cell\n",
       "var outputEl = gd.closest('.output');\n",
       "if (outputEl) {{\n",
       "    x.observe(outputEl, {childList: true});\n",
       "}}\n",
       "\n",
       "                        })                };                });            </script>        </div>"
      ]
     },
     "metadata": {},
     "output_type": "display_data"
    }
   ],
   "source": [
    "contract_symbol = df_tmp.columns[-1]\n",
    "fig = df_tmp[contract_symbol].dropna().vbt.plot(trace_kwargs=dict(name=f'{contract_symbol}'))\n",
    "fig = entry_df.loc[df_tmp[contract_symbol].dropna().index,contract_symbol].vbt.signals.plot_as_entry_markers(df_tmp[contract_symbol].dropna(), fig=fig)\n",
    "fig = exit_df.loc[df_tmp[contract_symbol].dropna().index,contract_symbol].vbt.signals.plot_as_exit_markers(df_tmp[contract_symbol].dropna(), fig=fig)\n",
    "\n",
    "contract_symbol = df_tmp.columns[-21]\n",
    "fig = df_tmp[contract_symbol].dropna().vbt.plot(trace_kwargs=dict(name=f'{contract_symbol}'), fig=fig)\n",
    "fig = entry_df.loc[df_tmp[contract_symbol].dropna().index,contract_symbol].vbt.signals.plot_as_entry_markers(df_tmp[contract_symbol].dropna(), fig=fig)\n",
    "fig = exit_df.loc[df_tmp[contract_symbol].dropna().index,contract_symbol].vbt.signals.plot_as_exit_markers(df_tmp[contract_symbol].dropna(), fig=fig)\n",
    "\n",
    "fig.show()"
   ]
  },
  {
   "cell_type": "code",
   "execution_count": 855,
   "metadata": {},
   "outputs": [],
   "source": [
    "# symbol = 'FEYE'\n",
    "# option_expiration = '2021-01-08'\n",
    "# option_type = 'Call'\n",
    "# contract_symbols = [\n",
    "#     c for c in df_tmp.columns \n",
    "#         if symbol in c \n",
    "#         and option_expiration in c\n",
    "#         and option_type in c\n",
    "# ]\n",
    "# print(f\"{len(contract_symbols)} Traces\")\n",
    "# contract_symbol = contract_symbols[0]\n",
    "# fig = df_tmp[contract_symbol].dropna().vbt.plot(trace_kwargs=dict(name=f'{contract_symbol}'))\n",
    "# fig = entry_df.loc[df_tmp[contract_symbol].dropna().index,contract_symbol].vbt.signals.plot_as_entry_markers(df_tmp[contract_symbol].dropna(), fig=fig)\n",
    "# fig = exit_df.loc[df_tmp[contract_symbol].dropna().index,contract_symbol].vbt.signals.plot_as_exit_markers(df_tmp[contract_symbol].dropna(), fig=fig)\n",
    "\n",
    "# for contract_symbol in contract_symbols[1:50]:\n",
    "#     fig = df_tmp[contract_symbol].dropna().vbt.plot(trace_kwargs=dict(name=f'{contract_symbol}'), fig=fig)\n",
    "#     fig = entry_df.loc[df_tmp[contract_symbol].dropna().index,contract_symbol].vbt.signals.plot_as_entry_markers(df_tmp[contract_symbol].dropna(), fig=fig)\n",
    "#     fig = exit_df.loc[df_tmp[contract_symbol].dropna().index,contract_symbol].vbt.signals.plot_as_exit_markers(df_tmp[contract_symbol].dropna(), fig=fig)\n",
    "\n",
    "# fig.update_layout(\n",
    "#     autosize=False,\n",
    "#     width=1200,\n",
    "#     height=800,)\n",
    "# fig.show()"
   ]
  },
  {
   "cell_type": "markdown",
   "metadata": {},
   "source": [
    "### Working with pd.MultiIndex\n",
    "\n",
    "Slicing"
   ]
  },
  {
   "cell_type": "code",
   "execution_count": 1058,
   "metadata": {},
   "outputs": [
    {
     "data": {
      "text/plain": [
       "Series([], Name: 2021-02-17 00:00:00, dtype: bool)"
      ]
     },
     "execution_count": 1058,
     "metadata": {},
     "output_type": "execute_result"
    }
   ],
   "source": [
    "# find example to inspect\n",
    "# entry_df.sum()[entry_df.sum()!=0]\n",
    "# a = entry_df.loc(axis=1)[:,:,:,['AMC210305C00007000']]\n",
    "# a[a].dropna()\n",
    "\n",
    "# idx = pd.IndexSlice\n",
    "# entry_df.loc[idx['2021-02-17'],idx[:,:,:,['AMC210305C00007000']]]"
   ]
  },
  {
   "cell_type": "markdown",
   "metadata": {},
   "source": [
    "### Create vectorbt portfolio.from_orders()\n",
    "\n",
    "Join entry_df and exit_df that had been created for the signals version to create +/- values for orders"
   ]
  },
  {
   "cell_type": "code",
   "execution_count": 214,
   "metadata": {},
   "outputs": [],
   "source": [
    "# entry_sz = entry_df.astype(int) * 10 * 100\n",
    "# exit_sz = exit_df.astype(int) * entry_sz.sum()\n",
    "# entry_exit_sz = entry_sz - exit_sz\n",
    "\n",
    "# # converts old pandas entry_exit_sz sparse version (didn't work as sparse, so unnecessary)\n",
    "# row = []\n",
    "# col = []\n",
    "# data = []\n",
    "# for i,r in enumerate(entry_exit_sz.index):\n",
    "#     for j,c in enumerate(entry_exit_sz.columns):\n",
    "#         if entry_exit_sz.loc[r,c] == 0:\n",
    "#             continue\n",
    "#         else:\n",
    "#             row.append(i)\n",
    "#             col.append(j)\n",
    "#             data.append(entry_exit_sz.loc[r,c])\n",
    "\n",
    "# col_size = j+1\n",
    "# row_size = i+1\n",
    "\n",
    "# # entry_exit_sz = csr_matrix((data, (row, col)), shape=((row_size,col_size)))  # doesnt' work\n",
    "# entry_exit_sz = csr_matrix((data, (row, col)), shape=((row_size,col_size))).toarray()"
   ]
  },
  {
   "cell_type": "code",
   "execution_count": 27,
   "metadata": {},
   "outputs": [],
   "source": [
    "# portfolio = vbt.Portfolio.from_orders(\n",
    "# #     df_tmp,\n",
    "#     price,\n",
    "#     size=entry_exit_sz, \n",
    "#     min_size=0,\n",
    "#     max_size=10000, \n",
    "# #     group_by=True,\n",
    "# #     group_by=symbol_groups, \n",
    "#     log=True, \n",
    "#     fees=0.001, \n",
    "#     slippage=0.001,\n",
    "# #     init_cash='auto',\n",
    "#     init_cash='autoalign',\n",
    "# #     cash_sharing=True, \n",
    "#     direction='longonly',\n",
    "#     freq='1D',\n",
    "# )\n",
    "\n",
    "# portfolio.total_return()"
   ]
  },
  {
   "cell_type": "markdown",
   "metadata": {},
   "source": [
    "# Brainstorming\n",
    "\n",
    "### Entry logic\n",
    "- Only buy at 1/2 price of original trade\n",
    "- Buy X at orig price, Y at .75 * orig price, Z at .5 * orig price. Good til expired\n",
    "- \n",
    "\n",
    "### Exit logic\n",
    "- Set X% stop loss for Z% of shares, after Y% increase\n",
    "    - Sell 1/2 of shares at 20% max drawdown, after hitting 50% increase\n",
    "- Sell Z% of shares after Y% increase \n",
    "    - Sell all shares after 100% increase\n",
    "    - Sell 1/2 shares after 100% increase and other 1/2 after 200% increase"
   ]
  },
  {
   "cell_type": "markdown",
   "metadata": {},
   "source": [
    "### Create vectorbt portfolio.from_orders()\n",
    "\n",
    "Create rand exiting to compare to expiration exiting. Inspired from: https://nbviewer.jupyter.org/github/polakowo/vectorbt/blob/master/examples/StopSignals.ipynb\n",
    "\n",
    "The idea is that if I can create exit signals based on actual functions than I can actually beomce confident in which is the best/safest method overall.\n",
    "\n",
    "- Entry signal same for all\n",
    "- Exit signal random each time"
   ]
  },
  {
   "cell_type": "code",
   "execution_count": 197,
   "metadata": {},
   "outputs": [
    {
     "data": {
      "text/plain": [
       "Series([], Name: 2021-02-17 00:00:00, dtype: int64)"
      ]
     },
     "execution_count": 197,
     "metadata": {},
     "output_type": "execute_result"
    }
   ],
   "source": [
    "def uniform_cash_order_sizing(df_tmp,entry_size_df,max_cash_per_trade=150,return_share_size=True):\n",
    "    entry_contract_size_df = (max_cash_per_trade // (df_tmp * 100 * entry_size_df)).replace([np.inf, -np.inf], np.nan).fillna(0)\n",
    "    if return_share_size:\n",
    "        return entry_contract_size_df * 100\n",
    "    else:\n",
    "        return entry_contract_size_df\n",
    "\n",
    "def uniform_quantity_order_sizing(df_tmp,entry_size_df,max_quantity_per_trade=10):\n",
    "    return (max_quantity_per_trade * entry_size_df).replace([np.inf, -np.inf], np.nan).fillna(0)\n",
    "\n",
    "uniform_cash_order_sizing(df_tmp,entry_df.copy().astype(int),100).loc[idx['2021-02-17'],idx[:,:,:,['AMC210305C00007000']]]\n",
    "uniform_quantity_order_sizing(df_tmp,entry_df.copy().astype(int),500).loc[idx['2021-02-17'],idx[:,:,:,['AMC210305C00007000']]]"
   ]
  },
  {
   "cell_type": "code",
   "execution_count": 198,
   "metadata": {},
   "outputs": [],
   "source": [
    "entry_size_df = uniform_cash_order_sizing(df_tmp,entry_df.copy().astype(int),max_cash_per_trade)"
   ]
  },
  {
   "cell_type": "code",
   "execution_count": 199,
   "metadata": {},
   "outputs": [
    {
     "data": {
      "text/html": [
       "<div>\n",
       "<style scoped>\n",
       "    .dataframe tbody tr th:only-of-type {\n",
       "        vertical-align: middle;\n",
       "    }\n",
       "\n",
       "    .dataframe tbody tr th {\n",
       "        vertical-align: top;\n",
       "    }\n",
       "\n",
       "    .dataframe thead tr th {\n",
       "        text-align: left;\n",
       "    }\n",
       "\n",
       "    .dataframe thead tr:last-of-type th {\n",
       "        text-align: right;\n",
       "    }\n",
       "</style>\n",
       "<table border=\"1\" class=\"dataframe\">\n",
       "  <thead>\n",
       "    <tr>\n",
       "      <th>symbol</th>\n",
       "      <th>ABNB</th>\n",
       "      <th colspan=\"3\" halign=\"left\">AYRO</th>\n",
       "      <th colspan=\"6\" halign=\"left\">CDEV</th>\n",
       "      <th>...</th>\n",
       "      <th colspan=\"2\" halign=\"left\">NKLA</th>\n",
       "      <th>NVDA</th>\n",
       "      <th>REI</th>\n",
       "      <th>RH</th>\n",
       "      <th colspan=\"3\" halign=\"left\">SQ</th>\n",
       "      <th>SSSS</th>\n",
       "      <th>XL</th>\n",
       "    </tr>\n",
       "    <tr>\n",
       "      <th>option_expiration</th>\n",
       "      <th>2021-05-21</th>\n",
       "      <th>2021-04-16</th>\n",
       "      <th colspan=\"2\" halign=\"left\">2021-05-21</th>\n",
       "      <th colspan=\"3\" halign=\"left\">2021-03-19</th>\n",
       "      <th colspan=\"2\" halign=\"left\">2021-04-16</th>\n",
       "      <th>2021-05-21</th>\n",
       "      <th>...</th>\n",
       "      <th>2021-05-21</th>\n",
       "      <th>2021-05-28</th>\n",
       "      <th>2021-04-16</th>\n",
       "      <th>2021-04-16</th>\n",
       "      <th>2021-05-21</th>\n",
       "      <th>2021-04-16</th>\n",
       "      <th colspan=\"2\" halign=\"left\">2021-05-21</th>\n",
       "      <th>2021-04-16</th>\n",
       "      <th>2021-05-21</th>\n",
       "    </tr>\n",
       "    <tr>\n",
       "      <th>option_type</th>\n",
       "      <th>CALL</th>\n",
       "      <th>CALL</th>\n",
       "      <th colspan=\"2\" halign=\"left\">CALL</th>\n",
       "      <th colspan=\"3\" halign=\"left\">CALL</th>\n",
       "      <th colspan=\"2\" halign=\"left\">CALL</th>\n",
       "      <th>CALL</th>\n",
       "      <th>...</th>\n",
       "      <th>CALL</th>\n",
       "      <th>CALL</th>\n",
       "      <th>CALL</th>\n",
       "      <th>CALL</th>\n",
       "      <th>CALL</th>\n",
       "      <th>CALL</th>\n",
       "      <th colspan=\"2\" halign=\"left\">CALL</th>\n",
       "      <th>CALL</th>\n",
       "      <th>CALL</th>\n",
       "    </tr>\n",
       "    <tr>\n",
       "      <th>oc_hx_contract_symbol</th>\n",
       "      <th>ABNB210521C00210000</th>\n",
       "      <th>AYRO210416C00007500</th>\n",
       "      <th>AYRO210521C00007500</th>\n",
       "      <th>AYRO210521C00010000</th>\n",
       "      <th>CDEV210319C00004000</th>\n",
       "      <th>CDEV210319C00006000</th>\n",
       "      <th>CDEV210319C00007000</th>\n",
       "      <th>CDEV210416C00004000</th>\n",
       "      <th>CDEV210416C00006000</th>\n",
       "      <th>CDEV210521C00005000</th>\n",
       "      <th>...</th>\n",
       "      <th>NKLA210521C00025000</th>\n",
       "      <th>NKLA210528C00016000</th>\n",
       "      <th>NVDA210416C00700000</th>\n",
       "      <th>REI210416C00005000</th>\n",
       "      <th>RH210521C00720000</th>\n",
       "      <th>SQ210416C00280000</th>\n",
       "      <th>SQ210521C00250000</th>\n",
       "      <th>SQ210521C00270000</th>\n",
       "      <th>SSSS210416C00015000</th>\n",
       "      <th>XL210521C00020000</th>\n",
       "    </tr>\n",
       "    <tr>\n",
       "      <th>Date</th>\n",
       "      <th></th>\n",
       "      <th></th>\n",
       "      <th></th>\n",
       "      <th></th>\n",
       "      <th></th>\n",
       "      <th></th>\n",
       "      <th></th>\n",
       "      <th></th>\n",
       "      <th></th>\n",
       "      <th></th>\n",
       "      <th></th>\n",
       "      <th></th>\n",
       "      <th></th>\n",
       "      <th></th>\n",
       "      <th></th>\n",
       "      <th></th>\n",
       "      <th></th>\n",
       "      <th></th>\n",
       "      <th></th>\n",
       "      <th></th>\n",
       "      <th></th>\n",
       "    </tr>\n",
       "  </thead>\n",
       "  <tbody>\n",
       "    <tr>\n",
       "      <th>2021-01-04</th>\n",
       "      <td>0.0</td>\n",
       "      <td>0.0</td>\n",
       "      <td>0.0</td>\n",
       "      <td>0.0</td>\n",
       "      <td>0.0</td>\n",
       "      <td>0.0</td>\n",
       "      <td>0.0</td>\n",
       "      <td>0.0</td>\n",
       "      <td>0.0</td>\n",
       "      <td>0.0</td>\n",
       "      <td>...</td>\n",
       "      <td>0.0</td>\n",
       "      <td>0.0</td>\n",
       "      <td>0.0</td>\n",
       "      <td>0.0</td>\n",
       "      <td>0.0</td>\n",
       "      <td>0.0</td>\n",
       "      <td>0.0</td>\n",
       "      <td>0.0</td>\n",
       "      <td>0.0</td>\n",
       "      <td>0.0</td>\n",
       "    </tr>\n",
       "    <tr>\n",
       "      <th>2021-01-05</th>\n",
       "      <td>0.0</td>\n",
       "      <td>0.0</td>\n",
       "      <td>0.0</td>\n",
       "      <td>0.0</td>\n",
       "      <td>0.0</td>\n",
       "      <td>0.0</td>\n",
       "      <td>0.0</td>\n",
       "      <td>0.0</td>\n",
       "      <td>0.0</td>\n",
       "      <td>0.0</td>\n",
       "      <td>...</td>\n",
       "      <td>0.0</td>\n",
       "      <td>0.0</td>\n",
       "      <td>0.0</td>\n",
       "      <td>0.0</td>\n",
       "      <td>0.0</td>\n",
       "      <td>0.0</td>\n",
       "      <td>0.0</td>\n",
       "      <td>0.0</td>\n",
       "      <td>0.0</td>\n",
       "      <td>0.0</td>\n",
       "    </tr>\n",
       "    <tr>\n",
       "      <th>2021-01-06</th>\n",
       "      <td>0.0</td>\n",
       "      <td>0.0</td>\n",
       "      <td>0.0</td>\n",
       "      <td>0.0</td>\n",
       "      <td>0.0</td>\n",
       "      <td>0.0</td>\n",
       "      <td>0.0</td>\n",
       "      <td>0.0</td>\n",
       "      <td>0.0</td>\n",
       "      <td>0.0</td>\n",
       "      <td>...</td>\n",
       "      <td>0.0</td>\n",
       "      <td>0.0</td>\n",
       "      <td>0.0</td>\n",
       "      <td>0.0</td>\n",
       "      <td>0.0</td>\n",
       "      <td>0.0</td>\n",
       "      <td>0.0</td>\n",
       "      <td>0.0</td>\n",
       "      <td>0.0</td>\n",
       "      <td>0.0</td>\n",
       "    </tr>\n",
       "    <tr>\n",
       "      <th>2021-01-07</th>\n",
       "      <td>0.0</td>\n",
       "      <td>0.0</td>\n",
       "      <td>0.0</td>\n",
       "      <td>0.0</td>\n",
       "      <td>0.0</td>\n",
       "      <td>0.0</td>\n",
       "      <td>0.0</td>\n",
       "      <td>0.0</td>\n",
       "      <td>0.0</td>\n",
       "      <td>0.0</td>\n",
       "      <td>...</td>\n",
       "      <td>0.0</td>\n",
       "      <td>0.0</td>\n",
       "      <td>0.0</td>\n",
       "      <td>0.0</td>\n",
       "      <td>0.0</td>\n",
       "      <td>0.0</td>\n",
       "      <td>0.0</td>\n",
       "      <td>0.0</td>\n",
       "      <td>0.0</td>\n",
       "      <td>0.0</td>\n",
       "    </tr>\n",
       "    <tr>\n",
       "      <th>2021-01-08</th>\n",
       "      <td>0.0</td>\n",
       "      <td>0.0</td>\n",
       "      <td>0.0</td>\n",
       "      <td>0.0</td>\n",
       "      <td>0.0</td>\n",
       "      <td>0.0</td>\n",
       "      <td>0.0</td>\n",
       "      <td>0.0</td>\n",
       "      <td>0.0</td>\n",
       "      <td>0.0</td>\n",
       "      <td>...</td>\n",
       "      <td>0.0</td>\n",
       "      <td>0.0</td>\n",
       "      <td>0.0</td>\n",
       "      <td>0.0</td>\n",
       "      <td>0.0</td>\n",
       "      <td>0.0</td>\n",
       "      <td>0.0</td>\n",
       "      <td>0.0</td>\n",
       "      <td>0.0</td>\n",
       "      <td>0.0</td>\n",
       "    </tr>\n",
       "    <tr>\n",
       "      <th>...</th>\n",
       "      <td>...</td>\n",
       "      <td>...</td>\n",
       "      <td>...</td>\n",
       "      <td>...</td>\n",
       "      <td>...</td>\n",
       "      <td>...</td>\n",
       "      <td>...</td>\n",
       "      <td>...</td>\n",
       "      <td>...</td>\n",
       "      <td>...</td>\n",
       "      <td>...</td>\n",
       "      <td>...</td>\n",
       "      <td>...</td>\n",
       "      <td>...</td>\n",
       "      <td>...</td>\n",
       "      <td>...</td>\n",
       "      <td>...</td>\n",
       "      <td>...</td>\n",
       "      <td>...</td>\n",
       "      <td>...</td>\n",
       "      <td>...</td>\n",
       "    </tr>\n",
       "    <tr>\n",
       "      <th>2021-06-07</th>\n",
       "      <td>0.0</td>\n",
       "      <td>0.0</td>\n",
       "      <td>0.0</td>\n",
       "      <td>0.0</td>\n",
       "      <td>0.0</td>\n",
       "      <td>0.0</td>\n",
       "      <td>0.0</td>\n",
       "      <td>0.0</td>\n",
       "      <td>0.0</td>\n",
       "      <td>0.0</td>\n",
       "      <td>...</td>\n",
       "      <td>0.0</td>\n",
       "      <td>0.0</td>\n",
       "      <td>0.0</td>\n",
       "      <td>0.0</td>\n",
       "      <td>0.0</td>\n",
       "      <td>0.0</td>\n",
       "      <td>0.0</td>\n",
       "      <td>0.0</td>\n",
       "      <td>0.0</td>\n",
       "      <td>0.0</td>\n",
       "    </tr>\n",
       "    <tr>\n",
       "      <th>2021-06-08</th>\n",
       "      <td>0.0</td>\n",
       "      <td>0.0</td>\n",
       "      <td>0.0</td>\n",
       "      <td>0.0</td>\n",
       "      <td>0.0</td>\n",
       "      <td>0.0</td>\n",
       "      <td>0.0</td>\n",
       "      <td>0.0</td>\n",
       "      <td>0.0</td>\n",
       "      <td>0.0</td>\n",
       "      <td>...</td>\n",
       "      <td>0.0</td>\n",
       "      <td>0.0</td>\n",
       "      <td>0.0</td>\n",
       "      <td>0.0</td>\n",
       "      <td>0.0</td>\n",
       "      <td>0.0</td>\n",
       "      <td>0.0</td>\n",
       "      <td>0.0</td>\n",
       "      <td>0.0</td>\n",
       "      <td>0.0</td>\n",
       "    </tr>\n",
       "    <tr>\n",
       "      <th>2021-06-09</th>\n",
       "      <td>0.0</td>\n",
       "      <td>0.0</td>\n",
       "      <td>0.0</td>\n",
       "      <td>0.0</td>\n",
       "      <td>0.0</td>\n",
       "      <td>0.0</td>\n",
       "      <td>0.0</td>\n",
       "      <td>0.0</td>\n",
       "      <td>0.0</td>\n",
       "      <td>0.0</td>\n",
       "      <td>...</td>\n",
       "      <td>0.0</td>\n",
       "      <td>0.0</td>\n",
       "      <td>0.0</td>\n",
       "      <td>0.0</td>\n",
       "      <td>0.0</td>\n",
       "      <td>0.0</td>\n",
       "      <td>0.0</td>\n",
       "      <td>0.0</td>\n",
       "      <td>0.0</td>\n",
       "      <td>0.0</td>\n",
       "    </tr>\n",
       "    <tr>\n",
       "      <th>2021-06-10</th>\n",
       "      <td>0.0</td>\n",
       "      <td>0.0</td>\n",
       "      <td>0.0</td>\n",
       "      <td>0.0</td>\n",
       "      <td>0.0</td>\n",
       "      <td>0.0</td>\n",
       "      <td>0.0</td>\n",
       "      <td>0.0</td>\n",
       "      <td>0.0</td>\n",
       "      <td>0.0</td>\n",
       "      <td>...</td>\n",
       "      <td>0.0</td>\n",
       "      <td>0.0</td>\n",
       "      <td>0.0</td>\n",
       "      <td>0.0</td>\n",
       "      <td>0.0</td>\n",
       "      <td>0.0</td>\n",
       "      <td>0.0</td>\n",
       "      <td>0.0</td>\n",
       "      <td>0.0</td>\n",
       "      <td>0.0</td>\n",
       "    </tr>\n",
       "    <tr>\n",
       "      <th>2021-06-11</th>\n",
       "      <td>0.0</td>\n",
       "      <td>0.0</td>\n",
       "      <td>0.0</td>\n",
       "      <td>0.0</td>\n",
       "      <td>0.0</td>\n",
       "      <td>0.0</td>\n",
       "      <td>0.0</td>\n",
       "      <td>0.0</td>\n",
       "      <td>0.0</td>\n",
       "      <td>0.0</td>\n",
       "      <td>...</td>\n",
       "      <td>0.0</td>\n",
       "      <td>0.0</td>\n",
       "      <td>0.0</td>\n",
       "      <td>0.0</td>\n",
       "      <td>0.0</td>\n",
       "      <td>0.0</td>\n",
       "      <td>0.0</td>\n",
       "      <td>0.0</td>\n",
       "      <td>0.0</td>\n",
       "      <td>0.0</td>\n",
       "    </tr>\n",
       "  </tbody>\n",
       "</table>\n",
       "<p>111 rows × 129 columns</p>\n",
       "</div>"
      ],
      "text/plain": [
       "symbol                               ABNB                AYRO  \\\n",
       "option_expiration              2021-05-21          2021-04-16   \n",
       "option_type                          CALL                CALL   \n",
       "oc_hx_contract_symbol ABNB210521C00210000 AYRO210416C00007500   \n",
       "Date                                                            \n",
       "2021-01-04                            0.0                 0.0   \n",
       "2021-01-05                            0.0                 0.0   \n",
       "2021-01-06                            0.0                 0.0   \n",
       "2021-01-07                            0.0                 0.0   \n",
       "2021-01-08                            0.0                 0.0   \n",
       "...                                   ...                 ...   \n",
       "2021-06-07                            0.0                 0.0   \n",
       "2021-06-08                            0.0                 0.0   \n",
       "2021-06-09                            0.0                 0.0   \n",
       "2021-06-10                            0.0                 0.0   \n",
       "2021-06-11                            0.0                 0.0   \n",
       "\n",
       "symbol                                                         \\\n",
       "option_expiration              2021-05-21                       \n",
       "option_type                          CALL                       \n",
       "oc_hx_contract_symbol AYRO210521C00007500 AYRO210521C00010000   \n",
       "Date                                                            \n",
       "2021-01-04                            0.0                 0.0   \n",
       "2021-01-05                            0.0                 0.0   \n",
       "2021-01-06                            0.0                 0.0   \n",
       "2021-01-07                            0.0                 0.0   \n",
       "2021-01-08                            0.0                 0.0   \n",
       "...                                   ...                 ...   \n",
       "2021-06-07                            0.0                 0.0   \n",
       "2021-06-08                            0.0                 0.0   \n",
       "2021-06-09                            0.0                 0.0   \n",
       "2021-06-10                            0.0                 0.0   \n",
       "2021-06-11                            0.0                 0.0   \n",
       "\n",
       "symbol                               CDEV                      \\\n",
       "option_expiration              2021-03-19                       \n",
       "option_type                          CALL                       \n",
       "oc_hx_contract_symbol CDEV210319C00004000 CDEV210319C00006000   \n",
       "Date                                                            \n",
       "2021-01-04                            0.0                 0.0   \n",
       "2021-01-05                            0.0                 0.0   \n",
       "2021-01-06                            0.0                 0.0   \n",
       "2021-01-07                            0.0                 0.0   \n",
       "2021-01-08                            0.0                 0.0   \n",
       "...                                   ...                 ...   \n",
       "2021-06-07                            0.0                 0.0   \n",
       "2021-06-08                            0.0                 0.0   \n",
       "2021-06-09                            0.0                 0.0   \n",
       "2021-06-10                            0.0                 0.0   \n",
       "2021-06-11                            0.0                 0.0   \n",
       "\n",
       "symbol                                                         \\\n",
       "option_expiration                                  2021-04-16   \n",
       "option_type                                              CALL   \n",
       "oc_hx_contract_symbol CDEV210319C00007000 CDEV210416C00004000   \n",
       "Date                                                            \n",
       "2021-01-04                            0.0                 0.0   \n",
       "2021-01-05                            0.0                 0.0   \n",
       "2021-01-06                            0.0                 0.0   \n",
       "2021-01-07                            0.0                 0.0   \n",
       "2021-01-08                            0.0                 0.0   \n",
       "...                                   ...                 ...   \n",
       "2021-06-07                            0.0                 0.0   \n",
       "2021-06-08                            0.0                 0.0   \n",
       "2021-06-09                            0.0                 0.0   \n",
       "2021-06-10                            0.0                 0.0   \n",
       "2021-06-11                            0.0                 0.0   \n",
       "\n",
       "symbol                                                         ...  \\\n",
       "option_expiration                                  2021-05-21  ...   \n",
       "option_type                                              CALL  ...   \n",
       "oc_hx_contract_symbol CDEV210416C00006000 CDEV210521C00005000  ...   \n",
       "Date                                                           ...   \n",
       "2021-01-04                            0.0                 0.0  ...   \n",
       "2021-01-05                            0.0                 0.0  ...   \n",
       "2021-01-06                            0.0                 0.0  ...   \n",
       "2021-01-07                            0.0                 0.0  ...   \n",
       "2021-01-08                            0.0                 0.0  ...   \n",
       "...                                   ...                 ...  ...   \n",
       "2021-06-07                            0.0                 0.0  ...   \n",
       "2021-06-08                            0.0                 0.0  ...   \n",
       "2021-06-09                            0.0                 0.0  ...   \n",
       "2021-06-10                            0.0                 0.0  ...   \n",
       "2021-06-11                            0.0                 0.0  ...   \n",
       "\n",
       "symbol                               NKLA                      \\\n",
       "option_expiration              2021-05-21          2021-05-28   \n",
       "option_type                          CALL                CALL   \n",
       "oc_hx_contract_symbol NKLA210521C00025000 NKLA210528C00016000   \n",
       "Date                                                            \n",
       "2021-01-04                            0.0                 0.0   \n",
       "2021-01-05                            0.0                 0.0   \n",
       "2021-01-06                            0.0                 0.0   \n",
       "2021-01-07                            0.0                 0.0   \n",
       "2021-01-08                            0.0                 0.0   \n",
       "...                                   ...                 ...   \n",
       "2021-06-07                            0.0                 0.0   \n",
       "2021-06-08                            0.0                 0.0   \n",
       "2021-06-09                            0.0                 0.0   \n",
       "2021-06-10                            0.0                 0.0   \n",
       "2021-06-11                            0.0                 0.0   \n",
       "\n",
       "symbol                               NVDA                REI  \\\n",
       "option_expiration              2021-04-16         2021-04-16   \n",
       "option_type                          CALL               CALL   \n",
       "oc_hx_contract_symbol NVDA210416C00700000 REI210416C00005000   \n",
       "Date                                                           \n",
       "2021-01-04                            0.0                0.0   \n",
       "2021-01-05                            0.0                0.0   \n",
       "2021-01-06                            0.0                0.0   \n",
       "2021-01-07                            0.0                0.0   \n",
       "2021-01-08                            0.0                0.0   \n",
       "...                                   ...                ...   \n",
       "2021-06-07                            0.0                0.0   \n",
       "2021-06-08                            0.0                0.0   \n",
       "2021-06-09                            0.0                0.0   \n",
       "2021-06-10                            0.0                0.0   \n",
       "2021-06-11                            0.0                0.0   \n",
       "\n",
       "symbol                               RH                SQ                    \\\n",
       "option_expiration            2021-05-21        2021-04-16        2021-05-21   \n",
       "option_type                        CALL              CALL              CALL   \n",
       "oc_hx_contract_symbol RH210521C00720000 SQ210416C00280000 SQ210521C00250000   \n",
       "Date                                                                          \n",
       "2021-01-04                          0.0               0.0               0.0   \n",
       "2021-01-05                          0.0               0.0               0.0   \n",
       "2021-01-06                          0.0               0.0               0.0   \n",
       "2021-01-07                          0.0               0.0               0.0   \n",
       "2021-01-08                          0.0               0.0               0.0   \n",
       "...                                 ...               ...               ...   \n",
       "2021-06-07                          0.0               0.0               0.0   \n",
       "2021-06-08                          0.0               0.0               0.0   \n",
       "2021-06-09                          0.0               0.0               0.0   \n",
       "2021-06-10                          0.0               0.0               0.0   \n",
       "2021-06-11                          0.0               0.0               0.0   \n",
       "\n",
       "symbol                                                 SSSS                XL  \n",
       "option_expiration                                2021-04-16        2021-05-21  \n",
       "option_type                                            CALL              CALL  \n",
       "oc_hx_contract_symbol SQ210521C00270000 SSSS210416C00015000 XL210521C00020000  \n",
       "Date                                                                           \n",
       "2021-01-04                          0.0                 0.0               0.0  \n",
       "2021-01-05                          0.0                 0.0               0.0  \n",
       "2021-01-06                          0.0                 0.0               0.0  \n",
       "2021-01-07                          0.0                 0.0               0.0  \n",
       "2021-01-08                          0.0                 0.0               0.0  \n",
       "...                                 ...                 ...               ...  \n",
       "2021-06-07                          0.0                 0.0               0.0  \n",
       "2021-06-08                          0.0                 0.0               0.0  \n",
       "2021-06-09                          0.0                 0.0               0.0  \n",
       "2021-06-10                          0.0                 0.0               0.0  \n",
       "2021-06-11                          0.0                 0.0               0.0  \n",
       "\n",
       "[111 rows x 129 columns]"
      ]
     },
     "execution_count": 199,
     "metadata": {},
     "output_type": "execute_result"
    }
   ],
   "source": [
    "entry_size_df"
   ]
  },
  {
   "cell_type": "code",
   "execution_count": 200,
   "metadata": {},
   "outputs": [
    {
     "data": {
      "text/html": [
       "<div>\n",
       "<style scoped>\n",
       "    .dataframe tbody tr th:only-of-type {\n",
       "        vertical-align: middle;\n",
       "    }\n",
       "\n",
       "    .dataframe tbody tr th {\n",
       "        vertical-align: top;\n",
       "    }\n",
       "\n",
       "    .dataframe thead tr th {\n",
       "        text-align: left;\n",
       "    }\n",
       "\n",
       "    .dataframe thead tr:last-of-type th {\n",
       "        text-align: right;\n",
       "    }\n",
       "</style>\n",
       "<table border=\"1\" class=\"dataframe\">\n",
       "  <thead>\n",
       "    <tr>\n",
       "      <th>exit_type</th>\n",
       "      <th colspan=\"21\" halign=\"left\">pct_inc</th>\n",
       "    </tr>\n",
       "    <tr>\n",
       "      <th>symbol</th>\n",
       "      <th>ABNB</th>\n",
       "      <th colspan=\"3\" halign=\"left\">AYRO</th>\n",
       "      <th colspan=\"6\" halign=\"left\">CDEV</th>\n",
       "      <th>...</th>\n",
       "      <th colspan=\"2\" halign=\"left\">NKLA</th>\n",
       "      <th>NVDA</th>\n",
       "      <th>REI</th>\n",
       "      <th>RH</th>\n",
       "      <th colspan=\"3\" halign=\"left\">SQ</th>\n",
       "      <th>SSSS</th>\n",
       "      <th>XL</th>\n",
       "    </tr>\n",
       "    <tr>\n",
       "      <th>option_expiration</th>\n",
       "      <th>2021-05-21</th>\n",
       "      <th>2021-04-16</th>\n",
       "      <th colspan=\"2\" halign=\"left\">2021-05-21</th>\n",
       "      <th colspan=\"3\" halign=\"left\">2021-03-19</th>\n",
       "      <th colspan=\"2\" halign=\"left\">2021-04-16</th>\n",
       "      <th>2021-05-21</th>\n",
       "      <th>...</th>\n",
       "      <th>2021-05-21</th>\n",
       "      <th>2021-05-28</th>\n",
       "      <th>2021-04-16</th>\n",
       "      <th>2021-04-16</th>\n",
       "      <th>2021-05-21</th>\n",
       "      <th>2021-04-16</th>\n",
       "      <th colspan=\"2\" halign=\"left\">2021-05-21</th>\n",
       "      <th>2021-04-16</th>\n",
       "      <th>2021-05-21</th>\n",
       "    </tr>\n",
       "    <tr>\n",
       "      <th>option_type</th>\n",
       "      <th>CALL</th>\n",
       "      <th>CALL</th>\n",
       "      <th colspan=\"2\" halign=\"left\">CALL</th>\n",
       "      <th colspan=\"3\" halign=\"left\">CALL</th>\n",
       "      <th colspan=\"2\" halign=\"left\">CALL</th>\n",
       "      <th>CALL</th>\n",
       "      <th>...</th>\n",
       "      <th>CALL</th>\n",
       "      <th>CALL</th>\n",
       "      <th>CALL</th>\n",
       "      <th>CALL</th>\n",
       "      <th>CALL</th>\n",
       "      <th>CALL</th>\n",
       "      <th colspan=\"2\" halign=\"left\">CALL</th>\n",
       "      <th>CALL</th>\n",
       "      <th>CALL</th>\n",
       "    </tr>\n",
       "    <tr>\n",
       "      <th>oc_hx_contract_symbol</th>\n",
       "      <th>ABNB210521C00210000</th>\n",
       "      <th>AYRO210416C00007500</th>\n",
       "      <th>AYRO210521C00007500</th>\n",
       "      <th>AYRO210521C00010000</th>\n",
       "      <th>CDEV210319C00004000</th>\n",
       "      <th>CDEV210319C00006000</th>\n",
       "      <th>CDEV210319C00007000</th>\n",
       "      <th>CDEV210416C00004000</th>\n",
       "      <th>CDEV210416C00006000</th>\n",
       "      <th>CDEV210521C00005000</th>\n",
       "      <th>...</th>\n",
       "      <th>NKLA210521C00025000</th>\n",
       "      <th>NKLA210528C00016000</th>\n",
       "      <th>NVDA210416C00700000</th>\n",
       "      <th>REI210416C00005000</th>\n",
       "      <th>RH210521C00720000</th>\n",
       "      <th>SQ210416C00280000</th>\n",
       "      <th>SQ210521C00250000</th>\n",
       "      <th>SQ210521C00270000</th>\n",
       "      <th>SSSS210416C00015000</th>\n",
       "      <th>XL210521C00020000</th>\n",
       "    </tr>\n",
       "    <tr>\n",
       "      <th>oc_hx_date</th>\n",
       "      <th></th>\n",
       "      <th></th>\n",
       "      <th></th>\n",
       "      <th></th>\n",
       "      <th></th>\n",
       "      <th></th>\n",
       "      <th></th>\n",
       "      <th></th>\n",
       "      <th></th>\n",
       "      <th></th>\n",
       "      <th></th>\n",
       "      <th></th>\n",
       "      <th></th>\n",
       "      <th></th>\n",
       "      <th></th>\n",
       "      <th></th>\n",
       "      <th></th>\n",
       "      <th></th>\n",
       "      <th></th>\n",
       "      <th></th>\n",
       "      <th></th>\n",
       "    </tr>\n",
       "  </thead>\n",
       "  <tbody>\n",
       "    <tr>\n",
       "      <th>2021-01-04</th>\n",
       "      <td>False</td>\n",
       "      <td>False</td>\n",
       "      <td>False</td>\n",
       "      <td>False</td>\n",
       "      <td>False</td>\n",
       "      <td>False</td>\n",
       "      <td>False</td>\n",
       "      <td>False</td>\n",
       "      <td>False</td>\n",
       "      <td>False</td>\n",
       "      <td>...</td>\n",
       "      <td>False</td>\n",
       "      <td>False</td>\n",
       "      <td>False</td>\n",
       "      <td>False</td>\n",
       "      <td>False</td>\n",
       "      <td>False</td>\n",
       "      <td>False</td>\n",
       "      <td>False</td>\n",
       "      <td>False</td>\n",
       "      <td>False</td>\n",
       "    </tr>\n",
       "    <tr>\n",
       "      <th>2021-01-05</th>\n",
       "      <td>False</td>\n",
       "      <td>False</td>\n",
       "      <td>False</td>\n",
       "      <td>False</td>\n",
       "      <td>False</td>\n",
       "      <td>False</td>\n",
       "      <td>False</td>\n",
       "      <td>False</td>\n",
       "      <td>False</td>\n",
       "      <td>False</td>\n",
       "      <td>...</td>\n",
       "      <td>False</td>\n",
       "      <td>False</td>\n",
       "      <td>False</td>\n",
       "      <td>False</td>\n",
       "      <td>False</td>\n",
       "      <td>False</td>\n",
       "      <td>False</td>\n",
       "      <td>False</td>\n",
       "      <td>False</td>\n",
       "      <td>False</td>\n",
       "    </tr>\n",
       "    <tr>\n",
       "      <th>2021-01-06</th>\n",
       "      <td>False</td>\n",
       "      <td>False</td>\n",
       "      <td>False</td>\n",
       "      <td>False</td>\n",
       "      <td>False</td>\n",
       "      <td>False</td>\n",
       "      <td>False</td>\n",
       "      <td>False</td>\n",
       "      <td>False</td>\n",
       "      <td>False</td>\n",
       "      <td>...</td>\n",
       "      <td>False</td>\n",
       "      <td>False</td>\n",
       "      <td>False</td>\n",
       "      <td>False</td>\n",
       "      <td>False</td>\n",
       "      <td>False</td>\n",
       "      <td>False</td>\n",
       "      <td>False</td>\n",
       "      <td>False</td>\n",
       "      <td>False</td>\n",
       "    </tr>\n",
       "    <tr>\n",
       "      <th>2021-01-07</th>\n",
       "      <td>False</td>\n",
       "      <td>False</td>\n",
       "      <td>False</td>\n",
       "      <td>False</td>\n",
       "      <td>False</td>\n",
       "      <td>False</td>\n",
       "      <td>False</td>\n",
       "      <td>False</td>\n",
       "      <td>False</td>\n",
       "      <td>False</td>\n",
       "      <td>...</td>\n",
       "      <td>False</td>\n",
       "      <td>False</td>\n",
       "      <td>False</td>\n",
       "      <td>False</td>\n",
       "      <td>False</td>\n",
       "      <td>False</td>\n",
       "      <td>False</td>\n",
       "      <td>False</td>\n",
       "      <td>False</td>\n",
       "      <td>False</td>\n",
       "    </tr>\n",
       "    <tr>\n",
       "      <th>2021-01-08</th>\n",
       "      <td>False</td>\n",
       "      <td>False</td>\n",
       "      <td>False</td>\n",
       "      <td>False</td>\n",
       "      <td>False</td>\n",
       "      <td>False</td>\n",
       "      <td>False</td>\n",
       "      <td>False</td>\n",
       "      <td>False</td>\n",
       "      <td>False</td>\n",
       "      <td>...</td>\n",
       "      <td>False</td>\n",
       "      <td>False</td>\n",
       "      <td>False</td>\n",
       "      <td>False</td>\n",
       "      <td>False</td>\n",
       "      <td>False</td>\n",
       "      <td>False</td>\n",
       "      <td>False</td>\n",
       "      <td>False</td>\n",
       "      <td>False</td>\n",
       "    </tr>\n",
       "    <tr>\n",
       "      <th>...</th>\n",
       "      <td>...</td>\n",
       "      <td>...</td>\n",
       "      <td>...</td>\n",
       "      <td>...</td>\n",
       "      <td>...</td>\n",
       "      <td>...</td>\n",
       "      <td>...</td>\n",
       "      <td>...</td>\n",
       "      <td>...</td>\n",
       "      <td>...</td>\n",
       "      <td>...</td>\n",
       "      <td>...</td>\n",
       "      <td>...</td>\n",
       "      <td>...</td>\n",
       "      <td>...</td>\n",
       "      <td>...</td>\n",
       "      <td>...</td>\n",
       "      <td>...</td>\n",
       "      <td>...</td>\n",
       "      <td>...</td>\n",
       "      <td>...</td>\n",
       "    </tr>\n",
       "    <tr>\n",
       "      <th>2021-06-07</th>\n",
       "      <td>False</td>\n",
       "      <td>False</td>\n",
       "      <td>False</td>\n",
       "      <td>False</td>\n",
       "      <td>False</td>\n",
       "      <td>False</td>\n",
       "      <td>False</td>\n",
       "      <td>False</td>\n",
       "      <td>False</td>\n",
       "      <td>False</td>\n",
       "      <td>...</td>\n",
       "      <td>False</td>\n",
       "      <td>False</td>\n",
       "      <td>False</td>\n",
       "      <td>False</td>\n",
       "      <td>False</td>\n",
       "      <td>False</td>\n",
       "      <td>False</td>\n",
       "      <td>False</td>\n",
       "      <td>False</td>\n",
       "      <td>False</td>\n",
       "    </tr>\n",
       "    <tr>\n",
       "      <th>2021-06-08</th>\n",
       "      <td>False</td>\n",
       "      <td>False</td>\n",
       "      <td>False</td>\n",
       "      <td>False</td>\n",
       "      <td>False</td>\n",
       "      <td>False</td>\n",
       "      <td>False</td>\n",
       "      <td>False</td>\n",
       "      <td>False</td>\n",
       "      <td>False</td>\n",
       "      <td>...</td>\n",
       "      <td>False</td>\n",
       "      <td>False</td>\n",
       "      <td>False</td>\n",
       "      <td>False</td>\n",
       "      <td>False</td>\n",
       "      <td>False</td>\n",
       "      <td>False</td>\n",
       "      <td>False</td>\n",
       "      <td>False</td>\n",
       "      <td>False</td>\n",
       "    </tr>\n",
       "    <tr>\n",
       "      <th>2021-06-09</th>\n",
       "      <td>False</td>\n",
       "      <td>False</td>\n",
       "      <td>False</td>\n",
       "      <td>False</td>\n",
       "      <td>False</td>\n",
       "      <td>False</td>\n",
       "      <td>False</td>\n",
       "      <td>False</td>\n",
       "      <td>False</td>\n",
       "      <td>False</td>\n",
       "      <td>...</td>\n",
       "      <td>False</td>\n",
       "      <td>False</td>\n",
       "      <td>False</td>\n",
       "      <td>False</td>\n",
       "      <td>False</td>\n",
       "      <td>False</td>\n",
       "      <td>False</td>\n",
       "      <td>False</td>\n",
       "      <td>False</td>\n",
       "      <td>False</td>\n",
       "    </tr>\n",
       "    <tr>\n",
       "      <th>2021-06-10</th>\n",
       "      <td>False</td>\n",
       "      <td>False</td>\n",
       "      <td>False</td>\n",
       "      <td>False</td>\n",
       "      <td>False</td>\n",
       "      <td>False</td>\n",
       "      <td>False</td>\n",
       "      <td>False</td>\n",
       "      <td>False</td>\n",
       "      <td>False</td>\n",
       "      <td>...</td>\n",
       "      <td>False</td>\n",
       "      <td>False</td>\n",
       "      <td>False</td>\n",
       "      <td>False</td>\n",
       "      <td>False</td>\n",
       "      <td>False</td>\n",
       "      <td>False</td>\n",
       "      <td>False</td>\n",
       "      <td>False</td>\n",
       "      <td>False</td>\n",
       "    </tr>\n",
       "    <tr>\n",
       "      <th>2021-06-11</th>\n",
       "      <td>False</td>\n",
       "      <td>False</td>\n",
       "      <td>False</td>\n",
       "      <td>False</td>\n",
       "      <td>False</td>\n",
       "      <td>False</td>\n",
       "      <td>False</td>\n",
       "      <td>False</td>\n",
       "      <td>False</td>\n",
       "      <td>False</td>\n",
       "      <td>...</td>\n",
       "      <td>False</td>\n",
       "      <td>False</td>\n",
       "      <td>False</td>\n",
       "      <td>False</td>\n",
       "      <td>False</td>\n",
       "      <td>False</td>\n",
       "      <td>False</td>\n",
       "      <td>False</td>\n",
       "      <td>False</td>\n",
       "      <td>False</td>\n",
       "    </tr>\n",
       "  </tbody>\n",
       "</table>\n",
       "<p>111 rows × 129 columns</p>\n",
       "</div>"
      ],
      "text/plain": [
       "exit_type                         pct_inc                      \\\n",
       "symbol                               ABNB                AYRO   \n",
       "option_expiration              2021-05-21          2021-04-16   \n",
       "option_type                          CALL                CALL   \n",
       "oc_hx_contract_symbol ABNB210521C00210000 AYRO210416C00007500   \n",
       "oc_hx_date                                                      \n",
       "2021-01-04                          False               False   \n",
       "2021-01-05                          False               False   \n",
       "2021-01-06                          False               False   \n",
       "2021-01-07                          False               False   \n",
       "2021-01-08                          False               False   \n",
       "...                                   ...                 ...   \n",
       "2021-06-07                          False               False   \n",
       "2021-06-08                          False               False   \n",
       "2021-06-09                          False               False   \n",
       "2021-06-10                          False               False   \n",
       "2021-06-11                          False               False   \n",
       "\n",
       "exit_type                                                      \\\n",
       "symbol                                                          \n",
       "option_expiration              2021-05-21                       \n",
       "option_type                          CALL                       \n",
       "oc_hx_contract_symbol AYRO210521C00007500 AYRO210521C00010000   \n",
       "oc_hx_date                                                      \n",
       "2021-01-04                          False               False   \n",
       "2021-01-05                          False               False   \n",
       "2021-01-06                          False               False   \n",
       "2021-01-07                          False               False   \n",
       "2021-01-08                          False               False   \n",
       "...                                   ...                 ...   \n",
       "2021-06-07                          False               False   \n",
       "2021-06-08                          False               False   \n",
       "2021-06-09                          False               False   \n",
       "2021-06-10                          False               False   \n",
       "2021-06-11                          False               False   \n",
       "\n",
       "exit_type                                                      \\\n",
       "symbol                               CDEV                       \n",
       "option_expiration              2021-03-19                       \n",
       "option_type                          CALL                       \n",
       "oc_hx_contract_symbol CDEV210319C00004000 CDEV210319C00006000   \n",
       "oc_hx_date                                                      \n",
       "2021-01-04                          False               False   \n",
       "2021-01-05                          False               False   \n",
       "2021-01-06                          False               False   \n",
       "2021-01-07                          False               False   \n",
       "2021-01-08                          False               False   \n",
       "...                                   ...                 ...   \n",
       "2021-06-07                          False               False   \n",
       "2021-06-08                          False               False   \n",
       "2021-06-09                          False               False   \n",
       "2021-06-10                          False               False   \n",
       "2021-06-11                          False               False   \n",
       "\n",
       "exit_type                                                      \\\n",
       "symbol                                                          \n",
       "option_expiration                                  2021-04-16   \n",
       "option_type                                              CALL   \n",
       "oc_hx_contract_symbol CDEV210319C00007000 CDEV210416C00004000   \n",
       "oc_hx_date                                                      \n",
       "2021-01-04                          False               False   \n",
       "2021-01-05                          False               False   \n",
       "2021-01-06                          False               False   \n",
       "2021-01-07                          False               False   \n",
       "2021-01-08                          False               False   \n",
       "...                                   ...                 ...   \n",
       "2021-06-07                          False               False   \n",
       "2021-06-08                          False               False   \n",
       "2021-06-09                          False               False   \n",
       "2021-06-10                          False               False   \n",
       "2021-06-11                          False               False   \n",
       "\n",
       "exit_type                                                      ...  \\\n",
       "symbol                                                         ...   \n",
       "option_expiration                                  2021-05-21  ...   \n",
       "option_type                                              CALL  ...   \n",
       "oc_hx_contract_symbol CDEV210416C00006000 CDEV210521C00005000  ...   \n",
       "oc_hx_date                                                     ...   \n",
       "2021-01-04                          False               False  ...   \n",
       "2021-01-05                          False               False  ...   \n",
       "2021-01-06                          False               False  ...   \n",
       "2021-01-07                          False               False  ...   \n",
       "2021-01-08                          False               False  ...   \n",
       "...                                   ...                 ...  ...   \n",
       "2021-06-07                          False               False  ...   \n",
       "2021-06-08                          False               False  ...   \n",
       "2021-06-09                          False               False  ...   \n",
       "2021-06-10                          False               False  ...   \n",
       "2021-06-11                          False               False  ...   \n",
       "\n",
       "exit_type                                                      \\\n",
       "symbol                               NKLA                       \n",
       "option_expiration              2021-05-21          2021-05-28   \n",
       "option_type                          CALL                CALL   \n",
       "oc_hx_contract_symbol NKLA210521C00025000 NKLA210528C00016000   \n",
       "oc_hx_date                                                      \n",
       "2021-01-04                          False               False   \n",
       "2021-01-05                          False               False   \n",
       "2021-01-06                          False               False   \n",
       "2021-01-07                          False               False   \n",
       "2021-01-08                          False               False   \n",
       "...                                   ...                 ...   \n",
       "2021-06-07                          False               False   \n",
       "2021-06-08                          False               False   \n",
       "2021-06-09                          False               False   \n",
       "2021-06-10                          False               False   \n",
       "2021-06-11                          False               False   \n",
       "\n",
       "exit_type                                                     \\\n",
       "symbol                               NVDA                REI   \n",
       "option_expiration              2021-04-16         2021-04-16   \n",
       "option_type                          CALL               CALL   \n",
       "oc_hx_contract_symbol NVDA210416C00700000 REI210416C00005000   \n",
       "oc_hx_date                                                     \n",
       "2021-01-04                          False              False   \n",
       "2021-01-05                          False              False   \n",
       "2021-01-06                          False              False   \n",
       "2021-01-07                          False              False   \n",
       "2021-01-08                          False              False   \n",
       "...                                   ...                ...   \n",
       "2021-06-07                          False              False   \n",
       "2021-06-08                          False              False   \n",
       "2021-06-09                          False              False   \n",
       "2021-06-10                          False              False   \n",
       "2021-06-11                          False              False   \n",
       "\n",
       "exit_type                                                                    \\\n",
       "symbol                               RH                SQ                     \n",
       "option_expiration            2021-05-21        2021-04-16        2021-05-21   \n",
       "option_type                        CALL              CALL              CALL   \n",
       "oc_hx_contract_symbol RH210521C00720000 SQ210416C00280000 SQ210521C00250000   \n",
       "oc_hx_date                                                                    \n",
       "2021-01-04                        False             False             False   \n",
       "2021-01-05                        False             False             False   \n",
       "2021-01-06                        False             False             False   \n",
       "2021-01-07                        False             False             False   \n",
       "2021-01-08                        False             False             False   \n",
       "...                                 ...               ...               ...   \n",
       "2021-06-07                        False             False             False   \n",
       "2021-06-08                        False             False             False   \n",
       "2021-06-09                        False             False             False   \n",
       "2021-06-10                        False             False             False   \n",
       "2021-06-11                        False             False             False   \n",
       "\n",
       "exit_type                                                                      \n",
       "symbol                                                 SSSS                XL  \n",
       "option_expiration                                2021-04-16        2021-05-21  \n",
       "option_type                                            CALL              CALL  \n",
       "oc_hx_contract_symbol SQ210521C00270000 SSSS210416C00015000 XL210521C00020000  \n",
       "oc_hx_date                                                                     \n",
       "2021-01-04                        False               False             False  \n",
       "2021-01-05                        False               False             False  \n",
       "2021-01-06                        False               False             False  \n",
       "2021-01-07                        False               False             False  \n",
       "2021-01-08                        False               False             False  \n",
       "...                                 ...                 ...               ...  \n",
       "2021-06-07                        False               False             False  \n",
       "2021-06-08                        False               False             False  \n",
       "2021-06-09                        False               False             False  \n",
       "2021-06-10                        False               False             False  \n",
       "2021-06-11                        False               False             False  \n",
       "\n",
       "[111 rows x 129 columns]"
      ]
     },
     "execution_count": 200,
     "metadata": {},
     "output_type": "execute_result"
    }
   ],
   "source": [
    "all_exit_df.loc[:,all_exit_df.columns.get_level_values('exit_type') == 'pct_inc']"
   ]
  },
  {
   "cell_type": "code",
   "execution_count": 205,
   "metadata": {},
   "outputs": [
    {
     "name": "stdout",
     "output_type": "stream",
     "text": [
      "(1548,)\n"
     ]
    }
   ],
   "source": [
    "import gc\n",
    "\n",
    "max_cash_per_trade = 500\n",
    "total_returns = []\n",
    "for exit_type in exit_types:\n",
    "    entry_size_df = uniform_cash_order_sizing(df_tmp,entry_df.copy().astype(int),max_cash_per_trade)\n",
    "    chunk_exit_df = all_exit_df.loc[:,all_exit_df.columns.get_level_values('exit_type') == exit_type]\n",
    "    entry_size_df.columns = chunk_exit_df.columns\n",
    "    exit_size_df = chunk_exit_df.astype(int) * entry_size_df.sum()\n",
    "    entry_exit_size_df = entry_size_df - exit_size_df\n",
    "    \n",
    "    portfolio = vbt.Portfolio.from_orders(\n",
    "        df_tmp,  # grouped by exit_type, symbol, contract_symbol\n",
    "        size=entry_exit_size_df, \n",
    "        min_size=0,\n",
    "        max_size=500000, \n",
    "        log=True, \n",
    "        fees=0.001, \n",
    "        slippage=0.00,\n",
    "        init_cash='autoalign', #50000,\n",
    "        direction='longonly',\n",
    "        freq='1D',\n",
    "    )\n",
    "    total_returns.append(portfolio.total_return())\n",
    "\n",
    "    if exit_type in ['expiration','pct_inc']:\n",
    "        pass\n",
    "    else:\n",
    "        del portfolio\n",
    "    gc.collect()\n",
    "    \n",
    "total_return = pd.concat(total_returns)\n",
    "\n",
    "print(total_return.shape)"
   ]
  },
  {
   "cell_type": "code",
   "execution_count": 206,
   "metadata": {},
   "outputs": [
    {
     "name": "stdout",
     "output_type": "stream",
     "text": [
      "                Mean    Median       Std\n",
      "exit_type                               \n",
      "rand_0     -0.004768 -0.047851  0.383680\n",
      "rand_1     -0.018033 -0.017533  0.337299\n",
      "rand_2      0.008535 -0.007991  0.393885\n",
      "rand_3      0.005924 -0.028735  0.384028\n",
      "rand_4     -0.002958 -0.047729  0.404424\n",
      "rand_5      0.002679 -0.042247  0.372916\n",
      "rand_6     -0.007150 -0.043608  0.277536\n",
      "rand_7      0.002960 -0.051209  0.414348\n",
      "rand_8      0.024833 -0.009108  0.484901\n",
      "rand_9     -0.016325 -0.043608  0.252776\n",
      "expiration -0.140191 -0.122099  0.285016\n",
      "pct_inc    -0.028038 -0.095861  0.284518\n"
     ]
    },
    {
     "data": {
      "application/vnd.plotly.v1+json": {
       "config": {
        "plotlyServerURL": "https://plot.ly"
       },
       "data": [
        {
         "name": "rand_0",
         "showlegend": true,
         "type": "box",
         "uid": "8e45f1be-9d66-433e-9c81-9bedc22be96a",
         "y": [
          0,
          -0.00135000135000135,
          -0.3823305073305073,
          -0.17666387666387662,
          0.03981153981153982,
          1.3371932121932122,
          -0.13533763533763535,
          -0.06804006804006804,
          0.3331229581229581,
          -0.07345897345897348,
          0.1935496935496935,
          0.05396427896427897,
          0.3533594783594783,
          0.2212058212058212,
          -0.13821043821043824,
          -0.04785079785079788,
          -0.4228035478035478,
          0.6102991602991603,
          0.027795177795177792,
          -0.10182385182385184,
          -0.01753314253314255,
          0.03451413451413448,
          0.012852012852012828,
          0.053330453330453394,
          0.16454828954828957,
          0.3068256068256068,
          -0.11193198693198693,
          0.35955598455598453,
          -0.09156046656046654,
          0.16459553959553958,
          0.6736506736506737,
          0.08456813456813457,
          0.09654129654129658,
          0.0023328023328023444,
          0,
          0,
          -0.11862124362124359,
          -0.058650808650808677,
          -0.0895941895941896,
          -0.09759969759969757,
          -0.007202257202257175,
          -0.20290520290520292,
          -0.18947268947268942,
          -0.3243108243108243,
          -0.015398115398115367,
          0.4060554310554311,
          -0.05587250587250587,
          0.579961254961255,
          -0.08156708156708159,
          0.06641264141264142,
          0.2788313038313039,
          0.4060898560898561,
          0.10287752787752792,
          0.025407700407700497,
          -0.09134176634176629,
          -0.0819120069120069,
          -0.22372222372222367,
          0.17275089775089777,
          -0.32690080190080195,
          -0.5969017469017469,
          -0.004916704916704911,
          -0.13411318411318413,
          -0.26365391365391366,
          -0.1556612306612307,
          -0.047567297567297544,
          -0.10451305451305455,
          -0.07608067608067608,
          -0.1037023787023787,
          0.10871020871020876,
          0.0863528363528364,
          -0.6101742851742852,
          0.05339997839997839,
          -0.18273618273618275,
          -0.16549801549801546,
          -0.054621054621054634,
          -0.07752922752922757,
          -0.29193509193509193,
          -0.06121581121581121,
          -0.08148608148608151,
          -0.3025339525339526,
          -0.10289845289845292,
          -0.17541175041175047,
          -0.6335630585630586,
          -0.05882360882360887,
          0.030437130437130425,
          -0.11189823689823691,
          0.0182709182709183,
          0.09649539649539647,
          -0.10835110835110834,
          0.2920525420525421,
          -0.26026338526338527,
          -0.7194589194589195,
          -0.3121581121581122,
          -0.30001620001620005,
          0.0735278235278235,
          0.029757404757404744,
          -0.10584280584280586,
          0.07217917217917219,
          -0.000675000675000675,
          0.6736506736506737,
          3.2023719523719523,
          0.025954450954450987,
          0,
          0,
          -0.14222939222939218,
          -0.0814928314928315,
          -0.3337581337581338,
          -0.21555944055944057,
          -0.3337750087750088,
          0.03574128574128573,
          -0.32431892431892434,
          0.0008626508626508378,
          -0.0005616005616005573,
          -0.054288954288954284,
          -0.10094770094770096,
          -0.024939924939924925,
          -0.09770769770769772,
          -0.20699975699975703,
          -0.03370345870345865,
          -0.3263358263358263,
          0.05193050193050191,
          0,
          -0.18947268947268942,
          0,
          -0.13416988416988415,
          0,
          0,
          0.20162270162270166,
          -0.2919580419580419
         ]
        },
        {
         "name": "rand_1",
         "showlegend": true,
         "type": "box",
         "uid": "c99d2d35-6e9d-42c7-b54d-ce1411d335db",
         "y": [
          0,
          -0.6217296217296218,
          -0.38204363204363206,
          -0.2365958365958366,
          0.03981153981153982,
          2.6858445608445614,
          -0.13533763533763535,
          -0.06804006804006804,
          0.3331229581229581,
          -0.18674568674568676,
          0.09644679644679642,
          0.490927315927316,
          0.4005622755622755,
          0.2731288981288981,
          -0.1786699786699787,
          -0.04785079785079788,
          0.015508140508140523,
          0.6102991602991603,
          0.027795177795177792,
          0.10047385047385049,
          -0.01753314253314255,
          0.03451413451413448,
          0.012852012852012828,
          0.053330453330453394,
          0.16454828954828957,
          -0.07754002754002756,
          -0.22319572319572317,
          0.35955598455598453,
          -0.09156046656046654,
          0.022987147987147953,
          0.16790641790641792,
          0.08456813456813457,
          0.09654129654129658,
          0.0023328023328023444,
          0,
          0,
          -0.11862124362124359,
          -0.058650808650808677,
          -0.0895941895941896,
          -0.09759969759969757,
          -0.007202257202257175,
          -0.017465642465642466,
          -0.2649310149310149,
          -0.2299187299187299,
          -0.015398115398115367,
          0.4060554310554311,
          -0.05587250587250587,
          0.579961254961255,
          -0.08156708156708159,
          0.06641264141264142,
          0.2788313038313039,
          0.4060898560898561,
          0.10287752787752792,
          0.025407700407700497,
          -0.2093082593082592,
          0.17914315414315413,
          -0.39567527067527064,
          0.17275089775089777,
          -0.3268670518670519,
          -0.4755265005265005,
          -0.004916704916704911,
          -0.13411318411318413,
          -0.32501755001755,
          -0.6215277965277965,
          -0.047567297567297544,
          -0.10451305451305455,
          -0.07608067608067608,
          -0.1037023787023787,
          0.10871020871020876,
          0.0863528363528364,
          -0.6101742851742852,
          0.05339997839997839,
          -0.10384007884007887,
          -0.4574412074412075,
          -0.054621054621054634,
          -0.07752922752922757,
          -0.30276750276750275,
          -0.06121581121581121,
          -0.08148608148608151,
          -0.3025339525339526,
          -0.10289845289845292,
          -0.17541175041175047,
          -0.6335630585630586,
          0.07469287469287465,
          0.030437130437130425,
          -0.11189823689823691,
          0.0182709182709183,
          0.09649539649539647,
          -0.14206739206739205,
          0.2920525420525421,
          -0.1962024462024462,
          0.8726017226017225,
          -0.3121581121581122,
          -0.30001620001620005,
          0.0735278235278235,
          0.029757404757404744,
          -0.10584280584280586,
          0.12073062073062074,
          -0.000675000675000675,
          0.13419013419013415,
          0.3364878364878365,
          0.025954450954450987,
          0,
          0,
          -0.14222939222939218,
          -0.0814928314928315,
          -0.3337581337581338,
          -0.04360841860841862,
          -0.3337750087750088,
          0.03574128574128573,
          -0.32431892431892434,
          0.0008626508626508378,
          -0.0005616005616005573,
          -0.054288954288954284,
          -0.10094770094770096,
          0.09643869643869649,
          -0.09770769770769772,
          -0.10989685989685993,
          -0.03370345870345865,
          -0.10921848421848418,
          -0.10563355563355566,
          0,
          -0.2838310338310338,
          0,
          -0.11191713691713691,
          0,
          0,
          -0.000675000675000675,
          -0.5751748251748252
         ]
        },
        {
         "name": "rand_2",
         "showlegend": true,
         "type": "box",
         "uid": "93759a23-238c-4236-8a66-c2206986bea1",
         "y": [
          0,
          0.22296452190324975,
          0.21175637924190557,
          -0.24755428066417512,
          -0.0007189987941791328,
          2.9801189343838708,
          1.4956672833079936,
          -0.07549487338880609,
          0.3696215519888555,
          -0.19822796755517944,
          0.7130625603846642,
          0.3426995408893115,
          0.44444985357889133,
          0.41827829747077194,
          -0.22518143485196865,
          -0.05309356720766336,
          -0.18854994420269774,
          0.6771665455852725,
          0.030840554527820006,
          -0.15039058111579626,
          -0.01945416008208571,
          0.038295673274964574,
          0.0142601427512189,
          0.059173600760940456,
          0.1825770115114703,
          -0.22819523813090273,
          -0.24765014717006564,
          0.39895071113474484,
          -0.1015922827462758,
          0.18262943850687915,
          -0.0007489570772699016,
          0.09383383638283689,
          0.10711883701945045,
          0.002588395659044793,
          0,
          0,
          -0.13161797197402614,
          -0.06507688044398179,
          -0.0994105707801886,
          -0.10829320171660958,
          -0.00799137201446982,
          -0.2588058628360009,
          -0.29395816325766366,
          -0.2850380844673792,
          -0.017085208846680962,
          0.45054486627371393,
          -0.06199417311393884,
          0.6435046697473767,
          -0.09050397321729493,
          0.07368913787550836,
          0.30938143634988285,
          0.4505830630846546,
          0.11414929710378302,
          0.028191493345516468,
          -0.09307439390648509,
          0.24067061616698743,
          -0.29312682090189407,
          0.19167833791445413,
          -0.3626802177967181,
          -0.5276275286663321,
          -0.0054554033508339575,
          -0.1488072858544477,
          -0.37034504452549827,
          -0.6896254465656574,
          -0.052779005235209946,
          -0.115964020102008,
          -0.08441645009324514,
          0.03308068514593431,
          0.12062103520847225,
          -0.7271961293898247,
          -0.5685812506085276,
          0.05925074333989918,
          -0.11521730989596989,
          -0.7469753368434455,
          -0.060605606692680454,
          -0.009706483721417952,
          -0.32396887334386865,
          -0.06792291733760737,
          -0.09041409836802254,
          -0.33568106411821547,
          -0.11417251477317837,
          -0.19463072671305212,
          -0.5136647218747894,
          0.0828765943423782,
          0.033771972528254396,
          -0.12415835948441797,
          0.020272770167541726,
          0.10706790793819602,
          -0.1202225900433646,
          0.3240512586223684,
          -0.28877912506834236,
          -0.41970281383173924,
          -0.19372973134909632,
          -0.33288745421999866,
          0.08158389442701035,
          0.033017772751443596,
          -0.11743946554422968,
          0.08008747818662514,
          -0.18780098712542784,
          0.7474591631153619,
          0.37335510301904595,
          0.028798148578105025,
          0,
          0,
          -0.15781274575154092,
          -0.22509904957346893,
          -0.3703263205985665,
          -0.04838637197702201,
          -0.10773373077988901,
          0.03965727724144128,
          0.011252331128903002,
          0.0009571671447509067,
          -0.0006231322882885534,
          -0.060237119810663646,
          -0.11200802881986835,
          0.10700499554370543,
          -0.10841303484897281,
          0.3763689062979801,
          -0.20565537489046498,
          -0.3104816542963923,
          -0.11720728885027601,
          0,
          -0.10548311476269293,
          0,
          0.21326253192429545,
          0,
          0,
          0.22371347898051966,
          -0.0014979141545398032
         ]
        },
        {
         "name": "rand_3",
         "showlegend": true,
         "type": "box",
         "uid": "f13c428a-9904-491d-bbcd-da9c6f27b683",
         "y": [
          0,
          -0.0013078417537634782,
          -0.37011267710629553,
          -0.028734591171937385,
          0.038568253318484985,
          1.0667901705229472,
          -0.1311111358147887,
          -0.03325187658943641,
          0.3227197615542915,
          -0.18091374979810196,
          0.18750527223706984,
          0.2992139217139004,
          0.11368087484150592,
          1.0694241638150268,
          -0.1338942230667974,
          -0.046356450962146516,
          -0.24611947003636456,
          0.5912399451491169,
          0.026927153868236253,
          -0.13130731207785323,
          -0.016985594777003187,
          0.03343628227671705,
          0.012450653495828289,
          0.05166498064067251,
          0.15940956176184598,
          0.29724365811185577,
          -0.10843642940891439,
          0.3483273030929804,
          -0.08870109734462349,
          0.15945533622322766,
          -0.1639706598780961,
          0.08192713098100557,
          0.0935263794951339,
          0.0022599505505033015,
          0,
          0,
          -0.1149167852988124,
          -0.05681918499225434,
          -0.08679622583026701,
          -0.0945517274300844,
          -0.00697733575632813,
          -0.1965686155906508,
          -0.25672148921324817,
          -0.3141828245066004,
          -0.014917243043426204,
          0.3933746044596097,
          -0.05412764666300907,
          0.5618494713376672,
          -0.07901979876238938,
          0.06433862115551743,
          0.2701235975849395,
          0.39340795442433063,
          0.09966473476642278,
          0.024614235726705628,
          -0.022470029171410222,
          0.44593153317634876,
          -0.3833186092149222,
          0.16735600825771285,
          -0.3166592228673516,
          -0.4606761411082782,
          -0.004763159667206583,
          -0.12992492334412523,
          -0.32335144912135927,
          -0.6021179189360447,
          -0.046081804193856137,
          -0.10124918505110723,
          -0.07370472987509458,
          -0.10046382607797222,
          0.1053152650635579,
          0.08365609777948092,
          -0.5343226720253303,
          -0.3990218651523604,
          -0.31813512228647367,
          -0.65219060224151,
          -0.3272743204617728,
          -0.07510804407688283,
          -0.2515032006157319,
          -0.05930408432440492,
          -0.07894132825716356,
          -0.2930860291766418,
          -0.0996850063136061,
          -0.16993376435438073,
          -0.448485094200572,
          0.07236026855222569,
          0.17909454191861698,
          -0.04960970732463314,
          0.01770033029543494,
          0.09348191287550588,
          -0.10496737915705676,
          0.28293194580042214,
          -0.3141926333197536,
          0.8453509822218532,
          -0.1691470975394919,
          -0.2906469043058728,
          0.07123160111872781,
          0.028828101857331458,
          -0.10253740917856424,
          0.11696028803906787,
          -0.1639706598780961,
          0.6526130351279756,
          3.102364120146191,
          0.025143911636979783,
          0,
          0,
          -0.1377876679677512,
          -0.07894786746593238,
          -0.3233351010994372,
          -0.04224655825094477,
          -0.2978825388085693,
          0.03462511043088808,
          0.00982450725427125,
          0.0008357108806548385,
          -0.0005440621695656028,
          -0.05259354828584451,
          -0.09779517497941786,
          -0.2985096489294988,
          -0.21747054249929873,
          -0.10646485796511598,
          -0.03265092330358207,
          -0.256059067364967,
          0.050308748742019696,
          0,
          -0.13782690322036412,
          0,
          0.18620135400856772,
          0,
          0,
          0.1299994703240897,
          -0.19728792855522068
         ]
        },
        {
         "name": "rand_4",
         "showlegend": true,
         "type": "box",
         "uid": "60394111-e49a-43c7-85e5-ec87cb2a878d",
         "y": [
          0,
          -0.0006772888128820332,
          -0.383338695203102,
          -0.38633569820010505,
          0.039946494183782336,
          -0.8152850539291218,
          -0.13579640698284767,
          -0.06827071233850895,
          0.33425218848947663,
          -0.11430467837247502,
          0.19420579420579417,
          0.309906364821619,
          0.4019201137845206,
          0.3782529335071708,
          -0.08184358014866493,
          -0.04801300394520737,
          -0.17050745864305186,
          0.6123679710120388,
          0.027889398736856363,
          0.10081443979749066,
          -0.01759257691461083,
          0.03463113158028409,
          0.012895578997273888,
          0.05351123452818375,
          0.16510608036031768,
          -0.0778028750910107,
          -0.26854162786366176,
          0.36077481840193704,
          -0.09187084102338339,
          0.16515349057721937,
          0.16847559220440578,
          0.08485480621073842,
          0.09686855517363996,
          0.0023407101373203185,
          0,
          0,
          -0.11902334953182409,
          -0.0588496249513199,
          -0.08989789871145806,
          -0.09793054403223893,
          -0.007226671633451268,
          -0.23742359335579674,
          -0.2658290861680692,
          -0.32541018303730174,
          -0.015450312399464912,
          0.40743189014375464,
          -0.056061904197497424,
          0.5819272253170559,
          -0.08184358014866493,
          0.06663776901065038,
          0.279776494691749,
          0.4074664318732116,
          0.10322626526016361,
          0.025493828205692706,
          -0.023272998188252327,
          -0.0821896747320476,
          -0.19338288829814254,
          0.17333649401446014,
          -0.327975075771686,
          -0.41219593965356677,
          -0.004933371713032725,
          -0.13456780507627966,
          -0.2909355051727933,
          -0.5303557459489664,
          -0.04772854264379686,
          -0.10486733605377678,
          -0.07633857667755972,
          -0.10405391218950541,
          0.10907871789227727,
          -0.1156877021283801,
          -0.6122426725816557,
          -0.41328095633180384,
          -0.18335562742342407,
          -0.45899185560202516,
          -0.3389695050712,
          -0.07779203847000461,
          0.03180548265294031,
          -0.06142332244027159,
          -0.08176230549111907,
          -0.3035594913561016,
          -0.10324726121336295,
          -0.17600636651484117,
          -0.43273404561540163,
          0.07494607087827423,
          0.030540307150476634,
          -0.11227755295551908,
          0.018332853587090903,
          0.09682249953436392,
          -0.10871840024382397,
          0.2930425506696694,
          -0.32542034236949496,
          0.8755596945427454,
          -0.2523253018168273,
          -0.3010332040840516,
          0.07377707038723985,
          0.029858277315904423,
          -0.10620159501515436,
          0.0724238473391016,
          -0.16966084762694933,
          1.8938349785807413,
          3.2132274505155864,
          0.026042432144127096,
          0,
          0,
          -0.14271152576237317,
          -0.14604717316581725,
          -0.25778154049340496,
          -0.12494962664454191,
          -0.33490644948272075,
          0.035862442642103656,
          0.010175587124739668,
          0.0008655751028632135,
          -0.0005635042923178474,
          -0.05447298464247617,
          -0.10128989654413385,
          0.0967656072740819,
          -0.09803891024230009,
          -0.20770145109128166,
          -0.03381770771601275,
          -0.2340852367971012,
          -0.10599163548316093,
          0,
          -0.09538935640630555,
          0,
          -0.13462469733656174,
          0,
          0,
          0.20230616840786336,
          -0.0013545776257640665
         ]
        },
        {
         "name": "rand_5",
         "showlegend": true,
         "type": "box",
         "uid": "a77ef7db-e7f7-4563-ad00-bf1f894b5d48",
         "y": [
          0,
          -0.0013078417537634782,
          0.18488631912515846,
          -0.4500917777950704,
          0.038568253318484985,
          -0.07378843174733546,
          1.305879991132833,
          -0.06591522438967931,
          0.3227197615542915,
          -0.11036091854957737,
          0.09343483057237038,
          0.2992139217139004,
          0.11368087484150592,
          0.36520238524179055,
          -0.1966078508432637,
          -0.046356450962146516,
          -0.08280273103515022,
          0.5912399451491169,
          0.026927153868236253,
          -0.09864396427761037,
          -0.016985594777003187,
          0.03343628227671705,
          0.27375743589777124,
          0.05166498064067251,
          0.15940956176184598,
          0.35930401893231717,
          -0.10843642940891439,
          0.3483273030929804,
          -0.08870109734462349,
          0.022269275462207593,
          0.32597955712554694,
          0.08192713098100557,
          0.0935263794951339,
          0.0022599505505033015,
          0,
          0,
          -0.1149167852988124,
          -0.05681918499225434,
          -0.08679622583026701,
          -0.0945517274300844,
          -0.00697733575632813,
          -0.1639052677904079,
          -0.22928427706104415,
          -0.2488692073236523,
          -0.014917243043426204,
          0.3933746044596097,
          -0.05412764666300907,
          0.5618494713376672,
          -0.07901979876238938,
          0.06433862115551743,
          0.2701235975849395,
          0.39340795442433063,
          0.09966473476642278,
          0.024614235726705628,
          -0.05447030120249503,
          0.4511576688243876,
          -0.5792888872032262,
          0.16735600825771285,
          -0.3166592228673516,
          -0.4606761411082782,
          -0.004763159667206583,
          -0.12992492334412523,
          -0.25542018666825356,
          -0.37872546897570486,
          -0.046081804193856137,
          -0.10124918505110723,
          -0.07370472987509458,
          -0.10046382607797222,
          0.1053152650635579,
          -0.11169622498016986,
          -0.060076364880002245,
          0.05173233449099126,
          -0.21230587541368676,
          -0.4431556390539858,
          -0.05291527735727034,
          -0.008474814564387362,
          -0.22014638672749873,
          -0.05930408432440492,
          -0.07894132825716356,
          -0.2930860291766418,
          -0.0996850063136061,
          -0.16993376435438073,
          -0.6137773281708461,
          0.07236026855222569,
          0.02948660018035137,
          -0.10840373336507032,
          0.01770033029543494,
          0.09348191287550588,
          -0.10496737915705676,
          0.28293194580042214,
          -0.2521355421036766,
          -0.12211580023240344,
          -0.3024096330392216,
          -0.2906469043058728,
          0.07123160111872781,
          0.028828101857331458,
          -0.10253740917856424,
          0.19535232275965075,
          -0.1639706598780961,
          0.6526130351279756,
          3.102364120146191,
          0.025143911636979783,
          0,
          0,
          -0.1377876679677512,
          -0.07894786746593238,
          -0.3233351010994372,
          -0.04224655825094477,
          -0.09406324853505378,
          0.03462511043088808,
          -0.314190671557123,
          0.0008357108806548385,
          -0.0005440621695656028,
          -0.05259354828584451,
          -0.09779517497941786,
          -0.024161068559026482,
          -0.19656599990714327,
          -0.20053529962981545,
          -0.03265092330358207,
          -0.12083280747196151,
          -0.20446536409987465,
          0,
          -0.13782690322036412,
          0,
          -0.12997985269778328,
          0,
          0,
          -0.0006539208768817391,
          -0.8864590642261468
         ]
        },
        {
         "name": "rand_6",
         "showlegend": true,
         "type": "box",
         "uid": "b7f2a520-1c60-47f4-9909-ebfc60e84515",
         "y": [
          0,
          -0.000675000675000675,
          -0.38204363204363206,
          -0.4646009396009396,
          0.03981153981153982,
          1.1686117936117937,
          -0.13533763533763535,
          -0.06804006804006804,
          0.3331229581229581,
          -0.07345897345897348,
          0.1935496935496935,
          0.3088593838593838,
          0.11734549234549232,
          0.376975051975052,
          -0.08156708156708159,
          -0.04785079785079788,
          -0.4225504225504225,
          0.6102991602991603,
          0.027795177795177792,
          -0.10182385182385184,
          -0.01753314253314255,
          0.03451413451413448,
          0.12074412074412073,
          0.053330453330453394,
          0.16454828954828957,
          0.3068256068256068,
          -0.11193198693198693,
          0.35955598455598453,
          -0.09156046656046654,
          0.022987147987147953,
          -0.16925641925641927,
          0.08456813456813457,
          0.09654129654129658,
          0.0023328023328023444,
          0,
          0,
          -0.11862124362124359,
          -0.058650808650808677,
          -0.0895941895941896,
          -0.09759969759969757,
          -0.007202257202257175,
          -0.20290520290520292,
          -0.23667548667548663,
          -0.3243108243108243,
          -0.015398115398115367,
          0.4060554310554311,
          -0.05587250587250587,
          0.579961254961255,
          -0.08156708156708159,
          0.06641264141264142,
          0.2788313038313039,
          0.4060898560898561,
          0.10287752787752792,
          0.025407700407700497,
          -0.2093082593082592,
          0.21690539190539188,
          -0.2034924534924535,
          0.17275089775089777,
          -0.3268670518670519,
          -0.41080338580338577,
          -0.004916704916704911,
          -0.13411318411318413,
          -0.3337750087750088,
          -0.6215277965277965,
          -0.047567297567297544,
          -0.10451305451305455,
          -0.07608067608067608,
          -0.1037023787023787,
          0.10871020871020876,
          0.0863528363528364,
          -0.062012987012987,
          0.34672489672489676,
          -0.10384007884007887,
          -0.16549801549801546,
          -0.33782433782433785,
          -0.07752922752922757,
          0.031698031698031724,
          -0.06121581121581121,
          -0.08148608148608151,
          -0.3025339525339526,
          -0.10289845289845292,
          -0.17541175041175047,
          -0.6335630585630586,
          0.07469287469287465,
          0.030437130437130425,
          -0.11189823689823691,
          0.0182709182709183,
          0.09649539649539647,
          -0.10835110835110834,
          0.2920525420525421,
          -0.1962024462024462,
          0.8726017226017225,
          -0.17459972459972456,
          -0.26766476766476766,
          0.0735278235278235,
          0.029757404757404744,
          -0.10584280584280586,
          0.07217917217917219,
          -0.16925641925641927,
          0.13419013419013415,
          1.5165577665577665,
          0.025954450954450987,
          0,
          0,
          -0.14222939222939218,
          -0.0814928314928315,
          -0.25691065691065695,
          -0.04360841860841862,
          0.008099333099333077,
          0.03574128574128573,
          -0.16788076788076792,
          0.0008626508626508378,
          -0.0005616005616005573,
          -0.054288954288954284,
          -0.10094770094770096,
          -0.3081324081324081,
          -0.2029025029025029,
          -0.12203472203472206,
          -0.03370345870345865,
          -0.12472797472797471,
          -0.10563355563355566,
          0,
          -0.09506709506709506,
          0,
          -0.11191713691713691,
          0,
          0,
          0.20162270162270166,
          -0.4335664335664336
         ]
        },
        {
         "name": "rand_7",
         "showlegend": true,
         "type": "box",
         "uid": "a835c1e7-3b90-42b5-a2e8-1ad3deccf8de",
         "y": [
          0,
          -0.06871506871506869,
          -0.2676951426951427,
          -0.4646009396009396,
          0.08027108027108024,
          1.3371932121932122,
          -0.13533763533763535,
          -0.06804006804006804,
          0.3331229581229581,
          -0.11391851391851393,
          0.1814118314118314,
          0.3088593838593838,
          0.4005622755622755,
          1.1038981288981289,
          -0.1705780705780706,
          -0.04785079785079788,
          0.08294070794070794,
          0.6102991602991603,
          0.027795177795177792,
          -0.13554013554013555,
          0.6898675648675648,
          0.03451413451413448,
          0.012852012852012828,
          0.053330453330453394,
          0.16454828954828957,
          0.5246327996327996,
          -0.11193198693198693,
          0.35955598455598453,
          -0.09156046656046654,
          0.022987147987147953,
          0.3364878364878365,
          0.08456813456813457,
          0.09654129654129658,
          0.0023328023328023444,
          0,
          0,
          -0.11862124362124359,
          -0.058650808650808677,
          -0.0895941895941896,
          -0.09759969759969757,
          -0.007202257202257175,
          -0.23662148662148658,
          -0.2649310149310149,
          -0.3243108243108243,
          -0.015398115398115367,
          0.4060554310554311,
          -0.05587250587250587,
          0.579961254961255,
          -0.08156708156708159,
          0.06641264141264142,
          0.2788313038313039,
          0.4060898560898561,
          0.10287752787752792,
          0.025407700407700497,
          -0.08388368388368377,
          -0.07382009882009881,
          -0.5979628479628479,
          0.17275089775089777,
          -0.3268670518670519,
          -0.3952938952938953,
          -0.004916704916704911,
          -0.13411318411318413,
          -0.3337750087750088,
          -0.6215277965277965,
          -0.047567297567297544,
          -0.10451305451305455,
          -0.07608067608067608,
          -0.1037023787023787,
          0.10871020871020876,
          -0.6553885303885304,
          -0.06266098766098767,
          0.34672489672489676,
          -0.2191497691497692,
          -0.6732146232146232,
          -0.33782433782433785,
          -0.07752922752922757,
          -0.29193509193509193,
          -0.06121581121581121,
          -0.08148608148608151,
          -0.3025339525339526,
          -0.10289845289845292,
          -0.5442267192267194,
          -0.518934443934444,
          0.07469287469287465,
          -0.5231606231606232,
          -0.05120892620892621,
          0.0182709182709183,
          0.09649539649539647,
          -0.10835110835110834,
          0.2920525420525421,
          -0.1962024462024462,
          0.8726017226017225,
          -0.3121581121581122,
          -0.30001620001620005,
          0.0735278235278235,
          0.029757404757404744,
          -0.10584280584280586,
          0.20164970164970164,
          -0.1690876690876691,
          0.13419013419013415,
          3.2023719523719523,
          0.025954450954450987,
          0,
          0,
          -0.14222939222939218,
          -0.20961470961470963,
          -0.3337581337581338,
          -0.04360841860841862,
          -0.09709547209547212,
          0.03574128574128573,
          0.010141210141210142,
          0.0008626508626508378,
          -0.0005616005616005573,
          -0.054288954288954284,
          -0.10094770094770096,
          0.09643869643869649,
          -0.22980262980262983,
          -0.1341725841725842,
          -0.11926384426384419,
          -0.3263358263358263,
          -0.10563355563355566,
          0,
          -0.09506709506709506,
          0,
          -0.13416988416988415,
          0,
          0,
          0.20162270162270166,
          -0.5751748251748252
         ]
        },
        {
         "name": "rand_8",
         "showlegend": true,
         "type": "box",
         "uid": "1ae0631e-2edc-41c5-9018-fc069310fa56",
         "y": [
          0,
          -0.0017071969448003476,
          -0.4831281993937744,
          -0.4169802929720678,
          0.10150993033782864,
          1.477813695304611,
          -0.17114649371623486,
          -0.08604272601793753,
          0.4212636501065718,
          -0.14406010699003255,
          0.2294114182453259,
          0.390580199417675,
          0.5065466734840731,
          1.0676707260964684,
          -0.17477940881477003,
          -0.06051159570844836,
          -0.5346727431496588,
          0.7717776444267275,
          0.035149477896494356,
          -0.12876532956156625,
          -0.022172220320594533,
          0.04364619709076564,
          0.15269169474294308,
          0.06744110810739301,
          0.2080859676093524,
          -0.0656519657092422,
          -0.28225087088384143,
          0.45469056628576254,
          -0.11578636478872156,
          0.029069295977587877,
          0.42551883849148664,
          0.10694393821312818,
          0.12208506791656251,
          0.0029500363206150155,
          0,
          0,
          -0.15000712754724452,
          -0.07416917126685114,
          -0.1132998324386199,
          -0.1234235103212859,
          -0.00910789570050982,
          -0.022086860473354498,
          -0.3350288644323442,
          -0.27369781419039174,
          -0.019472288352392727,
          0.5134932578524658,
          -0.07065575995445199,
          0.7334126610847017,
          -0.10314883940483703,
          0.0839847001009807,
          0.35260701777448106,
          0.5135367913745582,
          0.13009779677698294,
          0.03213030009961506,
          -0.07110304555398958,
          1.0102483032596363,
          -0.33408137012798,
          0.2184588962459593,
          -0.41335249946436703,
          -0.4998843374069898,
          -0.006217611272962859,
          -0.16959806608730094,
          -0.3334138561225631,
          -0.7859772550151045,
          -0.06015308435004022,
          -0.13216606587560856,
          -0.09621079102116838,
          -0.1311408941102559,
          0.13747374117699285,
          0.1092008525741543,
          -0.7716197287093335,
          0.43846451292390776,
          -0.1313150281986256,
          -0.20928698066001938,
          -0.06907318838662208,
          -0.09804261334293922,
          -0.28736904732435287,
          -0.07741284546197176,
          -0.10304640758814901,
          -0.3825811281328132,
          -0.13012425832962732,
          -0.22182378142416084,
          -0.8011969157779997,
          0.0944557925619136,
          0.3787484709917363,
          -0.14150528676213883,
          0.02310520345092794,
          0.12202702322043922,
          -0.13701962678967589,
          0.36932645105338324,
          -0.41013272602647355,
          -0.29927759961280764,
          -0.3947517351522948,
          -0.3793972058307605,
          0.0929824815985509,
          0.03763088865576165,
          -0.13384765486623687,
          0.25500400764482795,
          -0.0008535984724001738,
          0.1696953763131545,
          4.049684552684525,
          0.03282171486225913,
          0,
          0,
          -0.17986173411944056,
          -0.103054943572873,
          -0.4220668862691004,
          -0.055146729309413244,
          0.010242328070329657,
          0.045198039113589196,
          0.012824463449340212,
          0.0010908988477273908,
          -0.0007101939290369392,
          -0.06865321793820117,
          -0.12765735874439083,
          0.12195532094875769,
          -0.16790281952111422,
          0.428953718744425,
          -0.042621025325413016,
          -0.412680717466588,
          0.06567074487563494,
          0,
          -0.23960509120272874,
          0,
          0.24305875062205992,
          0,
          0,
          0.25496986370593194,
          -0.47921018240545754
         ]
        },
        {
         "name": "rand_9",
         "showlegend": true,
         "type": "box",
         "uid": "67ab6743-b8f6-4e1b-b5aa-4714f3f2fddf",
         "y": [
          0,
          -0.00135000135000135,
          -0.38204363204363206,
          -0.5467451467451467,
          0.08027108027108024,
          1.0000303750303752,
          -0.000675000675000675,
          -0.06804006804006804,
          0.3331229581229581,
          -0.11391851391851393,
          0.03575748575748575,
          0.581961281961282,
          0.4005622755622755,
          0.376975051975052,
          -0.2676809676809677,
          -0.04785079785079788,
          -0.4225504225504225,
          0.6102991602991603,
          0.027795177795177792,
          -0.20297270297270295,
          -0.01753314253314255,
          0.03451413451413448,
          0.12074412074412073,
          0.053330453330453394,
          0.16454828954828957,
          -0.09035221535221537,
          -0.11193198693198693,
          0.35955598455598453,
          -0.1219051219051219,
          0.16459553959553958,
          0.6736506736506737,
          0.08456813456813457,
          0.09654129654129658,
          0.0023328023328023444,
          0,
          0,
          -0.11862124362124359,
          -0.058650808650808677,
          -0.0895941895941896,
          -0.09759969759969757,
          -0.007202257202257175,
          -0.16918891918891918,
          -0.2649310149310149,
          -0.3243108243108243,
          -0.015398115398115367,
          0.4060554310554311,
          -0.05587250587250587,
          0.579961254961255,
          -0.08156708156708159,
          0.06641264141264142,
          0.2788313038313039,
          0.4060898560898561,
          0.10287752787752792,
          0.025407700407700497,
          -0.08388368388368377,
          -0.0819120069120069,
          -0.1927295677295677,
          0.17275089775089777,
          -0.3268670518670519,
          -0.1775049275049275,
          -0.004916704916704911,
          -0.13411318411318413,
          -0.3337750087750088,
          -0.6215277965277965,
          -0.047567297567297544,
          -0.10451305451305455,
          -0.07608067608067608,
          -0.1037023787023787,
          0.10871020871020876,
          0.0863528363528364,
          -0.06266098766098767,
          0.34672489672489676,
          -0.10384007884007887,
          -0.4574412074412075,
          -0.149026649026649,
          -0.07752922752922757,
          -0.29193509193509193,
          -0.06121581121581121,
          -0.08148608148608151,
          -0.3025339525339526,
          -0.10289845289845292,
          -0.17541175041175047,
          -0.6335630585630586,
          0.07469287469287465,
          0.030437130437130425,
          -0.11189823689823691,
          0.0182709182709183,
          0.09649539649539647,
          -0.10835110835110834,
          0.2920525420525421,
          -0.32432094932094935,
          0.8726017226017225,
          -0.17459972459972456,
          -0.30001620001620005,
          -0.05459405459405459,
          0.029757404757404744,
          -0.10584280584280586,
          0.07217917217917219,
          -0.000675000675000675,
          0.13419013419013415,
          0.3364878364878365,
          0.025954450954450987,
          0,
          0,
          -0.14222939222939218,
          -0.0814928314928315,
          -0.3337581337581338,
          -0.04360841860841862,
          -0.13216040716040717,
          0.03574128574128573,
          0.010141210141210142,
          0.0008626508626508378,
          -0.0005616005616005573,
          -0.054288954288954284,
          -0.10094770094770096,
          0.09643869643869649,
          -0.2029025029025029,
          -0.14631044631044632,
          -0.03370345870345865,
          -0.10921848421848418,
          -0.10563355563355566,
          0,
          -0.23667548667548663,
          0,
          -0.2083457083457083,
          0,
          0,
          -0.000675000675000675,
          -0.4335664335664336
         ]
        },
        {
         "name": "expiration",
         "showlegend": true,
         "type": "box",
         "uid": "af669f62-5ff4-4121-b07d-492ec8451674",
         "y": [
          0,
          -0.2211048619888399,
          -0.15631192012407483,
          -0.22358166695183268,
          -0.04988933718215487,
          -0.28201908588648916,
          -0.055414199060607905,
          -0.06227888133965482,
          -0.26104531269835135,
          -0.1127402983756575,
          -0.10447949840215036,
          -0.11936682102427958,
          -0.11606073484526525,
          -0.27042076073098176,
          -0.1259800972508155,
          -0.13259530662707458,
          -0.17285890904675436,
          -0.12845800608231547,
          -0.10442651271380553,
          -0.13260772376794477,
          -0.25830937018782324,
          -0.11270607955580333,
          -0.12983149723204973,
          -0.12376132155137679,
          -0.12956960166904918,
          0.884971658176078,
          -0.10944690668447575,
          -0.24117236354805416,
          -0.10359943923479835,
          -0.11797125526407296,
          -0.08298331502751392,
          0.029060994254364432,
          -0.04544295483522003,
          -0.07458535966795636,
          0,
          0,
          -0.12320938729778509,
          -0.1331524828762398,
          -0.11768286961657128,
          -0.22045192376684092,
          -0.09392237624254199,
          -0.007140649405842776,
          -0.10834138237453154,
          -0.13259117125967956,
          -0.031107566466682484,
          0.02210082734944616,
          -0.10169057461875142,
          -0.18490597799990066,
          -0.1259800972508155,
          -0.050592777388357484,
          -0.20084197570385415,
          -0.33372649449997516,
          -0.44062539670274475,
          -0.932349142570137,
          -0.5770961083115779,
          -0.9999881452801342,
          -0.24447100275415193,
          -0.11270690662928233,
          -0.23041764864969286,
          -0.6743019486038823,
          -0.17817596850663148,
          -0.12209889613149282,
          -0.13646050441271437,
          -0.3919495264404104,
          -0.07210441492209448,
          -0.13370717680109948,
          -0.11215800773811824,
          -0.1085627088381232,
          -0.10690938895358786,
          -0.26794890882598066,
          -0.24947952599886303,
          -0.3823149281657569,
          -0.13673785027127572,
          -0.3267908933607829,
          -0.1381160331381326,
          -0.13425248949945084,
          -0.11937234036681552,
          -0.10773453093867459,
          -0.11602127237403481,
          -0.6654663049657524,
          -0.08204392320386797,
          -0.6806563668375823,
          -0.9008190800911797,
          -0.44612846131768785,
          -0.5309301287110679,
          -0.12983287568784807,
          -0.11383423206627626,
          -0.11769280443313593,
          -0.0922685049756873,
          -0.11989722984198123,
          -0.13259530662707458,
          -0.3823645967292376,
          -0.1276226552453072,
          -0.12266518012374367,
          -0.13259392817127624,
          -0.05069157361975042,
          -0.11660659782206745,
          -0.11605521550272932,
          -0.06919875704406091,
          1.7365783387882836,
          1.102488671549445,
          -0.06906353315193094,
          0,
          0,
          -0.12569336740607456,
          -0.11326794752209117,
          -0.13645361213372265,
          -0.23038481049337406,
          -0.13646050441271437,
          -0.13756740662652264,
          -0.13259447955359557,
          -0.09944696242983536,
          -0.11491602430718453,
          -0.07016547016519392,
          -0.2348052513784558,
          -0.12598672046185858,
          -0.09398226083308958,
          -0.11936682102427962,
          -0.25717846076575357,
          -0.1334190734679685,
          -0.04328047642964772,
          0,
          -0.11606073484526522,
          0,
          -0.1124734381640459,
          0,
          0,
          0.13756961270773427,
          -0.3856817215933238
         ]
        },
        {
         "name": "pct_inc",
         "showlegend": true,
         "type": "box",
         "uid": "d66b5807-123e-45e1-a2db-121ad53dae60",
         "y": [
          0,
          -0.03118623173820964,
          -0.1733899341995018,
          -0.2481394716905296,
          0.12824342171168296,
          -0.08347218558810095,
          0.611777060719103,
          0.1910003519939122,
          -0.2897835068948224,
          -0.12513337628333027,
          0.08784224055613198,
          0.14017537200609873,
          0.18179459301814405,
          0.5010025240016039,
          -0.13984175897699355,
          -0.1471925804952484,
          -0.19177388082631872,
          0.2769833662197967,
          0.11819918811639141,
          0.3057353563333324,
          0.3130953682931603,
          -0.12511377000797422,
          0.12824954867273172,
          0.07072228599367514,
          0.07467999648312436,
          0.1392523453241024,
          -0.1214654710514876,
          -0.04369595445952393,
          -0.11499999540477919,
          0.07470144084679502,
          0.15271450414044707,
          0.05337716561267621,
          0.06829846020278403,
          -0.08279638178442225,
          0,
          0,
          -0.1367706197513005,
          -0.1478092591248065,
          -0.13063661269733026,
          -0.24471572585648022,
          -0.10426218981876754,
          -0.00779655793455241,
          -0.12023854710147255,
          -0.1471879852744618,
          0.10624701885051471,
          0.18428765346888623,
          0.14418945053719662,
          0.8138567963774953,
          0.09274258400293357,
          0.07757774271113736,
          -0.0062730890697771935,
          1.0618090894079852,
          0.9333484669271236,
          0.6347755280597968,
          -0.04016621219933078,
          0.797163584652085,
          -0.271384549213436,
          0.07840273801635347,
          -0.25576692550013613,
          -0.5924541573115629,
          0.08070616902263636,
          -0.1355406323207611,
          -0.15148329131769794,
          -0.43509878652472944,
          -0.08003955566053081,
          -0.14842379331799754,
          -0.12450352468751731,
          -0.12051426034866695,
          -0.118677091078195,
          -0.29744710977461664,
          -0.27692669183009566,
          0.6344946068957108,
          -0.15179117111039833,
          -0.3627669478635439,
          -0.15332107328427474,
          -0.14903220055013983,
          -0.13249430728731554,
          -0.1195949098432999,
          -0.12879392916191443,
          -0.7387267746053393,
          -0.09107605059766974,
          -0.7555890904556957,
          -0.9999892778181647,
          -0.0958605944806497,
          -0.2512075474356983,
          -0.14412603649034192,
          0.210279753978006,
          0.2549630682105382,
          -0.10242440785219072,
          0.13254761184843983,
          -0.1471925804952484,
          -0.4244341981232505,
          -0.14167249493836429,
          -0.1361619061711058,
          -0.14719104875498618,
          0.1420428697337621,
          -0.12942592519409446,
          0.0915184171853905,
          -0.0767401871357713,
          0.3057353563333324,
          0.15271450414044707,
          0.077884397111628,
          0,
          0,
          -0.13952928396350656,
          -0.12573289942195184,
          -0.15147563261638697,
          -0.2557476255728326,
          -0.15148329131769794,
          -0.15271205335602758,
          -0.14719166145109105,
          -0.11039497148052804,
          -0.1275670052118994,
          -0.07788991137657189,
          -0.26065470867678775,
          -0.1398454351536228,
          -0.10429558175648332,
          0.15394724870345844,
          -0.2854909579840582,
          -0.14810702943177642,
          -0.047941632118265055,
          0,
          -0.1288162925697424,
          0,
          0.08723138253957022,
          0,
          0,
          0.09150616326329299,
          -0.42811527632134805
         ]
        }
       ],
       "layout": {
        "height": 350,
        "legend": {
         "orientation": "h",
         "traceorder": "normal",
         "x": 1,
         "xanchor": "right",
         "y": 1.02,
         "yanchor": "bottom"
        },
        "margin": {
         "b": 30,
         "l": 30,
         "r": 30,
         "t": 30
        },
        "template": {
         "data": {
          "bar": [
           {
            "error_x": {
             "color": "#2a3f5f"
            },
            "error_y": {
             "color": "#2a3f5f"
            },
            "marker": {
             "line": {
              "color": "#E5ECF6",
              "width": 0.5
             }
            },
            "type": "bar"
           }
          ],
          "barpolar": [
           {
            "marker": {
             "line": {
              "color": "#E5ECF6",
              "width": 0.5
             }
            },
            "type": "barpolar"
           }
          ],
          "carpet": [
           {
            "aaxis": {
             "endlinecolor": "#2a3f5f",
             "gridcolor": "white",
             "linecolor": "white",
             "minorgridcolor": "white",
             "startlinecolor": "#2a3f5f"
            },
            "baxis": {
             "endlinecolor": "#2a3f5f",
             "gridcolor": "white",
             "linecolor": "white",
             "minorgridcolor": "white",
             "startlinecolor": "#2a3f5f"
            },
            "type": "carpet"
           }
          ],
          "choropleth": [
           {
            "colorbar": {
             "outlinewidth": 0,
             "ticks": ""
            },
            "type": "choropleth"
           }
          ],
          "contour": [
           {
            "colorbar": {
             "outlinewidth": 0,
             "ticks": ""
            },
            "colorscale": [
             [
              0,
              "#0d0887"
             ],
             [
              0.1111111111111111,
              "#46039f"
             ],
             [
              0.2222222222222222,
              "#7201a8"
             ],
             [
              0.3333333333333333,
              "#9c179e"
             ],
             [
              0.4444444444444444,
              "#bd3786"
             ],
             [
              0.5555555555555556,
              "#d8576b"
             ],
             [
              0.6666666666666666,
              "#ed7953"
             ],
             [
              0.7777777777777778,
              "#fb9f3a"
             ],
             [
              0.8888888888888888,
              "#fdca26"
             ],
             [
              1,
              "#f0f921"
             ]
            ],
            "type": "contour"
           }
          ],
          "contourcarpet": [
           {
            "colorbar": {
             "outlinewidth": 0,
             "ticks": ""
            },
            "type": "contourcarpet"
           }
          ],
          "heatmap": [
           {
            "colorbar": {
             "outlinewidth": 0,
             "ticks": ""
            },
            "colorscale": [
             [
              0,
              "#0d0887"
             ],
             [
              0.1111111111111111,
              "#46039f"
             ],
             [
              0.2222222222222222,
              "#7201a8"
             ],
             [
              0.3333333333333333,
              "#9c179e"
             ],
             [
              0.4444444444444444,
              "#bd3786"
             ],
             [
              0.5555555555555556,
              "#d8576b"
             ],
             [
              0.6666666666666666,
              "#ed7953"
             ],
             [
              0.7777777777777778,
              "#fb9f3a"
             ],
             [
              0.8888888888888888,
              "#fdca26"
             ],
             [
              1,
              "#f0f921"
             ]
            ],
            "type": "heatmap"
           }
          ],
          "heatmapgl": [
           {
            "colorbar": {
             "outlinewidth": 0,
             "ticks": ""
            },
            "colorscale": [
             [
              0,
              "#0d0887"
             ],
             [
              0.1111111111111111,
              "#46039f"
             ],
             [
              0.2222222222222222,
              "#7201a8"
             ],
             [
              0.3333333333333333,
              "#9c179e"
             ],
             [
              0.4444444444444444,
              "#bd3786"
             ],
             [
              0.5555555555555556,
              "#d8576b"
             ],
             [
              0.6666666666666666,
              "#ed7953"
             ],
             [
              0.7777777777777778,
              "#fb9f3a"
             ],
             [
              0.8888888888888888,
              "#fdca26"
             ],
             [
              1,
              "#f0f921"
             ]
            ],
            "type": "heatmapgl"
           }
          ],
          "histogram": [
           {
            "marker": {
             "colorbar": {
              "outlinewidth": 0,
              "ticks": ""
             }
            },
            "type": "histogram"
           }
          ],
          "histogram2d": [
           {
            "colorbar": {
             "outlinewidth": 0,
             "ticks": ""
            },
            "colorscale": [
             [
              0,
              "#0d0887"
             ],
             [
              0.1111111111111111,
              "#46039f"
             ],
             [
              0.2222222222222222,
              "#7201a8"
             ],
             [
              0.3333333333333333,
              "#9c179e"
             ],
             [
              0.4444444444444444,
              "#bd3786"
             ],
             [
              0.5555555555555556,
              "#d8576b"
             ],
             [
              0.6666666666666666,
              "#ed7953"
             ],
             [
              0.7777777777777778,
              "#fb9f3a"
             ],
             [
              0.8888888888888888,
              "#fdca26"
             ],
             [
              1,
              "#f0f921"
             ]
            ],
            "type": "histogram2d"
           }
          ],
          "histogram2dcontour": [
           {
            "colorbar": {
             "outlinewidth": 0,
             "ticks": ""
            },
            "colorscale": [
             [
              0,
              "#0d0887"
             ],
             [
              0.1111111111111111,
              "#46039f"
             ],
             [
              0.2222222222222222,
              "#7201a8"
             ],
             [
              0.3333333333333333,
              "#9c179e"
             ],
             [
              0.4444444444444444,
              "#bd3786"
             ],
             [
              0.5555555555555556,
              "#d8576b"
             ],
             [
              0.6666666666666666,
              "#ed7953"
             ],
             [
              0.7777777777777778,
              "#fb9f3a"
             ],
             [
              0.8888888888888888,
              "#fdca26"
             ],
             [
              1,
              "#f0f921"
             ]
            ],
            "type": "histogram2dcontour"
           }
          ],
          "mesh3d": [
           {
            "colorbar": {
             "outlinewidth": 0,
             "ticks": ""
            },
            "type": "mesh3d"
           }
          ],
          "parcoords": [
           {
            "line": {
             "colorbar": {
              "outlinewidth": 0,
              "ticks": ""
             }
            },
            "type": "parcoords"
           }
          ],
          "pie": [
           {
            "automargin": true,
            "type": "pie"
           }
          ],
          "scatter": [
           {
            "marker": {
             "colorbar": {
              "outlinewidth": 0,
              "ticks": ""
             }
            },
            "type": "scatter"
           }
          ],
          "scatter3d": [
           {
            "line": {
             "colorbar": {
              "outlinewidth": 0,
              "ticks": ""
             }
            },
            "marker": {
             "colorbar": {
              "outlinewidth": 0,
              "ticks": ""
             }
            },
            "type": "scatter3d"
           }
          ],
          "scattercarpet": [
           {
            "marker": {
             "colorbar": {
              "outlinewidth": 0,
              "ticks": ""
             }
            },
            "type": "scattercarpet"
           }
          ],
          "scattergeo": [
           {
            "marker": {
             "colorbar": {
              "outlinewidth": 0,
              "ticks": ""
             }
            },
            "type": "scattergeo"
           }
          ],
          "scattergl": [
           {
            "marker": {
             "colorbar": {
              "outlinewidth": 0,
              "ticks": ""
             }
            },
            "type": "scattergl"
           }
          ],
          "scattermapbox": [
           {
            "marker": {
             "colorbar": {
              "outlinewidth": 0,
              "ticks": ""
             }
            },
            "type": "scattermapbox"
           }
          ],
          "scatterpolar": [
           {
            "marker": {
             "colorbar": {
              "outlinewidth": 0,
              "ticks": ""
             }
            },
            "type": "scatterpolar"
           }
          ],
          "scatterpolargl": [
           {
            "marker": {
             "colorbar": {
              "outlinewidth": 0,
              "ticks": ""
             }
            },
            "type": "scatterpolargl"
           }
          ],
          "scatterternary": [
           {
            "marker": {
             "colorbar": {
              "outlinewidth": 0,
              "ticks": ""
             }
            },
            "type": "scatterternary"
           }
          ],
          "surface": [
           {
            "colorbar": {
             "outlinewidth": 0,
             "ticks": ""
            },
            "colorscale": [
             [
              0,
              "#0d0887"
             ],
             [
              0.1111111111111111,
              "#46039f"
             ],
             [
              0.2222222222222222,
              "#7201a8"
             ],
             [
              0.3333333333333333,
              "#9c179e"
             ],
             [
              0.4444444444444444,
              "#bd3786"
             ],
             [
              0.5555555555555556,
              "#d8576b"
             ],
             [
              0.6666666666666666,
              "#ed7953"
             ],
             [
              0.7777777777777778,
              "#fb9f3a"
             ],
             [
              0.8888888888888888,
              "#fdca26"
             ],
             [
              1,
              "#f0f921"
             ]
            ],
            "type": "surface"
           }
          ],
          "table": [
           {
            "cells": {
             "fill": {
              "color": "#EBF0F8"
             },
             "line": {
              "color": "white"
             }
            },
            "header": {
             "fill": {
              "color": "#C8D4E3"
             },
             "line": {
              "color": "white"
             }
            },
            "type": "table"
           }
          ]
         },
         "layout": {
          "annotationdefaults": {
           "arrowcolor": "#2a3f5f",
           "arrowhead": 0,
           "arrowwidth": 1
          },
          "coloraxis": {
           "colorbar": {
            "outlinewidth": 0,
            "ticks": ""
           }
          },
          "colorscale": {
           "diverging": [
            [
             0,
             "#8e0152"
            ],
            [
             0.1,
             "#c51b7d"
            ],
            [
             0.2,
             "#de77ae"
            ],
            [
             0.3,
             "#f1b6da"
            ],
            [
             0.4,
             "#fde0ef"
            ],
            [
             0.5,
             "#f7f7f7"
            ],
            [
             0.6,
             "#e6f5d0"
            ],
            [
             0.7,
             "#b8e186"
            ],
            [
             0.8,
             "#7fbc41"
            ],
            [
             0.9,
             "#4d9221"
            ],
            [
             1,
             "#276419"
            ]
           ],
           "sequential": [
            [
             0,
             "#0d0887"
            ],
            [
             0.1111111111111111,
             "#46039f"
            ],
            [
             0.2222222222222222,
             "#7201a8"
            ],
            [
             0.3333333333333333,
             "#9c179e"
            ],
            [
             0.4444444444444444,
             "#bd3786"
            ],
            [
             0.5555555555555556,
             "#d8576b"
            ],
            [
             0.6666666666666666,
             "#ed7953"
            ],
            [
             0.7777777777777778,
             "#fb9f3a"
            ],
            [
             0.8888888888888888,
             "#fdca26"
            ],
            [
             1,
             "#f0f921"
            ]
           ],
           "sequentialminus": [
            [
             0,
             "#0d0887"
            ],
            [
             0.1111111111111111,
             "#46039f"
            ],
            [
             0.2222222222222222,
             "#7201a8"
            ],
            [
             0.3333333333333333,
             "#9c179e"
            ],
            [
             0.4444444444444444,
             "#bd3786"
            ],
            [
             0.5555555555555556,
             "#d8576b"
            ],
            [
             0.6666666666666666,
             "#ed7953"
            ],
            [
             0.7777777777777778,
             "#fb9f3a"
            ],
            [
             0.8888888888888888,
             "#fdca26"
            ],
            [
             1,
             "#f0f921"
            ]
           ]
          },
          "colorway": [
           "#1f77b4",
           "#ff7f0e",
           "#2ca02c",
           "#dc3912",
           "#9467bd",
           "#8c564b",
           "#e377c2",
           "#7f7f7f",
           "#bcbd22",
           "#17becf"
          ],
          "font": {
           "color": "#2a3f5f"
          },
          "geo": {
           "bgcolor": "white",
           "lakecolor": "white",
           "landcolor": "#E5ECF6",
           "showlakes": true,
           "showland": true,
           "subunitcolor": "white"
          },
          "hoverlabel": {
           "align": "left"
          },
          "hovermode": "closest",
          "mapbox": {
           "style": "light"
          },
          "paper_bgcolor": "white",
          "plot_bgcolor": "#E5ECF6",
          "polar": {
           "angularaxis": {
            "gridcolor": "white",
            "linecolor": "white",
            "ticks": ""
           },
           "bgcolor": "#E5ECF6",
           "radialaxis": {
            "gridcolor": "white",
            "linecolor": "white",
            "ticks": ""
           }
          },
          "scene": {
           "xaxis": {
            "backgroundcolor": "#E5ECF6",
            "gridcolor": "white",
            "gridwidth": 2,
            "linecolor": "white",
            "showbackground": true,
            "ticks": "",
            "zerolinecolor": "white"
           },
           "yaxis": {
            "backgroundcolor": "#E5ECF6",
            "gridcolor": "white",
            "gridwidth": 2,
            "linecolor": "white",
            "showbackground": true,
            "ticks": "",
            "zerolinecolor": "white"
           },
           "zaxis": {
            "backgroundcolor": "#E5ECF6",
            "gridcolor": "white",
            "gridwidth": 2,
            "linecolor": "white",
            "showbackground": true,
            "ticks": "",
            "zerolinecolor": "white"
           }
          },
          "shapedefaults": {
           "line": {
            "color": "#2a3f5f"
           }
          },
          "ternary": {
           "aaxis": {
            "gridcolor": "white",
            "linecolor": "white",
            "ticks": ""
           },
           "baxis": {
            "gridcolor": "white",
            "linecolor": "white",
            "ticks": ""
           },
           "bgcolor": "#E5ECF6",
           "caxis": {
            "gridcolor": "white",
            "linecolor": "white",
            "ticks": ""
           }
          },
          "title": {
           "x": 0.05
          },
          "xaxis": {
           "automargin": true,
           "gridcolor": "white",
           "linecolor": "white",
           "ticks": "",
           "title": {
            "standoff": 15
           },
           "zerolinecolor": "white",
           "zerolinewidth": 2
          },
          "yaxis": {
           "automargin": true,
           "gridcolor": "white",
           "linecolor": "white",
           "ticks": "",
           "title": {
            "standoff": 15
           },
           "zerolinecolor": "white",
           "zerolinewidth": 2
          }
         }
        },
        "width": 700,
        "yaxis": {
         "tickformat": "%",
         "title": {
          "text": "Total return"
         }
        }
       }
      },
      "text/html": [
       "<div>                            <div id=\"468c65c0-e1ed-49ae-aac8-46bd87eff151\" class=\"plotly-graph-div\" style=\"height:350px; width:700px;\"></div>            <script type=\"text/javascript\">                require([\"plotly\"], function(Plotly) {                    window.PLOTLYENV=window.PLOTLYENV || {};                                    if (document.getElementById(\"468c65c0-e1ed-49ae-aac8-46bd87eff151\")) {                    Plotly.newPlot(                        \"468c65c0-e1ed-49ae-aac8-46bd87eff151\",                        [{\"name\": \"rand_0\", \"showlegend\": true, \"type\": \"box\", \"uid\": \"8e45f1be-9d66-433e-9c81-9bedc22be96a\", \"y\": [0.0, -0.00135000135000135, -0.3823305073305073, -0.17666387666387662, 0.03981153981153982, 1.3371932121932122, -0.13533763533763535, -0.06804006804006804, 0.3331229581229581, -0.07345897345897348, 0.1935496935496935, 0.05396427896427897, 0.3533594783594783, 0.2212058212058212, -0.13821043821043824, -0.04785079785079788, -0.4228035478035478, 0.6102991602991603, 0.027795177795177792, -0.10182385182385184, -0.01753314253314255, 0.03451413451413448, 0.012852012852012828, 0.053330453330453394, 0.16454828954828957, 0.3068256068256068, -0.11193198693198693, 0.35955598455598453, -0.09156046656046654, 0.16459553959553958, 0.6736506736506737, 0.08456813456813457, 0.09654129654129658, 0.0023328023328023444, 0.0, 0.0, -0.11862124362124359, -0.058650808650808677, -0.0895941895941896, -0.09759969759969757, -0.007202257202257175, -0.20290520290520292, -0.18947268947268942, -0.3243108243108243, -0.015398115398115367, 0.4060554310554311, -0.05587250587250587, 0.579961254961255, -0.08156708156708159, 0.06641264141264142, 0.2788313038313039, 0.4060898560898561, 0.10287752787752792, 0.025407700407700497, -0.09134176634176629, -0.0819120069120069, -0.22372222372222367, 0.17275089775089777, -0.32690080190080195, -0.5969017469017469, -0.004916704916704911, -0.13411318411318413, -0.26365391365391366, -0.1556612306612307, -0.047567297567297544, -0.10451305451305455, -0.07608067608067608, -0.1037023787023787, 0.10871020871020876, 0.0863528363528364, -0.6101742851742852, 0.05339997839997839, -0.18273618273618275, -0.16549801549801546, -0.054621054621054634, -0.07752922752922757, -0.29193509193509193, -0.06121581121581121, -0.08148608148608151, -0.3025339525339526, -0.10289845289845292, -0.17541175041175047, -0.6335630585630586, -0.05882360882360887, 0.030437130437130425, -0.11189823689823691, 0.0182709182709183, 0.09649539649539647, -0.10835110835110834, 0.2920525420525421, -0.26026338526338527, -0.7194589194589195, -0.3121581121581122, -0.30001620001620005, 0.0735278235278235, 0.029757404757404744, -0.10584280584280586, 0.07217917217917219, -0.000675000675000675, 0.6736506736506737, 3.2023719523719523, 0.025954450954450987, 0.0, 0.0, -0.14222939222939218, -0.0814928314928315, -0.3337581337581338, -0.21555944055944057, -0.3337750087750088, 0.03574128574128573, -0.32431892431892434, 0.0008626508626508378, -0.0005616005616005573, -0.054288954288954284, -0.10094770094770096, -0.024939924939924925, -0.09770769770769772, -0.20699975699975703, -0.03370345870345865, -0.3263358263358263, 0.05193050193050191, 0.0, -0.18947268947268942, 0.0, -0.13416988416988415, 0.0, 0.0, 0.20162270162270166, -0.2919580419580419]}, {\"name\": \"rand_1\", \"showlegend\": true, \"type\": \"box\", \"uid\": \"c99d2d35-6e9d-42c7-b54d-ce1411d335db\", \"y\": [0.0, -0.6217296217296218, -0.38204363204363206, -0.2365958365958366, 0.03981153981153982, 2.6858445608445614, -0.13533763533763535, -0.06804006804006804, 0.3331229581229581, -0.18674568674568676, 0.09644679644679642, 0.490927315927316, 0.4005622755622755, 0.2731288981288981, -0.1786699786699787, -0.04785079785079788, 0.015508140508140523, 0.6102991602991603, 0.027795177795177792, 0.10047385047385049, -0.01753314253314255, 0.03451413451413448, 0.012852012852012828, 0.053330453330453394, 0.16454828954828957, -0.07754002754002756, -0.22319572319572317, 0.35955598455598453, -0.09156046656046654, 0.022987147987147953, 0.16790641790641792, 0.08456813456813457, 0.09654129654129658, 0.0023328023328023444, 0.0, 0.0, -0.11862124362124359, -0.058650808650808677, -0.0895941895941896, -0.09759969759969757, -0.007202257202257175, -0.017465642465642466, -0.2649310149310149, -0.2299187299187299, -0.015398115398115367, 0.4060554310554311, -0.05587250587250587, 0.579961254961255, -0.08156708156708159, 0.06641264141264142, 0.2788313038313039, 0.4060898560898561, 0.10287752787752792, 0.025407700407700497, -0.2093082593082592, 0.17914315414315413, -0.39567527067527064, 0.17275089775089777, -0.3268670518670519, -0.4755265005265005, -0.004916704916704911, -0.13411318411318413, -0.32501755001755, -0.6215277965277965, -0.047567297567297544, -0.10451305451305455, -0.07608067608067608, -0.1037023787023787, 0.10871020871020876, 0.0863528363528364, -0.6101742851742852, 0.05339997839997839, -0.10384007884007887, -0.4574412074412075, -0.054621054621054634, -0.07752922752922757, -0.30276750276750275, -0.06121581121581121, -0.08148608148608151, -0.3025339525339526, -0.10289845289845292, -0.17541175041175047, -0.6335630585630586, 0.07469287469287465, 0.030437130437130425, -0.11189823689823691, 0.0182709182709183, 0.09649539649539647, -0.14206739206739205, 0.2920525420525421, -0.1962024462024462, 0.8726017226017225, -0.3121581121581122, -0.30001620001620005, 0.0735278235278235, 0.029757404757404744, -0.10584280584280586, 0.12073062073062074, -0.000675000675000675, 0.13419013419013415, 0.3364878364878365, 0.025954450954450987, 0.0, 0.0, -0.14222939222939218, -0.0814928314928315, -0.3337581337581338, -0.04360841860841862, -0.3337750087750088, 0.03574128574128573, -0.32431892431892434, 0.0008626508626508378, -0.0005616005616005573, -0.054288954288954284, -0.10094770094770096, 0.09643869643869649, -0.09770769770769772, -0.10989685989685993, -0.03370345870345865, -0.10921848421848418, -0.10563355563355566, 0.0, -0.2838310338310338, 0.0, -0.11191713691713691, 0.0, 0.0, -0.000675000675000675, -0.5751748251748252]}, {\"name\": \"rand_2\", \"showlegend\": true, \"type\": \"box\", \"uid\": \"93759a23-238c-4236-8a66-c2206986bea1\", \"y\": [0.0, 0.22296452190324975, 0.21175637924190557, -0.24755428066417512, -0.0007189987941791328, 2.9801189343838708, 1.4956672833079936, -0.07549487338880609, 0.3696215519888555, -0.19822796755517944, 0.7130625603846642, 0.3426995408893115, 0.44444985357889133, 0.41827829747077194, -0.22518143485196865, -0.05309356720766336, -0.18854994420269774, 0.6771665455852725, 0.030840554527820006, -0.15039058111579626, -0.01945416008208571, 0.038295673274964574, 0.0142601427512189, 0.059173600760940456, 0.1825770115114703, -0.22819523813090273, -0.24765014717006564, 0.39895071113474484, -0.1015922827462758, 0.18262943850687915, -0.0007489570772699016, 0.09383383638283689, 0.10711883701945045, 0.002588395659044793, 0.0, 0.0, -0.13161797197402614, -0.06507688044398179, -0.0994105707801886, -0.10829320171660958, -0.00799137201446982, -0.2588058628360009, -0.29395816325766366, -0.2850380844673792, -0.017085208846680962, 0.45054486627371393, -0.06199417311393884, 0.6435046697473767, -0.09050397321729493, 0.07368913787550836, 0.30938143634988285, 0.4505830630846546, 0.11414929710378302, 0.028191493345516468, -0.09307439390648509, 0.24067061616698743, -0.29312682090189407, 0.19167833791445413, -0.3626802177967181, -0.5276275286663321, -0.0054554033508339575, -0.1488072858544477, -0.37034504452549827, -0.6896254465656574, -0.052779005235209946, -0.115964020102008, -0.08441645009324514, 0.03308068514593431, 0.12062103520847225, -0.7271961293898247, -0.5685812506085276, 0.05925074333989918, -0.11521730989596989, -0.7469753368434455, -0.060605606692680454, -0.009706483721417952, -0.32396887334386865, -0.06792291733760737, -0.09041409836802254, -0.33568106411821547, -0.11417251477317837, -0.19463072671305212, -0.5136647218747894, 0.0828765943423782, 0.033771972528254396, -0.12415835948441797, 0.020272770167541726, 0.10706790793819602, -0.1202225900433646, 0.3240512586223684, -0.28877912506834236, -0.41970281383173924, -0.19372973134909632, -0.33288745421999866, 0.08158389442701035, 0.033017772751443596, -0.11743946554422968, 0.08008747818662514, -0.18780098712542784, 0.7474591631153619, 0.37335510301904595, 0.028798148578105025, 0.0, 0.0, -0.15781274575154092, -0.22509904957346893, -0.3703263205985665, -0.04838637197702201, -0.10773373077988901, 0.03965727724144128, 0.011252331128903002, 0.0009571671447509067, -0.0006231322882885534, -0.060237119810663646, -0.11200802881986835, 0.10700499554370543, -0.10841303484897281, 0.3763689062979801, -0.20565537489046498, -0.3104816542963923, -0.11720728885027601, 0.0, -0.10548311476269293, 0.0, 0.21326253192429545, 0.0, 0.0, 0.22371347898051966, -0.0014979141545398032]}, {\"name\": \"rand_3\", \"showlegend\": true, \"type\": \"box\", \"uid\": \"f13c428a-9904-491d-bbcd-da9c6f27b683\", \"y\": [0.0, -0.0013078417537634782, -0.37011267710629553, -0.028734591171937385, 0.038568253318484985, 1.0667901705229472, -0.1311111358147887, -0.03325187658943641, 0.3227197615542915, -0.18091374979810196, 0.18750527223706984, 0.2992139217139004, 0.11368087484150592, 1.0694241638150268, -0.1338942230667974, -0.046356450962146516, -0.24611947003636456, 0.5912399451491169, 0.026927153868236253, -0.13130731207785323, -0.016985594777003187, 0.03343628227671705, 0.012450653495828289, 0.05166498064067251, 0.15940956176184598, 0.29724365811185577, -0.10843642940891439, 0.3483273030929804, -0.08870109734462349, 0.15945533622322766, -0.1639706598780961, 0.08192713098100557, 0.0935263794951339, 0.0022599505505033015, 0.0, 0.0, -0.1149167852988124, -0.05681918499225434, -0.08679622583026701, -0.0945517274300844, -0.00697733575632813, -0.1965686155906508, -0.25672148921324817, -0.3141828245066004, -0.014917243043426204, 0.3933746044596097, -0.05412764666300907, 0.5618494713376672, -0.07901979876238938, 0.06433862115551743, 0.2701235975849395, 0.39340795442433063, 0.09966473476642278, 0.024614235726705628, -0.022470029171410222, 0.44593153317634876, -0.3833186092149222, 0.16735600825771285, -0.3166592228673516, -0.4606761411082782, -0.004763159667206583, -0.12992492334412523, -0.32335144912135927, -0.6021179189360447, -0.046081804193856137, -0.10124918505110723, -0.07370472987509458, -0.10046382607797222, 0.1053152650635579, 0.08365609777948092, -0.5343226720253303, -0.3990218651523604, -0.31813512228647367, -0.65219060224151, -0.3272743204617728, -0.07510804407688283, -0.2515032006157319, -0.05930408432440492, -0.07894132825716356, -0.2930860291766418, -0.0996850063136061, -0.16993376435438073, -0.448485094200572, 0.07236026855222569, 0.17909454191861698, -0.04960970732463314, 0.01770033029543494, 0.09348191287550588, -0.10496737915705676, 0.28293194580042214, -0.3141926333197536, 0.8453509822218532, -0.1691470975394919, -0.2906469043058728, 0.07123160111872781, 0.028828101857331458, -0.10253740917856424, 0.11696028803906787, -0.1639706598780961, 0.6526130351279756, 3.102364120146191, 0.025143911636979783, 0.0, 0.0, -0.1377876679677512, -0.07894786746593238, -0.3233351010994372, -0.04224655825094477, -0.2978825388085693, 0.03462511043088808, 0.00982450725427125, 0.0008357108806548385, -0.0005440621695656028, -0.05259354828584451, -0.09779517497941786, -0.2985096489294988, -0.21747054249929873, -0.10646485796511598, -0.03265092330358207, -0.256059067364967, 0.050308748742019696, 0.0, -0.13782690322036412, 0.0, 0.18620135400856772, 0.0, 0.0, 0.1299994703240897, -0.19728792855522068]}, {\"name\": \"rand_4\", \"showlegend\": true, \"type\": \"box\", \"uid\": \"60394111-e49a-43c7-85e5-ec87cb2a878d\", \"y\": [0.0, -0.0006772888128820332, -0.383338695203102, -0.38633569820010505, 0.039946494183782336, -0.8152850539291218, -0.13579640698284767, -0.06827071233850895, 0.33425218848947663, -0.11430467837247502, 0.19420579420579417, 0.309906364821619, 0.4019201137845206, 0.3782529335071708, -0.08184358014866493, -0.04801300394520737, -0.17050745864305186, 0.6123679710120388, 0.027889398736856363, 0.10081443979749066, -0.01759257691461083, 0.03463113158028409, 0.012895578997273888, 0.05351123452818375, 0.16510608036031768, -0.0778028750910107, -0.26854162786366176, 0.36077481840193704, -0.09187084102338339, 0.16515349057721937, 0.16847559220440578, 0.08485480621073842, 0.09686855517363996, 0.0023407101373203185, 0.0, 0.0, -0.11902334953182409, -0.0588496249513199, -0.08989789871145806, -0.09793054403223893, -0.007226671633451268, -0.23742359335579674, -0.2658290861680692, -0.32541018303730174, -0.015450312399464912, 0.40743189014375464, -0.056061904197497424, 0.5819272253170559, -0.08184358014866493, 0.06663776901065038, 0.279776494691749, 0.4074664318732116, 0.10322626526016361, 0.025493828205692706, -0.023272998188252327, -0.0821896747320476, -0.19338288829814254, 0.17333649401446014, -0.327975075771686, -0.41219593965356677, -0.004933371713032725, -0.13456780507627966, -0.2909355051727933, -0.5303557459489664, -0.04772854264379686, -0.10486733605377678, -0.07633857667755972, -0.10405391218950541, 0.10907871789227727, -0.1156877021283801, -0.6122426725816557, -0.41328095633180384, -0.18335562742342407, -0.45899185560202516, -0.3389695050712, -0.07779203847000461, 0.03180548265294031, -0.06142332244027159, -0.08176230549111907, -0.3035594913561016, -0.10324726121336295, -0.17600636651484117, -0.43273404561540163, 0.07494607087827423, 0.030540307150476634, -0.11227755295551908, 0.018332853587090903, 0.09682249953436392, -0.10871840024382397, 0.2930425506696694, -0.32542034236949496, 0.8755596945427454, -0.2523253018168273, -0.3010332040840516, 0.07377707038723985, 0.029858277315904423, -0.10620159501515436, 0.0724238473391016, -0.16966084762694933, 1.8938349785807413, 3.2132274505155864, 0.026042432144127096, 0.0, 0.0, -0.14271152576237317, -0.14604717316581725, -0.25778154049340496, -0.12494962664454191, -0.33490644948272075, 0.035862442642103656, 0.010175587124739668, 0.0008655751028632135, -0.0005635042923178474, -0.05447298464247617, -0.10128989654413385, 0.0967656072740819, -0.09803891024230009, -0.20770145109128166, -0.03381770771601275, -0.2340852367971012, -0.10599163548316093, 0.0, -0.09538935640630555, 0.0, -0.13462469733656174, 0.0, 0.0, 0.20230616840786336, -0.0013545776257640665]}, {\"name\": \"rand_5\", \"showlegend\": true, \"type\": \"box\", \"uid\": \"a77ef7db-e7f7-4563-ad00-bf1f894b5d48\", \"y\": [0.0, -0.0013078417537634782, 0.18488631912515846, -0.4500917777950704, 0.038568253318484985, -0.07378843174733546, 1.305879991132833, -0.06591522438967931, 0.3227197615542915, -0.11036091854957737, 0.09343483057237038, 0.2992139217139004, 0.11368087484150592, 0.36520238524179055, -0.1966078508432637, -0.046356450962146516, -0.08280273103515022, 0.5912399451491169, 0.026927153868236253, -0.09864396427761037, -0.016985594777003187, 0.03343628227671705, 0.27375743589777124, 0.05166498064067251, 0.15940956176184598, 0.35930401893231717, -0.10843642940891439, 0.3483273030929804, -0.08870109734462349, 0.022269275462207593, 0.32597955712554694, 0.08192713098100557, 0.0935263794951339, 0.0022599505505033015, 0.0, 0.0, -0.1149167852988124, -0.05681918499225434, -0.08679622583026701, -0.0945517274300844, -0.00697733575632813, -0.1639052677904079, -0.22928427706104415, -0.2488692073236523, -0.014917243043426204, 0.3933746044596097, -0.05412764666300907, 0.5618494713376672, -0.07901979876238938, 0.06433862115551743, 0.2701235975849395, 0.39340795442433063, 0.09966473476642278, 0.024614235726705628, -0.05447030120249503, 0.4511576688243876, -0.5792888872032262, 0.16735600825771285, -0.3166592228673516, -0.4606761411082782, -0.004763159667206583, -0.12992492334412523, -0.25542018666825356, -0.37872546897570486, -0.046081804193856137, -0.10124918505110723, -0.07370472987509458, -0.10046382607797222, 0.1053152650635579, -0.11169622498016986, -0.060076364880002245, 0.05173233449099126, -0.21230587541368676, -0.4431556390539858, -0.05291527735727034, -0.008474814564387362, -0.22014638672749873, -0.05930408432440492, -0.07894132825716356, -0.2930860291766418, -0.0996850063136061, -0.16993376435438073, -0.6137773281708461, 0.07236026855222569, 0.02948660018035137, -0.10840373336507032, 0.01770033029543494, 0.09348191287550588, -0.10496737915705676, 0.28293194580042214, -0.2521355421036766, -0.12211580023240344, -0.3024096330392216, -0.2906469043058728, 0.07123160111872781, 0.028828101857331458, -0.10253740917856424, 0.19535232275965075, -0.1639706598780961, 0.6526130351279756, 3.102364120146191, 0.025143911636979783, 0.0, 0.0, -0.1377876679677512, -0.07894786746593238, -0.3233351010994372, -0.04224655825094477, -0.09406324853505378, 0.03462511043088808, -0.314190671557123, 0.0008357108806548385, -0.0005440621695656028, -0.05259354828584451, -0.09779517497941786, -0.024161068559026482, -0.19656599990714327, -0.20053529962981545, -0.03265092330358207, -0.12083280747196151, -0.20446536409987465, 0.0, -0.13782690322036412, 0.0, -0.12997985269778328, 0.0, 0.0, -0.0006539208768817391, -0.8864590642261468]}, {\"name\": \"rand_6\", \"showlegend\": true, \"type\": \"box\", \"uid\": \"b7f2a520-1c60-47f4-9909-ebfc60e84515\", \"y\": [0.0, -0.000675000675000675, -0.38204363204363206, -0.4646009396009396, 0.03981153981153982, 1.1686117936117937, -0.13533763533763535, -0.06804006804006804, 0.3331229581229581, -0.07345897345897348, 0.1935496935496935, 0.3088593838593838, 0.11734549234549232, 0.376975051975052, -0.08156708156708159, -0.04785079785079788, -0.4225504225504225, 0.6102991602991603, 0.027795177795177792, -0.10182385182385184, -0.01753314253314255, 0.03451413451413448, 0.12074412074412073, 0.053330453330453394, 0.16454828954828957, 0.3068256068256068, -0.11193198693198693, 0.35955598455598453, -0.09156046656046654, 0.022987147987147953, -0.16925641925641927, 0.08456813456813457, 0.09654129654129658, 0.0023328023328023444, 0.0, 0.0, -0.11862124362124359, -0.058650808650808677, -0.0895941895941896, -0.09759969759969757, -0.007202257202257175, -0.20290520290520292, -0.23667548667548663, -0.3243108243108243, -0.015398115398115367, 0.4060554310554311, -0.05587250587250587, 0.579961254961255, -0.08156708156708159, 0.06641264141264142, 0.2788313038313039, 0.4060898560898561, 0.10287752787752792, 0.025407700407700497, -0.2093082593082592, 0.21690539190539188, -0.2034924534924535, 0.17275089775089777, -0.3268670518670519, -0.41080338580338577, -0.004916704916704911, -0.13411318411318413, -0.3337750087750088, -0.6215277965277965, -0.047567297567297544, -0.10451305451305455, -0.07608067608067608, -0.1037023787023787, 0.10871020871020876, 0.0863528363528364, -0.062012987012987, 0.34672489672489676, -0.10384007884007887, -0.16549801549801546, -0.33782433782433785, -0.07752922752922757, 0.031698031698031724, -0.06121581121581121, -0.08148608148608151, -0.3025339525339526, -0.10289845289845292, -0.17541175041175047, -0.6335630585630586, 0.07469287469287465, 0.030437130437130425, -0.11189823689823691, 0.0182709182709183, 0.09649539649539647, -0.10835110835110834, 0.2920525420525421, -0.1962024462024462, 0.8726017226017225, -0.17459972459972456, -0.26766476766476766, 0.0735278235278235, 0.029757404757404744, -0.10584280584280586, 0.07217917217917219, -0.16925641925641927, 0.13419013419013415, 1.5165577665577665, 0.025954450954450987, 0.0, 0.0, -0.14222939222939218, -0.0814928314928315, -0.25691065691065695, -0.04360841860841862, 0.008099333099333077, 0.03574128574128573, -0.16788076788076792, 0.0008626508626508378, -0.0005616005616005573, -0.054288954288954284, -0.10094770094770096, -0.3081324081324081, -0.2029025029025029, -0.12203472203472206, -0.03370345870345865, -0.12472797472797471, -0.10563355563355566, 0.0, -0.09506709506709506, 0.0, -0.11191713691713691, 0.0, 0.0, 0.20162270162270166, -0.4335664335664336]}, {\"name\": \"rand_7\", \"showlegend\": true, \"type\": \"box\", \"uid\": \"a835c1e7-3b90-42b5-a2e8-1ad3deccf8de\", \"y\": [0.0, -0.06871506871506869, -0.2676951426951427, -0.4646009396009396, 0.08027108027108024, 1.3371932121932122, -0.13533763533763535, -0.06804006804006804, 0.3331229581229581, -0.11391851391851393, 0.1814118314118314, 0.3088593838593838, 0.4005622755622755, 1.1038981288981289, -0.1705780705780706, -0.04785079785079788, 0.08294070794070794, 0.6102991602991603, 0.027795177795177792, -0.13554013554013555, 0.6898675648675648, 0.03451413451413448, 0.012852012852012828, 0.053330453330453394, 0.16454828954828957, 0.5246327996327996, -0.11193198693198693, 0.35955598455598453, -0.09156046656046654, 0.022987147987147953, 0.3364878364878365, 0.08456813456813457, 0.09654129654129658, 0.0023328023328023444, 0.0, 0.0, -0.11862124362124359, -0.058650808650808677, -0.0895941895941896, -0.09759969759969757, -0.007202257202257175, -0.23662148662148658, -0.2649310149310149, -0.3243108243108243, -0.015398115398115367, 0.4060554310554311, -0.05587250587250587, 0.579961254961255, -0.08156708156708159, 0.06641264141264142, 0.2788313038313039, 0.4060898560898561, 0.10287752787752792, 0.025407700407700497, -0.08388368388368377, -0.07382009882009881, -0.5979628479628479, 0.17275089775089777, -0.3268670518670519, -0.3952938952938953, -0.004916704916704911, -0.13411318411318413, -0.3337750087750088, -0.6215277965277965, -0.047567297567297544, -0.10451305451305455, -0.07608067608067608, -0.1037023787023787, 0.10871020871020876, -0.6553885303885304, -0.06266098766098767, 0.34672489672489676, -0.2191497691497692, -0.6732146232146232, -0.33782433782433785, -0.07752922752922757, -0.29193509193509193, -0.06121581121581121, -0.08148608148608151, -0.3025339525339526, -0.10289845289845292, -0.5442267192267194, -0.518934443934444, 0.07469287469287465, -0.5231606231606232, -0.05120892620892621, 0.0182709182709183, 0.09649539649539647, -0.10835110835110834, 0.2920525420525421, -0.1962024462024462, 0.8726017226017225, -0.3121581121581122, -0.30001620001620005, 0.0735278235278235, 0.029757404757404744, -0.10584280584280586, 0.20164970164970164, -0.1690876690876691, 0.13419013419013415, 3.2023719523719523, 0.025954450954450987, 0.0, 0.0, -0.14222939222939218, -0.20961470961470963, -0.3337581337581338, -0.04360841860841862, -0.09709547209547212, 0.03574128574128573, 0.010141210141210142, 0.0008626508626508378, -0.0005616005616005573, -0.054288954288954284, -0.10094770094770096, 0.09643869643869649, -0.22980262980262983, -0.1341725841725842, -0.11926384426384419, -0.3263358263358263, -0.10563355563355566, 0.0, -0.09506709506709506, 0.0, -0.13416988416988415, 0.0, 0.0, 0.20162270162270166, -0.5751748251748252]}, {\"name\": \"rand_8\", \"showlegend\": true, \"type\": \"box\", \"uid\": \"1ae0631e-2edc-41c5-9018-fc069310fa56\", \"y\": [0.0, -0.0017071969448003476, -0.4831281993937744, -0.4169802929720678, 0.10150993033782864, 1.477813695304611, -0.17114649371623486, -0.08604272601793753, 0.4212636501065718, -0.14406010699003255, 0.2294114182453259, 0.390580199417675, 0.5065466734840731, 1.0676707260964684, -0.17477940881477003, -0.06051159570844836, -0.5346727431496588, 0.7717776444267275, 0.035149477896494356, -0.12876532956156625, -0.022172220320594533, 0.04364619709076564, 0.15269169474294308, 0.06744110810739301, 0.2080859676093524, -0.0656519657092422, -0.28225087088384143, 0.45469056628576254, -0.11578636478872156, 0.029069295977587877, 0.42551883849148664, 0.10694393821312818, 0.12208506791656251, 0.0029500363206150155, 0.0, 0.0, -0.15000712754724452, -0.07416917126685114, -0.1132998324386199, -0.1234235103212859, -0.00910789570050982, -0.022086860473354498, -0.3350288644323442, -0.27369781419039174, -0.019472288352392727, 0.5134932578524658, -0.07065575995445199, 0.7334126610847017, -0.10314883940483703, 0.0839847001009807, 0.35260701777448106, 0.5135367913745582, 0.13009779677698294, 0.03213030009961506, -0.07110304555398958, 1.0102483032596363, -0.33408137012798, 0.2184588962459593, -0.41335249946436703, -0.4998843374069898, -0.006217611272962859, -0.16959806608730094, -0.3334138561225631, -0.7859772550151045, -0.06015308435004022, -0.13216606587560856, -0.09621079102116838, -0.1311408941102559, 0.13747374117699285, 0.1092008525741543, -0.7716197287093335, 0.43846451292390776, -0.1313150281986256, -0.20928698066001938, -0.06907318838662208, -0.09804261334293922, -0.28736904732435287, -0.07741284546197176, -0.10304640758814901, -0.3825811281328132, -0.13012425832962732, -0.22182378142416084, -0.8011969157779997, 0.0944557925619136, 0.3787484709917363, -0.14150528676213883, 0.02310520345092794, 0.12202702322043922, -0.13701962678967589, 0.36932645105338324, -0.41013272602647355, -0.29927759961280764, -0.3947517351522948, -0.3793972058307605, 0.0929824815985509, 0.03763088865576165, -0.13384765486623687, 0.25500400764482795, -0.0008535984724001738, 0.1696953763131545, 4.049684552684525, 0.03282171486225913, 0.0, 0.0, -0.17986173411944056, -0.103054943572873, -0.4220668862691004, -0.055146729309413244, 0.010242328070329657, 0.045198039113589196, 0.012824463449340212, 0.0010908988477273908, -0.0007101939290369392, -0.06865321793820117, -0.12765735874439083, 0.12195532094875769, -0.16790281952111422, 0.428953718744425, -0.042621025325413016, -0.412680717466588, 0.06567074487563494, 0.0, -0.23960509120272874, 0.0, 0.24305875062205992, 0.0, 0.0, 0.25496986370593194, -0.47921018240545754]}, {\"name\": \"rand_9\", \"showlegend\": true, \"type\": \"box\", \"uid\": \"67ab6743-b8f6-4e1b-b5aa-4714f3f2fddf\", \"y\": [0.0, -0.00135000135000135, -0.38204363204363206, -0.5467451467451467, 0.08027108027108024, 1.0000303750303752, -0.000675000675000675, -0.06804006804006804, 0.3331229581229581, -0.11391851391851393, 0.03575748575748575, 0.581961281961282, 0.4005622755622755, 0.376975051975052, -0.2676809676809677, -0.04785079785079788, -0.4225504225504225, 0.6102991602991603, 0.027795177795177792, -0.20297270297270295, -0.01753314253314255, 0.03451413451413448, 0.12074412074412073, 0.053330453330453394, 0.16454828954828957, -0.09035221535221537, -0.11193198693198693, 0.35955598455598453, -0.1219051219051219, 0.16459553959553958, 0.6736506736506737, 0.08456813456813457, 0.09654129654129658, 0.0023328023328023444, 0.0, 0.0, -0.11862124362124359, -0.058650808650808677, -0.0895941895941896, -0.09759969759969757, -0.007202257202257175, -0.16918891918891918, -0.2649310149310149, -0.3243108243108243, -0.015398115398115367, 0.4060554310554311, -0.05587250587250587, 0.579961254961255, -0.08156708156708159, 0.06641264141264142, 0.2788313038313039, 0.4060898560898561, 0.10287752787752792, 0.025407700407700497, -0.08388368388368377, -0.0819120069120069, -0.1927295677295677, 0.17275089775089777, -0.3268670518670519, -0.1775049275049275, -0.004916704916704911, -0.13411318411318413, -0.3337750087750088, -0.6215277965277965, -0.047567297567297544, -0.10451305451305455, -0.07608067608067608, -0.1037023787023787, 0.10871020871020876, 0.0863528363528364, -0.06266098766098767, 0.34672489672489676, -0.10384007884007887, -0.4574412074412075, -0.149026649026649, -0.07752922752922757, -0.29193509193509193, -0.06121581121581121, -0.08148608148608151, -0.3025339525339526, -0.10289845289845292, -0.17541175041175047, -0.6335630585630586, 0.07469287469287465, 0.030437130437130425, -0.11189823689823691, 0.0182709182709183, 0.09649539649539647, -0.10835110835110834, 0.2920525420525421, -0.32432094932094935, 0.8726017226017225, -0.17459972459972456, -0.30001620001620005, -0.05459405459405459, 0.029757404757404744, -0.10584280584280586, 0.07217917217917219, -0.000675000675000675, 0.13419013419013415, 0.3364878364878365, 0.025954450954450987, 0.0, 0.0, -0.14222939222939218, -0.0814928314928315, -0.3337581337581338, -0.04360841860841862, -0.13216040716040717, 0.03574128574128573, 0.010141210141210142, 0.0008626508626508378, -0.0005616005616005573, -0.054288954288954284, -0.10094770094770096, 0.09643869643869649, -0.2029025029025029, -0.14631044631044632, -0.03370345870345865, -0.10921848421848418, -0.10563355563355566, 0.0, -0.23667548667548663, 0.0, -0.2083457083457083, 0.0, 0.0, -0.000675000675000675, -0.4335664335664336]}, {\"name\": \"expiration\", \"showlegend\": true, \"type\": \"box\", \"uid\": \"af669f62-5ff4-4121-b07d-492ec8451674\", \"y\": [0.0, -0.2211048619888399, -0.15631192012407483, -0.22358166695183268, -0.04988933718215487, -0.28201908588648916, -0.055414199060607905, -0.06227888133965482, -0.26104531269835135, -0.1127402983756575, -0.10447949840215036, -0.11936682102427958, -0.11606073484526525, -0.27042076073098176, -0.1259800972508155, -0.13259530662707458, -0.17285890904675436, -0.12845800608231547, -0.10442651271380553, -0.13260772376794477, -0.25830937018782324, -0.11270607955580333, -0.12983149723204973, -0.12376132155137679, -0.12956960166904918, 0.884971658176078, -0.10944690668447575, -0.24117236354805416, -0.10359943923479835, -0.11797125526407296, -0.08298331502751392, 0.029060994254364432, -0.04544295483522003, -0.07458535966795636, 0.0, 0.0, -0.12320938729778509, -0.1331524828762398, -0.11768286961657128, -0.22045192376684092, -0.09392237624254199, -0.007140649405842776, -0.10834138237453154, -0.13259117125967956, -0.031107566466682484, 0.02210082734944616, -0.10169057461875142, -0.18490597799990066, -0.1259800972508155, -0.050592777388357484, -0.20084197570385415, -0.33372649449997516, -0.44062539670274475, -0.932349142570137, -0.5770961083115779, -0.9999881452801342, -0.24447100275415193, -0.11270690662928233, -0.23041764864969286, -0.6743019486038823, -0.17817596850663148, -0.12209889613149282, -0.13646050441271437, -0.3919495264404104, -0.07210441492209448, -0.13370717680109948, -0.11215800773811824, -0.1085627088381232, -0.10690938895358786, -0.26794890882598066, -0.24947952599886303, -0.3823149281657569, -0.13673785027127572, -0.3267908933607829, -0.1381160331381326, -0.13425248949945084, -0.11937234036681552, -0.10773453093867459, -0.11602127237403481, -0.6654663049657524, -0.08204392320386797, -0.6806563668375823, -0.9008190800911797, -0.44612846131768785, -0.5309301287110679, -0.12983287568784807, -0.11383423206627626, -0.11769280443313593, -0.0922685049756873, -0.11989722984198123, -0.13259530662707458, -0.3823645967292376, -0.1276226552453072, -0.12266518012374367, -0.13259392817127624, -0.05069157361975042, -0.11660659782206745, -0.11605521550272932, -0.06919875704406091, 1.7365783387882836, 1.102488671549445, -0.06906353315193094, 0.0, 0.0, -0.12569336740607456, -0.11326794752209117, -0.13645361213372265, -0.23038481049337406, -0.13646050441271437, -0.13756740662652264, -0.13259447955359557, -0.09944696242983536, -0.11491602430718453, -0.07016547016519392, -0.2348052513784558, -0.12598672046185858, -0.09398226083308958, -0.11936682102427962, -0.25717846076575357, -0.1334190734679685, -0.04328047642964772, 0.0, -0.11606073484526522, 0.0, -0.1124734381640459, 0.0, 0.0, 0.13756961270773427, -0.3856817215933238]}, {\"name\": \"pct_inc\", \"showlegend\": true, \"type\": \"box\", \"uid\": \"d66b5807-123e-45e1-a2db-121ad53dae60\", \"y\": [0.0, -0.03118623173820964, -0.1733899341995018, -0.2481394716905296, 0.12824342171168296, -0.08347218558810095, 0.611777060719103, 0.1910003519939122, -0.2897835068948224, -0.12513337628333027, 0.08784224055613198, 0.14017537200609873, 0.18179459301814405, 0.5010025240016039, -0.13984175897699355, -0.1471925804952484, -0.19177388082631872, 0.2769833662197967, 0.11819918811639141, 0.3057353563333324, 0.3130953682931603, -0.12511377000797422, 0.12824954867273172, 0.07072228599367514, 0.07467999648312436, 0.1392523453241024, -0.1214654710514876, -0.04369595445952393, -0.11499999540477919, 0.07470144084679502, 0.15271450414044707, 0.05337716561267621, 0.06829846020278403, -0.08279638178442225, 0.0, 0.0, -0.1367706197513005, -0.1478092591248065, -0.13063661269733026, -0.24471572585648022, -0.10426218981876754, -0.00779655793455241, -0.12023854710147255, -0.1471879852744618, 0.10624701885051471, 0.18428765346888623, 0.14418945053719662, 0.8138567963774953, 0.09274258400293357, 0.07757774271113736, -0.0062730890697771935, 1.0618090894079852, 0.9333484669271236, 0.6347755280597968, -0.04016621219933078, 0.797163584652085, -0.271384549213436, 0.07840273801635347, -0.25576692550013613, -0.5924541573115629, 0.08070616902263636, -0.1355406323207611, -0.15148329131769794, -0.43509878652472944, -0.08003955566053081, -0.14842379331799754, -0.12450352468751731, -0.12051426034866695, -0.118677091078195, -0.29744710977461664, -0.27692669183009566, 0.6344946068957108, -0.15179117111039833, -0.3627669478635439, -0.15332107328427474, -0.14903220055013983, -0.13249430728731554, -0.1195949098432999, -0.12879392916191443, -0.7387267746053393, -0.09107605059766974, -0.7555890904556957, -0.9999892778181647, -0.0958605944806497, -0.2512075474356983, -0.14412603649034192, 0.210279753978006, 0.2549630682105382, -0.10242440785219072, 0.13254761184843983, -0.1471925804952484, -0.4244341981232505, -0.14167249493836429, -0.1361619061711058, -0.14719104875498618, 0.1420428697337621, -0.12942592519409446, 0.0915184171853905, -0.0767401871357713, 0.3057353563333324, 0.15271450414044707, 0.077884397111628, 0.0, 0.0, -0.13952928396350656, -0.12573289942195184, -0.15147563261638697, -0.2557476255728326, -0.15148329131769794, -0.15271205335602758, -0.14719166145109105, -0.11039497148052804, -0.1275670052118994, -0.07788991137657189, -0.26065470867678775, -0.1398454351536228, -0.10429558175648332, 0.15394724870345844, -0.2854909579840582, -0.14810702943177642, -0.047941632118265055, 0.0, -0.1288162925697424, 0.0, 0.08723138253957022, 0.0, 0.0, 0.09150616326329299, -0.42811527632134805]}],                        {\"height\": 350, \"legend\": {\"orientation\": \"h\", \"traceorder\": \"normal\", \"x\": 1, \"xanchor\": \"right\", \"y\": 1.02, \"yanchor\": \"bottom\"}, \"margin\": {\"b\": 30, \"l\": 30, \"r\": 30, \"t\": 30}, \"template\": {\"data\": {\"bar\": [{\"error_x\": {\"color\": \"#2a3f5f\"}, \"error_y\": {\"color\": \"#2a3f5f\"}, \"marker\": {\"line\": {\"color\": \"#E5ECF6\", \"width\": 0.5}}, \"type\": \"bar\"}], \"barpolar\": [{\"marker\": {\"line\": {\"color\": \"#E5ECF6\", \"width\": 0.5}}, \"type\": \"barpolar\"}], \"carpet\": [{\"aaxis\": {\"endlinecolor\": \"#2a3f5f\", \"gridcolor\": \"white\", \"linecolor\": \"white\", \"minorgridcolor\": \"white\", \"startlinecolor\": \"#2a3f5f\"}, \"baxis\": {\"endlinecolor\": \"#2a3f5f\", \"gridcolor\": \"white\", \"linecolor\": \"white\", \"minorgridcolor\": \"white\", \"startlinecolor\": \"#2a3f5f\"}, \"type\": \"carpet\"}], \"choropleth\": [{\"colorbar\": {\"outlinewidth\": 0, \"ticks\": \"\"}, \"type\": \"choropleth\"}], \"contour\": [{\"colorbar\": {\"outlinewidth\": 0, \"ticks\": \"\"}, \"colorscale\": [[0.0, \"#0d0887\"], [0.1111111111111111, \"#46039f\"], [0.2222222222222222, \"#7201a8\"], [0.3333333333333333, \"#9c179e\"], [0.4444444444444444, \"#bd3786\"], [0.5555555555555556, \"#d8576b\"], [0.6666666666666666, \"#ed7953\"], [0.7777777777777778, \"#fb9f3a\"], [0.8888888888888888, \"#fdca26\"], [1.0, \"#f0f921\"]], \"type\": \"contour\"}], \"contourcarpet\": [{\"colorbar\": {\"outlinewidth\": 0, \"ticks\": \"\"}, \"type\": \"contourcarpet\"}], \"heatmap\": [{\"colorbar\": {\"outlinewidth\": 0, \"ticks\": \"\"}, \"colorscale\": [[0.0, \"#0d0887\"], [0.1111111111111111, \"#46039f\"], [0.2222222222222222, \"#7201a8\"], [0.3333333333333333, \"#9c179e\"], [0.4444444444444444, \"#bd3786\"], [0.5555555555555556, \"#d8576b\"], [0.6666666666666666, \"#ed7953\"], [0.7777777777777778, \"#fb9f3a\"], [0.8888888888888888, \"#fdca26\"], [1.0, \"#f0f921\"]], \"type\": \"heatmap\"}], \"heatmapgl\": [{\"colorbar\": {\"outlinewidth\": 0, \"ticks\": \"\"}, \"colorscale\": [[0.0, \"#0d0887\"], [0.1111111111111111, \"#46039f\"], [0.2222222222222222, \"#7201a8\"], [0.3333333333333333, \"#9c179e\"], [0.4444444444444444, \"#bd3786\"], [0.5555555555555556, \"#d8576b\"], [0.6666666666666666, \"#ed7953\"], [0.7777777777777778, \"#fb9f3a\"], [0.8888888888888888, \"#fdca26\"], [1.0, \"#f0f921\"]], \"type\": \"heatmapgl\"}], \"histogram\": [{\"marker\": {\"colorbar\": {\"outlinewidth\": 0, \"ticks\": \"\"}}, \"type\": \"histogram\"}], \"histogram2d\": [{\"colorbar\": {\"outlinewidth\": 0, \"ticks\": \"\"}, \"colorscale\": [[0.0, \"#0d0887\"], [0.1111111111111111, \"#46039f\"], [0.2222222222222222, \"#7201a8\"], [0.3333333333333333, \"#9c179e\"], [0.4444444444444444, \"#bd3786\"], [0.5555555555555556, \"#d8576b\"], [0.6666666666666666, \"#ed7953\"], [0.7777777777777778, \"#fb9f3a\"], [0.8888888888888888, \"#fdca26\"], [1.0, \"#f0f921\"]], \"type\": \"histogram2d\"}], \"histogram2dcontour\": [{\"colorbar\": {\"outlinewidth\": 0, \"ticks\": \"\"}, \"colorscale\": [[0.0, \"#0d0887\"], [0.1111111111111111, \"#46039f\"], [0.2222222222222222, \"#7201a8\"], [0.3333333333333333, \"#9c179e\"], [0.4444444444444444, \"#bd3786\"], [0.5555555555555556, \"#d8576b\"], [0.6666666666666666, \"#ed7953\"], [0.7777777777777778, \"#fb9f3a\"], [0.8888888888888888, \"#fdca26\"], [1.0, \"#f0f921\"]], \"type\": \"histogram2dcontour\"}], \"mesh3d\": [{\"colorbar\": {\"outlinewidth\": 0, \"ticks\": \"\"}, \"type\": \"mesh3d\"}], \"parcoords\": [{\"line\": {\"colorbar\": {\"outlinewidth\": 0, \"ticks\": \"\"}}, \"type\": \"parcoords\"}], \"pie\": [{\"automargin\": true, \"type\": \"pie\"}], \"scatter\": [{\"marker\": {\"colorbar\": {\"outlinewidth\": 0, \"ticks\": \"\"}}, \"type\": \"scatter\"}], \"scatter3d\": [{\"line\": {\"colorbar\": {\"outlinewidth\": 0, \"ticks\": \"\"}}, \"marker\": {\"colorbar\": {\"outlinewidth\": 0, \"ticks\": \"\"}}, \"type\": \"scatter3d\"}], \"scattercarpet\": [{\"marker\": {\"colorbar\": {\"outlinewidth\": 0, \"ticks\": \"\"}}, \"type\": \"scattercarpet\"}], \"scattergeo\": [{\"marker\": {\"colorbar\": {\"outlinewidth\": 0, \"ticks\": \"\"}}, \"type\": \"scattergeo\"}], \"scattergl\": [{\"marker\": {\"colorbar\": {\"outlinewidth\": 0, \"ticks\": \"\"}}, \"type\": \"scattergl\"}], \"scattermapbox\": [{\"marker\": {\"colorbar\": {\"outlinewidth\": 0, \"ticks\": \"\"}}, \"type\": \"scattermapbox\"}], \"scatterpolar\": [{\"marker\": {\"colorbar\": {\"outlinewidth\": 0, \"ticks\": \"\"}}, \"type\": \"scatterpolar\"}], \"scatterpolargl\": [{\"marker\": {\"colorbar\": {\"outlinewidth\": 0, \"ticks\": \"\"}}, \"type\": \"scatterpolargl\"}], \"scatterternary\": [{\"marker\": {\"colorbar\": {\"outlinewidth\": 0, \"ticks\": \"\"}}, \"type\": \"scatterternary\"}], \"surface\": [{\"colorbar\": {\"outlinewidth\": 0, \"ticks\": \"\"}, \"colorscale\": [[0.0, \"#0d0887\"], [0.1111111111111111, \"#46039f\"], [0.2222222222222222, \"#7201a8\"], [0.3333333333333333, \"#9c179e\"], [0.4444444444444444, \"#bd3786\"], [0.5555555555555556, \"#d8576b\"], [0.6666666666666666, \"#ed7953\"], [0.7777777777777778, \"#fb9f3a\"], [0.8888888888888888, \"#fdca26\"], [1.0, \"#f0f921\"]], \"type\": \"surface\"}], \"table\": [{\"cells\": {\"fill\": {\"color\": \"#EBF0F8\"}, \"line\": {\"color\": \"white\"}}, \"header\": {\"fill\": {\"color\": \"#C8D4E3\"}, \"line\": {\"color\": \"white\"}}, \"type\": \"table\"}]}, \"layout\": {\"annotationdefaults\": {\"arrowcolor\": \"#2a3f5f\", \"arrowhead\": 0, \"arrowwidth\": 1}, \"coloraxis\": {\"colorbar\": {\"outlinewidth\": 0, \"ticks\": \"\"}}, \"colorscale\": {\"diverging\": [[0, \"#8e0152\"], [0.1, \"#c51b7d\"], [0.2, \"#de77ae\"], [0.3, \"#f1b6da\"], [0.4, \"#fde0ef\"], [0.5, \"#f7f7f7\"], [0.6, \"#e6f5d0\"], [0.7, \"#b8e186\"], [0.8, \"#7fbc41\"], [0.9, \"#4d9221\"], [1, \"#276419\"]], \"sequential\": [[0.0, \"#0d0887\"], [0.1111111111111111, \"#46039f\"], [0.2222222222222222, \"#7201a8\"], [0.3333333333333333, \"#9c179e\"], [0.4444444444444444, \"#bd3786\"], [0.5555555555555556, \"#d8576b\"], [0.6666666666666666, \"#ed7953\"], [0.7777777777777778, \"#fb9f3a\"], [0.8888888888888888, \"#fdca26\"], [1.0, \"#f0f921\"]], \"sequentialminus\": [[0.0, \"#0d0887\"], [0.1111111111111111, \"#46039f\"], [0.2222222222222222, \"#7201a8\"], [0.3333333333333333, \"#9c179e\"], [0.4444444444444444, \"#bd3786\"], [0.5555555555555556, \"#d8576b\"], [0.6666666666666666, \"#ed7953\"], [0.7777777777777778, \"#fb9f3a\"], [0.8888888888888888, \"#fdca26\"], [1.0, \"#f0f921\"]]}, \"colorway\": [\"#1f77b4\", \"#ff7f0e\", \"#2ca02c\", \"#dc3912\", \"#9467bd\", \"#8c564b\", \"#e377c2\", \"#7f7f7f\", \"#bcbd22\", \"#17becf\"], \"font\": {\"color\": \"#2a3f5f\"}, \"geo\": {\"bgcolor\": \"white\", \"lakecolor\": \"white\", \"landcolor\": \"#E5ECF6\", \"showlakes\": true, \"showland\": true, \"subunitcolor\": \"white\"}, \"hoverlabel\": {\"align\": \"left\"}, \"hovermode\": \"closest\", \"mapbox\": {\"style\": \"light\"}, \"paper_bgcolor\": \"white\", \"plot_bgcolor\": \"#E5ECF6\", \"polar\": {\"angularaxis\": {\"gridcolor\": \"white\", \"linecolor\": \"white\", \"ticks\": \"\"}, \"bgcolor\": \"#E5ECF6\", \"radialaxis\": {\"gridcolor\": \"white\", \"linecolor\": \"white\", \"ticks\": \"\"}}, \"scene\": {\"xaxis\": {\"backgroundcolor\": \"#E5ECF6\", \"gridcolor\": \"white\", \"gridwidth\": 2, \"linecolor\": \"white\", \"showbackground\": true, \"ticks\": \"\", \"zerolinecolor\": \"white\"}, \"yaxis\": {\"backgroundcolor\": \"#E5ECF6\", \"gridcolor\": \"white\", \"gridwidth\": 2, \"linecolor\": \"white\", \"showbackground\": true, \"ticks\": \"\", \"zerolinecolor\": \"white\"}, \"zaxis\": {\"backgroundcolor\": \"#E5ECF6\", \"gridcolor\": \"white\", \"gridwidth\": 2, \"linecolor\": \"white\", \"showbackground\": true, \"ticks\": \"\", \"zerolinecolor\": \"white\"}}, \"shapedefaults\": {\"line\": {\"color\": \"#2a3f5f\"}}, \"ternary\": {\"aaxis\": {\"gridcolor\": \"white\", \"linecolor\": \"white\", \"ticks\": \"\"}, \"baxis\": {\"gridcolor\": \"white\", \"linecolor\": \"white\", \"ticks\": \"\"}, \"bgcolor\": \"#E5ECF6\", \"caxis\": {\"gridcolor\": \"white\", \"linecolor\": \"white\", \"ticks\": \"\"}}, \"title\": {\"x\": 0.05}, \"xaxis\": {\"automargin\": true, \"gridcolor\": \"white\", \"linecolor\": \"white\", \"ticks\": \"\", \"title\": {\"standoff\": 15}, \"zerolinecolor\": \"white\", \"zerolinewidth\": 2}, \"yaxis\": {\"automargin\": true, \"gridcolor\": \"white\", \"linecolor\": \"white\", \"ticks\": \"\", \"title\": {\"standoff\": 15}, \"zerolinecolor\": \"white\", \"zerolinewidth\": 2}}}, \"width\": 700, \"yaxis\": {\"tickformat\": \"%\", \"title\": {\"text\": \"Total return\"}}},                        {\"responsive\": true}                    ).then(function(){\n",
       "                            \n",
       "var gd = document.getElementById('468c65c0-e1ed-49ae-aac8-46bd87eff151');\n",
       "var x = new MutationObserver(function (mutations, observer) {{\n",
       "        var display = window.getComputedStyle(gd).display;\n",
       "        if (!display || display === 'none') {{\n",
       "            console.log([gd, 'removed!']);\n",
       "            Plotly.purge(gd);\n",
       "            observer.disconnect();\n",
       "        }}\n",
       "}});\n",
       "\n",
       "// Listen for the removal of the full notebook cells\n",
       "var notebookContainer = gd.closest('#notebook-container');\n",
       "if (notebookContainer) {{\n",
       "    x.observe(notebookContainer, {childList: true});\n",
       "}}\n",
       "\n",
       "// Listen for the clearing of the current output cell\n",
       "var outputEl = gd.closest('.output');\n",
       "if (outputEl) {{\n",
       "    x.observe(outputEl, {childList: true});\n",
       "}}\n",
       "\n",
       "                        })                };                });            </script>        </div>"
      ]
     },
     "metadata": {},
     "output_type": "display_data"
    }
   ],
   "source": [
    "total_return_by_type = total_return.unstack(level='exit_type')[exit_types]\n",
    "\n",
    "print(pd.DataFrame({\n",
    "    'Mean': total_return_by_type.mean(),\n",
    "    'Median': total_return_by_type.median(),\n",
    "    'Std': total_return_by_type.std(),\n",
    "}))\n",
    "\n",
    "total_return_by_type.vbt.boxplot(\n",
    "    yaxis_title='Total return',\n",
    "    yaxis_tickformat='%'\n",
    ").show()\n"
   ]
  },
  {
   "cell_type": "markdown",
   "metadata": {},
   "source": [
    "### Portfolio: Trades, Orders. Not sure what to do with these yet\n",
    "\n",
    "All columns show the current snapshot prior to fulfilling the log record action. For example, cash now = 50000 on the first trade. shares now = 0 on the first trade. Also, every cell is traversed during the calculations and `non_order` logs are `-1`\n",
    "\n",
    "Columns of Note:\n",
    "- `cash_now`: the total cash in the portfolio\n",
    "- `value_now`: the total portfolio value (cash + positions held)"
   ]
  },
  {
   "cell_type": "code",
   "execution_count": 207,
   "metadata": {
    "scrolled": false
   },
   "outputs": [
    {
     "data": {
      "text/html": [
       "<div>\n",
       "<style scoped>\n",
       "    .dataframe tbody tr th:only-of-type {\n",
       "        vertical-align: middle;\n",
       "    }\n",
       "\n",
       "    .dataframe tbody tr th {\n",
       "        vertical-align: top;\n",
       "    }\n",
       "\n",
       "    .dataframe thead th {\n",
       "        text-align: right;\n",
       "    }\n",
       "</style>\n",
       "<table border=\"1\" class=\"dataframe\">\n",
       "  <thead>\n",
       "    <tr style=\"text-align: right;\">\n",
       "      <th></th>\n",
       "      <th>id</th>\n",
       "      <th>idx</th>\n",
       "      <th>col</th>\n",
       "      <th>group</th>\n",
       "      <th>cash_now</th>\n",
       "      <th>shares_now</th>\n",
       "      <th>val_price_now</th>\n",
       "      <th>value_now</th>\n",
       "      <th>size</th>\n",
       "      <th>size_type</th>\n",
       "      <th>...</th>\n",
       "      <th>log</th>\n",
       "      <th>new_cash</th>\n",
       "      <th>new_shares</th>\n",
       "      <th>res_size</th>\n",
       "      <th>res_price</th>\n",
       "      <th>res_fees</th>\n",
       "      <th>res_side</th>\n",
       "      <th>res_status</th>\n",
       "      <th>res_status_info</th>\n",
       "      <th>order_id</th>\n",
       "    </tr>\n",
       "  </thead>\n",
       "  <tbody>\n",
       "    <tr>\n",
       "      <th>168</th>\n",
       "      <td>168</td>\n",
       "      <td>57</td>\n",
       "      <td>1</td>\n",
       "      <td>1</td>\n",
       "      <td>inf</td>\n",
       "      <td>0.0</td>\n",
       "      <td>0.25</td>\n",
       "      <td>inf</td>\n",
       "      <td>2000.0</td>\n",
       "      <td>0</td>\n",
       "      <td>...</td>\n",
       "      <td>True</td>\n",
       "      <td>inf</td>\n",
       "      <td>2000.0</td>\n",
       "      <td>2000.0</td>\n",
       "      <td>0.25</td>\n",
       "      <td>0.5</td>\n",
       "      <td>0</td>\n",
       "      <td>0</td>\n",
       "      <td>-1</td>\n",
       "      <td>0</td>\n",
       "    </tr>\n",
       "    <tr>\n",
       "      <th>169</th>\n",
       "      <td>169</td>\n",
       "      <td>58</td>\n",
       "      <td>1</td>\n",
       "      <td>1</td>\n",
       "      <td>inf</td>\n",
       "      <td>2000.0</td>\n",
       "      <td>0.40</td>\n",
       "      <td>inf</td>\n",
       "      <td>-4000.0</td>\n",
       "      <td>0</td>\n",
       "      <td>...</td>\n",
       "      <td>True</td>\n",
       "      <td>inf</td>\n",
       "      <td>0.0</td>\n",
       "      <td>2000.0</td>\n",
       "      <td>0.40</td>\n",
       "      <td>0.8</td>\n",
       "      <td>1</td>\n",
       "      <td>0</td>\n",
       "      <td>-1</td>\n",
       "      <td>1</td>\n",
       "    </tr>\n",
       "  </tbody>\n",
       "</table>\n",
       "<p>2 rows × 30 columns</p>\n",
       "</div>"
      ],
      "text/plain": [
       "      id  idx  col  group  cash_now  shares_now  val_price_now  value_now  \\\n",
       "168  168   57    1      1       inf         0.0           0.25        inf   \n",
       "169  169   58    1      1       inf      2000.0           0.40        inf   \n",
       "\n",
       "       size  size_type  ...   log  new_cash  new_shares  res_size  res_price  \\\n",
       "168  2000.0          0  ...  True       inf      2000.0    2000.0       0.25   \n",
       "169 -4000.0          0  ...  True       inf         0.0    2000.0       0.40   \n",
       "\n",
       "     res_fees  res_side  res_status  res_status_info  order_id  \n",
       "168       0.5         0           0               -1         0  \n",
       "169       0.8         1           0               -1         1  \n",
       "\n",
       "[2 rows x 30 columns]"
      ]
     },
     "execution_count": 207,
     "metadata": {},
     "output_type": "execute_result"
    }
   ],
   "source": [
    "order_df = portfolio.logs.records\n",
    "order_df[order_df['order_id'] != -1].head(2)"
   ]
  },
  {
   "cell_type": "code",
   "execution_count": 208,
   "metadata": {},
   "outputs": [
    {
     "data": {
      "text/html": [
       "<div>\n",
       "<style scoped>\n",
       "    .dataframe tbody tr th:only-of-type {\n",
       "        vertical-align: middle;\n",
       "    }\n",
       "\n",
       "    .dataframe tbody tr th {\n",
       "        vertical-align: top;\n",
       "    }\n",
       "\n",
       "    .dataframe thead th {\n",
       "        text-align: right;\n",
       "    }\n",
       "</style>\n",
       "<table border=\"1\" class=\"dataframe\">\n",
       "  <thead>\n",
       "    <tr style=\"text-align: right;\">\n",
       "      <th></th>\n",
       "      <th>id</th>\n",
       "      <th>idx</th>\n",
       "      <th>col</th>\n",
       "      <th>size</th>\n",
       "      <th>price</th>\n",
       "      <th>fees</th>\n",
       "      <th>side</th>\n",
       "    </tr>\n",
       "  </thead>\n",
       "  <tbody>\n",
       "    <tr>\n",
       "      <th>0</th>\n",
       "      <td>0</td>\n",
       "      <td>57</td>\n",
       "      <td>1</td>\n",
       "      <td>2000.0</td>\n",
       "      <td>0.25</td>\n",
       "      <td>0.50</td>\n",
       "      <td>0</td>\n",
       "    </tr>\n",
       "    <tr>\n",
       "      <th>1</th>\n",
       "      <td>1</td>\n",
       "      <td>58</td>\n",
       "      <td>1</td>\n",
       "      <td>2000.0</td>\n",
       "      <td>0.40</td>\n",
       "      <td>0.80</td>\n",
       "      <td>1</td>\n",
       "    </tr>\n",
       "    <tr>\n",
       "      <th>2</th>\n",
       "      <td>2</td>\n",
       "      <td>59</td>\n",
       "      <td>1</td>\n",
       "      <td>2000.0</td>\n",
       "      <td>0.25</td>\n",
       "      <td>0.50</td>\n",
       "      <td>0</td>\n",
       "    </tr>\n",
       "    <tr>\n",
       "      <th>3</th>\n",
       "      <td>3</td>\n",
       "      <td>76</td>\n",
       "      <td>2</td>\n",
       "      <td>5000.0</td>\n",
       "      <td>0.10</td>\n",
       "      <td>0.50</td>\n",
       "      <td>0</td>\n",
       "    </tr>\n",
       "    <tr>\n",
       "      <th>4</th>\n",
       "      <td>4</td>\n",
       "      <td>78</td>\n",
       "      <td>2</td>\n",
       "      <td>3500.0</td>\n",
       "      <td>0.14</td>\n",
       "      <td>0.49</td>\n",
       "      <td>0</td>\n",
       "    </tr>\n",
       "  </tbody>\n",
       "</table>\n",
       "</div>"
      ],
      "text/plain": [
       "   id  idx  col    size  price  fees  side\n",
       "0   0   57    1  2000.0   0.25  0.50     0\n",
       "1   1   58    1  2000.0   0.40  0.80     1\n",
       "2   2   59    1  2000.0   0.25  0.50     0\n",
       "3   3   76    2  5000.0   0.10  0.50     0\n",
       "4   4   78    2  3500.0   0.14  0.49     0"
      ]
     },
     "execution_count": 208,
     "metadata": {},
     "output_type": "execute_result"
    }
   ],
   "source": [
    "portfolio.orders.records.head()"
   ]
  },
  {
   "cell_type": "code",
   "execution_count": 209,
   "metadata": {
    "scrolled": true
   },
   "outputs": [
    {
     "data": {
      "text/plain": [
       "39781.814"
      ]
     },
     "execution_count": 209,
     "metadata": {},
     "output_type": "execute_result"
    }
   ],
   "source": [
    "trades_df = portfolio.trades.records\n",
    "trades_df['pnl'].sum()\n",
    "\n",
    "# same as \n",
    "# portfolio.regroup(group_by=None).total_profit().sum()"
   ]
  },
  {
   "cell_type": "markdown",
   "metadata": {},
   "source": [
    "### Ratios, Profits, etc\n",
    "\n",
    "When running this for all symbols, I can do ablation on the top X and figure out the what the gains would still be. If I'm clever about it, I can include the symbol price history as well, and ablate based on the gains of it? That way I could remove abnormally high winners, like AMC, BB recently."
   ]
  },
  {
   "cell_type": "code",
   "execution_count": 210,
   "metadata": {},
   "outputs": [
    {
     "data": {
      "text/plain": [
       "symbol\n",
       "ABNB      0.000000\n",
       "AYRO     -0.099417\n",
       "CDEV      0.095006\n",
       "CLF       0.136983\n",
       "EOSE     -0.042114\n",
       "FANG      0.060826\n",
       "FCX       0.025957\n",
       "FNKO      0.135896\n",
       "FSLY     -0.027475\n",
       "GPS       0.043694\n",
       "GROW      0.016400\n",
       "HL        0.030580\n",
       "KNL      -0.026674\n",
       "LAZR      0.015091\n",
       "MARA     -0.698039\n",
       "MARK      0.003245\n",
       "MVIS      0.087139\n",
       "NKLA     -0.468317\n",
       "NVDA      0.000000\n",
       "REI      -0.028288\n",
       "RH        0.000000\n",
       "SQ        0.019156\n",
       "SSSS      0.020095\n",
       "XL       -0.094014\n",
       "Name: total_return, dtype: float64"
      ]
     },
     "execution_count": 210,
     "metadata": {},
     "output_type": "execute_result"
    }
   ],
   "source": [
    "# can group by in order like this, but not alone\n",
    "portfolio.total_return(group_by=['symbol'])\n",
    "portfolio.total_return(group_by=['symbol','option_expiration'])\n",
    "portfolio.total_return(group_by=['symbol','option_expiration','option_type'])\n",
    "portfolio.total_return(group_by='exit_type')\n",
    "# portfolio.total_return(group_by='option_type').sort_values(ascending=False)  # ValueError: Groups must be coherent and sorted\n",
    "\n",
    "portfolio.total_return(group_by=['symbol'])"
   ]
  },
  {
   "cell_type": "code",
   "execution_count": 682,
   "metadata": {},
   "outputs": [],
   "source": [
    "# drop_half = portfolio.total_return().index.shape[0] // 2\n",
    "# portfolio.total_return(group_by=False).sort_values(ascending=False).index[drop_half:]\n",
    "\n",
    "# option_expiration = '2021-01-08'\n",
    "# select_index = [i for i,c in enumerate(portfolio.total_return().index) if option_expiration in c]\n",
    "# portfolio.total_return(group_by=False).index[select_index]\n",
    "\n",
    "# unablated_contract_symbols = portfolio.total_return(group_by=False).sort_values(ascending=False).index[3:]\n",
    "# unablated_contract_symbols\n",
    "\n",
    "# portfolio.regroup(group_by='option_expiration').total_return(group_by='option_expiration')"
   ]
  },
  {
   "cell_type": "code",
   "execution_count": 211,
   "metadata": {},
   "outputs": [
    {
     "name": "stderr",
     "output_type": "stream",
     "text": [
      "/Users/xbno/anaconda3/envs/fin/lib/python3.8/site-packages/vectorbt/portfolio/trades.py:252: RuntimeWarning:\n",
      "\n",
      "invalid value encountered in true_divide\n",
      "\n",
      "/Users/xbno/anaconda3/envs/fin/lib/python3.8/site-packages/vectorbt/portfolio/trades.py:252: RuntimeWarning:\n",
      "\n",
      "invalid value encountered in true_divide\n",
      "\n",
      "/Users/xbno/anaconda3/envs/fin/lib/python3.8/site-packages/vectorbt/utils/decorators.py:388: UserWarning:\n",
      "\n",
      "Taking mean across columns. To return a DataFrame, pass agg_func=None.\n",
      "\n"
     ]
    },
    {
     "data": {
      "text/plain": [
       "Start                     2021-01-04 00:00:00\n",
       "End                       2021-06-11 00:00:00\n",
       "Duration                    111 days 00:00:00\n",
       "Init. Cash                            14864.5\n",
       "Total Profit                         -491.936\n",
       "Total Return [%]                     -3.30946\n",
       "Benchmark Return [%]                  -53.767\n",
       "Position Coverage [%]                 20.7413\n",
       "Max. Drawdown [%]                    0.718705\n",
       "Avg. Drawdown [%]                    0.481714\n",
       "Max. Drawdown Duration        3 days 13:20:00\n",
       "Avg. Drawdown Duration        3 days 06:53:20\n",
       "Num. Trades                             2.125\n",
       "Win Rate [%]                              100\n",
       "Best Trade [%]                        140.171\n",
       "Worst Trade [%]                       77.8195\n",
       "Avg. Trade [%]                        100.668\n",
       "Max. Trade Duration           5 days 04:30:00\n",
       "Avg. Trade Duration           3 days 07:15:00\n",
       "Expectancy                            536.759\n",
       "SQN                                   14.8533\n",
       "Gross Exposure                     0.00664192\n",
       "Sharpe Ratio                              inf\n",
       "Sortino Ratio                             inf\n",
       "Calmar Ratio                           657.08\n",
       "Name: stats_mean, dtype: object"
      ]
     },
     "execution_count": 211,
     "metadata": {},
     "output_type": "execute_result"
    }
   ],
   "source": [
    "portfolio.stats(group_by='symbol')"
   ]
  },
  {
   "cell_type": "code",
   "execution_count": 1149,
   "metadata": {},
   "outputs": [
    {
     "data": {
      "text/plain": [
       "(symbol\n",
       " AAPL   -0.926321\n",
       " ADNT    1.244549\n",
       " AER    -1.445878\n",
       " AMRS   -2.310335\n",
       " AMZN         inf\n",
       "           ...   \n",
       " WYNN   -0.935685\n",
       " XL     -2.439868\n",
       " XOM    -0.980790\n",
       " YCBD   -0.846393\n",
       " ZM     -2.397576\n",
       " Length: 103, dtype: float64,\n",
       " symbol\n",
       " AAPL   -0.557705\n",
       " ADNT    0.624580\n",
       " AER    -1.013100\n",
       " AMRS   -1.807329\n",
       " AMZN         inf\n",
       "           ...   \n",
       " WYNN   -0.631354\n",
       " XL     -1.988893\n",
       " XOM    -0.689568\n",
       " YCBD   -0.758842\n",
       " ZM     -1.714994\n",
       " Length: 103, dtype: float64,\n",
       " symbol\n",
       " AAPL    0.093568\n",
       " ADNT    0.000000\n",
       " AER     0.000000\n",
       " AMRS    0.000000\n",
       " AMZN    0.000000\n",
       "           ...   \n",
       " WYNN    0.000000\n",
       " XL      0.000000\n",
       " XOM     0.000000\n",
       " YCBD    0.000000\n",
       " ZM      0.000000\n",
       " Length: 103, dtype: float64)"
      ]
     },
     "execution_count": 1149,
     "metadata": {},
     "output_type": "execute_result"
    }
   ],
   "source": [
    "(portfolio.sortino_ratio(group_by='symbol'),\n",
    "portfolio.sharpe_ratio(group_by='symbol'),\n",
    "portfolio.omega_ratio(risk_free=.02,required_return=.05,group_by='symbol'))"
   ]
  },
  {
   "cell_type": "code",
   "execution_count": 1196,
   "metadata": {},
   "outputs": [],
   "source": [
    "# portfolio.total_return()\n",
    "# portfolio.value()\n",
    "# # one_group = pd.Index(['one' for c in df_tmp.columns], name='group')\n",
    "# # portfolio.net_exposure(group_by=symbol_groups)#.sum(axis=1).plot() #drawdown()\n",
    "# portfolio.net_exposure()#.sum(axis=1).plot() #drawdown()"
   ]
  },
  {
   "cell_type": "code",
   "execution_count": 212,
   "metadata": {},
   "outputs": [
    {
     "data": {
      "text/plain": [
       "symbol\n",
       "ABNB        0.000\n",
       "AYRO    -1477.782\n",
       "CDEV     1412.223\n",
       "CLF      2036.182\n",
       "EOSE     -626.000\n",
       "FANG      904.146\n",
       "FCX       385.833\n",
       "FNKO     2020.025\n",
       "FSLY     -408.404\n",
       "GPS       649.496\n",
       "GROW      243.775\n",
       "HL        454.556\n",
       "KNL      -396.495\n",
       "LAZR      224.320\n",
       "MARA   -10376.027\n",
       "MARK       48.240\n",
       "MVIS     1295.275\n",
       "NKLA    -6961.308\n",
       "NVDA        0.000\n",
       "REI      -420.490\n",
       "RH          0.000\n",
       "SQ        284.746\n",
       "SSSS      298.700\n",
       "XL      -1397.480\n",
       "Name: total_profit, dtype: float64"
      ]
     },
     "execution_count": 212,
     "metadata": {},
     "output_type": "execute_result"
    }
   ],
   "source": [
    "portfolio.total_profit(group_by='symbol')"
   ]
  },
  {
   "cell_type": "markdown",
   "metadata": {},
   "source": [
    "# Digging into best/worst Trades\n",
    "\n",
    "Need to figure out how to gather all the entries for a single contract into a single graph for the profit and loss. Also need to restriction of only allowing X amount of money into a given contract, if it already has so many already being held"
   ]
  },
  {
   "cell_type": "code",
   "execution_count": 214,
   "metadata": {},
   "outputs": [
    {
     "data": {
      "text/plain": [
       "[('pct_inc', 'AYRO', '2021-04-16', 'CALL', 'AYRO210416C00007500'),\n",
       " ('pct_inc', 'AYRO', '2021-05-21', 'CALL', 'AYRO210521C00007500'),\n",
       " ('pct_inc', 'AYRO', '2021-05-21', 'CALL', 'AYRO210521C00010000'),\n",
       " ('pct_inc', 'CDEV', '2021-03-19', 'CALL', 'CDEV210319C00004000'),\n",
       " ('pct_inc', 'CDEV', '2021-03-19', 'CALL', 'CDEV210319C00006000'),\n",
       " ('pct_inc', 'CDEV', '2021-03-19', 'CALL', 'CDEV210319C00007000'),\n",
       " ('pct_inc', 'CDEV', '2021-04-16', 'CALL', 'CDEV210416C00004000'),\n",
       " ('pct_inc', 'CDEV', '2021-04-16', 'CALL', 'CDEV210416C00006000'),\n",
       " ('pct_inc', 'CDEV', '2021-05-21', 'CALL', 'CDEV210521C00005000'),\n",
       " ('pct_inc', 'CLF', '2021-04-16', 'CALL', 'CLF210416C00019000'),\n",
       " ('pct_inc', 'CLF', '2021-04-16', 'CALL', 'CLF210416C00020000'),\n",
       " ('pct_inc', 'CLF', '2021-04-16', 'CALL', 'CLF210416C00021000'),\n",
       " ('pct_inc', 'CLF', '2021-04-16', 'CALL', 'CLF210416C00022000'),\n",
       " ('pct_inc', 'CLF', '2021-05-21', 'CALL', 'CLF210521C00024000'),\n",
       " ('pct_inc', 'CLF', '2021-05-21', 'CALL', 'CLF210521C00025000'),\n",
       " ('pct_inc', 'EOSE', '2021-05-21', 'CALL', 'EOSE210521C00025000'),\n",
       " ('pct_inc', 'FANG', '2021-03-19', 'CALL', 'FANG210319C00085000'),\n",
       " ('pct_inc', 'FCX', '2021-04-16', 'CALL', 'FCX210416C00040000'),\n",
       " ('pct_inc', 'FNKO', '2021-04-16', 'CALL', 'FNKO210416C00025000'),\n",
       " ('pct_inc', 'FNKO', '2021-05-21', 'CALL', 'FNKO210521C00030000'),\n",
       " ('pct_inc', 'FSLY', '2021-04-16', 'CALL', 'FSLY210416C00100000'),\n",
       " ('pct_inc', 'GPS', '2021-04-16', 'CALL', 'GPS210416C00035000'),\n",
       " ('pct_inc', 'GPS', '2021-05-21', 'CALL', 'GPS210521C00035000'),\n",
       " ('pct_inc', 'GROW', '2021-04-16', 'CALL', 'GROW210416C00010000'),\n",
       " ('pct_inc', 'HL', '2021-05-21', 'CALL', 'HL210521C00007000'),\n",
       " ('pct_inc', 'KNL', '2021-05-21', 'CALL', 'KNL210521C00030000'),\n",
       " ('pct_inc', 'LAZR', '2021-04-16', 'CALL', 'LAZR210416C00035000'),\n",
       " ('pct_inc', 'LAZR', '2021-05-21', 'CALL', 'LAZR210521C00030000'),\n",
       " ('pct_inc', 'LAZR', '2021-05-21', 'CALL', 'LAZR210521C00035000'),\n",
       " ('pct_inc', 'LAZR', '2021-05-21', 'CALL', 'LAZR210521C00040000'),\n",
       " ('pct_inc', 'MARA', '2021-02-19', 'CALL', 'MARA210219C00040000'),\n",
       " ('pct_inc', 'MARA', '2021-02-19', 'CALL', 'MARA210219C00045000'),\n",
       " ('pct_inc', 'MARA', '2021-02-26', 'CALL', 'MARA210226C00060000'),\n",
       " ('pct_inc', 'MARA', '2021-03-19', 'CALL', 'MARA210319C00050000'),\n",
       " ('pct_inc', 'MARA', '2021-03-19', 'CALL', 'MARA210319C00060000'),\n",
       " ('pct_inc', 'MARA', '2021-03-19', 'CALL', 'MARA210319C00065000'),\n",
       " ('pct_inc', 'MARA', '2021-03-19', 'CALL', 'MARA210319C00070000'),\n",
       " ('pct_inc', 'MARA', '2021-03-26', 'CALL', 'MARA210326C00060000'),\n",
       " ('pct_inc', 'MARA', '2021-04-01', 'CALL', 'MARA210401C00050000'),\n",
       " ('pct_inc', 'MARA', '2021-04-01', 'CALL', 'MARA210401C00060000'),\n",
       " ('pct_inc', 'MARA', '2021-04-01', 'CALL', 'MARA210401C00070000'),\n",
       " ('pct_inc', 'MARA', '2021-04-09', 'CALL', 'MARA210409C00048000'),\n",
       " ('pct_inc', 'MARA', '2021-04-09', 'CALL', 'MARA210409C00050000'),\n",
       " ('pct_inc', 'MARA', '2021-04-09', 'CALL', 'MARA210409C00054000'),\n",
       " ('pct_inc', 'MARA', '2021-04-09', 'CALL', 'MARA210409C00055000'),\n",
       " ('pct_inc', 'MARA', '2021-04-09', 'CALL', 'MARA210409C00060000'),\n",
       " ('pct_inc', 'MARA', '2021-04-16', 'CALL', 'MARA210416C00040000'),\n",
       " ('pct_inc', 'MARA', '2021-04-16', 'CALL', 'MARA210416C00045000'),\n",
       " ('pct_inc', 'MARA', '2021-04-16', 'CALL', 'MARA210416C00050000'),\n",
       " ('pct_inc', 'MARA', '2021-04-16', 'CALL', 'MARA210416C00055000'),\n",
       " ('pct_inc', 'MARA', '2021-04-16', 'CALL', 'MARA210416C00060000'),\n",
       " ('pct_inc', 'MARA', '2021-04-16', 'CALL', 'MARA210416C00065000'),\n",
       " ('pct_inc', 'MARA', '2021-04-16', 'CALL', 'MARA210416C00070000'),\n",
       " ('pct_inc', 'MARA', '2021-04-16', 'CALL', 'MARA210416C00075000'),\n",
       " ('pct_inc', 'MARA', '2021-04-23', 'CALL', 'MARA210423C00050000'),\n",
       " ('pct_inc', 'MARA', '2021-04-23', 'CALL', 'MARA210423C00070000'),\n",
       " ('pct_inc', 'MARA', '2021-04-30', 'CALL', 'MARA210430C00060000'),\n",
       " ('pct_inc', 'MARA', '2021-04-30', 'CALL', 'MARA210430C00065000'),\n",
       " ('pct_inc', 'MARA', '2021-04-30', 'CALL', 'MARA210430C00070000'),\n",
       " ('pct_inc', 'MARA', '2021-04-30', 'CALL', 'MARA210430C00075000'),\n",
       " ('pct_inc', 'MARA', '2021-04-30', 'CALL', 'MARA210430C00085000'),\n",
       " ('pct_inc', 'MARA', '2021-05-07', 'CALL', 'MARA210507C00036000'),\n",
       " ('pct_inc', 'MARA', '2021-05-07', 'CALL', 'MARA210507C00037000'),\n",
       " ('pct_inc', 'MARA', '2021-05-07', 'CALL', 'MARA210507C00038000'),\n",
       " ('pct_inc', 'MARA', '2021-05-07', 'CALL', 'MARA210507C00040000'),\n",
       " ('pct_inc', 'MARA', '2021-05-07', 'CALL', 'MARA210507C00043000'),\n",
       " ('pct_inc', 'MARA', '2021-05-07', 'CALL', 'MARA210507C00045000'),\n",
       " ('pct_inc', 'MARA', '2021-05-07', 'CALL', 'MARA210507C00046000'),\n",
       " ('pct_inc', 'MARA', '2021-05-07', 'CALL', 'MARA210507C00050000'),\n",
       " ('pct_inc', 'MARA', '2021-05-07', 'CALL', 'MARA210507C00060000'),\n",
       " ('pct_inc', 'MARA', '2021-05-14', 'CALL', 'MARA210514C00040000'),\n",
       " ('pct_inc', 'MARA', '2021-05-14', 'CALL', 'MARA210514C00050000'),\n",
       " ('pct_inc', 'MARA', '2021-05-14', 'CALL', 'MARA210514C00053000'),\n",
       " ('pct_inc', 'MARA', '2021-05-14', 'CALL', 'MARA210514C00055000'),\n",
       " ('pct_inc', 'MARA', '2021-05-21', 'CALL', 'MARA210521C00035000'),\n",
       " ('pct_inc', 'MARA', '2021-05-21', 'CALL', 'MARA210521C00038000'),\n",
       " ('pct_inc', 'MARA', '2021-05-21', 'CALL', 'MARA210521C00040000'),\n",
       " ('pct_inc', 'MARA', '2021-05-21', 'CALL', 'MARA210521C00044000'),\n",
       " ('pct_inc', 'MARA', '2021-05-21', 'CALL', 'MARA210521C00045000'),\n",
       " ('pct_inc', 'MARA', '2021-05-21', 'CALL', 'MARA210521C00050000'),\n",
       " ('pct_inc', 'MARA', '2021-05-21', 'CALL', 'MARA210521C00055000'),\n",
       " ('pct_inc', 'MARA', '2021-05-21', 'CALL', 'MARA210521C00060000'),\n",
       " ('pct_inc', 'MARA', '2021-05-21', 'CALL', 'MARA210521C00070000'),\n",
       " ('pct_inc', 'MARA', '2021-06-04', 'CALL', 'MARA210604C00025000'),\n",
       " ('pct_inc', 'MARA', '2021-06-04', 'CALL', 'MARA210604C00026000'),\n",
       " ('pct_inc', 'MARA', '2021-06-04', 'CALL', 'MARA210604C00027000'),\n",
       " ('pct_inc', 'MARA', '2021-06-04', 'CALL', 'MARA210604C00029000'),\n",
       " ('pct_inc', 'MARA', '2021-06-04', 'CALL', 'MARA210604C00029500'),\n",
       " ('pct_inc', 'MARA', '2021-06-04', 'CALL', 'MARA210604C00030000'),\n",
       " ('pct_inc', 'MARA', '2021-06-04', 'CALL', 'MARA210604C00030500'),\n",
       " ('pct_inc', 'MARA', '2021-06-04', 'CALL', 'MARA210604C00033000'),\n",
       " ('pct_inc', 'MARA', '2021-06-04', 'CALL', 'MARA210604C00035000'),\n",
       " ('pct_inc', 'MARA', '2021-06-11', 'CALL', 'MARA210611C00026000'),\n",
       " ('pct_inc', 'MARA', '2021-06-11', 'CALL', 'MARA210611C00027000'),\n",
       " ('pct_inc', 'MARK', '2021-02-19', 'CALL', 'MARK210219C00004000'),\n",
       " ('pct_inc', 'MARK', '2021-05-21', 'CALL', 'MARK210521C00003500'),\n",
       " ('pct_inc', 'MVIS', '2021-02-19', 'CALL', 'MVIS210219C00016000'),\n",
       " ('pct_inc', 'MVIS', '2021-02-19', 'CALL', 'MVIS210219C00019000'),\n",
       " ('pct_inc', 'MVIS', '2021-03-19', 'CALL', 'MVIS210319C00020000'),\n",
       " ('pct_inc', 'MVIS', '2021-05-21', 'CALL', 'MVIS210521C00035000'),\n",
       " ('pct_inc', 'NKLA', '2021-03-19', 'CALL', 'NKLA210319C00019000'),\n",
       " ('pct_inc', 'NKLA', '2021-03-19', 'CALL', 'NKLA210319C00020500'),\n",
       " ('pct_inc', 'NKLA', '2021-03-19', 'CALL', 'NKLA210319C00025000'),\n",
       " ('pct_inc', 'NKLA', '2021-03-19', 'CALL', 'NKLA210319C00035000'),\n",
       " ('pct_inc', 'NKLA', '2021-03-26', 'CALL', 'NKLA210326C00018000'),\n",
       " ('pct_inc', 'NKLA', '2021-03-26', 'CALL', 'NKLA210326C00019000'),\n",
       " ('pct_inc', 'NKLA', '2021-04-09', 'CALL', 'NKLA210409C00016500'),\n",
       " ('pct_inc', 'NKLA', '2021-04-16', 'CALL', 'NKLA210416C00020000'),\n",
       " ('pct_inc', 'NKLA', '2021-04-16', 'CALL', 'NKLA210416C00025000'),\n",
       " ('pct_inc', 'NKLA', '2021-04-16', 'CALL', 'NKLA210416C00030000'),\n",
       " ('pct_inc', 'NKLA', '2021-04-23', 'CALL', 'NKLA210423C00016500'),\n",
       " ('pct_inc', 'NKLA', '2021-05-21', 'CALL', 'NKLA210521C00013000'),\n",
       " ('pct_inc', 'NKLA', '2021-05-21', 'CALL', 'NKLA210521C00017500'),\n",
       " ('pct_inc', 'NKLA', '2021-05-21', 'CALL', 'NKLA210521C00020000'),\n",
       " ('pct_inc', 'NKLA', '2021-05-21', 'CALL', 'NKLA210521C00025000'),\n",
       " ('pct_inc', 'NKLA', '2021-05-28', 'CALL', 'NKLA210528C00016000'),\n",
       " ('pct_inc', 'REI', '2021-04-16', 'CALL', 'REI210416C00005000'),\n",
       " ('pct_inc', 'SQ', '2021-04-16', 'CALL', 'SQ210416C00280000'),\n",
       " ('pct_inc', 'SSSS', '2021-04-16', 'CALL', 'SSSS210416C00015000'),\n",
       " ('pct_inc', 'XL', '2021-05-21', 'CALL', 'XL210521C00020000')]"
      ]
     },
     "execution_count": 214,
     "metadata": {},
     "output_type": "execute_result"
    }
   ],
   "source": [
    "contracts"
   ]
  },
  {
   "cell_type": "code",
   "execution_count": null,
   "metadata": {},
   "outputs": [],
   "source": [
    "from vectorbt.portfolio.enums import OrderStatus\n",
    "order_status_df = portfolio.logs.map_field('res_status', value_map=OrderStatus).value_counts()\n",
    "contracts = order_status_df.loc[:,order_status_df.loc['Ignored'] != 111].columns.tolist()\n",
    "\n",
    "# unkonwn whats good about this\n",
    "# portfolio.total_profit(group_by=None).reset_index().groupby(['symbol','option_expiration'])[0].sum()\n",
    "# a = portfolio.total_profit(group_by=None).reset_index()\n",
    "# a[a['symbol'] == 'FEYE'].groupby(['symbol','option_expiration'])[0].sum().plot()"
   ]
  },
  {
   "cell_type": "code",
   "execution_count": 216,
   "metadata": {},
   "outputs": [
    {
     "data": {
      "text/html": [
       "<div>\n",
       "<style scoped>\n",
       "    .dataframe tbody tr th:only-of-type {\n",
       "        vertical-align: middle;\n",
       "    }\n",
       "\n",
       "    .dataframe tbody tr th {\n",
       "        vertical-align: top;\n",
       "    }\n",
       "\n",
       "    .dataframe thead th {\n",
       "        text-align: right;\n",
       "    }\n",
       "</style>\n",
       "<table border=\"1\" class=\"dataframe\">\n",
       "  <thead>\n",
       "    <tr style=\"text-align: right;\">\n",
       "      <th></th>\n",
       "      <th>exit_type</th>\n",
       "      <th>symbol</th>\n",
       "      <th>option_expiration</th>\n",
       "      <th>option_type</th>\n",
       "      <th>oc_hx_contract_symbol</th>\n",
       "      <th>total_profit</th>\n",
       "    </tr>\n",
       "  </thead>\n",
       "  <tbody>\n",
       "    <tr>\n",
       "      <th>48</th>\n",
       "      <td>pct_inc</td>\n",
       "      <td>MARA</td>\n",
       "      <td>2021-04-16</td>\n",
       "      <td>CALL</td>\n",
       "      <td>MARA210416C00050000</td>\n",
       "      <td>3466.022</td>\n",
       "    </tr>\n",
       "    <tr>\n",
       "      <th>49</th>\n",
       "      <td>pct_inc</td>\n",
       "      <td>MARA</td>\n",
       "      <td>2021-04-16</td>\n",
       "      <td>CALL</td>\n",
       "      <td>MARA210416C00055000</td>\n",
       "      <td>3046.693</td>\n",
       "    </tr>\n",
       "    <tr>\n",
       "      <th>44</th>\n",
       "      <td>pct_inc</td>\n",
       "      <td>MARA</td>\n",
       "      <td>2021-04-09</td>\n",
       "      <td>CALL</td>\n",
       "      <td>MARA210409C00055000</td>\n",
       "      <td>2656.641</td>\n",
       "    </tr>\n",
       "    <tr>\n",
       "      <th>52</th>\n",
       "      <td>pct_inc</td>\n",
       "      <td>MARA</td>\n",
       "      <td>2021-04-16</td>\n",
       "      <td>CALL</td>\n",
       "      <td>MARA210416C00070000</td>\n",
       "      <td>2602.150</td>\n",
       "    </tr>\n",
       "    <tr>\n",
       "      <th>50</th>\n",
       "      <td>pct_inc</td>\n",
       "      <td>MARA</td>\n",
       "      <td>2021-04-16</td>\n",
       "      <td>CALL</td>\n",
       "      <td>MARA210416C00060000</td>\n",
       "      <td>2072.073</td>\n",
       "    </tr>\n",
       "    <tr>\n",
       "      <th>...</th>\n",
       "      <td>...</td>\n",
       "      <td>...</td>\n",
       "      <td>...</td>\n",
       "      <td>...</td>\n",
       "      <td>...</td>\n",
       "      <td>...</td>\n",
       "    </tr>\n",
       "    <tr>\n",
       "      <th>60</th>\n",
       "      <td>pct_inc</td>\n",
       "      <td>MARA</td>\n",
       "      <td>2021-04-30</td>\n",
       "      <td>CALL</td>\n",
       "      <td>MARA210430C00085000</td>\n",
       "      <td>-1420.276</td>\n",
       "    </tr>\n",
       "    <tr>\n",
       "      <th>56</th>\n",
       "      <td>pct_inc</td>\n",
       "      <td>MARA</td>\n",
       "      <td>2021-04-30</td>\n",
       "      <td>CALL</td>\n",
       "      <td>MARA210430C00060000</td>\n",
       "      <td>-1933.925</td>\n",
       "    </tr>\n",
       "    <tr>\n",
       "      <th>76</th>\n",
       "      <td>pct_inc</td>\n",
       "      <td>MARA</td>\n",
       "      <td>2021-05-21</td>\n",
       "      <td>CALL</td>\n",
       "      <td>MARA210521C00040000</td>\n",
       "      <td>-2411.397</td>\n",
       "    </tr>\n",
       "    <tr>\n",
       "      <th>78</th>\n",
       "      <td>pct_inc</td>\n",
       "      <td>MARA</td>\n",
       "      <td>2021-05-21</td>\n",
       "      <td>CALL</td>\n",
       "      <td>MARA210521C00045000</td>\n",
       "      <td>-2466.440</td>\n",
       "    </tr>\n",
       "    <tr>\n",
       "      <th>79</th>\n",
       "      <td>pct_inc</td>\n",
       "      <td>MARA</td>\n",
       "      <td>2021-05-21</td>\n",
       "      <td>CALL</td>\n",
       "      <td>MARA210521C00050000</td>\n",
       "      <td>-3264.226</td>\n",
       "    </tr>\n",
       "  </tbody>\n",
       "</table>\n",
       "<p>120 rows × 6 columns</p>\n",
       "</div>"
      ],
      "text/plain": [
       "   exit_type symbol option_expiration option_type oc_hx_contract_symbol  \\\n",
       "48   pct_inc   MARA        2021-04-16        CALL   MARA210416C00050000   \n",
       "49   pct_inc   MARA        2021-04-16        CALL   MARA210416C00055000   \n",
       "44   pct_inc   MARA        2021-04-09        CALL   MARA210409C00055000   \n",
       "52   pct_inc   MARA        2021-04-16        CALL   MARA210416C00070000   \n",
       "50   pct_inc   MARA        2021-04-16        CALL   MARA210416C00060000   \n",
       "..       ...    ...               ...         ...                   ...   \n",
       "60   pct_inc   MARA        2021-04-30        CALL   MARA210430C00085000   \n",
       "56   pct_inc   MARA        2021-04-30        CALL   MARA210430C00060000   \n",
       "76   pct_inc   MARA        2021-05-21        CALL   MARA210521C00040000   \n",
       "78   pct_inc   MARA        2021-05-21        CALL   MARA210521C00045000   \n",
       "79   pct_inc   MARA        2021-05-21        CALL   MARA210521C00050000   \n",
       "\n",
       "    total_profit  \n",
       "48      3466.022  \n",
       "49      3046.693  \n",
       "44      2656.641  \n",
       "52      2602.150  \n",
       "50      2072.073  \n",
       "..           ...  \n",
       "60     -1420.276  \n",
       "56     -1933.925  \n",
       "76     -2411.397  \n",
       "78     -2466.440  \n",
       "79     -3264.226  \n",
       "\n",
       "[120 rows x 6 columns]"
      ]
     },
     "execution_count": 216,
     "metadata": {},
     "output_type": "execute_result"
    }
   ],
   "source": [
    "portfolio[contracts].total_profit().reset_index().sort_values(by=['total_profit'],ascending=False)\n",
    "# portfolio[contracts].total_profit().reset_index().sort_values(by=[0],ascending=False)[0].hist(bins=50)"
   ]
  },
  {
   "cell_type": "markdown",
   "metadata": {},
   "source": [
    "Trades for a single contract symbol are considered \"one trade\" when exited at once (?) in vectorbt. So when looking at the `portfolio.trades` you see the avg entry price across the ~10 entry trades. Maybe this changes when there are multiple exits, but not there yet."
   ]
  },
  {
   "cell_type": "code",
   "execution_count": 217,
   "metadata": {},
   "outputs": [
    {
     "ename": "NameError",
     "evalue": "name 'cidx' is not defined",
     "output_type": "error",
     "traceback": [
      "\u001b[0;31m---------------------------------------------------------------------------\u001b[0m",
      "\u001b[0;31mNameError\u001b[0m                                 Traceback (most recent call last)",
      "\u001b[0;32m<ipython-input-217-4244baac6d47>\u001b[0m in \u001b[0;36m<module>\u001b[0;34m\u001b[0m\n\u001b[1;32m      1\u001b[0m \u001b[0;31m# portfolio.orders[contracts[cidx][:4]][contracts[cidx][-1]].plot().show()\u001b[0m\u001b[0;34m\u001b[0m\u001b[0;34m\u001b[0m\u001b[0;34m\u001b[0m\u001b[0m\n\u001b[0;32m----> 2\u001b[0;31m \u001b[0mportfolio\u001b[0m\u001b[0;34m[\u001b[0m\u001b[0mcontracts\u001b[0m\u001b[0;34m[\u001b[0m\u001b[0mcidx\u001b[0m\u001b[0;34m]\u001b[0m\u001b[0;34m[\u001b[0m\u001b[0;34m:\u001b[0m\u001b[0;36m4\u001b[0m\u001b[0;34m]\u001b[0m\u001b[0;34m]\u001b[0m\u001b[0;34m[\u001b[0m\u001b[0mcontracts\u001b[0m\u001b[0;34m[\u001b[0m\u001b[0mcidx\u001b[0m\u001b[0;34m]\u001b[0m\u001b[0;34m[\u001b[0m\u001b[0;34m-\u001b[0m\u001b[0;36m1\u001b[0m\u001b[0;34m]\u001b[0m\u001b[0;34m]\u001b[0m\u001b[0;34m.\u001b[0m\u001b[0mplot\u001b[0m\u001b[0;34m(\u001b[0m\u001b[0;34m)\u001b[0m\u001b[0;34m.\u001b[0m\u001b[0mshow\u001b[0m\u001b[0;34m(\u001b[0m\u001b[0;34m)\u001b[0m\u001b[0;34m\u001b[0m\u001b[0;34m\u001b[0m\u001b[0m\n\u001b[0m\u001b[1;32m      3\u001b[0m \u001b[0mportfolio\u001b[0m\u001b[0;34m.\u001b[0m\u001b[0mtrades\u001b[0m\u001b[0;34m[\u001b[0m\u001b[0mcontracts\u001b[0m\u001b[0;34m[\u001b[0m\u001b[0mcidx\u001b[0m\u001b[0;34m]\u001b[0m\u001b[0;34m[\u001b[0m\u001b[0;34m:\u001b[0m\u001b[0;36m4\u001b[0m\u001b[0;34m]\u001b[0m\u001b[0;34m]\u001b[0m\u001b[0;34m[\u001b[0m\u001b[0mcontracts\u001b[0m\u001b[0;34m[\u001b[0m\u001b[0mcidx\u001b[0m\u001b[0;34m]\u001b[0m\u001b[0;34m[\u001b[0m\u001b[0;34m-\u001b[0m\u001b[0;36m1\u001b[0m\u001b[0;34m]\u001b[0m\u001b[0;34m]\u001b[0m\u001b[0;34m.\u001b[0m\u001b[0mrecords\u001b[0m\u001b[0;31m#.plot().show()\u001b[0m\u001b[0;34m\u001b[0m\u001b[0;34m\u001b[0m\u001b[0m\n",
      "\u001b[0;31mNameError\u001b[0m: name 'cidx' is not defined"
     ]
    }
   ],
   "source": [
    "# portfolio.orders[contracts[cidx][:4]][contracts[cidx][-1]].plot().show()\n",
    "portfolio[contracts[cidx][:4]][contracts[cidx][-1]].plot().show()\n",
    "portfolio.trades[contracts[cidx][:4]][contracts[cidx][-1]].records#.plot().show()"
   ]
  },
  {
   "cell_type": "code",
   "execution_count": 218,
   "metadata": {},
   "outputs": [
    {
     "data": {
      "application/vnd.plotly.v1+json": {
       "config": {
        "plotlyServerURL": "https://plot.ly"
       },
       "data": [
        {
         "line": {
          "color": "#1f77b4"
         },
         "name": "MARA210416C00070000",
         "showlegend": true,
         "type": "scatter",
         "uid": "66ef7dee-05f9-4c00-b624-519ed97f92fc",
         "x": [
          "2021-01-04T00:00:00",
          "2021-01-05T00:00:00",
          "2021-01-06T00:00:00",
          "2021-01-07T00:00:00",
          "2021-01-08T00:00:00",
          "2021-01-11T00:00:00",
          "2021-01-12T00:00:00",
          "2021-01-13T00:00:00",
          "2021-01-14T00:00:00",
          "2021-01-15T00:00:00",
          "2021-01-19T00:00:00",
          "2021-01-20T00:00:00",
          "2021-01-21T00:00:00",
          "2021-01-22T00:00:00",
          "2021-01-25T00:00:00",
          "2021-01-26T00:00:00",
          "2021-01-27T00:00:00",
          "2021-01-28T00:00:00",
          "2021-01-29T00:00:00",
          "2021-02-01T00:00:00",
          "2021-02-02T00:00:00",
          "2021-02-03T00:00:00",
          "2021-02-04T00:00:00",
          "2021-02-05T00:00:00",
          "2021-02-08T00:00:00",
          "2021-02-09T00:00:00",
          "2021-02-10T00:00:00",
          "2021-02-11T00:00:00",
          "2021-02-12T00:00:00",
          "2021-02-16T00:00:00",
          "2021-02-17T00:00:00",
          "2021-02-18T00:00:00",
          "2021-02-19T00:00:00",
          "2021-02-22T00:00:00",
          "2021-02-23T00:00:00",
          "2021-02-24T00:00:00",
          "2021-02-25T00:00:00",
          "2021-02-26T00:00:00",
          "2021-03-01T00:00:00",
          "2021-03-02T00:00:00",
          "2021-03-03T00:00:00",
          "2021-03-04T00:00:00",
          "2021-03-05T00:00:00",
          "2021-03-08T00:00:00",
          "2021-03-09T00:00:00",
          "2021-03-10T00:00:00",
          "2021-03-11T00:00:00",
          "2021-03-12T00:00:00",
          "2021-03-15T00:00:00",
          "2021-03-16T00:00:00",
          "2021-03-17T00:00:00",
          "2021-03-18T00:00:00",
          "2021-03-19T00:00:00",
          "2021-03-22T00:00:00",
          "2021-03-23T00:00:00",
          "2021-03-24T00:00:00",
          "2021-03-25T00:00:00",
          "2021-03-26T00:00:00",
          "2021-03-29T00:00:00",
          "2021-03-30T00:00:00",
          "2021-03-31T00:00:00",
          "2021-04-01T00:00:00",
          "2021-04-05T00:00:00",
          "2021-04-06T00:00:00",
          "2021-04-07T00:00:00",
          "2021-04-08T00:00:00",
          "2021-04-09T00:00:00",
          "2021-04-12T00:00:00",
          "2021-04-13T00:00:00",
          "2021-04-14T00:00:00",
          "2021-04-15T00:00:00",
          "2021-04-16T00:00:00",
          "2021-04-19T00:00:00",
          "2021-04-20T00:00:00",
          "2021-04-21T00:00:00",
          "2021-04-22T00:00:00",
          "2021-04-23T00:00:00",
          "2021-04-26T00:00:00",
          "2021-04-27T00:00:00",
          "2021-04-28T00:00:00",
          "2021-04-29T00:00:00",
          "2021-04-30T00:00:00",
          "2021-05-03T00:00:00",
          "2021-05-04T00:00:00",
          "2021-05-05T00:00:00",
          "2021-05-06T00:00:00",
          "2021-05-07T00:00:00",
          "2021-05-10T00:00:00",
          "2021-05-11T00:00:00",
          "2021-05-12T00:00:00",
          "2021-05-13T00:00:00",
          "2021-05-14T00:00:00",
          "2021-05-17T00:00:00",
          "2021-05-18T00:00:00",
          "2021-05-19T00:00:00",
          "2021-05-20T00:00:00",
          "2021-05-21T00:00:00",
          "2021-05-24T00:00:00",
          "2021-05-25T00:00:00",
          "2021-05-26T00:00:00",
          "2021-05-27T00:00:00",
          "2021-05-28T00:00:00",
          "2021-06-01T00:00:00",
          "2021-06-02T00:00:00",
          "2021-06-03T00:00:00",
          "2021-06-04T00:00:00",
          "2021-06-07T00:00:00",
          "2021-06-08T00:00:00",
          "2021-06-09T00:00:00",
          "2021-06-10T00:00:00",
          "2021-06-11T00:00:00"
         ],
         "y": [
          null,
          null,
          null,
          null,
          null,
          null,
          null,
          null,
          null,
          null,
          null,
          null,
          null,
          null,
          null,
          null,
          null,
          null,
          null,
          null,
          null,
          null,
          null,
          null,
          null,
          null,
          null,
          null,
          null,
          null,
          null,
          12,
          11.5,
          6.25,
          4.3,
          4.55,
          6,
          3.65,
          6.35,
          6.5,
          5.55,
          4.6,
          3.55,
          3.7,
          2.84,
          5,
          4.9,
          4.74,
          5.1,
          4.45,
          2.88,
          3.85,
          3.51,
          2.5,
          1.14,
          0.79,
          0.41,
          0.72,
          0.96,
          0.73,
          0.8,
          1.52,
          1.23,
          1.94,
          0.57,
          0.51,
          0.44,
          0.5,
          0.61,
          0.29,
          0.06,
          1e-05,
          null,
          null,
          null,
          null,
          null,
          null,
          null,
          null,
          null,
          null,
          null,
          null,
          null,
          null,
          null,
          null,
          null,
          null,
          null,
          null,
          null,
          null,
          null,
          null,
          null,
          null,
          null,
          null,
          null,
          null,
          null,
          null,
          null,
          null,
          null,
          null,
          null,
          null,
          null
         ]
        },
        {
         "customdata": [
          [
           "58",
           "4100.0",
           "3.232",
           "Long",
           "58"
          ],
          [
           "59",
           "200.0",
           "0.388",
           "Long",
           "59"
          ]
         ],
         "hovertemplate": "Trade Id: %{customdata[0]}<br>Date: %{x}<br>Avg. Price: %{y}<br>Size: %{customdata[1]:.6f}<br>Fees: %{customdata[2]:.6f}<br>Direction: %{customdata[3]}<br>Position Id: %{customdata[4]}",
         "marker": {
          "color": "#4285F4",
          "line": {
           "color": "rgb(11,84,205)",
           "width": 1
          },
          "size": 7,
          "symbol": "square"
         },
         "mode": "markers",
         "name": "Entry",
         "type": "scatter",
         "uid": "8e4ec570-993b-4d9c-8b18-1756c1d55b15",
         "x": [
          "2021-03-04T00:00:00",
          "2021-04-06T00:00:00"
         ],
         "y": [
          0.7882926829268293,
          1.94
         ]
        },
        {
         "customdata": [
          [
           "58",
           "28 days 00:00:00",
           "4100.0",
           "6.232",
           "2990.536",
           "0.9252896039603961",
           "Long",
           "58"
          ]
         ],
         "hovertemplate": "Trade Id: %{customdata[0]}<br>Date: %{x}<br>Duration: %{customdata[1]}<br>Avg. Price: %{y}<br>Size: %{customdata[2]:.6f}<br>Fees: %{customdata[3]:.6f}<br>PnL: %{customdata[4]:.6f}<br>Return: %{customdata[5]:.2%}<br>Direction: %{customdata[6]}<br>Position Id: %{customdata[7]}",
         "marker": {
          "color": "#37B13F",
          "line": {
           "color": "rgb(38,123,44)",
           "width": 1
          },
          "size": 7,
          "symbol": "square"
         },
         "mode": "markers",
         "name": "Exit - Profit",
         "type": "scatter",
         "uid": "42e797d1-5337-49a1-8daf-2ec0c6eca56e",
         "x": [
          "2021-04-01T00:00:00"
         ],
         "y": [
          1.52
         ]
        },
        {
         "customdata": [
          [
           "59",
           "66 days 00:00:00",
           "200.0",
           "0.0",
           "nan",
           "nan",
           "Long",
           "59"
          ]
         ],
         "hovertemplate": "Trade Id: %{customdata[0]}<br>Date: %{x}<br>Duration: %{customdata[1]}<br>Avg. Price: %{y}<br>Size: %{customdata[2]:.6f}<br>Fees: %{customdata[3]:.6f}<br>PnL: %{customdata[4]:.6f}<br>Return: %{customdata[5]:.2%}<br>Direction: %{customdata[6]}<br>Position Id: %{customdata[7]}",
         "marker": {
          "color": "#FFAA00",
          "line": {
           "color": "rgb(178,118,0)",
           "width": 1
          },
          "size": 7,
          "symbol": "square"
         },
         "mode": "markers",
         "name": "Active",
         "type": "scatter",
         "uid": "29de5b56-b2f2-4de4-acf8-405e15e635ac",
         "x": [
          "2021-06-11T00:00:00"
         ],
         "y": [
          null
         ]
        }
       ],
       "layout": {
        "height": 350,
        "legend": {
         "orientation": "h",
         "traceorder": "normal",
         "x": 1,
         "xanchor": "right",
         "y": 1.02,
         "yanchor": "bottom"
        },
        "margin": {
         "b": 30,
         "l": 30,
         "r": 30,
         "t": 30
        },
        "shapes": [
         {
          "fillcolor": "green",
          "layer": "below",
          "line": {
           "width": 0
          },
          "opacity": 0.2,
          "type": "rect",
          "x0": "2021-03-04T00:00:00",
          "x1": "2021-04-01T00:00:00",
          "xref": "x",
          "y0": 0.7882926829268293,
          "y1": 1.52,
          "yref": "y"
         }
        ],
        "template": {
         "data": {
          "bar": [
           {
            "error_x": {
             "color": "#2a3f5f"
            },
            "error_y": {
             "color": "#2a3f5f"
            },
            "marker": {
             "line": {
              "color": "#E5ECF6",
              "width": 0.5
             }
            },
            "type": "bar"
           }
          ],
          "barpolar": [
           {
            "marker": {
             "line": {
              "color": "#E5ECF6",
              "width": 0.5
             }
            },
            "type": "barpolar"
           }
          ],
          "carpet": [
           {
            "aaxis": {
             "endlinecolor": "#2a3f5f",
             "gridcolor": "white",
             "linecolor": "white",
             "minorgridcolor": "white",
             "startlinecolor": "#2a3f5f"
            },
            "baxis": {
             "endlinecolor": "#2a3f5f",
             "gridcolor": "white",
             "linecolor": "white",
             "minorgridcolor": "white",
             "startlinecolor": "#2a3f5f"
            },
            "type": "carpet"
           }
          ],
          "choropleth": [
           {
            "colorbar": {
             "outlinewidth": 0,
             "ticks": ""
            },
            "type": "choropleth"
           }
          ],
          "contour": [
           {
            "colorbar": {
             "outlinewidth": 0,
             "ticks": ""
            },
            "colorscale": [
             [
              0,
              "#0d0887"
             ],
             [
              0.1111111111111111,
              "#46039f"
             ],
             [
              0.2222222222222222,
              "#7201a8"
             ],
             [
              0.3333333333333333,
              "#9c179e"
             ],
             [
              0.4444444444444444,
              "#bd3786"
             ],
             [
              0.5555555555555556,
              "#d8576b"
             ],
             [
              0.6666666666666666,
              "#ed7953"
             ],
             [
              0.7777777777777778,
              "#fb9f3a"
             ],
             [
              0.8888888888888888,
              "#fdca26"
             ],
             [
              1,
              "#f0f921"
             ]
            ],
            "type": "contour"
           }
          ],
          "contourcarpet": [
           {
            "colorbar": {
             "outlinewidth": 0,
             "ticks": ""
            },
            "type": "contourcarpet"
           }
          ],
          "heatmap": [
           {
            "colorbar": {
             "outlinewidth": 0,
             "ticks": ""
            },
            "colorscale": [
             [
              0,
              "#0d0887"
             ],
             [
              0.1111111111111111,
              "#46039f"
             ],
             [
              0.2222222222222222,
              "#7201a8"
             ],
             [
              0.3333333333333333,
              "#9c179e"
             ],
             [
              0.4444444444444444,
              "#bd3786"
             ],
             [
              0.5555555555555556,
              "#d8576b"
             ],
             [
              0.6666666666666666,
              "#ed7953"
             ],
             [
              0.7777777777777778,
              "#fb9f3a"
             ],
             [
              0.8888888888888888,
              "#fdca26"
             ],
             [
              1,
              "#f0f921"
             ]
            ],
            "type": "heatmap"
           }
          ],
          "heatmapgl": [
           {
            "colorbar": {
             "outlinewidth": 0,
             "ticks": ""
            },
            "colorscale": [
             [
              0,
              "#0d0887"
             ],
             [
              0.1111111111111111,
              "#46039f"
             ],
             [
              0.2222222222222222,
              "#7201a8"
             ],
             [
              0.3333333333333333,
              "#9c179e"
             ],
             [
              0.4444444444444444,
              "#bd3786"
             ],
             [
              0.5555555555555556,
              "#d8576b"
             ],
             [
              0.6666666666666666,
              "#ed7953"
             ],
             [
              0.7777777777777778,
              "#fb9f3a"
             ],
             [
              0.8888888888888888,
              "#fdca26"
             ],
             [
              1,
              "#f0f921"
             ]
            ],
            "type": "heatmapgl"
           }
          ],
          "histogram": [
           {
            "marker": {
             "colorbar": {
              "outlinewidth": 0,
              "ticks": ""
             }
            },
            "type": "histogram"
           }
          ],
          "histogram2d": [
           {
            "colorbar": {
             "outlinewidth": 0,
             "ticks": ""
            },
            "colorscale": [
             [
              0,
              "#0d0887"
             ],
             [
              0.1111111111111111,
              "#46039f"
             ],
             [
              0.2222222222222222,
              "#7201a8"
             ],
             [
              0.3333333333333333,
              "#9c179e"
             ],
             [
              0.4444444444444444,
              "#bd3786"
             ],
             [
              0.5555555555555556,
              "#d8576b"
             ],
             [
              0.6666666666666666,
              "#ed7953"
             ],
             [
              0.7777777777777778,
              "#fb9f3a"
             ],
             [
              0.8888888888888888,
              "#fdca26"
             ],
             [
              1,
              "#f0f921"
             ]
            ],
            "type": "histogram2d"
           }
          ],
          "histogram2dcontour": [
           {
            "colorbar": {
             "outlinewidth": 0,
             "ticks": ""
            },
            "colorscale": [
             [
              0,
              "#0d0887"
             ],
             [
              0.1111111111111111,
              "#46039f"
             ],
             [
              0.2222222222222222,
              "#7201a8"
             ],
             [
              0.3333333333333333,
              "#9c179e"
             ],
             [
              0.4444444444444444,
              "#bd3786"
             ],
             [
              0.5555555555555556,
              "#d8576b"
             ],
             [
              0.6666666666666666,
              "#ed7953"
             ],
             [
              0.7777777777777778,
              "#fb9f3a"
             ],
             [
              0.8888888888888888,
              "#fdca26"
             ],
             [
              1,
              "#f0f921"
             ]
            ],
            "type": "histogram2dcontour"
           }
          ],
          "mesh3d": [
           {
            "colorbar": {
             "outlinewidth": 0,
             "ticks": ""
            },
            "type": "mesh3d"
           }
          ],
          "parcoords": [
           {
            "line": {
             "colorbar": {
              "outlinewidth": 0,
              "ticks": ""
             }
            },
            "type": "parcoords"
           }
          ],
          "pie": [
           {
            "automargin": true,
            "type": "pie"
           }
          ],
          "scatter": [
           {
            "marker": {
             "colorbar": {
              "outlinewidth": 0,
              "ticks": ""
             }
            },
            "type": "scatter"
           }
          ],
          "scatter3d": [
           {
            "line": {
             "colorbar": {
              "outlinewidth": 0,
              "ticks": ""
             }
            },
            "marker": {
             "colorbar": {
              "outlinewidth": 0,
              "ticks": ""
             }
            },
            "type": "scatter3d"
           }
          ],
          "scattercarpet": [
           {
            "marker": {
             "colorbar": {
              "outlinewidth": 0,
              "ticks": ""
             }
            },
            "type": "scattercarpet"
           }
          ],
          "scattergeo": [
           {
            "marker": {
             "colorbar": {
              "outlinewidth": 0,
              "ticks": ""
             }
            },
            "type": "scattergeo"
           }
          ],
          "scattergl": [
           {
            "marker": {
             "colorbar": {
              "outlinewidth": 0,
              "ticks": ""
             }
            },
            "type": "scattergl"
           }
          ],
          "scattermapbox": [
           {
            "marker": {
             "colorbar": {
              "outlinewidth": 0,
              "ticks": ""
             }
            },
            "type": "scattermapbox"
           }
          ],
          "scatterpolar": [
           {
            "marker": {
             "colorbar": {
              "outlinewidth": 0,
              "ticks": ""
             }
            },
            "type": "scatterpolar"
           }
          ],
          "scatterpolargl": [
           {
            "marker": {
             "colorbar": {
              "outlinewidth": 0,
              "ticks": ""
             }
            },
            "type": "scatterpolargl"
           }
          ],
          "scatterternary": [
           {
            "marker": {
             "colorbar": {
              "outlinewidth": 0,
              "ticks": ""
             }
            },
            "type": "scatterternary"
           }
          ],
          "surface": [
           {
            "colorbar": {
             "outlinewidth": 0,
             "ticks": ""
            },
            "colorscale": [
             [
              0,
              "#0d0887"
             ],
             [
              0.1111111111111111,
              "#46039f"
             ],
             [
              0.2222222222222222,
              "#7201a8"
             ],
             [
              0.3333333333333333,
              "#9c179e"
             ],
             [
              0.4444444444444444,
              "#bd3786"
             ],
             [
              0.5555555555555556,
              "#d8576b"
             ],
             [
              0.6666666666666666,
              "#ed7953"
             ],
             [
              0.7777777777777778,
              "#fb9f3a"
             ],
             [
              0.8888888888888888,
              "#fdca26"
             ],
             [
              1,
              "#f0f921"
             ]
            ],
            "type": "surface"
           }
          ],
          "table": [
           {
            "cells": {
             "fill": {
              "color": "#EBF0F8"
             },
             "line": {
              "color": "white"
             }
            },
            "header": {
             "fill": {
              "color": "#C8D4E3"
             },
             "line": {
              "color": "white"
             }
            },
            "type": "table"
           }
          ]
         },
         "layout": {
          "annotationdefaults": {
           "arrowcolor": "#2a3f5f",
           "arrowhead": 0,
           "arrowwidth": 1
          },
          "coloraxis": {
           "colorbar": {
            "outlinewidth": 0,
            "ticks": ""
           }
          },
          "colorscale": {
           "diverging": [
            [
             0,
             "#8e0152"
            ],
            [
             0.1,
             "#c51b7d"
            ],
            [
             0.2,
             "#de77ae"
            ],
            [
             0.3,
             "#f1b6da"
            ],
            [
             0.4,
             "#fde0ef"
            ],
            [
             0.5,
             "#f7f7f7"
            ],
            [
             0.6,
             "#e6f5d0"
            ],
            [
             0.7,
             "#b8e186"
            ],
            [
             0.8,
             "#7fbc41"
            ],
            [
             0.9,
             "#4d9221"
            ],
            [
             1,
             "#276419"
            ]
           ],
           "sequential": [
            [
             0,
             "#0d0887"
            ],
            [
             0.1111111111111111,
             "#46039f"
            ],
            [
             0.2222222222222222,
             "#7201a8"
            ],
            [
             0.3333333333333333,
             "#9c179e"
            ],
            [
             0.4444444444444444,
             "#bd3786"
            ],
            [
             0.5555555555555556,
             "#d8576b"
            ],
            [
             0.6666666666666666,
             "#ed7953"
            ],
            [
             0.7777777777777778,
             "#fb9f3a"
            ],
            [
             0.8888888888888888,
             "#fdca26"
            ],
            [
             1,
             "#f0f921"
            ]
           ],
           "sequentialminus": [
            [
             0,
             "#0d0887"
            ],
            [
             0.1111111111111111,
             "#46039f"
            ],
            [
             0.2222222222222222,
             "#7201a8"
            ],
            [
             0.3333333333333333,
             "#9c179e"
            ],
            [
             0.4444444444444444,
             "#bd3786"
            ],
            [
             0.5555555555555556,
             "#d8576b"
            ],
            [
             0.6666666666666666,
             "#ed7953"
            ],
            [
             0.7777777777777778,
             "#fb9f3a"
            ],
            [
             0.8888888888888888,
             "#fdca26"
            ],
            [
             1,
             "#f0f921"
            ]
           ]
          },
          "colorway": [
           "#1f77b4",
           "#ff7f0e",
           "#2ca02c",
           "#dc3912",
           "#9467bd",
           "#8c564b",
           "#e377c2",
           "#7f7f7f",
           "#bcbd22",
           "#17becf"
          ],
          "font": {
           "color": "#2a3f5f"
          },
          "geo": {
           "bgcolor": "white",
           "lakecolor": "white",
           "landcolor": "#E5ECF6",
           "showlakes": true,
           "showland": true,
           "subunitcolor": "white"
          },
          "hoverlabel": {
           "align": "left"
          },
          "hovermode": "closest",
          "mapbox": {
           "style": "light"
          },
          "paper_bgcolor": "white",
          "plot_bgcolor": "#E5ECF6",
          "polar": {
           "angularaxis": {
            "gridcolor": "white",
            "linecolor": "white",
            "ticks": ""
           },
           "bgcolor": "#E5ECF6",
           "radialaxis": {
            "gridcolor": "white",
            "linecolor": "white",
            "ticks": ""
           }
          },
          "scene": {
           "xaxis": {
            "backgroundcolor": "#E5ECF6",
            "gridcolor": "white",
            "gridwidth": 2,
            "linecolor": "white",
            "showbackground": true,
            "ticks": "",
            "zerolinecolor": "white"
           },
           "yaxis": {
            "backgroundcolor": "#E5ECF6",
            "gridcolor": "white",
            "gridwidth": 2,
            "linecolor": "white",
            "showbackground": true,
            "ticks": "",
            "zerolinecolor": "white"
           },
           "zaxis": {
            "backgroundcolor": "#E5ECF6",
            "gridcolor": "white",
            "gridwidth": 2,
            "linecolor": "white",
            "showbackground": true,
            "ticks": "",
            "zerolinecolor": "white"
           }
          },
          "shapedefaults": {
           "line": {
            "color": "#2a3f5f"
           }
          },
          "ternary": {
           "aaxis": {
            "gridcolor": "white",
            "linecolor": "white",
            "ticks": ""
           },
           "baxis": {
            "gridcolor": "white",
            "linecolor": "white",
            "ticks": ""
           },
           "bgcolor": "#E5ECF6",
           "caxis": {
            "gridcolor": "white",
            "linecolor": "white",
            "ticks": ""
           }
          },
          "title": {
           "x": 0.05
          },
          "xaxis": {
           "automargin": true,
           "gridcolor": "white",
           "linecolor": "white",
           "ticks": "",
           "title": {
            "standoff": 15
           },
           "zerolinecolor": "white",
           "zerolinewidth": 2
          },
          "yaxis": {
           "automargin": true,
           "gridcolor": "white",
           "linecolor": "white",
           "ticks": "",
           "title": {
            "standoff": 15
           },
           "zerolinecolor": "white",
           "zerolinewidth": 2
          }
         }
        },
        "width": 700
       }
      },
      "text/html": [
       "<div>                            <div id=\"c2377ae3-e703-4ea9-8721-22182d4a64cb\" class=\"plotly-graph-div\" style=\"height:350px; width:700px;\"></div>            <script type=\"text/javascript\">                require([\"plotly\"], function(Plotly) {                    window.PLOTLYENV=window.PLOTLYENV || {};                                    if (document.getElementById(\"c2377ae3-e703-4ea9-8721-22182d4a64cb\")) {                    Plotly.newPlot(                        \"c2377ae3-e703-4ea9-8721-22182d4a64cb\",                        [{\"line\": {\"color\": \"#1f77b4\"}, \"name\": \"MARA210416C00070000\", \"showlegend\": true, \"type\": \"scatter\", \"uid\": \"66ef7dee-05f9-4c00-b624-519ed97f92fc\", \"x\": [\"2021-01-04T00:00:00\", \"2021-01-05T00:00:00\", \"2021-01-06T00:00:00\", \"2021-01-07T00:00:00\", \"2021-01-08T00:00:00\", \"2021-01-11T00:00:00\", \"2021-01-12T00:00:00\", \"2021-01-13T00:00:00\", \"2021-01-14T00:00:00\", \"2021-01-15T00:00:00\", \"2021-01-19T00:00:00\", \"2021-01-20T00:00:00\", \"2021-01-21T00:00:00\", \"2021-01-22T00:00:00\", \"2021-01-25T00:00:00\", \"2021-01-26T00:00:00\", \"2021-01-27T00:00:00\", \"2021-01-28T00:00:00\", \"2021-01-29T00:00:00\", \"2021-02-01T00:00:00\", \"2021-02-02T00:00:00\", \"2021-02-03T00:00:00\", \"2021-02-04T00:00:00\", \"2021-02-05T00:00:00\", \"2021-02-08T00:00:00\", \"2021-02-09T00:00:00\", \"2021-02-10T00:00:00\", \"2021-02-11T00:00:00\", \"2021-02-12T00:00:00\", \"2021-02-16T00:00:00\", \"2021-02-17T00:00:00\", \"2021-02-18T00:00:00\", \"2021-02-19T00:00:00\", \"2021-02-22T00:00:00\", \"2021-02-23T00:00:00\", \"2021-02-24T00:00:00\", \"2021-02-25T00:00:00\", \"2021-02-26T00:00:00\", \"2021-03-01T00:00:00\", \"2021-03-02T00:00:00\", \"2021-03-03T00:00:00\", \"2021-03-04T00:00:00\", \"2021-03-05T00:00:00\", \"2021-03-08T00:00:00\", \"2021-03-09T00:00:00\", \"2021-03-10T00:00:00\", \"2021-03-11T00:00:00\", \"2021-03-12T00:00:00\", \"2021-03-15T00:00:00\", \"2021-03-16T00:00:00\", \"2021-03-17T00:00:00\", \"2021-03-18T00:00:00\", \"2021-03-19T00:00:00\", \"2021-03-22T00:00:00\", \"2021-03-23T00:00:00\", \"2021-03-24T00:00:00\", \"2021-03-25T00:00:00\", \"2021-03-26T00:00:00\", \"2021-03-29T00:00:00\", \"2021-03-30T00:00:00\", \"2021-03-31T00:00:00\", \"2021-04-01T00:00:00\", \"2021-04-05T00:00:00\", \"2021-04-06T00:00:00\", \"2021-04-07T00:00:00\", \"2021-04-08T00:00:00\", \"2021-04-09T00:00:00\", \"2021-04-12T00:00:00\", \"2021-04-13T00:00:00\", \"2021-04-14T00:00:00\", \"2021-04-15T00:00:00\", \"2021-04-16T00:00:00\", \"2021-04-19T00:00:00\", \"2021-04-20T00:00:00\", \"2021-04-21T00:00:00\", \"2021-04-22T00:00:00\", \"2021-04-23T00:00:00\", \"2021-04-26T00:00:00\", \"2021-04-27T00:00:00\", \"2021-04-28T00:00:00\", \"2021-04-29T00:00:00\", \"2021-04-30T00:00:00\", \"2021-05-03T00:00:00\", \"2021-05-04T00:00:00\", \"2021-05-05T00:00:00\", \"2021-05-06T00:00:00\", \"2021-05-07T00:00:00\", \"2021-05-10T00:00:00\", \"2021-05-11T00:00:00\", \"2021-05-12T00:00:00\", \"2021-05-13T00:00:00\", \"2021-05-14T00:00:00\", \"2021-05-17T00:00:00\", \"2021-05-18T00:00:00\", \"2021-05-19T00:00:00\", \"2021-05-20T00:00:00\", \"2021-05-21T00:00:00\", \"2021-05-24T00:00:00\", \"2021-05-25T00:00:00\", \"2021-05-26T00:00:00\", \"2021-05-27T00:00:00\", \"2021-05-28T00:00:00\", \"2021-06-01T00:00:00\", \"2021-06-02T00:00:00\", \"2021-06-03T00:00:00\", \"2021-06-04T00:00:00\", \"2021-06-07T00:00:00\", \"2021-06-08T00:00:00\", \"2021-06-09T00:00:00\", \"2021-06-10T00:00:00\", \"2021-06-11T00:00:00\"], \"y\": [null, null, null, null, null, null, null, null, null, null, null, null, null, null, null, null, null, null, null, null, null, null, null, null, null, null, null, null, null, null, null, 12.0, 11.5, 6.25, 4.3, 4.55, 6.0, 3.65, 6.35, 6.5, 5.55, 4.6, 3.55, 3.7, 2.84, 5.0, 4.9, 4.74, 5.1, 4.45, 2.88, 3.85, 3.51, 2.5, 1.14, 0.79, 0.41, 0.72, 0.96, 0.73, 0.8, 1.52, 1.23, 1.94, 0.57, 0.51, 0.44, 0.5, 0.61, 0.29, 0.06, 1e-05, null, null, null, null, null, null, null, null, null, null, null, null, null, null, null, null, null, null, null, null, null, null, null, null, null, null, null, null, null, null, null, null, null, null, null, null, null, null, null]}, {\"customdata\": [[\"58\", \"4100.0\", \"3.232\", \"Long\", \"58\"], [\"59\", \"200.0\", \"0.388\", \"Long\", \"59\"]], \"hovertemplate\": \"Trade Id: %{customdata[0]}<br>Date: %{x}<br>Avg. Price: %{y}<br>Size: %{customdata[1]:.6f}<br>Fees: %{customdata[2]:.6f}<br>Direction: %{customdata[3]}<br>Position Id: %{customdata[4]}\", \"marker\": {\"color\": \"#4285F4\", \"line\": {\"color\": \"rgb(11,84,205)\", \"width\": 1}, \"size\": 7, \"symbol\": \"square\"}, \"mode\": \"markers\", \"name\": \"Entry\", \"type\": \"scatter\", \"uid\": \"8e4ec570-993b-4d9c-8b18-1756c1d55b15\", \"x\": [\"2021-03-04T00:00:00\", \"2021-04-06T00:00:00\"], \"y\": [0.7882926829268293, 1.94]}, {\"customdata\": [[\"58\", \"28 days 00:00:00\", \"4100.0\", \"6.232\", \"2990.536\", \"0.9252896039603961\", \"Long\", \"58\"]], \"hovertemplate\": \"Trade Id: %{customdata[0]}<br>Date: %{x}<br>Duration: %{customdata[1]}<br>Avg. Price: %{y}<br>Size: %{customdata[2]:.6f}<br>Fees: %{customdata[3]:.6f}<br>PnL: %{customdata[4]:.6f}<br>Return: %{customdata[5]:.2%}<br>Direction: %{customdata[6]}<br>Position Id: %{customdata[7]}\", \"marker\": {\"color\": \"#37B13F\", \"line\": {\"color\": \"rgb(38,123,44)\", \"width\": 1}, \"size\": 7, \"symbol\": \"square\"}, \"mode\": \"markers\", \"name\": \"Exit - Profit\", \"type\": \"scatter\", \"uid\": \"42e797d1-5337-49a1-8daf-2ec0c6eca56e\", \"x\": [\"2021-04-01T00:00:00\"], \"y\": [1.52]}, {\"customdata\": [[\"59\", \"66 days 00:00:00\", \"200.0\", \"0.0\", \"nan\", \"nan\", \"Long\", \"59\"]], \"hovertemplate\": \"Trade Id: %{customdata[0]}<br>Date: %{x}<br>Duration: %{customdata[1]}<br>Avg. Price: %{y}<br>Size: %{customdata[2]:.6f}<br>Fees: %{customdata[3]:.6f}<br>PnL: %{customdata[4]:.6f}<br>Return: %{customdata[5]:.2%}<br>Direction: %{customdata[6]}<br>Position Id: %{customdata[7]}\", \"marker\": {\"color\": \"#FFAA00\", \"line\": {\"color\": \"rgb(178,118,0)\", \"width\": 1}, \"size\": 7, \"symbol\": \"square\"}, \"mode\": \"markers\", \"name\": \"Active\", \"type\": \"scatter\", \"uid\": \"29de5b56-b2f2-4de4-acf8-405e15e635ac\", \"x\": [\"2021-06-11T00:00:00\"], \"y\": [null]}],                        {\"height\": 350, \"legend\": {\"orientation\": \"h\", \"traceorder\": \"normal\", \"x\": 1, \"xanchor\": \"right\", \"y\": 1.02, \"yanchor\": \"bottom\"}, \"margin\": {\"b\": 30, \"l\": 30, \"r\": 30, \"t\": 30}, \"shapes\": [{\"fillcolor\": \"green\", \"layer\": \"below\", \"line\": {\"width\": 0}, \"opacity\": 0.2, \"type\": \"rect\", \"x0\": \"2021-03-04T00:00:00\", \"x1\": \"2021-04-01T00:00:00\", \"xref\": \"x\", \"y0\": 0.7882926829268293, \"y1\": 1.52, \"yref\": \"y\"}], \"template\": {\"data\": {\"bar\": [{\"error_x\": {\"color\": \"#2a3f5f\"}, \"error_y\": {\"color\": \"#2a3f5f\"}, \"marker\": {\"line\": {\"color\": \"#E5ECF6\", \"width\": 0.5}}, \"type\": \"bar\"}], \"barpolar\": [{\"marker\": {\"line\": {\"color\": \"#E5ECF6\", \"width\": 0.5}}, \"type\": \"barpolar\"}], \"carpet\": [{\"aaxis\": {\"endlinecolor\": \"#2a3f5f\", \"gridcolor\": \"white\", \"linecolor\": \"white\", \"minorgridcolor\": \"white\", \"startlinecolor\": \"#2a3f5f\"}, \"baxis\": {\"endlinecolor\": \"#2a3f5f\", \"gridcolor\": \"white\", \"linecolor\": \"white\", \"minorgridcolor\": \"white\", \"startlinecolor\": \"#2a3f5f\"}, \"type\": \"carpet\"}], \"choropleth\": [{\"colorbar\": {\"outlinewidth\": 0, \"ticks\": \"\"}, \"type\": \"choropleth\"}], \"contour\": [{\"colorbar\": {\"outlinewidth\": 0, \"ticks\": \"\"}, \"colorscale\": [[0.0, \"#0d0887\"], [0.1111111111111111, \"#46039f\"], [0.2222222222222222, \"#7201a8\"], [0.3333333333333333, \"#9c179e\"], [0.4444444444444444, \"#bd3786\"], [0.5555555555555556, \"#d8576b\"], [0.6666666666666666, \"#ed7953\"], [0.7777777777777778, \"#fb9f3a\"], [0.8888888888888888, \"#fdca26\"], [1.0, \"#f0f921\"]], \"type\": \"contour\"}], \"contourcarpet\": [{\"colorbar\": {\"outlinewidth\": 0, \"ticks\": \"\"}, \"type\": \"contourcarpet\"}], \"heatmap\": [{\"colorbar\": {\"outlinewidth\": 0, \"ticks\": \"\"}, \"colorscale\": [[0.0, \"#0d0887\"], [0.1111111111111111, \"#46039f\"], [0.2222222222222222, \"#7201a8\"], [0.3333333333333333, \"#9c179e\"], [0.4444444444444444, \"#bd3786\"], [0.5555555555555556, \"#d8576b\"], [0.6666666666666666, \"#ed7953\"], [0.7777777777777778, \"#fb9f3a\"], [0.8888888888888888, \"#fdca26\"], [1.0, \"#f0f921\"]], \"type\": \"heatmap\"}], \"heatmapgl\": [{\"colorbar\": {\"outlinewidth\": 0, \"ticks\": \"\"}, \"colorscale\": [[0.0, \"#0d0887\"], [0.1111111111111111, \"#46039f\"], [0.2222222222222222, \"#7201a8\"], [0.3333333333333333, \"#9c179e\"], [0.4444444444444444, \"#bd3786\"], [0.5555555555555556, \"#d8576b\"], [0.6666666666666666, \"#ed7953\"], [0.7777777777777778, \"#fb9f3a\"], [0.8888888888888888, \"#fdca26\"], [1.0, \"#f0f921\"]], \"type\": \"heatmapgl\"}], \"histogram\": [{\"marker\": {\"colorbar\": {\"outlinewidth\": 0, \"ticks\": \"\"}}, \"type\": \"histogram\"}], \"histogram2d\": [{\"colorbar\": {\"outlinewidth\": 0, \"ticks\": \"\"}, \"colorscale\": [[0.0, \"#0d0887\"], [0.1111111111111111, \"#46039f\"], [0.2222222222222222, \"#7201a8\"], [0.3333333333333333, \"#9c179e\"], [0.4444444444444444, \"#bd3786\"], [0.5555555555555556, \"#d8576b\"], [0.6666666666666666, \"#ed7953\"], [0.7777777777777778, \"#fb9f3a\"], [0.8888888888888888, \"#fdca26\"], [1.0, \"#f0f921\"]], \"type\": \"histogram2d\"}], \"histogram2dcontour\": [{\"colorbar\": {\"outlinewidth\": 0, \"ticks\": \"\"}, \"colorscale\": [[0.0, \"#0d0887\"], [0.1111111111111111, \"#46039f\"], [0.2222222222222222, \"#7201a8\"], [0.3333333333333333, \"#9c179e\"], [0.4444444444444444, \"#bd3786\"], [0.5555555555555556, \"#d8576b\"], [0.6666666666666666, \"#ed7953\"], [0.7777777777777778, \"#fb9f3a\"], [0.8888888888888888, \"#fdca26\"], [1.0, \"#f0f921\"]], \"type\": \"histogram2dcontour\"}], \"mesh3d\": [{\"colorbar\": {\"outlinewidth\": 0, \"ticks\": \"\"}, \"type\": \"mesh3d\"}], \"parcoords\": [{\"line\": {\"colorbar\": {\"outlinewidth\": 0, \"ticks\": \"\"}}, \"type\": \"parcoords\"}], \"pie\": [{\"automargin\": true, \"type\": \"pie\"}], \"scatter\": [{\"marker\": {\"colorbar\": {\"outlinewidth\": 0, \"ticks\": \"\"}}, \"type\": \"scatter\"}], \"scatter3d\": [{\"line\": {\"colorbar\": {\"outlinewidth\": 0, \"ticks\": \"\"}}, \"marker\": {\"colorbar\": {\"outlinewidth\": 0, \"ticks\": \"\"}}, \"type\": \"scatter3d\"}], \"scattercarpet\": [{\"marker\": {\"colorbar\": {\"outlinewidth\": 0, \"ticks\": \"\"}}, \"type\": \"scattercarpet\"}], \"scattergeo\": [{\"marker\": {\"colorbar\": {\"outlinewidth\": 0, \"ticks\": \"\"}}, \"type\": \"scattergeo\"}], \"scattergl\": [{\"marker\": {\"colorbar\": {\"outlinewidth\": 0, \"ticks\": \"\"}}, \"type\": \"scattergl\"}], \"scattermapbox\": [{\"marker\": {\"colorbar\": {\"outlinewidth\": 0, \"ticks\": \"\"}}, \"type\": \"scattermapbox\"}], \"scatterpolar\": [{\"marker\": {\"colorbar\": {\"outlinewidth\": 0, \"ticks\": \"\"}}, \"type\": \"scatterpolar\"}], \"scatterpolargl\": [{\"marker\": {\"colorbar\": {\"outlinewidth\": 0, \"ticks\": \"\"}}, \"type\": \"scatterpolargl\"}], \"scatterternary\": [{\"marker\": {\"colorbar\": {\"outlinewidth\": 0, \"ticks\": \"\"}}, \"type\": \"scatterternary\"}], \"surface\": [{\"colorbar\": {\"outlinewidth\": 0, \"ticks\": \"\"}, \"colorscale\": [[0.0, \"#0d0887\"], [0.1111111111111111, \"#46039f\"], [0.2222222222222222, \"#7201a8\"], [0.3333333333333333, \"#9c179e\"], [0.4444444444444444, \"#bd3786\"], [0.5555555555555556, \"#d8576b\"], [0.6666666666666666, \"#ed7953\"], [0.7777777777777778, \"#fb9f3a\"], [0.8888888888888888, \"#fdca26\"], [1.0, \"#f0f921\"]], \"type\": \"surface\"}], \"table\": [{\"cells\": {\"fill\": {\"color\": \"#EBF0F8\"}, \"line\": {\"color\": \"white\"}}, \"header\": {\"fill\": {\"color\": \"#C8D4E3\"}, \"line\": {\"color\": \"white\"}}, \"type\": \"table\"}]}, \"layout\": {\"annotationdefaults\": {\"arrowcolor\": \"#2a3f5f\", \"arrowhead\": 0, \"arrowwidth\": 1}, \"coloraxis\": {\"colorbar\": {\"outlinewidth\": 0, \"ticks\": \"\"}}, \"colorscale\": {\"diverging\": [[0, \"#8e0152\"], [0.1, \"#c51b7d\"], [0.2, \"#de77ae\"], [0.3, \"#f1b6da\"], [0.4, \"#fde0ef\"], [0.5, \"#f7f7f7\"], [0.6, \"#e6f5d0\"], [0.7, \"#b8e186\"], [0.8, \"#7fbc41\"], [0.9, \"#4d9221\"], [1, \"#276419\"]], \"sequential\": [[0.0, \"#0d0887\"], [0.1111111111111111, \"#46039f\"], [0.2222222222222222, \"#7201a8\"], [0.3333333333333333, \"#9c179e\"], [0.4444444444444444, \"#bd3786\"], [0.5555555555555556, \"#d8576b\"], [0.6666666666666666, \"#ed7953\"], [0.7777777777777778, \"#fb9f3a\"], [0.8888888888888888, \"#fdca26\"], [1.0, \"#f0f921\"]], \"sequentialminus\": [[0.0, \"#0d0887\"], [0.1111111111111111, \"#46039f\"], [0.2222222222222222, \"#7201a8\"], [0.3333333333333333, \"#9c179e\"], [0.4444444444444444, \"#bd3786\"], [0.5555555555555556, \"#d8576b\"], [0.6666666666666666, \"#ed7953\"], [0.7777777777777778, \"#fb9f3a\"], [0.8888888888888888, \"#fdca26\"], [1.0, \"#f0f921\"]]}, \"colorway\": [\"#1f77b4\", \"#ff7f0e\", \"#2ca02c\", \"#dc3912\", \"#9467bd\", \"#8c564b\", \"#e377c2\", \"#7f7f7f\", \"#bcbd22\", \"#17becf\"], \"font\": {\"color\": \"#2a3f5f\"}, \"geo\": {\"bgcolor\": \"white\", \"lakecolor\": \"white\", \"landcolor\": \"#E5ECF6\", \"showlakes\": true, \"showland\": true, \"subunitcolor\": \"white\"}, \"hoverlabel\": {\"align\": \"left\"}, \"hovermode\": \"closest\", \"mapbox\": {\"style\": \"light\"}, \"paper_bgcolor\": \"white\", \"plot_bgcolor\": \"#E5ECF6\", \"polar\": {\"angularaxis\": {\"gridcolor\": \"white\", \"linecolor\": \"white\", \"ticks\": \"\"}, \"bgcolor\": \"#E5ECF6\", \"radialaxis\": {\"gridcolor\": \"white\", \"linecolor\": \"white\", \"ticks\": \"\"}}, \"scene\": {\"xaxis\": {\"backgroundcolor\": \"#E5ECF6\", \"gridcolor\": \"white\", \"gridwidth\": 2, \"linecolor\": \"white\", \"showbackground\": true, \"ticks\": \"\", \"zerolinecolor\": \"white\"}, \"yaxis\": {\"backgroundcolor\": \"#E5ECF6\", \"gridcolor\": \"white\", \"gridwidth\": 2, \"linecolor\": \"white\", \"showbackground\": true, \"ticks\": \"\", \"zerolinecolor\": \"white\"}, \"zaxis\": {\"backgroundcolor\": \"#E5ECF6\", \"gridcolor\": \"white\", \"gridwidth\": 2, \"linecolor\": \"white\", \"showbackground\": true, \"ticks\": \"\", \"zerolinecolor\": \"white\"}}, \"shapedefaults\": {\"line\": {\"color\": \"#2a3f5f\"}}, \"ternary\": {\"aaxis\": {\"gridcolor\": \"white\", \"linecolor\": \"white\", \"ticks\": \"\"}, \"baxis\": {\"gridcolor\": \"white\", \"linecolor\": \"white\", \"ticks\": \"\"}, \"bgcolor\": \"#E5ECF6\", \"caxis\": {\"gridcolor\": \"white\", \"linecolor\": \"white\", \"ticks\": \"\"}}, \"title\": {\"x\": 0.05}, \"xaxis\": {\"automargin\": true, \"gridcolor\": \"white\", \"linecolor\": \"white\", \"ticks\": \"\", \"title\": {\"standoff\": 15}, \"zerolinecolor\": \"white\", \"zerolinewidth\": 2}, \"yaxis\": {\"automargin\": true, \"gridcolor\": \"white\", \"linecolor\": \"white\", \"ticks\": \"\", \"title\": {\"standoff\": 15}, \"zerolinecolor\": \"white\", \"zerolinewidth\": 2}}}, \"width\": 700},                        {\"responsive\": true}                    ).then(function(){\n",
       "                            \n",
       "var gd = document.getElementById('c2377ae3-e703-4ea9-8721-22182d4a64cb');\n",
       "var x = new MutationObserver(function (mutations, observer) {{\n",
       "        var display = window.getComputedStyle(gd).display;\n",
       "        if (!display || display === 'none') {{\n",
       "            console.log([gd, 'removed!']);\n",
       "            Plotly.purge(gd);\n",
       "            observer.disconnect();\n",
       "        }}\n",
       "}});\n",
       "\n",
       "// Listen for the removal of the full notebook cells\n",
       "var notebookContainer = gd.closest('#notebook-container');\n",
       "if (notebookContainer) {{\n",
       "    x.observe(notebookContainer, {childList: true});\n",
       "}}\n",
       "\n",
       "// Listen for the clearing of the current output cell\n",
       "var outputEl = gd.closest('.output');\n",
       "if (outputEl) {{\n",
       "    x.observe(outputEl, {childList: true});\n",
       "}}\n",
       "\n",
       "                        })                };                });            </script>        </div>"
      ]
     },
     "metadata": {},
     "output_type": "display_data"
    },
    {
     "data": {
      "application/vnd.plotly.v1+json": {
       "config": {
        "plotlyServerURL": "https://plot.ly"
       },
       "data": [
        {
         "line": {
          "color": "#1f77b4"
         },
         "name": "MARA210416C00070000",
         "showlegend": true,
         "type": "scatter",
         "uid": "32b1d4f3-4b1e-421c-a9bf-db9f1526308e",
         "x": [
          "2021-01-04T00:00:00",
          "2021-01-05T00:00:00",
          "2021-01-06T00:00:00",
          "2021-01-07T00:00:00",
          "2021-01-08T00:00:00",
          "2021-01-11T00:00:00",
          "2021-01-12T00:00:00",
          "2021-01-13T00:00:00",
          "2021-01-14T00:00:00",
          "2021-01-15T00:00:00",
          "2021-01-19T00:00:00",
          "2021-01-20T00:00:00",
          "2021-01-21T00:00:00",
          "2021-01-22T00:00:00",
          "2021-01-25T00:00:00",
          "2021-01-26T00:00:00",
          "2021-01-27T00:00:00",
          "2021-01-28T00:00:00",
          "2021-01-29T00:00:00",
          "2021-02-01T00:00:00",
          "2021-02-02T00:00:00",
          "2021-02-03T00:00:00",
          "2021-02-04T00:00:00",
          "2021-02-05T00:00:00",
          "2021-02-08T00:00:00",
          "2021-02-09T00:00:00",
          "2021-02-10T00:00:00",
          "2021-02-11T00:00:00",
          "2021-02-12T00:00:00",
          "2021-02-16T00:00:00",
          "2021-02-17T00:00:00",
          "2021-02-18T00:00:00",
          "2021-02-19T00:00:00",
          "2021-02-22T00:00:00",
          "2021-02-23T00:00:00",
          "2021-02-24T00:00:00",
          "2021-02-25T00:00:00",
          "2021-02-26T00:00:00",
          "2021-03-01T00:00:00",
          "2021-03-02T00:00:00",
          "2021-03-03T00:00:00",
          "2021-03-04T00:00:00",
          "2021-03-05T00:00:00",
          "2021-03-08T00:00:00",
          "2021-03-09T00:00:00",
          "2021-03-10T00:00:00",
          "2021-03-11T00:00:00",
          "2021-03-12T00:00:00",
          "2021-03-15T00:00:00",
          "2021-03-16T00:00:00",
          "2021-03-17T00:00:00",
          "2021-03-18T00:00:00",
          "2021-03-19T00:00:00",
          "2021-03-22T00:00:00",
          "2021-03-23T00:00:00",
          "2021-03-24T00:00:00",
          "2021-03-25T00:00:00",
          "2021-03-26T00:00:00",
          "2021-03-29T00:00:00",
          "2021-03-30T00:00:00",
          "2021-03-31T00:00:00",
          "2021-04-01T00:00:00",
          "2021-04-05T00:00:00",
          "2021-04-06T00:00:00",
          "2021-04-07T00:00:00",
          "2021-04-08T00:00:00",
          "2021-04-09T00:00:00",
          "2021-04-12T00:00:00",
          "2021-04-13T00:00:00",
          "2021-04-14T00:00:00",
          "2021-04-15T00:00:00",
          "2021-04-16T00:00:00",
          "2021-04-19T00:00:00",
          "2021-04-20T00:00:00",
          "2021-04-21T00:00:00",
          "2021-04-22T00:00:00",
          "2021-04-23T00:00:00",
          "2021-04-26T00:00:00",
          "2021-04-27T00:00:00",
          "2021-04-28T00:00:00",
          "2021-04-29T00:00:00",
          "2021-04-30T00:00:00",
          "2021-05-03T00:00:00",
          "2021-05-04T00:00:00",
          "2021-05-05T00:00:00",
          "2021-05-06T00:00:00",
          "2021-05-07T00:00:00",
          "2021-05-10T00:00:00",
          "2021-05-11T00:00:00",
          "2021-05-12T00:00:00",
          "2021-05-13T00:00:00",
          "2021-05-14T00:00:00",
          "2021-05-17T00:00:00",
          "2021-05-18T00:00:00",
          "2021-05-19T00:00:00",
          "2021-05-20T00:00:00",
          "2021-05-21T00:00:00",
          "2021-05-24T00:00:00",
          "2021-05-25T00:00:00",
          "2021-05-26T00:00:00",
          "2021-05-27T00:00:00",
          "2021-05-28T00:00:00",
          "2021-06-01T00:00:00",
          "2021-06-02T00:00:00",
          "2021-06-03T00:00:00",
          "2021-06-04T00:00:00",
          "2021-06-07T00:00:00",
          "2021-06-08T00:00:00",
          "2021-06-09T00:00:00",
          "2021-06-10T00:00:00",
          "2021-06-11T00:00:00"
         ],
         "y": [
          3235.232,
          3235.232,
          3235.232,
          3235.232,
          3235.232,
          3235.232,
          3235.232,
          3235.232,
          3235.232,
          3235.232,
          3235.232,
          3235.232,
          3235.232,
          3235.232,
          3235.232,
          3235.232,
          3235.232,
          3235.232,
          3235.232,
          3235.232,
          3235.232,
          3235.232,
          3235.232,
          3235.232,
          3235.232,
          3235.232,
          3235.232,
          3235.232,
          3235.232,
          3235.232,
          3235.232,
          3235.232,
          3235.232,
          3235.232,
          3235.232,
          3235.232,
          3235.232,
          3235.232,
          3235.232,
          3235.232,
          3235.232,
          3234.772,
          3129.772,
          3144.772,
          3058.772,
          3274.772,
          3264.772,
          3248.772,
          3284.772,
          3219.772,
          3062.772,
          3159.772,
          3125.772,
          3024.772,
          2888.316,
          2712.8419999999996,
          2294.35,
          3006.9179999999997,
          3702.9179999999997,
          3035.48,
          3280,
          6225.768,
          6225.768,
          6225.38,
          5951.38,
          5939.38,
          5925.38,
          5937.38,
          5959.38,
          5895.38,
          5849.38,
          5837.3820000000005,
          null,
          null,
          null,
          null,
          null,
          null,
          null,
          null,
          null,
          null,
          null,
          null,
          null,
          null,
          null,
          null,
          null,
          null,
          null,
          null,
          null,
          null,
          null,
          null,
          null,
          null,
          null,
          null,
          null,
          null,
          null,
          null,
          null,
          null,
          null,
          null,
          null,
          null,
          null
         ]
        },
        {
         "customdata": [
          [
           0
          ]
         ],
         "hovertemplate": "Drawdown Id: %{customdata[0]}<br>Date: %{x}<br>Price: %{y}",
         "marker": {
          "color": "#4285F4",
          "line": {
           "color": "rgb(11,84,205)",
           "width": 1
          },
          "size": 7,
          "symbol": "diamond"
         },
         "mode": "markers",
         "name": "Peak",
         "type": "scatter",
         "uid": "6059e46a-bb4f-47b7-92ed-14a95bcd8461",
         "x": [
          "2021-03-03T00:00:00"
         ],
         "y": [
          3235.232
         ]
        },
        {
         "customdata": [
          [
           "0",
           "-0.054543229048179556",
           "6 days 00:00:00"
          ],
          [
           "1",
           "-0.007939484031254695",
           "2 days 00:00:00"
          ],
          [
           "2",
           "-0.3015192530866678",
           "10 days 00:00:00"
          ],
          [
           "3",
           "-0.18024649749197788",
           "1 days 00:00:00"
          ]
         ],
         "hovertemplate": "Drawdown Id: %{customdata[0]}<br>Date: %{x}<br>Price: %{y}<br>Drawdown: %{customdata[1]:.2%}<br>Duration: %{customdata[2]}",
         "marker": {
          "color": "#EA4335",
          "line": {
           "color": "rgb(181,31,18)",
           "width": 1
          },
          "size": 7,
          "symbol": "diamond"
         },
         "mode": "markers",
         "name": "Valley",
         "type": "scatter",
         "uid": "68e67a0d-83e9-4866-8f75-be01a80480c5",
         "x": [
          "2021-03-09T00:00:00",
          "2021-03-12T00:00:00",
          "2021-03-25T00:00:00",
          "2021-03-30T00:00:00"
         ],
         "y": [
          3058.772,
          3248.772,
          2294.35,
          3035.48
         ]
        },
        {
         "customdata": [
          [
           "0",
           "0.07061657423305824",
           "1 days 00:00:00"
          ],
          [
           "1",
           "0.011081110031728911",
           "3 days 00:00:00"
          ],
          [
           "2",
           "0.6139289994987687",
           "4 days 00:00:00"
          ],
          [
           "3",
           "1.0509995124329596",
           "2 days 00:00:00"
          ]
         ],
         "hovertemplate": "Drawdown Id: %{customdata[0]}<br>Date: %{x}<br>Price: %{y}<br>Return: %{customdata[1]:.2%}<br>Duration: %{customdata[2]}",
         "marker": {
          "color": "#37B13F",
          "line": {
           "color": "rgb(38,123,44)",
           "width": 1
          },
          "size": 7,
          "symbol": "diamond"
         },
         "mode": "markers",
         "name": "Recovery/Peak",
         "type": "scatter",
         "uid": "bf0a145f-80dc-4731-80b1-539e8fe90778",
         "x": [
          "2021-03-10T00:00:00",
          "2021-03-15T00:00:00",
          "2021-03-29T00:00:00",
          "2021-04-01T00:00:00"
         ],
         "y": [
          3274.772,
          3284.772,
          3702.9179999999997,
          6225.768
         ]
        }
       ],
       "layout": {
        "height": 350,
        "legend": {
         "orientation": "h",
         "traceorder": "normal",
         "x": 1,
         "xanchor": "right",
         "y": 1.02,
         "yanchor": "bottom"
        },
        "margin": {
         "b": 30,
         "l": 30,
         "r": 30,
         "t": 30
        },
        "shapes": [
         {
          "fillcolor": "red",
          "layer": "below",
          "line": {
           "width": 0
          },
          "opacity": 0.2,
          "type": "rect",
          "x0": "2021-03-03T00:00:00",
          "x1": "2021-03-09T00:00:00",
          "xref": "x",
          "y0": 0,
          "y1": 1,
          "yref": "paper"
         },
         {
          "fillcolor": "red",
          "layer": "below",
          "line": {
           "width": 0
          },
          "opacity": 0.2,
          "type": "rect",
          "x0": "2021-03-10T00:00:00",
          "x1": "2021-03-12T00:00:00",
          "xref": "x",
          "y0": 0,
          "y1": 1,
          "yref": "paper"
         },
         {
          "fillcolor": "red",
          "layer": "below",
          "line": {
           "width": 0
          },
          "opacity": 0.2,
          "type": "rect",
          "x0": "2021-03-15T00:00:00",
          "x1": "2021-03-25T00:00:00",
          "xref": "x",
          "y0": 0,
          "y1": 1,
          "yref": "paper"
         },
         {
          "fillcolor": "red",
          "layer": "below",
          "line": {
           "width": 0
          },
          "opacity": 0.2,
          "type": "rect",
          "x0": "2021-03-29T00:00:00",
          "x1": "2021-03-30T00:00:00",
          "xref": "x",
          "y0": 0,
          "y1": 1,
          "yref": "paper"
         },
         {
          "fillcolor": "green",
          "layer": "below",
          "line": {
           "width": 0
          },
          "opacity": 0.2,
          "type": "rect",
          "x0": "2021-03-09T00:00:00",
          "x1": "2021-03-10T00:00:00",
          "xref": "x",
          "y0": 0,
          "y1": 1,
          "yref": "paper"
         },
         {
          "fillcolor": "green",
          "layer": "below",
          "line": {
           "width": 0
          },
          "opacity": 0.2,
          "type": "rect",
          "x0": "2021-03-12T00:00:00",
          "x1": "2021-03-15T00:00:00",
          "xref": "x",
          "y0": 0,
          "y1": 1,
          "yref": "paper"
         },
         {
          "fillcolor": "green",
          "layer": "below",
          "line": {
           "width": 0
          },
          "opacity": 0.2,
          "type": "rect",
          "x0": "2021-03-25T00:00:00",
          "x1": "2021-03-29T00:00:00",
          "xref": "x",
          "y0": 0,
          "y1": 1,
          "yref": "paper"
         },
         {
          "fillcolor": "green",
          "layer": "below",
          "line": {
           "width": 0
          },
          "opacity": 0.2,
          "type": "rect",
          "x0": "2021-03-30T00:00:00",
          "x1": "2021-04-01T00:00:00",
          "xref": "x",
          "y0": 0,
          "y1": 1,
          "yref": "paper"
         }
        ],
        "template": {
         "data": {
          "bar": [
           {
            "error_x": {
             "color": "#2a3f5f"
            },
            "error_y": {
             "color": "#2a3f5f"
            },
            "marker": {
             "line": {
              "color": "#E5ECF6",
              "width": 0.5
             }
            },
            "type": "bar"
           }
          ],
          "barpolar": [
           {
            "marker": {
             "line": {
              "color": "#E5ECF6",
              "width": 0.5
             }
            },
            "type": "barpolar"
           }
          ],
          "carpet": [
           {
            "aaxis": {
             "endlinecolor": "#2a3f5f",
             "gridcolor": "white",
             "linecolor": "white",
             "minorgridcolor": "white",
             "startlinecolor": "#2a3f5f"
            },
            "baxis": {
             "endlinecolor": "#2a3f5f",
             "gridcolor": "white",
             "linecolor": "white",
             "minorgridcolor": "white",
             "startlinecolor": "#2a3f5f"
            },
            "type": "carpet"
           }
          ],
          "choropleth": [
           {
            "colorbar": {
             "outlinewidth": 0,
             "ticks": ""
            },
            "type": "choropleth"
           }
          ],
          "contour": [
           {
            "colorbar": {
             "outlinewidth": 0,
             "ticks": ""
            },
            "colorscale": [
             [
              0,
              "#0d0887"
             ],
             [
              0.1111111111111111,
              "#46039f"
             ],
             [
              0.2222222222222222,
              "#7201a8"
             ],
             [
              0.3333333333333333,
              "#9c179e"
             ],
             [
              0.4444444444444444,
              "#bd3786"
             ],
             [
              0.5555555555555556,
              "#d8576b"
             ],
             [
              0.6666666666666666,
              "#ed7953"
             ],
             [
              0.7777777777777778,
              "#fb9f3a"
             ],
             [
              0.8888888888888888,
              "#fdca26"
             ],
             [
              1,
              "#f0f921"
             ]
            ],
            "type": "contour"
           }
          ],
          "contourcarpet": [
           {
            "colorbar": {
             "outlinewidth": 0,
             "ticks": ""
            },
            "type": "contourcarpet"
           }
          ],
          "heatmap": [
           {
            "colorbar": {
             "outlinewidth": 0,
             "ticks": ""
            },
            "colorscale": [
             [
              0,
              "#0d0887"
             ],
             [
              0.1111111111111111,
              "#46039f"
             ],
             [
              0.2222222222222222,
              "#7201a8"
             ],
             [
              0.3333333333333333,
              "#9c179e"
             ],
             [
              0.4444444444444444,
              "#bd3786"
             ],
             [
              0.5555555555555556,
              "#d8576b"
             ],
             [
              0.6666666666666666,
              "#ed7953"
             ],
             [
              0.7777777777777778,
              "#fb9f3a"
             ],
             [
              0.8888888888888888,
              "#fdca26"
             ],
             [
              1,
              "#f0f921"
             ]
            ],
            "type": "heatmap"
           }
          ],
          "heatmapgl": [
           {
            "colorbar": {
             "outlinewidth": 0,
             "ticks": ""
            },
            "colorscale": [
             [
              0,
              "#0d0887"
             ],
             [
              0.1111111111111111,
              "#46039f"
             ],
             [
              0.2222222222222222,
              "#7201a8"
             ],
             [
              0.3333333333333333,
              "#9c179e"
             ],
             [
              0.4444444444444444,
              "#bd3786"
             ],
             [
              0.5555555555555556,
              "#d8576b"
             ],
             [
              0.6666666666666666,
              "#ed7953"
             ],
             [
              0.7777777777777778,
              "#fb9f3a"
             ],
             [
              0.8888888888888888,
              "#fdca26"
             ],
             [
              1,
              "#f0f921"
             ]
            ],
            "type": "heatmapgl"
           }
          ],
          "histogram": [
           {
            "marker": {
             "colorbar": {
              "outlinewidth": 0,
              "ticks": ""
             }
            },
            "type": "histogram"
           }
          ],
          "histogram2d": [
           {
            "colorbar": {
             "outlinewidth": 0,
             "ticks": ""
            },
            "colorscale": [
             [
              0,
              "#0d0887"
             ],
             [
              0.1111111111111111,
              "#46039f"
             ],
             [
              0.2222222222222222,
              "#7201a8"
             ],
             [
              0.3333333333333333,
              "#9c179e"
             ],
             [
              0.4444444444444444,
              "#bd3786"
             ],
             [
              0.5555555555555556,
              "#d8576b"
             ],
             [
              0.6666666666666666,
              "#ed7953"
             ],
             [
              0.7777777777777778,
              "#fb9f3a"
             ],
             [
              0.8888888888888888,
              "#fdca26"
             ],
             [
              1,
              "#f0f921"
             ]
            ],
            "type": "histogram2d"
           }
          ],
          "histogram2dcontour": [
           {
            "colorbar": {
             "outlinewidth": 0,
             "ticks": ""
            },
            "colorscale": [
             [
              0,
              "#0d0887"
             ],
             [
              0.1111111111111111,
              "#46039f"
             ],
             [
              0.2222222222222222,
              "#7201a8"
             ],
             [
              0.3333333333333333,
              "#9c179e"
             ],
             [
              0.4444444444444444,
              "#bd3786"
             ],
             [
              0.5555555555555556,
              "#d8576b"
             ],
             [
              0.6666666666666666,
              "#ed7953"
             ],
             [
              0.7777777777777778,
              "#fb9f3a"
             ],
             [
              0.8888888888888888,
              "#fdca26"
             ],
             [
              1,
              "#f0f921"
             ]
            ],
            "type": "histogram2dcontour"
           }
          ],
          "mesh3d": [
           {
            "colorbar": {
             "outlinewidth": 0,
             "ticks": ""
            },
            "type": "mesh3d"
           }
          ],
          "parcoords": [
           {
            "line": {
             "colorbar": {
              "outlinewidth": 0,
              "ticks": ""
             }
            },
            "type": "parcoords"
           }
          ],
          "pie": [
           {
            "automargin": true,
            "type": "pie"
           }
          ],
          "scatter": [
           {
            "marker": {
             "colorbar": {
              "outlinewidth": 0,
              "ticks": ""
             }
            },
            "type": "scatter"
           }
          ],
          "scatter3d": [
           {
            "line": {
             "colorbar": {
              "outlinewidth": 0,
              "ticks": ""
             }
            },
            "marker": {
             "colorbar": {
              "outlinewidth": 0,
              "ticks": ""
             }
            },
            "type": "scatter3d"
           }
          ],
          "scattercarpet": [
           {
            "marker": {
             "colorbar": {
              "outlinewidth": 0,
              "ticks": ""
             }
            },
            "type": "scattercarpet"
           }
          ],
          "scattergeo": [
           {
            "marker": {
             "colorbar": {
              "outlinewidth": 0,
              "ticks": ""
             }
            },
            "type": "scattergeo"
           }
          ],
          "scattergl": [
           {
            "marker": {
             "colorbar": {
              "outlinewidth": 0,
              "ticks": ""
             }
            },
            "type": "scattergl"
           }
          ],
          "scattermapbox": [
           {
            "marker": {
             "colorbar": {
              "outlinewidth": 0,
              "ticks": ""
             }
            },
            "type": "scattermapbox"
           }
          ],
          "scatterpolar": [
           {
            "marker": {
             "colorbar": {
              "outlinewidth": 0,
              "ticks": ""
             }
            },
            "type": "scatterpolar"
           }
          ],
          "scatterpolargl": [
           {
            "marker": {
             "colorbar": {
              "outlinewidth": 0,
              "ticks": ""
             }
            },
            "type": "scatterpolargl"
           }
          ],
          "scatterternary": [
           {
            "marker": {
             "colorbar": {
              "outlinewidth": 0,
              "ticks": ""
             }
            },
            "type": "scatterternary"
           }
          ],
          "surface": [
           {
            "colorbar": {
             "outlinewidth": 0,
             "ticks": ""
            },
            "colorscale": [
             [
              0,
              "#0d0887"
             ],
             [
              0.1111111111111111,
              "#46039f"
             ],
             [
              0.2222222222222222,
              "#7201a8"
             ],
             [
              0.3333333333333333,
              "#9c179e"
             ],
             [
              0.4444444444444444,
              "#bd3786"
             ],
             [
              0.5555555555555556,
              "#d8576b"
             ],
             [
              0.6666666666666666,
              "#ed7953"
             ],
             [
              0.7777777777777778,
              "#fb9f3a"
             ],
             [
              0.8888888888888888,
              "#fdca26"
             ],
             [
              1,
              "#f0f921"
             ]
            ],
            "type": "surface"
           }
          ],
          "table": [
           {
            "cells": {
             "fill": {
              "color": "#EBF0F8"
             },
             "line": {
              "color": "white"
             }
            },
            "header": {
             "fill": {
              "color": "#C8D4E3"
             },
             "line": {
              "color": "white"
             }
            },
            "type": "table"
           }
          ]
         },
         "layout": {
          "annotationdefaults": {
           "arrowcolor": "#2a3f5f",
           "arrowhead": 0,
           "arrowwidth": 1
          },
          "coloraxis": {
           "colorbar": {
            "outlinewidth": 0,
            "ticks": ""
           }
          },
          "colorscale": {
           "diverging": [
            [
             0,
             "#8e0152"
            ],
            [
             0.1,
             "#c51b7d"
            ],
            [
             0.2,
             "#de77ae"
            ],
            [
             0.3,
             "#f1b6da"
            ],
            [
             0.4,
             "#fde0ef"
            ],
            [
             0.5,
             "#f7f7f7"
            ],
            [
             0.6,
             "#e6f5d0"
            ],
            [
             0.7,
             "#b8e186"
            ],
            [
             0.8,
             "#7fbc41"
            ],
            [
             0.9,
             "#4d9221"
            ],
            [
             1,
             "#276419"
            ]
           ],
           "sequential": [
            [
             0,
             "#0d0887"
            ],
            [
             0.1111111111111111,
             "#46039f"
            ],
            [
             0.2222222222222222,
             "#7201a8"
            ],
            [
             0.3333333333333333,
             "#9c179e"
            ],
            [
             0.4444444444444444,
             "#bd3786"
            ],
            [
             0.5555555555555556,
             "#d8576b"
            ],
            [
             0.6666666666666666,
             "#ed7953"
            ],
            [
             0.7777777777777778,
             "#fb9f3a"
            ],
            [
             0.8888888888888888,
             "#fdca26"
            ],
            [
             1,
             "#f0f921"
            ]
           ],
           "sequentialminus": [
            [
             0,
             "#0d0887"
            ],
            [
             0.1111111111111111,
             "#46039f"
            ],
            [
             0.2222222222222222,
             "#7201a8"
            ],
            [
             0.3333333333333333,
             "#9c179e"
            ],
            [
             0.4444444444444444,
             "#bd3786"
            ],
            [
             0.5555555555555556,
             "#d8576b"
            ],
            [
             0.6666666666666666,
             "#ed7953"
            ],
            [
             0.7777777777777778,
             "#fb9f3a"
            ],
            [
             0.8888888888888888,
             "#fdca26"
            ],
            [
             1,
             "#f0f921"
            ]
           ]
          },
          "colorway": [
           "#1f77b4",
           "#ff7f0e",
           "#2ca02c",
           "#dc3912",
           "#9467bd",
           "#8c564b",
           "#e377c2",
           "#7f7f7f",
           "#bcbd22",
           "#17becf"
          ],
          "font": {
           "color": "#2a3f5f"
          },
          "geo": {
           "bgcolor": "white",
           "lakecolor": "white",
           "landcolor": "#E5ECF6",
           "showlakes": true,
           "showland": true,
           "subunitcolor": "white"
          },
          "hoverlabel": {
           "align": "left"
          },
          "hovermode": "closest",
          "mapbox": {
           "style": "light"
          },
          "paper_bgcolor": "white",
          "plot_bgcolor": "#E5ECF6",
          "polar": {
           "angularaxis": {
            "gridcolor": "white",
            "linecolor": "white",
            "ticks": ""
           },
           "bgcolor": "#E5ECF6",
           "radialaxis": {
            "gridcolor": "white",
            "linecolor": "white",
            "ticks": ""
           }
          },
          "scene": {
           "xaxis": {
            "backgroundcolor": "#E5ECF6",
            "gridcolor": "white",
            "gridwidth": 2,
            "linecolor": "white",
            "showbackground": true,
            "ticks": "",
            "zerolinecolor": "white"
           },
           "yaxis": {
            "backgroundcolor": "#E5ECF6",
            "gridcolor": "white",
            "gridwidth": 2,
            "linecolor": "white",
            "showbackground": true,
            "ticks": "",
            "zerolinecolor": "white"
           },
           "zaxis": {
            "backgroundcolor": "#E5ECF6",
            "gridcolor": "white",
            "gridwidth": 2,
            "linecolor": "white",
            "showbackground": true,
            "ticks": "",
            "zerolinecolor": "white"
           }
          },
          "shapedefaults": {
           "line": {
            "color": "#2a3f5f"
           }
          },
          "ternary": {
           "aaxis": {
            "gridcolor": "white",
            "linecolor": "white",
            "ticks": ""
           },
           "baxis": {
            "gridcolor": "white",
            "linecolor": "white",
            "ticks": ""
           },
           "bgcolor": "#E5ECF6",
           "caxis": {
            "gridcolor": "white",
            "linecolor": "white",
            "ticks": ""
           }
          },
          "title": {
           "x": 0.05
          },
          "xaxis": {
           "automargin": true,
           "gridcolor": "white",
           "linecolor": "white",
           "ticks": "",
           "title": {
            "standoff": 15
           },
           "zerolinecolor": "white",
           "zerolinewidth": 2
          },
          "yaxis": {
           "automargin": true,
           "gridcolor": "white",
           "linecolor": "white",
           "ticks": "",
           "title": {
            "standoff": 15
           },
           "zerolinecolor": "white",
           "zerolinewidth": 2
          }
         }
        },
        "width": 700
       }
      },
      "text/html": [
       "<div>                            <div id=\"9a71cd7d-4885-49c9-ac19-5d9580048c3e\" class=\"plotly-graph-div\" style=\"height:350px; width:700px;\"></div>            <script type=\"text/javascript\">                require([\"plotly\"], function(Plotly) {                    window.PLOTLYENV=window.PLOTLYENV || {};                                    if (document.getElementById(\"9a71cd7d-4885-49c9-ac19-5d9580048c3e\")) {                    Plotly.newPlot(                        \"9a71cd7d-4885-49c9-ac19-5d9580048c3e\",                        [{\"line\": {\"color\": \"#1f77b4\"}, \"name\": \"MARA210416C00070000\", \"showlegend\": true, \"type\": \"scatter\", \"uid\": \"32b1d4f3-4b1e-421c-a9bf-db9f1526308e\", \"x\": [\"2021-01-04T00:00:00\", \"2021-01-05T00:00:00\", \"2021-01-06T00:00:00\", \"2021-01-07T00:00:00\", \"2021-01-08T00:00:00\", \"2021-01-11T00:00:00\", \"2021-01-12T00:00:00\", \"2021-01-13T00:00:00\", \"2021-01-14T00:00:00\", \"2021-01-15T00:00:00\", \"2021-01-19T00:00:00\", \"2021-01-20T00:00:00\", \"2021-01-21T00:00:00\", \"2021-01-22T00:00:00\", \"2021-01-25T00:00:00\", \"2021-01-26T00:00:00\", \"2021-01-27T00:00:00\", \"2021-01-28T00:00:00\", \"2021-01-29T00:00:00\", \"2021-02-01T00:00:00\", \"2021-02-02T00:00:00\", \"2021-02-03T00:00:00\", \"2021-02-04T00:00:00\", \"2021-02-05T00:00:00\", \"2021-02-08T00:00:00\", \"2021-02-09T00:00:00\", \"2021-02-10T00:00:00\", \"2021-02-11T00:00:00\", \"2021-02-12T00:00:00\", \"2021-02-16T00:00:00\", \"2021-02-17T00:00:00\", \"2021-02-18T00:00:00\", \"2021-02-19T00:00:00\", \"2021-02-22T00:00:00\", \"2021-02-23T00:00:00\", \"2021-02-24T00:00:00\", \"2021-02-25T00:00:00\", \"2021-02-26T00:00:00\", \"2021-03-01T00:00:00\", \"2021-03-02T00:00:00\", \"2021-03-03T00:00:00\", \"2021-03-04T00:00:00\", \"2021-03-05T00:00:00\", \"2021-03-08T00:00:00\", \"2021-03-09T00:00:00\", \"2021-03-10T00:00:00\", \"2021-03-11T00:00:00\", \"2021-03-12T00:00:00\", \"2021-03-15T00:00:00\", \"2021-03-16T00:00:00\", \"2021-03-17T00:00:00\", \"2021-03-18T00:00:00\", \"2021-03-19T00:00:00\", \"2021-03-22T00:00:00\", \"2021-03-23T00:00:00\", \"2021-03-24T00:00:00\", \"2021-03-25T00:00:00\", \"2021-03-26T00:00:00\", \"2021-03-29T00:00:00\", \"2021-03-30T00:00:00\", \"2021-03-31T00:00:00\", \"2021-04-01T00:00:00\", \"2021-04-05T00:00:00\", \"2021-04-06T00:00:00\", \"2021-04-07T00:00:00\", \"2021-04-08T00:00:00\", \"2021-04-09T00:00:00\", \"2021-04-12T00:00:00\", \"2021-04-13T00:00:00\", \"2021-04-14T00:00:00\", \"2021-04-15T00:00:00\", \"2021-04-16T00:00:00\", \"2021-04-19T00:00:00\", \"2021-04-20T00:00:00\", \"2021-04-21T00:00:00\", \"2021-04-22T00:00:00\", \"2021-04-23T00:00:00\", \"2021-04-26T00:00:00\", \"2021-04-27T00:00:00\", \"2021-04-28T00:00:00\", \"2021-04-29T00:00:00\", \"2021-04-30T00:00:00\", \"2021-05-03T00:00:00\", \"2021-05-04T00:00:00\", \"2021-05-05T00:00:00\", \"2021-05-06T00:00:00\", \"2021-05-07T00:00:00\", \"2021-05-10T00:00:00\", \"2021-05-11T00:00:00\", \"2021-05-12T00:00:00\", \"2021-05-13T00:00:00\", \"2021-05-14T00:00:00\", \"2021-05-17T00:00:00\", \"2021-05-18T00:00:00\", \"2021-05-19T00:00:00\", \"2021-05-20T00:00:00\", \"2021-05-21T00:00:00\", \"2021-05-24T00:00:00\", \"2021-05-25T00:00:00\", \"2021-05-26T00:00:00\", \"2021-05-27T00:00:00\", \"2021-05-28T00:00:00\", \"2021-06-01T00:00:00\", \"2021-06-02T00:00:00\", \"2021-06-03T00:00:00\", \"2021-06-04T00:00:00\", \"2021-06-07T00:00:00\", \"2021-06-08T00:00:00\", \"2021-06-09T00:00:00\", \"2021-06-10T00:00:00\", \"2021-06-11T00:00:00\"], \"y\": [3235.232, 3235.232, 3235.232, 3235.232, 3235.232, 3235.232, 3235.232, 3235.232, 3235.232, 3235.232, 3235.232, 3235.232, 3235.232, 3235.232, 3235.232, 3235.232, 3235.232, 3235.232, 3235.232, 3235.232, 3235.232, 3235.232, 3235.232, 3235.232, 3235.232, 3235.232, 3235.232, 3235.232, 3235.232, 3235.232, 3235.232, 3235.232, 3235.232, 3235.232, 3235.232, 3235.232, 3235.232, 3235.232, 3235.232, 3235.232, 3235.232, 3234.772, 3129.772, 3144.772, 3058.772, 3274.772, 3264.772, 3248.772, 3284.772, 3219.772, 3062.772, 3159.772, 3125.772, 3024.772, 2888.316, 2712.8419999999996, 2294.35, 3006.9179999999997, 3702.9179999999997, 3035.48, 3280.0, 6225.768, 6225.768, 6225.38, 5951.38, 5939.38, 5925.38, 5937.38, 5959.38, 5895.38, 5849.38, 5837.3820000000005, null, null, null, null, null, null, null, null, null, null, null, null, null, null, null, null, null, null, null, null, null, null, null, null, null, null, null, null, null, null, null, null, null, null, null, null, null, null, null]}, {\"customdata\": [[0]], \"hovertemplate\": \"Drawdown Id: %{customdata[0]}<br>Date: %{x}<br>Price: %{y}\", \"marker\": {\"color\": \"#4285F4\", \"line\": {\"color\": \"rgb(11,84,205)\", \"width\": 1}, \"size\": 7, \"symbol\": \"diamond\"}, \"mode\": \"markers\", \"name\": \"Peak\", \"type\": \"scatter\", \"uid\": \"6059e46a-bb4f-47b7-92ed-14a95bcd8461\", \"x\": [\"2021-03-03T00:00:00\"], \"y\": [3235.232]}, {\"customdata\": [[\"0\", \"-0.054543229048179556\", \"6 days 00:00:00\"], [\"1\", \"-0.007939484031254695\", \"2 days 00:00:00\"], [\"2\", \"-0.3015192530866678\", \"10 days 00:00:00\"], [\"3\", \"-0.18024649749197788\", \"1 days 00:00:00\"]], \"hovertemplate\": \"Drawdown Id: %{customdata[0]}<br>Date: %{x}<br>Price: %{y}<br>Drawdown: %{customdata[1]:.2%}<br>Duration: %{customdata[2]}\", \"marker\": {\"color\": \"#EA4335\", \"line\": {\"color\": \"rgb(181,31,18)\", \"width\": 1}, \"size\": 7, \"symbol\": \"diamond\"}, \"mode\": \"markers\", \"name\": \"Valley\", \"type\": \"scatter\", \"uid\": \"68e67a0d-83e9-4866-8f75-be01a80480c5\", \"x\": [\"2021-03-09T00:00:00\", \"2021-03-12T00:00:00\", \"2021-03-25T00:00:00\", \"2021-03-30T00:00:00\"], \"y\": [3058.772, 3248.772, 2294.35, 3035.48]}, {\"customdata\": [[\"0\", \"0.07061657423305824\", \"1 days 00:00:00\"], [\"1\", \"0.011081110031728911\", \"3 days 00:00:00\"], [\"2\", \"0.6139289994987687\", \"4 days 00:00:00\"], [\"3\", \"1.0509995124329596\", \"2 days 00:00:00\"]], \"hovertemplate\": \"Drawdown Id: %{customdata[0]}<br>Date: %{x}<br>Price: %{y}<br>Return: %{customdata[1]:.2%}<br>Duration: %{customdata[2]}\", \"marker\": {\"color\": \"#37B13F\", \"line\": {\"color\": \"rgb(38,123,44)\", \"width\": 1}, \"size\": 7, \"symbol\": \"diamond\"}, \"mode\": \"markers\", \"name\": \"Recovery/Peak\", \"type\": \"scatter\", \"uid\": \"bf0a145f-80dc-4731-80b1-539e8fe90778\", \"x\": [\"2021-03-10T00:00:00\", \"2021-03-15T00:00:00\", \"2021-03-29T00:00:00\", \"2021-04-01T00:00:00\"], \"y\": [3274.772, 3284.772, 3702.9179999999997, 6225.768]}],                        {\"height\": 350, \"legend\": {\"orientation\": \"h\", \"traceorder\": \"normal\", \"x\": 1, \"xanchor\": \"right\", \"y\": 1.02, \"yanchor\": \"bottom\"}, \"margin\": {\"b\": 30, \"l\": 30, \"r\": 30, \"t\": 30}, \"shapes\": [{\"fillcolor\": \"red\", \"layer\": \"below\", \"line\": {\"width\": 0}, \"opacity\": 0.2, \"type\": \"rect\", \"x0\": \"2021-03-03T00:00:00\", \"x1\": \"2021-03-09T00:00:00\", \"xref\": \"x\", \"y0\": 0, \"y1\": 1, \"yref\": \"paper\"}, {\"fillcolor\": \"red\", \"layer\": \"below\", \"line\": {\"width\": 0}, \"opacity\": 0.2, \"type\": \"rect\", \"x0\": \"2021-03-10T00:00:00\", \"x1\": \"2021-03-12T00:00:00\", \"xref\": \"x\", \"y0\": 0, \"y1\": 1, \"yref\": \"paper\"}, {\"fillcolor\": \"red\", \"layer\": \"below\", \"line\": {\"width\": 0}, \"opacity\": 0.2, \"type\": \"rect\", \"x0\": \"2021-03-15T00:00:00\", \"x1\": \"2021-03-25T00:00:00\", \"xref\": \"x\", \"y0\": 0, \"y1\": 1, \"yref\": \"paper\"}, {\"fillcolor\": \"red\", \"layer\": \"below\", \"line\": {\"width\": 0}, \"opacity\": 0.2, \"type\": \"rect\", \"x0\": \"2021-03-29T00:00:00\", \"x1\": \"2021-03-30T00:00:00\", \"xref\": \"x\", \"y0\": 0, \"y1\": 1, \"yref\": \"paper\"}, {\"fillcolor\": \"green\", \"layer\": \"below\", \"line\": {\"width\": 0}, \"opacity\": 0.2, \"type\": \"rect\", \"x0\": \"2021-03-09T00:00:00\", \"x1\": \"2021-03-10T00:00:00\", \"xref\": \"x\", \"y0\": 0, \"y1\": 1, \"yref\": \"paper\"}, {\"fillcolor\": \"green\", \"layer\": \"below\", \"line\": {\"width\": 0}, \"opacity\": 0.2, \"type\": \"rect\", \"x0\": \"2021-03-12T00:00:00\", \"x1\": \"2021-03-15T00:00:00\", \"xref\": \"x\", \"y0\": 0, \"y1\": 1, \"yref\": \"paper\"}, {\"fillcolor\": \"green\", \"layer\": \"below\", \"line\": {\"width\": 0}, \"opacity\": 0.2, \"type\": \"rect\", \"x0\": \"2021-03-25T00:00:00\", \"x1\": \"2021-03-29T00:00:00\", \"xref\": \"x\", \"y0\": 0, \"y1\": 1, \"yref\": \"paper\"}, {\"fillcolor\": \"green\", \"layer\": \"below\", \"line\": {\"width\": 0}, \"opacity\": 0.2, \"type\": \"rect\", \"x0\": \"2021-03-30T00:00:00\", \"x1\": \"2021-04-01T00:00:00\", \"xref\": \"x\", \"y0\": 0, \"y1\": 1, \"yref\": \"paper\"}], \"template\": {\"data\": {\"bar\": [{\"error_x\": {\"color\": \"#2a3f5f\"}, \"error_y\": {\"color\": \"#2a3f5f\"}, \"marker\": {\"line\": {\"color\": \"#E5ECF6\", \"width\": 0.5}}, \"type\": \"bar\"}], \"barpolar\": [{\"marker\": {\"line\": {\"color\": \"#E5ECF6\", \"width\": 0.5}}, \"type\": \"barpolar\"}], \"carpet\": [{\"aaxis\": {\"endlinecolor\": \"#2a3f5f\", \"gridcolor\": \"white\", \"linecolor\": \"white\", \"minorgridcolor\": \"white\", \"startlinecolor\": \"#2a3f5f\"}, \"baxis\": {\"endlinecolor\": \"#2a3f5f\", \"gridcolor\": \"white\", \"linecolor\": \"white\", \"minorgridcolor\": \"white\", \"startlinecolor\": \"#2a3f5f\"}, \"type\": \"carpet\"}], \"choropleth\": [{\"colorbar\": {\"outlinewidth\": 0, \"ticks\": \"\"}, \"type\": \"choropleth\"}], \"contour\": [{\"colorbar\": {\"outlinewidth\": 0, \"ticks\": \"\"}, \"colorscale\": [[0.0, \"#0d0887\"], [0.1111111111111111, \"#46039f\"], [0.2222222222222222, \"#7201a8\"], [0.3333333333333333, \"#9c179e\"], [0.4444444444444444, \"#bd3786\"], [0.5555555555555556, \"#d8576b\"], [0.6666666666666666, \"#ed7953\"], [0.7777777777777778, \"#fb9f3a\"], [0.8888888888888888, \"#fdca26\"], [1.0, \"#f0f921\"]], \"type\": \"contour\"}], \"contourcarpet\": [{\"colorbar\": {\"outlinewidth\": 0, \"ticks\": \"\"}, \"type\": \"contourcarpet\"}], \"heatmap\": [{\"colorbar\": {\"outlinewidth\": 0, \"ticks\": \"\"}, \"colorscale\": [[0.0, \"#0d0887\"], [0.1111111111111111, \"#46039f\"], [0.2222222222222222, \"#7201a8\"], [0.3333333333333333, \"#9c179e\"], [0.4444444444444444, \"#bd3786\"], [0.5555555555555556, \"#d8576b\"], [0.6666666666666666, \"#ed7953\"], [0.7777777777777778, \"#fb9f3a\"], [0.8888888888888888, \"#fdca26\"], [1.0, \"#f0f921\"]], \"type\": \"heatmap\"}], \"heatmapgl\": [{\"colorbar\": {\"outlinewidth\": 0, \"ticks\": \"\"}, \"colorscale\": [[0.0, \"#0d0887\"], [0.1111111111111111, \"#46039f\"], [0.2222222222222222, \"#7201a8\"], [0.3333333333333333, \"#9c179e\"], [0.4444444444444444, \"#bd3786\"], [0.5555555555555556, \"#d8576b\"], [0.6666666666666666, \"#ed7953\"], [0.7777777777777778, \"#fb9f3a\"], [0.8888888888888888, \"#fdca26\"], [1.0, \"#f0f921\"]], \"type\": \"heatmapgl\"}], \"histogram\": [{\"marker\": {\"colorbar\": {\"outlinewidth\": 0, \"ticks\": \"\"}}, \"type\": \"histogram\"}], \"histogram2d\": [{\"colorbar\": {\"outlinewidth\": 0, \"ticks\": \"\"}, \"colorscale\": [[0.0, \"#0d0887\"], [0.1111111111111111, \"#46039f\"], [0.2222222222222222, \"#7201a8\"], [0.3333333333333333, \"#9c179e\"], [0.4444444444444444, \"#bd3786\"], [0.5555555555555556, \"#d8576b\"], [0.6666666666666666, \"#ed7953\"], [0.7777777777777778, \"#fb9f3a\"], [0.8888888888888888, \"#fdca26\"], [1.0, \"#f0f921\"]], \"type\": \"histogram2d\"}], \"histogram2dcontour\": [{\"colorbar\": {\"outlinewidth\": 0, \"ticks\": \"\"}, \"colorscale\": [[0.0, \"#0d0887\"], [0.1111111111111111, \"#46039f\"], [0.2222222222222222, \"#7201a8\"], [0.3333333333333333, \"#9c179e\"], [0.4444444444444444, \"#bd3786\"], [0.5555555555555556, \"#d8576b\"], [0.6666666666666666, \"#ed7953\"], [0.7777777777777778, \"#fb9f3a\"], [0.8888888888888888, \"#fdca26\"], [1.0, \"#f0f921\"]], \"type\": \"histogram2dcontour\"}], \"mesh3d\": [{\"colorbar\": {\"outlinewidth\": 0, \"ticks\": \"\"}, \"type\": \"mesh3d\"}], \"parcoords\": [{\"line\": {\"colorbar\": {\"outlinewidth\": 0, \"ticks\": \"\"}}, \"type\": \"parcoords\"}], \"pie\": [{\"automargin\": true, \"type\": \"pie\"}], \"scatter\": [{\"marker\": {\"colorbar\": {\"outlinewidth\": 0, \"ticks\": \"\"}}, \"type\": \"scatter\"}], \"scatter3d\": [{\"line\": {\"colorbar\": {\"outlinewidth\": 0, \"ticks\": \"\"}}, \"marker\": {\"colorbar\": {\"outlinewidth\": 0, \"ticks\": \"\"}}, \"type\": \"scatter3d\"}], \"scattercarpet\": [{\"marker\": {\"colorbar\": {\"outlinewidth\": 0, \"ticks\": \"\"}}, \"type\": \"scattercarpet\"}], \"scattergeo\": [{\"marker\": {\"colorbar\": {\"outlinewidth\": 0, \"ticks\": \"\"}}, \"type\": \"scattergeo\"}], \"scattergl\": [{\"marker\": {\"colorbar\": {\"outlinewidth\": 0, \"ticks\": \"\"}}, \"type\": \"scattergl\"}], \"scattermapbox\": [{\"marker\": {\"colorbar\": {\"outlinewidth\": 0, \"ticks\": \"\"}}, \"type\": \"scattermapbox\"}], \"scatterpolar\": [{\"marker\": {\"colorbar\": {\"outlinewidth\": 0, \"ticks\": \"\"}}, \"type\": \"scatterpolar\"}], \"scatterpolargl\": [{\"marker\": {\"colorbar\": {\"outlinewidth\": 0, \"ticks\": \"\"}}, \"type\": \"scatterpolargl\"}], \"scatterternary\": [{\"marker\": {\"colorbar\": {\"outlinewidth\": 0, \"ticks\": \"\"}}, \"type\": \"scatterternary\"}], \"surface\": [{\"colorbar\": {\"outlinewidth\": 0, \"ticks\": \"\"}, \"colorscale\": [[0.0, \"#0d0887\"], [0.1111111111111111, \"#46039f\"], [0.2222222222222222, \"#7201a8\"], [0.3333333333333333, \"#9c179e\"], [0.4444444444444444, \"#bd3786\"], [0.5555555555555556, \"#d8576b\"], [0.6666666666666666, \"#ed7953\"], [0.7777777777777778, \"#fb9f3a\"], [0.8888888888888888, \"#fdca26\"], [1.0, \"#f0f921\"]], \"type\": \"surface\"}], \"table\": [{\"cells\": {\"fill\": {\"color\": \"#EBF0F8\"}, \"line\": {\"color\": \"white\"}}, \"header\": {\"fill\": {\"color\": \"#C8D4E3\"}, \"line\": {\"color\": \"white\"}}, \"type\": \"table\"}]}, \"layout\": {\"annotationdefaults\": {\"arrowcolor\": \"#2a3f5f\", \"arrowhead\": 0, \"arrowwidth\": 1}, \"coloraxis\": {\"colorbar\": {\"outlinewidth\": 0, \"ticks\": \"\"}}, \"colorscale\": {\"diverging\": [[0, \"#8e0152\"], [0.1, \"#c51b7d\"], [0.2, \"#de77ae\"], [0.3, \"#f1b6da\"], [0.4, \"#fde0ef\"], [0.5, \"#f7f7f7\"], [0.6, \"#e6f5d0\"], [0.7, \"#b8e186\"], [0.8, \"#7fbc41\"], [0.9, \"#4d9221\"], [1, \"#276419\"]], \"sequential\": [[0.0, \"#0d0887\"], [0.1111111111111111, \"#46039f\"], [0.2222222222222222, \"#7201a8\"], [0.3333333333333333, \"#9c179e\"], [0.4444444444444444, \"#bd3786\"], [0.5555555555555556, \"#d8576b\"], [0.6666666666666666, \"#ed7953\"], [0.7777777777777778, \"#fb9f3a\"], [0.8888888888888888, \"#fdca26\"], [1.0, \"#f0f921\"]], \"sequentialminus\": [[0.0, \"#0d0887\"], [0.1111111111111111, \"#46039f\"], [0.2222222222222222, \"#7201a8\"], [0.3333333333333333, \"#9c179e\"], [0.4444444444444444, \"#bd3786\"], [0.5555555555555556, \"#d8576b\"], [0.6666666666666666, \"#ed7953\"], [0.7777777777777778, \"#fb9f3a\"], [0.8888888888888888, \"#fdca26\"], [1.0, \"#f0f921\"]]}, \"colorway\": [\"#1f77b4\", \"#ff7f0e\", \"#2ca02c\", \"#dc3912\", \"#9467bd\", \"#8c564b\", \"#e377c2\", \"#7f7f7f\", \"#bcbd22\", \"#17becf\"], \"font\": {\"color\": \"#2a3f5f\"}, \"geo\": {\"bgcolor\": \"white\", \"lakecolor\": \"white\", \"landcolor\": \"#E5ECF6\", \"showlakes\": true, \"showland\": true, \"subunitcolor\": \"white\"}, \"hoverlabel\": {\"align\": \"left\"}, \"hovermode\": \"closest\", \"mapbox\": {\"style\": \"light\"}, \"paper_bgcolor\": \"white\", \"plot_bgcolor\": \"#E5ECF6\", \"polar\": {\"angularaxis\": {\"gridcolor\": \"white\", \"linecolor\": \"white\", \"ticks\": \"\"}, \"bgcolor\": \"#E5ECF6\", \"radialaxis\": {\"gridcolor\": \"white\", \"linecolor\": \"white\", \"ticks\": \"\"}}, \"scene\": {\"xaxis\": {\"backgroundcolor\": \"#E5ECF6\", \"gridcolor\": \"white\", \"gridwidth\": 2, \"linecolor\": \"white\", \"showbackground\": true, \"ticks\": \"\", \"zerolinecolor\": \"white\"}, \"yaxis\": {\"backgroundcolor\": \"#E5ECF6\", \"gridcolor\": \"white\", \"gridwidth\": 2, \"linecolor\": \"white\", \"showbackground\": true, \"ticks\": \"\", \"zerolinecolor\": \"white\"}, \"zaxis\": {\"backgroundcolor\": \"#E5ECF6\", \"gridcolor\": \"white\", \"gridwidth\": 2, \"linecolor\": \"white\", \"showbackground\": true, \"ticks\": \"\", \"zerolinecolor\": \"white\"}}, \"shapedefaults\": {\"line\": {\"color\": \"#2a3f5f\"}}, \"ternary\": {\"aaxis\": {\"gridcolor\": \"white\", \"linecolor\": \"white\", \"ticks\": \"\"}, \"baxis\": {\"gridcolor\": \"white\", \"linecolor\": \"white\", \"ticks\": \"\"}, \"bgcolor\": \"#E5ECF6\", \"caxis\": {\"gridcolor\": \"white\", \"linecolor\": \"white\", \"ticks\": \"\"}}, \"title\": {\"x\": 0.05}, \"xaxis\": {\"automargin\": true, \"gridcolor\": \"white\", \"linecolor\": \"white\", \"ticks\": \"\", \"title\": {\"standoff\": 15}, \"zerolinecolor\": \"white\", \"zerolinewidth\": 2}, \"yaxis\": {\"automargin\": true, \"gridcolor\": \"white\", \"linecolor\": \"white\", \"ticks\": \"\", \"title\": {\"standoff\": 15}, \"zerolinecolor\": \"white\", \"zerolinewidth\": 2}}}, \"width\": 700},                        {\"responsive\": true}                    ).then(function(){\n",
       "                            \n",
       "var gd = document.getElementById('9a71cd7d-4885-49c9-ac19-5d9580048c3e');\n",
       "var x = new MutationObserver(function (mutations, observer) {{\n",
       "        var display = window.getComputedStyle(gd).display;\n",
       "        if (!display || display === 'none') {{\n",
       "            console.log([gd, 'removed!']);\n",
       "            Plotly.purge(gd);\n",
       "            observer.disconnect();\n",
       "        }}\n",
       "}});\n",
       "\n",
       "// Listen for the removal of the full notebook cells\n",
       "var notebookContainer = gd.closest('#notebook-container');\n",
       "if (notebookContainer) {{\n",
       "    x.observe(notebookContainer, {childList: true});\n",
       "}}\n",
       "\n",
       "// Listen for the clearing of the current output cell\n",
       "var outputEl = gd.closest('.output');\n",
       "if (outputEl) {{\n",
       "    x.observe(outputEl, {childList: true});\n",
       "}}\n",
       "\n",
       "                        })                };                });            </script>        </div>"
      ]
     },
     "metadata": {},
     "output_type": "display_data"
    },
    {
     "data": {
      "application/vnd.plotly.v1+json": {
       "config": {
        "plotlyServerURL": "https://plot.ly"
       },
       "data": [
        {
         "line": {
          "color": "#1f77b4"
         },
         "name": "MARA210416C00070000",
         "showlegend": true,
         "type": "scatter",
         "uid": "dd5a5fac-0ceb-43fd-9a71-a8897612efd6",
         "x": [
          "2021-01-04T00:00:00",
          "2021-01-05T00:00:00",
          "2021-01-06T00:00:00",
          "2021-01-07T00:00:00",
          "2021-01-08T00:00:00",
          "2021-01-11T00:00:00",
          "2021-01-12T00:00:00",
          "2021-01-13T00:00:00",
          "2021-01-14T00:00:00",
          "2021-01-15T00:00:00",
          "2021-01-19T00:00:00",
          "2021-01-20T00:00:00",
          "2021-01-21T00:00:00",
          "2021-01-22T00:00:00",
          "2021-01-25T00:00:00",
          "2021-01-26T00:00:00",
          "2021-01-27T00:00:00",
          "2021-01-28T00:00:00",
          "2021-01-29T00:00:00",
          "2021-02-01T00:00:00",
          "2021-02-02T00:00:00",
          "2021-02-03T00:00:00",
          "2021-02-04T00:00:00",
          "2021-02-05T00:00:00",
          "2021-02-08T00:00:00",
          "2021-02-09T00:00:00",
          "2021-02-10T00:00:00",
          "2021-02-11T00:00:00",
          "2021-02-12T00:00:00",
          "2021-02-16T00:00:00",
          "2021-02-17T00:00:00",
          "2021-02-18T00:00:00",
          "2021-02-19T00:00:00",
          "2021-02-22T00:00:00",
          "2021-02-23T00:00:00",
          "2021-02-24T00:00:00",
          "2021-02-25T00:00:00",
          "2021-02-26T00:00:00",
          "2021-03-01T00:00:00",
          "2021-03-02T00:00:00",
          "2021-03-03T00:00:00",
          "2021-03-04T00:00:00",
          "2021-03-05T00:00:00",
          "2021-03-08T00:00:00",
          "2021-03-09T00:00:00",
          "2021-03-10T00:00:00",
          "2021-03-11T00:00:00",
          "2021-03-12T00:00:00",
          "2021-03-15T00:00:00",
          "2021-03-16T00:00:00",
          "2021-03-17T00:00:00",
          "2021-03-18T00:00:00",
          "2021-03-19T00:00:00",
          "2021-03-22T00:00:00",
          "2021-03-23T00:00:00",
          "2021-03-24T00:00:00",
          "2021-03-25T00:00:00",
          "2021-03-26T00:00:00",
          "2021-03-29T00:00:00",
          "2021-03-30T00:00:00",
          "2021-03-31T00:00:00",
          "2021-04-01T00:00:00",
          "2021-04-05T00:00:00",
          "2021-04-06T00:00:00",
          "2021-04-07T00:00:00",
          "2021-04-08T00:00:00",
          "2021-04-09T00:00:00",
          "2021-04-12T00:00:00",
          "2021-04-13T00:00:00",
          "2021-04-14T00:00:00",
          "2021-04-15T00:00:00",
          "2021-04-16T00:00:00",
          "2021-04-19T00:00:00",
          "2021-04-20T00:00:00",
          "2021-04-21T00:00:00",
          "2021-04-22T00:00:00",
          "2021-04-23T00:00:00",
          "2021-04-26T00:00:00",
          "2021-04-27T00:00:00",
          "2021-04-28T00:00:00",
          "2021-04-29T00:00:00",
          "2021-04-30T00:00:00",
          "2021-05-03T00:00:00",
          "2021-05-04T00:00:00",
          "2021-05-05T00:00:00",
          "2021-05-06T00:00:00",
          "2021-05-07T00:00:00",
          "2021-05-10T00:00:00",
          "2021-05-11T00:00:00",
          "2021-05-12T00:00:00",
          "2021-05-13T00:00:00",
          "2021-05-14T00:00:00",
          "2021-05-17T00:00:00",
          "2021-05-18T00:00:00",
          "2021-05-19T00:00:00",
          "2021-05-20T00:00:00",
          "2021-05-21T00:00:00",
          "2021-05-24T00:00:00",
          "2021-05-25T00:00:00",
          "2021-05-26T00:00:00",
          "2021-05-27T00:00:00",
          "2021-05-28T00:00:00",
          "2021-06-01T00:00:00",
          "2021-06-02T00:00:00",
          "2021-06-03T00:00:00",
          "2021-06-04T00:00:00",
          "2021-06-07T00:00:00",
          "2021-06-08T00:00:00",
          "2021-06-09T00:00:00",
          "2021-06-10T00:00:00",
          "2021-06-11T00:00:00"
         ],
         "y": [
          null,
          null,
          null,
          null,
          null,
          null,
          null,
          null,
          null,
          null,
          null,
          null,
          null,
          null,
          null,
          null,
          null,
          null,
          null,
          null,
          null,
          null,
          null,
          null,
          null,
          null,
          null,
          null,
          null,
          null,
          null,
          12,
          11.5,
          6.25,
          4.3,
          4.55,
          6,
          3.65,
          6.35,
          6.5,
          5.55,
          4.6,
          3.55,
          3.7,
          2.84,
          5,
          4.9,
          4.74,
          5.1,
          4.45,
          2.88,
          3.85,
          3.51,
          2.5,
          1.14,
          0.79,
          0.41,
          0.72,
          0.96,
          0.73,
          0.8,
          1.52,
          1.23,
          1.94,
          0.57,
          0.51,
          0.44,
          0.5,
          0.61,
          0.29,
          0.06,
          1e-05,
          null,
          null,
          null,
          null,
          null,
          null,
          null,
          null,
          null,
          null,
          null,
          null,
          null,
          null,
          null,
          null,
          null,
          null,
          null,
          null,
          null,
          null,
          null,
          null,
          null,
          null,
          null,
          null,
          null,
          null,
          null,
          null,
          null,
          null,
          null,
          null,
          null,
          null,
          null
         ]
        },
        {
         "customdata": [
          [
           114,
           100,
           0.45999999999999996
          ],
          [
           115,
           400,
           0.45599999999999996
          ],
          [
           116,
           600,
           0.47400000000000003
          ],
          [
           117,
           1200,
           0.49199999999999994
          ],
          [
           118,
           600,
           0.432
          ],
          [
           119,
           600,
           0.438
          ],
          [
           120,
           600,
           0.48
          ],
          [
           122,
           200,
           0.388
          ]
         ],
         "hovertemplate": "Order Id: %{customdata[0]}<br>Date: %{x}<br>Price: %{y}<br>Size: %{customdata[1]:.6f}<br>Fees: %{customdata[2]:.6f}",
         "marker": {
          "color": "#37B13F",
          "line": {
           "color": "rgb(38,123,44)",
           "width": 1
          },
          "size": 8,
          "symbol": "triangle-up"
         },
         "mode": "markers",
         "name": "Buy",
         "type": "scatter",
         "uid": "3915cc7f-a167-45c4-9471-81909d3c2902",
         "x": [
          "2021-03-04T00:00:00",
          "2021-03-23T00:00:00",
          "2021-03-24T00:00:00",
          "2021-03-25T00:00:00",
          "2021-03-26T00:00:00",
          "2021-03-30T00:00:00",
          "2021-03-31T00:00:00",
          "2021-04-06T00:00:00"
         ],
         "y": [
          4.6,
          1.14,
          0.79,
          0.41,
          0.72,
          0.73,
          0.8,
          1.94
         ]
        },
        {
         "customdata": [
          [
           121,
           4100,
           6.232
          ]
         ],
         "hovertemplate": "Order Id: %{customdata[0]}<br>Date: %{x}<br>Price: %{y}<br>Size: %{customdata[1]:.6f}<br>Fees: %{customdata[2]:.6f}",
         "marker": {
          "color": "#EA4335",
          "line": {
           "color": "rgb(181,31,18)",
           "width": 1
          },
          "size": 8,
          "symbol": "triangle-down"
         },
         "mode": "markers",
         "name": "Sell",
         "type": "scatter",
         "uid": "750caf7a-25eb-4fba-9e05-eb041a995a8b",
         "x": [
          "2021-04-01T00:00:00"
         ],
         "y": [
          1.52
         ]
        }
       ],
       "layout": {
        "height": 350,
        "legend": {
         "orientation": "h",
         "traceorder": "normal",
         "x": 1,
         "xanchor": "right",
         "y": 1.02,
         "yanchor": "bottom"
        },
        "margin": {
         "b": 30,
         "l": 30,
         "r": 30,
         "t": 30
        },
        "template": {
         "data": {
          "bar": [
           {
            "error_x": {
             "color": "#2a3f5f"
            },
            "error_y": {
             "color": "#2a3f5f"
            },
            "marker": {
             "line": {
              "color": "#E5ECF6",
              "width": 0.5
             }
            },
            "type": "bar"
           }
          ],
          "barpolar": [
           {
            "marker": {
             "line": {
              "color": "#E5ECF6",
              "width": 0.5
             }
            },
            "type": "barpolar"
           }
          ],
          "carpet": [
           {
            "aaxis": {
             "endlinecolor": "#2a3f5f",
             "gridcolor": "white",
             "linecolor": "white",
             "minorgridcolor": "white",
             "startlinecolor": "#2a3f5f"
            },
            "baxis": {
             "endlinecolor": "#2a3f5f",
             "gridcolor": "white",
             "linecolor": "white",
             "minorgridcolor": "white",
             "startlinecolor": "#2a3f5f"
            },
            "type": "carpet"
           }
          ],
          "choropleth": [
           {
            "colorbar": {
             "outlinewidth": 0,
             "ticks": ""
            },
            "type": "choropleth"
           }
          ],
          "contour": [
           {
            "colorbar": {
             "outlinewidth": 0,
             "ticks": ""
            },
            "colorscale": [
             [
              0,
              "#0d0887"
             ],
             [
              0.1111111111111111,
              "#46039f"
             ],
             [
              0.2222222222222222,
              "#7201a8"
             ],
             [
              0.3333333333333333,
              "#9c179e"
             ],
             [
              0.4444444444444444,
              "#bd3786"
             ],
             [
              0.5555555555555556,
              "#d8576b"
             ],
             [
              0.6666666666666666,
              "#ed7953"
             ],
             [
              0.7777777777777778,
              "#fb9f3a"
             ],
             [
              0.8888888888888888,
              "#fdca26"
             ],
             [
              1,
              "#f0f921"
             ]
            ],
            "type": "contour"
           }
          ],
          "contourcarpet": [
           {
            "colorbar": {
             "outlinewidth": 0,
             "ticks": ""
            },
            "type": "contourcarpet"
           }
          ],
          "heatmap": [
           {
            "colorbar": {
             "outlinewidth": 0,
             "ticks": ""
            },
            "colorscale": [
             [
              0,
              "#0d0887"
             ],
             [
              0.1111111111111111,
              "#46039f"
             ],
             [
              0.2222222222222222,
              "#7201a8"
             ],
             [
              0.3333333333333333,
              "#9c179e"
             ],
             [
              0.4444444444444444,
              "#bd3786"
             ],
             [
              0.5555555555555556,
              "#d8576b"
             ],
             [
              0.6666666666666666,
              "#ed7953"
             ],
             [
              0.7777777777777778,
              "#fb9f3a"
             ],
             [
              0.8888888888888888,
              "#fdca26"
             ],
             [
              1,
              "#f0f921"
             ]
            ],
            "type": "heatmap"
           }
          ],
          "heatmapgl": [
           {
            "colorbar": {
             "outlinewidth": 0,
             "ticks": ""
            },
            "colorscale": [
             [
              0,
              "#0d0887"
             ],
             [
              0.1111111111111111,
              "#46039f"
             ],
             [
              0.2222222222222222,
              "#7201a8"
             ],
             [
              0.3333333333333333,
              "#9c179e"
             ],
             [
              0.4444444444444444,
              "#bd3786"
             ],
             [
              0.5555555555555556,
              "#d8576b"
             ],
             [
              0.6666666666666666,
              "#ed7953"
             ],
             [
              0.7777777777777778,
              "#fb9f3a"
             ],
             [
              0.8888888888888888,
              "#fdca26"
             ],
             [
              1,
              "#f0f921"
             ]
            ],
            "type": "heatmapgl"
           }
          ],
          "histogram": [
           {
            "marker": {
             "colorbar": {
              "outlinewidth": 0,
              "ticks": ""
             }
            },
            "type": "histogram"
           }
          ],
          "histogram2d": [
           {
            "colorbar": {
             "outlinewidth": 0,
             "ticks": ""
            },
            "colorscale": [
             [
              0,
              "#0d0887"
             ],
             [
              0.1111111111111111,
              "#46039f"
             ],
             [
              0.2222222222222222,
              "#7201a8"
             ],
             [
              0.3333333333333333,
              "#9c179e"
             ],
             [
              0.4444444444444444,
              "#bd3786"
             ],
             [
              0.5555555555555556,
              "#d8576b"
             ],
             [
              0.6666666666666666,
              "#ed7953"
             ],
             [
              0.7777777777777778,
              "#fb9f3a"
             ],
             [
              0.8888888888888888,
              "#fdca26"
             ],
             [
              1,
              "#f0f921"
             ]
            ],
            "type": "histogram2d"
           }
          ],
          "histogram2dcontour": [
           {
            "colorbar": {
             "outlinewidth": 0,
             "ticks": ""
            },
            "colorscale": [
             [
              0,
              "#0d0887"
             ],
             [
              0.1111111111111111,
              "#46039f"
             ],
             [
              0.2222222222222222,
              "#7201a8"
             ],
             [
              0.3333333333333333,
              "#9c179e"
             ],
             [
              0.4444444444444444,
              "#bd3786"
             ],
             [
              0.5555555555555556,
              "#d8576b"
             ],
             [
              0.6666666666666666,
              "#ed7953"
             ],
             [
              0.7777777777777778,
              "#fb9f3a"
             ],
             [
              0.8888888888888888,
              "#fdca26"
             ],
             [
              1,
              "#f0f921"
             ]
            ],
            "type": "histogram2dcontour"
           }
          ],
          "mesh3d": [
           {
            "colorbar": {
             "outlinewidth": 0,
             "ticks": ""
            },
            "type": "mesh3d"
           }
          ],
          "parcoords": [
           {
            "line": {
             "colorbar": {
              "outlinewidth": 0,
              "ticks": ""
             }
            },
            "type": "parcoords"
           }
          ],
          "pie": [
           {
            "automargin": true,
            "type": "pie"
           }
          ],
          "scatter": [
           {
            "marker": {
             "colorbar": {
              "outlinewidth": 0,
              "ticks": ""
             }
            },
            "type": "scatter"
           }
          ],
          "scatter3d": [
           {
            "line": {
             "colorbar": {
              "outlinewidth": 0,
              "ticks": ""
             }
            },
            "marker": {
             "colorbar": {
              "outlinewidth": 0,
              "ticks": ""
             }
            },
            "type": "scatter3d"
           }
          ],
          "scattercarpet": [
           {
            "marker": {
             "colorbar": {
              "outlinewidth": 0,
              "ticks": ""
             }
            },
            "type": "scattercarpet"
           }
          ],
          "scattergeo": [
           {
            "marker": {
             "colorbar": {
              "outlinewidth": 0,
              "ticks": ""
             }
            },
            "type": "scattergeo"
           }
          ],
          "scattergl": [
           {
            "marker": {
             "colorbar": {
              "outlinewidth": 0,
              "ticks": ""
             }
            },
            "type": "scattergl"
           }
          ],
          "scattermapbox": [
           {
            "marker": {
             "colorbar": {
              "outlinewidth": 0,
              "ticks": ""
             }
            },
            "type": "scattermapbox"
           }
          ],
          "scatterpolar": [
           {
            "marker": {
             "colorbar": {
              "outlinewidth": 0,
              "ticks": ""
             }
            },
            "type": "scatterpolar"
           }
          ],
          "scatterpolargl": [
           {
            "marker": {
             "colorbar": {
              "outlinewidth": 0,
              "ticks": ""
             }
            },
            "type": "scatterpolargl"
           }
          ],
          "scatterternary": [
           {
            "marker": {
             "colorbar": {
              "outlinewidth": 0,
              "ticks": ""
             }
            },
            "type": "scatterternary"
           }
          ],
          "surface": [
           {
            "colorbar": {
             "outlinewidth": 0,
             "ticks": ""
            },
            "colorscale": [
             [
              0,
              "#0d0887"
             ],
             [
              0.1111111111111111,
              "#46039f"
             ],
             [
              0.2222222222222222,
              "#7201a8"
             ],
             [
              0.3333333333333333,
              "#9c179e"
             ],
             [
              0.4444444444444444,
              "#bd3786"
             ],
             [
              0.5555555555555556,
              "#d8576b"
             ],
             [
              0.6666666666666666,
              "#ed7953"
             ],
             [
              0.7777777777777778,
              "#fb9f3a"
             ],
             [
              0.8888888888888888,
              "#fdca26"
             ],
             [
              1,
              "#f0f921"
             ]
            ],
            "type": "surface"
           }
          ],
          "table": [
           {
            "cells": {
             "fill": {
              "color": "#EBF0F8"
             },
             "line": {
              "color": "white"
             }
            },
            "header": {
             "fill": {
              "color": "#C8D4E3"
             },
             "line": {
              "color": "white"
             }
            },
            "type": "table"
           }
          ]
         },
         "layout": {
          "annotationdefaults": {
           "arrowcolor": "#2a3f5f",
           "arrowhead": 0,
           "arrowwidth": 1
          },
          "coloraxis": {
           "colorbar": {
            "outlinewidth": 0,
            "ticks": ""
           }
          },
          "colorscale": {
           "diverging": [
            [
             0,
             "#8e0152"
            ],
            [
             0.1,
             "#c51b7d"
            ],
            [
             0.2,
             "#de77ae"
            ],
            [
             0.3,
             "#f1b6da"
            ],
            [
             0.4,
             "#fde0ef"
            ],
            [
             0.5,
             "#f7f7f7"
            ],
            [
             0.6,
             "#e6f5d0"
            ],
            [
             0.7,
             "#b8e186"
            ],
            [
             0.8,
             "#7fbc41"
            ],
            [
             0.9,
             "#4d9221"
            ],
            [
             1,
             "#276419"
            ]
           ],
           "sequential": [
            [
             0,
             "#0d0887"
            ],
            [
             0.1111111111111111,
             "#46039f"
            ],
            [
             0.2222222222222222,
             "#7201a8"
            ],
            [
             0.3333333333333333,
             "#9c179e"
            ],
            [
             0.4444444444444444,
             "#bd3786"
            ],
            [
             0.5555555555555556,
             "#d8576b"
            ],
            [
             0.6666666666666666,
             "#ed7953"
            ],
            [
             0.7777777777777778,
             "#fb9f3a"
            ],
            [
             0.8888888888888888,
             "#fdca26"
            ],
            [
             1,
             "#f0f921"
            ]
           ],
           "sequentialminus": [
            [
             0,
             "#0d0887"
            ],
            [
             0.1111111111111111,
             "#46039f"
            ],
            [
             0.2222222222222222,
             "#7201a8"
            ],
            [
             0.3333333333333333,
             "#9c179e"
            ],
            [
             0.4444444444444444,
             "#bd3786"
            ],
            [
             0.5555555555555556,
             "#d8576b"
            ],
            [
             0.6666666666666666,
             "#ed7953"
            ],
            [
             0.7777777777777778,
             "#fb9f3a"
            ],
            [
             0.8888888888888888,
             "#fdca26"
            ],
            [
             1,
             "#f0f921"
            ]
           ]
          },
          "colorway": [
           "#1f77b4",
           "#ff7f0e",
           "#2ca02c",
           "#dc3912",
           "#9467bd",
           "#8c564b",
           "#e377c2",
           "#7f7f7f",
           "#bcbd22",
           "#17becf"
          ],
          "font": {
           "color": "#2a3f5f"
          },
          "geo": {
           "bgcolor": "white",
           "lakecolor": "white",
           "landcolor": "#E5ECF6",
           "showlakes": true,
           "showland": true,
           "subunitcolor": "white"
          },
          "hoverlabel": {
           "align": "left"
          },
          "hovermode": "closest",
          "mapbox": {
           "style": "light"
          },
          "paper_bgcolor": "white",
          "plot_bgcolor": "#E5ECF6",
          "polar": {
           "angularaxis": {
            "gridcolor": "white",
            "linecolor": "white",
            "ticks": ""
           },
           "bgcolor": "#E5ECF6",
           "radialaxis": {
            "gridcolor": "white",
            "linecolor": "white",
            "ticks": ""
           }
          },
          "scene": {
           "xaxis": {
            "backgroundcolor": "#E5ECF6",
            "gridcolor": "white",
            "gridwidth": 2,
            "linecolor": "white",
            "showbackground": true,
            "ticks": "",
            "zerolinecolor": "white"
           },
           "yaxis": {
            "backgroundcolor": "#E5ECF6",
            "gridcolor": "white",
            "gridwidth": 2,
            "linecolor": "white",
            "showbackground": true,
            "ticks": "",
            "zerolinecolor": "white"
           },
           "zaxis": {
            "backgroundcolor": "#E5ECF6",
            "gridcolor": "white",
            "gridwidth": 2,
            "linecolor": "white",
            "showbackground": true,
            "ticks": "",
            "zerolinecolor": "white"
           }
          },
          "shapedefaults": {
           "line": {
            "color": "#2a3f5f"
           }
          },
          "ternary": {
           "aaxis": {
            "gridcolor": "white",
            "linecolor": "white",
            "ticks": ""
           },
           "baxis": {
            "gridcolor": "white",
            "linecolor": "white",
            "ticks": ""
           },
           "bgcolor": "#E5ECF6",
           "caxis": {
            "gridcolor": "white",
            "linecolor": "white",
            "ticks": ""
           }
          },
          "title": {
           "x": 0.05
          },
          "xaxis": {
           "automargin": true,
           "gridcolor": "white",
           "linecolor": "white",
           "ticks": "",
           "title": {
            "standoff": 15
           },
           "zerolinecolor": "white",
           "zerolinewidth": 2
          },
          "yaxis": {
           "automargin": true,
           "gridcolor": "white",
           "linecolor": "white",
           "ticks": "",
           "title": {
            "standoff": 15
           },
           "zerolinecolor": "white",
           "zerolinewidth": 2
          }
         }
        },
        "width": 700
       }
      },
      "text/html": [
       "<div>                            <div id=\"e3ae5c73-5fa9-41c3-94a0-c90217e62780\" class=\"plotly-graph-div\" style=\"height:350px; width:700px;\"></div>            <script type=\"text/javascript\">                require([\"plotly\"], function(Plotly) {                    window.PLOTLYENV=window.PLOTLYENV || {};                                    if (document.getElementById(\"e3ae5c73-5fa9-41c3-94a0-c90217e62780\")) {                    Plotly.newPlot(                        \"e3ae5c73-5fa9-41c3-94a0-c90217e62780\",                        [{\"line\": {\"color\": \"#1f77b4\"}, \"name\": \"MARA210416C00070000\", \"showlegend\": true, \"type\": \"scatter\", \"uid\": \"dd5a5fac-0ceb-43fd-9a71-a8897612efd6\", \"x\": [\"2021-01-04T00:00:00\", \"2021-01-05T00:00:00\", \"2021-01-06T00:00:00\", \"2021-01-07T00:00:00\", \"2021-01-08T00:00:00\", \"2021-01-11T00:00:00\", \"2021-01-12T00:00:00\", \"2021-01-13T00:00:00\", \"2021-01-14T00:00:00\", \"2021-01-15T00:00:00\", \"2021-01-19T00:00:00\", \"2021-01-20T00:00:00\", \"2021-01-21T00:00:00\", \"2021-01-22T00:00:00\", \"2021-01-25T00:00:00\", \"2021-01-26T00:00:00\", \"2021-01-27T00:00:00\", \"2021-01-28T00:00:00\", \"2021-01-29T00:00:00\", \"2021-02-01T00:00:00\", \"2021-02-02T00:00:00\", \"2021-02-03T00:00:00\", \"2021-02-04T00:00:00\", \"2021-02-05T00:00:00\", \"2021-02-08T00:00:00\", \"2021-02-09T00:00:00\", \"2021-02-10T00:00:00\", \"2021-02-11T00:00:00\", \"2021-02-12T00:00:00\", \"2021-02-16T00:00:00\", \"2021-02-17T00:00:00\", \"2021-02-18T00:00:00\", \"2021-02-19T00:00:00\", \"2021-02-22T00:00:00\", \"2021-02-23T00:00:00\", \"2021-02-24T00:00:00\", \"2021-02-25T00:00:00\", \"2021-02-26T00:00:00\", \"2021-03-01T00:00:00\", \"2021-03-02T00:00:00\", \"2021-03-03T00:00:00\", \"2021-03-04T00:00:00\", \"2021-03-05T00:00:00\", \"2021-03-08T00:00:00\", \"2021-03-09T00:00:00\", \"2021-03-10T00:00:00\", \"2021-03-11T00:00:00\", \"2021-03-12T00:00:00\", \"2021-03-15T00:00:00\", \"2021-03-16T00:00:00\", \"2021-03-17T00:00:00\", \"2021-03-18T00:00:00\", \"2021-03-19T00:00:00\", \"2021-03-22T00:00:00\", \"2021-03-23T00:00:00\", \"2021-03-24T00:00:00\", \"2021-03-25T00:00:00\", \"2021-03-26T00:00:00\", \"2021-03-29T00:00:00\", \"2021-03-30T00:00:00\", \"2021-03-31T00:00:00\", \"2021-04-01T00:00:00\", \"2021-04-05T00:00:00\", \"2021-04-06T00:00:00\", \"2021-04-07T00:00:00\", \"2021-04-08T00:00:00\", \"2021-04-09T00:00:00\", \"2021-04-12T00:00:00\", \"2021-04-13T00:00:00\", \"2021-04-14T00:00:00\", \"2021-04-15T00:00:00\", \"2021-04-16T00:00:00\", \"2021-04-19T00:00:00\", \"2021-04-20T00:00:00\", \"2021-04-21T00:00:00\", \"2021-04-22T00:00:00\", \"2021-04-23T00:00:00\", \"2021-04-26T00:00:00\", \"2021-04-27T00:00:00\", \"2021-04-28T00:00:00\", \"2021-04-29T00:00:00\", \"2021-04-30T00:00:00\", \"2021-05-03T00:00:00\", \"2021-05-04T00:00:00\", \"2021-05-05T00:00:00\", \"2021-05-06T00:00:00\", \"2021-05-07T00:00:00\", \"2021-05-10T00:00:00\", \"2021-05-11T00:00:00\", \"2021-05-12T00:00:00\", \"2021-05-13T00:00:00\", \"2021-05-14T00:00:00\", \"2021-05-17T00:00:00\", \"2021-05-18T00:00:00\", \"2021-05-19T00:00:00\", \"2021-05-20T00:00:00\", \"2021-05-21T00:00:00\", \"2021-05-24T00:00:00\", \"2021-05-25T00:00:00\", \"2021-05-26T00:00:00\", \"2021-05-27T00:00:00\", \"2021-05-28T00:00:00\", \"2021-06-01T00:00:00\", \"2021-06-02T00:00:00\", \"2021-06-03T00:00:00\", \"2021-06-04T00:00:00\", \"2021-06-07T00:00:00\", \"2021-06-08T00:00:00\", \"2021-06-09T00:00:00\", \"2021-06-10T00:00:00\", \"2021-06-11T00:00:00\"], \"y\": [null, null, null, null, null, null, null, null, null, null, null, null, null, null, null, null, null, null, null, null, null, null, null, null, null, null, null, null, null, null, null, 12.0, 11.5, 6.25, 4.3, 4.55, 6.0, 3.65, 6.35, 6.5, 5.55, 4.6, 3.55, 3.7, 2.84, 5.0, 4.9, 4.74, 5.1, 4.45, 2.88, 3.85, 3.51, 2.5, 1.14, 0.79, 0.41, 0.72, 0.96, 0.73, 0.8, 1.52, 1.23, 1.94, 0.57, 0.51, 0.44, 0.5, 0.61, 0.29, 0.06, 1e-05, null, null, null, null, null, null, null, null, null, null, null, null, null, null, null, null, null, null, null, null, null, null, null, null, null, null, null, null, null, null, null, null, null, null, null, null, null, null, null]}, {\"customdata\": [[114.0, 100.0, 0.45999999999999996], [115.0, 400.0, 0.45599999999999996], [116.0, 600.0, 0.47400000000000003], [117.0, 1200.0, 0.49199999999999994], [118.0, 600.0, 0.432], [119.0, 600.0, 0.438], [120.0, 600.0, 0.48], [122.0, 200.0, 0.388]], \"hovertemplate\": \"Order Id: %{customdata[0]}<br>Date: %{x}<br>Price: %{y}<br>Size: %{customdata[1]:.6f}<br>Fees: %{customdata[2]:.6f}\", \"marker\": {\"color\": \"#37B13F\", \"line\": {\"color\": \"rgb(38,123,44)\", \"width\": 1}, \"size\": 8, \"symbol\": \"triangle-up\"}, \"mode\": \"markers\", \"name\": \"Buy\", \"type\": \"scatter\", \"uid\": \"3915cc7f-a167-45c4-9471-81909d3c2902\", \"x\": [\"2021-03-04T00:00:00\", \"2021-03-23T00:00:00\", \"2021-03-24T00:00:00\", \"2021-03-25T00:00:00\", \"2021-03-26T00:00:00\", \"2021-03-30T00:00:00\", \"2021-03-31T00:00:00\", \"2021-04-06T00:00:00\"], \"y\": [4.6, 1.14, 0.79, 0.41, 0.72, 0.73, 0.8, 1.94]}, {\"customdata\": [[121.0, 4100.0, 6.232]], \"hovertemplate\": \"Order Id: %{customdata[0]}<br>Date: %{x}<br>Price: %{y}<br>Size: %{customdata[1]:.6f}<br>Fees: %{customdata[2]:.6f}\", \"marker\": {\"color\": \"#EA4335\", \"line\": {\"color\": \"rgb(181,31,18)\", \"width\": 1}, \"size\": 8, \"symbol\": \"triangle-down\"}, \"mode\": \"markers\", \"name\": \"Sell\", \"type\": \"scatter\", \"uid\": \"750caf7a-25eb-4fba-9e05-eb041a995a8b\", \"x\": [\"2021-04-01T00:00:00\"], \"y\": [1.52]}],                        {\"height\": 350, \"legend\": {\"orientation\": \"h\", \"traceorder\": \"normal\", \"x\": 1, \"xanchor\": \"right\", \"y\": 1.02, \"yanchor\": \"bottom\"}, \"margin\": {\"b\": 30, \"l\": 30, \"r\": 30, \"t\": 30}, \"template\": {\"data\": {\"bar\": [{\"error_x\": {\"color\": \"#2a3f5f\"}, \"error_y\": {\"color\": \"#2a3f5f\"}, \"marker\": {\"line\": {\"color\": \"#E5ECF6\", \"width\": 0.5}}, \"type\": \"bar\"}], \"barpolar\": [{\"marker\": {\"line\": {\"color\": \"#E5ECF6\", \"width\": 0.5}}, \"type\": \"barpolar\"}], \"carpet\": [{\"aaxis\": {\"endlinecolor\": \"#2a3f5f\", \"gridcolor\": \"white\", \"linecolor\": \"white\", \"minorgridcolor\": \"white\", \"startlinecolor\": \"#2a3f5f\"}, \"baxis\": {\"endlinecolor\": \"#2a3f5f\", \"gridcolor\": \"white\", \"linecolor\": \"white\", \"minorgridcolor\": \"white\", \"startlinecolor\": \"#2a3f5f\"}, \"type\": \"carpet\"}], \"choropleth\": [{\"colorbar\": {\"outlinewidth\": 0, \"ticks\": \"\"}, \"type\": \"choropleth\"}], \"contour\": [{\"colorbar\": {\"outlinewidth\": 0, \"ticks\": \"\"}, \"colorscale\": [[0.0, \"#0d0887\"], [0.1111111111111111, \"#46039f\"], [0.2222222222222222, \"#7201a8\"], [0.3333333333333333, \"#9c179e\"], [0.4444444444444444, \"#bd3786\"], [0.5555555555555556, \"#d8576b\"], [0.6666666666666666, \"#ed7953\"], [0.7777777777777778, \"#fb9f3a\"], [0.8888888888888888, \"#fdca26\"], [1.0, \"#f0f921\"]], \"type\": \"contour\"}], \"contourcarpet\": [{\"colorbar\": {\"outlinewidth\": 0, \"ticks\": \"\"}, \"type\": \"contourcarpet\"}], \"heatmap\": [{\"colorbar\": {\"outlinewidth\": 0, \"ticks\": \"\"}, \"colorscale\": [[0.0, \"#0d0887\"], [0.1111111111111111, \"#46039f\"], [0.2222222222222222, \"#7201a8\"], [0.3333333333333333, \"#9c179e\"], [0.4444444444444444, \"#bd3786\"], [0.5555555555555556, \"#d8576b\"], [0.6666666666666666, \"#ed7953\"], [0.7777777777777778, \"#fb9f3a\"], [0.8888888888888888, \"#fdca26\"], [1.0, \"#f0f921\"]], \"type\": \"heatmap\"}], \"heatmapgl\": [{\"colorbar\": {\"outlinewidth\": 0, \"ticks\": \"\"}, \"colorscale\": [[0.0, \"#0d0887\"], [0.1111111111111111, \"#46039f\"], [0.2222222222222222, \"#7201a8\"], [0.3333333333333333, \"#9c179e\"], [0.4444444444444444, \"#bd3786\"], [0.5555555555555556, \"#d8576b\"], [0.6666666666666666, \"#ed7953\"], [0.7777777777777778, \"#fb9f3a\"], [0.8888888888888888, \"#fdca26\"], [1.0, \"#f0f921\"]], \"type\": \"heatmapgl\"}], \"histogram\": [{\"marker\": {\"colorbar\": {\"outlinewidth\": 0, \"ticks\": \"\"}}, \"type\": \"histogram\"}], \"histogram2d\": [{\"colorbar\": {\"outlinewidth\": 0, \"ticks\": \"\"}, \"colorscale\": [[0.0, \"#0d0887\"], [0.1111111111111111, \"#46039f\"], [0.2222222222222222, \"#7201a8\"], [0.3333333333333333, \"#9c179e\"], [0.4444444444444444, \"#bd3786\"], [0.5555555555555556, \"#d8576b\"], [0.6666666666666666, \"#ed7953\"], [0.7777777777777778, \"#fb9f3a\"], [0.8888888888888888, \"#fdca26\"], [1.0, \"#f0f921\"]], \"type\": \"histogram2d\"}], \"histogram2dcontour\": [{\"colorbar\": {\"outlinewidth\": 0, \"ticks\": \"\"}, \"colorscale\": [[0.0, \"#0d0887\"], [0.1111111111111111, \"#46039f\"], [0.2222222222222222, \"#7201a8\"], [0.3333333333333333, \"#9c179e\"], [0.4444444444444444, \"#bd3786\"], [0.5555555555555556, \"#d8576b\"], [0.6666666666666666, \"#ed7953\"], [0.7777777777777778, \"#fb9f3a\"], [0.8888888888888888, \"#fdca26\"], [1.0, \"#f0f921\"]], \"type\": \"histogram2dcontour\"}], \"mesh3d\": [{\"colorbar\": {\"outlinewidth\": 0, \"ticks\": \"\"}, \"type\": \"mesh3d\"}], \"parcoords\": [{\"line\": {\"colorbar\": {\"outlinewidth\": 0, \"ticks\": \"\"}}, \"type\": \"parcoords\"}], \"pie\": [{\"automargin\": true, \"type\": \"pie\"}], \"scatter\": [{\"marker\": {\"colorbar\": {\"outlinewidth\": 0, \"ticks\": \"\"}}, \"type\": \"scatter\"}], \"scatter3d\": [{\"line\": {\"colorbar\": {\"outlinewidth\": 0, \"ticks\": \"\"}}, \"marker\": {\"colorbar\": {\"outlinewidth\": 0, \"ticks\": \"\"}}, \"type\": \"scatter3d\"}], \"scattercarpet\": [{\"marker\": {\"colorbar\": {\"outlinewidth\": 0, \"ticks\": \"\"}}, \"type\": \"scattercarpet\"}], \"scattergeo\": [{\"marker\": {\"colorbar\": {\"outlinewidth\": 0, \"ticks\": \"\"}}, \"type\": \"scattergeo\"}], \"scattergl\": [{\"marker\": {\"colorbar\": {\"outlinewidth\": 0, \"ticks\": \"\"}}, \"type\": \"scattergl\"}], \"scattermapbox\": [{\"marker\": {\"colorbar\": {\"outlinewidth\": 0, \"ticks\": \"\"}}, \"type\": \"scattermapbox\"}], \"scatterpolar\": [{\"marker\": {\"colorbar\": {\"outlinewidth\": 0, \"ticks\": \"\"}}, \"type\": \"scatterpolar\"}], \"scatterpolargl\": [{\"marker\": {\"colorbar\": {\"outlinewidth\": 0, \"ticks\": \"\"}}, \"type\": \"scatterpolargl\"}], \"scatterternary\": [{\"marker\": {\"colorbar\": {\"outlinewidth\": 0, \"ticks\": \"\"}}, \"type\": \"scatterternary\"}], \"surface\": [{\"colorbar\": {\"outlinewidth\": 0, \"ticks\": \"\"}, \"colorscale\": [[0.0, \"#0d0887\"], [0.1111111111111111, \"#46039f\"], [0.2222222222222222, \"#7201a8\"], [0.3333333333333333, \"#9c179e\"], [0.4444444444444444, \"#bd3786\"], [0.5555555555555556, \"#d8576b\"], [0.6666666666666666, \"#ed7953\"], [0.7777777777777778, \"#fb9f3a\"], [0.8888888888888888, \"#fdca26\"], [1.0, \"#f0f921\"]], \"type\": \"surface\"}], \"table\": [{\"cells\": {\"fill\": {\"color\": \"#EBF0F8\"}, \"line\": {\"color\": \"white\"}}, \"header\": {\"fill\": {\"color\": \"#C8D4E3\"}, \"line\": {\"color\": \"white\"}}, \"type\": \"table\"}]}, \"layout\": {\"annotationdefaults\": {\"arrowcolor\": \"#2a3f5f\", \"arrowhead\": 0, \"arrowwidth\": 1}, \"coloraxis\": {\"colorbar\": {\"outlinewidth\": 0, \"ticks\": \"\"}}, \"colorscale\": {\"diverging\": [[0, \"#8e0152\"], [0.1, \"#c51b7d\"], [0.2, \"#de77ae\"], [0.3, \"#f1b6da\"], [0.4, \"#fde0ef\"], [0.5, \"#f7f7f7\"], [0.6, \"#e6f5d0\"], [0.7, \"#b8e186\"], [0.8, \"#7fbc41\"], [0.9, \"#4d9221\"], [1, \"#276419\"]], \"sequential\": [[0.0, \"#0d0887\"], [0.1111111111111111, \"#46039f\"], [0.2222222222222222, \"#7201a8\"], [0.3333333333333333, \"#9c179e\"], [0.4444444444444444, \"#bd3786\"], [0.5555555555555556, \"#d8576b\"], [0.6666666666666666, \"#ed7953\"], [0.7777777777777778, \"#fb9f3a\"], [0.8888888888888888, \"#fdca26\"], [1.0, \"#f0f921\"]], \"sequentialminus\": [[0.0, \"#0d0887\"], [0.1111111111111111, \"#46039f\"], [0.2222222222222222, \"#7201a8\"], [0.3333333333333333, \"#9c179e\"], [0.4444444444444444, \"#bd3786\"], [0.5555555555555556, \"#d8576b\"], [0.6666666666666666, \"#ed7953\"], [0.7777777777777778, \"#fb9f3a\"], [0.8888888888888888, \"#fdca26\"], [1.0, \"#f0f921\"]]}, \"colorway\": [\"#1f77b4\", \"#ff7f0e\", \"#2ca02c\", \"#dc3912\", \"#9467bd\", \"#8c564b\", \"#e377c2\", \"#7f7f7f\", \"#bcbd22\", \"#17becf\"], \"font\": {\"color\": \"#2a3f5f\"}, \"geo\": {\"bgcolor\": \"white\", \"lakecolor\": \"white\", \"landcolor\": \"#E5ECF6\", \"showlakes\": true, \"showland\": true, \"subunitcolor\": \"white\"}, \"hoverlabel\": {\"align\": \"left\"}, \"hovermode\": \"closest\", \"mapbox\": {\"style\": \"light\"}, \"paper_bgcolor\": \"white\", \"plot_bgcolor\": \"#E5ECF6\", \"polar\": {\"angularaxis\": {\"gridcolor\": \"white\", \"linecolor\": \"white\", \"ticks\": \"\"}, \"bgcolor\": \"#E5ECF6\", \"radialaxis\": {\"gridcolor\": \"white\", \"linecolor\": \"white\", \"ticks\": \"\"}}, \"scene\": {\"xaxis\": {\"backgroundcolor\": \"#E5ECF6\", \"gridcolor\": \"white\", \"gridwidth\": 2, \"linecolor\": \"white\", \"showbackground\": true, \"ticks\": \"\", \"zerolinecolor\": \"white\"}, \"yaxis\": {\"backgroundcolor\": \"#E5ECF6\", \"gridcolor\": \"white\", \"gridwidth\": 2, \"linecolor\": \"white\", \"showbackground\": true, \"ticks\": \"\", \"zerolinecolor\": \"white\"}, \"zaxis\": {\"backgroundcolor\": \"#E5ECF6\", \"gridcolor\": \"white\", \"gridwidth\": 2, \"linecolor\": \"white\", \"showbackground\": true, \"ticks\": \"\", \"zerolinecolor\": \"white\"}}, \"shapedefaults\": {\"line\": {\"color\": \"#2a3f5f\"}}, \"ternary\": {\"aaxis\": {\"gridcolor\": \"white\", \"linecolor\": \"white\", \"ticks\": \"\"}, \"baxis\": {\"gridcolor\": \"white\", \"linecolor\": \"white\", \"ticks\": \"\"}, \"bgcolor\": \"#E5ECF6\", \"caxis\": {\"gridcolor\": \"white\", \"linecolor\": \"white\", \"ticks\": \"\"}}, \"title\": {\"x\": 0.05}, \"xaxis\": {\"automargin\": true, \"gridcolor\": \"white\", \"linecolor\": \"white\", \"ticks\": \"\", \"title\": {\"standoff\": 15}, \"zerolinecolor\": \"white\", \"zerolinewidth\": 2}, \"yaxis\": {\"automargin\": true, \"gridcolor\": \"white\", \"linecolor\": \"white\", \"ticks\": \"\", \"title\": {\"standoff\": 15}, \"zerolinecolor\": \"white\", \"zerolinewidth\": 2}}}, \"width\": 700},                        {\"responsive\": true}                    ).then(function(){\n",
       "                            \n",
       "var gd = document.getElementById('e3ae5c73-5fa9-41c3-94a0-c90217e62780');\n",
       "var x = new MutationObserver(function (mutations, observer) {{\n",
       "        var display = window.getComputedStyle(gd).display;\n",
       "        if (!display || display === 'none') {{\n",
       "            console.log([gd, 'removed!']);\n",
       "            Plotly.purge(gd);\n",
       "            observer.disconnect();\n",
       "        }}\n",
       "}});\n",
       "\n",
       "// Listen for the removal of the full notebook cells\n",
       "var notebookContainer = gd.closest('#notebook-container');\n",
       "if (notebookContainer) {{\n",
       "    x.observe(notebookContainer, {childList: true});\n",
       "}}\n",
       "\n",
       "// Listen for the clearing of the current output cell\n",
       "var outputEl = gd.closest('.output');\n",
       "if (outputEl) {{\n",
       "    x.observe(outputEl, {childList: true});\n",
       "}}\n",
       "\n",
       "                        })                };                });            </script>        </div>"
      ]
     },
     "metadata": {},
     "output_type": "display_data"
    },
    {
     "data": {
      "application/vnd.plotly.v1+json": {
       "config": {
        "plotlyServerURL": "https://plot.ly"
       },
       "data": [
        {
         "name": "MARA210416C00070000",
         "showlegend": true,
         "type": "scatter",
         "uid": "8c0f8d50-63f3-4f96-9de6-66f145cd7d62",
         "x": [
          "2021-01-04T00:00:00",
          "2021-01-05T00:00:00",
          "2021-01-06T00:00:00",
          "2021-01-07T00:00:00",
          "2021-01-08T00:00:00",
          "2021-01-11T00:00:00",
          "2021-01-12T00:00:00",
          "2021-01-13T00:00:00",
          "2021-01-14T00:00:00",
          "2021-01-15T00:00:00",
          "2021-01-19T00:00:00",
          "2021-01-20T00:00:00",
          "2021-01-21T00:00:00",
          "2021-01-22T00:00:00",
          "2021-01-25T00:00:00",
          "2021-01-26T00:00:00",
          "2021-01-27T00:00:00",
          "2021-01-28T00:00:00",
          "2021-01-29T00:00:00",
          "2021-02-01T00:00:00",
          "2021-02-02T00:00:00",
          "2021-02-03T00:00:00",
          "2021-02-04T00:00:00",
          "2021-02-05T00:00:00",
          "2021-02-08T00:00:00",
          "2021-02-09T00:00:00",
          "2021-02-10T00:00:00",
          "2021-02-11T00:00:00",
          "2021-02-12T00:00:00",
          "2021-02-16T00:00:00",
          "2021-02-17T00:00:00",
          "2021-02-18T00:00:00",
          "2021-02-19T00:00:00",
          "2021-02-22T00:00:00",
          "2021-02-23T00:00:00",
          "2021-02-24T00:00:00",
          "2021-02-25T00:00:00",
          "2021-02-26T00:00:00",
          "2021-03-01T00:00:00",
          "2021-03-02T00:00:00",
          "2021-03-03T00:00:00",
          "2021-03-04T00:00:00",
          "2021-03-05T00:00:00",
          "2021-03-08T00:00:00",
          "2021-03-09T00:00:00",
          "2021-03-10T00:00:00",
          "2021-03-11T00:00:00",
          "2021-03-12T00:00:00",
          "2021-03-15T00:00:00",
          "2021-03-16T00:00:00",
          "2021-03-17T00:00:00",
          "2021-03-18T00:00:00",
          "2021-03-19T00:00:00",
          "2021-03-22T00:00:00",
          "2021-03-23T00:00:00",
          "2021-03-24T00:00:00",
          "2021-03-25T00:00:00",
          "2021-03-26T00:00:00",
          "2021-03-29T00:00:00",
          "2021-03-30T00:00:00",
          "2021-03-31T00:00:00",
          "2021-04-01T00:00:00",
          "2021-04-05T00:00:00",
          "2021-04-06T00:00:00",
          "2021-04-07T00:00:00",
          "2021-04-08T00:00:00",
          "2021-04-09T00:00:00",
          "2021-04-12T00:00:00",
          "2021-04-13T00:00:00",
          "2021-04-14T00:00:00",
          "2021-04-15T00:00:00",
          "2021-04-16T00:00:00",
          "2021-04-19T00:00:00",
          "2021-04-20T00:00:00",
          "2021-04-21T00:00:00",
          "2021-04-22T00:00:00",
          "2021-04-23T00:00:00",
          "2021-04-26T00:00:00",
          "2021-04-27T00:00:00",
          "2021-04-28T00:00:00",
          "2021-04-29T00:00:00",
          "2021-04-30T00:00:00",
          "2021-05-03T00:00:00",
          "2021-05-04T00:00:00",
          "2021-05-05T00:00:00",
          "2021-05-06T00:00:00",
          "2021-05-07T00:00:00",
          "2021-05-10T00:00:00",
          "2021-05-11T00:00:00",
          "2021-05-12T00:00:00",
          "2021-05-13T00:00:00",
          "2021-05-14T00:00:00",
          "2021-05-17T00:00:00",
          "2021-05-18T00:00:00",
          "2021-05-19T00:00:00",
          "2021-05-20T00:00:00",
          "2021-05-21T00:00:00",
          "2021-05-24T00:00:00",
          "2021-05-25T00:00:00",
          "2021-05-26T00:00:00",
          "2021-05-27T00:00:00",
          "2021-05-28T00:00:00",
          "2021-06-01T00:00:00",
          "2021-06-02T00:00:00",
          "2021-06-03T00:00:00",
          "2021-06-04T00:00:00",
          "2021-06-07T00:00:00",
          "2021-06-08T00:00:00",
          "2021-06-09T00:00:00",
          "2021-06-10T00:00:00",
          "2021-06-11T00:00:00"
         ],
         "y": [
          0,
          0,
          0,
          0,
          0,
          0,
          0,
          0,
          0,
          0,
          0,
          0,
          0,
          0,
          0,
          0,
          0,
          0,
          0,
          0,
          0,
          0,
          0,
          0,
          0,
          0,
          0,
          0,
          0,
          0,
          0,
          0,
          0,
          0,
          0,
          0,
          0,
          0,
          0,
          0,
          0,
          100,
          0,
          0,
          0,
          0,
          0,
          0,
          0,
          0,
          0,
          0,
          0,
          0,
          400,
          600,
          1200,
          600,
          0,
          600,
          600,
          -4300,
          0,
          200,
          0,
          0,
          0,
          0,
          0,
          0,
          0,
          0,
          0,
          0,
          0,
          0,
          0,
          0,
          0,
          0,
          0,
          0,
          0,
          0,
          0,
          0,
          0,
          0,
          0,
          0,
          0,
          0,
          0,
          0,
          0,
          0,
          0,
          0,
          0,
          0,
          0,
          0,
          0,
          0,
          0,
          0,
          0,
          0,
          0,
          0,
          0
         ]
        }
       ],
       "layout": {
        "height": 350,
        "legend": {
         "orientation": "h",
         "traceorder": "normal",
         "x": 1,
         "xanchor": "right",
         "y": 1.02,
         "yanchor": "bottom"
        },
        "margin": {
         "b": 30,
         "l": 30,
         "r": 30,
         "t": 30
        },
        "template": {
         "data": {
          "bar": [
           {
            "error_x": {
             "color": "#2a3f5f"
            },
            "error_y": {
             "color": "#2a3f5f"
            },
            "marker": {
             "line": {
              "color": "#E5ECF6",
              "width": 0.5
             }
            },
            "type": "bar"
           }
          ],
          "barpolar": [
           {
            "marker": {
             "line": {
              "color": "#E5ECF6",
              "width": 0.5
             }
            },
            "type": "barpolar"
           }
          ],
          "carpet": [
           {
            "aaxis": {
             "endlinecolor": "#2a3f5f",
             "gridcolor": "white",
             "linecolor": "white",
             "minorgridcolor": "white",
             "startlinecolor": "#2a3f5f"
            },
            "baxis": {
             "endlinecolor": "#2a3f5f",
             "gridcolor": "white",
             "linecolor": "white",
             "minorgridcolor": "white",
             "startlinecolor": "#2a3f5f"
            },
            "type": "carpet"
           }
          ],
          "choropleth": [
           {
            "colorbar": {
             "outlinewidth": 0,
             "ticks": ""
            },
            "type": "choropleth"
           }
          ],
          "contour": [
           {
            "colorbar": {
             "outlinewidth": 0,
             "ticks": ""
            },
            "colorscale": [
             [
              0,
              "#0d0887"
             ],
             [
              0.1111111111111111,
              "#46039f"
             ],
             [
              0.2222222222222222,
              "#7201a8"
             ],
             [
              0.3333333333333333,
              "#9c179e"
             ],
             [
              0.4444444444444444,
              "#bd3786"
             ],
             [
              0.5555555555555556,
              "#d8576b"
             ],
             [
              0.6666666666666666,
              "#ed7953"
             ],
             [
              0.7777777777777778,
              "#fb9f3a"
             ],
             [
              0.8888888888888888,
              "#fdca26"
             ],
             [
              1,
              "#f0f921"
             ]
            ],
            "type": "contour"
           }
          ],
          "contourcarpet": [
           {
            "colorbar": {
             "outlinewidth": 0,
             "ticks": ""
            },
            "type": "contourcarpet"
           }
          ],
          "heatmap": [
           {
            "colorbar": {
             "outlinewidth": 0,
             "ticks": ""
            },
            "colorscale": [
             [
              0,
              "#0d0887"
             ],
             [
              0.1111111111111111,
              "#46039f"
             ],
             [
              0.2222222222222222,
              "#7201a8"
             ],
             [
              0.3333333333333333,
              "#9c179e"
             ],
             [
              0.4444444444444444,
              "#bd3786"
             ],
             [
              0.5555555555555556,
              "#d8576b"
             ],
             [
              0.6666666666666666,
              "#ed7953"
             ],
             [
              0.7777777777777778,
              "#fb9f3a"
             ],
             [
              0.8888888888888888,
              "#fdca26"
             ],
             [
              1,
              "#f0f921"
             ]
            ],
            "type": "heatmap"
           }
          ],
          "heatmapgl": [
           {
            "colorbar": {
             "outlinewidth": 0,
             "ticks": ""
            },
            "colorscale": [
             [
              0,
              "#0d0887"
             ],
             [
              0.1111111111111111,
              "#46039f"
             ],
             [
              0.2222222222222222,
              "#7201a8"
             ],
             [
              0.3333333333333333,
              "#9c179e"
             ],
             [
              0.4444444444444444,
              "#bd3786"
             ],
             [
              0.5555555555555556,
              "#d8576b"
             ],
             [
              0.6666666666666666,
              "#ed7953"
             ],
             [
              0.7777777777777778,
              "#fb9f3a"
             ],
             [
              0.8888888888888888,
              "#fdca26"
             ],
             [
              1,
              "#f0f921"
             ]
            ],
            "type": "heatmapgl"
           }
          ],
          "histogram": [
           {
            "marker": {
             "colorbar": {
              "outlinewidth": 0,
              "ticks": ""
             }
            },
            "type": "histogram"
           }
          ],
          "histogram2d": [
           {
            "colorbar": {
             "outlinewidth": 0,
             "ticks": ""
            },
            "colorscale": [
             [
              0,
              "#0d0887"
             ],
             [
              0.1111111111111111,
              "#46039f"
             ],
             [
              0.2222222222222222,
              "#7201a8"
             ],
             [
              0.3333333333333333,
              "#9c179e"
             ],
             [
              0.4444444444444444,
              "#bd3786"
             ],
             [
              0.5555555555555556,
              "#d8576b"
             ],
             [
              0.6666666666666666,
              "#ed7953"
             ],
             [
              0.7777777777777778,
              "#fb9f3a"
             ],
             [
              0.8888888888888888,
              "#fdca26"
             ],
             [
              1,
              "#f0f921"
             ]
            ],
            "type": "histogram2d"
           }
          ],
          "histogram2dcontour": [
           {
            "colorbar": {
             "outlinewidth": 0,
             "ticks": ""
            },
            "colorscale": [
             [
              0,
              "#0d0887"
             ],
             [
              0.1111111111111111,
              "#46039f"
             ],
             [
              0.2222222222222222,
              "#7201a8"
             ],
             [
              0.3333333333333333,
              "#9c179e"
             ],
             [
              0.4444444444444444,
              "#bd3786"
             ],
             [
              0.5555555555555556,
              "#d8576b"
             ],
             [
              0.6666666666666666,
              "#ed7953"
             ],
             [
              0.7777777777777778,
              "#fb9f3a"
             ],
             [
              0.8888888888888888,
              "#fdca26"
             ],
             [
              1,
              "#f0f921"
             ]
            ],
            "type": "histogram2dcontour"
           }
          ],
          "mesh3d": [
           {
            "colorbar": {
             "outlinewidth": 0,
             "ticks": ""
            },
            "type": "mesh3d"
           }
          ],
          "parcoords": [
           {
            "line": {
             "colorbar": {
              "outlinewidth": 0,
              "ticks": ""
             }
            },
            "type": "parcoords"
           }
          ],
          "pie": [
           {
            "automargin": true,
            "type": "pie"
           }
          ],
          "scatter": [
           {
            "marker": {
             "colorbar": {
              "outlinewidth": 0,
              "ticks": ""
             }
            },
            "type": "scatter"
           }
          ],
          "scatter3d": [
           {
            "line": {
             "colorbar": {
              "outlinewidth": 0,
              "ticks": ""
             }
            },
            "marker": {
             "colorbar": {
              "outlinewidth": 0,
              "ticks": ""
             }
            },
            "type": "scatter3d"
           }
          ],
          "scattercarpet": [
           {
            "marker": {
             "colorbar": {
              "outlinewidth": 0,
              "ticks": ""
             }
            },
            "type": "scattercarpet"
           }
          ],
          "scattergeo": [
           {
            "marker": {
             "colorbar": {
              "outlinewidth": 0,
              "ticks": ""
             }
            },
            "type": "scattergeo"
           }
          ],
          "scattergl": [
           {
            "marker": {
             "colorbar": {
              "outlinewidth": 0,
              "ticks": ""
             }
            },
            "type": "scattergl"
           }
          ],
          "scattermapbox": [
           {
            "marker": {
             "colorbar": {
              "outlinewidth": 0,
              "ticks": ""
             }
            },
            "type": "scattermapbox"
           }
          ],
          "scatterpolar": [
           {
            "marker": {
             "colorbar": {
              "outlinewidth": 0,
              "ticks": ""
             }
            },
            "type": "scatterpolar"
           }
          ],
          "scatterpolargl": [
           {
            "marker": {
             "colorbar": {
              "outlinewidth": 0,
              "ticks": ""
             }
            },
            "type": "scatterpolargl"
           }
          ],
          "scatterternary": [
           {
            "marker": {
             "colorbar": {
              "outlinewidth": 0,
              "ticks": ""
             }
            },
            "type": "scatterternary"
           }
          ],
          "surface": [
           {
            "colorbar": {
             "outlinewidth": 0,
             "ticks": ""
            },
            "colorscale": [
             [
              0,
              "#0d0887"
             ],
             [
              0.1111111111111111,
              "#46039f"
             ],
             [
              0.2222222222222222,
              "#7201a8"
             ],
             [
              0.3333333333333333,
              "#9c179e"
             ],
             [
              0.4444444444444444,
              "#bd3786"
             ],
             [
              0.5555555555555556,
              "#d8576b"
             ],
             [
              0.6666666666666666,
              "#ed7953"
             ],
             [
              0.7777777777777778,
              "#fb9f3a"
             ],
             [
              0.8888888888888888,
              "#fdca26"
             ],
             [
              1,
              "#f0f921"
             ]
            ],
            "type": "surface"
           }
          ],
          "table": [
           {
            "cells": {
             "fill": {
              "color": "#EBF0F8"
             },
             "line": {
              "color": "white"
             }
            },
            "header": {
             "fill": {
              "color": "#C8D4E3"
             },
             "line": {
              "color": "white"
             }
            },
            "type": "table"
           }
          ]
         },
         "layout": {
          "annotationdefaults": {
           "arrowcolor": "#2a3f5f",
           "arrowhead": 0,
           "arrowwidth": 1
          },
          "coloraxis": {
           "colorbar": {
            "outlinewidth": 0,
            "ticks": ""
           }
          },
          "colorscale": {
           "diverging": [
            [
             0,
             "#8e0152"
            ],
            [
             0.1,
             "#c51b7d"
            ],
            [
             0.2,
             "#de77ae"
            ],
            [
             0.3,
             "#f1b6da"
            ],
            [
             0.4,
             "#fde0ef"
            ],
            [
             0.5,
             "#f7f7f7"
            ],
            [
             0.6,
             "#e6f5d0"
            ],
            [
             0.7,
             "#b8e186"
            ],
            [
             0.8,
             "#7fbc41"
            ],
            [
             0.9,
             "#4d9221"
            ],
            [
             1,
             "#276419"
            ]
           ],
           "sequential": [
            [
             0,
             "#0d0887"
            ],
            [
             0.1111111111111111,
             "#46039f"
            ],
            [
             0.2222222222222222,
             "#7201a8"
            ],
            [
             0.3333333333333333,
             "#9c179e"
            ],
            [
             0.4444444444444444,
             "#bd3786"
            ],
            [
             0.5555555555555556,
             "#d8576b"
            ],
            [
             0.6666666666666666,
             "#ed7953"
            ],
            [
             0.7777777777777778,
             "#fb9f3a"
            ],
            [
             0.8888888888888888,
             "#fdca26"
            ],
            [
             1,
             "#f0f921"
            ]
           ],
           "sequentialminus": [
            [
             0,
             "#0d0887"
            ],
            [
             0.1111111111111111,
             "#46039f"
            ],
            [
             0.2222222222222222,
             "#7201a8"
            ],
            [
             0.3333333333333333,
             "#9c179e"
            ],
            [
             0.4444444444444444,
             "#bd3786"
            ],
            [
             0.5555555555555556,
             "#d8576b"
            ],
            [
             0.6666666666666666,
             "#ed7953"
            ],
            [
             0.7777777777777778,
             "#fb9f3a"
            ],
            [
             0.8888888888888888,
             "#fdca26"
            ],
            [
             1,
             "#f0f921"
            ]
           ]
          },
          "colorway": [
           "#1f77b4",
           "#ff7f0e",
           "#2ca02c",
           "#dc3912",
           "#9467bd",
           "#8c564b",
           "#e377c2",
           "#7f7f7f",
           "#bcbd22",
           "#17becf"
          ],
          "font": {
           "color": "#2a3f5f"
          },
          "geo": {
           "bgcolor": "white",
           "lakecolor": "white",
           "landcolor": "#E5ECF6",
           "showlakes": true,
           "showland": true,
           "subunitcolor": "white"
          },
          "hoverlabel": {
           "align": "left"
          },
          "hovermode": "closest",
          "mapbox": {
           "style": "light"
          },
          "paper_bgcolor": "white",
          "plot_bgcolor": "#E5ECF6",
          "polar": {
           "angularaxis": {
            "gridcolor": "white",
            "linecolor": "white",
            "ticks": ""
           },
           "bgcolor": "#E5ECF6",
           "radialaxis": {
            "gridcolor": "white",
            "linecolor": "white",
            "ticks": ""
           }
          },
          "scene": {
           "xaxis": {
            "backgroundcolor": "#E5ECF6",
            "gridcolor": "white",
            "gridwidth": 2,
            "linecolor": "white",
            "showbackground": true,
            "ticks": "",
            "zerolinecolor": "white"
           },
           "yaxis": {
            "backgroundcolor": "#E5ECF6",
            "gridcolor": "white",
            "gridwidth": 2,
            "linecolor": "white",
            "showbackground": true,
            "ticks": "",
            "zerolinecolor": "white"
           },
           "zaxis": {
            "backgroundcolor": "#E5ECF6",
            "gridcolor": "white",
            "gridwidth": 2,
            "linecolor": "white",
            "showbackground": true,
            "ticks": "",
            "zerolinecolor": "white"
           }
          },
          "shapedefaults": {
           "line": {
            "color": "#2a3f5f"
           }
          },
          "ternary": {
           "aaxis": {
            "gridcolor": "white",
            "linecolor": "white",
            "ticks": ""
           },
           "baxis": {
            "gridcolor": "white",
            "linecolor": "white",
            "ticks": ""
           },
           "bgcolor": "#E5ECF6",
           "caxis": {
            "gridcolor": "white",
            "linecolor": "white",
            "ticks": ""
           }
          },
          "title": {
           "x": 0.05
          },
          "xaxis": {
           "automargin": true,
           "gridcolor": "white",
           "linecolor": "white",
           "ticks": "",
           "title": {
            "standoff": 15
           },
           "zerolinecolor": "white",
           "zerolinewidth": 2
          },
          "yaxis": {
           "automargin": true,
           "gridcolor": "white",
           "linecolor": "white",
           "ticks": "",
           "title": {
            "standoff": 15
           },
           "zerolinecolor": "white",
           "zerolinewidth": 2
          }
         }
        },
        "width": 700
       }
      },
      "text/html": [
       "<div>                            <div id=\"4902e40e-78c9-4576-aaa7-b1d739ffcf0c\" class=\"plotly-graph-div\" style=\"height:350px; width:700px;\"></div>            <script type=\"text/javascript\">                require([\"plotly\"], function(Plotly) {                    window.PLOTLYENV=window.PLOTLYENV || {};                                    if (document.getElementById(\"4902e40e-78c9-4576-aaa7-b1d739ffcf0c\")) {                    Plotly.newPlot(                        \"4902e40e-78c9-4576-aaa7-b1d739ffcf0c\",                        [{\"name\": \"MARA210416C00070000\", \"showlegend\": true, \"type\": \"scatter\", \"uid\": \"8c0f8d50-63f3-4f96-9de6-66f145cd7d62\", \"x\": [\"2021-01-04T00:00:00\", \"2021-01-05T00:00:00\", \"2021-01-06T00:00:00\", \"2021-01-07T00:00:00\", \"2021-01-08T00:00:00\", \"2021-01-11T00:00:00\", \"2021-01-12T00:00:00\", \"2021-01-13T00:00:00\", \"2021-01-14T00:00:00\", \"2021-01-15T00:00:00\", \"2021-01-19T00:00:00\", \"2021-01-20T00:00:00\", \"2021-01-21T00:00:00\", \"2021-01-22T00:00:00\", \"2021-01-25T00:00:00\", \"2021-01-26T00:00:00\", \"2021-01-27T00:00:00\", \"2021-01-28T00:00:00\", \"2021-01-29T00:00:00\", \"2021-02-01T00:00:00\", \"2021-02-02T00:00:00\", \"2021-02-03T00:00:00\", \"2021-02-04T00:00:00\", \"2021-02-05T00:00:00\", \"2021-02-08T00:00:00\", \"2021-02-09T00:00:00\", \"2021-02-10T00:00:00\", \"2021-02-11T00:00:00\", \"2021-02-12T00:00:00\", \"2021-02-16T00:00:00\", \"2021-02-17T00:00:00\", \"2021-02-18T00:00:00\", \"2021-02-19T00:00:00\", \"2021-02-22T00:00:00\", \"2021-02-23T00:00:00\", \"2021-02-24T00:00:00\", \"2021-02-25T00:00:00\", \"2021-02-26T00:00:00\", \"2021-03-01T00:00:00\", \"2021-03-02T00:00:00\", \"2021-03-03T00:00:00\", \"2021-03-04T00:00:00\", \"2021-03-05T00:00:00\", \"2021-03-08T00:00:00\", \"2021-03-09T00:00:00\", \"2021-03-10T00:00:00\", \"2021-03-11T00:00:00\", \"2021-03-12T00:00:00\", \"2021-03-15T00:00:00\", \"2021-03-16T00:00:00\", \"2021-03-17T00:00:00\", \"2021-03-18T00:00:00\", \"2021-03-19T00:00:00\", \"2021-03-22T00:00:00\", \"2021-03-23T00:00:00\", \"2021-03-24T00:00:00\", \"2021-03-25T00:00:00\", \"2021-03-26T00:00:00\", \"2021-03-29T00:00:00\", \"2021-03-30T00:00:00\", \"2021-03-31T00:00:00\", \"2021-04-01T00:00:00\", \"2021-04-05T00:00:00\", \"2021-04-06T00:00:00\", \"2021-04-07T00:00:00\", \"2021-04-08T00:00:00\", \"2021-04-09T00:00:00\", \"2021-04-12T00:00:00\", \"2021-04-13T00:00:00\", \"2021-04-14T00:00:00\", \"2021-04-15T00:00:00\", \"2021-04-16T00:00:00\", \"2021-04-19T00:00:00\", \"2021-04-20T00:00:00\", \"2021-04-21T00:00:00\", \"2021-04-22T00:00:00\", \"2021-04-23T00:00:00\", \"2021-04-26T00:00:00\", \"2021-04-27T00:00:00\", \"2021-04-28T00:00:00\", \"2021-04-29T00:00:00\", \"2021-04-30T00:00:00\", \"2021-05-03T00:00:00\", \"2021-05-04T00:00:00\", \"2021-05-05T00:00:00\", \"2021-05-06T00:00:00\", \"2021-05-07T00:00:00\", \"2021-05-10T00:00:00\", \"2021-05-11T00:00:00\", \"2021-05-12T00:00:00\", \"2021-05-13T00:00:00\", \"2021-05-14T00:00:00\", \"2021-05-17T00:00:00\", \"2021-05-18T00:00:00\", \"2021-05-19T00:00:00\", \"2021-05-20T00:00:00\", \"2021-05-21T00:00:00\", \"2021-05-24T00:00:00\", \"2021-05-25T00:00:00\", \"2021-05-26T00:00:00\", \"2021-05-27T00:00:00\", \"2021-05-28T00:00:00\", \"2021-06-01T00:00:00\", \"2021-06-02T00:00:00\", \"2021-06-03T00:00:00\", \"2021-06-04T00:00:00\", \"2021-06-07T00:00:00\", \"2021-06-08T00:00:00\", \"2021-06-09T00:00:00\", \"2021-06-10T00:00:00\", \"2021-06-11T00:00:00\"], \"y\": [0.0, 0.0, 0.0, 0.0, 0.0, 0.0, 0.0, 0.0, 0.0, 0.0, 0.0, 0.0, 0.0, 0.0, 0.0, 0.0, 0.0, 0.0, 0.0, 0.0, 0.0, 0.0, 0.0, 0.0, 0.0, 0.0, 0.0, 0.0, 0.0, 0.0, 0.0, 0.0, 0.0, 0.0, 0.0, 0.0, 0.0, 0.0, 0.0, 0.0, 0.0, 100.0, 0.0, 0.0, 0.0, 0.0, 0.0, 0.0, 0.0, 0.0, 0.0, 0.0, 0.0, 0.0, 400.0, 600.0, 1200.0, 600.0, 0.0, 600.0, 600.0, -4300.0, 0.0, 200.0, 0.0, 0.0, 0.0, 0.0, 0.0, 0.0, 0.0, 0.0, 0.0, 0.0, 0.0, 0.0, 0.0, 0.0, 0.0, 0.0, 0.0, 0.0, 0.0, 0.0, 0.0, 0.0, 0.0, 0.0, 0.0, 0.0, 0.0, 0.0, 0.0, 0.0, 0.0, 0.0, 0.0, 0.0, 0.0, 0.0, 0.0, 0.0, 0.0, 0.0, 0.0, 0.0, 0.0, 0.0, 0.0, 0.0, 0.0]}],                        {\"height\": 350, \"legend\": {\"orientation\": \"h\", \"traceorder\": \"normal\", \"x\": 1, \"xanchor\": \"right\", \"y\": 1.02, \"yanchor\": \"bottom\"}, \"margin\": {\"b\": 30, \"l\": 30, \"r\": 30, \"t\": 30}, \"template\": {\"data\": {\"bar\": [{\"error_x\": {\"color\": \"#2a3f5f\"}, \"error_y\": {\"color\": \"#2a3f5f\"}, \"marker\": {\"line\": {\"color\": \"#E5ECF6\", \"width\": 0.5}}, \"type\": \"bar\"}], \"barpolar\": [{\"marker\": {\"line\": {\"color\": \"#E5ECF6\", \"width\": 0.5}}, \"type\": \"barpolar\"}], \"carpet\": [{\"aaxis\": {\"endlinecolor\": \"#2a3f5f\", \"gridcolor\": \"white\", \"linecolor\": \"white\", \"minorgridcolor\": \"white\", \"startlinecolor\": \"#2a3f5f\"}, \"baxis\": {\"endlinecolor\": \"#2a3f5f\", \"gridcolor\": \"white\", \"linecolor\": \"white\", \"minorgridcolor\": \"white\", \"startlinecolor\": \"#2a3f5f\"}, \"type\": \"carpet\"}], \"choropleth\": [{\"colorbar\": {\"outlinewidth\": 0, \"ticks\": \"\"}, \"type\": \"choropleth\"}], \"contour\": [{\"colorbar\": {\"outlinewidth\": 0, \"ticks\": \"\"}, \"colorscale\": [[0.0, \"#0d0887\"], [0.1111111111111111, \"#46039f\"], [0.2222222222222222, \"#7201a8\"], [0.3333333333333333, \"#9c179e\"], [0.4444444444444444, \"#bd3786\"], [0.5555555555555556, \"#d8576b\"], [0.6666666666666666, \"#ed7953\"], [0.7777777777777778, \"#fb9f3a\"], [0.8888888888888888, \"#fdca26\"], [1.0, \"#f0f921\"]], \"type\": \"contour\"}], \"contourcarpet\": [{\"colorbar\": {\"outlinewidth\": 0, \"ticks\": \"\"}, \"type\": \"contourcarpet\"}], \"heatmap\": [{\"colorbar\": {\"outlinewidth\": 0, \"ticks\": \"\"}, \"colorscale\": [[0.0, \"#0d0887\"], [0.1111111111111111, \"#46039f\"], [0.2222222222222222, \"#7201a8\"], [0.3333333333333333, \"#9c179e\"], [0.4444444444444444, \"#bd3786\"], [0.5555555555555556, \"#d8576b\"], [0.6666666666666666, \"#ed7953\"], [0.7777777777777778, \"#fb9f3a\"], [0.8888888888888888, \"#fdca26\"], [1.0, \"#f0f921\"]], \"type\": \"heatmap\"}], \"heatmapgl\": [{\"colorbar\": {\"outlinewidth\": 0, \"ticks\": \"\"}, \"colorscale\": [[0.0, \"#0d0887\"], [0.1111111111111111, \"#46039f\"], [0.2222222222222222, \"#7201a8\"], [0.3333333333333333, \"#9c179e\"], [0.4444444444444444, \"#bd3786\"], [0.5555555555555556, \"#d8576b\"], [0.6666666666666666, \"#ed7953\"], [0.7777777777777778, \"#fb9f3a\"], [0.8888888888888888, \"#fdca26\"], [1.0, \"#f0f921\"]], \"type\": \"heatmapgl\"}], \"histogram\": [{\"marker\": {\"colorbar\": {\"outlinewidth\": 0, \"ticks\": \"\"}}, \"type\": \"histogram\"}], \"histogram2d\": [{\"colorbar\": {\"outlinewidth\": 0, \"ticks\": \"\"}, \"colorscale\": [[0.0, \"#0d0887\"], [0.1111111111111111, \"#46039f\"], [0.2222222222222222, \"#7201a8\"], [0.3333333333333333, \"#9c179e\"], [0.4444444444444444, \"#bd3786\"], [0.5555555555555556, \"#d8576b\"], [0.6666666666666666, \"#ed7953\"], [0.7777777777777778, \"#fb9f3a\"], [0.8888888888888888, \"#fdca26\"], [1.0, \"#f0f921\"]], \"type\": \"histogram2d\"}], \"histogram2dcontour\": [{\"colorbar\": {\"outlinewidth\": 0, \"ticks\": \"\"}, \"colorscale\": [[0.0, \"#0d0887\"], [0.1111111111111111, \"#46039f\"], [0.2222222222222222, \"#7201a8\"], [0.3333333333333333, \"#9c179e\"], [0.4444444444444444, \"#bd3786\"], [0.5555555555555556, \"#d8576b\"], [0.6666666666666666, \"#ed7953\"], [0.7777777777777778, \"#fb9f3a\"], [0.8888888888888888, \"#fdca26\"], [1.0, \"#f0f921\"]], \"type\": \"histogram2dcontour\"}], \"mesh3d\": [{\"colorbar\": {\"outlinewidth\": 0, \"ticks\": \"\"}, \"type\": \"mesh3d\"}], \"parcoords\": [{\"line\": {\"colorbar\": {\"outlinewidth\": 0, \"ticks\": \"\"}}, \"type\": \"parcoords\"}], \"pie\": [{\"automargin\": true, \"type\": \"pie\"}], \"scatter\": [{\"marker\": {\"colorbar\": {\"outlinewidth\": 0, \"ticks\": \"\"}}, \"type\": \"scatter\"}], \"scatter3d\": [{\"line\": {\"colorbar\": {\"outlinewidth\": 0, \"ticks\": \"\"}}, \"marker\": {\"colorbar\": {\"outlinewidth\": 0, \"ticks\": \"\"}}, \"type\": \"scatter3d\"}], \"scattercarpet\": [{\"marker\": {\"colorbar\": {\"outlinewidth\": 0, \"ticks\": \"\"}}, \"type\": \"scattercarpet\"}], \"scattergeo\": [{\"marker\": {\"colorbar\": {\"outlinewidth\": 0, \"ticks\": \"\"}}, \"type\": \"scattergeo\"}], \"scattergl\": [{\"marker\": {\"colorbar\": {\"outlinewidth\": 0, \"ticks\": \"\"}}, \"type\": \"scattergl\"}], \"scattermapbox\": [{\"marker\": {\"colorbar\": {\"outlinewidth\": 0, \"ticks\": \"\"}}, \"type\": \"scattermapbox\"}], \"scatterpolar\": [{\"marker\": {\"colorbar\": {\"outlinewidth\": 0, \"ticks\": \"\"}}, \"type\": \"scatterpolar\"}], \"scatterpolargl\": [{\"marker\": {\"colorbar\": {\"outlinewidth\": 0, \"ticks\": \"\"}}, \"type\": \"scatterpolargl\"}], \"scatterternary\": [{\"marker\": {\"colorbar\": {\"outlinewidth\": 0, \"ticks\": \"\"}}, \"type\": \"scatterternary\"}], \"surface\": [{\"colorbar\": {\"outlinewidth\": 0, \"ticks\": \"\"}, \"colorscale\": [[0.0, \"#0d0887\"], [0.1111111111111111, \"#46039f\"], [0.2222222222222222, \"#7201a8\"], [0.3333333333333333, \"#9c179e\"], [0.4444444444444444, \"#bd3786\"], [0.5555555555555556, \"#d8576b\"], [0.6666666666666666, \"#ed7953\"], [0.7777777777777778, \"#fb9f3a\"], [0.8888888888888888, \"#fdca26\"], [1.0, \"#f0f921\"]], \"type\": \"surface\"}], \"table\": [{\"cells\": {\"fill\": {\"color\": \"#EBF0F8\"}, \"line\": {\"color\": \"white\"}}, \"header\": {\"fill\": {\"color\": \"#C8D4E3\"}, \"line\": {\"color\": \"white\"}}, \"type\": \"table\"}]}, \"layout\": {\"annotationdefaults\": {\"arrowcolor\": \"#2a3f5f\", \"arrowhead\": 0, \"arrowwidth\": 1}, \"coloraxis\": {\"colorbar\": {\"outlinewidth\": 0, \"ticks\": \"\"}}, \"colorscale\": {\"diverging\": [[0, \"#8e0152\"], [0.1, \"#c51b7d\"], [0.2, \"#de77ae\"], [0.3, \"#f1b6da\"], [0.4, \"#fde0ef\"], [0.5, \"#f7f7f7\"], [0.6, \"#e6f5d0\"], [0.7, \"#b8e186\"], [0.8, \"#7fbc41\"], [0.9, \"#4d9221\"], [1, \"#276419\"]], \"sequential\": [[0.0, \"#0d0887\"], [0.1111111111111111, \"#46039f\"], [0.2222222222222222, \"#7201a8\"], [0.3333333333333333, \"#9c179e\"], [0.4444444444444444, \"#bd3786\"], [0.5555555555555556, \"#d8576b\"], [0.6666666666666666, \"#ed7953\"], [0.7777777777777778, \"#fb9f3a\"], [0.8888888888888888, \"#fdca26\"], [1.0, \"#f0f921\"]], \"sequentialminus\": [[0.0, \"#0d0887\"], [0.1111111111111111, \"#46039f\"], [0.2222222222222222, \"#7201a8\"], [0.3333333333333333, \"#9c179e\"], [0.4444444444444444, \"#bd3786\"], [0.5555555555555556, \"#d8576b\"], [0.6666666666666666, \"#ed7953\"], [0.7777777777777778, \"#fb9f3a\"], [0.8888888888888888, \"#fdca26\"], [1.0, \"#f0f921\"]]}, \"colorway\": [\"#1f77b4\", \"#ff7f0e\", \"#2ca02c\", \"#dc3912\", \"#9467bd\", \"#8c564b\", \"#e377c2\", \"#7f7f7f\", \"#bcbd22\", \"#17becf\"], \"font\": {\"color\": \"#2a3f5f\"}, \"geo\": {\"bgcolor\": \"white\", \"lakecolor\": \"white\", \"landcolor\": \"#E5ECF6\", \"showlakes\": true, \"showland\": true, \"subunitcolor\": \"white\"}, \"hoverlabel\": {\"align\": \"left\"}, \"hovermode\": \"closest\", \"mapbox\": {\"style\": \"light\"}, \"paper_bgcolor\": \"white\", \"plot_bgcolor\": \"#E5ECF6\", \"polar\": {\"angularaxis\": {\"gridcolor\": \"white\", \"linecolor\": \"white\", \"ticks\": \"\"}, \"bgcolor\": \"#E5ECF6\", \"radialaxis\": {\"gridcolor\": \"white\", \"linecolor\": \"white\", \"ticks\": \"\"}}, \"scene\": {\"xaxis\": {\"backgroundcolor\": \"#E5ECF6\", \"gridcolor\": \"white\", \"gridwidth\": 2, \"linecolor\": \"white\", \"showbackground\": true, \"ticks\": \"\", \"zerolinecolor\": \"white\"}, \"yaxis\": {\"backgroundcolor\": \"#E5ECF6\", \"gridcolor\": \"white\", \"gridwidth\": 2, \"linecolor\": \"white\", \"showbackground\": true, \"ticks\": \"\", \"zerolinecolor\": \"white\"}, \"zaxis\": {\"backgroundcolor\": \"#E5ECF6\", \"gridcolor\": \"white\", \"gridwidth\": 2, \"linecolor\": \"white\", \"showbackground\": true, \"ticks\": \"\", \"zerolinecolor\": \"white\"}}, \"shapedefaults\": {\"line\": {\"color\": \"#2a3f5f\"}}, \"ternary\": {\"aaxis\": {\"gridcolor\": \"white\", \"linecolor\": \"white\", \"ticks\": \"\"}, \"baxis\": {\"gridcolor\": \"white\", \"linecolor\": \"white\", \"ticks\": \"\"}, \"bgcolor\": \"#E5ECF6\", \"caxis\": {\"gridcolor\": \"white\", \"linecolor\": \"white\", \"ticks\": \"\"}}, \"title\": {\"x\": 0.05}, \"xaxis\": {\"automargin\": true, \"gridcolor\": \"white\", \"linecolor\": \"white\", \"ticks\": \"\", \"title\": {\"standoff\": 15}, \"zerolinecolor\": \"white\", \"zerolinewidth\": 2}, \"yaxis\": {\"automargin\": true, \"gridcolor\": \"white\", \"linecolor\": \"white\", \"ticks\": \"\", \"title\": {\"standoff\": 15}, \"zerolinecolor\": \"white\", \"zerolinewidth\": 2}}}, \"width\": 700},                        {\"responsive\": true}                    ).then(function(){\n",
       "                            \n",
       "var gd = document.getElementById('4902e40e-78c9-4576-aaa7-b1d739ffcf0c');\n",
       "var x = new MutationObserver(function (mutations, observer) {{\n",
       "        var display = window.getComputedStyle(gd).display;\n",
       "        if (!display || display === 'none') {{\n",
       "            console.log([gd, 'removed!']);\n",
       "            Plotly.purge(gd);\n",
       "            observer.disconnect();\n",
       "        }}\n",
       "}});\n",
       "\n",
       "// Listen for the removal of the full notebook cells\n",
       "var notebookContainer = gd.closest('#notebook-container');\n",
       "if (notebookContainer) {{\n",
       "    x.observe(notebookContainer, {childList: true});\n",
       "}}\n",
       "\n",
       "// Listen for the clearing of the current output cell\n",
       "var outputEl = gd.closest('.output');\n",
       "if (outputEl) {{\n",
       "    x.observe(outputEl, {childList: true});\n",
       "}}\n",
       "\n",
       "                        })                };                });            </script>        </div>"
      ]
     },
     "metadata": {},
     "output_type": "display_data"
    }
   ],
   "source": [
    "# get single cidx\n",
    "# cidx = [i for i,c in enumerate(contracts) if 'AMC210528C00012000' in c][0]\n",
    "# cidx = [i for i,c in enumerate(contracts) if 'AMC210521C00014000' in c][0]\n",
    "# cidx = [i for i,c in enumerate(contracts) if 'BB210521C00011000' in c][0]\n",
    "symbol = 'MARA210416C00070000' #'NUE210521C00085000'#'AAL210521C00025000'\n",
    "cidx = [i for i,c in enumerate(contracts) if symbol in c][0]\n",
    "\n",
    "# cidx = 172\n",
    "portfolio.trades[contracts[cidx][:4]][contracts[cidx][-1]].plot().show()\n",
    "# portfolio[contracts[cidx][:4]][contracts[cidx][-1]].cumulative_returns().vbt.plot().show()\n",
    "portfolio[contracts[cidx][:4]][contracts[cidx][-1]].get_drawdowns().plot().show()\n",
    "portfolio.orders[contracts[cidx][:4]][contracts[cidx][-1]].plot().show()\n",
    "entry_exit_size_df[contracts[cidx][:4]][contracts[cidx][-1]].vbt.plot().show()\n",
    "\n",
    "# portfolio.trades['expiration']['Call']['AMC']['2021-03-05']['AMC210305C00007000'].plot().show()\n",
    "# portfolio['expiration']['Call']['AMC']['2021-03-05']['AMC210305C00007000'].cumulative_returns().vbt.plot()"
   ]
  },
  {
   "cell_type": "code",
   "execution_count": 593,
   "metadata": {},
   "outputs": [],
   "source": [
    "# fig = portfolio['expiration']['Call']['AMC']['2021-03-05']['AMC210305C00007000'].plot(subplots=[\n",
    "#     'orders',\n",
    "#     ('order_size', dict(\n",
    "#         title='Order Size',\n",
    "#         can_plot_groups=False\n",
    "#     ))  # placeholder\n",
    "# ])\n",
    "# entry_exit_size_df['expiration']['Call']['AMC']['2021-03-05']['AMC210305C00007000'].vbt.plot(add_trace_kwargs=dict(row=2, col=1), fig=fig).show()\n",
    "\n",
    "# thing = ('expiration','Call','AMC','2021-03-05','AMC210305C00007000')\n",
    "# portfolio[thing].total_return() == portfolio['expiration']['Call']['AMC']['2021-03-05']['AMC210305C00007000'].total_return()\n",
    "# portfolio.trades[thing].plot_pnl()"
   ]
  },
  {
   "cell_type": "code",
   "execution_count": 224,
   "metadata": {},
   "outputs": [
    {
     "data": {
      "text/html": [
       "<div>\n",
       "<style scoped>\n",
       "    .dataframe tbody tr th:only-of-type {\n",
       "        vertical-align: middle;\n",
       "    }\n",
       "\n",
       "    .dataframe tbody tr th {\n",
       "        vertical-align: top;\n",
       "    }\n",
       "\n",
       "    .dataframe thead th {\n",
       "        text-align: right;\n",
       "    }\n",
       "</style>\n",
       "<table border=\"1\" class=\"dataframe\">\n",
       "  <thead>\n",
       "    <tr style=\"text-align: right;\">\n",
       "      <th></th>\n",
       "      <th>count</th>\n",
       "      <th>mean</th>\n",
       "      <th>std</th>\n",
       "      <th>min</th>\n",
       "      <th>25%</th>\n",
       "      <th>50%</th>\n",
       "      <th>75%</th>\n",
       "      <th>max</th>\n",
       "    </tr>\n",
       "    <tr>\n",
       "      <th>symbol</th>\n",
       "      <th></th>\n",
       "      <th></th>\n",
       "      <th></th>\n",
       "      <th></th>\n",
       "      <th></th>\n",
       "      <th></th>\n",
       "      <th></th>\n",
       "      <th></th>\n",
       "    </tr>\n",
       "  </thead>\n",
       "  <tbody>\n",
       "    <tr>\n",
       "      <th>AYRO</th>\n",
       "      <td>3.0</td>\n",
       "      <td>-492.594000</td>\n",
       "      <td>359.755760</td>\n",
       "      <td>-809.992</td>\n",
       "      <td>-687.99100</td>\n",
       "      <td>-565.9900</td>\n",
       "      <td>-333.89500</td>\n",
       "      <td>-101.800</td>\n",
       "    </tr>\n",
       "    <tr>\n",
       "      <th>CDEV</th>\n",
       "      <td>6.0</td>\n",
       "      <td>235.370500</td>\n",
       "      <td>1034.934544</td>\n",
       "      <td>-945.929</td>\n",
       "      <td>-374.46975</td>\n",
       "      <td>73.0725</td>\n",
       "      <td>572.26125</td>\n",
       "      <td>1997.000</td>\n",
       "    </tr>\n",
       "    <tr>\n",
       "      <th>CLF</th>\n",
       "      <td>6.0</td>\n",
       "      <td>339.363667</td>\n",
       "      <td>783.135933</td>\n",
       "      <td>-480.475</td>\n",
       "      <td>-270.67500</td>\n",
       "      <td>372.1545</td>\n",
       "      <td>559.46100</td>\n",
       "      <td>1635.403</td>\n",
       "    </tr>\n",
       "    <tr>\n",
       "      <th>EOSE</th>\n",
       "      <td>1.0</td>\n",
       "      <td>-626.000000</td>\n",
       "      <td>NaN</td>\n",
       "      <td>-626.000</td>\n",
       "      <td>-626.00000</td>\n",
       "      <td>-626.0000</td>\n",
       "      <td>-626.00000</td>\n",
       "      <td>-626.000</td>\n",
       "    </tr>\n",
       "    <tr>\n",
       "      <th>FANG</th>\n",
       "      <td>1.0</td>\n",
       "      <td>904.146000</td>\n",
       "      <td>NaN</td>\n",
       "      <td>904.146</td>\n",
       "      <td>904.14600</td>\n",
       "      <td>904.1460</td>\n",
       "      <td>904.14600</td>\n",
       "      <td>904.146</td>\n",
       "    </tr>\n",
       "    <tr>\n",
       "      <th>FCX</th>\n",
       "      <td>1.0</td>\n",
       "      <td>385.833000</td>\n",
       "      <td>NaN</td>\n",
       "      <td>385.833</td>\n",
       "      <td>385.83300</td>\n",
       "      <td>385.8330</td>\n",
       "      <td>385.83300</td>\n",
       "      <td>385.833</td>\n",
       "    </tr>\n",
       "    <tr>\n",
       "      <th>FNKO</th>\n",
       "      <td>2.0</td>\n",
       "      <td>1010.012500</td>\n",
       "      <td>16.988240</td>\n",
       "      <td>998.000</td>\n",
       "      <td>1004.00625</td>\n",
       "      <td>1010.0125</td>\n",
       "      <td>1016.01875</td>\n",
       "      <td>1022.025</td>\n",
       "    </tr>\n",
       "    <tr>\n",
       "      <th>FSLY</th>\n",
       "      <td>1.0</td>\n",
       "      <td>-408.404000</td>\n",
       "      <td>NaN</td>\n",
       "      <td>-408.404</td>\n",
       "      <td>-408.40400</td>\n",
       "      <td>-408.4040</td>\n",
       "      <td>-408.40400</td>\n",
       "      <td>-408.404</td>\n",
       "    </tr>\n",
       "    <tr>\n",
       "      <th>GPS</th>\n",
       "      <td>2.0</td>\n",
       "      <td>324.748000</td>\n",
       "      <td>132.783340</td>\n",
       "      <td>230.856</td>\n",
       "      <td>277.80200</td>\n",
       "      <td>324.7480</td>\n",
       "      <td>371.69400</td>\n",
       "      <td>418.640</td>\n",
       "    </tr>\n",
       "    <tr>\n",
       "      <th>GROW</th>\n",
       "      <td>1.0</td>\n",
       "      <td>243.775000</td>\n",
       "      <td>NaN</td>\n",
       "      <td>243.775</td>\n",
       "      <td>243.77500</td>\n",
       "      <td>243.7750</td>\n",
       "      <td>243.77500</td>\n",
       "      <td>243.775</td>\n",
       "    </tr>\n",
       "    <tr>\n",
       "      <th>HL</th>\n",
       "      <td>1.0</td>\n",
       "      <td>454.556000</td>\n",
       "      <td>NaN</td>\n",
       "      <td>454.556</td>\n",
       "      <td>454.55600</td>\n",
       "      <td>454.5560</td>\n",
       "      <td>454.55600</td>\n",
       "      <td>454.556</td>\n",
       "    </tr>\n",
       "    <tr>\n",
       "      <th>KNL</th>\n",
       "      <td>1.0</td>\n",
       "      <td>-396.495000</td>\n",
       "      <td>NaN</td>\n",
       "      <td>-396.495</td>\n",
       "      <td>-396.49500</td>\n",
       "      <td>-396.4950</td>\n",
       "      <td>-396.49500</td>\n",
       "      <td>-396.495</td>\n",
       "    </tr>\n",
       "    <tr>\n",
       "      <th>LAZR</th>\n",
       "      <td>4.0</td>\n",
       "      <td>56.080000</td>\n",
       "      <td>390.147478</td>\n",
       "      <td>-375.390</td>\n",
       "      <td>-200.82375</td>\n",
       "      <td>50.6050</td>\n",
       "      <td>307.50875</td>\n",
       "      <td>498.500</td>\n",
       "    </tr>\n",
       "    <tr>\n",
       "      <th>MARA</th>\n",
       "      <td>64.0</td>\n",
       "      <td>-162.125422</td>\n",
       "      <td>1168.974987</td>\n",
       "      <td>-3264.226</td>\n",
       "      <td>-488.48025</td>\n",
       "      <td>-399.9010</td>\n",
       "      <td>253.90725</td>\n",
       "      <td>3466.022</td>\n",
       "    </tr>\n",
       "    <tr>\n",
       "      <th>MARK</th>\n",
       "      <td>2.0</td>\n",
       "      <td>24.120000</td>\n",
       "      <td>388.371328</td>\n",
       "      <td>-250.500</td>\n",
       "      <td>-113.19000</td>\n",
       "      <td>24.1200</td>\n",
       "      <td>161.43000</td>\n",
       "      <td>298.740</td>\n",
       "    </tr>\n",
       "    <tr>\n",
       "      <th>MVIS</th>\n",
       "      <td>4.0</td>\n",
       "      <td>323.818750</td>\n",
       "      <td>604.745447</td>\n",
       "      <td>-455.460</td>\n",
       "      <td>76.81125</td>\n",
       "      <td>376.3675</td>\n",
       "      <td>623.37500</td>\n",
       "      <td>998.000</td>\n",
       "    </tr>\n",
       "    <tr>\n",
       "      <th>NKLA</th>\n",
       "      <td>16.0</td>\n",
       "      <td>-435.081750</td>\n",
       "      <td>326.633800</td>\n",
       "      <td>-931.917</td>\n",
       "      <td>-495.48375</td>\n",
       "      <td>-468.4820</td>\n",
       "      <td>-355.38050</td>\n",
       "      <td>502.524</td>\n",
       "    </tr>\n",
       "    <tr>\n",
       "      <th>REI</th>\n",
       "      <td>1.0</td>\n",
       "      <td>-420.490000</td>\n",
       "      <td>NaN</td>\n",
       "      <td>-420.490</td>\n",
       "      <td>-420.49000</td>\n",
       "      <td>-420.4900</td>\n",
       "      <td>-420.49000</td>\n",
       "      <td>-420.490</td>\n",
       "    </tr>\n",
       "    <tr>\n",
       "      <th>SQ</th>\n",
       "      <td>1.0</td>\n",
       "      <td>284.746000</td>\n",
       "      <td>NaN</td>\n",
       "      <td>284.746</td>\n",
       "      <td>284.74600</td>\n",
       "      <td>284.7460</td>\n",
       "      <td>284.74600</td>\n",
       "      <td>284.746</td>\n",
       "    </tr>\n",
       "    <tr>\n",
       "      <th>SSSS</th>\n",
       "      <td>1.0</td>\n",
       "      <td>298.700000</td>\n",
       "      <td>NaN</td>\n",
       "      <td>298.700</td>\n",
       "      <td>298.70000</td>\n",
       "      <td>298.7000</td>\n",
       "      <td>298.70000</td>\n",
       "      <td>298.700</td>\n",
       "    </tr>\n",
       "    <tr>\n",
       "      <th>XL</th>\n",
       "      <td>1.0</td>\n",
       "      <td>-1397.480000</td>\n",
       "      <td>NaN</td>\n",
       "      <td>-1397.480</td>\n",
       "      <td>-1397.48000</td>\n",
       "      <td>-1397.4800</td>\n",
       "      <td>-1397.48000</td>\n",
       "      <td>-1397.480</td>\n",
       "    </tr>\n",
       "  </tbody>\n",
       "</table>\n",
       "</div>"
      ],
      "text/plain": [
       "        count         mean          std       min         25%        50%  \\\n",
       "symbol                                                                     \n",
       "AYRO      3.0  -492.594000   359.755760  -809.992  -687.99100  -565.9900   \n",
       "CDEV      6.0   235.370500  1034.934544  -945.929  -374.46975    73.0725   \n",
       "CLF       6.0   339.363667   783.135933  -480.475  -270.67500   372.1545   \n",
       "EOSE      1.0  -626.000000          NaN  -626.000  -626.00000  -626.0000   \n",
       "FANG      1.0   904.146000          NaN   904.146   904.14600   904.1460   \n",
       "FCX       1.0   385.833000          NaN   385.833   385.83300   385.8330   \n",
       "FNKO      2.0  1010.012500    16.988240   998.000  1004.00625  1010.0125   \n",
       "FSLY      1.0  -408.404000          NaN  -408.404  -408.40400  -408.4040   \n",
       "GPS       2.0   324.748000   132.783340   230.856   277.80200   324.7480   \n",
       "GROW      1.0   243.775000          NaN   243.775   243.77500   243.7750   \n",
       "HL        1.0   454.556000          NaN   454.556   454.55600   454.5560   \n",
       "KNL       1.0  -396.495000          NaN  -396.495  -396.49500  -396.4950   \n",
       "LAZR      4.0    56.080000   390.147478  -375.390  -200.82375    50.6050   \n",
       "MARA     64.0  -162.125422  1168.974987 -3264.226  -488.48025  -399.9010   \n",
       "MARK      2.0    24.120000   388.371328  -250.500  -113.19000    24.1200   \n",
       "MVIS      4.0   323.818750   604.745447  -455.460    76.81125   376.3675   \n",
       "NKLA     16.0  -435.081750   326.633800  -931.917  -495.48375  -468.4820   \n",
       "REI       1.0  -420.490000          NaN  -420.490  -420.49000  -420.4900   \n",
       "SQ        1.0   284.746000          NaN   284.746   284.74600   284.7460   \n",
       "SSSS      1.0   298.700000          NaN   298.700   298.70000   298.7000   \n",
       "XL        1.0 -1397.480000          NaN -1397.480 -1397.48000 -1397.4800   \n",
       "\n",
       "               75%       max  \n",
       "symbol                        \n",
       "AYRO    -333.89500  -101.800  \n",
       "CDEV     572.26125  1997.000  \n",
       "CLF      559.46100  1635.403  \n",
       "EOSE    -626.00000  -626.000  \n",
       "FANG     904.14600   904.146  \n",
       "FCX      385.83300   385.833  \n",
       "FNKO    1016.01875  1022.025  \n",
       "FSLY    -408.40400  -408.404  \n",
       "GPS      371.69400   418.640  \n",
       "GROW     243.77500   243.775  \n",
       "HL       454.55600   454.556  \n",
       "KNL     -396.49500  -396.495  \n",
       "LAZR     307.50875   498.500  \n",
       "MARA     253.90725  3466.022  \n",
       "MARK     161.43000   298.740  \n",
       "MVIS     623.37500   998.000  \n",
       "NKLA    -355.38050   502.524  \n",
       "REI     -420.49000  -420.490  \n",
       "SQ       284.74600   284.746  \n",
       "SSSS     298.70000   298.700  \n",
       "XL     -1397.48000 -1397.480  "
      ]
     },
     "execution_count": 224,
     "metadata": {},
     "output_type": "execute_result"
    }
   ],
   "source": [
    "total_profit_df = portfolio[contracts].total_profit().reset_index()\n",
    "total_profit_df.groupby(['symbol'])['total_profit'].describe()\n",
    "# .sort_values(by=['total_profit'],ascending=False)"
   ]
  },
  {
   "cell_type": "code",
   "execution_count": 223,
   "metadata": {},
   "outputs": [
    {
     "data": {
      "text/html": [
       "<div>\n",
       "<style scoped>\n",
       "    .dataframe tbody tr th:only-of-type {\n",
       "        vertical-align: middle;\n",
       "    }\n",
       "\n",
       "    .dataframe tbody tr th {\n",
       "        vertical-align: top;\n",
       "    }\n",
       "\n",
       "    .dataframe thead th {\n",
       "        text-align: right;\n",
       "    }\n",
       "</style>\n",
       "<table border=\"1\" class=\"dataframe\">\n",
       "  <thead>\n",
       "    <tr style=\"text-align: right;\">\n",
       "      <th></th>\n",
       "      <th>count</th>\n",
       "      <th>mean</th>\n",
       "      <th>std</th>\n",
       "      <th>min</th>\n",
       "      <th>25%</th>\n",
       "      <th>50%</th>\n",
       "      <th>75%</th>\n",
       "      <th>max</th>\n",
       "    </tr>\n",
       "    <tr>\n",
       "      <th>symbol</th>\n",
       "      <th></th>\n",
       "      <th></th>\n",
       "      <th></th>\n",
       "      <th></th>\n",
       "      <th></th>\n",
       "      <th></th>\n",
       "      <th></th>\n",
       "      <th></th>\n",
       "    </tr>\n",
       "  </thead>\n",
       "  <tbody>\n",
       "    <tr>\n",
       "      <th>AYRO</th>\n",
       "      <td>3.0</td>\n",
       "      <td>0.166667</td>\n",
       "      <td>0.288675</td>\n",
       "      <td>0.0</td>\n",
       "      <td>0.000</td>\n",
       "      <td>0.00</td>\n",
       "      <td>0.250</td>\n",
       "      <td>0.5</td>\n",
       "    </tr>\n",
       "    <tr>\n",
       "      <th>CDEV</th>\n",
       "      <td>6.0</td>\n",
       "      <td>0.583333</td>\n",
       "      <td>0.491596</td>\n",
       "      <td>0.0</td>\n",
       "      <td>0.125</td>\n",
       "      <td>0.75</td>\n",
       "      <td>1.000</td>\n",
       "      <td>1.0</td>\n",
       "    </tr>\n",
       "    <tr>\n",
       "      <th>CLF</th>\n",
       "      <td>6.0</td>\n",
       "      <td>0.666667</td>\n",
       "      <td>0.516398</td>\n",
       "      <td>0.0</td>\n",
       "      <td>0.250</td>\n",
       "      <td>1.00</td>\n",
       "      <td>1.000</td>\n",
       "      <td>1.0</td>\n",
       "    </tr>\n",
       "    <tr>\n",
       "      <th>EOSE</th>\n",
       "      <td>1.0</td>\n",
       "      <td>0.000000</td>\n",
       "      <td>NaN</td>\n",
       "      <td>0.0</td>\n",
       "      <td>0.000</td>\n",
       "      <td>0.00</td>\n",
       "      <td>0.000</td>\n",
       "      <td>0.0</td>\n",
       "    </tr>\n",
       "    <tr>\n",
       "      <th>FANG</th>\n",
       "      <td>1.0</td>\n",
       "      <td>1.000000</td>\n",
       "      <td>NaN</td>\n",
       "      <td>1.0</td>\n",
       "      <td>1.000</td>\n",
       "      <td>1.00</td>\n",
       "      <td>1.000</td>\n",
       "      <td>1.0</td>\n",
       "    </tr>\n",
       "    <tr>\n",
       "      <th>FCX</th>\n",
       "      <td>1.0</td>\n",
       "      <td>1.000000</td>\n",
       "      <td>NaN</td>\n",
       "      <td>1.0</td>\n",
       "      <td>1.000</td>\n",
       "      <td>1.00</td>\n",
       "      <td>1.000</td>\n",
       "      <td>1.0</td>\n",
       "    </tr>\n",
       "    <tr>\n",
       "      <th>FNKO</th>\n",
       "      <td>2.0</td>\n",
       "      <td>1.000000</td>\n",
       "      <td>0.000000</td>\n",
       "      <td>1.0</td>\n",
       "      <td>1.000</td>\n",
       "      <td>1.00</td>\n",
       "      <td>1.000</td>\n",
       "      <td>1.0</td>\n",
       "    </tr>\n",
       "    <tr>\n",
       "      <th>FSLY</th>\n",
       "      <td>1.0</td>\n",
       "      <td>0.000000</td>\n",
       "      <td>NaN</td>\n",
       "      <td>0.0</td>\n",
       "      <td>0.000</td>\n",
       "      <td>0.00</td>\n",
       "      <td>0.000</td>\n",
       "      <td>0.0</td>\n",
       "    </tr>\n",
       "    <tr>\n",
       "      <th>GPS</th>\n",
       "      <td>2.0</td>\n",
       "      <td>1.000000</td>\n",
       "      <td>0.000000</td>\n",
       "      <td>1.0</td>\n",
       "      <td>1.000</td>\n",
       "      <td>1.00</td>\n",
       "      <td>1.000</td>\n",
       "      <td>1.0</td>\n",
       "    </tr>\n",
       "    <tr>\n",
       "      <th>GROW</th>\n",
       "      <td>1.0</td>\n",
       "      <td>1.000000</td>\n",
       "      <td>NaN</td>\n",
       "      <td>1.0</td>\n",
       "      <td>1.000</td>\n",
       "      <td>1.00</td>\n",
       "      <td>1.000</td>\n",
       "      <td>1.0</td>\n",
       "    </tr>\n",
       "    <tr>\n",
       "      <th>HL</th>\n",
       "      <td>1.0</td>\n",
       "      <td>1.000000</td>\n",
       "      <td>NaN</td>\n",
       "      <td>1.0</td>\n",
       "      <td>1.000</td>\n",
       "      <td>1.00</td>\n",
       "      <td>1.000</td>\n",
       "      <td>1.0</td>\n",
       "    </tr>\n",
       "    <tr>\n",
       "      <th>KNL</th>\n",
       "      <td>1.0</td>\n",
       "      <td>0.000000</td>\n",
       "      <td>NaN</td>\n",
       "      <td>0.0</td>\n",
       "      <td>0.000</td>\n",
       "      <td>0.00</td>\n",
       "      <td>0.000</td>\n",
       "      <td>0.0</td>\n",
       "    </tr>\n",
       "    <tr>\n",
       "      <th>LAZR</th>\n",
       "      <td>4.0</td>\n",
       "      <td>0.625000</td>\n",
       "      <td>0.478714</td>\n",
       "      <td>0.0</td>\n",
       "      <td>0.375</td>\n",
       "      <td>0.75</td>\n",
       "      <td>1.000</td>\n",
       "      <td>1.0</td>\n",
       "    </tr>\n",
       "    <tr>\n",
       "      <th>MARA</th>\n",
       "      <td>64.0</td>\n",
       "      <td>0.312500</td>\n",
       "      <td>0.431866</td>\n",
       "      <td>0.0</td>\n",
       "      <td>0.000</td>\n",
       "      <td>0.00</td>\n",
       "      <td>0.625</td>\n",
       "      <td>1.0</td>\n",
       "    </tr>\n",
       "    <tr>\n",
       "      <th>MARK</th>\n",
       "      <td>2.0</td>\n",
       "      <td>0.500000</td>\n",
       "      <td>0.707107</td>\n",
       "      <td>0.0</td>\n",
       "      <td>0.250</td>\n",
       "      <td>0.50</td>\n",
       "      <td>0.750</td>\n",
       "      <td>1.0</td>\n",
       "    </tr>\n",
       "    <tr>\n",
       "      <th>MVIS</th>\n",
       "      <td>4.0</td>\n",
       "      <td>0.750000</td>\n",
       "      <td>0.500000</td>\n",
       "      <td>0.0</td>\n",
       "      <td>0.750</td>\n",
       "      <td>1.00</td>\n",
       "      <td>1.000</td>\n",
       "      <td>1.0</td>\n",
       "    </tr>\n",
       "    <tr>\n",
       "      <th>NKLA</th>\n",
       "      <td>16.0</td>\n",
       "      <td>0.062500</td>\n",
       "      <td>0.250000</td>\n",
       "      <td>0.0</td>\n",
       "      <td>0.000</td>\n",
       "      <td>0.00</td>\n",
       "      <td>0.000</td>\n",
       "      <td>1.0</td>\n",
       "    </tr>\n",
       "    <tr>\n",
       "      <th>REI</th>\n",
       "      <td>1.0</td>\n",
       "      <td>0.000000</td>\n",
       "      <td>NaN</td>\n",
       "      <td>0.0</td>\n",
       "      <td>0.000</td>\n",
       "      <td>0.00</td>\n",
       "      <td>0.000</td>\n",
       "      <td>0.0</td>\n",
       "    </tr>\n",
       "    <tr>\n",
       "      <th>SQ</th>\n",
       "      <td>1.0</td>\n",
       "      <td>1.000000</td>\n",
       "      <td>NaN</td>\n",
       "      <td>1.0</td>\n",
       "      <td>1.000</td>\n",
       "      <td>1.00</td>\n",
       "      <td>1.000</td>\n",
       "      <td>1.0</td>\n",
       "    </tr>\n",
       "    <tr>\n",
       "      <th>SSSS</th>\n",
       "      <td>1.0</td>\n",
       "      <td>1.000000</td>\n",
       "      <td>NaN</td>\n",
       "      <td>1.0</td>\n",
       "      <td>1.000</td>\n",
       "      <td>1.00</td>\n",
       "      <td>1.000</td>\n",
       "      <td>1.0</td>\n",
       "    </tr>\n",
       "    <tr>\n",
       "      <th>XL</th>\n",
       "      <td>1.0</td>\n",
       "      <td>0.000000</td>\n",
       "      <td>NaN</td>\n",
       "      <td>0.0</td>\n",
       "      <td>0.000</td>\n",
       "      <td>0.00</td>\n",
       "      <td>0.000</td>\n",
       "      <td>0.0</td>\n",
       "    </tr>\n",
       "  </tbody>\n",
       "</table>\n",
       "</div>"
      ],
      "text/plain": [
       "        count      mean       std  min    25%   50%    75%  max\n",
       "symbol                                                         \n",
       "AYRO      3.0  0.166667  0.288675  0.0  0.000  0.00  0.250  0.5\n",
       "CDEV      6.0  0.583333  0.491596  0.0  0.125  0.75  1.000  1.0\n",
       "CLF       6.0  0.666667  0.516398  0.0  0.250  1.00  1.000  1.0\n",
       "EOSE      1.0  0.000000       NaN  0.0  0.000  0.00  0.000  0.0\n",
       "FANG      1.0  1.000000       NaN  1.0  1.000  1.00  1.000  1.0\n",
       "FCX       1.0  1.000000       NaN  1.0  1.000  1.00  1.000  1.0\n",
       "FNKO      2.0  1.000000  0.000000  1.0  1.000  1.00  1.000  1.0\n",
       "FSLY      1.0  0.000000       NaN  0.0  0.000  0.00  0.000  0.0\n",
       "GPS       2.0  1.000000  0.000000  1.0  1.000  1.00  1.000  1.0\n",
       "GROW      1.0  1.000000       NaN  1.0  1.000  1.00  1.000  1.0\n",
       "HL        1.0  1.000000       NaN  1.0  1.000  1.00  1.000  1.0\n",
       "KNL       1.0  0.000000       NaN  0.0  0.000  0.00  0.000  0.0\n",
       "LAZR      4.0  0.625000  0.478714  0.0  0.375  0.75  1.000  1.0\n",
       "MARA     64.0  0.312500  0.431866  0.0  0.000  0.00  0.625  1.0\n",
       "MARK      2.0  0.500000  0.707107  0.0  0.250  0.50  0.750  1.0\n",
       "MVIS      4.0  0.750000  0.500000  0.0  0.750  1.00  1.000  1.0\n",
       "NKLA     16.0  0.062500  0.250000  0.0  0.000  0.00  0.000  1.0\n",
       "REI       1.0  0.000000       NaN  0.0  0.000  0.00  0.000  0.0\n",
       "SQ        1.0  1.000000       NaN  1.0  1.000  1.00  1.000  1.0\n",
       "SSSS      1.0  1.000000       NaN  1.0  1.000  1.00  1.000  1.0\n",
       "XL        1.0  0.000000       NaN  0.0  0.000  0.00  0.000  0.0"
      ]
     },
     "execution_count": 223,
     "metadata": {},
     "output_type": "execute_result"
    }
   ],
   "source": [
    "win_rate_df = portfolio.trades.win_rate().dropna().reset_index()\n",
    "win_rate_df.groupby(['symbol'])['win_rate'].describe()"
   ]
  },
  {
   "cell_type": "code",
   "execution_count": 406,
   "metadata": {},
   "outputs": [],
   "source": [
    "# regroup = ['a' for _ in range(portfolio.total_return().index.shape[0])]\n",
    "# portfolio.regroup(group_by=[1 for i in range(9)]).trades.plot_pnl()\n",
    "\n",
    "# thing = ['expiration','AMC','AMC210122C00002500']\n",
    "# portfolio[thing].plot().show()\n",
    "# portfolio['expiration']['AMC']['AMC210122C00002500'].plot().show()\n"
   ]
  },
  {
   "cell_type": "code",
   "execution_count": 408,
   "metadata": {},
   "outputs": [],
   "source": [
    "# import numpy as np\n",
    "# import pandas as pd\n",
    "# from datetime import datetime\n",
    "# import vectorbt as vbt\n",
    "\n",
    "# start = datetime(2020, 1, 1)\n",
    "# end = datetime(2020, 9, 1)\n",
    "# close = vbt.utils.data.download(\"BTC-USD\", start=start, end=end)['Close']\n",
    "\n",
    "# np.random.seed(42)\n",
    "# size = pd.Series.vbt.empty_like(close, fill_value=0.)\n",
    "# n_orders = 20\n",
    "# rand_idxs = np.random.randint(0, len(size), size=n_orders)\n",
    "# size.iloc[rand_idxs] = np.random.uniform(-1, 1, size=n_orders)\n",
    "# portfolio = vbt.Portfolio.from_orders(\n",
    "#     close, size, direction='longonly',\n",
    "#     init_cash='auto', freq='1D')\n",
    "# portfolio.plot().show()\n",
    "\n",
    "#size.plot()"
   ]
  },
  {
   "cell_type": "markdown",
   "metadata": {},
   "source": [
    "### Examine portfolio methods"
   ]
  },
  {
   "cell_type": "code",
   "execution_count": 1165,
   "metadata": {
    "scrolled": true
   },
   "outputs": [
    {
     "data": {
      "text/plain": [
       "<matplotlib.axes._subplots.AxesSubplot at 0x13dde8610>"
      ]
     },
     "execution_count": 1165,
     "metadata": {},
     "output_type": "execute_result"
    },
    {
     "data": {
      "image/png": "[encoded data removed]",
      "text/plain": [
       "<Figure size 432x288 with 1 Axes>"
      ]
     },
     "metadata": {
      "needs_background": "light"
     },
     "output_type": "display_data"
    }
   ],
   "source": [
    "# portfolio.share_flow()\n",
    "# portfolio.shares()\n",
    "\n",
    "# portfolio.cash_flow()\n",
    "portfolio.cash().sum(axis=1).plot()\n",
    "portfolio.cash().ffill().sum(axis=1).plot()\n",
    "\n",
    "# portfolio.daily_returns(group_by=None)#.plot()"
   ]
  },
  {
   "cell_type": "code",
   "execution_count": 1166,
   "metadata": {},
   "outputs": [
    {
     "data": {
      "text/html": [
       "<div>\n",
       "<style scoped>\n",
       "    .dataframe tbody tr th:only-of-type {\n",
       "        vertical-align: middle;\n",
       "    }\n",
       "\n",
       "    .dataframe tbody tr th {\n",
       "        vertical-align: top;\n",
       "    }\n",
       "\n",
       "    .dataframe thead tr th {\n",
       "        text-align: left;\n",
       "    }\n",
       "\n",
       "    .dataframe thead tr:last-of-type th {\n",
       "        text-align: right;\n",
       "    }\n",
       "</style>\n",
       "<table border=\"1\" class=\"dataframe\">\n",
       "  <thead>\n",
       "    <tr>\n",
       "      <th>exit_type</th>\n",
       "      <th colspan=\"21\" halign=\"left\">expiration</th>\n",
       "    </tr>\n",
       "    <tr>\n",
       "      <th>option_type</th>\n",
       "      <th colspan=\"21\" halign=\"left\">CALL</th>\n",
       "    </tr>\n",
       "    <tr>\n",
       "      <th>symbol</th>\n",
       "      <th colspan=\"10\" halign=\"left\">AAPL</th>\n",
       "      <th>...</th>\n",
       "      <th>XL</th>\n",
       "      <th colspan=\"5\" halign=\"left\">XOM</th>\n",
       "      <th>YCBD</th>\n",
       "      <th colspan=\"3\" halign=\"left\">ZM</th>\n",
       "    </tr>\n",
       "    <tr>\n",
       "      <th>option_expiration</th>\n",
       "      <th>2021-02-19</th>\n",
       "      <th>2021-02-26</th>\n",
       "      <th colspan=\"4\" halign=\"left\">2021-03-05</th>\n",
       "      <th colspan=\"4\" halign=\"left\">2021-03-19</th>\n",
       "      <th>...</th>\n",
       "      <th>2021-05-21</th>\n",
       "      <th>2021-03-26</th>\n",
       "      <th colspan=\"4\" halign=\"left\">2021-04-16</th>\n",
       "      <th>2021-02-19</th>\n",
       "      <th>2021-04-30</th>\n",
       "      <th colspan=\"2\" halign=\"left\">2021-05-21</th>\n",
       "    </tr>\n",
       "    <tr>\n",
       "      <th>oc_hx_contract_symbol</th>\n",
       "      <th>AAPL210219C00140000</th>\n",
       "      <th>AAPL210226C00135000</th>\n",
       "      <th>AAPL210305C00136000</th>\n",
       "      <th>AAPL210305C00140000</th>\n",
       "      <th>AAPL210305C00150000</th>\n",
       "      <th>AAPL210305C00160000</th>\n",
       "      <th>AAPL210319C00130000</th>\n",
       "      <th>AAPL210319C00135000</th>\n",
       "      <th>AAPL210319C00140000</th>\n",
       "      <th>AAPL210319C00145000</th>\n",
       "      <th>...</th>\n",
       "      <th>XL210521C00020000</th>\n",
       "      <th>XOM210326C00060000</th>\n",
       "      <th>XOM210416C00055000</th>\n",
       "      <th>XOM210416C00060000</th>\n",
       "      <th>XOM210416C00065000</th>\n",
       "      <th>XOM210416C00070000</th>\n",
       "      <th>YCBD210219C00007500</th>\n",
       "      <th>ZM210430C00340000</th>\n",
       "      <th>ZM210521C00360000</th>\n",
       "      <th>ZM210521C00400000</th>\n",
       "    </tr>\n",
       "    <tr>\n",
       "      <th>Date</th>\n",
       "      <th></th>\n",
       "      <th></th>\n",
       "      <th></th>\n",
       "      <th></th>\n",
       "      <th></th>\n",
       "      <th></th>\n",
       "      <th></th>\n",
       "      <th></th>\n",
       "      <th></th>\n",
       "      <th></th>\n",
       "      <th></th>\n",
       "      <th></th>\n",
       "      <th></th>\n",
       "      <th></th>\n",
       "      <th></th>\n",
       "      <th></th>\n",
       "      <th></th>\n",
       "      <th></th>\n",
       "      <th></th>\n",
       "      <th></th>\n",
       "      <th></th>\n",
       "    </tr>\n",
       "  </thead>\n",
       "  <tbody>\n",
       "    <tr>\n",
       "      <th>2021-01-04</th>\n",
       "      <td>0.000000</td>\n",
       "      <td>0.000000</td>\n",
       "      <td>0.0</td>\n",
       "      <td>0.0</td>\n",
       "      <td>0.0</td>\n",
       "      <td>0.0</td>\n",
       "      <td>0.000000</td>\n",
       "      <td>0.000000</td>\n",
       "      <td>0.000000</td>\n",
       "      <td>0.000000</td>\n",
       "      <td>...</td>\n",
       "      <td>0.000000</td>\n",
       "      <td>0.0</td>\n",
       "      <td>0.000000</td>\n",
       "      <td>0.000000</td>\n",
       "      <td>0.000000</td>\n",
       "      <td>0.0</td>\n",
       "      <td>0.0</td>\n",
       "      <td>0.0</td>\n",
       "      <td>0.000000</td>\n",
       "      <td>0.000000</td>\n",
       "    </tr>\n",
       "    <tr>\n",
       "      <th>2021-01-05</th>\n",
       "      <td>0.057143</td>\n",
       "      <td>0.000000</td>\n",
       "      <td>0.0</td>\n",
       "      <td>0.0</td>\n",
       "      <td>0.0</td>\n",
       "      <td>0.0</td>\n",
       "      <td>0.060433</td>\n",
       "      <td>0.063158</td>\n",
       "      <td>0.068548</td>\n",
       "      <td>0.054795</td>\n",
       "      <td>...</td>\n",
       "      <td>0.094891</td>\n",
       "      <td>0.0</td>\n",
       "      <td>0.428571</td>\n",
       "      <td>0.409091</td>\n",
       "      <td>0.846154</td>\n",
       "      <td>0.0</td>\n",
       "      <td>0.0</td>\n",
       "      <td>0.0</td>\n",
       "      <td>0.003604</td>\n",
       "      <td>-0.012151</td>\n",
       "    </tr>\n",
       "    <tr>\n",
       "      <th>2021-01-06</th>\n",
       "      <td>-0.283784</td>\n",
       "      <td>0.000000</td>\n",
       "      <td>0.0</td>\n",
       "      <td>0.0</td>\n",
       "      <td>0.0</td>\n",
       "      <td>0.0</td>\n",
       "      <td>-0.225806</td>\n",
       "      <td>-0.229137</td>\n",
       "      <td>-0.235849</td>\n",
       "      <td>-0.228571</td>\n",
       "      <td>...</td>\n",
       "      <td>-0.100000</td>\n",
       "      <td>0.0</td>\n",
       "      <td>0.116667</td>\n",
       "      <td>0.032258</td>\n",
       "      <td>-0.166667</td>\n",
       "      <td>0.0</td>\n",
       "      <td>0.0</td>\n",
       "      <td>0.0</td>\n",
       "      <td>-0.149013</td>\n",
       "      <td>-0.188192</td>\n",
       "    </tr>\n",
       "    <tr>\n",
       "      <th>2021-01-07</th>\n",
       "      <td>0.354717</td>\n",
       "      <td>0.000000</td>\n",
       "      <td>0.0</td>\n",
       "      <td>0.0</td>\n",
       "      <td>0.0</td>\n",
       "      <td>0.0</td>\n",
       "      <td>0.270833</td>\n",
       "      <td>0.284404</td>\n",
       "      <td>0.306173</td>\n",
       "      <td>0.313131</td>\n",
       "      <td>...</td>\n",
       "      <td>0.185185</td>\n",
       "      <td>0.0</td>\n",
       "      <td>-0.029851</td>\n",
       "      <td>0.000000</td>\n",
       "      <td>-0.150000</td>\n",
       "      <td>0.0</td>\n",
       "      <td>0.0</td>\n",
       "      <td>0.0</td>\n",
       "      <td>-0.059072</td>\n",
       "      <td>-0.051515</td>\n",
       "    </tr>\n",
       "    <tr>\n",
       "      <th>2021-01-08</th>\n",
       "      <td>0.086351</td>\n",
       "      <td>0.070175</td>\n",
       "      <td>0.0</td>\n",
       "      <td>0.0</td>\n",
       "      <td>0.0</td>\n",
       "      <td>0.0</td>\n",
       "      <td>0.065574</td>\n",
       "      <td>0.064286</td>\n",
       "      <td>0.052930</td>\n",
       "      <td>0.069231</td>\n",
       "      <td>...</td>\n",
       "      <td>-0.031250</td>\n",
       "      <td>0.0</td>\n",
       "      <td>0.138462</td>\n",
       "      <td>0.062500</td>\n",
       "      <td>0.058824</td>\n",
       "      <td>0.0</td>\n",
       "      <td>0.0</td>\n",
       "      <td>0.0</td>\n",
       "      <td>0.050448</td>\n",
       "      <td>0.057508</td>\n",
       "    </tr>\n",
       "    <tr>\n",
       "      <th>...</th>\n",
       "      <td>...</td>\n",
       "      <td>...</td>\n",
       "      <td>...</td>\n",
       "      <td>...</td>\n",
       "      <td>...</td>\n",
       "      <td>...</td>\n",
       "      <td>...</td>\n",
       "      <td>...</td>\n",
       "      <td>...</td>\n",
       "      <td>...</td>\n",
       "      <td>...</td>\n",
       "      <td>...</td>\n",
       "      <td>...</td>\n",
       "      <td>...</td>\n",
       "      <td>...</td>\n",
       "      <td>...</td>\n",
       "      <td>...</td>\n",
       "      <td>...</td>\n",
       "      <td>...</td>\n",
       "      <td>...</td>\n",
       "      <td>...</td>\n",
       "    </tr>\n",
       "    <tr>\n",
       "      <th>2021-06-07</th>\n",
       "      <td>0.000000</td>\n",
       "      <td>0.000000</td>\n",
       "      <td>0.0</td>\n",
       "      <td>0.0</td>\n",
       "      <td>0.0</td>\n",
       "      <td>0.0</td>\n",
       "      <td>0.000000</td>\n",
       "      <td>0.000000</td>\n",
       "      <td>0.000000</td>\n",
       "      <td>0.000000</td>\n",
       "      <td>...</td>\n",
       "      <td>0.000000</td>\n",
       "      <td>0.0</td>\n",
       "      <td>0.000000</td>\n",
       "      <td>0.000000</td>\n",
       "      <td>0.000000</td>\n",
       "      <td>0.0</td>\n",
       "      <td>0.0</td>\n",
       "      <td>0.0</td>\n",
       "      <td>0.000000</td>\n",
       "      <td>0.000000</td>\n",
       "    </tr>\n",
       "    <tr>\n",
       "      <th>2021-06-08</th>\n",
       "      <td>0.000000</td>\n",
       "      <td>0.000000</td>\n",
       "      <td>0.0</td>\n",
       "      <td>0.0</td>\n",
       "      <td>0.0</td>\n",
       "      <td>0.0</td>\n",
       "      <td>0.000000</td>\n",
       "      <td>0.000000</td>\n",
       "      <td>0.000000</td>\n",
       "      <td>0.000000</td>\n",
       "      <td>...</td>\n",
       "      <td>0.000000</td>\n",
       "      <td>0.0</td>\n",
       "      <td>0.000000</td>\n",
       "      <td>0.000000</td>\n",
       "      <td>0.000000</td>\n",
       "      <td>0.0</td>\n",
       "      <td>0.0</td>\n",
       "      <td>0.0</td>\n",
       "      <td>0.000000</td>\n",
       "      <td>0.000000</td>\n",
       "    </tr>\n",
       "    <tr>\n",
       "      <th>2021-06-09</th>\n",
       "      <td>0.000000</td>\n",
       "      <td>0.000000</td>\n",
       "      <td>0.0</td>\n",
       "      <td>0.0</td>\n",
       "      <td>0.0</td>\n",
       "      <td>0.0</td>\n",
       "      <td>0.000000</td>\n",
       "      <td>0.000000</td>\n",
       "      <td>0.000000</td>\n",
       "      <td>0.000000</td>\n",
       "      <td>...</td>\n",
       "      <td>0.000000</td>\n",
       "      <td>0.0</td>\n",
       "      <td>0.000000</td>\n",
       "      <td>0.000000</td>\n",
       "      <td>0.000000</td>\n",
       "      <td>0.0</td>\n",
       "      <td>0.0</td>\n",
       "      <td>0.0</td>\n",
       "      <td>0.000000</td>\n",
       "      <td>0.000000</td>\n",
       "    </tr>\n",
       "    <tr>\n",
       "      <th>2021-06-10</th>\n",
       "      <td>0.000000</td>\n",
       "      <td>0.000000</td>\n",
       "      <td>0.0</td>\n",
       "      <td>0.0</td>\n",
       "      <td>0.0</td>\n",
       "      <td>0.0</td>\n",
       "      <td>0.000000</td>\n",
       "      <td>0.000000</td>\n",
       "      <td>0.000000</td>\n",
       "      <td>0.000000</td>\n",
       "      <td>...</td>\n",
       "      <td>0.000000</td>\n",
       "      <td>0.0</td>\n",
       "      <td>0.000000</td>\n",
       "      <td>0.000000</td>\n",
       "      <td>0.000000</td>\n",
       "      <td>0.0</td>\n",
       "      <td>0.0</td>\n",
       "      <td>0.0</td>\n",
       "      <td>0.000000</td>\n",
       "      <td>0.000000</td>\n",
       "    </tr>\n",
       "    <tr>\n",
       "      <th>2021-06-11</th>\n",
       "      <td>0.000000</td>\n",
       "      <td>0.000000</td>\n",
       "      <td>0.0</td>\n",
       "      <td>0.0</td>\n",
       "      <td>0.0</td>\n",
       "      <td>0.0</td>\n",
       "      <td>0.000000</td>\n",
       "      <td>0.000000</td>\n",
       "      <td>0.000000</td>\n",
       "      <td>0.000000</td>\n",
       "      <td>...</td>\n",
       "      <td>0.000000</td>\n",
       "      <td>0.0</td>\n",
       "      <td>0.000000</td>\n",
       "      <td>0.000000</td>\n",
       "      <td>0.000000</td>\n",
       "      <td>0.0</td>\n",
       "      <td>0.0</td>\n",
       "      <td>0.0</td>\n",
       "      <td>0.000000</td>\n",
       "      <td>0.000000</td>\n",
       "    </tr>\n",
       "  </tbody>\n",
       "</table>\n",
       "<p>111 rows × 604 columns</p>\n",
       "</div>"
      ],
      "text/plain": [
       "exit_type                      expiration                      \\\n",
       "option_type                          CALL                       \n",
       "symbol                               AAPL                       \n",
       "option_expiration              2021-02-19          2021-02-26   \n",
       "oc_hx_contract_symbol AAPL210219C00140000 AAPL210226C00135000   \n",
       "Date                                                            \n",
       "2021-01-04                       0.000000            0.000000   \n",
       "2021-01-05                       0.057143            0.000000   \n",
       "2021-01-06                      -0.283784            0.000000   \n",
       "2021-01-07                       0.354717            0.000000   \n",
       "2021-01-08                       0.086351            0.070175   \n",
       "...                                   ...                 ...   \n",
       "2021-06-07                       0.000000            0.000000   \n",
       "2021-06-08                       0.000000            0.000000   \n",
       "2021-06-09                       0.000000            0.000000   \n",
       "2021-06-10                       0.000000            0.000000   \n",
       "2021-06-11                       0.000000            0.000000   \n",
       "\n",
       "exit_type                                                      \\\n",
       "option_type                                                     \n",
       "symbol                                                          \n",
       "option_expiration              2021-03-05                       \n",
       "oc_hx_contract_symbol AAPL210305C00136000 AAPL210305C00140000   \n",
       "Date                                                            \n",
       "2021-01-04                            0.0                 0.0   \n",
       "2021-01-05                            0.0                 0.0   \n",
       "2021-01-06                            0.0                 0.0   \n",
       "2021-01-07                            0.0                 0.0   \n",
       "2021-01-08                            0.0                 0.0   \n",
       "...                                   ...                 ...   \n",
       "2021-06-07                            0.0                 0.0   \n",
       "2021-06-08                            0.0                 0.0   \n",
       "2021-06-09                            0.0                 0.0   \n",
       "2021-06-10                            0.0                 0.0   \n",
       "2021-06-11                            0.0                 0.0   \n",
       "\n",
       "exit_type                                                      \\\n",
       "option_type                                                     \n",
       "symbol                                                          \n",
       "option_expiration                                               \n",
       "oc_hx_contract_symbol AAPL210305C00150000 AAPL210305C00160000   \n",
       "Date                                                            \n",
       "2021-01-04                            0.0                 0.0   \n",
       "2021-01-05                            0.0                 0.0   \n",
       "2021-01-06                            0.0                 0.0   \n",
       "2021-01-07                            0.0                 0.0   \n",
       "2021-01-08                            0.0                 0.0   \n",
       "...                                   ...                 ...   \n",
       "2021-06-07                            0.0                 0.0   \n",
       "2021-06-08                            0.0                 0.0   \n",
       "2021-06-09                            0.0                 0.0   \n",
       "2021-06-10                            0.0                 0.0   \n",
       "2021-06-11                            0.0                 0.0   \n",
       "\n",
       "exit_type                                                      \\\n",
       "option_type                                                     \n",
       "symbol                                                          \n",
       "option_expiration              2021-03-19                       \n",
       "oc_hx_contract_symbol AAPL210319C00130000 AAPL210319C00135000   \n",
       "Date                                                            \n",
       "2021-01-04                       0.000000            0.000000   \n",
       "2021-01-05                       0.060433            0.063158   \n",
       "2021-01-06                      -0.225806           -0.229137   \n",
       "2021-01-07                       0.270833            0.284404   \n",
       "2021-01-08                       0.065574            0.064286   \n",
       "...                                   ...                 ...   \n",
       "2021-06-07                       0.000000            0.000000   \n",
       "2021-06-08                       0.000000            0.000000   \n",
       "2021-06-09                       0.000000            0.000000   \n",
       "2021-06-10                       0.000000            0.000000   \n",
       "2021-06-11                       0.000000            0.000000   \n",
       "\n",
       "exit_type                                                      ...  \\\n",
       "option_type                                                    ...   \n",
       "symbol                                                         ...   \n",
       "option_expiration                                              ...   \n",
       "oc_hx_contract_symbol AAPL210319C00140000 AAPL210319C00145000  ...   \n",
       "Date                                                           ...   \n",
       "2021-01-04                       0.000000            0.000000  ...   \n",
       "2021-01-05                       0.068548            0.054795  ...   \n",
       "2021-01-06                      -0.235849           -0.228571  ...   \n",
       "2021-01-07                       0.306173            0.313131  ...   \n",
       "2021-01-08                       0.052930            0.069231  ...   \n",
       "...                                   ...                 ...  ...   \n",
       "2021-06-07                       0.000000            0.000000  ...   \n",
       "2021-06-08                       0.000000            0.000000  ...   \n",
       "2021-06-09                       0.000000            0.000000  ...   \n",
       "2021-06-10                       0.000000            0.000000  ...   \n",
       "2021-06-11                       0.000000            0.000000  ...   \n",
       "\n",
       "exit_type                                                                      \\\n",
       "option_type                                                                     \n",
       "symbol                               XL                XOM                      \n",
       "option_expiration            2021-05-21         2021-03-26         2021-04-16   \n",
       "oc_hx_contract_symbol XL210521C00020000 XOM210326C00060000 XOM210416C00055000   \n",
       "Date                                                                            \n",
       "2021-01-04                     0.000000                0.0           0.000000   \n",
       "2021-01-05                     0.094891                0.0           0.428571   \n",
       "2021-01-06                    -0.100000                0.0           0.116667   \n",
       "2021-01-07                     0.185185                0.0          -0.029851   \n",
       "2021-01-08                    -0.031250                0.0           0.138462   \n",
       "...                                 ...                ...                ...   \n",
       "2021-06-07                     0.000000                0.0           0.000000   \n",
       "2021-06-08                     0.000000                0.0           0.000000   \n",
       "2021-06-09                     0.000000                0.0           0.000000   \n",
       "2021-06-10                     0.000000                0.0           0.000000   \n",
       "2021-06-11                     0.000000                0.0           0.000000   \n",
       "\n",
       "exit_type                                                    \\\n",
       "option_type                                                   \n",
       "symbol                                                        \n",
       "option_expiration                                             \n",
       "oc_hx_contract_symbol XOM210416C00060000 XOM210416C00065000   \n",
       "Date                                                          \n",
       "2021-01-04                      0.000000           0.000000   \n",
       "2021-01-05                      0.409091           0.846154   \n",
       "2021-01-06                      0.032258          -0.166667   \n",
       "2021-01-07                      0.000000          -0.150000   \n",
       "2021-01-08                      0.062500           0.058824   \n",
       "...                                  ...                ...   \n",
       "2021-06-07                      0.000000           0.000000   \n",
       "2021-06-08                      0.000000           0.000000   \n",
       "2021-06-09                      0.000000           0.000000   \n",
       "2021-06-10                      0.000000           0.000000   \n",
       "2021-06-11                      0.000000           0.000000   \n",
       "\n",
       "exit_type                                                     \\\n",
       "option_type                                                    \n",
       "symbol                                                  YCBD   \n",
       "option_expiration                                 2021-02-19   \n",
       "oc_hx_contract_symbol XOM210416C00070000 YCBD210219C00007500   \n",
       "Date                                                           \n",
       "2021-01-04                           0.0                 0.0   \n",
       "2021-01-05                           0.0                 0.0   \n",
       "2021-01-06                           0.0                 0.0   \n",
       "2021-01-07                           0.0                 0.0   \n",
       "2021-01-08                           0.0                 0.0   \n",
       "...                                  ...                 ...   \n",
       "2021-06-07                           0.0                 0.0   \n",
       "2021-06-08                           0.0                 0.0   \n",
       "2021-06-09                           0.0                 0.0   \n",
       "2021-06-10                           0.0                 0.0   \n",
       "2021-06-11                           0.0                 0.0   \n",
       "\n",
       "exit_type                                                                    \n",
       "option_type                                                                  \n",
       "symbol                               ZM                                      \n",
       "option_expiration            2021-04-30        2021-05-21                    \n",
       "oc_hx_contract_symbol ZM210430C00340000 ZM210521C00360000 ZM210521C00400000  \n",
       "Date                                                                         \n",
       "2021-01-04                          0.0          0.000000          0.000000  \n",
       "2021-01-05                          0.0          0.003604         -0.012151  \n",
       "2021-01-06                          0.0         -0.149013         -0.188192  \n",
       "2021-01-07                          0.0         -0.059072         -0.051515  \n",
       "2021-01-08                          0.0          0.050448          0.057508  \n",
       "...                                 ...               ...               ...  \n",
       "2021-06-07                          0.0          0.000000          0.000000  \n",
       "2021-06-08                          0.0          0.000000          0.000000  \n",
       "2021-06-09                          0.0          0.000000          0.000000  \n",
       "2021-06-10                          0.0          0.000000          0.000000  \n",
       "2021-06-11                          0.0          0.000000          0.000000  \n",
       "\n",
       "[111 rows x 604 columns]"
      ]
     },
     "execution_count": 1166,
     "metadata": {},
     "output_type": "execute_result"
    }
   ],
   "source": [
    "portfolio.market_returns()#.plot()"
   ]
  },
  {
   "cell_type": "code",
   "execution_count": 1169,
   "metadata": {},
   "outputs": [
    {
     "data": {
      "text/html": [
       "<div>\n",
       "<style scoped>\n",
       "    .dataframe tbody tr th:only-of-type {\n",
       "        vertical-align: middle;\n",
       "    }\n",
       "\n",
       "    .dataframe tbody tr th {\n",
       "        vertical-align: top;\n",
       "    }\n",
       "\n",
       "    .dataframe thead tr th {\n",
       "        text-align: left;\n",
       "    }\n",
       "\n",
       "    .dataframe thead tr:last-of-type th {\n",
       "        text-align: right;\n",
       "    }\n",
       "</style>\n",
       "<table border=\"1\" class=\"dataframe\">\n",
       "  <thead>\n",
       "    <tr>\n",
       "      <th>exit_type</th>\n",
       "      <th colspan=\"21\" halign=\"left\">expiration</th>\n",
       "    </tr>\n",
       "    <tr>\n",
       "      <th>option_type</th>\n",
       "      <th colspan=\"21\" halign=\"left\">CALL</th>\n",
       "    </tr>\n",
       "    <tr>\n",
       "      <th>symbol</th>\n",
       "      <th colspan=\"10\" halign=\"left\">AAPL</th>\n",
       "      <th>...</th>\n",
       "      <th>XL</th>\n",
       "      <th colspan=\"5\" halign=\"left\">XOM</th>\n",
       "      <th>YCBD</th>\n",
       "      <th colspan=\"3\" halign=\"left\">ZM</th>\n",
       "    </tr>\n",
       "    <tr>\n",
       "      <th>option_expiration</th>\n",
       "      <th>2021-02-19</th>\n",
       "      <th>2021-02-26</th>\n",
       "      <th colspan=\"4\" halign=\"left\">2021-03-05</th>\n",
       "      <th colspan=\"4\" halign=\"left\">2021-03-19</th>\n",
       "      <th>...</th>\n",
       "      <th>2021-05-21</th>\n",
       "      <th>2021-03-26</th>\n",
       "      <th colspan=\"4\" halign=\"left\">2021-04-16</th>\n",
       "      <th>2021-02-19</th>\n",
       "      <th>2021-04-30</th>\n",
       "      <th colspan=\"2\" halign=\"left\">2021-05-21</th>\n",
       "    </tr>\n",
       "    <tr>\n",
       "      <th>oc_hx_contract_symbol</th>\n",
       "      <th>AAPL210219C00140000</th>\n",
       "      <th>AAPL210226C00135000</th>\n",
       "      <th>AAPL210305C00136000</th>\n",
       "      <th>AAPL210305C00140000</th>\n",
       "      <th>AAPL210305C00150000</th>\n",
       "      <th>AAPL210305C00160000</th>\n",
       "      <th>AAPL210319C00130000</th>\n",
       "      <th>AAPL210319C00135000</th>\n",
       "      <th>AAPL210319C00140000</th>\n",
       "      <th>AAPL210319C00145000</th>\n",
       "      <th>...</th>\n",
       "      <th>XL210521C00020000</th>\n",
       "      <th>XOM210326C00060000</th>\n",
       "      <th>XOM210416C00055000</th>\n",
       "      <th>XOM210416C00060000</th>\n",
       "      <th>XOM210416C00065000</th>\n",
       "      <th>XOM210416C00070000</th>\n",
       "      <th>YCBD210219C00007500</th>\n",
       "      <th>ZM210430C00340000</th>\n",
       "      <th>ZM210521C00360000</th>\n",
       "      <th>ZM210521C00400000</th>\n",
       "    </tr>\n",
       "    <tr>\n",
       "      <th>Date</th>\n",
       "      <th></th>\n",
       "      <th></th>\n",
       "      <th></th>\n",
       "      <th></th>\n",
       "      <th></th>\n",
       "      <th></th>\n",
       "      <th></th>\n",
       "      <th></th>\n",
       "      <th></th>\n",
       "      <th></th>\n",
       "      <th></th>\n",
       "      <th></th>\n",
       "      <th></th>\n",
       "      <th></th>\n",
       "      <th></th>\n",
       "      <th></th>\n",
       "      <th></th>\n",
       "      <th></th>\n",
       "      <th></th>\n",
       "      <th></th>\n",
       "      <th></th>\n",
       "    </tr>\n",
       "  </thead>\n",
       "  <tbody>\n",
       "    <tr>\n",
       "      <th>2021-01-04</th>\n",
       "      <td>0.0</td>\n",
       "      <td>0.0</td>\n",
       "      <td>0.0</td>\n",
       "      <td>0.0</td>\n",
       "      <td>0.0</td>\n",
       "      <td>0.0</td>\n",
       "      <td>0.0</td>\n",
       "      <td>0.0</td>\n",
       "      <td>0.0</td>\n",
       "      <td>0.0</td>\n",
       "      <td>...</td>\n",
       "      <td>0.0</td>\n",
       "      <td>0.0</td>\n",
       "      <td>0.0</td>\n",
       "      <td>0.0</td>\n",
       "      <td>0.0</td>\n",
       "      <td>0.0</td>\n",
       "      <td>0.0</td>\n",
       "      <td>0.0</td>\n",
       "      <td>0.0</td>\n",
       "      <td>0.0</td>\n",
       "    </tr>\n",
       "    <tr>\n",
       "      <th>2021-01-05</th>\n",
       "      <td>0.0</td>\n",
       "      <td>0.0</td>\n",
       "      <td>0.0</td>\n",
       "      <td>0.0</td>\n",
       "      <td>0.0</td>\n",
       "      <td>0.0</td>\n",
       "      <td>0.0</td>\n",
       "      <td>0.0</td>\n",
       "      <td>0.0</td>\n",
       "      <td>0.0</td>\n",
       "      <td>...</td>\n",
       "      <td>0.0</td>\n",
       "      <td>0.0</td>\n",
       "      <td>0.0</td>\n",
       "      <td>0.0</td>\n",
       "      <td>0.0</td>\n",
       "      <td>0.0</td>\n",
       "      <td>0.0</td>\n",
       "      <td>0.0</td>\n",
       "      <td>0.0</td>\n",
       "      <td>0.0</td>\n",
       "    </tr>\n",
       "    <tr>\n",
       "      <th>2021-01-06</th>\n",
       "      <td>0.0</td>\n",
       "      <td>0.0</td>\n",
       "      <td>0.0</td>\n",
       "      <td>0.0</td>\n",
       "      <td>0.0</td>\n",
       "      <td>0.0</td>\n",
       "      <td>0.0</td>\n",
       "      <td>0.0</td>\n",
       "      <td>0.0</td>\n",
       "      <td>0.0</td>\n",
       "      <td>...</td>\n",
       "      <td>0.0</td>\n",
       "      <td>0.0</td>\n",
       "      <td>0.0</td>\n",
       "      <td>0.0</td>\n",
       "      <td>0.0</td>\n",
       "      <td>0.0</td>\n",
       "      <td>0.0</td>\n",
       "      <td>0.0</td>\n",
       "      <td>0.0</td>\n",
       "      <td>0.0</td>\n",
       "    </tr>\n",
       "    <tr>\n",
       "      <th>2021-01-07</th>\n",
       "      <td>0.0</td>\n",
       "      <td>0.0</td>\n",
       "      <td>0.0</td>\n",
       "      <td>0.0</td>\n",
       "      <td>0.0</td>\n",
       "      <td>0.0</td>\n",
       "      <td>0.0</td>\n",
       "      <td>0.0</td>\n",
       "      <td>0.0</td>\n",
       "      <td>0.0</td>\n",
       "      <td>...</td>\n",
       "      <td>0.0</td>\n",
       "      <td>0.0</td>\n",
       "      <td>0.0</td>\n",
       "      <td>0.0</td>\n",
       "      <td>0.0</td>\n",
       "      <td>0.0</td>\n",
       "      <td>0.0</td>\n",
       "      <td>0.0</td>\n",
       "      <td>0.0</td>\n",
       "      <td>0.0</td>\n",
       "    </tr>\n",
       "    <tr>\n",
       "      <th>2021-01-08</th>\n",
       "      <td>0.0</td>\n",
       "      <td>0.0</td>\n",
       "      <td>0.0</td>\n",
       "      <td>0.0</td>\n",
       "      <td>0.0</td>\n",
       "      <td>0.0</td>\n",
       "      <td>0.0</td>\n",
       "      <td>0.0</td>\n",
       "      <td>0.0</td>\n",
       "      <td>0.0</td>\n",
       "      <td>...</td>\n",
       "      <td>0.0</td>\n",
       "      <td>0.0</td>\n",
       "      <td>0.0</td>\n",
       "      <td>0.0</td>\n",
       "      <td>0.0</td>\n",
       "      <td>0.0</td>\n",
       "      <td>0.0</td>\n",
       "      <td>0.0</td>\n",
       "      <td>0.0</td>\n",
       "      <td>0.0</td>\n",
       "    </tr>\n",
       "    <tr>\n",
       "      <th>...</th>\n",
       "      <td>...</td>\n",
       "      <td>...</td>\n",
       "      <td>...</td>\n",
       "      <td>...</td>\n",
       "      <td>...</td>\n",
       "      <td>...</td>\n",
       "      <td>...</td>\n",
       "      <td>...</td>\n",
       "      <td>...</td>\n",
       "      <td>...</td>\n",
       "      <td>...</td>\n",
       "      <td>...</td>\n",
       "      <td>...</td>\n",
       "      <td>...</td>\n",
       "      <td>...</td>\n",
       "      <td>...</td>\n",
       "      <td>...</td>\n",
       "      <td>...</td>\n",
       "      <td>...</td>\n",
       "      <td>...</td>\n",
       "      <td>...</td>\n",
       "    </tr>\n",
       "    <tr>\n",
       "      <th>2021-06-07</th>\n",
       "      <td>0.0</td>\n",
       "      <td>0.0</td>\n",
       "      <td>0.0</td>\n",
       "      <td>0.0</td>\n",
       "      <td>0.0</td>\n",
       "      <td>0.0</td>\n",
       "      <td>0.0</td>\n",
       "      <td>0.0</td>\n",
       "      <td>0.0</td>\n",
       "      <td>0.0</td>\n",
       "      <td>...</td>\n",
       "      <td>0.0</td>\n",
       "      <td>0.0</td>\n",
       "      <td>0.0</td>\n",
       "      <td>0.0</td>\n",
       "      <td>0.0</td>\n",
       "      <td>0.0</td>\n",
       "      <td>0.0</td>\n",
       "      <td>0.0</td>\n",
       "      <td>0.0</td>\n",
       "      <td>0.0</td>\n",
       "    </tr>\n",
       "    <tr>\n",
       "      <th>2021-06-08</th>\n",
       "      <td>0.0</td>\n",
       "      <td>0.0</td>\n",
       "      <td>0.0</td>\n",
       "      <td>0.0</td>\n",
       "      <td>0.0</td>\n",
       "      <td>0.0</td>\n",
       "      <td>0.0</td>\n",
       "      <td>0.0</td>\n",
       "      <td>0.0</td>\n",
       "      <td>0.0</td>\n",
       "      <td>...</td>\n",
       "      <td>0.0</td>\n",
       "      <td>0.0</td>\n",
       "      <td>0.0</td>\n",
       "      <td>0.0</td>\n",
       "      <td>0.0</td>\n",
       "      <td>0.0</td>\n",
       "      <td>0.0</td>\n",
       "      <td>0.0</td>\n",
       "      <td>0.0</td>\n",
       "      <td>0.0</td>\n",
       "    </tr>\n",
       "    <tr>\n",
       "      <th>2021-06-09</th>\n",
       "      <td>0.0</td>\n",
       "      <td>0.0</td>\n",
       "      <td>0.0</td>\n",
       "      <td>0.0</td>\n",
       "      <td>0.0</td>\n",
       "      <td>0.0</td>\n",
       "      <td>0.0</td>\n",
       "      <td>0.0</td>\n",
       "      <td>0.0</td>\n",
       "      <td>0.0</td>\n",
       "      <td>...</td>\n",
       "      <td>0.0</td>\n",
       "      <td>0.0</td>\n",
       "      <td>0.0</td>\n",
       "      <td>0.0</td>\n",
       "      <td>0.0</td>\n",
       "      <td>0.0</td>\n",
       "      <td>0.0</td>\n",
       "      <td>0.0</td>\n",
       "      <td>0.0</td>\n",
       "      <td>0.0</td>\n",
       "    </tr>\n",
       "    <tr>\n",
       "      <th>2021-06-10</th>\n",
       "      <td>0.0</td>\n",
       "      <td>0.0</td>\n",
       "      <td>0.0</td>\n",
       "      <td>0.0</td>\n",
       "      <td>0.0</td>\n",
       "      <td>0.0</td>\n",
       "      <td>0.0</td>\n",
       "      <td>0.0</td>\n",
       "      <td>0.0</td>\n",
       "      <td>0.0</td>\n",
       "      <td>...</td>\n",
       "      <td>0.0</td>\n",
       "      <td>0.0</td>\n",
       "      <td>0.0</td>\n",
       "      <td>0.0</td>\n",
       "      <td>0.0</td>\n",
       "      <td>0.0</td>\n",
       "      <td>0.0</td>\n",
       "      <td>0.0</td>\n",
       "      <td>0.0</td>\n",
       "      <td>0.0</td>\n",
       "    </tr>\n",
       "    <tr>\n",
       "      <th>2021-06-11</th>\n",
       "      <td>0.0</td>\n",
       "      <td>0.0</td>\n",
       "      <td>0.0</td>\n",
       "      <td>0.0</td>\n",
       "      <td>0.0</td>\n",
       "      <td>0.0</td>\n",
       "      <td>0.0</td>\n",
       "      <td>0.0</td>\n",
       "      <td>0.0</td>\n",
       "      <td>0.0</td>\n",
       "      <td>...</td>\n",
       "      <td>0.0</td>\n",
       "      <td>0.0</td>\n",
       "      <td>0.0</td>\n",
       "      <td>0.0</td>\n",
       "      <td>0.0</td>\n",
       "      <td>0.0</td>\n",
       "      <td>0.0</td>\n",
       "      <td>0.0</td>\n",
       "      <td>0.0</td>\n",
       "      <td>0.0</td>\n",
       "    </tr>\n",
       "  </tbody>\n",
       "</table>\n",
       "<p>111 rows × 604 columns</p>\n",
       "</div>"
      ],
      "text/plain": [
       "exit_type                      expiration                      \\\n",
       "option_type                          CALL                       \n",
       "symbol                               AAPL                       \n",
       "option_expiration              2021-02-19          2021-02-26   \n",
       "oc_hx_contract_symbol AAPL210219C00140000 AAPL210226C00135000   \n",
       "Date                                                            \n",
       "2021-01-04                            0.0                 0.0   \n",
       "2021-01-05                            0.0                 0.0   \n",
       "2021-01-06                            0.0                 0.0   \n",
       "2021-01-07                            0.0                 0.0   \n",
       "2021-01-08                            0.0                 0.0   \n",
       "...                                   ...                 ...   \n",
       "2021-06-07                            0.0                 0.0   \n",
       "2021-06-08                            0.0                 0.0   \n",
       "2021-06-09                            0.0                 0.0   \n",
       "2021-06-10                            0.0                 0.0   \n",
       "2021-06-11                            0.0                 0.0   \n",
       "\n",
       "exit_type                                                      \\\n",
       "option_type                                                     \n",
       "symbol                                                          \n",
       "option_expiration              2021-03-05                       \n",
       "oc_hx_contract_symbol AAPL210305C00136000 AAPL210305C00140000   \n",
       "Date                                                            \n",
       "2021-01-04                            0.0                 0.0   \n",
       "2021-01-05                            0.0                 0.0   \n",
       "2021-01-06                            0.0                 0.0   \n",
       "2021-01-07                            0.0                 0.0   \n",
       "2021-01-08                            0.0                 0.0   \n",
       "...                                   ...                 ...   \n",
       "2021-06-07                            0.0                 0.0   \n",
       "2021-06-08                            0.0                 0.0   \n",
       "2021-06-09                            0.0                 0.0   \n",
       "2021-06-10                            0.0                 0.0   \n",
       "2021-06-11                            0.0                 0.0   \n",
       "\n",
       "exit_type                                                      \\\n",
       "option_type                                                     \n",
       "symbol                                                          \n",
       "option_expiration                                               \n",
       "oc_hx_contract_symbol AAPL210305C00150000 AAPL210305C00160000   \n",
       "Date                                                            \n",
       "2021-01-04                            0.0                 0.0   \n",
       "2021-01-05                            0.0                 0.0   \n",
       "2021-01-06                            0.0                 0.0   \n",
       "2021-01-07                            0.0                 0.0   \n",
       "2021-01-08                            0.0                 0.0   \n",
       "...                                   ...                 ...   \n",
       "2021-06-07                            0.0                 0.0   \n",
       "2021-06-08                            0.0                 0.0   \n",
       "2021-06-09                            0.0                 0.0   \n",
       "2021-06-10                            0.0                 0.0   \n",
       "2021-06-11                            0.0                 0.0   \n",
       "\n",
       "exit_type                                                      \\\n",
       "option_type                                                     \n",
       "symbol                                                          \n",
       "option_expiration              2021-03-19                       \n",
       "oc_hx_contract_symbol AAPL210319C00130000 AAPL210319C00135000   \n",
       "Date                                                            \n",
       "2021-01-04                            0.0                 0.0   \n",
       "2021-01-05                            0.0                 0.0   \n",
       "2021-01-06                            0.0                 0.0   \n",
       "2021-01-07                            0.0                 0.0   \n",
       "2021-01-08                            0.0                 0.0   \n",
       "...                                   ...                 ...   \n",
       "2021-06-07                            0.0                 0.0   \n",
       "2021-06-08                            0.0                 0.0   \n",
       "2021-06-09                            0.0                 0.0   \n",
       "2021-06-10                            0.0                 0.0   \n",
       "2021-06-11                            0.0                 0.0   \n",
       "\n",
       "exit_type                                                      ...  \\\n",
       "option_type                                                    ...   \n",
       "symbol                                                         ...   \n",
       "option_expiration                                              ...   \n",
       "oc_hx_contract_symbol AAPL210319C00140000 AAPL210319C00145000  ...   \n",
       "Date                                                           ...   \n",
       "2021-01-04                            0.0                 0.0  ...   \n",
       "2021-01-05                            0.0                 0.0  ...   \n",
       "2021-01-06                            0.0                 0.0  ...   \n",
       "2021-01-07                            0.0                 0.0  ...   \n",
       "2021-01-08                            0.0                 0.0  ...   \n",
       "...                                   ...                 ...  ...   \n",
       "2021-06-07                            0.0                 0.0  ...   \n",
       "2021-06-08                            0.0                 0.0  ...   \n",
       "2021-06-09                            0.0                 0.0  ...   \n",
       "2021-06-10                            0.0                 0.0  ...   \n",
       "2021-06-11                            0.0                 0.0  ...   \n",
       "\n",
       "exit_type                                                                      \\\n",
       "option_type                                                                     \n",
       "symbol                               XL                XOM                      \n",
       "option_expiration            2021-05-21         2021-03-26         2021-04-16   \n",
       "oc_hx_contract_symbol XL210521C00020000 XOM210326C00060000 XOM210416C00055000   \n",
       "Date                                                                            \n",
       "2021-01-04                          0.0                0.0                0.0   \n",
       "2021-01-05                          0.0                0.0                0.0   \n",
       "2021-01-06                          0.0                0.0                0.0   \n",
       "2021-01-07                          0.0                0.0                0.0   \n",
       "2021-01-08                          0.0                0.0                0.0   \n",
       "...                                 ...                ...                ...   \n",
       "2021-06-07                          0.0                0.0                0.0   \n",
       "2021-06-08                          0.0                0.0                0.0   \n",
       "2021-06-09                          0.0                0.0                0.0   \n",
       "2021-06-10                          0.0                0.0                0.0   \n",
       "2021-06-11                          0.0                0.0                0.0   \n",
       "\n",
       "exit_type                                                    \\\n",
       "option_type                                                   \n",
       "symbol                                                        \n",
       "option_expiration                                             \n",
       "oc_hx_contract_symbol XOM210416C00060000 XOM210416C00065000   \n",
       "Date                                                          \n",
       "2021-01-04                           0.0                0.0   \n",
       "2021-01-05                           0.0                0.0   \n",
       "2021-01-06                           0.0                0.0   \n",
       "2021-01-07                           0.0                0.0   \n",
       "2021-01-08                           0.0                0.0   \n",
       "...                                  ...                ...   \n",
       "2021-06-07                           0.0                0.0   \n",
       "2021-06-08                           0.0                0.0   \n",
       "2021-06-09                           0.0                0.0   \n",
       "2021-06-10                           0.0                0.0   \n",
       "2021-06-11                           0.0                0.0   \n",
       "\n",
       "exit_type                                                     \\\n",
       "option_type                                                    \n",
       "symbol                                                  YCBD   \n",
       "option_expiration                                 2021-02-19   \n",
       "oc_hx_contract_symbol XOM210416C00070000 YCBD210219C00007500   \n",
       "Date                                                           \n",
       "2021-01-04                           0.0                 0.0   \n",
       "2021-01-05                           0.0                 0.0   \n",
       "2021-01-06                           0.0                 0.0   \n",
       "2021-01-07                           0.0                 0.0   \n",
       "2021-01-08                           0.0                 0.0   \n",
       "...                                  ...                 ...   \n",
       "2021-06-07                           0.0                 0.0   \n",
       "2021-06-08                           0.0                 0.0   \n",
       "2021-06-09                           0.0                 0.0   \n",
       "2021-06-10                           0.0                 0.0   \n",
       "2021-06-11                           0.0                 0.0   \n",
       "\n",
       "exit_type                                                                    \n",
       "option_type                                                                  \n",
       "symbol                               ZM                                      \n",
       "option_expiration            2021-04-30        2021-05-21                    \n",
       "oc_hx_contract_symbol ZM210430C00340000 ZM210521C00360000 ZM210521C00400000  \n",
       "Date                                                                         \n",
       "2021-01-04                          0.0               0.0               0.0  \n",
       "2021-01-05                          0.0               0.0               0.0  \n",
       "2021-01-06                          0.0               0.0               0.0  \n",
       "2021-01-07                          0.0               0.0               0.0  \n",
       "2021-01-08                          0.0               0.0               0.0  \n",
       "...                                 ...               ...               ...  \n",
       "2021-06-07                          0.0               0.0               0.0  \n",
       "2021-06-08                          0.0               0.0               0.0  \n",
       "2021-06-09                          0.0               0.0               0.0  \n",
       "2021-06-10                          0.0               0.0               0.0  \n",
       "2021-06-11                          0.0               0.0               0.0  \n",
       "\n",
       "[111 rows x 604 columns]"
      ]
     },
     "execution_count": 1169,
     "metadata": {},
     "output_type": "execute_result"
    }
   ],
   "source": [
    "portfolio.active_returns()"
   ]
  },
  {
   "cell_type": "code",
   "execution_count": 1170,
   "metadata": {
    "scrolled": true
   },
   "outputs": [
    {
     "data": {
      "text/html": [
       "<div>\n",
       "<style scoped>\n",
       "    .dataframe tbody tr th:only-of-type {\n",
       "        vertical-align: middle;\n",
       "    }\n",
       "\n",
       "    .dataframe tbody tr th {\n",
       "        vertical-align: top;\n",
       "    }\n",
       "\n",
       "    .dataframe thead tr th {\n",
       "        text-align: left;\n",
       "    }\n",
       "\n",
       "    .dataframe thead tr:last-of-type th {\n",
       "        text-align: right;\n",
       "    }\n",
       "</style>\n",
       "<table border=\"1\" class=\"dataframe\">\n",
       "  <thead>\n",
       "    <tr>\n",
       "      <th>exit_type</th>\n",
       "      <th colspan=\"21\" halign=\"left\">expiration</th>\n",
       "    </tr>\n",
       "    <tr>\n",
       "      <th>option_type</th>\n",
       "      <th colspan=\"21\" halign=\"left\">CALL</th>\n",
       "    </tr>\n",
       "    <tr>\n",
       "      <th>symbol</th>\n",
       "      <th colspan=\"10\" halign=\"left\">AAPL</th>\n",
       "      <th>...</th>\n",
       "      <th colspan=\"2\" halign=\"left\">WYNN</th>\n",
       "      <th>XL</th>\n",
       "      <th colspan=\"5\" halign=\"left\">XOM</th>\n",
       "      <th>YCBD</th>\n",
       "      <th>ZM</th>\n",
       "    </tr>\n",
       "    <tr>\n",
       "      <th>option_expiration</th>\n",
       "      <th>2021-02-19</th>\n",
       "      <th colspan=\"4\" halign=\"left\">2021-03-05</th>\n",
       "      <th colspan=\"5\" halign=\"left\">2021-03-19</th>\n",
       "      <th>...</th>\n",
       "      <th colspan=\"2\" halign=\"left\">2021-03-19</th>\n",
       "      <th>2021-05-21</th>\n",
       "      <th>2021-03-26</th>\n",
       "      <th colspan=\"4\" halign=\"left\">2021-04-16</th>\n",
       "      <th>2021-02-19</th>\n",
       "      <th>2021-05-21</th>\n",
       "    </tr>\n",
       "    <tr>\n",
       "      <th>oc_hx_contract_symbol</th>\n",
       "      <th>AAPL210219C00140000</th>\n",
       "      <th>AAPL210305C00136000</th>\n",
       "      <th>AAPL210305C00140000</th>\n",
       "      <th>AAPL210305C00150000</th>\n",
       "      <th>AAPL210305C00160000</th>\n",
       "      <th>AAPL210319C00130000</th>\n",
       "      <th>AAPL210319C00135000</th>\n",
       "      <th>AAPL210319C00140000</th>\n",
       "      <th>AAPL210319C00145000</th>\n",
       "      <th>AAPL210319C00150000</th>\n",
       "      <th>...</th>\n",
       "      <th>WYNN210319C00150000</th>\n",
       "      <th>WYNN210319C00160000</th>\n",
       "      <th>XL210521C00020000</th>\n",
       "      <th>XOM210326C00060000</th>\n",
       "      <th>XOM210416C00055000</th>\n",
       "      <th>XOM210416C00060000</th>\n",
       "      <th>XOM210416C00065000</th>\n",
       "      <th>XOM210416C00070000</th>\n",
       "      <th>YCBD210219C00007500</th>\n",
       "      <th>ZM210521C00400000</th>\n",
       "    </tr>\n",
       "    <tr>\n",
       "      <th>Date</th>\n",
       "      <th></th>\n",
       "      <th></th>\n",
       "      <th></th>\n",
       "      <th></th>\n",
       "      <th></th>\n",
       "      <th></th>\n",
       "      <th></th>\n",
       "      <th></th>\n",
       "      <th></th>\n",
       "      <th></th>\n",
       "      <th></th>\n",
       "      <th></th>\n",
       "      <th></th>\n",
       "      <th></th>\n",
       "      <th></th>\n",
       "      <th></th>\n",
       "      <th></th>\n",
       "      <th></th>\n",
       "      <th></th>\n",
       "      <th></th>\n",
       "      <th></th>\n",
       "    </tr>\n",
       "  </thead>\n",
       "  <tbody>\n",
       "    <tr>\n",
       "      <th>2021-01-04</th>\n",
       "      <td>0.000000</td>\n",
       "      <td>0.000000</td>\n",
       "      <td>0.000000</td>\n",
       "      <td>0.000000</td>\n",
       "      <td>0.000000</td>\n",
       "      <td>0.000000</td>\n",
       "      <td>0.000000</td>\n",
       "      <td>0.000000</td>\n",
       "      <td>0.000000</td>\n",
       "      <td>0.000000</td>\n",
       "      <td>...</td>\n",
       "      <td>0.000000</td>\n",
       "      <td>0.000000</td>\n",
       "      <td>0.000000</td>\n",
       "      <td>0.000000</td>\n",
       "      <td>0.000000</td>\n",
       "      <td>0.000000</td>\n",
       "      <td>0.000000</td>\n",
       "      <td>0.000000</td>\n",
       "      <td>0.000000</td>\n",
       "      <td>0.000000</td>\n",
       "    </tr>\n",
       "    <tr>\n",
       "      <th>2021-01-05</th>\n",
       "      <td>0.000000</td>\n",
       "      <td>0.000000</td>\n",
       "      <td>0.000000</td>\n",
       "      <td>0.000000</td>\n",
       "      <td>0.000000</td>\n",
       "      <td>0.000000</td>\n",
       "      <td>0.000000</td>\n",
       "      <td>0.000000</td>\n",
       "      <td>0.000000</td>\n",
       "      <td>0.000000</td>\n",
       "      <td>...</td>\n",
       "      <td>0.000000</td>\n",
       "      <td>0.000000</td>\n",
       "      <td>0.000000</td>\n",
       "      <td>0.000000</td>\n",
       "      <td>0.000000</td>\n",
       "      <td>0.000000</td>\n",
       "      <td>0.000000</td>\n",
       "      <td>0.000000</td>\n",
       "      <td>0.000000</td>\n",
       "      <td>0.000000</td>\n",
       "    </tr>\n",
       "    <tr>\n",
       "      <th>2021-01-06</th>\n",
       "      <td>0.000000</td>\n",
       "      <td>0.000000</td>\n",
       "      <td>0.000000</td>\n",
       "      <td>0.000000</td>\n",
       "      <td>0.000000</td>\n",
       "      <td>0.000000</td>\n",
       "      <td>0.000000</td>\n",
       "      <td>0.000000</td>\n",
       "      <td>0.000000</td>\n",
       "      <td>0.000000</td>\n",
       "      <td>...</td>\n",
       "      <td>0.000000</td>\n",
       "      <td>0.000000</td>\n",
       "      <td>0.000000</td>\n",
       "      <td>0.000000</td>\n",
       "      <td>0.000000</td>\n",
       "      <td>0.000000</td>\n",
       "      <td>0.000000</td>\n",
       "      <td>0.000000</td>\n",
       "      <td>0.000000</td>\n",
       "      <td>0.000000</td>\n",
       "    </tr>\n",
       "    <tr>\n",
       "      <th>2021-01-07</th>\n",
       "      <td>0.000000</td>\n",
       "      <td>0.000000</td>\n",
       "      <td>0.000000</td>\n",
       "      <td>0.000000</td>\n",
       "      <td>0.000000</td>\n",
       "      <td>0.000000</td>\n",
       "      <td>0.000000</td>\n",
       "      <td>0.000000</td>\n",
       "      <td>0.000000</td>\n",
       "      <td>0.000000</td>\n",
       "      <td>...</td>\n",
       "      <td>0.000000</td>\n",
       "      <td>0.000000</td>\n",
       "      <td>0.000000</td>\n",
       "      <td>0.000000</td>\n",
       "      <td>0.000000</td>\n",
       "      <td>0.000000</td>\n",
       "      <td>0.000000</td>\n",
       "      <td>0.000000</td>\n",
       "      <td>0.000000</td>\n",
       "      <td>0.000000</td>\n",
       "    </tr>\n",
       "    <tr>\n",
       "      <th>2021-01-08</th>\n",
       "      <td>0.000000</td>\n",
       "      <td>0.000000</td>\n",
       "      <td>0.000000</td>\n",
       "      <td>0.000000</td>\n",
       "      <td>0.000000</td>\n",
       "      <td>0.000000</td>\n",
       "      <td>0.000000</td>\n",
       "      <td>0.000000</td>\n",
       "      <td>0.000000</td>\n",
       "      <td>0.000000</td>\n",
       "      <td>...</td>\n",
       "      <td>0.000000</td>\n",
       "      <td>0.000000</td>\n",
       "      <td>0.000000</td>\n",
       "      <td>0.000000</td>\n",
       "      <td>0.000000</td>\n",
       "      <td>0.000000</td>\n",
       "      <td>0.000000</td>\n",
       "      <td>0.000000</td>\n",
       "      <td>0.000000</td>\n",
       "      <td>0.000000</td>\n",
       "    </tr>\n",
       "    <tr>\n",
       "      <th>...</th>\n",
       "      <td>...</td>\n",
       "      <td>...</td>\n",
       "      <td>...</td>\n",
       "      <td>...</td>\n",
       "      <td>...</td>\n",
       "      <td>...</td>\n",
       "      <td>...</td>\n",
       "      <td>...</td>\n",
       "      <td>...</td>\n",
       "      <td>...</td>\n",
       "      <td>...</td>\n",
       "      <td>...</td>\n",
       "      <td>...</td>\n",
       "      <td>...</td>\n",
       "      <td>...</td>\n",
       "      <td>...</td>\n",
       "      <td>...</td>\n",
       "      <td>...</td>\n",
       "      <td>...</td>\n",
       "      <td>...</td>\n",
       "      <td>...</td>\n",
       "    </tr>\n",
       "    <tr>\n",
       "      <th>2021-06-07</th>\n",
       "      <td>-0.067754</td>\n",
       "      <td>-0.061446</td>\n",
       "      <td>-0.040182</td>\n",
       "      <td>-0.068927</td>\n",
       "      <td>-0.068635</td>\n",
       "      <td>-0.167916</td>\n",
       "      <td>-0.100896</td>\n",
       "      <td>-0.206045</td>\n",
       "      <td>-0.062493</td>\n",
       "      <td>-0.059833</td>\n",
       "      <td>...</td>\n",
       "      <td>-0.067754</td>\n",
       "      <td>-0.069806</td>\n",
       "      <td>-0.202699</td>\n",
       "      <td>-0.060861</td>\n",
       "      <td>-0.039306</td>\n",
       "      <td>-0.058661</td>\n",
       "      <td>-0.064674</td>\n",
       "      <td>-0.066001</td>\n",
       "      <td>-0.058102</td>\n",
       "      <td>-0.054114</td>\n",
       "    </tr>\n",
       "    <tr>\n",
       "      <th>2021-06-08</th>\n",
       "      <td>-0.067754</td>\n",
       "      <td>-0.061446</td>\n",
       "      <td>-0.040182</td>\n",
       "      <td>-0.068927</td>\n",
       "      <td>-0.068635</td>\n",
       "      <td>-0.167916</td>\n",
       "      <td>-0.100896</td>\n",
       "      <td>-0.206045</td>\n",
       "      <td>-0.062493</td>\n",
       "      <td>-0.059833</td>\n",
       "      <td>...</td>\n",
       "      <td>-0.067754</td>\n",
       "      <td>-0.069806</td>\n",
       "      <td>-0.202699</td>\n",
       "      <td>-0.060861</td>\n",
       "      <td>-0.039306</td>\n",
       "      <td>-0.058661</td>\n",
       "      <td>-0.064674</td>\n",
       "      <td>-0.066001</td>\n",
       "      <td>-0.058102</td>\n",
       "      <td>-0.054114</td>\n",
       "    </tr>\n",
       "    <tr>\n",
       "      <th>2021-06-09</th>\n",
       "      <td>-0.067754</td>\n",
       "      <td>-0.061446</td>\n",
       "      <td>-0.040182</td>\n",
       "      <td>-0.068927</td>\n",
       "      <td>-0.068635</td>\n",
       "      <td>-0.167916</td>\n",
       "      <td>-0.100896</td>\n",
       "      <td>-0.206045</td>\n",
       "      <td>-0.062493</td>\n",
       "      <td>-0.059833</td>\n",
       "      <td>...</td>\n",
       "      <td>-0.067754</td>\n",
       "      <td>-0.069806</td>\n",
       "      <td>-0.202699</td>\n",
       "      <td>-0.060861</td>\n",
       "      <td>-0.039306</td>\n",
       "      <td>-0.058661</td>\n",
       "      <td>-0.064674</td>\n",
       "      <td>-0.066001</td>\n",
       "      <td>-0.058102</td>\n",
       "      <td>-0.054114</td>\n",
       "    </tr>\n",
       "    <tr>\n",
       "      <th>2021-06-10</th>\n",
       "      <td>-0.067754</td>\n",
       "      <td>-0.061446</td>\n",
       "      <td>-0.040182</td>\n",
       "      <td>-0.068927</td>\n",
       "      <td>-0.068635</td>\n",
       "      <td>-0.167916</td>\n",
       "      <td>-0.100896</td>\n",
       "      <td>-0.206045</td>\n",
       "      <td>-0.062493</td>\n",
       "      <td>-0.059833</td>\n",
       "      <td>...</td>\n",
       "      <td>-0.067754</td>\n",
       "      <td>-0.069806</td>\n",
       "      <td>-0.202699</td>\n",
       "      <td>-0.060861</td>\n",
       "      <td>-0.039306</td>\n",
       "      <td>-0.058661</td>\n",
       "      <td>-0.064674</td>\n",
       "      <td>-0.066001</td>\n",
       "      <td>-0.058102</td>\n",
       "      <td>-0.054114</td>\n",
       "    </tr>\n",
       "    <tr>\n",
       "      <th>2021-06-11</th>\n",
       "      <td>-0.067754</td>\n",
       "      <td>-0.061446</td>\n",
       "      <td>-0.040182</td>\n",
       "      <td>-0.068927</td>\n",
       "      <td>-0.068635</td>\n",
       "      <td>-0.167916</td>\n",
       "      <td>-0.100896</td>\n",
       "      <td>-0.206045</td>\n",
       "      <td>-0.062493</td>\n",
       "      <td>-0.059833</td>\n",
       "      <td>...</td>\n",
       "      <td>-0.067754</td>\n",
       "      <td>-0.069806</td>\n",
       "      <td>-0.202699</td>\n",
       "      <td>-0.060861</td>\n",
       "      <td>-0.039306</td>\n",
       "      <td>-0.058661</td>\n",
       "      <td>-0.064674</td>\n",
       "      <td>-0.066001</td>\n",
       "      <td>-0.058102</td>\n",
       "      <td>-0.054114</td>\n",
       "    </tr>\n",
       "  </tbody>\n",
       "</table>\n",
       "<p>111 rows × 563 columns</p>\n",
       "</div>"
      ],
      "text/plain": [
       "exit_type                      expiration                      \\\n",
       "option_type                          CALL                       \n",
       "symbol                               AAPL                       \n",
       "option_expiration              2021-02-19          2021-03-05   \n",
       "oc_hx_contract_symbol AAPL210219C00140000 AAPL210305C00136000   \n",
       "Date                                                            \n",
       "2021-01-04                       0.000000            0.000000   \n",
       "2021-01-05                       0.000000            0.000000   \n",
       "2021-01-06                       0.000000            0.000000   \n",
       "2021-01-07                       0.000000            0.000000   \n",
       "2021-01-08                       0.000000            0.000000   \n",
       "...                                   ...                 ...   \n",
       "2021-06-07                      -0.067754           -0.061446   \n",
       "2021-06-08                      -0.067754           -0.061446   \n",
       "2021-06-09                      -0.067754           -0.061446   \n",
       "2021-06-10                      -0.067754           -0.061446   \n",
       "2021-06-11                      -0.067754           -0.061446   \n",
       "\n",
       "exit_type                                                      \\\n",
       "option_type                                                     \n",
       "symbol                                                          \n",
       "option_expiration                                               \n",
       "oc_hx_contract_symbol AAPL210305C00140000 AAPL210305C00150000   \n",
       "Date                                                            \n",
       "2021-01-04                       0.000000            0.000000   \n",
       "2021-01-05                       0.000000            0.000000   \n",
       "2021-01-06                       0.000000            0.000000   \n",
       "2021-01-07                       0.000000            0.000000   \n",
       "2021-01-08                       0.000000            0.000000   \n",
       "...                                   ...                 ...   \n",
       "2021-06-07                      -0.040182           -0.068927   \n",
       "2021-06-08                      -0.040182           -0.068927   \n",
       "2021-06-09                      -0.040182           -0.068927   \n",
       "2021-06-10                      -0.040182           -0.068927   \n",
       "2021-06-11                      -0.040182           -0.068927   \n",
       "\n",
       "exit_type                                                      \\\n",
       "option_type                                                     \n",
       "symbol                                                          \n",
       "option_expiration                                  2021-03-19   \n",
       "oc_hx_contract_symbol AAPL210305C00160000 AAPL210319C00130000   \n",
       "Date                                                            \n",
       "2021-01-04                       0.000000            0.000000   \n",
       "2021-01-05                       0.000000            0.000000   \n",
       "2021-01-06                       0.000000            0.000000   \n",
       "2021-01-07                       0.000000            0.000000   \n",
       "2021-01-08                       0.000000            0.000000   \n",
       "...                                   ...                 ...   \n",
       "2021-06-07                      -0.068635           -0.167916   \n",
       "2021-06-08                      -0.068635           -0.167916   \n",
       "2021-06-09                      -0.068635           -0.167916   \n",
       "2021-06-10                      -0.068635           -0.167916   \n",
       "2021-06-11                      -0.068635           -0.167916   \n",
       "\n",
       "exit_type                                                      \\\n",
       "option_type                                                     \n",
       "symbol                                                          \n",
       "option_expiration                                               \n",
       "oc_hx_contract_symbol AAPL210319C00135000 AAPL210319C00140000   \n",
       "Date                                                            \n",
       "2021-01-04                       0.000000            0.000000   \n",
       "2021-01-05                       0.000000            0.000000   \n",
       "2021-01-06                       0.000000            0.000000   \n",
       "2021-01-07                       0.000000            0.000000   \n",
       "2021-01-08                       0.000000            0.000000   \n",
       "...                                   ...                 ...   \n",
       "2021-06-07                      -0.100896           -0.206045   \n",
       "2021-06-08                      -0.100896           -0.206045   \n",
       "2021-06-09                      -0.100896           -0.206045   \n",
       "2021-06-10                      -0.100896           -0.206045   \n",
       "2021-06-11                      -0.100896           -0.206045   \n",
       "\n",
       "exit_type                                                      ...  \\\n",
       "option_type                                                    ...   \n",
       "symbol                                                         ...   \n",
       "option_expiration                                              ...   \n",
       "oc_hx_contract_symbol AAPL210319C00145000 AAPL210319C00150000  ...   \n",
       "Date                                                           ...   \n",
       "2021-01-04                       0.000000            0.000000  ...   \n",
       "2021-01-05                       0.000000            0.000000  ...   \n",
       "2021-01-06                       0.000000            0.000000  ...   \n",
       "2021-01-07                       0.000000            0.000000  ...   \n",
       "2021-01-08                       0.000000            0.000000  ...   \n",
       "...                                   ...                 ...  ...   \n",
       "2021-06-07                      -0.062493           -0.059833  ...   \n",
       "2021-06-08                      -0.062493           -0.059833  ...   \n",
       "2021-06-09                      -0.062493           -0.059833  ...   \n",
       "2021-06-10                      -0.062493           -0.059833  ...   \n",
       "2021-06-11                      -0.062493           -0.059833  ...   \n",
       "\n",
       "exit_type                                                      \\\n",
       "option_type                                                     \n",
       "symbol                               WYNN                       \n",
       "option_expiration              2021-03-19                       \n",
       "oc_hx_contract_symbol WYNN210319C00150000 WYNN210319C00160000   \n",
       "Date                                                            \n",
       "2021-01-04                       0.000000            0.000000   \n",
       "2021-01-05                       0.000000            0.000000   \n",
       "2021-01-06                       0.000000            0.000000   \n",
       "2021-01-07                       0.000000            0.000000   \n",
       "2021-01-08                       0.000000            0.000000   \n",
       "...                                   ...                 ...   \n",
       "2021-06-07                      -0.067754           -0.069806   \n",
       "2021-06-08                      -0.067754           -0.069806   \n",
       "2021-06-09                      -0.067754           -0.069806   \n",
       "2021-06-10                      -0.067754           -0.069806   \n",
       "2021-06-11                      -0.067754           -0.069806   \n",
       "\n",
       "exit_type                                                                      \\\n",
       "option_type                                                                     \n",
       "symbol                               XL                XOM                      \n",
       "option_expiration            2021-05-21         2021-03-26         2021-04-16   \n",
       "oc_hx_contract_symbol XL210521C00020000 XOM210326C00060000 XOM210416C00055000   \n",
       "Date                                                                            \n",
       "2021-01-04                     0.000000           0.000000           0.000000   \n",
       "2021-01-05                     0.000000           0.000000           0.000000   \n",
       "2021-01-06                     0.000000           0.000000           0.000000   \n",
       "2021-01-07                     0.000000           0.000000           0.000000   \n",
       "2021-01-08                     0.000000           0.000000           0.000000   \n",
       "...                                 ...                ...                ...   \n",
       "2021-06-07                    -0.202699          -0.060861          -0.039306   \n",
       "2021-06-08                    -0.202699          -0.060861          -0.039306   \n",
       "2021-06-09                    -0.202699          -0.060861          -0.039306   \n",
       "2021-06-10                    -0.202699          -0.060861          -0.039306   \n",
       "2021-06-11                    -0.202699          -0.060861          -0.039306   \n",
       "\n",
       "exit_type                                                    \\\n",
       "option_type                                                   \n",
       "symbol                                                        \n",
       "option_expiration                                             \n",
       "oc_hx_contract_symbol XOM210416C00060000 XOM210416C00065000   \n",
       "Date                                                          \n",
       "2021-01-04                      0.000000           0.000000   \n",
       "2021-01-05                      0.000000           0.000000   \n",
       "2021-01-06                      0.000000           0.000000   \n",
       "2021-01-07                      0.000000           0.000000   \n",
       "2021-01-08                      0.000000           0.000000   \n",
       "...                                  ...                ...   \n",
       "2021-06-07                     -0.058661          -0.064674   \n",
       "2021-06-08                     -0.058661          -0.064674   \n",
       "2021-06-09                     -0.058661          -0.064674   \n",
       "2021-06-10                     -0.058661          -0.064674   \n",
       "2021-06-11                     -0.058661          -0.064674   \n",
       "\n",
       "exit_type                                                                       \n",
       "option_type                                                                     \n",
       "symbol                                                  YCBD                ZM  \n",
       "option_expiration                                 2021-02-19        2021-05-21  \n",
       "oc_hx_contract_symbol XOM210416C00070000 YCBD210219C00007500 ZM210521C00400000  \n",
       "Date                                                                            \n",
       "2021-01-04                      0.000000            0.000000          0.000000  \n",
       "2021-01-05                      0.000000            0.000000          0.000000  \n",
       "2021-01-06                      0.000000            0.000000          0.000000  \n",
       "2021-01-07                      0.000000            0.000000          0.000000  \n",
       "2021-01-08                      0.000000            0.000000          0.000000  \n",
       "...                                  ...                 ...               ...  \n",
       "2021-06-07                     -0.066001           -0.058102         -0.054114  \n",
       "2021-06-08                     -0.066001           -0.058102         -0.054114  \n",
       "2021-06-09                     -0.066001           -0.058102         -0.054114  \n",
       "2021-06-10                     -0.066001           -0.058102         -0.054114  \n",
       "2021-06-11                     -0.066001           -0.058102         -0.054114  \n",
       "\n",
       "[111 rows x 563 columns]"
      ]
     },
     "execution_count": 1170,
     "metadata": {},
     "output_type": "execute_result"
    }
   ],
   "source": [
    "portfolio[contracts].cumulative_returns()"
   ]
  },
  {
   "cell_type": "code",
   "execution_count": 1171,
   "metadata": {},
   "outputs": [
    {
     "data": {
      "text/plain": [
       "Start                    2021-01-04 00:00:00\n",
       "End                      2021-06-11 00:00:00\n",
       "Duration                   111 days 00:00:00\n",
       "Total Return [%]                    -6.19347\n",
       "Benchmark Return [%]                -58.8332\n",
       "Annual Return [%]                   -4.29438\n",
       "Annual Volatility [%]                24.4598\n",
       "Sharpe Ratio                        -1.91987\n",
       "Calmar Ratio                       -0.667883\n",
       "Max. Drawdown [%]                   -14.0603\n",
       "Omega Ratio                         0.599925\n",
       "Sortino Ratio                       -1.89193\n",
       "Skew                                 -1.4022\n",
       "Kurtosis                             29.5981\n",
       "Tail Ratio                               inf\n",
       "Common Sense Ratio                       inf\n",
       "Value at Risk                     -0.0108122\n",
       "Alpha                              -0.120047\n",
       "Beta                               0.0312395\n",
       "Name: <lambda>, dtype: object"
      ]
     },
     "execution_count": 1171,
     "metadata": {},
     "output_type": "execute_result"
    }
   ],
   "source": [
    "portfolio[contracts].returns_stats(group_by=None)"
   ]
  },
  {
   "cell_type": "code",
   "execution_count": 1172,
   "metadata": {},
   "outputs": [
    {
     "data": {
      "text/plain": [
       "exit_type   option_type  symbol  option_expiration  oc_hx_contract_symbol\n",
       "expiration  CALL         AAPL    2021-02-19         AAPL210219C00140000     -0.000035\n",
       "                                 2021-03-05         AAPL210305C00136000     -0.005227\n",
       "                                                    AAPL210305C00140000     -0.003865\n",
       "                                                    AAPL210305C00150000     -0.004995\n",
       "                                                    AAPL210305C00160000     -0.004640\n",
       "                                                                               ...   \n",
       "                         XOM     2021-04-16         XOM210416C00060000      -0.020105\n",
       "                                                    XOM210416C00065000      -0.013562\n",
       "                                                    XOM210416C00070000      -0.014555\n",
       "                         YCBD    2021-02-19         YCBD210219C00007500      0.000000\n",
       "                         ZM      2021-05-21         ZM210521C00400000       -0.007324\n",
       "Length: 563, dtype: float64"
      ]
     },
     "execution_count": 1172,
     "metadata": {},
     "output_type": "execute_result"
    }
   ],
   "source": [
    "portfolio[contracts].value_at_risk()"
   ]
  },
  {
   "cell_type": "code",
   "execution_count": 1173,
   "metadata": {},
   "outputs": [
    {
     "data": {
      "text/plain": [
       "exit_type   option_type  symbol  option_expiration  oc_hx_contract_symbol\n",
       "expiration  CALL         AAPL    2021-02-19         AAPL210219C00140000     -0.997143\n",
       "                                 2021-02-26         AAPL210226C00135000     -0.998246\n",
       "                                 2021-03-05         AAPL210305C00136000     -0.998750\n",
       "                                                    AAPL210305C00140000     -0.998400\n",
       "                                                    AAPL210305C00150000     -0.997455\n",
       "                                                                               ...   \n",
       "                         XOM     2021-04-16         XOM210416C00070000      -0.913043\n",
       "                         YCBD    2021-02-19         YCBD210219C00007500     -0.700000\n",
       "                         ZM      2021-04-30         ZM210430C00340000       -0.999111\n",
       "                                 2021-05-21         ZM210521C00360000       -0.999099\n",
       "                                                    ZM210521C00400000       -0.999757\n",
       "Length: 604, dtype: float64"
      ]
     },
     "execution_count": 1173,
     "metadata": {},
     "output_type": "execute_result"
    }
   ],
   "source": [
    "portfolio.total_market_return()"
   ]
  },
  {
   "cell_type": "code",
   "execution_count": 922,
   "metadata": {},
   "outputs": [
    {
     "data": {
      "text/plain": [
       "exit_type   option_type  symbol  option_expiration  oc_hx_contract_symbol\n",
       "expiration  CALL         CCL     2021-05-21         CCL210521C00030000      -12204.123\n",
       "                                 2021-04-16         CCL210416C00030000       -9143.346\n",
       "                                 2021-03-19         CCL210319C00030000       -7308.613\n",
       "                                 2021-04-16         CCL210416C00035000       -7250.849\n",
       "                                 2021-04-01         CCL210401C00030000       -6487.889\n",
       "                                                                               ...    \n",
       "                                 2021-03-19         CCL210319C00025000        9174.638\n",
       "                                 2021-02-19         CCL210219C00021500       10291.906\n",
       "                                 2021-02-26         CCL210226C00022000       13541.381\n",
       "                                 2021-02-19         CCL210219C00022000       15056.237\n",
       "                                                    CCL210219C00023000       16846.269\n",
       "Length: 215, dtype: float64"
      ]
     },
     "execution_count": 922,
     "metadata": {},
     "output_type": "execute_result"
    }
   ],
   "source": [
    "portfolio.total_profit().sort_values()"
   ]
  },
  {
   "cell_type": "code",
   "execution_count": 1174,
   "metadata": {},
   "outputs": [
    {
     "data": {
      "application/vnd.plotly.v1+json": {
       "config": {
        "plotlyServerURL": "https://plot.ly"
       },
       "data": [
        {
         "line": {
          "color": "#1f77b4"
         },
         "name": "AAPL210319C00130000",
         "showlegend": true,
         "type": "scatter",
         "uid": "de65c012-4763-417e-a139-4832704db8d2",
         "x": [
          "2021-01-04T00:00:00",
          "2021-01-05T00:00:00",
          "2021-01-06T00:00:00",
          "2021-01-07T00:00:00",
          "2021-01-08T00:00:00",
          "2021-01-11T00:00:00",
          "2021-01-12T00:00:00",
          "2021-01-13T00:00:00",
          "2021-01-14T00:00:00",
          "2021-01-15T00:00:00",
          "2021-01-19T00:00:00",
          "2021-01-20T00:00:00",
          "2021-01-21T00:00:00",
          "2021-01-22T00:00:00",
          "2021-01-25T00:00:00",
          "2021-01-26T00:00:00",
          "2021-01-27T00:00:00",
          "2021-01-28T00:00:00",
          "2021-01-29T00:00:00",
          "2021-02-01T00:00:00",
          "2021-02-02T00:00:00",
          "2021-02-03T00:00:00",
          "2021-02-04T00:00:00",
          "2021-02-05T00:00:00",
          "2021-02-08T00:00:00",
          "2021-02-09T00:00:00",
          "2021-02-10T00:00:00",
          "2021-02-11T00:00:00",
          "2021-02-12T00:00:00",
          "2021-02-16T00:00:00",
          "2021-02-17T00:00:00",
          "2021-02-18T00:00:00",
          "2021-02-19T00:00:00",
          "2021-02-22T00:00:00",
          "2021-02-23T00:00:00",
          "2021-02-24T00:00:00",
          "2021-02-25T00:00:00",
          "2021-02-26T00:00:00",
          "2021-03-01T00:00:00",
          "2021-03-02T00:00:00",
          "2021-03-03T00:00:00",
          "2021-03-04T00:00:00",
          "2021-03-05T00:00:00",
          "2021-03-08T00:00:00",
          "2021-03-09T00:00:00",
          "2021-03-10T00:00:00",
          "2021-03-11T00:00:00",
          "2021-03-12T00:00:00",
          "2021-03-15T00:00:00",
          "2021-03-16T00:00:00",
          "2021-03-17T00:00:00",
          "2021-03-18T00:00:00",
          "2021-03-19T00:00:00",
          "2021-03-22T00:00:00",
          "2021-03-23T00:00:00",
          "2021-03-24T00:00:00",
          "2021-03-25T00:00:00",
          "2021-03-26T00:00:00",
          "2021-03-29T00:00:00",
          "2021-03-30T00:00:00",
          "2021-03-31T00:00:00",
          "2021-04-01T00:00:00",
          "2021-04-05T00:00:00",
          "2021-04-06T00:00:00",
          "2021-04-07T00:00:00",
          "2021-04-08T00:00:00",
          "2021-04-09T00:00:00",
          "2021-04-12T00:00:00",
          "2021-04-13T00:00:00",
          "2021-04-14T00:00:00",
          "2021-04-15T00:00:00",
          "2021-04-16T00:00:00",
          "2021-04-19T00:00:00",
          "2021-04-20T00:00:00",
          "2021-04-21T00:00:00",
          "2021-04-22T00:00:00",
          "2021-04-23T00:00:00",
          "2021-04-26T00:00:00",
          "2021-04-27T00:00:00",
          "2021-04-28T00:00:00",
          "2021-04-29T00:00:00",
          "2021-04-30T00:00:00",
          "2021-05-03T00:00:00",
          "2021-05-04T00:00:00",
          "2021-05-05T00:00:00",
          "2021-05-06T00:00:00",
          "2021-05-07T00:00:00",
          "2021-05-10T00:00:00",
          "2021-05-11T00:00:00",
          "2021-05-12T00:00:00",
          "2021-05-13T00:00:00",
          "2021-05-14T00:00:00",
          "2021-05-17T00:00:00",
          "2021-05-18T00:00:00",
          "2021-05-19T00:00:00",
          "2021-05-20T00:00:00",
          "2021-05-21T00:00:00",
          "2021-05-24T00:00:00",
          "2021-05-25T00:00:00",
          "2021-05-26T00:00:00",
          "2021-05-27T00:00:00",
          "2021-05-28T00:00:00",
          "2021-06-01T00:00:00",
          "2021-06-02T00:00:00",
          "2021-06-03T00:00:00",
          "2021-06-04T00:00:00",
          "2021-06-07T00:00:00",
          "2021-06-08T00:00:00",
          "2021-06-09T00:00:00",
          "2021-06-10T00:00:00",
          "2021-06-11T00:00:00"
         ],
         "y": [
          1154.153,
          1154.153,
          1154.153,
          1154.153,
          1154.153,
          1154.153,
          1154.153,
          1154.153,
          1154.153,
          1154.153,
          1154.153,
          1154.153,
          1154.153,
          1154.153,
          1154.153,
          1154.153,
          1154.153,
          1154.153,
          1154.153,
          1154.153,
          1154.153,
          1154.153,
          1154.153,
          1154.153,
          1154.153,
          1154.153,
          1154.153,
          1154.153,
          1154.153,
          1154.153,
          1154.153,
          1154.153,
          1154.153,
          1154.153,
          1153.886,
          1116.886,
          1040.424,
          916.424,
          1460.424,
          1092.424,
          848,
          616,
          528,
          272,
          304,
          224.00000000000003,
          231.99999999999997,
          120,
          192,
          192,
          96,
          16,
          7.992,
          7.992,
          7.992,
          7.992,
          7.992,
          7.992,
          7.992,
          7.992,
          7.992,
          7.992,
          7.992,
          7.992,
          7.992,
          7.992,
          7.992,
          7.992,
          7.992,
          7.992,
          7.992,
          7.992,
          7.992,
          7.992,
          7.992,
          7.992,
          7.992,
          7.992,
          7.992,
          7.992,
          7.992,
          7.992,
          7.992,
          7.992,
          7.992,
          7.992,
          7.992,
          7.992,
          7.992,
          7.992,
          7.992,
          7.992,
          7.992,
          7.992,
          7.992,
          7.992,
          7.992,
          7.992,
          7.992,
          7.992,
          7.992,
          7.992,
          7.992,
          7.992,
          7.992,
          7.992,
          7.992,
          7.992,
          7.992,
          7.992,
          7.992
         ]
        },
        {
         "customdata": [
          [
           0
          ]
         ],
         "hovertemplate": "Drawdown Id: %{customdata[0]}<br>Date: %{x}<br>Price: %{y}",
         "marker": {
          "color": "#4285F4",
          "line": {
           "color": "rgb(11,84,205)",
           "width": 1
          },
          "size": 7,
          "symbol": "diamond"
         },
         "mode": "markers",
         "name": "Peak",
         "type": "scatter",
         "uid": "d1ea6414-e781-44da-9eeb-ebbeab3b3d59",
         "x": [
          "2021-02-22T00:00:00"
         ],
         "y": [
          1154.153
         ]
        },
        {
         "customdata": [
          [
           "0",
           "-0.20597702384345926",
           "4 days 00:00:00"
          ]
         ],
         "hovertemplate": "Drawdown Id: %{customdata[0]}<br>Date: %{x}<br>Price: %{y}<br>Drawdown: %{customdata[1]:.2%}<br>Duration: %{customdata[2]}",
         "marker": {
          "color": "#EA4335",
          "line": {
           "color": "rgb(181,31,18)",
           "width": 1
          },
          "size": 7,
          "symbol": "diamond"
         },
         "mode": "markers",
         "name": "Valley",
         "type": "scatter",
         "uid": "a0c32e60-1e26-41e1-bb2b-e0f4e37dc0cc",
         "x": [
          "2021-02-26T00:00:00"
         ],
         "y": [
          916.424
         ]
        },
        {
         "customdata": [
          [
           "0",
           "0.5936116906584725",
           "3 days 00:00:00"
          ]
         ],
         "hovertemplate": "Drawdown Id: %{customdata[0]}<br>Date: %{x}<br>Price: %{y}<br>Return: %{customdata[1]:.2%}<br>Duration: %{customdata[2]}",
         "marker": {
          "color": "#37B13F",
          "line": {
           "color": "rgb(38,123,44)",
           "width": 1
          },
          "size": 7,
          "symbol": "diamond"
         },
         "mode": "markers",
         "name": "Recovery/Peak",
         "type": "scatter",
         "uid": "292957c3-3730-4d49-8706-0cb904d65b2a",
         "x": [
          "2021-03-01T00:00:00"
         ],
         "y": [
          1460.424
         ]
        },
        {
         "customdata": [
          [
           "1",
           "-0.9945276166373601",
           "84 days 00:00:00"
          ]
         ],
         "hovertemplate": "Drawdown Id: %{customdata[0]}<br>Date: %{x}<br>Price: %{y}<br>Drawdown: %{customdata[1]:.2%}<br>Duration: %{customdata[2]}",
         "marker": {
          "color": "#FFAA00",
          "line": {
           "color": "rgb(178,118,0)",
           "width": 1
          },
          "size": 7,
          "symbol": "diamond"
         },
         "mode": "markers",
         "name": "Active",
         "type": "scatter",
         "uid": "1796e5ef-cbd4-41c9-89b3-4a8370ea28dd",
         "x": [
          "2021-06-11T00:00:00"
         ],
         "y": [
          7.992
         ]
        }
       ],
       "layout": {
        "height": 350,
        "legend": {
         "orientation": "h",
         "traceorder": "normal",
         "x": 1,
         "xanchor": "right",
         "y": 1.02,
         "yanchor": "bottom"
        },
        "margin": {
         "b": 30,
         "l": 30,
         "r": 30,
         "t": 30
        },
        "shapes": [
         {
          "fillcolor": "red",
          "layer": "below",
          "line": {
           "width": 0
          },
          "opacity": 0.2,
          "type": "rect",
          "x0": "2021-02-22T00:00:00",
          "x1": "2021-02-26T00:00:00",
          "xref": "x",
          "y0": 0,
          "y1": 1,
          "yref": "paper"
         },
         {
          "fillcolor": "green",
          "layer": "below",
          "line": {
           "width": 0
          },
          "opacity": 0.2,
          "type": "rect",
          "x0": "2021-02-26T00:00:00",
          "x1": "2021-03-01T00:00:00",
          "xref": "x",
          "y0": 0,
          "y1": 1,
          "yref": "paper"
         },
         {
          "fillcolor": "orange",
          "layer": "below",
          "line": {
           "width": 0
          },
          "opacity": 0.2,
          "type": "rect",
          "x0": "2021-03-01T00:00:00",
          "x1": "2021-06-11T00:00:00",
          "xref": "x",
          "y0": 0,
          "y1": 1,
          "yref": "paper"
         }
        ],
        "template": {
         "data": {
          "bar": [
           {
            "error_x": {
             "color": "#2a3f5f"
            },
            "error_y": {
             "color": "#2a3f5f"
            },
            "marker": {
             "line": {
              "color": "#E5ECF6",
              "width": 0.5
             }
            },
            "type": "bar"
           }
          ],
          "barpolar": [
           {
            "marker": {
             "line": {
              "color": "#E5ECF6",
              "width": 0.5
             }
            },
            "type": "barpolar"
           }
          ],
          "carpet": [
           {
            "aaxis": {
             "endlinecolor": "#2a3f5f",
             "gridcolor": "white",
             "linecolor": "white",
             "minorgridcolor": "white",
             "startlinecolor": "#2a3f5f"
            },
            "baxis": {
             "endlinecolor": "#2a3f5f",
             "gridcolor": "white",
             "linecolor": "white",
             "minorgridcolor": "white",
             "startlinecolor": "#2a3f5f"
            },
            "type": "carpet"
           }
          ],
          "choropleth": [
           {
            "colorbar": {
             "outlinewidth": 0,
             "ticks": ""
            },
            "type": "choropleth"
           }
          ],
          "contour": [
           {
            "colorbar": {
             "outlinewidth": 0,
             "ticks": ""
            },
            "colorscale": [
             [
              0,
              "#0d0887"
             ],
             [
              0.1111111111111111,
              "#46039f"
             ],
             [
              0.2222222222222222,
              "#7201a8"
             ],
             [
              0.3333333333333333,
              "#9c179e"
             ],
             [
              0.4444444444444444,
              "#bd3786"
             ],
             [
              0.5555555555555556,
              "#d8576b"
             ],
             [
              0.6666666666666666,
              "#ed7953"
             ],
             [
              0.7777777777777778,
              "#fb9f3a"
             ],
             [
              0.8888888888888888,
              "#fdca26"
             ],
             [
              1,
              "#f0f921"
             ]
            ],
            "type": "contour"
           }
          ],
          "contourcarpet": [
           {
            "colorbar": {
             "outlinewidth": 0,
             "ticks": ""
            },
            "type": "contourcarpet"
           }
          ],
          "heatmap": [
           {
            "colorbar": {
             "outlinewidth": 0,
             "ticks": ""
            },
            "colorscale": [
             [
              0,
              "#0d0887"
             ],
             [
              0.1111111111111111,
              "#46039f"
             ],
             [
              0.2222222222222222,
              "#7201a8"
             ],
             [
              0.3333333333333333,
              "#9c179e"
             ],
             [
              0.4444444444444444,
              "#bd3786"
             ],
             [
              0.5555555555555556,
              "#d8576b"
             ],
             [
              0.6666666666666666,
              "#ed7953"
             ],
             [
              0.7777777777777778,
              "#fb9f3a"
             ],
             [
              0.8888888888888888,
              "#fdca26"
             ],
             [
              1,
              "#f0f921"
             ]
            ],
            "type": "heatmap"
           }
          ],
          "heatmapgl": [
           {
            "colorbar": {
             "outlinewidth": 0,
             "ticks": ""
            },
            "colorscale": [
             [
              0,
              "#0d0887"
             ],
             [
              0.1111111111111111,
              "#46039f"
             ],
             [
              0.2222222222222222,
              "#7201a8"
             ],
             [
              0.3333333333333333,
              "#9c179e"
             ],
             [
              0.4444444444444444,
              "#bd3786"
             ],
             [
              0.5555555555555556,
              "#d8576b"
             ],
             [
              0.6666666666666666,
              "#ed7953"
             ],
             [
              0.7777777777777778,
              "#fb9f3a"
             ],
             [
              0.8888888888888888,
              "#fdca26"
             ],
             [
              1,
              "#f0f921"
             ]
            ],
            "type": "heatmapgl"
           }
          ],
          "histogram": [
           {
            "marker": {
             "colorbar": {
              "outlinewidth": 0,
              "ticks": ""
             }
            },
            "type": "histogram"
           }
          ],
          "histogram2d": [
           {
            "colorbar": {
             "outlinewidth": 0,
             "ticks": ""
            },
            "colorscale": [
             [
              0,
              "#0d0887"
             ],
             [
              0.1111111111111111,
              "#46039f"
             ],
             [
              0.2222222222222222,
              "#7201a8"
             ],
             [
              0.3333333333333333,
              "#9c179e"
             ],
             [
              0.4444444444444444,
              "#bd3786"
             ],
             [
              0.5555555555555556,
              "#d8576b"
             ],
             [
              0.6666666666666666,
              "#ed7953"
             ],
             [
              0.7777777777777778,
              "#fb9f3a"
             ],
             [
              0.8888888888888888,
              "#fdca26"
             ],
             [
              1,
              "#f0f921"
             ]
            ],
            "type": "histogram2d"
           }
          ],
          "histogram2dcontour": [
           {
            "colorbar": {
             "outlinewidth": 0,
             "ticks": ""
            },
            "colorscale": [
             [
              0,
              "#0d0887"
             ],
             [
              0.1111111111111111,
              "#46039f"
             ],
             [
              0.2222222222222222,
              "#7201a8"
             ],
             [
              0.3333333333333333,
              "#9c179e"
             ],
             [
              0.4444444444444444,
              "#bd3786"
             ],
             [
              0.5555555555555556,
              "#d8576b"
             ],
             [
              0.6666666666666666,
              "#ed7953"
             ],
             [
              0.7777777777777778,
              "#fb9f3a"
             ],
             [
              0.8888888888888888,
              "#fdca26"
             ],
             [
              1,
              "#f0f921"
             ]
            ],
            "type": "histogram2dcontour"
           }
          ],
          "mesh3d": [
           {
            "colorbar": {
             "outlinewidth": 0,
             "ticks": ""
            },
            "type": "mesh3d"
           }
          ],
          "parcoords": [
           {
            "line": {
             "colorbar": {
              "outlinewidth": 0,
              "ticks": ""
             }
            },
            "type": "parcoords"
           }
          ],
          "pie": [
           {
            "automargin": true,
            "type": "pie"
           }
          ],
          "scatter": [
           {
            "marker": {
             "colorbar": {
              "outlinewidth": 0,
              "ticks": ""
             }
            },
            "type": "scatter"
           }
          ],
          "scatter3d": [
           {
            "line": {
             "colorbar": {
              "outlinewidth": 0,
              "ticks": ""
             }
            },
            "marker": {
             "colorbar": {
              "outlinewidth": 0,
              "ticks": ""
             }
            },
            "type": "scatter3d"
           }
          ],
          "scattercarpet": [
           {
            "marker": {
             "colorbar": {
              "outlinewidth": 0,
              "ticks": ""
             }
            },
            "type": "scattercarpet"
           }
          ],
          "scattergeo": [
           {
            "marker": {
             "colorbar": {
              "outlinewidth": 0,
              "ticks": ""
             }
            },
            "type": "scattergeo"
           }
          ],
          "scattergl": [
           {
            "marker": {
             "colorbar": {
              "outlinewidth": 0,
              "ticks": ""
             }
            },
            "type": "scattergl"
           }
          ],
          "scattermapbox": [
           {
            "marker": {
             "colorbar": {
              "outlinewidth": 0,
              "ticks": ""
             }
            },
            "type": "scattermapbox"
           }
          ],
          "scatterpolar": [
           {
            "marker": {
             "colorbar": {
              "outlinewidth": 0,
              "ticks": ""
             }
            },
            "type": "scatterpolar"
           }
          ],
          "scatterpolargl": [
           {
            "marker": {
             "colorbar": {
              "outlinewidth": 0,
              "ticks": ""
             }
            },
            "type": "scatterpolargl"
           }
          ],
          "scatterternary": [
           {
            "marker": {
             "colorbar": {
              "outlinewidth": 0,
              "ticks": ""
             }
            },
            "type": "scatterternary"
           }
          ],
          "surface": [
           {
            "colorbar": {
             "outlinewidth": 0,
             "ticks": ""
            },
            "colorscale": [
             [
              0,
              "#0d0887"
             ],
             [
              0.1111111111111111,
              "#46039f"
             ],
             [
              0.2222222222222222,
              "#7201a8"
             ],
             [
              0.3333333333333333,
              "#9c179e"
             ],
             [
              0.4444444444444444,
              "#bd3786"
             ],
             [
              0.5555555555555556,
              "#d8576b"
             ],
             [
              0.6666666666666666,
              "#ed7953"
             ],
             [
              0.7777777777777778,
              "#fb9f3a"
             ],
             [
              0.8888888888888888,
              "#fdca26"
             ],
             [
              1,
              "#f0f921"
             ]
            ],
            "type": "surface"
           }
          ],
          "table": [
           {
            "cells": {
             "fill": {
              "color": "#EBF0F8"
             },
             "line": {
              "color": "white"
             }
            },
            "header": {
             "fill": {
              "color": "#C8D4E3"
             },
             "line": {
              "color": "white"
             }
            },
            "type": "table"
           }
          ]
         },
         "layout": {
          "annotationdefaults": {
           "arrowcolor": "#2a3f5f",
           "arrowhead": 0,
           "arrowwidth": 1
          },
          "autotypenumbers": "strict",
          "coloraxis": {
           "colorbar": {
            "outlinewidth": 0,
            "ticks": ""
           }
          },
          "colorscale": {
           "diverging": [
            [
             0,
             "#8e0152"
            ],
            [
             0.1,
             "#c51b7d"
            ],
            [
             0.2,
             "#de77ae"
            ],
            [
             0.3,
             "#f1b6da"
            ],
            [
             0.4,
             "#fde0ef"
            ],
            [
             0.5,
             "#f7f7f7"
            ],
            [
             0.6,
             "#e6f5d0"
            ],
            [
             0.7,
             "#b8e186"
            ],
            [
             0.8,
             "#7fbc41"
            ],
            [
             0.9,
             "#4d9221"
            ],
            [
             1,
             "#276419"
            ]
           ],
           "sequential": [
            [
             0,
             "#0d0887"
            ],
            [
             0.1111111111111111,
             "#46039f"
            ],
            [
             0.2222222222222222,
             "#7201a8"
            ],
            [
             0.3333333333333333,
             "#9c179e"
            ],
            [
             0.4444444444444444,
             "#bd3786"
            ],
            [
             0.5555555555555556,
             "#d8576b"
            ],
            [
             0.6666666666666666,
             "#ed7953"
            ],
            [
             0.7777777777777778,
             "#fb9f3a"
            ],
            [
             0.8888888888888888,
             "#fdca26"
            ],
            [
             1,
             "#f0f921"
            ]
           ],
           "sequentialminus": [
            [
             0,
             "#0d0887"
            ],
            [
             0.1111111111111111,
             "#46039f"
            ],
            [
             0.2222222222222222,
             "#7201a8"
            ],
            [
             0.3333333333333333,
             "#9c179e"
            ],
            [
             0.4444444444444444,
             "#bd3786"
            ],
            [
             0.5555555555555556,
             "#d8576b"
            ],
            [
             0.6666666666666666,
             "#ed7953"
            ],
            [
             0.7777777777777778,
             "#fb9f3a"
            ],
            [
             0.8888888888888888,
             "#fdca26"
            ],
            [
             1,
             "#f0f921"
            ]
           ]
          },
          "colorway": [
           "#1f77b4",
           "#ff7f0e",
           "#2ca02c",
           "#dc3912",
           "#9467bd",
           "#8c564b",
           "#e377c2",
           "#7f7f7f",
           "#bcbd22",
           "#17becf"
          ],
          "font": {
           "color": "#2a3f5f"
          },
          "geo": {
           "bgcolor": "white",
           "lakecolor": "white",
           "landcolor": "#E5ECF6",
           "showlakes": true,
           "showland": true,
           "subunitcolor": "white"
          },
          "hoverlabel": {
           "align": "left"
          },
          "hovermode": "closest",
          "mapbox": {
           "style": "light"
          },
          "paper_bgcolor": "white",
          "plot_bgcolor": "#E5ECF6",
          "polar": {
           "angularaxis": {
            "gridcolor": "white",
            "linecolor": "white",
            "ticks": ""
           },
           "bgcolor": "#E5ECF6",
           "radialaxis": {
            "gridcolor": "white",
            "linecolor": "white",
            "ticks": ""
           }
          },
          "scene": {
           "xaxis": {
            "backgroundcolor": "#E5ECF6",
            "gridcolor": "white",
            "gridwidth": 2,
            "linecolor": "white",
            "showbackground": true,
            "ticks": "",
            "zerolinecolor": "white"
           },
           "yaxis": {
            "backgroundcolor": "#E5ECF6",
            "gridcolor": "white",
            "gridwidth": 2,
            "linecolor": "white",
            "showbackground": true,
            "ticks": "",
            "zerolinecolor": "white"
           },
           "zaxis": {
            "backgroundcolor": "#E5ECF6",
            "gridcolor": "white",
            "gridwidth": 2,
            "linecolor": "white",
            "showbackground": true,
            "ticks": "",
            "zerolinecolor": "white"
           }
          },
          "shapedefaults": {
           "line": {
            "color": "#2a3f5f"
           }
          },
          "ternary": {
           "aaxis": {
            "gridcolor": "white",
            "linecolor": "white",
            "ticks": ""
           },
           "baxis": {
            "gridcolor": "white",
            "linecolor": "white",
            "ticks": ""
           },
           "bgcolor": "#E5ECF6",
           "caxis": {
            "gridcolor": "white",
            "linecolor": "white",
            "ticks": ""
           }
          },
          "title": {
           "x": 0.05
          },
          "xaxis": {
           "automargin": true,
           "gridcolor": "white",
           "linecolor": "white",
           "ticks": "",
           "title": {
            "standoff": 15
           },
           "zerolinecolor": "white",
           "zerolinewidth": 2
          },
          "yaxis": {
           "automargin": true,
           "gridcolor": "white",
           "linecolor": "white",
           "ticks": "",
           "title": {
            "standoff": 15
           },
           "zerolinecolor": "white",
           "zerolinewidth": 2
          }
         }
        },
        "width": 700
       }
      },
      "text/html": [
       "<div>                            <div id=\"5ee586c0-413a-4712-898b-d7b8bc3d79f8\" class=\"plotly-graph-div\" style=\"height:350px; width:700px;\"></div>            <script type=\"text/javascript\">                require([\"plotly\"], function(Plotly) {                    window.PLOTLYENV=window.PLOTLYENV || {};                                    if (document.getElementById(\"5ee586c0-413a-4712-898b-d7b8bc3d79f8\")) {                    Plotly.newPlot(                        \"5ee586c0-413a-4712-898b-d7b8bc3d79f8\",                        [{\"line\": {\"color\": \"#1f77b4\"}, \"name\": \"AAPL210319C00130000\", \"showlegend\": true, \"type\": \"scatter\", \"uid\": \"de65c012-4763-417e-a139-4832704db8d2\", \"x\": [\"2021-01-04T00:00:00\", \"2021-01-05T00:00:00\", \"2021-01-06T00:00:00\", \"2021-01-07T00:00:00\", \"2021-01-08T00:00:00\", \"2021-01-11T00:00:00\", \"2021-01-12T00:00:00\", \"2021-01-13T00:00:00\", \"2021-01-14T00:00:00\", \"2021-01-15T00:00:00\", \"2021-01-19T00:00:00\", \"2021-01-20T00:00:00\", \"2021-01-21T00:00:00\", \"2021-01-22T00:00:00\", \"2021-01-25T00:00:00\", \"2021-01-26T00:00:00\", \"2021-01-27T00:00:00\", \"2021-01-28T00:00:00\", \"2021-01-29T00:00:00\", \"2021-02-01T00:00:00\", \"2021-02-02T00:00:00\", \"2021-02-03T00:00:00\", \"2021-02-04T00:00:00\", \"2021-02-05T00:00:00\", \"2021-02-08T00:00:00\", \"2021-02-09T00:00:00\", \"2021-02-10T00:00:00\", \"2021-02-11T00:00:00\", \"2021-02-12T00:00:00\", \"2021-02-16T00:00:00\", \"2021-02-17T00:00:00\", \"2021-02-18T00:00:00\", \"2021-02-19T00:00:00\", \"2021-02-22T00:00:00\", \"2021-02-23T00:00:00\", \"2021-02-24T00:00:00\", \"2021-02-25T00:00:00\", \"2021-02-26T00:00:00\", \"2021-03-01T00:00:00\", \"2021-03-02T00:00:00\", \"2021-03-03T00:00:00\", \"2021-03-04T00:00:00\", \"2021-03-05T00:00:00\", \"2021-03-08T00:00:00\", \"2021-03-09T00:00:00\", \"2021-03-10T00:00:00\", \"2021-03-11T00:00:00\", \"2021-03-12T00:00:00\", \"2021-03-15T00:00:00\", \"2021-03-16T00:00:00\", \"2021-03-17T00:00:00\", \"2021-03-18T00:00:00\", \"2021-03-19T00:00:00\", \"2021-03-22T00:00:00\", \"2021-03-23T00:00:00\", \"2021-03-24T00:00:00\", \"2021-03-25T00:00:00\", \"2021-03-26T00:00:00\", \"2021-03-29T00:00:00\", \"2021-03-30T00:00:00\", \"2021-03-31T00:00:00\", \"2021-04-01T00:00:00\", \"2021-04-05T00:00:00\", \"2021-04-06T00:00:00\", \"2021-04-07T00:00:00\", \"2021-04-08T00:00:00\", \"2021-04-09T00:00:00\", \"2021-04-12T00:00:00\", \"2021-04-13T00:00:00\", \"2021-04-14T00:00:00\", \"2021-04-15T00:00:00\", \"2021-04-16T00:00:00\", \"2021-04-19T00:00:00\", \"2021-04-20T00:00:00\", \"2021-04-21T00:00:00\", \"2021-04-22T00:00:00\", \"2021-04-23T00:00:00\", \"2021-04-26T00:00:00\", \"2021-04-27T00:00:00\", \"2021-04-28T00:00:00\", \"2021-04-29T00:00:00\", \"2021-04-30T00:00:00\", \"2021-05-03T00:00:00\", \"2021-05-04T00:00:00\", \"2021-05-05T00:00:00\", \"2021-05-06T00:00:00\", \"2021-05-07T00:00:00\", \"2021-05-10T00:00:00\", \"2021-05-11T00:00:00\", \"2021-05-12T00:00:00\", \"2021-05-13T00:00:00\", \"2021-05-14T00:00:00\", \"2021-05-17T00:00:00\", \"2021-05-18T00:00:00\", \"2021-05-19T00:00:00\", \"2021-05-20T00:00:00\", \"2021-05-21T00:00:00\", \"2021-05-24T00:00:00\", \"2021-05-25T00:00:00\", \"2021-05-26T00:00:00\", \"2021-05-27T00:00:00\", \"2021-05-28T00:00:00\", \"2021-06-01T00:00:00\", \"2021-06-02T00:00:00\", \"2021-06-03T00:00:00\", \"2021-06-04T00:00:00\", \"2021-06-07T00:00:00\", \"2021-06-08T00:00:00\", \"2021-06-09T00:00:00\", \"2021-06-10T00:00:00\", \"2021-06-11T00:00:00\"], \"y\": [1154.153, 1154.153, 1154.153, 1154.153, 1154.153, 1154.153, 1154.153, 1154.153, 1154.153, 1154.153, 1154.153, 1154.153, 1154.153, 1154.153, 1154.153, 1154.153, 1154.153, 1154.153, 1154.153, 1154.153, 1154.153, 1154.153, 1154.153, 1154.153, 1154.153, 1154.153, 1154.153, 1154.153, 1154.153, 1154.153, 1154.153, 1154.153, 1154.153, 1154.153, 1153.886, 1116.886, 1040.424, 916.424, 1460.424, 1092.424, 848.0, 616.0, 528.0, 272.0, 304.0, 224.00000000000003, 231.99999999999997, 120.0, 192.0, 192.0, 96.0, 16.0, 7.992, 7.992, 7.992, 7.992, 7.992, 7.992, 7.992, 7.992, 7.992, 7.992, 7.992, 7.992, 7.992, 7.992, 7.992, 7.992, 7.992, 7.992, 7.992, 7.992, 7.992, 7.992, 7.992, 7.992, 7.992, 7.992, 7.992, 7.992, 7.992, 7.992, 7.992, 7.992, 7.992, 7.992, 7.992, 7.992, 7.992, 7.992, 7.992, 7.992, 7.992, 7.992, 7.992, 7.992, 7.992, 7.992, 7.992, 7.992, 7.992, 7.992, 7.992, 7.992, 7.992, 7.992, 7.992, 7.992, 7.992, 7.992, 7.992]}, {\"customdata\": [[0]], \"hovertemplate\": \"Drawdown Id: %{customdata[0]}<br>Date: %{x}<br>Price: %{y}\", \"marker\": {\"color\": \"#4285F4\", \"line\": {\"color\": \"rgb(11,84,205)\", \"width\": 1}, \"size\": 7, \"symbol\": \"diamond\"}, \"mode\": \"markers\", \"name\": \"Peak\", \"type\": \"scatter\", \"uid\": \"d1ea6414-e781-44da-9eeb-ebbeab3b3d59\", \"x\": [\"2021-02-22T00:00:00\"], \"y\": [1154.153]}, {\"customdata\": [[\"0\", \"-0.20597702384345926\", \"4 days 00:00:00\"]], \"hovertemplate\": \"Drawdown Id: %{customdata[0]}<br>Date: %{x}<br>Price: %{y}<br>Drawdown: %{customdata[1]:.2%}<br>Duration: %{customdata[2]}\", \"marker\": {\"color\": \"#EA4335\", \"line\": {\"color\": \"rgb(181,31,18)\", \"width\": 1}, \"size\": 7, \"symbol\": \"diamond\"}, \"mode\": \"markers\", \"name\": \"Valley\", \"type\": \"scatter\", \"uid\": \"a0c32e60-1e26-41e1-bb2b-e0f4e37dc0cc\", \"x\": [\"2021-02-26T00:00:00\"], \"y\": [916.424]}, {\"customdata\": [[\"0\", \"0.5936116906584725\", \"3 days 00:00:00\"]], \"hovertemplate\": \"Drawdown Id: %{customdata[0]}<br>Date: %{x}<br>Price: %{y}<br>Return: %{customdata[1]:.2%}<br>Duration: %{customdata[2]}\", \"marker\": {\"color\": \"#37B13F\", \"line\": {\"color\": \"rgb(38,123,44)\", \"width\": 1}, \"size\": 7, \"symbol\": \"diamond\"}, \"mode\": \"markers\", \"name\": \"Recovery/Peak\", \"type\": \"scatter\", \"uid\": \"292957c3-3730-4d49-8706-0cb904d65b2a\", \"x\": [\"2021-03-01T00:00:00\"], \"y\": [1460.424]}, {\"customdata\": [[\"1\", \"-0.9945276166373601\", \"84 days 00:00:00\"]], \"hovertemplate\": \"Drawdown Id: %{customdata[0]}<br>Date: %{x}<br>Price: %{y}<br>Drawdown: %{customdata[1]:.2%}<br>Duration: %{customdata[2]}\", \"marker\": {\"color\": \"#FFAA00\", \"line\": {\"color\": \"rgb(178,118,0)\", \"width\": 1}, \"size\": 7, \"symbol\": \"diamond\"}, \"mode\": \"markers\", \"name\": \"Active\", \"type\": \"scatter\", \"uid\": \"1796e5ef-cbd4-41c9-89b3-4a8370ea28dd\", \"x\": [\"2021-06-11T00:00:00\"], \"y\": [7.992]}],                        {\"height\": 350, \"legend\": {\"orientation\": \"h\", \"traceorder\": \"normal\", \"x\": 1, \"xanchor\": \"right\", \"y\": 1.02, \"yanchor\": \"bottom\"}, \"margin\": {\"b\": 30, \"l\": 30, \"r\": 30, \"t\": 30}, \"shapes\": [{\"fillcolor\": \"red\", \"layer\": \"below\", \"line\": {\"width\": 0}, \"opacity\": 0.2, \"type\": \"rect\", \"x0\": \"2021-02-22T00:00:00\", \"x1\": \"2021-02-26T00:00:00\", \"xref\": \"x\", \"y0\": 0, \"y1\": 1, \"yref\": \"paper\"}, {\"fillcolor\": \"green\", \"layer\": \"below\", \"line\": {\"width\": 0}, \"opacity\": 0.2, \"type\": \"rect\", \"x0\": \"2021-02-26T00:00:00\", \"x1\": \"2021-03-01T00:00:00\", \"xref\": \"x\", \"y0\": 0, \"y1\": 1, \"yref\": \"paper\"}, {\"fillcolor\": \"orange\", \"layer\": \"below\", \"line\": {\"width\": 0}, \"opacity\": 0.2, \"type\": \"rect\", \"x0\": \"2021-03-01T00:00:00\", \"x1\": \"2021-06-11T00:00:00\", \"xref\": \"x\", \"y0\": 0, \"y1\": 1, \"yref\": \"paper\"}], \"template\": {\"data\": {\"bar\": [{\"error_x\": {\"color\": \"#2a3f5f\"}, \"error_y\": {\"color\": \"#2a3f5f\"}, \"marker\": {\"line\": {\"color\": \"#E5ECF6\", \"width\": 0.5}}, \"type\": \"bar\"}], \"barpolar\": [{\"marker\": {\"line\": {\"color\": \"#E5ECF6\", \"width\": 0.5}}, \"type\": \"barpolar\"}], \"carpet\": [{\"aaxis\": {\"endlinecolor\": \"#2a3f5f\", \"gridcolor\": \"white\", \"linecolor\": \"white\", \"minorgridcolor\": \"white\", \"startlinecolor\": \"#2a3f5f\"}, \"baxis\": {\"endlinecolor\": \"#2a3f5f\", \"gridcolor\": \"white\", \"linecolor\": \"white\", \"minorgridcolor\": \"white\", \"startlinecolor\": \"#2a3f5f\"}, \"type\": \"carpet\"}], \"choropleth\": [{\"colorbar\": {\"outlinewidth\": 0, \"ticks\": \"\"}, \"type\": \"choropleth\"}], \"contour\": [{\"colorbar\": {\"outlinewidth\": 0, \"ticks\": \"\"}, \"colorscale\": [[0.0, \"#0d0887\"], [0.1111111111111111, \"#46039f\"], [0.2222222222222222, \"#7201a8\"], [0.3333333333333333, \"#9c179e\"], [0.4444444444444444, \"#bd3786\"], [0.5555555555555556, \"#d8576b\"], [0.6666666666666666, \"#ed7953\"], [0.7777777777777778, \"#fb9f3a\"], [0.8888888888888888, \"#fdca26\"], [1.0, \"#f0f921\"]], \"type\": \"contour\"}], \"contourcarpet\": [{\"colorbar\": {\"outlinewidth\": 0, \"ticks\": \"\"}, \"type\": \"contourcarpet\"}], \"heatmap\": [{\"colorbar\": {\"outlinewidth\": 0, \"ticks\": \"\"}, \"colorscale\": [[0.0, \"#0d0887\"], [0.1111111111111111, \"#46039f\"], [0.2222222222222222, \"#7201a8\"], [0.3333333333333333, \"#9c179e\"], [0.4444444444444444, \"#bd3786\"], [0.5555555555555556, \"#d8576b\"], [0.6666666666666666, \"#ed7953\"], [0.7777777777777778, \"#fb9f3a\"], [0.8888888888888888, \"#fdca26\"], [1.0, \"#f0f921\"]], \"type\": \"heatmap\"}], \"heatmapgl\": [{\"colorbar\": {\"outlinewidth\": 0, \"ticks\": \"\"}, \"colorscale\": [[0.0, \"#0d0887\"], [0.1111111111111111, \"#46039f\"], [0.2222222222222222, \"#7201a8\"], [0.3333333333333333, \"#9c179e\"], [0.4444444444444444, \"#bd3786\"], [0.5555555555555556, \"#d8576b\"], [0.6666666666666666, \"#ed7953\"], [0.7777777777777778, \"#fb9f3a\"], [0.8888888888888888, \"#fdca26\"], [1.0, \"#f0f921\"]], \"type\": \"heatmapgl\"}], \"histogram\": [{\"marker\": {\"colorbar\": {\"outlinewidth\": 0, \"ticks\": \"\"}}, \"type\": \"histogram\"}], \"histogram2d\": [{\"colorbar\": {\"outlinewidth\": 0, \"ticks\": \"\"}, \"colorscale\": [[0.0, \"#0d0887\"], [0.1111111111111111, \"#46039f\"], [0.2222222222222222, \"#7201a8\"], [0.3333333333333333, \"#9c179e\"], [0.4444444444444444, \"#bd3786\"], [0.5555555555555556, \"#d8576b\"], [0.6666666666666666, \"#ed7953\"], [0.7777777777777778, \"#fb9f3a\"], [0.8888888888888888, \"#fdca26\"], [1.0, \"#f0f921\"]], \"type\": \"histogram2d\"}], \"histogram2dcontour\": [{\"colorbar\": {\"outlinewidth\": 0, \"ticks\": \"\"}, \"colorscale\": [[0.0, \"#0d0887\"], [0.1111111111111111, \"#46039f\"], [0.2222222222222222, \"#7201a8\"], [0.3333333333333333, \"#9c179e\"], [0.4444444444444444, \"#bd3786\"], [0.5555555555555556, \"#d8576b\"], [0.6666666666666666, \"#ed7953\"], [0.7777777777777778, \"#fb9f3a\"], [0.8888888888888888, \"#fdca26\"], [1.0, \"#f0f921\"]], \"type\": \"histogram2dcontour\"}], \"mesh3d\": [{\"colorbar\": {\"outlinewidth\": 0, \"ticks\": \"\"}, \"type\": \"mesh3d\"}], \"parcoords\": [{\"line\": {\"colorbar\": {\"outlinewidth\": 0, \"ticks\": \"\"}}, \"type\": \"parcoords\"}], \"pie\": [{\"automargin\": true, \"type\": \"pie\"}], \"scatter\": [{\"marker\": {\"colorbar\": {\"outlinewidth\": 0, \"ticks\": \"\"}}, \"type\": \"scatter\"}], \"scatter3d\": [{\"line\": {\"colorbar\": {\"outlinewidth\": 0, \"ticks\": \"\"}}, \"marker\": {\"colorbar\": {\"outlinewidth\": 0, \"ticks\": \"\"}}, \"type\": \"scatter3d\"}], \"scattercarpet\": [{\"marker\": {\"colorbar\": {\"outlinewidth\": 0, \"ticks\": \"\"}}, \"type\": \"scattercarpet\"}], \"scattergeo\": [{\"marker\": {\"colorbar\": {\"outlinewidth\": 0, \"ticks\": \"\"}}, \"type\": \"scattergeo\"}], \"scattergl\": [{\"marker\": {\"colorbar\": {\"outlinewidth\": 0, \"ticks\": \"\"}}, \"type\": \"scattergl\"}], \"scattermapbox\": [{\"marker\": {\"colorbar\": {\"outlinewidth\": 0, \"ticks\": \"\"}}, \"type\": \"scattermapbox\"}], \"scatterpolar\": [{\"marker\": {\"colorbar\": {\"outlinewidth\": 0, \"ticks\": \"\"}}, \"type\": \"scatterpolar\"}], \"scatterpolargl\": [{\"marker\": {\"colorbar\": {\"outlinewidth\": 0, \"ticks\": \"\"}}, \"type\": \"scatterpolargl\"}], \"scatterternary\": [{\"marker\": {\"colorbar\": {\"outlinewidth\": 0, \"ticks\": \"\"}}, \"type\": \"scatterternary\"}], \"surface\": [{\"colorbar\": {\"outlinewidth\": 0, \"ticks\": \"\"}, \"colorscale\": [[0.0, \"#0d0887\"], [0.1111111111111111, \"#46039f\"], [0.2222222222222222, \"#7201a8\"], [0.3333333333333333, \"#9c179e\"], [0.4444444444444444, \"#bd3786\"], [0.5555555555555556, \"#d8576b\"], [0.6666666666666666, \"#ed7953\"], [0.7777777777777778, \"#fb9f3a\"], [0.8888888888888888, \"#fdca26\"], [1.0, \"#f0f921\"]], \"type\": \"surface\"}], \"table\": [{\"cells\": {\"fill\": {\"color\": \"#EBF0F8\"}, \"line\": {\"color\": \"white\"}}, \"header\": {\"fill\": {\"color\": \"#C8D4E3\"}, \"line\": {\"color\": \"white\"}}, \"type\": \"table\"}]}, \"layout\": {\"annotationdefaults\": {\"arrowcolor\": \"#2a3f5f\", \"arrowhead\": 0, \"arrowwidth\": 1}, \"autotypenumbers\": \"strict\", \"coloraxis\": {\"colorbar\": {\"outlinewidth\": 0, \"ticks\": \"\"}}, \"colorscale\": {\"diverging\": [[0, \"#8e0152\"], [0.1, \"#c51b7d\"], [0.2, \"#de77ae\"], [0.3, \"#f1b6da\"], [0.4, \"#fde0ef\"], [0.5, \"#f7f7f7\"], [0.6, \"#e6f5d0\"], [0.7, \"#b8e186\"], [0.8, \"#7fbc41\"], [0.9, \"#4d9221\"], [1, \"#276419\"]], \"sequential\": [[0.0, \"#0d0887\"], [0.1111111111111111, \"#46039f\"], [0.2222222222222222, \"#7201a8\"], [0.3333333333333333, \"#9c179e\"], [0.4444444444444444, \"#bd3786\"], [0.5555555555555556, \"#d8576b\"], [0.6666666666666666, \"#ed7953\"], [0.7777777777777778, \"#fb9f3a\"], [0.8888888888888888, \"#fdca26\"], [1.0, \"#f0f921\"]], \"sequentialminus\": [[0.0, \"#0d0887\"], [0.1111111111111111, \"#46039f\"], [0.2222222222222222, \"#7201a8\"], [0.3333333333333333, \"#9c179e\"], [0.4444444444444444, \"#bd3786\"], [0.5555555555555556, \"#d8576b\"], [0.6666666666666666, \"#ed7953\"], [0.7777777777777778, \"#fb9f3a\"], [0.8888888888888888, \"#fdca26\"], [1.0, \"#f0f921\"]]}, \"colorway\": [\"#1f77b4\", \"#ff7f0e\", \"#2ca02c\", \"#dc3912\", \"#9467bd\", \"#8c564b\", \"#e377c2\", \"#7f7f7f\", \"#bcbd22\", \"#17becf\"], \"font\": {\"color\": \"#2a3f5f\"}, \"geo\": {\"bgcolor\": \"white\", \"lakecolor\": \"white\", \"landcolor\": \"#E5ECF6\", \"showlakes\": true, \"showland\": true, \"subunitcolor\": \"white\"}, \"hoverlabel\": {\"align\": \"left\"}, \"hovermode\": \"closest\", \"mapbox\": {\"style\": \"light\"}, \"paper_bgcolor\": \"white\", \"plot_bgcolor\": \"#E5ECF6\", \"polar\": {\"angularaxis\": {\"gridcolor\": \"white\", \"linecolor\": \"white\", \"ticks\": \"\"}, \"bgcolor\": \"#E5ECF6\", \"radialaxis\": {\"gridcolor\": \"white\", \"linecolor\": \"white\", \"ticks\": \"\"}}, \"scene\": {\"xaxis\": {\"backgroundcolor\": \"#E5ECF6\", \"gridcolor\": \"white\", \"gridwidth\": 2, \"linecolor\": \"white\", \"showbackground\": true, \"ticks\": \"\", \"zerolinecolor\": \"white\"}, \"yaxis\": {\"backgroundcolor\": \"#E5ECF6\", \"gridcolor\": \"white\", \"gridwidth\": 2, \"linecolor\": \"white\", \"showbackground\": true, \"ticks\": \"\", \"zerolinecolor\": \"white\"}, \"zaxis\": {\"backgroundcolor\": \"#E5ECF6\", \"gridcolor\": \"white\", \"gridwidth\": 2, \"linecolor\": \"white\", \"showbackground\": true, \"ticks\": \"\", \"zerolinecolor\": \"white\"}}, \"shapedefaults\": {\"line\": {\"color\": \"#2a3f5f\"}}, \"ternary\": {\"aaxis\": {\"gridcolor\": \"white\", \"linecolor\": \"white\", \"ticks\": \"\"}, \"baxis\": {\"gridcolor\": \"white\", \"linecolor\": \"white\", \"ticks\": \"\"}, \"bgcolor\": \"#E5ECF6\", \"caxis\": {\"gridcolor\": \"white\", \"linecolor\": \"white\", \"ticks\": \"\"}}, \"title\": {\"x\": 0.05}, \"xaxis\": {\"automargin\": true, \"gridcolor\": \"white\", \"linecolor\": \"white\", \"ticks\": \"\", \"title\": {\"standoff\": 15}, \"zerolinecolor\": \"white\", \"zerolinewidth\": 2}, \"yaxis\": {\"automargin\": true, \"gridcolor\": \"white\", \"linecolor\": \"white\", \"ticks\": \"\", \"title\": {\"standoff\": 15}, \"zerolinecolor\": \"white\", \"zerolinewidth\": 2}}}, \"width\": 700},                        {\"responsive\": true}                    ).then(function(){\n",
       "                            \n",
       "var gd = document.getElementById('5ee586c0-413a-4712-898b-d7b8bc3d79f8');\n",
       "var x = new MutationObserver(function (mutations, observer) {{\n",
       "        var display = window.getComputedStyle(gd).display;\n",
       "        if (!display || display === 'none') {{\n",
       "            console.log([gd, 'removed!']);\n",
       "            Plotly.purge(gd);\n",
       "            observer.disconnect();\n",
       "        }}\n",
       "}});\n",
       "\n",
       "// Listen for the removal of the full notebook cells\n",
       "var notebookContainer = gd.closest('#notebook-container');\n",
       "if (notebookContainer) {{\n",
       "    x.observe(notebookContainer, {childList: true});\n",
       "}}\n",
       "\n",
       "// Listen for the clearing of the current output cell\n",
       "var outputEl = gd.closest('.output');\n",
       "if (outputEl) {{\n",
       "    x.observe(outputEl, {childList: true});\n",
       "}}\n",
       "\n",
       "                        })                };                });            </script>        </div>"
      ]
     },
     "metadata": {},
     "output_type": "display_data"
    }
   ],
   "source": [
    "# portfolio[contracts].get_drawdowns().plot()\n",
    "# portfolio[contracts].max_drawdown(group_by=False)\n",
    "# portfolio.drawdown()\n",
    "\n",
    "cidx = 5\n",
    "portfolio[contracts[cidx][:4]][contracts[cidx][-1]].get_drawdowns().plot().show()\n",
    "# portfolio.get_drawdowns(group_by='symbol').plot().show()"
   ]
  },
  {
   "cell_type": "code",
   "execution_count": 1175,
   "metadata": {},
   "outputs": [],
   "source": [
    "# portfolio.value().vbt.plot()"
   ]
  },
  {
   "cell_type": "code",
   "execution_count": 1176,
   "metadata": {},
   "outputs": [
    {
     "data": {
      "text/plain": [
       "exit_type   option_type  symbol  option_expiration  oc_hx_contract_symbol\n",
       "expiration  CALL         AAPL    2021-02-19         AAPL210219C00140000     -0.067754\n",
       "                                 2021-02-26         AAPL210226C00135000      0.000000\n",
       "                                 2021-03-05         AAPL210305C00136000     -0.061446\n",
       "                                                    AAPL210305C00140000     -0.040182\n",
       "                                                    AAPL210305C00150000     -0.068927\n",
       "                                                                               ...   \n",
       "                         XOM     2021-04-16         XOM210416C00070000      -0.066001\n",
       "                         YCBD    2021-02-19         YCBD210219C00007500     -0.058102\n",
       "                         ZM      2021-04-30         ZM210430C00340000        0.000000\n",
       "                                 2021-05-21         ZM210521C00360000        0.000000\n",
       "                                                    ZM210521C00400000       -0.054114\n",
       "Length: 604, dtype: float64"
      ]
     },
     "execution_count": 1176,
     "metadata": {},
     "output_type": "execute_result"
    }
   ],
   "source": [
    "portfolio.total_return(group_by=False)"
   ]
  },
  {
   "cell_type": "markdown",
   "metadata": {},
   "source": [
    "### Figure out how to extract trade details"
   ]
  },
  {
   "cell_type": "code",
   "execution_count": 1178,
   "metadata": {},
   "outputs": [
    {
     "data": {
      "text/html": [
       "<div>\n",
       "<style scoped>\n",
       "    .dataframe tbody tr th:only-of-type {\n",
       "        vertical-align: middle;\n",
       "    }\n",
       "\n",
       "    .dataframe tbody tr th {\n",
       "        vertical-align: top;\n",
       "    }\n",
       "\n",
       "    .dataframe thead th {\n",
       "        text-align: right;\n",
       "    }\n",
       "</style>\n",
       "<table border=\"1\" class=\"dataframe\">\n",
       "  <thead>\n",
       "    <tr style=\"text-align: right;\">\n",
       "      <th></th>\n",
       "      <th>id</th>\n",
       "      <th>idx</th>\n",
       "      <th>col</th>\n",
       "      <th>group</th>\n",
       "      <th>cash_now</th>\n",
       "      <th>shares_now</th>\n",
       "      <th>val_price_now</th>\n",
       "      <th>value_now</th>\n",
       "      <th>size</th>\n",
       "      <th>size_type</th>\n",
       "      <th>...</th>\n",
       "      <th>log</th>\n",
       "      <th>new_cash</th>\n",
       "      <th>new_shares</th>\n",
       "      <th>res_size</th>\n",
       "      <th>res_price</th>\n",
       "      <th>res_fees</th>\n",
       "      <th>res_side</th>\n",
       "      <th>res_status</th>\n",
       "      <th>res_status_info</th>\n",
       "      <th>order_id</th>\n",
       "    </tr>\n",
       "  </thead>\n",
       "  <tbody>\n",
       "    <tr>\n",
       "      <th>26</th>\n",
       "      <td>26</td>\n",
       "      <td>26</td>\n",
       "      <td>0</td>\n",
       "      <td>0</td>\n",
       "      <td>inf</td>\n",
       "      <td>0.0</td>\n",
       "      <td>0.78</td>\n",
       "      <td>inf</td>\n",
       "      <td>600.0</td>\n",
       "      <td>0</td>\n",
       "      <td>...</td>\n",
       "      <td>True</td>\n",
       "      <td>inf</td>\n",
       "      <td>600.0</td>\n",
       "      <td>600.0</td>\n",
       "      <td>0.78</td>\n",
       "      <td>0.468</td>\n",
       "      <td>0</td>\n",
       "      <td>0</td>\n",
       "      <td>-1</td>\n",
       "      <td>0</td>\n",
       "    </tr>\n",
       "    <tr>\n",
       "      <th>32</th>\n",
       "      <td>32</td>\n",
       "      <td>32</td>\n",
       "      <td>0</td>\n",
       "      <td>0</td>\n",
       "      <td>inf</td>\n",
       "      <td>600.0</td>\n",
       "      <td>0.01</td>\n",
       "      <td>inf</td>\n",
       "      <td>-600.0</td>\n",
       "      <td>0</td>\n",
       "      <td>...</td>\n",
       "      <td>True</td>\n",
       "      <td>inf</td>\n",
       "      <td>0.0</td>\n",
       "      <td>600.0</td>\n",
       "      <td>0.01</td>\n",
       "      <td>0.006</td>\n",
       "      <td>1</td>\n",
       "      <td>0</td>\n",
       "      <td>-1</td>\n",
       "      <td>1</td>\n",
       "    </tr>\n",
       "    <tr>\n",
       "      <th>243</th>\n",
       "      <td>243</td>\n",
       "      <td>21</td>\n",
       "      <td>2</td>\n",
       "      <td>2</td>\n",
       "      <td>inf</td>\n",
       "      <td>0.0</td>\n",
       "      <td>4.20</td>\n",
       "      <td>inf</td>\n",
       "      <td>100.0</td>\n",
       "      <td>0</td>\n",
       "      <td>...</td>\n",
       "      <td>True</td>\n",
       "      <td>inf</td>\n",
       "      <td>100.0</td>\n",
       "      <td>100.0</td>\n",
       "      <td>4.20</td>\n",
       "      <td>0.420</td>\n",
       "      <td>0</td>\n",
       "      <td>0</td>\n",
       "      <td>-1</td>\n",
       "      <td>2</td>\n",
       "    </tr>\n",
       "    <tr>\n",
       "      <th>264</th>\n",
       "      <td>264</td>\n",
       "      <td>42</td>\n",
       "      <td>2</td>\n",
       "      <td>2</td>\n",
       "      <td>inf</td>\n",
       "      <td>100.0</td>\n",
       "      <td>0.01</td>\n",
       "      <td>inf</td>\n",
       "      <td>-100.0</td>\n",
       "      <td>0</td>\n",
       "      <td>...</td>\n",
       "      <td>True</td>\n",
       "      <td>inf</td>\n",
       "      <td>0.0</td>\n",
       "      <td>100.0</td>\n",
       "      <td>0.01</td>\n",
       "      <td>0.001</td>\n",
       "      <td>1</td>\n",
       "      <td>0</td>\n",
       "      <td>-1</td>\n",
       "      <td>3</td>\n",
       "    </tr>\n",
       "    <tr>\n",
       "      <th>354</th>\n",
       "      <td>354</td>\n",
       "      <td>21</td>\n",
       "      <td>3</td>\n",
       "      <td>3</td>\n",
       "      <td>inf</td>\n",
       "      <td>0.0</td>\n",
       "      <td>2.75</td>\n",
       "      <td>inf</td>\n",
       "      <td>100.0</td>\n",
       "      <td>0</td>\n",
       "      <td>...</td>\n",
       "      <td>True</td>\n",
       "      <td>inf</td>\n",
       "      <td>100.0</td>\n",
       "      <td>100.0</td>\n",
       "      <td>2.75</td>\n",
       "      <td>0.275</td>\n",
       "      <td>0</td>\n",
       "      <td>0</td>\n",
       "      <td>-1</td>\n",
       "      <td>4</td>\n",
       "    </tr>\n",
       "  </tbody>\n",
       "</table>\n",
       "<p>5 rows × 30 columns</p>\n",
       "</div>"
      ],
      "text/plain": [
       "      id  idx  col  group  cash_now  shares_now  val_price_now  value_now  \\\n",
       "26    26   26    0      0       inf         0.0           0.78        inf   \n",
       "32    32   32    0      0       inf       600.0           0.01        inf   \n",
       "243  243   21    2      2       inf         0.0           4.20        inf   \n",
       "264  264   42    2      2       inf       100.0           0.01        inf   \n",
       "354  354   21    3      3       inf         0.0           2.75        inf   \n",
       "\n",
       "      size  size_type  ...   log  new_cash  new_shares  res_size  res_price  \\\n",
       "26   600.0          0  ...  True       inf       600.0     600.0       0.78   \n",
       "32  -600.0          0  ...  True       inf         0.0     600.0       0.01   \n",
       "243  100.0          0  ...  True       inf       100.0     100.0       4.20   \n",
       "264 -100.0          0  ...  True       inf         0.0     100.0       0.01   \n",
       "354  100.0          0  ...  True       inf       100.0     100.0       2.75   \n",
       "\n",
       "     res_fees  res_side  res_status  res_status_info  order_id  \n",
       "26      0.468         0           0               -1         0  \n",
       "32      0.006         1           0               -1         1  \n",
       "243     0.420         0           0               -1         2  \n",
       "264     0.001         1           0               -1         3  \n",
       "354     0.275         0           0               -1         4  \n",
       "\n",
       "[5 rows x 30 columns]"
      ]
     },
     "execution_count": 1178,
     "metadata": {},
     "output_type": "execute_result"
    }
   ],
   "source": [
    "trade_df = portfolio.logs.records\n",
    "trade_df[trade_df['order_id'] != -1].head()"
   ]
  },
  {
   "cell_type": "code",
   "execution_count": 1179,
   "metadata": {},
   "outputs": [
    {
     "data": {
      "text/plain": [
       "('expiration', 'CALL', 'MVIS', '2021-02-19', 'MVIS210219C00016000')"
      ]
     },
     "execution_count": 1179,
     "metadata": {},
     "output_type": "execute_result"
    }
   ],
   "source": [
    "symbol = 'MVIS' #'CCL210521C00030000'#'AAL210521C00025000' MVIS\n",
    "cidx = [i for i,c in enumerate(contracts) if symbol in c][0]\n",
    "contracts[cidx]"
   ]
  },
  {
   "cell_type": "code",
   "execution_count": 1180,
   "metadata": {},
   "outputs": [
    {
     "data": {
      "text/plain": [
       "<matplotlib.axes._subplots.AxesSubplot at 0x155678dc0>"
      ]
     },
     "execution_count": 1180,
     "metadata": {},
     "output_type": "execute_result"
    },
    {
     "data": {
      "image/png": "[encoded data removed]",
      "text/plain": [
       "<Figure size 432x288 with 1 Axes>"
      ]
     },
     "metadata": {
      "needs_background": "light"
     },
     "output_type": "display_data"
    }
   ],
   "source": [
    "df_tmp.loc[:,idx[contracts[cidx][1:4]]].plot()"
   ]
  },
  {
   "cell_type": "code",
   "execution_count": 1181,
   "metadata": {},
   "outputs": [
    {
     "ename": "KeyError",
     "evalue": "'AAL210219C00017000'",
     "output_type": "error",
     "traceback": [
      "\u001b[0;31m---------------------------------------------------------------------------\u001b[0m",
      "\u001b[0;31mKeyError\u001b[0m                                  Traceback (most recent call last)",
      "\u001b[0;32m~/anaconda3/envs/fin/lib/python3.8/site-packages/pandas/core/indexes/base.py\u001b[0m in \u001b[0;36mget_loc\u001b[0;34m(self, key, method, tolerance)\u001b[0m\n\u001b[1;32m   2897\u001b[0m             \u001b[0;32mtry\u001b[0m\u001b[0;34m:\u001b[0m\u001b[0;34m\u001b[0m\u001b[0;34m\u001b[0m\u001b[0m\n\u001b[0;32m-> 2898\u001b[0;31m                 \u001b[0;32mreturn\u001b[0m \u001b[0mself\u001b[0m\u001b[0;34m.\u001b[0m\u001b[0m_engine\u001b[0m\u001b[0;34m.\u001b[0m\u001b[0mget_loc\u001b[0m\u001b[0;34m(\u001b[0m\u001b[0mcasted_key\u001b[0m\u001b[0;34m)\u001b[0m\u001b[0;34m\u001b[0m\u001b[0;34m\u001b[0m\u001b[0m\n\u001b[0m\u001b[1;32m   2899\u001b[0m             \u001b[0;32mexcept\u001b[0m \u001b[0mKeyError\u001b[0m \u001b[0;32mas\u001b[0m \u001b[0merr\u001b[0m\u001b[0;34m:\u001b[0m\u001b[0;34m\u001b[0m\u001b[0;34m\u001b[0m\u001b[0m\n",
      "\u001b[0;32mpandas/_libs/index.pyx\u001b[0m in \u001b[0;36mpandas._libs.index.IndexEngine.get_loc\u001b[0;34m()\u001b[0m\n",
      "\u001b[0;32mpandas/_libs/index.pyx\u001b[0m in \u001b[0;36mpandas._libs.index.IndexEngine.get_loc\u001b[0;34m()\u001b[0m\n",
      "\u001b[0;32mpandas/_libs/hashtable_class_helper.pxi\u001b[0m in \u001b[0;36mpandas._libs.hashtable.PyObjectHashTable.get_item\u001b[0;34m()\u001b[0m\n",
      "\u001b[0;32mpandas/_libs/hashtable_class_helper.pxi\u001b[0m in \u001b[0;36mpandas._libs.hashtable.PyObjectHashTable.get_item\u001b[0;34m()\u001b[0m\n",
      "\u001b[0;31mKeyError\u001b[0m: 'AAL210219C00017000'",
      "\nThe above exception was the direct cause of the following exception:\n",
      "\u001b[0;31mKeyError\u001b[0m                                  Traceback (most recent call last)",
      "\u001b[0;32m<ipython-input-1181-72a3a9550034>\u001b[0m in \u001b[0;36m<module>\u001b[0;34m\u001b[0m\n\u001b[0;32m----> 1\u001b[0;31m \u001b[0mdf_tmp\u001b[0m\u001b[0;34m.\u001b[0m\u001b[0mloc\u001b[0m\u001b[0;34m[\u001b[0m\u001b[0;34m:\u001b[0m\u001b[0;34m,\u001b[0m\u001b[0midx\u001b[0m\u001b[0;34m[\u001b[0m\u001b[0mcontracts\u001b[0m\u001b[0;34m[\u001b[0m\u001b[0mcidx\u001b[0m\u001b[0;34m]\u001b[0m\u001b[0;34m[\u001b[0m\u001b[0;36m1\u001b[0m\u001b[0;34m:\u001b[0m\u001b[0;36m4\u001b[0m\u001b[0;34m]\u001b[0m\u001b[0;34m]\u001b[0m\u001b[0;34m]\u001b[0m\u001b[0;34m[\u001b[0m\u001b[0;34m'AAL210219C00017000'\u001b[0m\u001b[0;34m]\u001b[0m\u001b[0;34m.\u001b[0m\u001b[0mplot\u001b[0m\u001b[0;34m(\u001b[0m\u001b[0;34m)\u001b[0m\u001b[0;34m\u001b[0m\u001b[0;34m\u001b[0m\u001b[0m\n\u001b[0m\u001b[1;32m      2\u001b[0m \u001b[0mdf_tmp\u001b[0m\u001b[0;34m.\u001b[0m\u001b[0mloc\u001b[0m\u001b[0;34m[\u001b[0m\u001b[0;34m:\u001b[0m\u001b[0;34m,\u001b[0m\u001b[0midx\u001b[0m\u001b[0;34m[\u001b[0m\u001b[0mcontracts\u001b[0m\u001b[0;34m[\u001b[0m\u001b[0mcidx\u001b[0m\u001b[0;34m]\u001b[0m\u001b[0;34m[\u001b[0m\u001b[0;36m1\u001b[0m\u001b[0;34m:\u001b[0m\u001b[0;36m4\u001b[0m\u001b[0;34m]\u001b[0m\u001b[0;34m]\u001b[0m\u001b[0;34m]\u001b[0m\u001b[0;34m[\u001b[0m\u001b[0;34m'AAL210219C00018000'\u001b[0m\u001b[0;34m]\u001b[0m\u001b[0;34m.\u001b[0m\u001b[0mplot\u001b[0m\u001b[0;34m(\u001b[0m\u001b[0;34m)\u001b[0m\u001b[0;34m\u001b[0m\u001b[0;34m\u001b[0m\u001b[0m\n",
      "\u001b[0;32m~/anaconda3/envs/fin/lib/python3.8/site-packages/pandas/core/frame.py\u001b[0m in \u001b[0;36m__getitem__\u001b[0;34m(self, key)\u001b[0m\n\u001b[1;32m   2904\u001b[0m             \u001b[0;32mif\u001b[0m \u001b[0mself\u001b[0m\u001b[0;34m.\u001b[0m\u001b[0mcolumns\u001b[0m\u001b[0;34m.\u001b[0m\u001b[0mnlevels\u001b[0m \u001b[0;34m>\u001b[0m \u001b[0;36m1\u001b[0m\u001b[0;34m:\u001b[0m\u001b[0;34m\u001b[0m\u001b[0;34m\u001b[0m\u001b[0m\n\u001b[1;32m   2905\u001b[0m                 \u001b[0;32mreturn\u001b[0m \u001b[0mself\u001b[0m\u001b[0;34m.\u001b[0m\u001b[0m_getitem_multilevel\u001b[0m\u001b[0;34m(\u001b[0m\u001b[0mkey\u001b[0m\u001b[0;34m)\u001b[0m\u001b[0;34m\u001b[0m\u001b[0;34m\u001b[0m\u001b[0m\n\u001b[0;32m-> 2906\u001b[0;31m             \u001b[0mindexer\u001b[0m \u001b[0;34m=\u001b[0m \u001b[0mself\u001b[0m\u001b[0;34m.\u001b[0m\u001b[0mcolumns\u001b[0m\u001b[0;34m.\u001b[0m\u001b[0mget_loc\u001b[0m\u001b[0;34m(\u001b[0m\u001b[0mkey\u001b[0m\u001b[0;34m)\u001b[0m\u001b[0;34m\u001b[0m\u001b[0;34m\u001b[0m\u001b[0m\n\u001b[0m\u001b[1;32m   2907\u001b[0m             \u001b[0;32mif\u001b[0m \u001b[0mis_integer\u001b[0m\u001b[0;34m(\u001b[0m\u001b[0mindexer\u001b[0m\u001b[0;34m)\u001b[0m\u001b[0;34m:\u001b[0m\u001b[0;34m\u001b[0m\u001b[0;34m\u001b[0m\u001b[0m\n\u001b[1;32m   2908\u001b[0m                 \u001b[0mindexer\u001b[0m \u001b[0;34m=\u001b[0m \u001b[0;34m[\u001b[0m\u001b[0mindexer\u001b[0m\u001b[0;34m]\u001b[0m\u001b[0;34m\u001b[0m\u001b[0;34m\u001b[0m\u001b[0m\n",
      "\u001b[0;32m~/anaconda3/envs/fin/lib/python3.8/site-packages/pandas/core/indexes/base.py\u001b[0m in \u001b[0;36mget_loc\u001b[0;34m(self, key, method, tolerance)\u001b[0m\n\u001b[1;32m   2898\u001b[0m                 \u001b[0;32mreturn\u001b[0m \u001b[0mself\u001b[0m\u001b[0;34m.\u001b[0m\u001b[0m_engine\u001b[0m\u001b[0;34m.\u001b[0m\u001b[0mget_loc\u001b[0m\u001b[0;34m(\u001b[0m\u001b[0mcasted_key\u001b[0m\u001b[0;34m)\u001b[0m\u001b[0;34m\u001b[0m\u001b[0;34m\u001b[0m\u001b[0m\n\u001b[1;32m   2899\u001b[0m             \u001b[0;32mexcept\u001b[0m \u001b[0mKeyError\u001b[0m \u001b[0;32mas\u001b[0m \u001b[0merr\u001b[0m\u001b[0;34m:\u001b[0m\u001b[0;34m\u001b[0m\u001b[0;34m\u001b[0m\u001b[0m\n\u001b[0;32m-> 2900\u001b[0;31m                 \u001b[0;32mraise\u001b[0m \u001b[0mKeyError\u001b[0m\u001b[0;34m(\u001b[0m\u001b[0mkey\u001b[0m\u001b[0;34m)\u001b[0m \u001b[0;32mfrom\u001b[0m \u001b[0merr\u001b[0m\u001b[0;34m\u001b[0m\u001b[0;34m\u001b[0m\u001b[0m\n\u001b[0m\u001b[1;32m   2901\u001b[0m \u001b[0;34m\u001b[0m\u001b[0m\n\u001b[1;32m   2902\u001b[0m         \u001b[0;32mif\u001b[0m \u001b[0mtolerance\u001b[0m \u001b[0;32mis\u001b[0m \u001b[0;32mnot\u001b[0m \u001b[0;32mNone\u001b[0m\u001b[0;34m:\u001b[0m\u001b[0;34m\u001b[0m\u001b[0;34m\u001b[0m\u001b[0m\n",
      "\u001b[0;31mKeyError\u001b[0m: 'AAL210219C00017000'"
     ]
    }
   ],
   "source": [
    "df_tmp.loc[:,idx[contracts[cidx][1:4]]]['AAL210219C00017000'].plot()\n",
    "df_tmp.loc[:,idx[contracts[cidx][1:4]]]['AAL210219C00018000'].plot()"
   ]
  },
  {
   "cell_type": "code",
   "execution_count": 1182,
   "metadata": {},
   "outputs": [
    {
     "data": {
      "text/html": [
       "<div>\n",
       "<style scoped>\n",
       "    .dataframe tbody tr th:only-of-type {\n",
       "        vertical-align: middle;\n",
       "    }\n",
       "\n",
       "    .dataframe tbody tr th {\n",
       "        vertical-align: top;\n",
       "    }\n",
       "\n",
       "    .dataframe thead th {\n",
       "        text-align: right;\n",
       "    }\n",
       "</style>\n",
       "<table border=\"1\" class=\"dataframe\">\n",
       "  <thead>\n",
       "    <tr style=\"text-align: right;\">\n",
       "      <th></th>\n",
       "      <th>oc_hx_contract_symbol</th>\n",
       "      <th>0</th>\n",
       "    </tr>\n",
       "  </thead>\n",
       "  <tbody>\n",
       "    <tr>\n",
       "      <th>0</th>\n",
       "      <td>MVIS210219C00016000</td>\n",
       "      <td>6262.770</td>\n",
       "    </tr>\n",
       "    <tr>\n",
       "      <th>1</th>\n",
       "      <td>MVIS210219C00019000</td>\n",
       "      <td>3020.975</td>\n",
       "    </tr>\n",
       "  </tbody>\n",
       "</table>\n",
       "</div>"
      ],
      "text/plain": [
       "  oc_hx_contract_symbol         0\n",
       "0   MVIS210219C00016000  6262.770\n",
       "1   MVIS210219C00019000  3020.975"
      ]
     },
     "execution_count": 1182,
     "metadata": {},
     "output_type": "execute_result"
    }
   ],
   "source": [
    "portfolio[contracts[cidx][:4]].total_profit().reset_index().sort_values(by=[0],ascending=False)"
   ]
  },
  {
   "cell_type": "code",
   "execution_count": 1185,
   "metadata": {},
   "outputs": [
    {
     "data": {
      "text/plain": [
       "Date\n",
       "2021-01-04     500.50\n",
       "2021-01-05     500.50\n",
       "2021-01-06     500.50\n",
       "2021-01-07     500.50\n",
       "2021-01-08     500.50\n",
       "               ...   \n",
       "2021-06-07    6763.27\n",
       "2021-06-08    6763.27\n",
       "2021-06-09    6763.27\n",
       "2021-06-10    6763.27\n",
       "2021-06-11    6763.27\n",
       "Name: MVIS210219C00016000, Length: 111, dtype: float64"
      ]
     },
     "execution_count": 1185,
     "metadata": {},
     "output_type": "execute_result"
    }
   ],
   "source": [
    "# portfolio.trades.records\n",
    "# portfolio.orders.records\n",
    "# portfolio[contracts[cidx][:4]].value()['AAL210219C00017000'].plot()\n",
    "# portfolio[contracts[cidx][:4]].value()['AAL210219C00017500'].plot()\n",
    "portfolio[contracts[cidx][:4]].value()['MVIS210219C00016000'].dropna()#.plot()"
   ]
  },
  {
   "cell_type": "code",
   "execution_count": 1186,
   "metadata": {},
   "outputs": [
    {
     "data": {
      "text/html": [
       "<div>\n",
       "<style scoped>\n",
       "    .dataframe tbody tr th:only-of-type {\n",
       "        vertical-align: middle;\n",
       "    }\n",
       "\n",
       "    .dataframe tbody tr th {\n",
       "        vertical-align: top;\n",
       "    }\n",
       "\n",
       "    .dataframe thead th {\n",
       "        text-align: right;\n",
       "    }\n",
       "</style>\n",
       "<table border=\"1\" class=\"dataframe\">\n",
       "  <thead>\n",
       "    <tr style=\"text-align: right;\">\n",
       "      <th>oc_hx_contract_symbol</th>\n",
       "      <th>MVIS210219C00016000</th>\n",
       "      <th>MVIS210219C00019000</th>\n",
       "    </tr>\n",
       "    <tr>\n",
       "      <th>Date</th>\n",
       "      <th></th>\n",
       "      <th></th>\n",
       "    </tr>\n",
       "  </thead>\n",
       "  <tbody>\n",
       "    <tr>\n",
       "      <th>2021-01-04</th>\n",
       "      <td>500.50</td>\n",
       "      <td>500.500</td>\n",
       "    </tr>\n",
       "    <tr>\n",
       "      <th>2021-01-05</th>\n",
       "      <td>500.50</td>\n",
       "      <td>500.500</td>\n",
       "    </tr>\n",
       "    <tr>\n",
       "      <th>2021-01-06</th>\n",
       "      <td>500.50</td>\n",
       "      <td>500.500</td>\n",
       "    </tr>\n",
       "    <tr>\n",
       "      <th>2021-01-07</th>\n",
       "      <td>500.50</td>\n",
       "      <td>500.500</td>\n",
       "    </tr>\n",
       "    <tr>\n",
       "      <th>2021-01-08</th>\n",
       "      <td>500.50</td>\n",
       "      <td>500.500</td>\n",
       "    </tr>\n",
       "    <tr>\n",
       "      <th>...</th>\n",
       "      <td>...</td>\n",
       "      <td>...</td>\n",
       "    </tr>\n",
       "    <tr>\n",
       "      <th>2021-06-07</th>\n",
       "      <td>6763.27</td>\n",
       "      <td>3521.475</td>\n",
       "    </tr>\n",
       "    <tr>\n",
       "      <th>2021-06-08</th>\n",
       "      <td>6763.27</td>\n",
       "      <td>3521.475</td>\n",
       "    </tr>\n",
       "    <tr>\n",
       "      <th>2021-06-09</th>\n",
       "      <td>6763.27</td>\n",
       "      <td>3521.475</td>\n",
       "    </tr>\n",
       "    <tr>\n",
       "      <th>2021-06-10</th>\n",
       "      <td>6763.27</td>\n",
       "      <td>3521.475</td>\n",
       "    </tr>\n",
       "    <tr>\n",
       "      <th>2021-06-11</th>\n",
       "      <td>6763.27</td>\n",
       "      <td>3521.475</td>\n",
       "    </tr>\n",
       "  </tbody>\n",
       "</table>\n",
       "<p>111 rows × 2 columns</p>\n",
       "</div>"
      ],
      "text/plain": [
       "oc_hx_contract_symbol  MVIS210219C00016000  MVIS210219C00019000\n",
       "Date                                                           \n",
       "2021-01-04                          500.50              500.500\n",
       "2021-01-05                          500.50              500.500\n",
       "2021-01-06                          500.50              500.500\n",
       "2021-01-07                          500.50              500.500\n",
       "2021-01-08                          500.50              500.500\n",
       "...                                    ...                  ...\n",
       "2021-06-07                         6763.27             3521.475\n",
       "2021-06-08                         6763.27             3521.475\n",
       "2021-06-09                         6763.27             3521.475\n",
       "2021-06-10                         6763.27             3521.475\n",
       "2021-06-11                         6763.27             3521.475\n",
       "\n",
       "[111 rows x 2 columns]"
      ]
     },
     "execution_count": 1186,
     "metadata": {},
     "output_type": "execute_result"
    }
   ],
   "source": [
    "# portfolio['ORCL']\n",
    "# portfolio[contracts[cidx][:4]][contracts[cidx][-1]].get_drawdowns().plot().show()\n",
    "# portfolio[contracts[cidx][:4]][contracts[cidx][-1]].value().plot()\n",
    "portfolio[contracts[cidx][:4]].value()#.loc[\"2021-02-03\":\"2021-02-26\"]"
   ]
  },
  {
   "cell_type": "code",
   "execution_count": 1187,
   "metadata": {},
   "outputs": [
    {
     "data": {
      "text/html": [
       "<div>\n",
       "<style scoped>\n",
       "    .dataframe tbody tr th:only-of-type {\n",
       "        vertical-align: middle;\n",
       "    }\n",
       "\n",
       "    .dataframe tbody tr th {\n",
       "        vertical-align: top;\n",
       "    }\n",
       "\n",
       "    .dataframe thead th {\n",
       "        text-align: right;\n",
       "    }\n",
       "</style>\n",
       "<table border=\"1\" class=\"dataframe\">\n",
       "  <thead>\n",
       "    <tr style=\"text-align: right;\">\n",
       "      <th>oc_hx_contract_symbol</th>\n",
       "      <th>MVIS210219C00016000</th>\n",
       "      <th>MVIS210219C00019000</th>\n",
       "    </tr>\n",
       "    <tr>\n",
       "      <th>Date</th>\n",
       "      <th></th>\n",
       "      <th></th>\n",
       "    </tr>\n",
       "  </thead>\n",
       "  <tbody>\n",
       "    <tr>\n",
       "      <th>2021-01-04</th>\n",
       "      <td>NaN</td>\n",
       "      <td>0.05</td>\n",
       "    </tr>\n",
       "    <tr>\n",
       "      <th>2021-01-05</th>\n",
       "      <td>0.20</td>\n",
       "      <td>0.15</td>\n",
       "    </tr>\n",
       "    <tr>\n",
       "      <th>2021-01-06</th>\n",
       "      <td>0.20</td>\n",
       "      <td>0.15</td>\n",
       "    </tr>\n",
       "    <tr>\n",
       "      <th>2021-01-07</th>\n",
       "      <td>0.27</td>\n",
       "      <td>0.20</td>\n",
       "    </tr>\n",
       "    <tr>\n",
       "      <th>2021-01-08</th>\n",
       "      <td>0.30</td>\n",
       "      <td>0.20</td>\n",
       "    </tr>\n",
       "    <tr>\n",
       "      <th>...</th>\n",
       "      <td>...</td>\n",
       "      <td>...</td>\n",
       "    </tr>\n",
       "    <tr>\n",
       "      <th>2021-06-07</th>\n",
       "      <td>NaN</td>\n",
       "      <td>NaN</td>\n",
       "    </tr>\n",
       "    <tr>\n",
       "      <th>2021-06-08</th>\n",
       "      <td>NaN</td>\n",
       "      <td>NaN</td>\n",
       "    </tr>\n",
       "    <tr>\n",
       "      <th>2021-06-09</th>\n",
       "      <td>NaN</td>\n",
       "      <td>NaN</td>\n",
       "    </tr>\n",
       "    <tr>\n",
       "      <th>2021-06-10</th>\n",
       "      <td>NaN</td>\n",
       "      <td>NaN</td>\n",
       "    </tr>\n",
       "    <tr>\n",
       "      <th>2021-06-11</th>\n",
       "      <td>NaN</td>\n",
       "      <td>NaN</td>\n",
       "    </tr>\n",
       "  </tbody>\n",
       "</table>\n",
       "<p>111 rows × 2 columns</p>\n",
       "</div>"
      ],
      "text/plain": [
       "oc_hx_contract_symbol  MVIS210219C00016000  MVIS210219C00019000\n",
       "Date                                                           \n",
       "2021-01-04                             NaN                 0.05\n",
       "2021-01-05                            0.20                 0.15\n",
       "2021-01-06                            0.20                 0.15\n",
       "2021-01-07                            0.27                 0.20\n",
       "2021-01-08                            0.30                 0.20\n",
       "...                                    ...                  ...\n",
       "2021-06-07                             NaN                  NaN\n",
       "2021-06-08                             NaN                  NaN\n",
       "2021-06-09                             NaN                  NaN\n",
       "2021-06-10                             NaN                  NaN\n",
       "2021-06-11                             NaN                  NaN\n",
       "\n",
       "[111 rows x 2 columns]"
      ]
     },
     "execution_count": 1187,
     "metadata": {},
     "output_type": "execute_result"
    }
   ],
   "source": [
    "df_tmp[contracts[cidx][1:4]]#.loc[\"2021-02-03\":\"2021-02-26\"]"
   ]
  },
  {
   "cell_type": "code",
   "execution_count": 1188,
   "metadata": {},
   "outputs": [
    {
     "data": {
      "image/png": "[encoded data removed]",
      "text/plain": [
       "<Figure size 432x288 with 1 Axes>"
      ]
     },
     "metadata": {
      "needs_background": "light"
     },
     "output_type": "display_data"
    },
    {
     "data": {
      "image/png": "[encoded data removed]",
      "text/plain": [
       "<Figure size 432x288 with 1 Axes>"
      ]
     },
     "metadata": {
      "needs_background": "light"
     },
     "output_type": "display_data"
    }
   ],
   "source": [
    "# portfolio[('expiration','CALL','AMRS')].value()#['AMRS'].plot()\n",
    "def plot_ffill_vs_unchanged_portfolio_value(portfolio,key='expiration',title=None):\n",
    "    a = portfolio[key].value().ffill(axis=1).sum(axis=1)\n",
    "    a.name = 'ffill'\n",
    "    a.plot()\n",
    "    b = portfolio[key].value().sum(axis=1)\n",
    "    b.name = 'unchanged'\n",
    "    b.plot(title=' '.join(key) if isinstance(key,tuple) else key)\n",
    "    plt.legend()\n",
    "    \n",
    "plot_ffill_vs_unchanged_portfolio_value(portfolio,key=('expiration','CALL','AMRS'))\n",
    "plt.figure()\n",
    "plot_ffill_vs_unchanged_portfolio_value(portfolio,key=('expiration','CALL','CCL'))"
   ]
  },
  {
   "cell_type": "code",
   "execution_count": 1190,
   "metadata": {},
   "outputs": [
    {
     "data": {
      "text/plain": [
       "<matplotlib.axes._subplots.AxesSubplot at 0x15654db20>"
      ]
     },
     "execution_count": 1190,
     "metadata": {},
     "output_type": "execute_result"
    },
    {
     "data": {
      "image/png": "[encoded data removed]",
      "text/plain": [
       "<Figure size 432x288 with 1 Axes>"
      ]
     },
     "metadata": {
      "needs_background": "light"
     },
     "output_type": "display_data"
    }
   ],
   "source": [
    "portfolio['expiration'].value().sum(axis=1).plot()"
   ]
  },
  {
   "cell_type": "code",
   "execution_count": 1195,
   "metadata": {},
   "outputs": [
    {
     "data": {
      "text/html": [
       "<div>\n",
       "<style scoped>\n",
       "    .dataframe tbody tr th:only-of-type {\n",
       "        vertical-align: middle;\n",
       "    }\n",
       "\n",
       "    .dataframe tbody tr th {\n",
       "        vertical-align: top;\n",
       "    }\n",
       "\n",
       "    .dataframe thead th {\n",
       "        text-align: right;\n",
       "    }\n",
       "</style>\n",
       "<table border=\"1\" class=\"dataframe\">\n",
       "  <thead>\n",
       "    <tr style=\"text-align: right;\">\n",
       "      <th></th>\n",
       "      <th>id</th>\n",
       "      <th>col</th>\n",
       "      <th>size</th>\n",
       "      <th>entry_idx</th>\n",
       "      <th>entry_price</th>\n",
       "      <th>entry_fees</th>\n",
       "      <th>exit_idx</th>\n",
       "      <th>exit_price</th>\n",
       "      <th>exit_fees</th>\n",
       "      <th>pnl</th>\n",
       "      <th>return</th>\n",
       "      <th>direction</th>\n",
       "      <th>status</th>\n",
       "      <th>position_id</th>\n",
       "    </tr>\n",
       "  </thead>\n",
       "  <tbody>\n",
       "    <tr>\n",
       "      <th>0</th>\n",
       "      <td>0</td>\n",
       "      <td>0</td>\n",
       "      <td>1500.0</td>\n",
       "      <td>22</td>\n",
       "      <td>0.32</td>\n",
       "      <td>0.48</td>\n",
       "      <td>32</td>\n",
       "      <td>4.5</td>\n",
       "      <td>6.75</td>\n",
       "      <td>6262.77</td>\n",
       "      <td>13.047438</td>\n",
       "      <td>0</td>\n",
       "      <td>1</td>\n",
       "      <td>0</td>\n",
       "    </tr>\n",
       "  </tbody>\n",
       "</table>\n",
       "</div>"
      ],
      "text/plain": [
       "   id  col    size  entry_idx  entry_price  entry_fees  exit_idx  exit_price  \\\n",
       "0   0    0  1500.0         22         0.32        0.48        32         4.5   \n",
       "\n",
       "   exit_fees      pnl     return  direction  status  position_id  \n",
       "0       6.75  6262.77  13.047438          0       1            0  "
      ]
     },
     "execution_count": 1195,
     "metadata": {},
     "output_type": "execute_result"
    }
   ],
   "source": [
    "portfolio[('expiration','CALL','MVIS','2021-02-19','MVIS210219C00016000')].get_trades().records"
   ]
  },
  {
   "cell_type": "code",
   "execution_count": 1201,
   "metadata": {},
   "outputs": [
    {
     "data": {
      "text/plain": [
       "<matplotlib.axes._subplots.AxesSubplot at 0x157fcc490>"
      ]
     },
     "execution_count": 1201,
     "metadata": {},
     "output_type": "execute_result"
    },
    {
     "data": {
      "image/png": "[encoded data removed]",
      "text/plain": [
       "<Figure size 432x288 with 1 Axes>"
      ]
     },
     "metadata": {
      "needs_background": "light"
     },
     "output_type": "display_data"
    }
   ],
   "source": [
    "# clearly need to figure this out, its not accounting for nans\n",
    "portfolio.value().sum(axis=1).plot()\n",
    "# portfolio.value(group_by='symbol').plot()"
   ]
  },
  {
   "cell_type": "code",
   "execution_count": null,
   "metadata": {},
   "outputs": [],
   "source": []
  },
  {
   "cell_type": "code",
   "execution_count": 633,
   "metadata": {},
   "outputs": [
    {
     "data": {
      "text/html": [
       "<div>\n",
       "<style scoped>\n",
       "    .dataframe tbody tr th:only-of-type {\n",
       "        vertical-align: middle;\n",
       "    }\n",
       "\n",
       "    .dataframe tbody tr th {\n",
       "        vertical-align: top;\n",
       "    }\n",
       "\n",
       "    .dataframe thead th {\n",
       "        text-align: right;\n",
       "    }\n",
       "</style>\n",
       "<table border=\"1\" class=\"dataframe\">\n",
       "  <thead>\n",
       "    <tr style=\"text-align: right;\">\n",
       "      <th></th>\n",
       "      <th></th>\n",
       "      <th>contract_symbol</th>\n",
       "      <th>y_pred</th>\n",
       "      <th>purch_date</th>\n",
       "      <th>purch_datetime</th>\n",
       "      <th>trade_price</th>\n",
       "      <th>open_day_after_purch</th>\n",
       "      <th>lo_day_after_purch</th>\n",
       "      <th>win</th>\n",
       "      <th>loss</th>\n",
       "      <th>close_day_of_exp</th>\n",
       "      <th>...</th>\n",
       "      <th>oc_hx_hi</th>\n",
       "      <th>oc_hx_lo</th>\n",
       "      <th>oc_hx_open</th>\n",
       "      <th>oc_hx_close</th>\n",
       "      <th>s_hx_symbol</th>\n",
       "      <th>s_hx_hi</th>\n",
       "      <th>s_hx_lo</th>\n",
       "      <th>s_hx_open</th>\n",
       "      <th>s_hx_close</th>\n",
       "      <th>s_hx_date</th>\n",
       "    </tr>\n",
       "    <tr>\n",
       "      <th>oc_hx_date</th>\n",
       "      <th>oc_hx_contract_symbol</th>\n",
       "      <th></th>\n",
       "      <th></th>\n",
       "      <th></th>\n",
       "      <th></th>\n",
       "      <th></th>\n",
       "      <th></th>\n",
       "      <th></th>\n",
       "      <th></th>\n",
       "      <th></th>\n",
       "      <th></th>\n",
       "      <th></th>\n",
       "      <th></th>\n",
       "      <th></th>\n",
       "      <th></th>\n",
       "      <th></th>\n",
       "      <th></th>\n",
       "      <th></th>\n",
       "      <th></th>\n",
       "      <th></th>\n",
       "      <th></th>\n",
       "      <th></th>\n",
       "    </tr>\n",
       "  </thead>\n",
       "  <tbody>\n",
       "    <tr>\n",
       "      <th rowspan=\"4\" valign=\"top\">2021-01-04</th>\n",
       "      <th>ORCL210212C00064000</th>\n",
       "      <td>NaN</td>\n",
       "      <td>NaN</td>\n",
       "      <td>NaN</td>\n",
       "      <td>NaN</td>\n",
       "      <td>NaN</td>\n",
       "      <td>NaN</td>\n",
       "      <td>NaN</td>\n",
       "      <td>NaN</td>\n",
       "      <td>NaN</td>\n",
       "      <td>NaN</td>\n",
       "      <td>...</td>\n",
       "      <td>1.75</td>\n",
       "      <td>1.63</td>\n",
       "      <td>1.75</td>\n",
       "      <td>1.63</td>\n",
       "      <td>ORCL</td>\n",
       "      <td>64.70</td>\n",
       "      <td>63.17</td>\n",
       "      <td>64.69</td>\n",
       "      <td>63.75</td>\n",
       "      <td>2021-01-04</td>\n",
       "    </tr>\n",
       "    <tr>\n",
       "      <th>ORCL210219C00065000</th>\n",
       "      <td>NaN</td>\n",
       "      <td>NaN</td>\n",
       "      <td>NaN</td>\n",
       "      <td>NaN</td>\n",
       "      <td>NaN</td>\n",
       "      <td>NaN</td>\n",
       "      <td>NaN</td>\n",
       "      <td>NaN</td>\n",
       "      <td>NaN</td>\n",
       "      <td>NaN</td>\n",
       "      <td>...</td>\n",
       "      <td>1.88</td>\n",
       "      <td>1.35</td>\n",
       "      <td>1.87</td>\n",
       "      <td>1.47</td>\n",
       "      <td>ORCL</td>\n",
       "      <td>64.70</td>\n",
       "      <td>63.17</td>\n",
       "      <td>64.69</td>\n",
       "      <td>63.75</td>\n",
       "      <td>2021-01-04</td>\n",
       "    </tr>\n",
       "    <tr>\n",
       "      <th>ORCL210319C00070000</th>\n",
       "      <td>NaN</td>\n",
       "      <td>NaN</td>\n",
       "      <td>NaN</td>\n",
       "      <td>NaN</td>\n",
       "      <td>NaN</td>\n",
       "      <td>NaN</td>\n",
       "      <td>NaN</td>\n",
       "      <td>NaN</td>\n",
       "      <td>NaN</td>\n",
       "      <td>NaN</td>\n",
       "      <td>...</td>\n",
       "      <td>1.01</td>\n",
       "      <td>0.85</td>\n",
       "      <td>1.01</td>\n",
       "      <td>0.92</td>\n",
       "      <td>ORCL</td>\n",
       "      <td>64.70</td>\n",
       "      <td>63.17</td>\n",
       "      <td>64.69</td>\n",
       "      <td>63.75</td>\n",
       "      <td>2021-01-04</td>\n",
       "    </tr>\n",
       "    <tr>\n",
       "      <th>ORCL210319C00080000</th>\n",
       "      <td>NaN</td>\n",
       "      <td>NaN</td>\n",
       "      <td>NaN</td>\n",
       "      <td>NaN</td>\n",
       "      <td>NaN</td>\n",
       "      <td>NaN</td>\n",
       "      <td>NaN</td>\n",
       "      <td>NaN</td>\n",
       "      <td>NaN</td>\n",
       "      <td>NaN</td>\n",
       "      <td>...</td>\n",
       "      <td>0.19</td>\n",
       "      <td>0.15</td>\n",
       "      <td>0.19</td>\n",
       "      <td>0.16</td>\n",
       "      <td>ORCL</td>\n",
       "      <td>64.70</td>\n",
       "      <td>63.17</td>\n",
       "      <td>64.69</td>\n",
       "      <td>63.75</td>\n",
       "      <td>2021-01-04</td>\n",
       "    </tr>\n",
       "    <tr>\n",
       "      <th>2021-01-05</th>\n",
       "      <th>ORCL210212C00064000</th>\n",
       "      <td>NaN</td>\n",
       "      <td>NaN</td>\n",
       "      <td>NaN</td>\n",
       "      <td>NaN</td>\n",
       "      <td>NaN</td>\n",
       "      <td>NaN</td>\n",
       "      <td>NaN</td>\n",
       "      <td>NaN</td>\n",
       "      <td>NaN</td>\n",
       "      <td>NaN</td>\n",
       "      <td>...</td>\n",
       "      <td>1.27</td>\n",
       "      <td>1.25</td>\n",
       "      <td>1.26</td>\n",
       "      <td>1.26</td>\n",
       "      <td>ORCL</td>\n",
       "      <td>63.79</td>\n",
       "      <td>62.48</td>\n",
       "      <td>63.68</td>\n",
       "      <td>62.72</td>\n",
       "      <td>2021-01-05</td>\n",
       "    </tr>\n",
       "    <tr>\n",
       "      <th>...</th>\n",
       "      <th>...</th>\n",
       "      <td>...</td>\n",
       "      <td>...</td>\n",
       "      <td>...</td>\n",
       "      <td>...</td>\n",
       "      <td>...</td>\n",
       "      <td>...</td>\n",
       "      <td>...</td>\n",
       "      <td>...</td>\n",
       "      <td>...</td>\n",
       "      <td>...</td>\n",
       "      <td>...</td>\n",
       "      <td>...</td>\n",
       "      <td>...</td>\n",
       "      <td>...</td>\n",
       "      <td>...</td>\n",
       "      <td>...</td>\n",
       "      <td>...</td>\n",
       "      <td>...</td>\n",
       "      <td>...</td>\n",
       "      <td>...</td>\n",
       "      <td>...</td>\n",
       "    </tr>\n",
       "    <tr>\n",
       "      <th rowspan=\"5\" valign=\"top\">2021-05-21</th>\n",
       "      <th>ORCL210521C00075000</th>\n",
       "      <td>NaN</td>\n",
       "      <td>NaN</td>\n",
       "      <td>NaN</td>\n",
       "      <td>NaN</td>\n",
       "      <td>NaN</td>\n",
       "      <td>NaN</td>\n",
       "      <td>NaN</td>\n",
       "      <td>NaN</td>\n",
       "      <td>NaN</td>\n",
       "      <td>NaN</td>\n",
       "      <td>...</td>\n",
       "      <td>4.75</td>\n",
       "      <td>4.10</td>\n",
       "      <td>4.29</td>\n",
       "      <td>4.10</td>\n",
       "      <td>ORCL</td>\n",
       "      <td>79.85</td>\n",
       "      <td>78.98</td>\n",
       "      <td>79.19</td>\n",
       "      <td>79.03</td>\n",
       "      <td>2021-05-21</td>\n",
       "    </tr>\n",
       "    <tr>\n",
       "      <th>ORCL210521C00077500</th>\n",
       "      <td>NaN</td>\n",
       "      <td>NaN</td>\n",
       "      <td>NaN</td>\n",
       "      <td>NaN</td>\n",
       "      <td>NaN</td>\n",
       "      <td>NaN</td>\n",
       "      <td>NaN</td>\n",
       "      <td>NaN</td>\n",
       "      <td>NaN</td>\n",
       "      <td>NaN</td>\n",
       "      <td>...</td>\n",
       "      <td>2.35</td>\n",
       "      <td>1.58</td>\n",
       "      <td>2.00</td>\n",
       "      <td>1.58</td>\n",
       "      <td>ORCL</td>\n",
       "      <td>79.85</td>\n",
       "      <td>78.98</td>\n",
       "      <td>79.19</td>\n",
       "      <td>79.03</td>\n",
       "      <td>2021-05-21</td>\n",
       "    </tr>\n",
       "    <tr>\n",
       "      <th>ORCL210521C00080000</th>\n",
       "      <td>NaN</td>\n",
       "      <td>NaN</td>\n",
       "      <td>NaN</td>\n",
       "      <td>NaN</td>\n",
       "      <td>NaN</td>\n",
       "      <td>NaN</td>\n",
       "      <td>NaN</td>\n",
       "      <td>NaN</td>\n",
       "      <td>NaN</td>\n",
       "      <td>NaN</td>\n",
       "      <td>...</td>\n",
       "      <td>0.22</td>\n",
       "      <td>0.01</td>\n",
       "      <td>0.09</td>\n",
       "      <td>0.02</td>\n",
       "      <td>ORCL</td>\n",
       "      <td>79.85</td>\n",
       "      <td>78.98</td>\n",
       "      <td>79.19</td>\n",
       "      <td>79.03</td>\n",
       "      <td>2021-05-21</td>\n",
       "    </tr>\n",
       "    <tr>\n",
       "      <th>ORCL210521C00082500</th>\n",
       "      <td>NaN</td>\n",
       "      <td>NaN</td>\n",
       "      <td>NaN</td>\n",
       "      <td>NaN</td>\n",
       "      <td>NaN</td>\n",
       "      <td>NaN</td>\n",
       "      <td>NaN</td>\n",
       "      <td>NaN</td>\n",
       "      <td>NaN</td>\n",
       "      <td>NaN</td>\n",
       "      <td>...</td>\n",
       "      <td>0.03</td>\n",
       "      <td>0.01</td>\n",
       "      <td>0.01</td>\n",
       "      <td>0.01</td>\n",
       "      <td>ORCL</td>\n",
       "      <td>79.85</td>\n",
       "      <td>78.98</td>\n",
       "      <td>79.19</td>\n",
       "      <td>79.03</td>\n",
       "      <td>2021-05-21</td>\n",
       "    </tr>\n",
       "    <tr>\n",
       "      <th>ORCL210521C00085000</th>\n",
       "      <td>NaN</td>\n",
       "      <td>NaN</td>\n",
       "      <td>NaN</td>\n",
       "      <td>NaN</td>\n",
       "      <td>NaN</td>\n",
       "      <td>NaN</td>\n",
       "      <td>NaN</td>\n",
       "      <td>NaN</td>\n",
       "      <td>NaN</td>\n",
       "      <td>NaN</td>\n",
       "      <td>...</td>\n",
       "      <td>0.01</td>\n",
       "      <td>0.01</td>\n",
       "      <td>0.01</td>\n",
       "      <td>0.01</td>\n",
       "      <td>ORCL</td>\n",
       "      <td>79.85</td>\n",
       "      <td>78.98</td>\n",
       "      <td>79.19</td>\n",
       "      <td>79.03</td>\n",
       "      <td>2021-05-21</td>\n",
       "    </tr>\n",
       "  </tbody>\n",
       "</table>\n",
       "<p>1133 rows × 26 columns</p>\n",
       "</div>"
      ],
      "text/plain": [
       "                                 contract_symbol  y_pred purch_date  \\\n",
       "oc_hx_date oc_hx_contract_symbol                                      \n",
       "2021-01-04 ORCL210212C00064000               NaN     NaN        NaN   \n",
       "           ORCL210219C00065000               NaN     NaN        NaN   \n",
       "           ORCL210319C00070000               NaN     NaN        NaN   \n",
       "           ORCL210319C00080000               NaN     NaN        NaN   \n",
       "2021-01-05 ORCL210212C00064000               NaN     NaN        NaN   \n",
       "...                                          ...     ...        ...   \n",
       "2021-05-21 ORCL210521C00075000               NaN     NaN        NaN   \n",
       "           ORCL210521C00077500               NaN     NaN        NaN   \n",
       "           ORCL210521C00080000               NaN     NaN        NaN   \n",
       "           ORCL210521C00082500               NaN     NaN        NaN   \n",
       "           ORCL210521C00085000               NaN     NaN        NaN   \n",
       "\n",
       "                                 purch_datetime  trade_price  \\\n",
       "oc_hx_date oc_hx_contract_symbol                               \n",
       "2021-01-04 ORCL210212C00064000              NaN          NaN   \n",
       "           ORCL210219C00065000              NaN          NaN   \n",
       "           ORCL210319C00070000              NaN          NaN   \n",
       "           ORCL210319C00080000              NaN          NaN   \n",
       "2021-01-05 ORCL210212C00064000              NaN          NaN   \n",
       "...                                         ...          ...   \n",
       "2021-05-21 ORCL210521C00075000              NaN          NaN   \n",
       "           ORCL210521C00077500              NaN          NaN   \n",
       "           ORCL210521C00080000              NaN          NaN   \n",
       "           ORCL210521C00082500              NaN          NaN   \n",
       "           ORCL210521C00085000              NaN          NaN   \n",
       "\n",
       "                                  open_day_after_purch  lo_day_after_purch  \\\n",
       "oc_hx_date oc_hx_contract_symbol                                             \n",
       "2021-01-04 ORCL210212C00064000                     NaN                 NaN   \n",
       "           ORCL210219C00065000                     NaN                 NaN   \n",
       "           ORCL210319C00070000                     NaN                 NaN   \n",
       "           ORCL210319C00080000                     NaN                 NaN   \n",
       "2021-01-05 ORCL210212C00064000                     NaN                 NaN   \n",
       "...                                                ...                 ...   \n",
       "2021-05-21 ORCL210521C00075000                     NaN                 NaN   \n",
       "           ORCL210521C00077500                     NaN                 NaN   \n",
       "           ORCL210521C00080000                     NaN                 NaN   \n",
       "           ORCL210521C00082500                     NaN                 NaN   \n",
       "           ORCL210521C00085000                     NaN                 NaN   \n",
       "\n",
       "                                  win  loss  close_day_of_exp  ...  oc_hx_hi  \\\n",
       "oc_hx_date oc_hx_contract_symbol                               ...             \n",
       "2021-01-04 ORCL210212C00064000    NaN   NaN               NaN  ...      1.75   \n",
       "           ORCL210219C00065000    NaN   NaN               NaN  ...      1.88   \n",
       "           ORCL210319C00070000    NaN   NaN               NaN  ...      1.01   \n",
       "           ORCL210319C00080000    NaN   NaN               NaN  ...      0.19   \n",
       "2021-01-05 ORCL210212C00064000    NaN   NaN               NaN  ...      1.27   \n",
       "...                               ...   ...               ...  ...       ...   \n",
       "2021-05-21 ORCL210521C00075000    NaN   NaN               NaN  ...      4.75   \n",
       "           ORCL210521C00077500    NaN   NaN               NaN  ...      2.35   \n",
       "           ORCL210521C00080000    NaN   NaN               NaN  ...      0.22   \n",
       "           ORCL210521C00082500    NaN   NaN               NaN  ...      0.03   \n",
       "           ORCL210521C00085000    NaN   NaN               NaN  ...      0.01   \n",
       "\n",
       "                                  oc_hx_lo  oc_hx_open  oc_hx_close  \\\n",
       "oc_hx_date oc_hx_contract_symbol                                      \n",
       "2021-01-04 ORCL210212C00064000        1.63        1.75         1.63   \n",
       "           ORCL210219C00065000        1.35        1.87         1.47   \n",
       "           ORCL210319C00070000        0.85        1.01         0.92   \n",
       "           ORCL210319C00080000        0.15        0.19         0.16   \n",
       "2021-01-05 ORCL210212C00064000        1.25        1.26         1.26   \n",
       "...                                    ...         ...          ...   \n",
       "2021-05-21 ORCL210521C00075000        4.10        4.29         4.10   \n",
       "           ORCL210521C00077500        1.58        2.00         1.58   \n",
       "           ORCL210521C00080000        0.01        0.09         0.02   \n",
       "           ORCL210521C00082500        0.01        0.01         0.01   \n",
       "           ORCL210521C00085000        0.01        0.01         0.01   \n",
       "\n",
       "                                  s_hx_symbol s_hx_hi  s_hx_lo  s_hx_open  \\\n",
       "oc_hx_date oc_hx_contract_symbol                                            \n",
       "2021-01-04 ORCL210212C00064000           ORCL   64.70    63.17      64.69   \n",
       "           ORCL210219C00065000           ORCL   64.70    63.17      64.69   \n",
       "           ORCL210319C00070000           ORCL   64.70    63.17      64.69   \n",
       "           ORCL210319C00080000           ORCL   64.70    63.17      64.69   \n",
       "2021-01-05 ORCL210212C00064000           ORCL   63.79    62.48      63.68   \n",
       "...                                       ...     ...      ...        ...   \n",
       "2021-05-21 ORCL210521C00075000           ORCL   79.85    78.98      79.19   \n",
       "           ORCL210521C00077500           ORCL   79.85    78.98      79.19   \n",
       "           ORCL210521C00080000           ORCL   79.85    78.98      79.19   \n",
       "           ORCL210521C00082500           ORCL   79.85    78.98      79.19   \n",
       "           ORCL210521C00085000           ORCL   79.85    78.98      79.19   \n",
       "\n",
       "                                  s_hx_close  s_hx_date  \n",
       "oc_hx_date oc_hx_contract_symbol                         \n",
       "2021-01-04 ORCL210212C00064000         63.75 2021-01-04  \n",
       "           ORCL210219C00065000         63.75 2021-01-04  \n",
       "           ORCL210319C00070000         63.75 2021-01-04  \n",
       "           ORCL210319C00080000         63.75 2021-01-04  \n",
       "2021-01-05 ORCL210212C00064000         62.72 2021-01-05  \n",
       "...                                      ...        ...  \n",
       "2021-05-21 ORCL210521C00075000         79.03 2021-05-21  \n",
       "           ORCL210521C00077500         79.03 2021-05-21  \n",
       "           ORCL210521C00080000         79.03 2021-05-21  \n",
       "           ORCL210521C00082500         79.03 2021-05-21  \n",
       "           ORCL210521C00085000         79.03 2021-05-21  \n",
       "\n",
       "[1133 rows x 26 columns]"
      ]
     },
     "execution_count": 633,
     "metadata": {},
     "output_type": "execute_result"
    }
   ],
   "source": [
    "df[df['s_hx_symbol'] == 'ORCL']"
   ]
  },
  {
   "cell_type": "code",
   "execution_count": 1199,
   "metadata": {},
   "outputs": [
    {
     "data": {
      "text/plain": [
       "Start                            2021-01-04 00:00:00\n",
       "End                              2021-06-11 00:00:00\n",
       "Duration                           111 days 00:00:00\n",
       "Init. Cash                                    136335\n",
       "Total Profit                                -2310.79\n",
       "Total Return [%]                            -1.69493\n",
       "Benchmark Return [%]                         10.5696\n",
       "Position Coverage [%]                        21.1635\n",
       "Max. Drawdown [%]                            3.54824\n",
       "Avg. Drawdown [%]                            1.99136\n",
       "Max. Drawdown Duration              59 days 13:55:12\n",
       "Avg. Drawdown Duration       32 days 23:18:07.200000\n",
       "Num. Trades                                  5.46602\n",
       "Win Rate [%]                                 10.8107\n",
       "Best Trade [%]                               47.8419\n",
       "Worst Trade [%]                              -35.493\n",
       "Avg. Trade [%]                              -14.7573\n",
       "Max. Trade Duration                 29 days 10:48:00\n",
       "Avg. Trade Duration       24 days 16:37:33.445532398\n",
       "Expectancy                                  -159.146\n",
       "SQN                                         -13.7106\n",
       "Gross Exposure                              0.004565\n",
       "Sharpe Ratio                                     inf\n",
       "Sortino Ratio                                    inf\n",
       "Calmar Ratio                                -1.13031\n",
       "Name: <lambda>, dtype: object"
      ]
     },
     "execution_count": 1199,
     "metadata": {},
     "output_type": "execute_result"
    }
   ],
   "source": [
    "# portfolio.plot(column='BTC-USD')\n",
    "# portfolio.plot(index='BTC-USD')\n",
    "portfolio.stats(group_by='symbol')"
   ]
  }
 ],
 "metadata": {
  "kernelspec": {
   "display_name": "fin",
   "language": "python",
   "name": "fin"
  },
  "language_info": {
   "codemirror_mode": {
    "name": "ipython",
    "version": 3
   },
   "file_extension": ".py",
   "mimetype": "text/x-python",
   "name": "python",
   "nbconvert_exporter": "python",
   "pygments_lexer": "ipython3",
   "version": "3.8.3"
  },
  "widgets": {
   "application/vnd.jupyter.widget-state+json": {
    "state": {},
    "version_major": 2,
    "version_minor": 0
   }
  }
 },
 "nbformat": 4,
 "nbformat_minor": 4
}
