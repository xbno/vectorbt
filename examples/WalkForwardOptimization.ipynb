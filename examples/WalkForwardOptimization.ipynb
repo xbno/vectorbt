{
 "cells": [
  {
   "cell_type": "code",
   "execution_count": 1,
   "metadata": {},
   "outputs": [],
   "source": [
    "import numpy as np\n",
    "import pandas as pd\n",
    "import vectorbt as vbt"
   ]
  },
  {
   "cell_type": "code",
   "execution_count": 2,
   "metadata": {},
   "outputs": [],
   "source": [
    "split_kwargs = dict(\n",
    "    n=30, \n",
    "    window_len=365 * 2, \n",
    "    set_lens=(180,), \n",
    "    left_to_right=False\n",
    ")  # 30 windows, each 2 years long, reserve 180 days for test\n",
    "portfolio_kwargs = dict(\n",
    "    direction='all',  # long and short\n",
    "    freq='d'\n",
    ")\n",
    "windows = np.arange(10, 50)"
   ]
  },
  {
   "cell_type": "code",
   "execution_count": 3,
   "metadata": {},
   "outputs": [],
   "source": [
    "price = vbt.YFData.download('BTC-USD').get('Close')"
   ]
  },
  {
   "cell_type": "code",
   "execution_count": 4,
   "metadata": {},
   "outputs": [
    {
     "name": "stdout",
     "output_type": "stream",
     "text": [
      "Date\n",
      "2014-09-17 00:00:00+00:00      457.334015\n",
      "2014-09-18 00:00:00+00:00      424.440002\n",
      "2014-09-19 00:00:00+00:00      394.795990\n",
      "2014-09-20 00:00:00+00:00      408.903992\n",
      "2014-09-21 00:00:00+00:00      398.821014\n",
      "                                 ...     \n",
      "2021-05-30 00:00:00+00:00    35678.128906\n",
      "2021-05-31 00:00:00+00:00    37332.855469\n",
      "2021-06-01 00:00:00+00:00    36684.925781\n",
      "2021-06-02 00:00:00+00:00    37575.179688\n",
      "2021-06-03 00:00:00+00:00    38940.500000\n",
      "Name: Close, Length: 2448, dtype: float64\n"
     ]
    }
   ],
   "source": [
    "print(price)"
   ]
  },
  {
   "cell_type": "code",
   "execution_count": 5,
   "metadata": {},
   "outputs": [
    {
     "data": {
      "image/svg+xml": [
       "<svg class=\"main-svg\" xmlns=\"http://www.w3.org/2000/svg\" xmlns:xlink=\"http://www.w3.org/1999/xlink\" width=\"700\" height=\"350\" style=\"\" viewBox=\"0 0 700 350\"><rect x=\"0\" y=\"0\" width=\"700\" height=\"350\" style=\"fill: rgb(255, 255, 255); fill-opacity: 1;\"/><defs id=\"defs-a4ebaa\"><g class=\"clips\"><clipPath id=\"clipa4ebaaxyplot\" class=\"plotclip\"><rect width=\"635\" height=\"274\"/></clipPath><clipPath class=\"axesclip\" id=\"clipa4ebaax\"><rect x=\"35\" y=\"0\" width=\"635\" height=\"350\"/></clipPath><clipPath class=\"axesclip\" id=\"clipa4ebaay\"><rect x=\"0\" y=\"46\" width=\"700\" height=\"274\"/></clipPath><clipPath class=\"axesclip\" id=\"clipa4ebaaxy\"><rect x=\"35\" y=\"46\" width=\"635\" height=\"274\"/></clipPath></g><g class=\"gradients\"/></defs><g class=\"bglayer\"><rect class=\"bg\" x=\"35\" y=\"46\" width=\"635\" height=\"274\" style=\"fill: rgb(229, 236, 246); fill-opacity: 1; stroke-width: 0;\"/></g><g class=\"layer-below\"><g class=\"imagelayer\"/><g class=\"shapelayer\"/></g><g class=\"cartesianlayer\"><g class=\"subplot xy\"><g class=\"layer-subplot\"><g class=\"shapelayer\"/><g class=\"imagelayer\"/></g><g class=\"gridlayer\"><g class=\"x\"><path class=\"xgrid crisp\" transform=\"translate(62.46,0)\" d=\"M0,46v274\" style=\"stroke: rgb(255, 255, 255); stroke-opacity: 1; stroke-width: 1px;\"/><path class=\"xgrid crisp\" transform=\"translate(157.03,0)\" d=\"M0,46v274\" style=\"stroke: rgb(255, 255, 255); stroke-opacity: 1; stroke-width: 1px;\"/><path class=\"xgrid crisp\" transform=\"translate(251.85,0)\" d=\"M0,46v274\" style=\"stroke: rgb(255, 255, 255); stroke-opacity: 1; stroke-width: 1px;\"/><path class=\"xgrid crisp\" transform=\"translate(346.41,0)\" d=\"M0,46v274\" style=\"stroke: rgb(255, 255, 255); stroke-opacity: 1; stroke-width: 1px;\"/><path class=\"xgrid crisp\" transform=\"translate(440.98,0)\" d=\"M0,46v274\" style=\"stroke: rgb(255, 255, 255); stroke-opacity: 1; stroke-width: 1px;\"/><path class=\"xgrid crisp\" transform=\"translate(535.54,0)\" d=\"M0,46v274\" style=\"stroke: rgb(255, 255, 255); stroke-opacity: 1; stroke-width: 1px;\"/><path class=\"xgrid crisp\" transform=\"translate(630.36,0)\" d=\"M0,46v274\" style=\"stroke: rgb(255, 255, 255); stroke-opacity: 1; stroke-width: 1px;\"/></g><g class=\"y\"><path class=\"ygrid crisp\" transform=\"translate(0,268.05)\" d=\"M35,0h635\" style=\"stroke: rgb(255, 255, 255); stroke-opacity: 1; stroke-width: 1px;\"/><path class=\"ygrid crisp\" transform=\"translate(0,229.11)\" d=\"M35,0h635\" style=\"stroke: rgb(255, 255, 255); stroke-opacity: 1; stroke-width: 1px;\"/><path class=\"ygrid crisp\" transform=\"translate(0,190.17)\" d=\"M35,0h635\" style=\"stroke: rgb(255, 255, 255); stroke-opacity: 1; stroke-width: 1px;\"/><path class=\"ygrid crisp\" transform=\"translate(0,151.23000000000002)\" d=\"M35,0h635\" style=\"stroke: rgb(255, 255, 255); stroke-opacity: 1; stroke-width: 1px;\"/><path class=\"ygrid crisp\" transform=\"translate(0,112.28)\" d=\"M35,0h635\" style=\"stroke: rgb(255, 255, 255); stroke-opacity: 1; stroke-width: 1px;\"/><path class=\"ygrid crisp\" transform=\"translate(0,73.34)\" d=\"M35,0h635\" style=\"stroke: rgb(255, 255, 255); stroke-opacity: 1; stroke-width: 1px;\"/></g></g><g class=\"zerolinelayer\"><path class=\"yzl zl crisp\" transform=\"translate(0,306.99)\" d=\"M35,0h635\" style=\"stroke: rgb(255, 255, 255); stroke-opacity: 1; stroke-width: 2px;\"/></g><path class=\"xlines-below\"/><path class=\"ylines-below\"/><g class=\"overlines-below\"/><g class=\"xaxislayer-below\"/><g class=\"yaxislayer-below\"/><g class=\"overaxes-below\"/><g class=\"plot\" transform=\"translate(35,46)\" clip-path=\"url('#clipa4ebaaxyplot')\"><g class=\"scatterlayer mlayer\"><g class=\"trace scatter tracec543677a-41db-48e7-a883-79ce9716f41a\" style=\"stroke-miterlimit: 2; opacity: 1;\"><g class=\"fills\"/><g class=\"errorbars\"/><g class=\"lines\"><path class=\"js-line\" d=\"M0,259.21L1.81,259.35L2.07,259.39L8.81,259.49L9.07,259.5L11.66,259.73L11.92,259.72L30.31,259.95L30.57,260.11L31.87,260.17L32.13,260.16L44.56,259.93L44.82,259.87L57,260.11L57.26,260.14L62.44,260.07L62.7,260.07L71.76,260.04L72.02,260.03L91.97,260.06L92.23,260.04L98.97,260.07L99.23,260.06L111.92,259.74L112.18,259.75L121.77,259.32L122.03,259.3L139.64,259.38L139.9,259.37L152.08,259.18L152.34,259.26L164.26,258.37L164.51,258.25L167.88,258.54L168.14,258.44L174.1,258.4L174.36,258.4L178.76,258.69L179.02,258.69L195.09,258.59L195.34,258.58L197.94,258.54L198.19,258.53L201.3,258.11L201.56,258.31L206.49,258.07L206.74,258.09L213.48,257.91L213.74,257.87L216.33,257.25L216.59,257.24L217.63,256.5L217.88,257.05L218.14,257.48L231.87,256.4L232.13,256.23L233.69,256.23L233.95,256.52L235.76,256.13L236.02,256.37L237.06,256.89L237.32,256.63L238.61,257.23L238.87,256.92L244.83,256.28L245.09,256.21L247.68,255.74L247.94,255.46L251.31,253.95L251.56,254.22L252.34,253.64L252.6,253.25L253.9,251.48L254.16,252.02L254.41,252.42L254.67,253.05L254.93,252.6L255.19,252.21L255.45,252.52L255.71,252.09L255.97,251.62L258.3,249.51L258.56,249.47L259.6,251.4L259.86,251.19L260.89,250.39L261.15,250.52L262.19,250.91L262.45,251.34L263.22,251.11L263.48,251.33L264.26,251.01L264.52,250.86L265.81,251.19L266.07,251.75L267.11,252.3L267.37,253.21L267.63,253.48L267.89,252.32L268.4,252.14L268.66,250.02L268.92,250.6L269.44,250.36L269.7,250.27L270.22,251.14L270.48,250.59L270.74,250.05L271.25,250.26L271.51,249.8L272.03,250.44L272.29,250.07L272.55,249.72L273.59,247.68L273.85,247.98L274.1,247.83L274.36,246.78L275.66,243.95L275.92,244.13L276.95,245.41L277.21,245.03L279.55,242.68L279.8,241.94L280.58,244.5L280.84,243.95L281.1,243.09L281.36,243.08L281.62,244.53L282.65,244.91L282.91,245.87L283.17,248.71L283.69,246.88L283.95,247.04L284.21,245.16L284.73,245.78L284.99,246.85L285.76,246.65L286.02,245.7L286.28,245.84L286.54,244.64L287.06,244.78L287.32,244.1L287.84,243.82L288.09,244.18L288.35,244.52L290.17,242.2L290.43,239.78L290.94,238.28L291.46,238.7L291.72,239.16L292.24,238.76L292.5,237.58L293.28,237.9L293.54,239.47L294.83,237.03L295.09,237.12L296.64,232.15L296.9,233.65L297.42,231.94L297.68,233.18L298.46,237.82L298.72,235.45L298.98,235.15L300.27,229.7L300.53,229.06L301.31,229.69L301.57,228.85L303.64,217.87L303.9,216.9L304.42,214.59L304.68,205.34L304.93,191.29L305.45,201.89L305.71,200.81L306.23,193.17L306.49,197.1L306.75,196.49L307.27,185.07L307.78,186.56L308.04,191.77L308.82,207.13L309.34,206.76L309.6,206.37L309.86,198.3L310.38,204.11L310.63,203.92L310.89,210.56L311.41,207.81L311.67,202.65L312.19,200.25L312.45,193.12L312.71,192.74L312.97,196.83L314,208.79L314.26,206.55L314.52,205.07L314.78,207.36L315.04,207.18L315.56,217.42L315.82,216.31L316.08,215.79L316.33,210.76L316.59,215.82L316.85,218.42L317.11,218.67L317.37,216.76L317.89,217.49L318.15,216.44L318.41,215.1L318.67,217L318.92,221.64L319.18,221.19L319.44,225.28L320.22,228.76L320.48,233.91L321.52,226.97L321.77,227.42L322.03,229.33L323.59,217.72L323.85,219.9L324.37,216.59L324.62,219.36L324.88,222.03L325.14,220.88L325.4,222.78L325.66,223.36L326.7,218.35L326.96,217.82L327.73,215.93L327.99,219.01L329.03,226.47L329.29,223.69L330.84,230.16L331.1,228.97L331.88,226.22L332.14,227L332.4,226.41L334.73,234.34L334.99,233.41L335.25,231.96L335.51,234.3L335.76,234.47L336.02,235.15L336.28,234.08L336.54,233.64L336.8,234.63L337.32,233.86L337.58,230.27L338.1,229.89L338.36,228.56L338.87,230.22L339.13,229.2L339.39,228.69L340.69,223.23L340.95,226.55L341.98,224.31L342.24,225.01L342.5,225.48L342.76,225.03L343.02,223.05L343.8,223.4L344.06,224.49L344.83,225.77L345.09,228.12L345.87,227.05L346.13,227.85L346.65,229.47L347.16,228.88L347.42,227.84L347.94,229.68L348.2,231.56L348.72,231.86L348.98,232.35L349.24,232.3L349.5,233.2L350.53,231.63L350.79,231.23L351.31,231.73L351.57,231.27L351.83,231.19L352.61,231.66L352.86,234.57L353.12,234.1L353.38,235.36L353.64,236.27L353.9,235L354.16,235.85L354.42,235.49L354.68,235.68L354.94,234.77L355.71,234.79L355.97,237.3L356.75,236.66L357.01,237.26L357.27,237.02L357.53,238L358.56,235.24L358.82,235.57L360.38,234.74L360.64,236.34L360.9,236.09L361.15,236.74L361.41,236.7L361.93,236.23L362.19,234.74L362.97,231.92L363.23,232.36L364,230.97L364.26,228.19L364.78,230.03L365.04,229.2L365.3,229.09L365.82,229.14L366.08,230.7L368.67,236.91L368.93,236.48L369.19,236.37L370.22,236.33L370.48,235.37L371.26,236.43L371.52,235.73L371.78,236.16L372.04,235.55L372.29,234.82L373.07,234.18L373.33,233.36L374.11,233.59L374.37,232.98L375.14,232.33L375.4,234.54L376.18,236.75L376.44,236.46L376.7,236.34L377.22,236.26L377.48,235.61L378.25,235.61L378.51,236.53L380.07,234.86L380.33,235.31L380.59,235.89L380.84,235.7L381.1,234.99L382.92,235.38L383.18,235.2L384.47,235.35L384.73,236.63L385.51,236.5L385.77,235.31L389.14,235.73L389.39,236.33L391.47,235.83L391.73,235.56L393.02,236.18L393.28,236.23L394.32,239.36L394.58,239.09L395.61,243.99L395.87,244.07L396.65,246.28L396.91,246.12L397.17,244.41L397.43,244.33L397.68,245.35L397.94,244.58L398.2,244.87L398.46,245.83L398.72,245.58L398.98,246.37L399.24,247.28L399.5,247.68L399.76,247.46L400.02,246.92L401.57,248.39L401.83,248.33L402.87,244.89L403.13,245.82L403.38,245.36L403.9,245.11L404.16,246.14L404.42,245.97L404.68,246.76L404.94,245.71L405.46,245.94L405.72,246.42L406.75,245.97L407.01,246.02L407.27,245.12L407.79,245.3L408.05,245.28L409.08,247.16L409.34,246.56L410.38,246.75L410.64,246.47L411.67,247.03L411.93,246.97L415.56,247.76L415.82,246.71L418.15,246.69L418.41,245.75L419.71,244.86L419.97,246.16L421,245.98L421.26,245.96L424.89,245.57L425.15,245.23L427.74,245.47L428,245.08L429.29,244.8L429.55,241.99L431.62,240.26L431.88,241.27L434.73,239.97L434.99,239.29L436.03,240.48L436.29,240.41L436.81,240.16L437.06,239.95L439.4,236.15L439.66,232.94L439.91,233.84L440.17,230.56L440.69,229.04L440.95,230.29L441.21,232.4L441.47,232.68L441.73,229.07L442.51,231.09L442.76,230.3L443.02,229.89L443.28,229.64L443.54,227.22L443.8,226.7L444.32,227.27L444.58,228.6L445.35,226.95L445.61,229.03L445.87,230.98L446.39,230.53L446.65,229.67L447.17,231.05L447.43,229.84L447.69,230.12L447.95,229.27L448.2,228.94L448.46,227.14L450.02,223.89L450.28,221.49L451.57,210.31L451.83,217.45L452.09,212.68L452.35,214.42L452.61,218.87L452.87,219.78L453.13,218.93L453.39,214.41L453.9,218.24L454.16,217.35L454.42,216.4L454.94,212.03L455.2,213.65L455.46,216.76L455.72,214.98L455.98,216.63L456.24,221.05L456.5,218.57L456.75,224.09L457.01,223.24L457.27,219.46L457.79,219.06L458.31,220.72L458.57,222.44L460.12,223.92L460.38,223.58L461.94,215.02L462.2,216.3L462.71,214.39L462.97,214.8L463.23,216.78L463.49,216.12L463.75,216.67L464.01,218.56L464.27,221.85L464.79,220.59L465.04,221.15L465.3,220.71L465.56,218.48L466.34,221.54L466.6,220.46L467.12,221.51L467.38,220.61L467.64,221.33L468.15,223.96L468.67,223.49L468.93,222.99L469.45,219.62L469.97,219.81L470.23,220.68L470.49,220.04L471,220.75L471.26,221.6L472.56,220.7L472.82,220.97L474.37,221.78L474.63,223.11L475.41,229.38L475.67,228.86L475.93,228.88L476.19,229.43L476.44,228.7L476.7,228.5L476.96,228.31L477.22,228.83L477.48,229.04L478,229.89L478.26,228.88L478.52,228.95L478.78,227.52L479.04,227.56L479.29,228.59L480.33,229.04L480.59,229.66L481.88,228.89L482.14,229.54L482.66,231.81L482.92,227.27L483.44,223.8L483.96,224.28L484.22,225.14L485.25,225.03L485.51,224.34L486.29,224.9L486.55,226.71L486.81,226.67L487.07,225.73L488.1,227.08L488.36,227.92L488.88,227.59L489.14,228.64L489.66,229.73L489.92,231.23L490.69,233.55L490.95,233.17L491.21,232.88L491.99,230.77L492.25,231.52L492.51,232.08L493.28,232.75L493.54,231.99L494.32,231.54L494.58,232.17L495.88,233.25L496.13,233.14L496.65,235.13L496.91,232.66L497.69,232.99L497.95,231.74L498.98,232.8L499.24,232.6L500.02,232.59L500.28,232.98L500.54,232.95L500.8,233.79L502.09,229.2L502.35,229.53L502.61,230.31L503.39,229.09L503.65,229.28L504.68,226.22L504.94,226.17L506.24,228.26L506.5,228.11L506.76,228.41L507.02,227.52L508.05,223.96L508.31,224.58L509.09,224.8L509.35,225.24L510.64,221.6L510.9,222.61L511.94,220.84L512.2,222.48L512.46,222.31L512.72,223.26L512.97,221.5L513.23,223.48L513.49,223.58L514.27,222.35L514.53,223.41L515.82,227.51L516.08,227.65L517.12,225.64L517.38,225.47L518.67,230.19L518.93,241.64L519.19,239.33L519.71,239.99L519.97,241.47L520.49,240.59L520.75,236.88L521.26,236.91L521.52,238.29L522.04,234.77L522.56,234.84L522.82,235.8L523.34,237.93L523.6,235.95L524.11,235.27L524.37,234.54L525.15,234.55L525.41,232.68L525.67,233.05L526.19,232.56L526.45,234.26L527.48,234.35L527.74,235.13L528.52,232.73L528.78,233L529.04,234.19L529.3,234.2L529.56,233.28L530.85,230.64L531.11,230.59L532.15,225.99L532.41,226.35L532.92,225.93L533.18,224.9L533.44,222.24L533.96,223.63L534.22,226.89L534.48,227.5L534.74,226.71L535,224.89L535.25,223.09L535.77,224.48L536.03,223.33L536.55,223.11L536.81,223.91L537.85,226.76L538.1,226.31L538.36,226.59L538.62,225.24L539.4,223.22L539.66,224.15L539.92,221.4L540.44,223.39L540.7,222.83L541.21,223.4L541.47,222.99L541.73,222.94L542.25,222.56L542.51,224.69L543.03,224.1L543.29,224.44L543.55,224.19L543.8,223.85L544.32,224.34L544.58,224.82L545.1,224.76L545.36,223.42L545.62,223.49L545.88,224.72L546.65,225.77L546.91,225.39L547.17,225.2L548.73,225.66L548.99,224.48L550.02,224.86L550.28,225.01L551.32,225.2L551.58,225.43L552.87,224.49L553.13,223.9L553.91,223.31L554.17,222.42L555.2,217.72L555.46,216.9L555.72,215.2L555.98,217.95L556.24,217.2L556.5,217.36L556.76,215.25L558.05,214.74L558.31,216.56L559.87,213.27L560.13,214.3L560.9,215.85L561.16,215.5L561.42,215.57L561.68,215.14L561.94,216.73L563.24,215.39L563.49,215.51L563.75,214.38L564.01,216.55L564.27,221.1L564.53,220.06L564.79,221.39L565.05,220.96L565.31,220.61L565.57,221.54L566.09,220.64L566.34,220.49L566.6,220.33L566.86,220.79L567.12,219.4L568.42,217.79L568.68,218.4L569.45,221.17L569.71,219.15L570.75,219.24L571.01,218.75L572.04,219.85L572.3,219.39L572.56,218.92L572.82,219.63L573.08,219.41L573.34,218.46L574.12,216.66L574.89,216.49L576.19,215.27L576.45,214.59L577.48,209.95L577.74,210.25L578,210.08L578.26,207.82L578.52,209.31L579.04,208.24L579.3,207.33L579.82,208.23L580.08,206.67L580.33,205.95L580.59,200.32L580.85,200.38L581.11,203.23L582.41,197.61L582.67,197.45L583.18,198.86L583.44,195.9L584.48,188.48L584.74,188.4L585.26,189.48L585.52,186.59L585.78,188.05L586.03,194.21L586.29,194.37L586.55,192L587.07,184.57L587.33,187.77L587.59,186.22L587.85,185.27L588.11,188.17L588.63,185.66L588.88,186.26L589.14,189.65L589.4,188.74L589.66,189.87L589.92,190.67L591.99,168.04L592.25,169.57L592.51,172.19L594.32,155.52L594.58,154.44L597.17,102.12L597.43,104.24L597.69,111.63L598.21,128.89L598.47,115.68L598.73,108.39L599.51,121.62L599.77,118.35L600.28,122.56L600.54,140.95L600.8,132.46L601.32,135.25L601.58,134.95L601.84,134.16L602.1,142.48L602.62,127.36L602.87,127.54L603.13,132.04L603.39,130.39L603.65,122.71L604.69,108.08L604.95,109.5L605.98,74.43L606.24,76L606.5,77.56L606.76,71.28L607.02,74.29L607.28,69.4L607.54,57.92L607.8,59.74L608.06,43.36L608.31,42.53L608.57,36.92L609.87,80.54L610.13,81.13L610.39,85.22L610.65,67.72L610.91,72.6L611.16,64.19L611.42,71.89L611.68,70.46L611.94,70.52L612.2,61.59L613.24,35.89L613.5,37.73L613.76,22.5L614.27,43.28L614.53,39.79L614.79,31.74L616.86,59.65L617.12,46.28L618.94,29.74L619.2,36.67L619.71,31.01L619.97,34.38L620.23,42.73L621.27,26.54L621.53,27.76L621.79,13.7L622.31,14.44L622.56,21.22L622.82,24.68L623.08,42.08L623.34,43.99L623.6,41.08L623.86,51.07L624.9,70.16L625.16,50.62L625.41,46.68L625.67,47.5L625.93,52.44L626.45,35.8L626.71,40.46L626.97,38.25L627.23,53.3L627.49,37.37L627.75,41.38L628,37.64L628.26,32L628.52,34.23L628.78,43.47L629.04,40.18L629.3,69.59L629.82,66.75L630.08,78.9L630.34,80.09L630.6,91.45L630.85,93.9L631.11,116.9L631.37,102.18L631.89,114.82L632.15,125.59L632.93,107.98L633.19,111.31L633.7,126.19L633.96,122.06L634.22,115.61L634.48,118.14L634.74,114.67L635,109.35\" style=\"vector-effect: non-scaling-stroke; fill: none; stroke: rgb(31, 119, 180); stroke-opacity: 1; stroke-width: 2px; opacity: 1;\"/></g><g class=\"points\"/><g class=\"text\"/></g></g></g><g class=\"overplot\"/><path class=\"xlines-above crisp\" d=\"M0,0\" style=\"fill: none;\"/><path class=\"ylines-above crisp\" d=\"M0,0\" style=\"fill: none;\"/><g class=\"overlines-above\"/><g class=\"xaxislayer-above\"><g class=\"xtick\"><text text-anchor=\"middle\" x=\"0\" y=\"333\" transform=\"translate(62.46,0)\" style=\"font-family: 'Open Sans', verdana, arial, sans-serif; font-size: 12px; fill: rgb(42, 63, 95); fill-opacity: 1; white-space: pre;\">2015</text></g><g class=\"xtick\"><text text-anchor=\"middle\" x=\"0\" y=\"333\" transform=\"translate(157.03,0)\" style=\"font-family: 'Open Sans', verdana, arial, sans-serif; font-size: 12px; fill: rgb(42, 63, 95); fill-opacity: 1; white-space: pre;\">2016</text></g><g class=\"xtick\"><text text-anchor=\"middle\" x=\"0\" y=\"333\" transform=\"translate(251.85,0)\" style=\"font-family: 'Open Sans', verdana, arial, sans-serif; font-size: 12px; fill: rgb(42, 63, 95); fill-opacity: 1; white-space: pre;\">2017</text></g><g class=\"xtick\"><text text-anchor=\"middle\" x=\"0\" y=\"333\" transform=\"translate(346.41,0)\" style=\"font-family: 'Open Sans', verdana, arial, sans-serif; font-size: 12px; fill: rgb(42, 63, 95); fill-opacity: 1; white-space: pre;\">2018</text></g><g class=\"xtick\"><text text-anchor=\"middle\" x=\"0\" y=\"333\" transform=\"translate(440.98,0)\" style=\"font-family: 'Open Sans', verdana, arial, sans-serif; font-size: 12px; fill: rgb(42, 63, 95); fill-opacity: 1; white-space: pre;\">2019</text></g><g class=\"xtick\"><text text-anchor=\"middle\" x=\"0\" y=\"333\" transform=\"translate(535.54,0)\" style=\"font-family: 'Open Sans', verdana, arial, sans-serif; font-size: 12px; fill: rgb(42, 63, 95); fill-opacity: 1; white-space: pre;\">2020</text></g><g class=\"xtick\"><text text-anchor=\"middle\" x=\"0\" y=\"333\" transform=\"translate(630.36,0)\" style=\"font-family: 'Open Sans', verdana, arial, sans-serif; font-size: 12px; fill: rgb(42, 63, 95); fill-opacity: 1; white-space: pre;\">2021</text></g></g><g class=\"yaxislayer-above\"><g class=\"ytick\"><text text-anchor=\"end\" x=\"34\" y=\"4.199999999999999\" transform=\"translate(0,306.99)\" style=\"font-family: 'Open Sans', verdana, arial, sans-serif; font-size: 12px; fill: rgb(42, 63, 95); fill-opacity: 1; white-space: pre;\">0</text></g><g class=\"ytick\"><text text-anchor=\"end\" x=\"34\" y=\"4.199999999999999\" transform=\"translate(0,268.05)\" style=\"font-family: 'Open Sans', verdana, arial, sans-serif; font-size: 12px; fill: rgb(42, 63, 95); fill-opacity: 1; white-space: pre;\">10k</text></g><g class=\"ytick\"><text text-anchor=\"end\" x=\"34\" y=\"4.199999999999999\" transform=\"translate(0,229.11)\" style=\"font-family: 'Open Sans', verdana, arial, sans-serif; font-size: 12px; fill: rgb(42, 63, 95); fill-opacity: 1; white-space: pre;\">20k</text></g><g class=\"ytick\"><text text-anchor=\"end\" x=\"34\" y=\"4.199999999999999\" transform=\"translate(0,190.17)\" style=\"font-family: 'Open Sans', verdana, arial, sans-serif; font-size: 12px; fill: rgb(42, 63, 95); fill-opacity: 1; white-space: pre;\">30k</text></g><g class=\"ytick\"><text text-anchor=\"end\" x=\"34\" y=\"4.199999999999999\" transform=\"translate(0,151.23000000000002)\" style=\"font-family: 'Open Sans', verdana, arial, sans-serif; font-size: 12px; fill: rgb(42, 63, 95); fill-opacity: 1; white-space: pre;\">40k</text></g><g class=\"ytick\"><text text-anchor=\"end\" x=\"34\" y=\"4.199999999999999\" transform=\"translate(0,112.28)\" style=\"font-family: 'Open Sans', verdana, arial, sans-serif; font-size: 12px; fill: rgb(42, 63, 95); fill-opacity: 1; white-space: pre;\">50k</text></g><g class=\"ytick\"><text text-anchor=\"end\" x=\"34\" y=\"4.199999999999999\" transform=\"translate(0,73.34)\" style=\"font-family: 'Open Sans', verdana, arial, sans-serif; font-size: 12px; fill: rgb(42, 63, 95); fill-opacity: 1; white-space: pre;\">60k</text></g></g><g class=\"overaxes-above\"/></g></g><g class=\"polarlayer\"/><g class=\"ternarylayer\"/><g class=\"geolayer\"/><g class=\"funnelarealayer\"/><g class=\"pielayer\"/><g class=\"treemaplayer\"/><g class=\"sunburstlayer\"/><g class=\"glimages\"/><defs id=\"topdefs-a4ebaa\"><g class=\"clips\"/><clipPath id=\"legenda4ebaa\"><rect width=\"78\" height=\"29\" x=\"0\" y=\"0\"/></clipPath></defs><g class=\"layer-above\"><g class=\"imagelayer\"/><g class=\"shapelayer\"/></g><g class=\"infolayer\"><g class=\"legend\" pointer-events=\"all\" transform=\"translate(592,11.519999999999996)\"><rect class=\"bg\" shape-rendering=\"crispEdges\" style=\"stroke: rgb(68, 68, 68); stroke-opacity: 1; fill: rgb(255, 255, 255); fill-opacity: 1; stroke-width: 0px;\" width=\"78\" height=\"29\" x=\"0\" y=\"0\"/><g class=\"scrollbox\" transform=\"\" clip-path=\"url('#legenda4ebaa')\"><g class=\"groups\"><g class=\"traces\" transform=\"translate(0,14.5)\" style=\"opacity: 1;\"><text class=\"legendtext\" text-anchor=\"start\" x=\"40\" y=\"4.680000000000001\" style=\"font-family: 'Open Sans', verdana, arial, sans-serif; font-size: 12px; fill: rgb(42, 63, 95); fill-opacity: 1; white-space: pre;\">Close</text><g class=\"layers\" style=\"opacity: 1;\"><g class=\"legendfill\"/><g class=\"legendlines\"><path class=\"js-line\" d=\"M5,0h30\" style=\"fill: none; stroke: rgb(31, 119, 180); stroke-opacity: 1; stroke-width: 2px;\"/></g><g class=\"legendsymbols\"><g class=\"legendpoints\"/></g></g><rect class=\"legendtoggle\" x=\"0\" y=\"-9.5\" width=\"74.859375\" height=\"19\" style=\"fill: rgb(0, 0, 0); fill-opacity: 0;\"/></g></g></g><rect class=\"scrollbar\" rx=\"20\" ry=\"3\" width=\"0\" height=\"0\" style=\"fill: rgb(128, 139, 164); fill-opacity: 1;\" x=\"0\" y=\"0\"/></g><g class=\"g-gtitle\"/><g class=\"g-xtitle\"/><g class=\"g-ytitle\"/></g></svg>"
      ]
     },
     "metadata": {},
     "output_type": "display_data"
    }
   ],
   "source": [
    "price.vbt.plot().show_svg()"
   ]
  },
  {
   "cell_type": "code",
   "execution_count": 6,
   "metadata": {},
   "outputs": [],
   "source": [
    "def roll_in_and_out_samples(price, **kwargs):\n",
    "    return price.vbt.rolling_split(**kwargs)"
   ]
  },
  {
   "cell_type": "code",
   "execution_count": 7,
   "metadata": {},
   "outputs": [
    {
     "data": {
      "image/svg+xml": [
       "<svg class=\"main-svg\" xmlns=\"http://www.w3.org/2000/svg\" xmlns:xlink=\"http://www.w3.org/1999/xlink\" width=\"700\" height=\"216\" style=\"\" viewBox=\"0 0 700 216\"><rect x=\"0\" y=\"0\" width=\"700\" height=\"216\" style=\"fill: rgb(255, 255, 255); fill-opacity: 1;\"/><defs id=\"defs-46a54d\"><g class=\"clips\"><clipPath id=\"clip46a54dxyplot\" class=\"plotclip\"><rect width=\"640\" height=\"142\"/></clipPath><clipPath class=\"axesclip\" id=\"clip46a54dx\"><rect x=\"30\" y=\"0\" width=\"640\" height=\"216\"/></clipPath><clipPath class=\"axesclip\" id=\"clip46a54dy\"><rect x=\"0\" y=\"44\" width=\"700\" height=\"142\"/></clipPath><clipPath class=\"axesclip\" id=\"clip46a54dxy\"><rect x=\"30\" y=\"44\" width=\"640\" height=\"142\"/></clipPath></g><g class=\"gradients\"><linearGradient x1=\"1\" x2=\"0\" y1=\"0\" y2=\"0\" id=\"g46a54d-legendfill-8f9b2bd7-4858-4e68-a913-0d50be9265ed\"><stop offset=\"0%\" stop-color=\"rgb(31, 119, 180)\" stop-opacity=\"1\"/><stop offset=\"100%\" stop-color=\"rgb(31, 119, 180)\" stop-opacity=\"1\"/></linearGradient><linearGradient x1=\"1\" x2=\"0\" y1=\"0\" y2=\"0\" id=\"g46a54d-legendfill-f6d52cfc-729f-4d38-bc94-ecb649894e52\"><stop offset=\"0%\" stop-color=\"rgb(255, 127, 14)\" stop-opacity=\"1\"/><stop offset=\"100%\" stop-color=\"rgb(255, 127, 14)\" stop-opacity=\"1\"/></linearGradient></g></defs><g class=\"bglayer\"><rect class=\"bg\" x=\"30\" y=\"44\" width=\"640\" height=\"142\" style=\"fill: rgb(229, 236, 246); fill-opacity: 1; stroke-width: 0;\"/></g><g class=\"layer-below\"><g class=\"imagelayer\"/><g class=\"shapelayer\"/></g><g class=\"cartesianlayer\"><g class=\"subplot xy\"><g class=\"layer-subplot\"><g class=\"shapelayer\"/><g class=\"imagelayer\"/></g><g class=\"gridlayer\"><g class=\"x\"><path class=\"xgrid crisp\" transform=\"translate(57.8,0)\" d=\"M0,44v142\" style=\"stroke: rgb(255, 255, 255); stroke-opacity: 1; stroke-width: 1px;\"/><path class=\"xgrid crisp\" transform=\"translate(153.07,0)\" d=\"M0,44v142\" style=\"stroke: rgb(255, 255, 255); stroke-opacity: 1; stroke-width: 1px;\"/><path class=\"xgrid crisp\" transform=\"translate(248.6,0)\" d=\"M0,44v142\" style=\"stroke: rgb(255, 255, 255); stroke-opacity: 1; stroke-width: 1px;\"/><path class=\"xgrid crisp\" transform=\"translate(343.87,0)\" d=\"M0,44v142\" style=\"stroke: rgb(255, 255, 255); stroke-opacity: 1; stroke-width: 1px;\"/><path class=\"xgrid crisp\" transform=\"translate(439.14,0)\" d=\"M0,44v142\" style=\"stroke: rgb(255, 255, 255); stroke-opacity: 1; stroke-width: 1px;\"/><path class=\"xgrid crisp\" transform=\"translate(534.4,0)\" d=\"M0,44v142\" style=\"stroke: rgb(255, 255, 255); stroke-opacity: 1; stroke-width: 1px;\"/><path class=\"xgrid crisp\" transform=\"translate(629.93,0)\" d=\"M0,44v142\" style=\"stroke: rgb(255, 255, 255); stroke-opacity: 1; stroke-width: 1px;\"/></g><g class=\"y\"><path class=\"ygrid crisp\" transform=\"translate(0,183.63)\" d=\"M30,0h640\" style=\"stroke: rgb(255, 255, 255); stroke-opacity: 1; stroke-width: 1px;\"/><path class=\"ygrid crisp\" transform=\"translate(0,164.7)\" d=\"M30,0h640\" style=\"stroke: rgb(255, 255, 255); stroke-opacity: 1; stroke-width: 1px;\"/><path class=\"ygrid crisp\" transform=\"translate(0,145.76999999999998)\" d=\"M30,0h640\" style=\"stroke: rgb(255, 255, 255); stroke-opacity: 1; stroke-width: 1px;\"/><path class=\"ygrid crisp\" transform=\"translate(0,126.83)\" d=\"M30,0h640\" style=\"stroke: rgb(255, 255, 255); stroke-opacity: 1; stroke-width: 1px;\"/><path class=\"ygrid crisp\" transform=\"translate(0,107.9)\" d=\"M30,0h640\" style=\"stroke: rgb(255, 255, 255); stroke-opacity: 1; stroke-width: 1px;\"/><path class=\"ygrid crisp\" transform=\"translate(0,88.97)\" d=\"M30,0h640\" style=\"stroke: rgb(255, 255, 255); stroke-opacity: 1; stroke-width: 1px;\"/><path class=\"ygrid crisp\" transform=\"translate(0,70.03)\" d=\"M30,0h640\" style=\"stroke: rgb(255, 255, 255); stroke-opacity: 1; stroke-width: 1px;\"/><path class=\"ygrid crisp\" transform=\"translate(0,51.1)\" d=\"M30,0h640\" style=\"stroke: rgb(255, 255, 255); stroke-opacity: 1; stroke-width: 1px;\"/></g></g><g class=\"zerolinelayer\"/><path class=\"xlines-below\"/><path class=\"ylines-below\"/><g class=\"overlines-below\"/><g class=\"xaxislayer-below\"/><g class=\"yaxislayer-below\"/><g class=\"overaxes-below\"/><g class=\"plot\" transform=\"translate(30,44)\" clip-path=\"url('#clip46a54dxyplot')\"><g class=\"heatmaplayer mlayer\"><g class=\"hm\"><image xmlns=\"http://www.w3.org/2000/svg\" preserveAspectRatio=\"none\" height=\"142\" width=\"640\" x=\"0\" y=\"0\" xlink:href=\"data:image/png;base64,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\" style=\"opacity: 1;\"/></g><g class=\"hm\"><image xmlns=\"http://www.w3.org/2000/svg\" preserveAspectRatio=\"none\" height=\"142\" width=\"640\" x=\"0\" y=\"0\" xlink:href=\"data:image/png;base64,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\" style=\"opacity: 1;\"/></g></g></g><g class=\"overplot\"/><path class=\"xlines-above crisp\" d=\"M0,0\" style=\"fill: none;\"/><path class=\"ylines-above crisp\" d=\"M0,0\" style=\"fill: none;\"/><g class=\"overlines-above\"/><g class=\"xaxislayer-above\"><g class=\"xtick\"><text text-anchor=\"middle\" x=\"0\" y=\"199\" transform=\"translate(57.8,0)\" style=\"font-family: 'Open Sans', verdana, arial, sans-serif; font-size: 12px; fill: rgb(42, 63, 95); fill-opacity: 1; white-space: pre;\">2015</text></g><g class=\"xtick\"><text text-anchor=\"middle\" x=\"0\" y=\"199\" transform=\"translate(153.07,0)\" style=\"font-family: 'Open Sans', verdana, arial, sans-serif; font-size: 12px; fill: rgb(42, 63, 95); fill-opacity: 1; white-space: pre;\">2016</text></g><g class=\"xtick\"><text text-anchor=\"middle\" x=\"0\" y=\"199\" transform=\"translate(248.6,0)\" style=\"font-family: 'Open Sans', verdana, arial, sans-serif; font-size: 12px; fill: rgb(42, 63, 95); fill-opacity: 1; white-space: pre;\">2017</text></g><g class=\"xtick\"><text text-anchor=\"middle\" x=\"0\" y=\"199\" transform=\"translate(343.87,0)\" style=\"font-family: 'Open Sans', verdana, arial, sans-serif; font-size: 12px; fill: rgb(42, 63, 95); fill-opacity: 1; white-space: pre;\">2018</text></g><g class=\"xtick\"><text text-anchor=\"middle\" x=\"0\" y=\"199\" transform=\"translate(439.14,0)\" style=\"font-family: 'Open Sans', verdana, arial, sans-serif; font-size: 12px; fill: rgb(42, 63, 95); fill-opacity: 1; white-space: pre;\">2019</text></g><g class=\"xtick\"><text text-anchor=\"middle\" x=\"0\" y=\"199\" transform=\"translate(534.4,0)\" style=\"font-family: 'Open Sans', verdana, arial, sans-serif; font-size: 12px; fill: rgb(42, 63, 95); fill-opacity: 1; white-space: pre;\">2020</text></g><g class=\"xtick\"><text text-anchor=\"middle\" x=\"0\" y=\"199\" transform=\"translate(629.93,0)\" style=\"font-family: 'Open Sans', verdana, arial, sans-serif; font-size: 12px; fill: rgb(42, 63, 95); fill-opacity: 1; white-space: pre;\">2021</text></g></g><g class=\"yaxislayer-above\"><g class=\"ytick\"><text text-anchor=\"end\" x=\"29\" y=\"4.199999999999999\" transform=\"translate(0,183.63)\" style=\"font-family: 'Open Sans', verdana, arial, sans-serif; font-size: 12px; fill: rgb(42, 63, 95); fill-opacity: 1; white-space: pre;\">29</text></g><g class=\"ytick\"><text text-anchor=\"end\" x=\"29\" y=\"4.199999999999999\" transform=\"translate(0,164.7)\" style=\"font-family: 'Open Sans', verdana, arial, sans-serif; font-size: 12px; fill: rgb(42, 63, 95); fill-opacity: 1; white-space: pre;\">25</text></g><g class=\"ytick\"><text text-anchor=\"end\" x=\"29\" y=\"4.199999999999999\" transform=\"translate(0,145.76999999999998)\" style=\"font-family: 'Open Sans', verdana, arial, sans-serif; font-size: 12px; fill: rgb(42, 63, 95); fill-opacity: 1; white-space: pre;\">21</text></g><g class=\"ytick\"><text text-anchor=\"end\" x=\"29\" y=\"4.199999999999999\" transform=\"translate(0,126.83)\" style=\"font-family: 'Open Sans', verdana, arial, sans-serif; font-size: 12px; fill: rgb(42, 63, 95); fill-opacity: 1; white-space: pre;\">17</text></g><g class=\"ytick\"><text text-anchor=\"end\" x=\"29\" y=\"4.199999999999999\" transform=\"translate(0,107.9)\" style=\"font-family: 'Open Sans', verdana, arial, sans-serif; font-size: 12px; fill: rgb(42, 63, 95); fill-opacity: 1; white-space: pre;\">13</text></g><g class=\"ytick\"><text text-anchor=\"end\" x=\"29\" y=\"4.199999999999999\" transform=\"translate(0,88.97)\" style=\"font-family: 'Open Sans', verdana, arial, sans-serif; font-size: 12px; fill: rgb(42, 63, 95); fill-opacity: 1; white-space: pre;\">9</text></g><g class=\"ytick\"><text text-anchor=\"end\" x=\"29\" y=\"4.199999999999999\" transform=\"translate(0,70.03)\" style=\"font-family: 'Open Sans', verdana, arial, sans-serif; font-size: 12px; fill: rgb(42, 63, 95); fill-opacity: 1; white-space: pre;\">5</text></g><g class=\"ytick\"><text text-anchor=\"end\" x=\"29\" y=\"4.199999999999999\" transform=\"translate(0,51.1)\" style=\"font-family: 'Open Sans', verdana, arial, sans-serif; font-size: 12px; fill: rgb(42, 63, 95); fill-opacity: 1; white-space: pre;\">1</text></g></g><g class=\"overaxes-above\"/></g></g><g class=\"polarlayer\"/><g class=\"ternarylayer\"/><g class=\"geolayer\"/><g class=\"funnelarealayer\"/><g class=\"pielayer\"/><g class=\"treemaplayer\"/><g class=\"sunburstlayer\"/><g class=\"glimages\"/><defs id=\"topdefs-46a54d\"><g class=\"clips\"/><clipPath id=\"legend46a54d\"><rect width=\"218\" height=\"29\" x=\"0\" y=\"0\"/></clipPath></defs><g class=\"layer-above\"><g class=\"imagelayer\"/><g class=\"shapelayer\"/></g><g class=\"infolayer\"><g class=\"legend\" pointer-events=\"all\" transform=\"translate(452,12.159999999999997)\"><rect class=\"bg\" shape-rendering=\"crispEdges\" style=\"stroke: rgb(68, 68, 68); stroke-opacity: 1; fill: rgb(255, 255, 255); fill-opacity: 1; stroke-width: 0px;\" width=\"218\" height=\"29\" x=\"0\" y=\"0\"/><g class=\"scrollbox\" transform=\"\" clip-path=\"url('#legend46a54d')\"><g class=\"groups\"><g class=\"traces\" transform=\"translate(0,14.5)\" style=\"opacity: 1;\"><text class=\"legendtext\" text-anchor=\"start\" x=\"40\" y=\"4.680000000000001\" style=\"font-family: 'Open Sans', verdana, arial, sans-serif; font-size: 12px; fill: rgb(42, 63, 95); fill-opacity: 1; white-space: pre;\">in-sample</text><g class=\"layers\" style=\"opacity: 1;\"><g class=\"legendfill\"/><g class=\"legendlines\"/><g class=\"legendsymbols\"><g class=\"legendpoints\"><path class=\"legend3dandfriends\" transform=\"translate(20,0)\" d=\"M-15,-2V4H15V-2Z\" style=\"stroke-miterlimit: 1; fill: url('#g46a54d-legendfill-8f9b2bd7-4858-4e68-a913-0d50be9265ed');\"/></g></g></g><rect class=\"legendtoggle\" x=\"0\" y=\"-9.5\" width=\"101.890625\" height=\"19\" style=\"fill: rgb(0, 0, 0); fill-opacity: 0;\"/></g><g class=\"traces\" transform=\"translate(104.390625,14.5)\" style=\"opacity: 1;\"><text class=\"legendtext\" text-anchor=\"start\" x=\"40\" y=\"4.680000000000001\" style=\"font-family: 'Open Sans', verdana, arial, sans-serif; font-size: 12px; fill: rgb(42, 63, 95); fill-opacity: 1; white-space: pre;\">out-sample</text><g class=\"layers\" style=\"opacity: 1;\"><g class=\"legendfill\"/><g class=\"legendlines\"/><g class=\"legendsymbols\"><g class=\"legendpoints\"><path class=\"legend3dandfriends\" transform=\"translate(20,0)\" d=\"M-15,-2V4H15V-2Z\" style=\"stroke-miterlimit: 1; fill: url('#g46a54d-legendfill-f6d52cfc-729f-4d38-bc94-ecb649894e52');\"/></g></g></g><rect class=\"legendtoggle\" x=\"0\" y=\"-9.5\" width=\"110.609375\" height=\"19\" style=\"fill: rgb(0, 0, 0); fill-opacity: 0;\"/></g></g></g><rect class=\"scrollbar\" rx=\"20\" ry=\"3\" width=\"0\" height=\"0\" style=\"fill: rgb(128, 139, 164); fill-opacity: 1;\" x=\"0\" y=\"0\"/></g><g class=\"g-gtitle\"/><g class=\"g-xtitle\"/><g class=\"g-ytitle\"/></g></svg>"
      ]
     },
     "metadata": {},
     "output_type": "display_data"
    }
   ],
   "source": [
    "roll_in_and_out_samples(price, **split_kwargs, plot=True, trace_names=['in-sample', 'out-sample']).show_svg()"
   ]
  },
  {
   "cell_type": "code",
   "execution_count": 8,
   "metadata": {},
   "outputs": [
    {
     "name": "stdout",
     "output_type": "stream",
     "text": [
      "(550, 30) 30\n",
      "(180, 30) 30\n"
     ]
    }
   ],
   "source": [
    "(in_price, in_indexes), (out_price, out_indexes) = roll_in_and_out_samples(price, **split_kwargs)\n",
    "\n",
    "print(in_price.shape, len(in_indexes))  # in-sample\n",
    "print(out_price.shape, len(out_indexes))  # out-sample"
   ]
  },
  {
   "cell_type": "code",
   "execution_count": 9,
   "metadata": {},
   "outputs": [],
   "source": [
    "def simulate_holding(price, **kwargs):\n",
    "    portfolio = vbt.Portfolio.from_holding(price, **kwargs)\n",
    "    return portfolio.sharpe_ratio()"
   ]
  },
  {
   "cell_type": "code",
   "execution_count": 10,
   "metadata": {},
   "outputs": [
    {
     "name": "stdout",
     "output_type": "stream",
     "text": [
      "split_idx\n",
      "0     0.229171\n",
      "1     0.517865\n",
      "2     1.454923\n",
      "3     1.209162\n",
      "4     1.628978\n",
      "5     1.659286\n",
      "6     2.218942\n",
      "7     2.074573\n",
      "8     2.343282\n",
      "9     2.787775\n",
      "10    2.868753\n",
      "11    2.908361\n",
      "12    2.594558\n",
      "13    2.323164\n",
      "14    1.807816\n",
      "15    1.735653\n",
      "16    1.650763\n",
      "17    0.715129\n",
      "18    0.392459\n",
      "19    0.372582\n",
      "20   -0.147073\n",
      "21    0.494075\n",
      "22    0.390359\n",
      "23    0.382138\n",
      "24    0.761988\n",
      "25    0.492051\n",
      "26    1.227240\n",
      "27    1.478171\n",
      "28    1.074659\n",
      "29    1.117898\n",
      "Name: sharpe_ratio, dtype: float64\n"
     ]
    }
   ],
   "source": [
    "in_hold_sharpe = simulate_holding(in_price, **portfolio_kwargs)\n",
    "\n",
    "print(in_hold_sharpe)"
   ]
  },
  {
   "cell_type": "code",
   "execution_count": 11,
   "metadata": {},
   "outputs": [],
   "source": [
    "def simulate_all_params(price, windows, **kwargs):\n",
    "    fast_ma, slow_ma = vbt.MA.run_combs(price, windows, r=2, short_names=['fast', 'slow'])\n",
    "    entries = fast_ma.ma_above(slow_ma, crossover=True)\n",
    "    exits = fast_ma.ma_below(slow_ma, crossover=True)\n",
    "    portfolio = vbt.Portfolio.from_signals(price, entries, exits, **kwargs)\n",
    "    return portfolio.sharpe_ratio()"
   ]
  },
  {
   "cell_type": "code",
   "execution_count": 12,
   "metadata": {},
   "outputs": [
    {
     "name": "stdout",
     "output_type": "stream",
     "text": [
      "fast_window  slow_window  split_idx\n",
      "10           11           0            0.856870\n",
      "                          1            1.093530\n",
      "                          2            0.408405\n",
      "                          3            0.346388\n",
      "                          4            0.654299\n",
      "                                         ...   \n",
      "48           49           25           0.394994\n",
      "                          26          -0.062408\n",
      "                          27          -0.183125\n",
      "                          28          -0.874102\n",
      "                          29          -1.103122\n",
      "Name: sharpe_ratio, Length: 23400, dtype: float64\n"
     ]
    }
   ],
   "source": [
    "# Simulate all params for in-sample ranges\n",
    "in_sharpe = simulate_all_params(in_price, windows, **portfolio_kwargs)\n",
    "\n",
    "print(in_sharpe)"
   ]
  },
  {
   "cell_type": "code",
   "execution_count": 13,
   "metadata": {},
   "outputs": [],
   "source": [
    "def get_best_index(performance, higher_better=True):\n",
    "    if higher_better:\n",
    "        return performance[performance.groupby('split_idx').idxmax()].index\n",
    "    return performance[performance.groupby('split_idx').idxmin()].index"
   ]
  },
  {
   "cell_type": "code",
   "execution_count": 14,
   "metadata": {},
   "outputs": [
    {
     "name": "stdout",
     "output_type": "stream",
     "text": [
      "MultiIndex([(27, 29,  0),\n",
      "            (27, 29,  1),\n",
      "            (21, 25,  2),\n",
      "            (23, 25,  3),\n",
      "            (20, 41,  4),\n",
      "            (23, 25,  5),\n",
      "            (37, 43,  6),\n",
      "            (37, 43,  7),\n",
      "            (31, 49,  8),\n",
      "            (10, 21,  9),\n",
      "            (10, 21, 10),\n",
      "            (10, 21, 11),\n",
      "            (10, 22, 12),\n",
      "            (10, 21, 13),\n",
      "            (10, 21, 14),\n",
      "            (10, 21, 15),\n",
      "            (10, 22, 16),\n",
      "            (10, 22, 17),\n",
      "            (10, 22, 18),\n",
      "            (17, 22, 19),\n",
      "            (17, 23, 20),\n",
      "            (13, 21, 21),\n",
      "            (45, 49, 22),\n",
      "            (45, 49, 23),\n",
      "            (18, 21, 24),\n",
      "            (13, 21, 25),\n",
      "            (13, 21, 26),\n",
      "            (13, 20, 27),\n",
      "            (13, 20, 28),\n",
      "            (13, 20, 29)],\n",
      "           names=['fast_window', 'slow_window', 'split_idx'])\n"
     ]
    }
   ],
   "source": [
    "in_best_index = get_best_index(in_sharpe)\n",
    "\n",
    "print(in_best_index)"
   ]
  },
  {
   "cell_type": "code",
   "execution_count": 15,
   "metadata": {},
   "outputs": [],
   "source": [
    "def get_best_params(best_index, level_name):\n",
    "    return best_index.get_level_values(level_name).to_numpy()"
   ]
  },
  {
   "cell_type": "code",
   "execution_count": 16,
   "metadata": {},
   "outputs": [
    {
     "name": "stdout",
     "output_type": "stream",
     "text": [
      "[[27 29]\n",
      " [27 29]\n",
      " [21 25]\n",
      " [23 25]\n",
      " [20 41]\n",
      " [23 25]\n",
      " [37 43]\n",
      " [37 43]\n",
      " [31 49]\n",
      " [10 21]\n",
      " [10 21]\n",
      " [10 21]\n",
      " [10 22]\n",
      " [10 21]\n",
      " [10 21]\n",
      " [10 21]\n",
      " [10 22]\n",
      " [10 22]\n",
      " [10 22]\n",
      " [17 22]\n",
      " [17 23]\n",
      " [13 21]\n",
      " [45 49]\n",
      " [45 49]\n",
      " [18 21]\n",
      " [13 21]\n",
      " [13 21]\n",
      " [13 20]\n",
      " [13 20]\n",
      " [13 20]]\n"
     ]
    }
   ],
   "source": [
    "in_best_fast_windows = get_best_params(in_best_index, 'fast_window')\n",
    "in_best_slow_windows = get_best_params(in_best_index, 'slow_window')\n",
    "in_best_window_pairs = np.array(list(zip(in_best_fast_windows, in_best_slow_windows)))\n",
    "\n",
    "print(in_best_window_pairs)"
   ]
  },
  {
   "cell_type": "code",
   "execution_count": 17,
   "metadata": {},
   "outputs": [
    {
     "data": {
      "image/svg+xml": [
       "<svg class=\"main-svg\" xmlns=\"http://www.w3.org/2000/svg\" xmlns:xlink=\"http://www.w3.org/1999/xlink\" width=\"700\" height=\"350\" style=\"\" viewBox=\"0 0 700 350\"><rect x=\"0\" y=\"0\" width=\"700\" height=\"350\" style=\"fill: rgb(255, 255, 255); fill-opacity: 1;\"/><defs id=\"defs-418160\"><g class=\"clips\"><clipPath id=\"clip418160xyplot\" class=\"plotclip\"><rect width=\"640\" height=\"274\"/></clipPath><clipPath class=\"axesclip\" id=\"clip418160x\"><rect x=\"30\" y=\"0\" width=\"640\" height=\"350\"/></clipPath><clipPath class=\"axesclip\" id=\"clip418160y\"><rect x=\"0\" y=\"46\" width=\"700\" height=\"274\"/></clipPath><clipPath class=\"axesclip\" id=\"clip418160xy\"><rect x=\"30\" y=\"46\" width=\"640\" height=\"274\"/></clipPath></g><g class=\"gradients\"/></defs><g class=\"bglayer\"><rect class=\"bg\" x=\"30\" y=\"46\" width=\"640\" height=\"274\" style=\"fill: rgb(229, 236, 246); fill-opacity: 1; stroke-width: 0;\"/></g><g class=\"layer-below\"><g class=\"imagelayer\"/><g class=\"shapelayer\"/></g><g class=\"cartesianlayer\"><g class=\"subplot xy\"><g class=\"layer-subplot\"><g class=\"shapelayer\"/><g class=\"imagelayer\"/></g><g class=\"gridlayer\"><g class=\"x\"><path class=\"xgrid crisp\" transform=\"translate(140.34,0)\" d=\"M0,46v274\" style=\"stroke: rgb(255, 255, 255); stroke-opacity: 1; stroke-width: 1px;\"/><path class=\"xgrid crisp\" transform=\"translate(250.69,0)\" d=\"M0,46v274\" style=\"stroke: rgb(255, 255, 255); stroke-opacity: 1; stroke-width: 1px;\"/><path class=\"xgrid crisp\" transform=\"translate(361.03,0)\" d=\"M0,46v274\" style=\"stroke: rgb(255, 255, 255); stroke-opacity: 1; stroke-width: 1px;\"/><path class=\"xgrid crisp\" transform=\"translate(471.38,0)\" d=\"M0,46v274\" style=\"stroke: rgb(255, 255, 255); stroke-opacity: 1; stroke-width: 1px;\"/><path class=\"xgrid crisp\" transform=\"translate(581.72,0)\" d=\"M0,46v274\" style=\"stroke: rgb(255, 255, 255); stroke-opacity: 1; stroke-width: 1px;\"/></g><g class=\"y\"><path class=\"ygrid crisp\" transform=\"translate(0,306.3)\" d=\"M30,0h640\" style=\"stroke: rgb(255, 255, 255); stroke-opacity: 1; stroke-width: 1px;\"/><path class=\"ygrid crisp\" transform=\"translate(0,243.07)\" d=\"M30,0h640\" style=\"stroke: rgb(255, 255, 255); stroke-opacity: 1; stroke-width: 1px;\"/><path class=\"ygrid crisp\" transform=\"translate(0,179.84)\" d=\"M30,0h640\" style=\"stroke: rgb(255, 255, 255); stroke-opacity: 1; stroke-width: 1px;\"/><path class=\"ygrid crisp\" transform=\"translate(0,116.61)\" d=\"M30,0h640\" style=\"stroke: rgb(255, 255, 255); stroke-opacity: 1; stroke-width: 1px;\"/><path class=\"ygrid crisp\" transform=\"translate(0,53.38)\" d=\"M30,0h640\" style=\"stroke: rgb(255, 255, 255); stroke-opacity: 1; stroke-width: 1px;\"/></g></g><g class=\"zerolinelayer\"><path class=\"xzl zl crisp\" transform=\"translate(30,0)\" d=\"M0,46v274\" style=\"stroke: rgb(255, 255, 255); stroke-opacity: 1; stroke-width: 2px;\"/></g><path class=\"xlines-below\"/><path class=\"ylines-below\"/><g class=\"overlines-below\"/><g class=\"xaxislayer-below\"/><g class=\"yaxislayer-below\"/><g class=\"overaxes-below\"/><g class=\"plot\" transform=\"translate(30,46)\" clip-path=\"url('#clip418160xyplot')\"><g class=\"scatterlayer mlayer\"><g class=\"trace scatter trace57201262-61a4-4319-8fbb-3e145ae48e8e\" style=\"stroke-miterlimit: 2; opacity: 1;\"><g class=\"fills\"/><g class=\"errorbars\"/><g class=\"lines\"><path class=\"js-line\" d=\"M0,152.81L22.07,152.81L44.14,190.75L66.21,178.1L88.28,197.07L110.34,178.1L132.41,89.58L154.48,89.58L176.55,127.52L198.62,260.3L220.69,260.3L397.24,260.3L419.31,216.04L441.38,216.04L463.45,241.33L485.52,38.99L507.59,38.99L529.66,209.72L551.72,241.33L640,241.33\" style=\"vector-effect: non-scaling-stroke; fill: none; stroke: rgb(31, 119, 180); stroke-opacity: 1; stroke-width: 2px; opacity: 1;\"/></g><g class=\"points\"/><g class=\"text\"/></g><g class=\"trace scatter tracecae66692-b1f1-49fb-9234-3ee2e58434a8\" style=\"stroke-miterlimit: 2; opacity: 1;\"><g class=\"fills\"/><g class=\"errorbars\"/><g class=\"lines\"><path class=\"js-line\" d=\"M0,140.16L22.07,140.16L44.14,165.45L66.21,165.45L88.28,64.28L110.34,165.45L132.41,51.64L154.48,51.64L176.55,13.7L198.62,190.75L220.69,190.75L242.76,190.75L264.83,184.42L286.9,190.75L308.97,190.75L331.03,190.75L353.1,184.42L419.31,184.42L441.38,178.1L463.45,190.75L485.52,13.7L507.59,13.7L529.66,190.75L573.79,190.75L595.86,197.07L640,197.07\" style=\"vector-effect: non-scaling-stroke; fill: none; stroke: rgb(255, 127, 14); stroke-opacity: 1; stroke-width: 2px; opacity: 1;\"/></g><g class=\"points\"/><g class=\"text\"/></g></g></g><g class=\"overplot\"/><path class=\"xlines-above crisp\" d=\"M0,0\" style=\"fill: none;\"/><path class=\"ylines-above crisp\" d=\"M0,0\" style=\"fill: none;\"/><g class=\"overlines-above\"/><g class=\"xaxislayer-above\"><g class=\"xtick\"><text text-anchor=\"middle\" x=\"0\" y=\"333\" transform=\"translate(30,0)\" style=\"font-family: 'Open Sans', verdana, arial, sans-serif; font-size: 12px; fill: rgb(42, 63, 95); fill-opacity: 1; white-space: pre;\">0</text></g><g class=\"xtick\"><text text-anchor=\"middle\" x=\"0\" y=\"333\" transform=\"translate(140.34,0)\" style=\"font-family: 'Open Sans', verdana, arial, sans-serif; font-size: 12px; fill: rgb(42, 63, 95); fill-opacity: 1; white-space: pre;\">5</text></g><g class=\"xtick\"><text text-anchor=\"middle\" x=\"0\" y=\"333\" transform=\"translate(250.69,0)\" style=\"font-family: 'Open Sans', verdana, arial, sans-serif; font-size: 12px; fill: rgb(42, 63, 95); fill-opacity: 1; white-space: pre;\">10</text></g><g class=\"xtick\"><text text-anchor=\"middle\" x=\"0\" y=\"333\" transform=\"translate(361.03,0)\" style=\"font-family: 'Open Sans', verdana, arial, sans-serif; font-size: 12px; fill: rgb(42, 63, 95); fill-opacity: 1; white-space: pre;\">15</text></g><g class=\"xtick\"><text text-anchor=\"middle\" x=\"0\" y=\"333\" transform=\"translate(471.38,0)\" style=\"font-family: 'Open Sans', verdana, arial, sans-serif; font-size: 12px; fill: rgb(42, 63, 95); fill-opacity: 1; white-space: pre;\">20</text></g><g class=\"xtick\"><text text-anchor=\"middle\" x=\"0\" y=\"333\" transform=\"translate(581.72,0)\" style=\"font-family: 'Open Sans', verdana, arial, sans-serif; font-size: 12px; fill: rgb(42, 63, 95); fill-opacity: 1; white-space: pre;\">25</text></g></g><g class=\"yaxislayer-above\"><g class=\"ytick\"><text text-anchor=\"end\" x=\"29\" y=\"4.199999999999999\" transform=\"translate(0,306.3)\" style=\"font-family: 'Open Sans', verdana, arial, sans-serif; font-size: 12px; fill: rgb(42, 63, 95); fill-opacity: 1; white-space: pre;\">10</text></g><g class=\"ytick\"><text text-anchor=\"end\" x=\"29\" y=\"4.199999999999999\" transform=\"translate(0,243.07)\" style=\"font-family: 'Open Sans', verdana, arial, sans-serif; font-size: 12px; fill: rgb(42, 63, 95); fill-opacity: 1; white-space: pre;\">20</text></g><g class=\"ytick\"><text text-anchor=\"end\" x=\"29\" y=\"4.199999999999999\" transform=\"translate(0,179.84)\" style=\"font-family: 'Open Sans', verdana, arial, sans-serif; font-size: 12px; fill: rgb(42, 63, 95); fill-opacity: 1; white-space: pre;\">30</text></g><g class=\"ytick\"><text text-anchor=\"end\" x=\"29\" y=\"4.199999999999999\" transform=\"translate(0,116.61)\" style=\"font-family: 'Open Sans', verdana, arial, sans-serif; font-size: 12px; fill: rgb(42, 63, 95); fill-opacity: 1; white-space: pre;\">40</text></g><g class=\"ytick\"><text text-anchor=\"end\" x=\"29\" y=\"4.199999999999999\" transform=\"translate(0,53.38)\" style=\"font-family: 'Open Sans', verdana, arial, sans-serif; font-size: 12px; fill: rgb(42, 63, 95); fill-opacity: 1; white-space: pre;\">50</text></g></g><g class=\"overaxes-above\"/></g></g><g class=\"polarlayer\"/><g class=\"ternarylayer\"/><g class=\"geolayer\"/><g class=\"funnelarealayer\"/><g class=\"pielayer\"/><g class=\"treemaplayer\"/><g class=\"sunburstlayer\"/><g class=\"glimages\"/><defs id=\"topdefs-418160\"><g class=\"clips\"/><clipPath id=\"legend418160\"><rect width=\"245\" height=\"29\" x=\"0\" y=\"0\"/></clipPath></defs><g class=\"layer-above\"><g class=\"imagelayer\"/><g class=\"shapelayer\"/></g><g class=\"infolayer\"><g class=\"legend\" pointer-events=\"all\" transform=\"translate(425,11.519999999999996)\"><rect class=\"bg\" shape-rendering=\"crispEdges\" style=\"stroke: rgb(68, 68, 68); stroke-opacity: 1; fill: rgb(255, 255, 255); fill-opacity: 1; stroke-width: 0px;\" width=\"245\" height=\"29\" x=\"0\" y=\"0\"/><g class=\"scrollbox\" transform=\"\" clip-path=\"url('#legend418160')\"><g class=\"groups\"><g class=\"traces\" transform=\"translate(0,14.5)\" style=\"opacity: 1;\"><text class=\"legendtext\" text-anchor=\"start\" x=\"40\" y=\"4.680000000000001\" style=\"font-family: 'Open Sans', verdana, arial, sans-serif; font-size: 12px; fill: rgb(42, 63, 95); fill-opacity: 1; white-space: pre;\">fast_window</text><g class=\"layers\" style=\"opacity: 1;\"><g class=\"legendfill\"/><g class=\"legendlines\"><path class=\"js-line\" d=\"M5,0h30\" style=\"fill: none; stroke: rgb(31, 119, 180); stroke-opacity: 1; stroke-width: 2px;\"/></g><g class=\"legendsymbols\"><g class=\"legendpoints\"/></g></g><rect class=\"legendtoggle\" x=\"0\" y=\"-9.5\" width=\"117.828125\" height=\"19\" style=\"fill: rgb(0, 0, 0); fill-opacity: 0;\"/></g><g class=\"traces\" transform=\"translate(120.328125,14.5)\" style=\"opacity: 1;\"><text class=\"legendtext\" text-anchor=\"start\" x=\"40\" y=\"4.680000000000001\" style=\"font-family: 'Open Sans', verdana, arial, sans-serif; font-size: 12px; fill: rgb(42, 63, 95); fill-opacity: 1; white-space: pre;\">slow_window</text><g class=\"layers\" style=\"opacity: 1;\"><g class=\"legendfill\"/><g class=\"legendlines\"><path class=\"js-line\" d=\"M5,0h30\" style=\"fill: none; stroke: rgb(255, 127, 14); stroke-opacity: 1; stroke-width: 2px;\"/></g><g class=\"legendsymbols\"><g class=\"legendpoints\"/></g></g><rect class=\"legendtoggle\" x=\"0\" y=\"-9.5\" width=\"122.078125\" height=\"19\" style=\"fill: rgb(0, 0, 0); fill-opacity: 0;\"/></g></g></g><rect class=\"scrollbar\" rx=\"20\" ry=\"3\" width=\"0\" height=\"0\" style=\"fill: rgb(128, 139, 164); fill-opacity: 1;\" x=\"0\" y=\"0\"/></g><g class=\"g-gtitle\"/><g class=\"g-xtitle\"/><g class=\"g-ytitle\"/></g></svg>"
      ]
     },
     "metadata": {},
     "output_type": "display_data"
    }
   ],
   "source": [
    "pd.DataFrame(in_best_window_pairs, columns=['fast_window', 'slow_window']).vbt.plot().show_svg()"
   ]
  },
  {
   "cell_type": "code",
   "execution_count": 18,
   "metadata": {},
   "outputs": [
    {
     "name": "stdout",
     "output_type": "stream",
     "text": [
      "split_idx\n",
      "0     1.773721\n",
      "1     1.934571\n",
      "2     0.932176\n",
      "3     2.935277\n",
      "4     3.321579\n",
      "5     3.387580\n",
      "6     3.667760\n",
      "7     3.557163\n",
      "8     3.744816\n",
      "9     2.216762\n",
      "10    1.039014\n",
      "11   -1.195431\n",
      "12   -1.000219\n",
      "13   -1.165398\n",
      "14   -1.043329\n",
      "15   -1.420631\n",
      "16   -0.285439\n",
      "17    3.041654\n",
      "18    2.830007\n",
      "19    1.448369\n",
      "20   -0.292846\n",
      "21    0.209520\n",
      "22    0.015216\n",
      "23    1.189794\n",
      "24    0.892042\n",
      "25    1.689844\n",
      "26    3.007289\n",
      "27    3.962586\n",
      "28    4.860232\n",
      "29    2.034696\n",
      "Name: sharpe_ratio, dtype: float64\n"
     ]
    }
   ],
   "source": [
    "out_hold_sharpe = simulate_holding(out_price, **portfolio_kwargs)\n",
    "\n",
    "print(out_hold_sharpe)"
   ]
  },
  {
   "cell_type": "code",
   "execution_count": 19,
   "metadata": {},
   "outputs": [
    {
     "name": "stdout",
     "output_type": "stream",
     "text": [
      "fast_window  slow_window  split_idx\n",
      "10           11           0           -1.018512\n",
      "                          1           -0.517213\n",
      "                          2            0.954205\n",
      "                          3            0.257959\n",
      "                          4            2.250128\n",
      "                                         ...   \n",
      "48           49           25          -1.692895\n",
      "                          26          -0.344707\n",
      "                          27           2.949950\n",
      "                          28           3.647327\n",
      "                          29           1.027001\n",
      "Name: sharpe_ratio, Length: 23400, dtype: float64\n"
     ]
    }
   ],
   "source": [
    "# Simulate all params for out-sample ranges\n",
    "out_sharpe = simulate_all_params(out_price, windows, **portfolio_kwargs)\n",
    "\n",
    "print(out_sharpe)"
   ]
  },
  {
   "cell_type": "code",
   "execution_count": 20,
   "metadata": {},
   "outputs": [],
   "source": [
    "def simulate_best_params(price, best_fast_windows, best_slow_windows, **kwargs):\n",
    "    fast_ma = vbt.MA.run(price, window=best_fast_windows, per_column=True)\n",
    "    slow_ma = vbt.MA.run(price, window=best_slow_windows, per_column=True)\n",
    "    entries = fast_ma.ma_above(slow_ma, crossover=True)\n",
    "    exits = fast_ma.ma_below(slow_ma, crossover=True)\n",
    "    portfolio = vbt.Portfolio.from_signals(price, entries, exits, **kwargs)\n",
    "    return portfolio.sharpe_ratio()"
   ]
  },
  {
   "cell_type": "code",
   "execution_count": 21,
   "metadata": {},
   "outputs": [
    {
     "name": "stdout",
     "output_type": "stream",
     "text": [
      "ma_window  ma_window  split_idx\n",
      "27         29         0            1.164082\n",
      "                      1            0.210568\n",
      "21         25         2            0.921108\n",
      "23         25         3            1.797342\n",
      "20         41         4            0.228998\n",
      "23         25         5            2.214971\n",
      "37         43         6            0.968100\n",
      "                      7           -1.153715\n",
      "31         49         8            1.455443\n",
      "10         21         9            3.231750\n",
      "                      10           2.306887\n",
      "                      11           1.297693\n",
      "           22         12           1.858851\n",
      "           21         13           0.653616\n",
      "                      14           0.322501\n",
      "                      15           0.573580\n",
      "           22         16           2.344098\n",
      "                      17           1.998689\n",
      "                      18           0.452671\n",
      "17         22         19          -0.084206\n",
      "           23         20          -0.606754\n",
      "13         21         21           1.772108\n",
      "45         49         22          -2.089983\n",
      "                      23          -1.537467\n",
      "18         21         24           0.767007\n",
      "13         21         25           1.596568\n",
      "                      26           3.839282\n",
      "           20         27           3.467942\n",
      "                      28           1.952482\n",
      "                      29          -0.263123\n",
      "Name: sharpe_ratio, dtype: float64\n"
     ]
    }
   ],
   "source": [
    "# Use best params from in-sample ranges and simulate them for out-sample ranges\n",
    "out_test_sharpe = simulate_best_params(out_price, in_best_fast_windows, in_best_slow_windows, **portfolio_kwargs)\n",
    "\n",
    "print(out_test_sharpe)"
   ]
  },
  {
   "cell_type": "code",
   "execution_count": 22,
   "metadata": {},
   "outputs": [],
   "source": [
    "cv_results_df = pd.DataFrame({\n",
    "    'in_sample_hold': in_hold_sharpe.values,\n",
    "    'in_sample_median': in_sharpe.groupby('split_idx').median().values,\n",
    "    'in_sample_best': in_sharpe[in_best_index].values,\n",
    "    'out_sample_hold': out_hold_sharpe.values,\n",
    "    'out_sample_median': out_sharpe.groupby('split_idx').median().values,\n",
    "    'out_sample_test': out_test_sharpe.values\n",
    "})"
   ]
  },
  {
   "cell_type": "code",
   "execution_count": 23,
   "metadata": {},
   "outputs": [
    {
     "data": {
      "image/svg+xml": [
       "<svg class=\"main-svg\" xmlns=\"http://www.w3.org/2000/svg\" xmlns:xlink=\"http://www.w3.org/1999/xlink\" width=\"700\" height=\"350\" style=\"\" viewBox=\"0 0 700 350\"><rect x=\"0\" y=\"0\" width=\"700\" height=\"350\" style=\"fill: rgb(255, 255, 255); fill-opacity: 1;\"/><defs id=\"defs-41b0cf\"><g class=\"clips\"><clipPath id=\"clip41b0cfxyplot\" class=\"plotclip\"><rect width=\"640\" height=\"255\"/></clipPath><clipPath class=\"axesclip\" id=\"clip41b0cfx\"><rect x=\"30\" y=\"0\" width=\"640\" height=\"350\"/></clipPath><clipPath class=\"axesclip\" id=\"clip41b0cfy\"><rect x=\"0\" y=\"65\" width=\"700\" height=\"255\"/></clipPath><clipPath class=\"axesclip\" id=\"clip41b0cfxy\"><rect x=\"30\" y=\"65\" width=\"640\" height=\"255\"/></clipPath></g><g class=\"gradients\"/></defs><g class=\"bglayer\"><rect class=\"bg\" x=\"30\" y=\"65\" width=\"640\" height=\"255\" style=\"fill: rgb(229, 236, 246); fill-opacity: 1; stroke-width: 0;\"/></g><g class=\"layer-below\"><g class=\"imagelayer\"/><g class=\"shapelayer\"/></g><g class=\"cartesianlayer\"><g class=\"subplot xy\"><g class=\"layer-subplot\"><g class=\"shapelayer\"/><g class=\"imagelayer\"/></g><g class=\"gridlayer\"><g class=\"x\"><path class=\"xgrid crisp\" transform=\"translate(140.34,0)\" d=\"M0,65v255\" style=\"stroke: rgb(255, 255, 255); stroke-opacity: 1; stroke-width: 1px;\"/><path class=\"xgrid crisp\" transform=\"translate(250.69,0)\" d=\"M0,65v255\" style=\"stroke: rgb(255, 255, 255); stroke-opacity: 1; stroke-width: 1px;\"/><path class=\"xgrid crisp\" transform=\"translate(361.03,0)\" d=\"M0,65v255\" style=\"stroke: rgb(255, 255, 255); stroke-opacity: 1; stroke-width: 1px;\"/><path class=\"xgrid crisp\" transform=\"translate(471.38,0)\" d=\"M0,65v255\" style=\"stroke: rgb(255, 255, 255); stroke-opacity: 1; stroke-width: 1px;\"/><path class=\"xgrid crisp\" transform=\"translate(581.72,0)\" d=\"M0,65v255\" style=\"stroke: rgb(255, 255, 255); stroke-opacity: 1; stroke-width: 1px;\"/></g><g class=\"y\"><path class=\"ygrid crisp\" transform=\"translate(0,304.28)\" d=\"M30,0h640\" style=\"stroke: rgb(255, 255, 255); stroke-opacity: 1; stroke-width: 1px;\"/><path class=\"ygrid crisp\" transform=\"translate(0,172.2)\" d=\"M30,0h640\" style=\"stroke: rgb(255, 255, 255); stroke-opacity: 1; stroke-width: 1px;\"/><path class=\"ygrid crisp\" transform=\"translate(0,106.16)\" d=\"M30,0h640\" style=\"stroke: rgb(255, 255, 255); stroke-opacity: 1; stroke-width: 1px;\"/></g></g><g class=\"zerolinelayer\"><path class=\"xzl zl crisp\" transform=\"translate(30,0)\" d=\"M0,65v255\" style=\"stroke: rgb(255, 255, 255); stroke-opacity: 1; stroke-width: 2px;\"/><path class=\"yzl zl crisp\" transform=\"translate(0,238.24)\" d=\"M30,0h640\" style=\"stroke: rgb(255, 255, 255); stroke-opacity: 1; stroke-width: 2px;\"/></g><path class=\"xlines-below\"/><path class=\"ylines-below\"/><g class=\"overlines-below\"/><g class=\"xaxislayer-below\"/><g class=\"yaxislayer-below\"/><g class=\"overaxes-below\"/><g class=\"plot\" transform=\"translate(30,65)\" clip-path=\"url('#clip41b0cfxyplot')\"><g class=\"scatterlayer mlayer\"><g class=\"trace scatter trace5b0ec11c-16f4-47ae-adc9-50b14581a862\" style=\"stroke-miterlimit: 2; opacity: 1;\"><g class=\"fills\"/><g class=\"errorbars\"/><g class=\"lines\"><path class=\"js-line\" d=\"M0,165.67L22.07,156.14L44.14,125.2L66.21,133.31L88.28,119.45L110.34,118.45L132.41,99.97L154.48,104.73L176.55,95.86L198.62,81.18L220.69,78.51L242.76,77.2L264.83,87.56L286.9,96.53L308.97,113.54L353.1,118.73L375.17,149.62L397.24,160.28L419.31,160.93L441.38,178.09L463.45,156.92L485.52,160.35L507.59,160.62L529.66,148.08L551.72,156.99L573.79,132.71L595.86,124.43L617.93,137.75L640,136.32\" style=\"vector-effect: non-scaling-stroke; fill: none; stroke: rgb(31, 119, 180); stroke-opacity: 1; stroke-width: 2px; opacity: 1;\"/></g><g class=\"points\"/><g class=\"text\"/></g><g class=\"trace scatter trace05f47fe1-f507-401e-a761-7b6c839f19f7\" style=\"stroke-miterlimit: 2; opacity: 1;\"><g class=\"fills\"/><g class=\"errorbars\"/><g class=\"lines\"><path class=\"js-line\" d=\"M0,152.63L22.07,141.49L44.14,145.8L66.21,144.41L88.28,134.8L110.34,126.38L132.41,128.36L154.48,139.3L176.55,122.93L198.62,113.58L220.69,129.98L242.76,116.86L264.83,112.54L286.9,124.06L308.97,126.18L331.03,128.89L353.1,143.33L375.17,137.07L397.24,143.55L441.38,146.32L463.45,146.28L485.52,136.64L507.59,148.07L529.66,132.47L551.72,140.53L573.79,136.43L595.86,133.34L617.93,153.54L640,151.97\" style=\"vector-effect: non-scaling-stroke; fill: none; stroke: rgb(31, 119, 180); stroke-opacity: 1; stroke-width: 2px; opacity: 1; stroke-dasharray: 9px, 9px;\"/></g><g class=\"points\"/><g class=\"text\"/></g><g class=\"trace scatter trace45bc60af-e3d1-4a88-9222-309d34a6d030\" style=\"stroke-miterlimit: 2; opacity: 1;\"><g class=\"fills\"/><g class=\"errorbars\"/><g class=\"lines\"><path class=\"js-line\" d=\"M0,105.77L22.07,104.74L44.14,107.41L66.21,111.03L88.28,107.63L110.34,101.29L132.41,99.25L154.48,109.37L176.55,91.58L198.62,84.67L220.69,79.45L242.76,57.53L264.83,67.17L286.9,69.83L308.97,65.35L331.03,72.44L353.1,86.51L375.17,96.3L397.24,104.75L441.38,100.56L463.45,106.29L485.52,99.23L507.59,105.89L529.66,95.04L551.72,95.86L573.79,100.43L595.86,99.71L617.93,105.94L640,95.93\" style=\"vector-effect: non-scaling-stroke; fill: none; stroke: rgb(31, 119, 180); stroke-opacity: 1; stroke-width: 2px; opacity: 1; stroke-dasharray: 3px, 3px;\"/></g><g class=\"points\"/><g class=\"text\"/></g><g class=\"trace scatter traced0c31494-8556-4323-b723-ac2a90ff4204\" style=\"stroke-miterlimit: 2; opacity: 1;\"><g class=\"fills\"/><g class=\"errorbars\"/><g class=\"lines\"><path class=\"js-line\" d=\"M0,114.67L22.07,109.36L44.14,142.46L66.21,76.31L88.28,63.56L110.34,61.38L132.41,52.13L154.48,55.78L176.55,49.58L198.62,100.04L220.69,138.93L242.76,212.71L264.83,206.27L286.9,211.72L308.97,207.69L331.03,220.15L353.1,182.66L375.17,72.8L397.24,79.79L419.31,125.41L441.38,182.91L463.45,166.32L485.52,172.74L507.59,133.95L529.66,143.78L551.72,117.44L573.79,73.94L595.86,42.39L617.93,12.75L640,106.05\" style=\"vector-effect: non-scaling-stroke; fill: none; stroke: rgb(255, 127, 14); stroke-opacity: 1; stroke-width: 2px; opacity: 1;\"/></g><g class=\"points\"/><g class=\"text\"/></g><g class=\"trace scatter trace0ba3657d-a82d-4657-980d-b5145ad7f982\" style=\"stroke-miterlimit: 2; opacity: 1;\"><g class=\"fills\"/><g class=\"errorbars\"/><g class=\"lines\"><path class=\"js-line\" d=\"M0,130.59L22.07,137.69L44.14,140.38L66.21,112.27L88.28,137.84L132.41,70.78L154.48,143.05L176.55,104.47L198.62,82.61L220.69,167.35L242.76,192.44L264.83,228.96L286.9,201.28L308.97,147.49L331.03,137.83L353.1,143.21L375.17,79.58L397.24,103.81L419.31,153.05L441.38,209.57L463.45,186.58L485.52,147.53L507.59,113.68L529.66,148.79L551.72,175.05L573.79,102.93L595.86,47.14L617.93,80.35L640,137.05\" style=\"vector-effect: non-scaling-stroke; fill: none; stroke: rgb(255, 127, 14); stroke-opacity: 1; stroke-width: 2px; opacity: 1; stroke-dasharray: 9px, 9px;\"/></g><g class=\"points\"/><g class=\"text\"/></g><g class=\"trace scatter trace8b80a035-5cc0-47f7-8e09-e79ebac0fb79\" style=\"stroke-miterlimit: 2; opacity: 1;\"><g class=\"fills\"/><g class=\"errorbars\"/><g class=\"lines\"><path class=\"js-line\" d=\"M0,134.8L22.07,166.28L44.14,142.82L66.21,113.89L88.28,165.68L110.34,100.1L132.41,141.27L154.48,211.33L176.55,125.18L198.62,66.52L220.69,97.06L242.76,130.39L264.83,111.86L286.9,151.65L308.97,162.59L331.03,154.3L353.1,95.83L375.17,107.24L397.24,158.29L441.38,193.27L463.45,114.72L485.52,242.25L507.59,224.01L529.66,147.91L551.72,120.52L573.79,46.46L595.86,58.72L617.93,108.77L640,181.93\" style=\"vector-effect: non-scaling-stroke; fill: none; stroke: rgb(255, 127, 14); stroke-opacity: 1; stroke-width: 2px; opacity: 1; stroke-dasharray: 3px, 3px;\"/></g><g class=\"points\"/><g class=\"text\"/></g></g></g><g class=\"overplot\"/><path class=\"xlines-above crisp\" d=\"M0,0\" style=\"fill: none;\"/><path class=\"ylines-above crisp\" d=\"M0,0\" style=\"fill: none;\"/><g class=\"overlines-above\"/><g class=\"xaxislayer-above\"><g class=\"xtick\"><text text-anchor=\"middle\" x=\"0\" y=\"333\" transform=\"translate(30,0)\" style=\"font-family: 'Open Sans', verdana, arial, sans-serif; font-size: 12px; fill: rgb(42, 63, 95); fill-opacity: 1; white-space: pre;\">0</text></g><g class=\"xtick\"><text text-anchor=\"middle\" x=\"0\" y=\"333\" transform=\"translate(140.34,0)\" style=\"font-family: 'Open Sans', verdana, arial, sans-serif; font-size: 12px; fill: rgb(42, 63, 95); fill-opacity: 1; white-space: pre;\">5</text></g><g class=\"xtick\"><text text-anchor=\"middle\" x=\"0\" y=\"333\" transform=\"translate(250.69,0)\" style=\"font-family: 'Open Sans', verdana, arial, sans-serif; font-size: 12px; fill: rgb(42, 63, 95); fill-opacity: 1; white-space: pre;\">10</text></g><g class=\"xtick\"><text text-anchor=\"middle\" x=\"0\" y=\"333\" transform=\"translate(361.03,0)\" style=\"font-family: 'Open Sans', verdana, arial, sans-serif; font-size: 12px; fill: rgb(42, 63, 95); fill-opacity: 1; white-space: pre;\">15</text></g><g class=\"xtick\"><text text-anchor=\"middle\" x=\"0\" y=\"333\" transform=\"translate(471.38,0)\" style=\"font-family: 'Open Sans', verdana, arial, sans-serif; font-size: 12px; fill: rgb(42, 63, 95); fill-opacity: 1; white-space: pre;\">20</text></g><g class=\"xtick\"><text text-anchor=\"middle\" x=\"0\" y=\"333\" transform=\"translate(581.72,0)\" style=\"font-family: 'Open Sans', verdana, arial, sans-serif; font-size: 12px; fill: rgb(42, 63, 95); fill-opacity: 1; white-space: pre;\">25</text></g></g><g class=\"yaxislayer-above\"><g class=\"ytick\"><text text-anchor=\"end\" x=\"29\" y=\"4.199999999999999\" transform=\"translate(0,304.28)\" style=\"font-family: 'Open Sans', verdana, arial, sans-serif; font-size: 12px; fill: rgb(42, 63, 95); fill-opacity: 1; white-space: pre;\">−2</text></g><g class=\"ytick\"><text text-anchor=\"end\" x=\"29\" y=\"4.199999999999999\" transform=\"translate(0,238.24)\" style=\"font-family: 'Open Sans', verdana, arial, sans-serif; font-size: 12px; fill: rgb(42, 63, 95); fill-opacity: 1; white-space: pre;\">0</text></g><g class=\"ytick\"><text text-anchor=\"end\" x=\"29\" y=\"4.199999999999999\" transform=\"translate(0,172.2)\" style=\"font-family: 'Open Sans', verdana, arial, sans-serif; font-size: 12px; fill: rgb(42, 63, 95); fill-opacity: 1; white-space: pre;\">2</text></g><g class=\"ytick\"><text text-anchor=\"end\" x=\"29\" y=\"4.199999999999999\" transform=\"translate(0,106.16)\" style=\"font-family: 'Open Sans', verdana, arial, sans-serif; font-size: 12px; fill: rgb(42, 63, 95); fill-opacity: 1; white-space: pre;\">4</text></g></g><g class=\"overaxes-above\"/></g></g><g class=\"polarlayer\"/><g class=\"ternarylayer\"/><g class=\"geolayer\"/><g class=\"funnelarealayer\"/><g class=\"pielayer\"/><g class=\"treemaplayer\"/><g class=\"sunburstlayer\"/><g class=\"glimages\"/><defs id=\"topdefs-41b0cf\"><g class=\"clips\"/><clipPath id=\"legend41b0cf\"><rect width=\"481\" height=\"48\" x=\"0\" y=\"0\"/></clipPath></defs><g class=\"layer-above\"><g class=\"imagelayer\"/><g class=\"shapelayer\"/></g><g class=\"infolayer\"><g class=\"legend\" pointer-events=\"all\" transform=\"translate(189,11.899999999999991)\"><rect class=\"bg\" shape-rendering=\"crispEdges\" style=\"stroke: rgb(68, 68, 68); stroke-opacity: 1; fill: rgb(255, 255, 255); fill-opacity: 1; stroke-width: 0px;\" width=\"481\" height=\"48\" x=\"0\" y=\"0\"/><g class=\"scrollbox\" transform=\"\" clip-path=\"url('#legend41b0cf')\"><g class=\"groups\"><g class=\"traces\" transform=\"translate(0,14.5)\" style=\"opacity: 1;\"><text class=\"legendtext\" text-anchor=\"start\" x=\"40\" y=\"4.680000000000001\" style=\"font-family: 'Open Sans', verdana, arial, sans-serif; font-size: 12px; fill: rgb(42, 63, 95); fill-opacity: 1; white-space: pre;\">in_sample_hold</text><g class=\"layers\" style=\"opacity: 1;\"><g class=\"legendfill\"/><g class=\"legendlines\"><path class=\"js-line\" d=\"M5,0h30\" style=\"fill: none; stroke: rgb(31, 119, 180); stroke-opacity: 1; stroke-width: 2px;\"/></g><g class=\"legendsymbols\"><g class=\"legendpoints\"/></g></g><rect class=\"legendtoggle\" x=\"0\" y=\"-9.5\" width=\"137.34375\" height=\"19\" style=\"fill: rgb(0, 0, 0); fill-opacity: 0;\"/></g><g class=\"traces\" transform=\"translate(167.3125,14.5)\" style=\"opacity: 1;\"><text class=\"legendtext\" text-anchor=\"start\" x=\"40\" y=\"4.680000000000001\" style=\"font-family: 'Open Sans', verdana, arial, sans-serif; font-size: 12px; fill: rgb(42, 63, 95); fill-opacity: 1; white-space: pre;\">in_sample_median</text><g class=\"layers\" style=\"opacity: 1;\"><g class=\"legendfill\"/><g class=\"legendlines\"><path class=\"js-line\" d=\"M5,0h30\" style=\"fill: none; stroke: rgb(31, 119, 180); stroke-opacity: 1; stroke-dasharray: 9px, 9px; stroke-width: 2px;\"/></g><g class=\"legendsymbols\"><g class=\"legendpoints\"/></g></g><rect class=\"legendtoggle\" x=\"0\" y=\"-9.5\" width=\"156.09375\" height=\"19\" style=\"fill: rgb(0, 0, 0); fill-opacity: 0;\"/></g><g class=\"traces\" transform=\"translate(334.625,14.5)\" style=\"opacity: 1;\"><text class=\"legendtext\" text-anchor=\"start\" x=\"40\" y=\"4.680000000000001\" style=\"font-family: 'Open Sans', verdana, arial, sans-serif; font-size: 12px; fill: rgb(42, 63, 95); fill-opacity: 1; white-space: pre;\">in_sample_best</text><g class=\"layers\" style=\"opacity: 1;\"><g class=\"legendfill\"/><g class=\"legendlines\"><path class=\"js-line\" d=\"M5,0h30\" style=\"fill: none; stroke: rgb(31, 119, 180); stroke-opacity: 1; stroke-dasharray: 3px, 3px; stroke-width: 2px;\"/></g><g class=\"legendsymbols\"><g class=\"legendpoints\"/></g></g><rect class=\"legendtoggle\" x=\"0\" y=\"-9.5\" width=\"137.3125\" height=\"19\" style=\"fill: rgb(0, 0, 0); fill-opacity: 0;\"/></g><g class=\"traces\" transform=\"translate(0,33.5)\" style=\"opacity: 1;\"><text class=\"legendtext\" text-anchor=\"start\" x=\"40\" y=\"4.680000000000001\" style=\"font-family: 'Open Sans', verdana, arial, sans-serif; font-size: 12px; fill: rgb(42, 63, 95); fill-opacity: 1; white-space: pre;\">out_sample_hold</text><g class=\"layers\" style=\"opacity: 1;\"><g class=\"legendfill\"/><g class=\"legendlines\"><path class=\"js-line\" d=\"M5,0h30\" style=\"fill: none; stroke: rgb(255, 127, 14); stroke-opacity: 1; stroke-width: 2px;\"/></g><g class=\"legendsymbols\"><g class=\"legendpoints\"/></g></g><rect class=\"legendtoggle\" x=\"0\" y=\"-9.5\" width=\"146.0625\" height=\"19\" style=\"fill: rgb(0, 0, 0); fill-opacity: 0;\"/></g><g class=\"traces\" transform=\"translate(167.3125,33.5)\" style=\"opacity: 1;\"><text class=\"legendtext\" text-anchor=\"start\" x=\"40\" y=\"4.680000000000001\" style=\"font-family: 'Open Sans', verdana, arial, sans-serif; font-size: 12px; fill: rgb(42, 63, 95); fill-opacity: 1; white-space: pre;\">out_sample_median</text><g class=\"layers\" style=\"opacity: 1;\"><g class=\"legendfill\"/><g class=\"legendlines\"><path class=\"js-line\" d=\"M5,0h30\" style=\"fill: none; stroke: rgb(255, 127, 14); stroke-opacity: 1; stroke-dasharray: 9px, 9px; stroke-width: 2px;\"/></g><g class=\"legendsymbols\"><g class=\"legendpoints\"/></g></g><rect class=\"legendtoggle\" x=\"0\" y=\"-9.5\" width=\"164.8125\" height=\"19\" style=\"fill: rgb(0, 0, 0); fill-opacity: 0;\"/></g><g class=\"traces\" transform=\"translate(334.625,33.5)\" style=\"opacity: 1;\"><text class=\"legendtext\" text-anchor=\"start\" x=\"40\" y=\"4.680000000000001\" style=\"font-family: 'Open Sans', verdana, arial, sans-serif; font-size: 12px; fill: rgb(42, 63, 95); fill-opacity: 1; white-space: pre;\">out_sample_test</text><g class=\"layers\" style=\"opacity: 1;\"><g class=\"legendfill\"/><g class=\"legendlines\"><path class=\"js-line\" d=\"M5,0h30\" style=\"fill: none; stroke: rgb(255, 127, 14); stroke-opacity: 1; stroke-dasharray: 3px, 3px; stroke-width: 2px;\"/></g><g class=\"legendsymbols\"><g class=\"legendpoints\"/></g></g><rect class=\"legendtoggle\" x=\"0\" y=\"-9.5\" width=\"143.28125\" height=\"19\" style=\"fill: rgb(0, 0, 0); fill-opacity: 0;\"/></g></g></g><rect class=\"scrollbar\" rx=\"20\" ry=\"3\" width=\"0\" height=\"0\" style=\"fill: rgb(128, 139, 164); fill-opacity: 1;\" x=\"0\" y=\"0\"/></g><g class=\"g-gtitle\"/><g class=\"g-xtitle\"/><g class=\"g-ytitle\"/></g></svg>"
      ]
     },
     "metadata": {},
     "output_type": "display_data"
    }
   ],
   "source": [
    "color_schema = vbt.settings['plotting']['color_schema']\n",
    "\n",
    "cv_results_df.vbt.plot(\n",
    "    trace_kwargs=[\n",
    "        dict(line_color=color_schema['blue']),\n",
    "        dict(line_color=color_schema['blue'], line_dash='dash'),\n",
    "        dict(line_color=color_schema['blue'], line_dash='dot'),\n",
    "        dict(line_color=color_schema['orange']),\n",
    "        dict(line_color=color_schema['orange'], line_dash='dash'),\n",
    "        dict(line_color=color_schema['orange'], line_dash='dot')\n",
    "    ]\n",
    ").show_svg()"
   ]
  },
  {
   "cell_type": "code",
   "execution_count": null,
   "metadata": {},
   "outputs": [],
   "source": []
  }
 ],
 "metadata": {
  "kernelspec": {
   "display_name": "Python 3",
   "language": "python",
   "name": "python3"
  },
  "language_info": {
   "codemirror_mode": {
    "name": "ipython",
    "version": 3
   },
   "file_extension": ".py",
   "mimetype": "text/x-python",
   "name": "python",
   "nbconvert_exporter": "python",
   "pygments_lexer": "ipython3",
   "version": "3.7.3"
  }
 },
 "nbformat": 4,
 "nbformat_minor": 4
}
